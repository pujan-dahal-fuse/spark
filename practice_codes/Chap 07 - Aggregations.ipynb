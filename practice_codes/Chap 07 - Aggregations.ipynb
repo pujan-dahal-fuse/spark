{
 "cells": [
  {
   "cell_type": "markdown",
   "metadata": {
    "application/vnd.databricks.v1+cell": {
     "inputWidgets": {},
     "nuid": "cd6735c8-7d25-414d-b18f-d48b6b5db21e",
     "showTitle": false,
     "title": ""
    }
   },
   "source": [
    "* **Aggregation** function must produce one result for each group, given multiple input values.\n",
    "* Spark also allows us to create the following groupings types\n",
    "  * The **simplest grouping** is to just summarize a complete DataFrame by performing an aggregation in a select statement.\n",
    "  * A **group by** allows you to specify one or more keys as well as one or more aggregation functions to transform the value columns.\n",
    "  * A **window** gives you the ability to specify one or more keys as well as one or more aggregation functions to transform the value columns. However, the rows input to the function are somehow related to the current row.\n",
    "  * A **grouping set,** which you can use to aggregate at multiple different levels. Grouping sets are available as a primitive in SQL and via rollups and cubes in DataFrames.\n",
    "  * A **rollup** makes it possible for you to specify one or more keys as well as one or more aggregation functions to transform the value columns, which will be summarized hierarchically.\n",
    "  * A **cube** allows you to specify one or more keys as well as one or more aggregation functions to transform the value columns, which will be summarized across all combinations of columns.\n",
    "\n",
    "* Each grouping returns a RelationalGroupedDataset on which we specify our aggregations."
   ]
  },
  {
   "cell_type": "code",
   "execution_count": 3,
   "metadata": {
    "application/vnd.databricks.v1+cell": {
     "inputWidgets": {},
     "nuid": "bff97489-174a-4883-a8d8-0d93c0c86993",
     "showTitle": false,
     "title": ""
    }
   },
   "outputs": [
    {
     "name": "stdout",
     "output_type": "stream",
     "text": [
      "22/10/20 15:17:07 WARN Utils: Your hostname, tars resolves to a loopback address: 127.0.1.1; using 192.168.1.66 instead (on interface wlan0)\n",
      "22/10/20 15:17:07 WARN Utils: Set SPARK_LOCAL_IP if you need to bind to another address\n"
     ]
    },
    {
     "name": "stderr",
     "output_type": "stream",
     "text": [
      "Setting default log level to \"WARN\".\n",
      "To adjust logging level use sc.setLogLevel(newLevel). For SparkR, use setLogLevel(newLevel).\n"
     ]
    },
    {
     "name": "stdout",
     "output_type": "stream",
     "text": [
      "22/10/20 15:17:08 WARN NativeCodeLoader: Unable to load native-hadoop library for your platform... using builtin-java classes where applicable\n",
      "22/10/20 15:17:09 WARN Utils: Service 'SparkUI' could not bind on port 4040. Attempting port 4041.\n"
     ]
    }
   ],
   "source": [
    "import pyspark.sql.functions as F\n",
    "from pyspark.sql.window import Window\n",
    "from pyspark.sql import SparkSession\n",
    "\n",
    "spark = SparkSession.builder.appName('Aggregations').getOrCreate()"
   ]
  },
  {
   "cell_type": "markdown",
   "metadata": {
    "application/vnd.databricks.v1+cell": {
     "inputWidgets": {},
     "nuid": "dadf4889-4ce4-4768-88a6-de1dc73ba12c",
     "showTitle": false,
     "title": ""
    }
   },
   "source": [
    "Reading in our data on purchases, repartitioning the data to have far fewer partitions (because we know it’s a small volume of data stored in a lot of small files), and caching the results for rapid access"
   ]
  },
  {
   "cell_type": "code",
   "execution_count": 4,
   "metadata": {
    "application/vnd.databricks.v1+cell": {
     "inputWidgets": {},
     "nuid": "03473324-70c7-4fe7-acda-f278f68cc2d8",
     "showTitle": false,
     "title": ""
    }
   },
   "outputs": [],
   "source": [
    "df = spark.read.format(\"csv\")\\\n",
    ".option(\"header\",\"true\")\\\n",
    ".option(\"inferSchema\",\"true\")\\\n",
    ".load(\"data/*.csv\")\\\n",
    ".coalesce(5)\n",
    "\n",
    "df.cache()\n",
    "df.createOrReplaceTempView(\"dfTable\")"
   ]
  },
  {
   "cell_type": "code",
   "execution_count": 6,
   "metadata": {
    "application/vnd.databricks.v1+cell": {
     "inputWidgets": {},
     "nuid": "5cc5a14a-785d-4ee0-8f5f-18601a090483",
     "showTitle": false,
     "title": ""
    }
   },
   "outputs": [
    {
     "data": {
      "text/plain": [
       "1"
      ]
     },
     "execution_count": 6,
     "metadata": {},
     "output_type": "execute_result"
    }
   ],
   "source": [
    "df.rdd.getNumPartitions()"
   ]
  },
  {
   "cell_type": "code",
   "execution_count": 7,
   "metadata": {
    "application/vnd.databricks.v1+cell": {
     "inputWidgets": {},
     "nuid": "508e721f-b214-48b8-a02f-b8fe82c5b75d",
     "showTitle": false,
     "title": ""
    }
   },
   "outputs": [
    {
     "data": {
      "text/plain": [
       "3108"
      ]
     },
     "execution_count": 7,
     "metadata": {},
     "output_type": "execute_result"
    }
   ],
   "source": [
    "df.count()"
   ]
  },
  {
   "cell_type": "markdown",
   "metadata": {
    "application/vnd.databricks.v1+cell": {
     "inputWidgets": {},
     "nuid": "7b0bb25c-d784-468c-8251-e8b98247cb19",
     "showTitle": false,
     "title": ""
    }
   },
   "source": [
    "###### Count\n",
    "* specify a specific column to count, or \n",
    "* all the columns by using count(*) or count(1) to represent that we want to count every row as the literal one"
   ]
  },
  {
   "cell_type": "code",
   "execution_count": 8,
   "metadata": {
    "application/vnd.databricks.v1+cell": {
     "inputWidgets": {},
     "nuid": "6949348f-41bf-48c2-bea0-bd32abd427a1",
     "showTitle": false,
     "title": ""
    }
   },
   "outputs": [
    {
     "name": "stdout",
     "output_type": "stream",
     "text": [
      "+----------------+\n",
      "|count(StockCode)|\n",
      "+----------------+\n",
      "|            3108|\n",
      "+----------------+\n",
      "\n"
     ]
    }
   ],
   "source": [
    "from pyspark.sql.functions import count\n",
    "df.select(count(\"StockCode\")).show()"
   ]
  },
  {
   "cell_type": "markdown",
   "metadata": {
    "application/vnd.databricks.v1+cell": {
     "inputWidgets": {},
     "nuid": "e65a2bcb-cb67-41c7-9e97-ff45c1f77675",
     "showTitle": false,
     "title": ""
    }
   },
   "source": [
    "**Note:**\n",
    "\n",
    "when performing a count(*), Spark will count null values (including rows containing all nulls). \n",
    "However, when counting an individual column, Spark will not count the null values."
   ]
  },
  {
   "cell_type": "markdown",
   "metadata": {
    "application/vnd.databricks.v1+cell": {
     "inputWidgets": {},
     "nuid": "b413202e-4672-438e-825e-1c1c6bc5f6d7",
     "showTitle": false,
     "title": ""
    }
   },
   "source": [
    "**countDistinct:** To get the number of unique groups"
   ]
  },
  {
   "cell_type": "code",
   "execution_count": 9,
   "metadata": {
    "application/vnd.databricks.v1+cell": {
     "inputWidgets": {},
     "nuid": "fd7fb6a5-5ce8-45f4-8bc3-10da902ddc9a",
     "showTitle": false,
     "title": ""
    }
   },
   "outputs": [
    {
     "name": "stdout",
     "output_type": "stream",
     "text": [
      "+-------------------------+\n",
      "|count(DISTINCT StockCode)|\n",
      "+-------------------------+\n",
      "|                     1351|\n",
      "+-------------------------+\n",
      "\n"
     ]
    }
   ],
   "source": [
    "from pyspark.sql.functions import countDistinct\n",
    "\n",
    "df.select(countDistinct(\"StockCode\")).show()"
   ]
  },
  {
   "cell_type": "markdown",
   "metadata": {
    "application/vnd.databricks.v1+cell": {
     "inputWidgets": {},
     "nuid": "05ca8483-37b7-46dc-a1f0-a090ae6f013a",
     "showTitle": false,
     "title": ""
    }
   },
   "source": [
    "**approx_count_distinct:**\n",
    "\n",
    "* use this function when an approximation to a certain degree of accuracy will work just fine\n",
    "* Another parameter with which you can specify the maximum estimation error allowed.\n",
    "* We can see much performance with larger datasets. specifying the large error makes an answer that is quite far off but does complete more quickly than countDistinct"
   ]
  },
  {
   "cell_type": "code",
   "execution_count": 11,
   "metadata": {
    "application/vnd.databricks.v1+cell": {
     "inputWidgets": {},
     "nuid": "070ca119-6821-4cb4-83de-5c33e4b6487a",
     "showTitle": false,
     "title": ""
    }
   },
   "outputs": [
    {
     "name": "stdout",
     "output_type": "stream",
     "text": [
      "22/10/20 15:24:16 WARN package: Truncated the string representation of a plan since it was too large. This behavior can be adjusted by setting 'spark.sql.debug.maxToStringFields'.\n"
     ]
    },
    {
     "name": "stderr",
     "output_type": "stream",
     "text": [
      "\r",
      "[Stage 17:>                                                         (0 + 1) / 1]\r"
     ]
    },
    {
     "name": "stdout",
     "output_type": "stream",
     "text": [
      "+--------------------------------+\n",
      "|approx_count_distinct(StockCode)|\n",
      "+--------------------------------+\n",
      "|                            1359|\n",
      "+--------------------------------+\n",
      "\n"
     ]
    },
    {
     "name": "stderr",
     "output_type": "stream",
     "text": [
      "\r",
      "[Stage 19:>                                                         (0 + 1) / 1]\r",
      "\r",
      "                                                                                \r"
     ]
    }
   ],
   "source": [
    "from pyspark.sql.functions import approx_count_distinct\n",
    "df.select(approx_count_distinct(\"StockCode\",0.01)).show()"
   ]
  },
  {
   "cell_type": "code",
   "execution_count": 12,
   "metadata": {
    "application/vnd.databricks.v1+cell": {
     "inputWidgets": {},
     "nuid": "852e0d93-8738-4ae4-988b-92fa6f2b9be0",
     "showTitle": false,
     "title": ""
    }
   },
   "outputs": [
    {
     "name": "stdout",
     "output_type": "stream",
     "text": [
      "+--------------------------------+\n",
      "|approx_count_distinct(StockCode)|\n",
      "+--------------------------------+\n",
      "|                            1282|\n",
      "+--------------------------------+\n",
      "\n"
     ]
    }
   ],
   "source": [
    "df.select(approx_count_distinct(\"StockCode\")).show()"
   ]
  },
  {
   "cell_type": "markdown",
   "metadata": {
    "application/vnd.databricks.v1+cell": {
     "inputWidgets": {},
     "nuid": "69fa56eb-d990-4c40-aa21-7f1c87a84246",
     "showTitle": false,
     "title": ""
    }
   },
   "source": [
    "**first and last:**\n",
    "\n",
    "* Used to get the first and last values from a DataFrame.\n",
    "* This will be based on the rows in the DataFrame, not on the values in the DataFrame."
   ]
  },
  {
   "cell_type": "code",
   "execution_count": 13,
   "metadata": {
    "application/vnd.databricks.v1+cell": {
     "inputWidgets": {},
     "nuid": "26ae8adf-7961-4638-a09d-fec8ef4846c0",
     "showTitle": false,
     "title": ""
    }
   },
   "outputs": [
    {
     "name": "stdout",
     "output_type": "stream",
     "text": [
      "+----------------+---------------+\n",
      "|first(StockCode)|last(StockCode)|\n",
      "+----------------+---------------+\n",
      "|          85123A|          20755|\n",
      "+----------------+---------------+\n",
      "\n"
     ]
    }
   ],
   "source": [
    "from pyspark.sql.functions import first,last\n",
    "\n",
    "df.select(first(\"StockCode\"),last(\"StockCode\")).show()"
   ]
  },
  {
   "cell_type": "markdown",
   "metadata": {
    "application/vnd.databricks.v1+cell": {
     "inputWidgets": {},
     "nuid": "86933641-8006-41a1-a896-f595d799a125",
     "showTitle": false,
     "title": ""
    }
   },
   "source": [
    "**min and max:**\n",
    "\n",
    "use min and max to extract the minimum and maximum values from a DataFrame"
   ]
  },
  {
   "cell_type": "code",
   "execution_count": 14,
   "metadata": {
    "application/vnd.databricks.v1+cell": {
     "inputWidgets": {},
     "nuid": "15d85681-ff0c-42dc-a7e7-d870dca79614",
     "showTitle": false,
     "title": ""
    }
   },
   "outputs": [
    {
     "name": "stdout",
     "output_type": "stream",
     "text": [
      "+-------------+-------------+\n",
      "|min(Quantity)|max(Quantity)|\n",
      "+-------------+-------------+\n",
      "|          -24|          600|\n",
      "+-------------+-------------+\n",
      "\n"
     ]
    }
   ],
   "source": [
    "from pyspark.sql.functions import min,max\n",
    "\n",
    "df.select(min(\"Quantity\"),max(\"Quantity\")).show()"
   ]
  },
  {
   "cell_type": "code",
   "execution_count": 0,
   "metadata": {
    "application/vnd.databricks.v1+cell": {
     "inputWidgets": {},
     "nuid": "dcb4d52f-6027-4bed-a4d3-b2faf3a1932c",
     "showTitle": false,
     "title": ""
    }
   },
   "outputs": [
    {
     "data": {
      "text/html": [
       "<style scoped>\n",
       "  .ansiout {\n",
       "    display: block;\n",
       "    unicode-bidi: embed;\n",
       "    white-space: pre-wrap;\n",
       "    word-wrap: break-word;\n",
       "    word-break: break-all;\n",
       "    font-family: \"Source Code Pro\", \"Menlo\", monospace;;\n",
       "    font-size: 13px;\n",
       "    color: #555;\n",
       "    margin-left: 4px;\n",
       "    line-height: 19px;\n",
       "  }\n",
       "</style>\n",
       "<div class=\"ansiout\">+--------------+--------------+\n",
       "min(StockCode)|max(StockCode)|\n",
       "+--------------+--------------+\n",
       "         10002|             m|\n",
       "+--------------+--------------+\n",
       "\n",
       "</div>"
      ]
     },
     "metadata": {
      "application/vnd.databricks.v1+output": {
       "addedWidgets": {},
       "arguments": {},
       "data": "<div class=\"ansiout\">+--------------+--------------+\n|min(StockCode)|max(StockCode)|\n+--------------+--------------+\n|         10002|             m|\n+--------------+--------------+\n\n</div>",
       "datasetInfos": [],
       "metadata": {},
       "removedWidgets": [],
       "type": "html"
      }
     },
     "output_type": "display_data"
    }
   ],
   "source": [
    "df.select(min(\"StockCode\"),max(\"StockCode\")).show()"
   ]
  },
  {
   "cell_type": "markdown",
   "metadata": {
    "application/vnd.databricks.v1+cell": {
     "inputWidgets": {},
     "nuid": "1a7bfc15-b344-4d27-acf3-afa2823d3605",
     "showTitle": false,
     "title": ""
    }
   },
   "source": [
    "**SUM:**\n",
    "\n",
    "add all the values in a row using the sum function"
   ]
  },
  {
   "cell_type": "code",
   "execution_count": 15,
   "metadata": {
    "application/vnd.databricks.v1+cell": {
     "inputWidgets": {},
     "nuid": "4ba7268b-18b9-4f52-a66d-eff81149bc70",
     "showTitle": false,
     "title": ""
    }
   },
   "outputs": [
    {
     "name": "stdout",
     "output_type": "stream",
     "text": [
      "+-------------+\n",
      "|sum(Quantity)|\n",
      "+-------------+\n",
      "|        26814|\n",
      "+-------------+\n",
      "\n"
     ]
    }
   ],
   "source": [
    "from pyspark.sql.functions import sum\n",
    "\n",
    "df.select(sum(\"Quantity\")).show()"
   ]
  },
  {
   "cell_type": "markdown",
   "metadata": {
    "application/vnd.databricks.v1+cell": {
     "inputWidgets": {},
     "nuid": "00db81e2-b995-4eb8-8695-b46a404e8aa5",
     "showTitle": false,
     "title": ""
    }
   },
   "source": [
    "**sumDistinct:**\n",
    "By using this function, we can sum a distinct set of values"
   ]
  },
  {
   "cell_type": "code",
   "execution_count": 16,
   "metadata": {
    "application/vnd.databricks.v1+cell": {
     "inputWidgets": {},
     "nuid": "eb046b70-6a4a-4414-bfab-d4e6b1993cdb",
     "showTitle": false,
     "title": ""
    }
   },
   "outputs": [
    {
     "name": "stderr",
     "output_type": "stream",
     "text": [
      "/home/tars/.local/lib/python3.10/site-packages/pyspark/sql/functions.py:315: FutureWarning: Deprecated in 3.2, use sum_distinct instead.\n",
      "  warnings.warn(\"Deprecated in 3.2, use sum_distinct instead.\", FutureWarning)\n"
     ]
    },
    {
     "name": "stdout",
     "output_type": "stream",
     "text": [
      "+----------------------+\n",
      "|sum(DISTINCT Quantity)|\n",
      "+----------------------+\n",
      "|                  4690|\n",
      "+----------------------+\n",
      "\n"
     ]
    }
   ],
   "source": [
    "from pyspark.sql.functions import sumDistinct\n",
    "\n",
    "df.select(sumDistinct(\"Quantity\")).show()"
   ]
  },
  {
   "cell_type": "markdown",
   "metadata": {
    "application/vnd.databricks.v1+cell": {
     "inputWidgets": {},
     "nuid": "3d4bc27d-ffab-47be-b9b2-852bedba4abb",
     "showTitle": false,
     "title": ""
    }
   },
   "source": [
    "**avg:**\n",
    "Although you can calculate average by dividing sum by count, Spark provides an easier way to get that value via the avg or mean functions."
   ]
  },
  {
   "cell_type": "code",
   "execution_count": 17,
   "metadata": {
    "application/vnd.databricks.v1+cell": {
     "inputWidgets": {},
     "nuid": "6eff2682-b9ce-4c1c-951f-c57123e5aa2a",
     "showTitle": false,
     "title": ""
    }
   },
   "outputs": [
    {
     "name": "stdout",
     "output_type": "stream",
     "text": [
      "+--------------------------------------+-----------------+-----------------+\n",
      "|(total_purchases / total_transactions)|    avg_purchases|   mean_purchases|\n",
      "+--------------------------------------+-----------------+-----------------+\n",
      "|                     8.627413127413128|8.627413127413128|8.627413127413128|\n",
      "+--------------------------------------+-----------------+-----------------+\n",
      "\n"
     ]
    }
   ],
   "source": [
    "from pyspark.sql.functions import avg, expr\n",
    "\n",
    "df.select(\n",
    "         count(\"Quantity\").alias(\"total_transactions\"),\n",
    "         sum(\"Quantity\").alias(\"total_purchases\"),\n",
    "         avg(\"Quantity\").alias(\"avg_purchases\"),\n",
    "         expr(\"mean(Quantity)\").alias(\"mean_purchases\"))\\\n",
    "       .selectExpr(\n",
    "                  \"total_purchases/total_transactions\",\n",
    "                  \"avg_purchases\",\n",
    "                  \"mean_purchases\").show()"
   ]
  },
  {
   "cell_type": "markdown",
   "metadata": {
    "application/vnd.databricks.v1+cell": {
     "inputWidgets": {},
     "nuid": "e32f88c6-9b68-4c9c-ab57-dfcee8d8f112",
     "showTitle": false,
     "title": ""
    }
   },
   "source": [
    "**Variance and Standard Deviation:**\n",
    "\n",
    "Spark has both the formula for the sample standard deviation as well as the formula for the population standard deviation."
   ]
  },
  {
   "cell_type": "code",
   "execution_count": 18,
   "metadata": {
    "application/vnd.databricks.v1+cell": {
     "inputWidgets": {},
     "nuid": "65f288fe-67ab-4ab2-aadf-4b6440a15e1a",
     "showTitle": false,
     "title": ""
    }
   },
   "outputs": [
    {
     "name": "stdout",
     "output_type": "stream",
     "text": [
      "+-----------------+------------------+--------------------+---------------------+\n",
      "|var_pop(Quantity)|var_samp(Quantity)|stddev_pop(Quantity)|stddev_samp(Quantity)|\n",
      "+-----------------+------------------+--------------------+---------------------+\n",
      "|695.2492099104054| 695.4729785650273|  26.367578764657278|   26.371821677029203|\n",
      "+-----------------+------------------+--------------------+---------------------+\n",
      "\n"
     ]
    }
   ],
   "source": [
    "from pyspark.sql.functions import var_pop, stddev_pop\n",
    "from pyspark.sql.functions import var_samp, stddev_samp\n",
    "\n",
    "df.select(var_pop(\"Quantity\"), var_samp(\"Quantity\"),stddev_pop(\"Quantity\"), stddev_samp(\"Quantity\")).show()"
   ]
  },
  {
   "cell_type": "markdown",
   "metadata": {
    "application/vnd.databricks.v1+cell": {
     "inputWidgets": {},
     "nuid": "f9d16522-d6f2-4b27-b4c1-c1f74f8d3c63",
     "showTitle": false,
     "title": ""
    }
   },
   "source": [
    "**skewness and kurtosis:**\n",
    "\n",
    "* Skewness measures the asymmetry of the values in your data around the mean.\n",
    "* kurtosis is a measure of the tail of data."
   ]
  },
  {
   "cell_type": "code",
   "execution_count": 19,
   "metadata": {
    "application/vnd.databricks.v1+cell": {
     "inputWidgets": {},
     "nuid": "02b1fe99-5419-48d0-9044-1b160205b00c",
     "showTitle": false,
     "title": ""
    }
   },
   "outputs": [
    {
     "name": "stdout",
     "output_type": "stream",
     "text": [
      "+------------------+------------------+\n",
      "|skewness(Quantity)|kurtosis(Quantity)|\n",
      "+------------------+------------------+\n",
      "|11.384721296581182|182.91886804842397|\n",
      "+------------------+------------------+\n",
      "\n"
     ]
    }
   ],
   "source": [
    "from pyspark.sql.functions import skewness, kurtosis\n",
    "\n",
    "df.select(skewness(\"Quantity\"), kurtosis(\"Quantity\")).show()"
   ]
  },
  {
   "cell_type": "markdown",
   "metadata": {
    "application/vnd.databricks.v1+cell": {
     "inputWidgets": {},
     "nuid": "b5ea6d07-2cc2-4255-9606-9d5a41af531c",
     "showTitle": false,
     "title": ""
    }
   },
   "source": [
    "**Covariance and Correlation:**\n",
    "\n",
    "* Correlation measures the Pearson correlation coefficient, which is scaled between –1 and +1.\n",
    "* The covariance is scaled according to the inputs in the data\n",
    "* Covariance can be calculated either as the sample covariance or the population covariance."
   ]
  },
  {
   "cell_type": "code",
   "execution_count": 20,
   "metadata": {
    "application/vnd.databricks.v1+cell": {
     "inputWidgets": {},
     "nuid": "7afa977f-f0d1-409e-ac9e-53d422378e29",
     "showTitle": false,
     "title": ""
    }
   },
   "outputs": [
    {
     "name": "stdout",
     "output_type": "stream",
     "text": [
      "+-------------------------+-------------------------------+------------------------------+\n",
      "|corr(InvoiceNo, Quantity)|covar_samp(InvoiceNo, Quantity)|covar_pop(InvoiceNo, Quantity)|\n",
      "+-------------------------+-------------------------------+------------------------------+\n",
      "|     -0.12225395743668731|            -235.56327681311157|            -235.4868448608685|\n",
      "+-------------------------+-------------------------------+------------------------------+\n",
      "\n"
     ]
    }
   ],
   "source": [
    "from pyspark.sql.functions import corr, covar_pop, covar_samp\n",
    "\n",
    "df.select(corr(\"InvoiceNo\", \"Quantity\"), covar_samp(\"InvoiceNo\", \"Quantity\"),covar_pop(\"InvoiceNo\", \"Quantity\")).show()"
   ]
  },
  {
   "cell_type": "markdown",
   "metadata": {
    "application/vnd.databricks.v1+cell": {
     "inputWidgets": {},
     "nuid": "76c11573-b54d-47c2-9ccc-9c7f1b01256a",
     "showTitle": false,
     "title": ""
    }
   },
   "source": [
    "**Aggregating to Complex Types:**\n",
    "In Spark, you can perform aggregations not just of numerical values using formulas, you can also perform them on complex types. \n",
    "\n",
    "For example, we can collect a list of values present in a given column or only the unique values by collecting to a set."
   ]
  },
  {
   "cell_type": "code",
   "execution_count": 21,
   "metadata": {
    "application/vnd.databricks.v1+cell": {
     "inputWidgets": {},
     "nuid": "e81ed987-2202-42a3-9c9c-6962d2466f38",
     "showTitle": false,
     "title": ""
    }
   },
   "outputs": [
    {
     "name": "stdout",
     "output_type": "stream",
     "text": [
      "+--------------------+---------------------+\n",
      "|collect_set(Country)|collect_list(Country)|\n",
      "+--------------------+---------------------+\n",
      "|[France, Australi...| [United Kingdom, ...|\n",
      "+--------------------+---------------------+\n",
      "\n",
      "22/10/20 19:28:20 WARN HeartbeatReceiver: Removing executor driver with no recent heartbeats: 4131223 ms exceeds timeout 120000 ms\n",
      "22/10/20 19:28:20 WARN SparkContext: Killing executors is not supported by current scheduler.\n"
     ]
    }
   ],
   "source": [
    "from pyspark.sql.functions import collect_set, collect_list\n",
    "\n",
    "df.agg(collect_set(\"Country\"), collect_list(\"Country\")).show()"
   ]
  },
  {
   "cell_type": "markdown",
   "metadata": {
    "application/vnd.databricks.v1+cell": {
     "inputWidgets": {},
     "nuid": "30e1bac6-232d-4268-be87-f49bc0c957ad",
     "showTitle": false,
     "title": ""
    }
   },
   "source": [
    "###### Grouping\n",
    "This will be done as group our data on one column and perform some calculations on the other columns that end up in that group.\n",
    "We will group by each unique invoice number and get the count of items on that invoice. This will be done in 2 phases\n",
    "\n",
    "* First we specify the column(s) on which we would like to group. This returns **Relatational Grouped Dataset.**\n",
    "* then we specify the aggregation(s).This step returns **DataFrame.**"
   ]
  },
  {
   "cell_type": "code",
   "execution_count": 0,
   "metadata": {
    "application/vnd.databricks.v1+cell": {
     "inputWidgets": {},
     "nuid": "b6e8d26c-4c21-47e7-af79-e95359d26ea9",
     "showTitle": false,
     "title": ""
    }
   },
   "outputs": [
    {
     "data": {
      "text/html": [
       "<style scoped>\n",
       "  .ansiout {\n",
       "    display: block;\n",
       "    unicode-bidi: embed;\n",
       "    white-space: pre-wrap;\n",
       "    word-wrap: break-word;\n",
       "    word-break: break-all;\n",
       "    font-family: \"Source Code Pro\", \"Menlo\", monospace;;\n",
       "    font-size: 13px;\n",
       "    color: #555;\n",
       "    margin-left: 4px;\n",
       "    line-height: 19px;\n",
       "  }\n",
       "</style>\n",
       "<div class=\"ansiout\">Out[18]: &lt;pyspark.sql.group.GroupedData at 0x7fb9992a4be0&gt;</div>"
      ]
     },
     "metadata": {
      "application/vnd.databricks.v1+output": {
       "addedWidgets": {},
       "arguments": {},
       "data": "<div class=\"ansiout\">Out[18]: &lt;pyspark.sql.group.GroupedData at 0x7fb9992a4be0&gt;</div>",
       "datasetInfos": [],
       "metadata": {},
       "removedWidgets": [],
       "type": "html"
      }
     },
     "output_type": "display_data"
    }
   ],
   "source": [
    "df.groupBy(\"InvoiceNo\",\"CustomerId\")"
   ]
  },
  {
   "cell_type": "code",
   "execution_count": 0,
   "metadata": {
    "application/vnd.databricks.v1+cell": {
     "inputWidgets": {},
     "nuid": "e1826ce6-262a-435b-806a-bafc40253715",
     "showTitle": false,
     "title": ""
    }
   },
   "outputs": [
    {
     "data": {
      "text/html": [
       "<style scoped>\n",
       "  .ansiout {\n",
       "    display: block;\n",
       "    unicode-bidi: embed;\n",
       "    white-space: pre-wrap;\n",
       "    word-wrap: break-word;\n",
       "    word-break: break-all;\n",
       "    font-family: \"Source Code Pro\", \"Menlo\", monospace;;\n",
       "    font-size: 13px;\n",
       "    color: #555;\n",
       "    margin-left: 4px;\n",
       "    line-height: 19px;\n",
       "  }\n",
       "</style>\n",
       "<div class=\"ansiout\">+---------+----------+-----+\n",
       "InvoiceNo|CustomerId|count|\n",
       "+---------+----------+-----+\n",
       "   580657|   14696.0|   20|\n",
       "   581474|   12748.0|   24|\n",
       "   576641|   17549.0|    4|\n",
       "   575753|   17841.0|   80|\n",
       "+---------+----------+-----+\n",
       "only showing top 4 rows\n",
       "\n",
       "</div>"
      ]
     },
     "metadata": {
      "application/vnd.databricks.v1+output": {
       "addedWidgets": {},
       "arguments": {},
       "data": "<div class=\"ansiout\">+---------+----------+-----+\n|InvoiceNo|CustomerId|count|\n+---------+----------+-----+\n|   580657|   14696.0|   20|\n|   581474|   12748.0|   24|\n|   576641|   17549.0|    4|\n|   575753|   17841.0|   80|\n+---------+----------+-----+\nonly showing top 4 rows\n\n</div>",
       "datasetInfos": [],
       "metadata": {},
       "removedWidgets": [],
       "type": "html"
      }
     },
     "output_type": "display_data"
    }
   ],
   "source": [
    "df.groupBy(\"InvoiceNo\",\"CustomerId\").count().show(4)"
   ]
  },
  {
   "cell_type": "markdown",
   "metadata": {
    "application/vnd.databricks.v1+cell": {
     "inputWidgets": {},
     "nuid": "8fb9d747-dcee-47d4-a269-ea145081a93b",
     "showTitle": false,
     "title": ""
    }
   },
   "source": [
    "**Grouping with Expressions:**\n",
    "Rather than passing count() function as an expression into a select statement, we specify it as within agg. This makes it possible for you to pass-in arbitrary expressions that just need to have some aggregations specified"
   ]
  },
  {
   "cell_type": "code",
   "execution_count": 0,
   "metadata": {
    "application/vnd.databricks.v1+cell": {
     "inputWidgets": {},
     "nuid": "1ef29650-497b-442f-aa9c-a506d9704e5b",
     "showTitle": false,
     "title": ""
    }
   },
   "outputs": [
    {
     "data": {
      "text/html": [
       "<style scoped>\n",
       "  .ansiout {\n",
       "    display: block;\n",
       "    unicode-bidi: embed;\n",
       "    white-space: pre-wrap;\n",
       "    word-wrap: break-word;\n",
       "    word-break: break-all;\n",
       "    font-family: \"Source Code Pro\", \"Menlo\", monospace;;\n",
       "    font-size: 13px;\n",
       "    color: #555;\n",
       "    margin-left: 4px;\n",
       "    line-height: 19px;\n",
       "  }\n",
       "</style>\n",
       "<div class=\"ansiout\">+---------+----+---------------+\n",
       "InvoiceNo|quan|count(Quantity)|\n",
       "+---------+----+---------------+\n",
       "   574966|   8|              8|\n",
       "   575091|  38|             38|\n",
       "+---------+----+---------------+\n",
       "only showing top 2 rows\n",
       "\n",
       "</div>"
      ]
     },
     "metadata": {
      "application/vnd.databricks.v1+output": {
       "addedWidgets": {},
       "arguments": {},
       "data": "<div class=\"ansiout\">+---------+----+---------------+\n|InvoiceNo|quan|count(Quantity)|\n+---------+----+---------------+\n|   574966|   8|              8|\n|   575091|  38|             38|\n+---------+----+---------------+\nonly showing top 2 rows\n\n</div>",
       "datasetInfos": [],
       "metadata": {},
       "removedWidgets": [],
       "type": "html"
      }
     },
     "output_type": "display_data"
    }
   ],
   "source": [
    "df.groupBy(\"InvoiceNo\").agg(\\\n",
    "                           count(\"Quantity\").alias(\"quan\"),\n",
    "                           expr(\"count(Quantity)\")).show(2)"
   ]
  },
  {
   "cell_type": "markdown",
   "metadata": {
    "application/vnd.databricks.v1+cell": {
     "inputWidgets": {},
     "nuid": "b8db3aa2-c2b2-4f77-8350-179193ea13a7",
     "showTitle": false,
     "title": ""
    }
   },
   "source": [
    "**Grouping with Maps:**\n",
    "Sometimes it can be easier to specify your transformations as a series of Maps for which the key is the column and the value is the aggregation function. \n",
    "\n",
    "You can reuse multiple column names if you specify them inline."
   ]
  },
  {
   "cell_type": "code",
   "execution_count": 0,
   "metadata": {
    "application/vnd.databricks.v1+cell": {
     "inputWidgets": {},
     "nuid": "3d871d7e-b9c0-405a-a459-8ebdf2bdd0ae",
     "showTitle": false,
     "title": ""
    }
   },
   "outputs": [
    {
     "data": {
      "text/html": [
       "<style scoped>\n",
       "  .ansiout {\n",
       "    display: block;\n",
       "    unicode-bidi: embed;\n",
       "    white-space: pre-wrap;\n",
       "    word-wrap: break-word;\n",
       "    word-break: break-all;\n",
       "    font-family: \"Source Code Pro\", \"Menlo\", monospace;;\n",
       "    font-size: 13px;\n",
       "    color: #555;\n",
       "    margin-left: 4px;\n",
       "    line-height: 19px;\n",
       "  }\n",
       "</style>\n",
       "<div class=\"ansiout\">+---------+------------------+--------------------+---------------+\n",
       "InvoiceNo|     avg(Quantity)|stddev_pop(Quantity)|count(Quantity)|\n",
       "+---------+------------------+--------------------+---------------+\n",
       "   574966|               6.0|   3.640054944640259|              8|\n",
       "   575091|11.552631578947368|   5.008925551458656|             38|\n",
       "   578057| 4.607142857142857|   8.755974636597271|             28|\n",
       "+---------+------------------+--------------------+---------------+\n",
       "only showing top 3 rows\n",
       "\n",
       "</div>"
      ]
     },
     "metadata": {
      "application/vnd.databricks.v1+output": {
       "addedWidgets": {},
       "arguments": {},
       "data": "<div class=\"ansiout\">+---------+------------------+--------------------+---------------+\n|InvoiceNo|     avg(Quantity)|stddev_pop(Quantity)|count(Quantity)|\n+---------+------------------+--------------------+---------------+\n|   574966|               6.0|   3.640054944640259|              8|\n|   575091|11.552631578947368|   5.008925551458656|             38|\n|   578057| 4.607142857142857|   8.755974636597271|             28|\n+---------+------------------+--------------------+---------------+\nonly showing top 3 rows\n\n</div>",
       "datasetInfos": [],
       "metadata": {},
       "removedWidgets": [],
       "type": "html"
      }
     },
     "output_type": "display_data"
    }
   ],
   "source": [
    "df.groupBy(\"InvoiceNo\").agg(\\\n",
    "                           expr(\"avg(Quantity)\"),\n",
    "                           expr(\"stddev_pop(Quantity)\"),\n",
    "                           expr(\"count(Quantity)\")).show(3)"
   ]
  },
  {
   "cell_type": "markdown",
   "metadata": {
    "application/vnd.databricks.v1+cell": {
     "inputWidgets": {},
     "nuid": "2f4fb460-a65e-455b-b963-e18f269bc427",
     "showTitle": false,
     "title": ""
    }
   },
   "source": [
    "###### Window Functions:\n",
    "\n",
    "window functions are used to carry out some unique aggregations by either computing some aggregation on a specific **window** of data, which you define by using a reference to the current data.\n",
    "\n",
    "This window specification determines which rows will be passed in to this function.\n",
    "\n",
    "A groupBy takes data, and every row can go only into one grouping. A window function calculates a return value for every input row of a table based on group of rows, called a frame. Each row fall into one or more frames.\n",
    "\n",
    "Spark supports three kinds of window functions:\n",
    "* ranking functions - Rank, Dense_Rank, Row_Number etc..,\n",
    "* analytic functions - Lead, Lag,First_value,Last_value etc..,\n",
    "* aggregate functions- sum,avg,count,min,max etc..,\n",
    "\n",
    "OVER clause defines the partitioning and ordering of rows(i.e a window) for the above functions to operate on. Hence these functions are called window functions. The OVER clause accepts the following three arguments to define a window for these functions to operate on.\n",
    "\n",
    "* ORDERBY - Defines the logical order of the rows\n",
    "* PARTITION BY - Divides the query result set in to partitions. The window function is applied to each partition separately.\n",
    "* ROWS or RANGE Clause - Further limits the rows within the partition by specifying start and end points within the partition"
   ]
  },
  {
   "cell_type": "code",
   "execution_count": 0,
   "metadata": {
    "application/vnd.databricks.v1+cell": {
     "inputWidgets": {},
     "nuid": "1dea40d7-4f52-4381-ba7e-0f4ee29f89cb",
     "showTitle": false,
     "title": ""
    }
   },
   "outputs": [
    {
     "data": {
      "text/html": [
       "<style scoped>\n",
       "  .ansiout {\n",
       "    display: block;\n",
       "    unicode-bidi: embed;\n",
       "    white-space: pre-wrap;\n",
       "    word-wrap: break-word;\n",
       "    word-break: break-all;\n",
       "    font-family: \"Source Code Pro\", \"Menlo\", monospace;;\n",
       "    font-size: 13px;\n",
       "    color: #555;\n",
       "    margin-left: 4px;\n",
       "    line-height: 19px;\n",
       "  }\n",
       "</style>\n",
       "<div class=\"ansiout\"></div>"
      ]
     },
     "metadata": {
      "application/vnd.databricks.v1+output": {
       "addedWidgets": {},
       "arguments": {},
       "data": "<div class=\"ansiout\"></div>",
       "datasetInfos": [
        {
         "name": "dfWithDate",
         "schema": {
          "fields": [
           {
            "metadata": {},
            "name": "InvoiceNo",
            "nullable": true,
            "type": "string"
           },
           {
            "metadata": {},
            "name": "StockCode",
            "nullable": true,
            "type": "string"
           },
           {
            "metadata": {},
            "name": "Description",
            "nullable": true,
            "type": "string"
           },
           {
            "metadata": {},
            "name": "Quantity",
            "nullable": true,
            "type": "integer"
           },
           {
            "metadata": {},
            "name": "InvoiceDate",
            "nullable": true,
            "type": "timestamp"
           },
           {
            "metadata": {},
            "name": "UnitPrice",
            "nullable": true,
            "type": "double"
           },
           {
            "metadata": {},
            "name": "CustomerID",
            "nullable": true,
            "type": "double"
           },
           {
            "metadata": {},
            "name": "Country",
            "nullable": true,
            "type": "string"
           },
           {
            "metadata": {},
            "name": "date",
            "nullable": true,
            "type": "date"
           }
          ],
          "type": "struct"
         },
         "tableIdentifier": null,
         "typeStr": "pyspark.sql.dataframe.DataFrame"
        }
       ],
       "metadata": {},
       "removedWidgets": [],
       "type": "html"
      }
     },
     "output_type": "display_data"
    }
   ],
   "source": [
    "from pyspark.sql.functions import to_date,col\n",
    "\n",
    "dfWithDate = df.withColumn(\"date\",to_date(col(\"InvoiceDate\"),\"MM/d/YYYY H:mm\"))\n",
    "dfWithDate.createOrReplaceTempView(\"dfWithDate\")"
   ]
  },
  {
   "cell_type": "code",
   "execution_count": 0,
   "metadata": {
    "application/vnd.databricks.v1+cell": {
     "inputWidgets": {},
     "nuid": "c5b08750-d4bf-4ec5-9938-08011382a9f0",
     "showTitle": false,
     "title": ""
    }
   },
   "outputs": [
    {
     "data": {
      "text/html": [
       "<style scoped>\n",
       "  .ansiout {\n",
       "    display: block;\n",
       "    unicode-bidi: embed;\n",
       "    white-space: pre-wrap;\n",
       "    word-wrap: break-word;\n",
       "    word-break: break-all;\n",
       "    font-family: \"Source Code Pro\", \"Menlo\", monospace;;\n",
       "    font-size: 13px;\n",
       "    color: #555;\n",
       "    margin-left: 4px;\n",
       "    line-height: 19px;\n",
       "  }\n",
       "</style>\n",
       "<div class=\"ansiout\"></div>"
      ]
     },
     "metadata": {
      "application/vnd.databricks.v1+output": {
       "addedWidgets": {},
       "arguments": {},
       "data": "<div class=\"ansiout\"></div>",
       "datasetInfos": [],
       "metadata": {},
       "removedWidgets": [],
       "type": "html"
      }
     },
     "output_type": "display_data"
    }
   ],
   "source": [
    "from pyspark.sql.window import Window\n",
    "from pyspark.sql.functions import desc\n",
    "\n",
    "windowSpec = Window.partitionBy(\"CustomerId\",\"date\")\\\n",
    "                   .orderBy(desc(\"Quantity\"))\\\n",
    "                   .rowsBetween(Window.unboundedPreceding, Window.currentRow)\n"
   ]
  },
  {
   "cell_type": "markdown",
   "metadata": {
    "application/vnd.databricks.v1+cell": {
     "inputWidgets": {},
     "nuid": "1da4421a-8a65-4200-8a68-e7f11164be6d",
     "showTitle": false,
     "title": ""
    }
   },
   "source": [
    "We need aggregate function to learn more about each specific customer. ex: maximum purchase quantity over all time"
   ]
  },
  {
   "cell_type": "code",
   "execution_count": 0,
   "metadata": {
    "application/vnd.databricks.v1+cell": {
     "inputWidgets": {},
     "nuid": "013f3203-95a0-4546-8ef8-e7bd067bb10a",
     "showTitle": false,
     "title": ""
    }
   },
   "outputs": [
    {
     "data": {
      "text/html": [
       "<style scoped>\n",
       "  .ansiout {\n",
       "    display: block;\n",
       "    unicode-bidi: embed;\n",
       "    white-space: pre-wrap;\n",
       "    word-wrap: break-word;\n",
       "    word-break: break-all;\n",
       "    font-family: \"Source Code Pro\", \"Menlo\", monospace;;\n",
       "    font-size: 13px;\n",
       "    color: #555;\n",
       "    margin-left: 4px;\n",
       "    line-height: 19px;\n",
       "  }\n",
       "</style>\n",
       "<div class=\"ansiout\"></div>"
      ]
     },
     "metadata": {
      "application/vnd.databricks.v1+output": {
       "addedWidgets": {},
       "arguments": {},
       "data": "<div class=\"ansiout\"></div>",
       "datasetInfos": [],
       "metadata": {},
       "removedWidgets": [],
       "type": "html"
      }
     },
     "output_type": "display_data"
    }
   ],
   "source": [
    "import pyspark.sql.functions as F"
   ]
  },
  {
   "cell_type": "code",
   "execution_count": 0,
   "metadata": {
    "application/vnd.databricks.v1+cell": {
     "inputWidgets": {},
     "nuid": "a24d78c0-c212-49fa-a0b5-b531c2e82142",
     "showTitle": false,
     "title": ""
    }
   },
   "outputs": [
    {
     "data": {
      "text/html": [
       "<style scoped>\n",
       "  .ansiout {\n",
       "    display: block;\n",
       "    unicode-bidi: embed;\n",
       "    white-space: pre-wrap;\n",
       "    word-wrap: break-word;\n",
       "    word-break: break-all;\n",
       "    font-family: \"Source Code Pro\", \"Menlo\", monospace;;\n",
       "    font-size: 13px;\n",
       "    color: #555;\n",
       "    margin-left: 4px;\n",
       "    line-height: 19px;\n",
       "  }\n",
       "</style>\n",
       "<div class=\"ansiout\">Out[31]: Column&lt;b&#39;max(Quantity) OVER (PARTITION BY CustomerId, date ORDER BY Quantity DESC NULLS LAST ROWS BETWEEN UNBOUNDED PRECEDING AND CURRENT ROW)&#39;&gt;</div>"
      ]
     },
     "metadata": {
      "application/vnd.databricks.v1+output": {
       "addedWidgets": {},
       "arguments": {},
       "data": "<div class=\"ansiout\">Out[31]: Column&lt;b&#39;max(Quantity) OVER (PARTITION BY CustomerId, date ORDER BY Quantity DESC NULLS LAST ROWS BETWEEN UNBOUNDED PRECEDING AND CURRENT ROW)&#39;&gt;</div>",
       "datasetInfos": [],
       "metadata": {},
       "removedWidgets": [],
       "type": "html"
      }
     },
     "output_type": "display_data"
    }
   ],
   "source": [
    "from pyspark.sql.functions import max\n",
    "maxPurchaseQuantity = F.max(F.col(\"Quantity\")).over(windowSpec)\n",
    "maxPurchaseQuantity"
   ]
  },
  {
   "cell_type": "markdown",
   "metadata": {
    "application/vnd.databricks.v1+cell": {
     "inputWidgets": {},
     "nuid": "842a2e72-0ffc-40d2-8e37-33cf8707cc5d",
     "showTitle": false,
     "title": ""
    }
   },
   "source": [
    "create the purchase quantity rank. For that, we use the **dense_rank** function to determine which date had the maximum purchase quantity\n",
    "for every customer.\n",
    "\n",
    "We use dense_rank as opposed to rank to avoid gaps in the ranking sequence when there are tied values"
   ]
  },
  {
   "cell_type": "code",
   "execution_count": 0,
   "metadata": {
    "application/vnd.databricks.v1+cell": {
     "inputWidgets": {},
     "nuid": "49ef2112-34c9-4f1d-8930-89624dca9064",
     "showTitle": false,
     "title": ""
    }
   },
   "outputs": [
    {
     "data": {
      "text/html": [
       "<style scoped>\n",
       "  .ansiout {\n",
       "    display: block;\n",
       "    unicode-bidi: embed;\n",
       "    white-space: pre-wrap;\n",
       "    word-wrap: break-word;\n",
       "    word-break: break-all;\n",
       "    font-family: \"Source Code Pro\", \"Menlo\", monospace;;\n",
       "    font-size: 13px;\n",
       "    color: #555;\n",
       "    margin-left: 4px;\n",
       "    line-height: 19px;\n",
       "  }\n",
       "</style>\n",
       "<div class=\"ansiout\"></div>"
      ]
     },
     "metadata": {
      "application/vnd.databricks.v1+output": {
       "addedWidgets": {},
       "arguments": {},
       "data": "<div class=\"ansiout\"></div>",
       "datasetInfos": [],
       "metadata": {},
       "removedWidgets": [],
       "type": "html"
      }
     },
     "output_type": "display_data"
    }
   ],
   "source": [
    "from pyspark.sql.functions import dense_rank, rank\n",
    "\n",
    "purchaseDenseRank = dense_rank().over(windowSpec)\n",
    "purchaseRank = rank().over(windowSpec)"
   ]
  },
  {
   "cell_type": "code",
   "execution_count": 0,
   "metadata": {
    "application/vnd.databricks.v1+cell": {
     "inputWidgets": {},
     "nuid": "2ca217d6-f117-42fd-b7e6-6282ff4ce40f",
     "showTitle": false,
     "title": ""
    }
   },
   "outputs": [
    {
     "data": {
      "text/html": [
       "<style scoped>\n",
       "  .ansiout {\n",
       "    display: block;\n",
       "    unicode-bidi: embed;\n",
       "    white-space: pre-wrap;\n",
       "    word-wrap: break-word;\n",
       "    word-break: break-all;\n",
       "    font-family: \"Source Code Pro\", \"Menlo\", monospace;;\n",
       "    font-size: 13px;\n",
       "    color: #555;\n",
       "    margin-left: 4px;\n",
       "    line-height: 19px;\n",
       "  }\n",
       "</style>\n",
       "<div class=\"ansiout\">+----------+----------+--------+------------+-----------------+-------------------+\n",
       "CustomerId|      date|Quantity|quantityRank|quantityDenseRank|maxPurchaseQuantity|\n",
       "+----------+----------+--------+------------+-----------------+-------------------+\n",
       "   12346.0|2011-01-18|   74215|           1|                1|              74215|\n",
       "   12346.0|2011-01-18|  -74215|           2|                2|              74215|\n",
       "   12347.0|2010-12-07|      36|           1|                1|                 36|\n",
       "   12347.0|2010-12-07|      30|           2|                2|                 36|\n",
       "   12347.0|2010-12-07|      24|           3|                3|                 36|\n",
       "   12347.0|2010-12-07|      12|           4|                4|                 36|\n",
       "   12347.0|2010-12-07|      12|           4|                4|                 36|\n",
       "   12347.0|2010-12-07|      12|           4|                4|                 36|\n",
       "   12347.0|2010-12-07|      12|           4|                4|                 36|\n",
       "   12347.0|2010-12-07|      12|           4|                4|                 36|\n",
       "   12347.0|2010-12-07|      12|           4|                4|                 36|\n",
       "   12347.0|2010-12-07|      12|           4|                4|                 36|\n",
       "   12347.0|2010-12-07|      12|           4|                4|                 36|\n",
       "   12347.0|2010-12-07|      12|           4|                4|                 36|\n",
       "   12347.0|2010-12-07|      12|           4|                4|                 36|\n",
       "   12347.0|2010-12-07|      12|           4|                4|                 36|\n",
       "   12347.0|2010-12-07|      12|           4|                4|                 36|\n",
       "   12347.0|2010-12-07|      12|           4|                4|                 36|\n",
       "   12347.0|2010-12-07|       6|          17|                5|                 36|\n",
       "   12347.0|2010-12-07|       6|          17|                5|                 36|\n",
       "+----------+----------+--------+------------+-----------------+-------------------+\n",
       "only showing top 20 rows\n",
       "\n",
       "</div>"
      ]
     },
     "metadata": {
      "application/vnd.databricks.v1+output": {
       "addedWidgets": {},
       "arguments": {},
       "data": "<div class=\"ansiout\">+----------+----------+--------+------------+-----------------+-------------------+\n|CustomerId|      date|Quantity|quantityRank|quantityDenseRank|maxPurchaseQuantity|\n+----------+----------+--------+------------+-----------------+-------------------+\n|   12346.0|2011-01-18|   74215|           1|                1|              74215|\n|   12346.0|2011-01-18|  -74215|           2|                2|              74215|\n|   12347.0|2010-12-07|      36|           1|                1|                 36|\n|   12347.0|2010-12-07|      30|           2|                2|                 36|\n|   12347.0|2010-12-07|      24|           3|                3|                 36|\n|   12347.0|2010-12-07|      12|           4|                4|                 36|\n|   12347.0|2010-12-07|      12|           4|                4|                 36|\n|   12347.0|2010-12-07|      12|           4|                4|                 36|\n|   12347.0|2010-12-07|      12|           4|                4|                 36|\n|   12347.0|2010-12-07|      12|           4|                4|                 36|\n|   12347.0|2010-12-07|      12|           4|                4|                 36|\n|   12347.0|2010-12-07|      12|           4|                4|                 36|\n|   12347.0|2010-12-07|      12|           4|                4|                 36|\n|   12347.0|2010-12-07|      12|           4|                4|                 36|\n|   12347.0|2010-12-07|      12|           4|                4|                 36|\n|   12347.0|2010-12-07|      12|           4|                4|                 36|\n|   12347.0|2010-12-07|      12|           4|                4|                 36|\n|   12347.0|2010-12-07|      12|           4|                4|                 36|\n|   12347.0|2010-12-07|       6|          17|                5|                 36|\n|   12347.0|2010-12-07|       6|          17|                5|                 36|\n+----------+----------+--------+------------+-----------------+-------------------+\nonly showing top 20 rows\n\n</div>",
       "datasetInfos": [],
       "metadata": {},
       "removedWidgets": [],
       "type": "html"
      }
     },
     "output_type": "display_data"
    }
   ],
   "source": [
    "dfWithDate.where(\"CustomerId IS NOT NULL\").orderBy(\"CustomerId\")\\\n",
    ".select(\\\n",
    "       col(\"CustomerId\"),\n",
    "       col(\"date\"),\n",
    "       col(\"Quantity\"),\n",
    "       purchaseRank.alias(\"quantityRank\"),\n",
    "       purchaseDenseRank.alias(\"quantityDenseRank\"),\n",
    "       maxPurchaseQuantity.alias(\"maxPurchaseQuantity\")).show()"
   ]
  },
  {
   "cell_type": "code",
   "execution_count": 0,
   "metadata": {
    "application/vnd.databricks.v1+cell": {
     "inputWidgets": {},
     "nuid": "26d95aa2-8f0a-4578-acee-3a62b98b11f5",
     "showTitle": false,
     "title": ""
    }
   },
   "outputs": [
    {
     "data": {
      "text/html": [
       "<style scoped>\n",
       "  .table-result-container {\n",
       "    max-height: 300px;\n",
       "    overflow: auto;\n",
       "  }\n",
       "  table, th, td {\n",
       "    border: 1px solid black;\n",
       "    border-collapse: collapse;\n",
       "  }\n",
       "  th, td {\n",
       "    padding: 5px;\n",
       "  }\n",
       "  th {\n",
       "    text-align: left;\n",
       "  }\n",
       "</style><div class='table-result-container'><table class='table-result'><thead style='background-color: white'><tr><th>CustomerId</th><th>date</th><th>Quantity</th><th>rank</th><th>dRank</th><th>maxPurchase</th></tr></thead><tbody><tr><td>12346.0</td><td>2011-01-18</td><td>74215</td><td>1</td><td>1</td><td>74215</td></tr><tr><td>12346.0</td><td>2011-01-18</td><td>-74215</td><td>2</td><td>2</td><td>74215</td></tr><tr><td>12347.0</td><td>2011-04-07</td><td>6</td><td>15</td><td>6</td><td>240</td></tr><tr><td>12347.0</td><td>2011-08-02</td><td>10</td><td>11</td><td>5</td><td>36</td></tr><tr><td>12347.0</td><td>2011-08-02</td><td>4</td><td>16</td><td>8</td><td>36</td></tr><tr><td>12347.0</td><td>2011-08-02</td><td>24</td><td>2</td><td>2</td><td>36</td></tr><tr><td>12347.0</td><td>2011-08-02</td><td>8</td><td>13</td><td>6</td><td>36</td></tr><tr><td>12347.0</td><td>2011-10-31</td><td>8</td><td>34</td><td>8</td><td>48</td></tr><tr><td>12347.0</td><td>2011-10-31</td><td>12</td><td>14</td><td>6</td><td>48</td></tr><tr><td>12347.0</td><td>2011-10-31</td><td>24</td><td>4</td><td>3</td><td>48</td></tr><tr><td>12347.0</td><td>2010-12-07</td><td>4</td><td>24</td><td>6</td><td>36</td></tr><tr><td>12347.0</td><td>2010-12-07</td><td>6</td><td>17</td><td>5</td><td>36</td></tr><tr><td>12347.0</td><td>2010-12-07</td><td>12</td><td>4</td><td>4</td><td>36</td></tr><tr><td>12347.0</td><td>2011-01-26</td><td>6</td><td>17</td><td>4</td><td>24</td></tr><tr><td>12347.0</td><td>2011-04-07</td><td>12</td><td>5</td><td>4</td><td>240</td></tr><tr><td>12347.0</td><td>2010-12-07</td><td>12</td><td>4</td><td>4</td><td>36</td></tr><tr><td>12347.0</td><td>2011-08-02</td><td>4</td><td>16</td><td>8</td><td>36</td></tr><tr><td>12347.0</td><td>2010-12-07</td><td>36</td><td>1</td><td>1</td><td>36</td></tr><tr><td>12347.0</td><td>2010-12-07</td><td>12</td><td>4</td><td>4</td><td>36</td></tr><tr><td>12347.0</td><td>2010-12-07</td><td>4</td><td>24</td><td>6</td><td>36</td></tr><tr><td>12347.0</td><td>2010-12-07</td><td>4</td><td>24</td><td>6</td><td>36</td></tr><tr><td>12347.0</td><td>2010-12-07</td><td>3</td><td>31</td><td>7</td><td>36</td></tr><tr><td>12347.0</td><td>2010-12-07</td><td>12</td><td>4</td><td>4</td><td>36</td></tr><tr><td>12347.0</td><td>2010-12-07</td><td>4</td><td>24</td><td>6</td><td>36</td></tr><tr><td>12347.0</td><td>2011-01-26</td><td>12</td><td>7</td><td>2</td><td>24</td></tr><tr><td>12347.0</td><td>2010-12-07</td><td>4</td><td>24</td><td>6</td><td>36</td></tr><tr><td>12347.0</td><td>2010-12-07</td><td>12</td><td>4</td><td>4</td><td>36</td></tr><tr><td>12347.0</td><td>2011-01-26</td><td>24</td><td>1</td><td>1</td><td>24</td></tr><tr><td>12347.0</td><td>2011-01-26</td><td>10</td><td>13</td><td>3</td><td>24</td></tr><tr><td>12347.0</td><td>2011-08-02</td><td>12</td><td>8</td><td>4</td><td>36</td></tr><tr><td>12347.0</td><td>2011-04-07</td><td>12</td><td>5</td><td>4</td><td>240</td></tr><tr><td>12347.0</td><td>2011-04-07</td><td>4</td><td>19</td><td>7</td><td>240</td></tr><tr><td>12347.0</td><td>2011-01-26</td><td>6</td><td>17</td><td>4</td><td>24</td></tr><tr><td>12347.0</td><td>2011-01-26</td><td>4</td><td>21</td><td>5</td><td>24</td></tr><tr><td>12347.0</td><td>2011-01-26</td><td>24</td><td>1</td><td>1</td><td>24</td></tr><tr><td>12347.0</td><td>2011-01-26</td><td>12</td><td>7</td><td>2</td><td>24</td></tr><tr><td>12347.0</td><td>2011-01-26</td><td>6</td><td>17</td><td>4</td><td>24</td></tr><tr><td>12347.0</td><td>2011-01-26</td><td>12</td><td>7</td><td>2</td><td>24</td></tr><tr><td>12347.0</td><td>2011-04-07</td><td>24</td><td>3</td><td>3</td><td>240</td></tr><tr><td>12347.0</td><td>2011-04-07</td><td>6</td><td>15</td><td>6</td><td>240</td></tr><tr><td>12347.0</td><td>2011-04-07</td><td>4</td><td>19</td><td>7</td><td>240</td></tr><tr><td>12347.0</td><td>2011-08-02</td><td>4</td><td>16</td><td>8</td><td>36</td></tr><tr><td>12347.0</td><td>2011-01-26</td><td>6</td><td>17</td><td>4</td><td>24</td></tr><tr><td>12347.0</td><td>2011-04-07</td><td>36</td><td>2</td><td>2</td><td>240</td></tr><tr><td>12347.0</td><td>2011-01-26</td><td>24</td><td>1</td><td>1</td><td>24</td></tr><tr><td>12347.0</td><td>2011-04-07</td><td>6</td><td>15</td><td>6</td><td>240</td></tr><tr><td>12347.0</td><td>2011-01-26</td><td>24</td><td>1</td><td>1</td><td>24</td></tr><tr><td>12347.0</td><td>2011-01-26</td><td>4</td><td>21</td><td>5</td><td>24</td></tr><tr><td>12347.0</td><td>2011-08-02</td><td>36</td><td>1</td><td>1</td><td>36</td></tr><tr><td>12347.0</td><td>2011-08-02</td><td>24</td><td>2</td><td>2</td><td>36</td></tr><tr><td>12347.0</td><td>2011-01-26</td><td>12</td><td>7</td><td>2</td><td>24</td></tr><tr><td>12347.0</td><td>2011-08-02</td><td>4</td><td>16</td><td>8</td><td>36</td></tr><tr><td>12347.0</td><td>2011-01-26</td><td>4</td><td>21</td><td>5</td><td>24</td></tr><tr><td>12347.0</td><td>2011-04-07</td><td>12</td><td>5</td><td>4</td><td>240</td></tr><tr><td>12347.0</td><td>2011-01-26</td><td>4</td><td>21</td><td>5</td><td>24</td></tr><tr><td>12347.0</td><td>2011-01-26</td><td>4</td><td>21</td><td>5</td><td>24</td></tr><tr><td>12347.0</td><td>2011-08-02</td><td>4</td><td>16</td><td>8</td><td>36</td></tr><tr><td>12347.0</td><td>2011-08-02</td><td>12</td><td>8</td><td>4</td><td>36</td></tr><tr><td>12347.0</td><td>2011-01-26</td><td>12</td><td>7</td><td>2</td><td>24</td></tr><tr><td>12347.0</td><td>2011-08-02</td><td>12</td><td>8</td><td>4</td><td>36</td></tr><tr><td>12347.0</td><td>2011-04-07</td><td>4</td><td>19</td><td>7</td><td>240</td></tr><tr><td>12347.0</td><td>2011-01-26</td><td>24</td><td>1</td><td>1</td><td>24</td></tr><tr><td>12347.0</td><td>2011-01-26</td><td>4</td><td>21</td><td>5</td><td>24</td></tr><tr><td>12347.0</td><td>2011-08-02</td><td>6</td><td>15</td><td>7</td><td>36</td></tr><tr><td>12347.0</td><td>2011-08-02</td><td>4</td><td>16</td><td>8</td><td>36</td></tr><tr><td>12347.0</td><td>2011-08-02</td><td>24</td><td>2</td><td>2</td><td>36</td></tr><tr><td>12347.0</td><td>2011-01-26</td><td>4</td><td>21</td><td>5</td><td>24</td></tr><tr><td>12347.0</td><td>2011-01-26</td><td>4</td><td>21</td><td>5</td><td>24</td></tr><tr><td>12347.0</td><td>2011-08-02</td><td>24</td><td>2</td><td>2</td><td>36</td></tr><tr><td>12347.0</td><td>2011-01-26</td><td>10</td><td>13</td><td>3</td><td>24</td></tr><tr><td>12347.0</td><td>2011-08-02</td><td>3</td><td>22</td><td>9</td><td>36</td></tr><tr><td>12347.0</td><td>2011-08-02</td><td>16</td><td>7</td><td>3</td><td>36</td></tr><tr><td>12347.0</td><td>2011-01-26</td><td>3</td><td>29</td><td>6</td><td>24</td></tr><tr><td>12347.0</td><td>2011-04-07</td><td>4</td><td>19</td><td>7</td><td>240</td></tr><tr><td>12347.0</td><td>2011-01-26</td><td>10</td><td>13</td><td>3</td><td>24</td></tr><tr><td>12347.0</td><td>2011-08-02</td><td>24</td><td>2</td><td>2</td><td>36</td></tr><tr><td>12347.0</td><td>2011-08-02</td><td>10</td><td>11</td><td>5</td><td>36</td></tr><tr><td>12347.0</td><td>2010-12-07</td><td>6</td><td>17</td><td>5</td><td>36</td></tr><tr><td>12347.0</td><td>2011-01-26</td><td>12</td><td>7</td><td>2</td><td>24</td></tr><tr><td>12347.0</td><td>2011-01-26</td><td>24</td><td>1</td><td>1</td><td>24</td></tr><tr><td>12347.0</td><td>2011-01-26</td><td>10</td><td>13</td><td>3</td><td>24</td></tr><tr><td>12347.0</td><td>2011-04-07</td><td>12</td><td>5</td><td>4</td><td>240</td></tr><tr><td>12347.0</td><td>2011-08-02</td><td>8</td><td>13</td><td>6</td><td>36</td></tr><tr><td>12347.0</td><td>2011-04-07</td><td>4</td><td>19</td><td>7</td><td>240</td></tr><tr><td>12347.0</td><td>2011-04-07</td><td>8</td><td>13</td><td>5</td><td>240</td></tr><tr><td>12347.0</td><td>2011-04-07</td><td>3</td><td>24</td><td>8</td><td>240</td></tr><tr><td>12347.0</td><td>2011-04-07</td><td>12</td><td>5</td><td>4</td><td>240</td></tr><tr><td>12347.0</td><td>2011-04-07</td><td>12</td><td>5</td><td>4</td><td>240</td></tr><tr><td>12347.0</td><td>2011-04-07</td><td>24</td><td>3</td><td>3</td><td>240</td></tr><tr><td>12347.0</td><td>2011-04-07</td><td>240</td><td>1</td><td>1</td><td>240</td></tr><tr><td>12347.0</td><td>2011-04-07</td><td>12</td><td>5</td><td>4</td><td>240</td></tr><tr><td>12347.0</td><td>2011-04-07</td><td>8</td><td>13</td><td>5</td><td>240</td></tr><tr><td>12347.0</td><td>2011-04-07</td><td>6</td><td>15</td><td>6</td><td>240</td></tr><tr><td>12347.0</td><td>2011-04-07</td><td>12</td><td>5</td><td>4</td><td>240</td></tr><tr><td>12347.0</td><td>2010-12-07</td><td>12</td><td>4</td><td>4</td><td>36</td></tr><tr><td>12347.0</td><td>2010-12-07</td><td>12</td><td>4</td><td>4</td><td>36</td></tr><tr><td>12347.0</td><td>2010-12-07</td><td>12</td><td>4</td><td>4</td><td>36</td></tr><tr><td>12347.0</td><td>2011-12-07</td><td>10</td><td>10</td><td>5</td><td>24</td></tr><tr><td>12347.0</td><td>2011-12-07</td><td>12</td><td>8</td><td>4</td><td>24</td></tr><tr><td>12347.0</td><td>2010-12-07</td><td>6</td><td>17</td><td>5</td><td>36</td></tr><tr><td>12347.0</td><td>2011-12-07</td><td>12</td><td>8</td><td>4</td><td>24</td></tr><tr><td>12347.0</td><td>2010-12-07</td><td>4</td><td>24</td><td>6</td><td>36</td></tr><tr><td>12347.0</td><td>2011-12-07</td><td>24</td><td>1</td><td>1</td><td>24</td></tr><tr><td>12347.0</td><td>2011-12-07</td><td>24</td><td>1</td><td>1</td><td>24</td></tr><tr><td>12347.0</td><td>2011-12-07</td><td>20</td><td>5</td><td>2</td><td>24</td></tr><tr><td>12347.0</td><td>2011-12-07</td><td>24</td><td>1</td><td>1</td><td>24</td></tr><tr><td>12347.0</td><td>2011-12-07</td><td>20</td><td>5</td><td>2</td><td>24</td></tr><tr><td>12347.0</td><td>2011-12-07</td><td>6</td><td>11</td><td>6</td><td>24</td></tr><tr><td>12347.0</td><td>2011-12-07</td><td>16</td><td>7</td><td>3</td><td>24</td></tr><tr><td>12347.0</td><td>2011-10-31</td><td>8</td><td>34</td><td>8</td><td>48</td></tr><tr><td>12347.0</td><td>2011-12-07</td><td>24</td><td>1</td><td>1</td><td>24</td></tr><tr><td>12347.0</td><td>2011-06-09</td><td>4</td><td>13</td><td>6</td><td>36</td></tr><tr><td>12347.0</td><td>2011-06-09</td><td>4</td><td>13</td><td>6</td><td>36</td></tr><tr><td>12347.0</td><td>2011-06-09</td><td>4</td><td>13</td><td>6</td><td>36</td></tr><tr><td>12347.0</td><td>2011-10-31</td><td>8</td><td>34</td><td>8</td><td>48</td></tr><tr><td>12347.0</td><td>2010-12-07</td><td>30</td><td>2</td><td>2</td><td>36</td></tr><tr><td>12347.0</td><td>2011-06-09</td><td>4</td><td>13</td><td>6</td><td>36</td></tr><tr><td>12347.0</td><td>2011-06-09</td><td>12</td><td>4</td><td>4</td><td>36</td></tr><tr><td>12347.0</td><td>2011-06-09</td><td>24</td><td>2</td><td>2</td><td>36</td></tr><tr><td>12347.0</td><td>2011-10-31</td><td>10</td><td>32</td><td>7</td><td>48</td></tr><tr><td>12347.0</td><td>2011-06-09</td><td>2</td><td>18</td><td>7</td><td>36</td></tr><tr><td>12347.0</td><td>2011-06-09</td><td>12</td><td>4</td><td>4</td><td>36</td></tr><tr><td>12347.0</td><td>2011-06-09</td><td>12</td><td>4</td><td>4</td><td>36</td></tr><tr><td>12347.0</td><td>2011-10-31</td><td>12</td><td>14</td><td>6</td><td>48</td></tr><tr><td>12347.0</td><td>2011-10-31</td><td>24</td><td>4</td><td>3</td><td>48</td></tr><tr><td>12347.0</td><td>2011-10-31</td><td>10</td><td>32</td><td>7</td><td>48</td></tr><tr><td>12347.0</td><td>2011-06-09</td><td>12</td><td>4</td><td>4</td><td>36</td></tr><tr><td>12347.0</td><td>2011-10-31</td><td>24</td><td>4</td><td>3</td><td>48</td></tr><tr><td>12347.0</td><td>2011-10-31</td><td>36</td><td>2</td><td>2</td><td>48</td></tr><tr><td>12347.0</td><td>2011-06-09</td><td>8</td><td>10</td><td>5</td><td>36</td></tr><tr><td>12347.0</td><td>2011-06-09</td><td>36</td><td>1</td><td>1</td><td>36</td></tr><tr><td>12347.0</td><td>2011-06-09</td><td>8</td><td>10</td><td>5</td><td>36</td></tr><tr><td>12347.0</td><td>2011-10-31</td><td>12</td><td>14</td><td>6</td><td>48</td></tr><tr><td>12347.0</td><td>2011-06-09</td><td>8</td><td>10</td><td>5</td><td>36</td></tr><tr><td>12347.0</td><td>2011-06-09</td><td>18</td><td>3</td><td>3</td><td>36</td></tr><tr><td>12347.0</td><td>2011-06-09</td><td>12</td><td>4</td><td>4</td><td>36</td></tr><tr><td>12347.0</td><td>2011-10-31</td><td>24</td><td>4</td><td>3</td><td>48</td></tr><tr><td>12347.0</td><td>2011-10-31</td><td>8</td><td>34</td><td>8</td><td>48</td></tr><tr><td>12347.0</td><td>2010-12-07</td><td>12</td><td>4</td><td>4</td><td>36</td></tr><tr><td>12347.0</td><td>2011-10-31</td><td>20</td><td>11</td><td>4</td><td>48</td></tr><tr><td>12347.0</td><td>2010-12-07</td><td>24</td><td>3</td><td>3</td><td>36</td></tr><tr><td>12347.0</td><td>2011-10-31</td><td>24</td><td>4</td><td>3</td><td>48</td></tr><tr><td>12347.0</td><td>2011-06-09</td><td>4</td><td>13</td><td>6</td><td>36</td></tr><tr><td>12347.0</td><td>2011-06-09</td><td>12</td><td>4</td><td>4</td><td>36</td></tr><tr><td>12347.0</td><td>2011-10-31</td><td>8</td><td>34</td><td>8</td><td>48</td></tr><tr><td>12347.0</td><td>2011-10-31</td><td>6</td><td>42</td><td>9</td><td>48</td></tr><tr><td>12347.0</td><td>2011-10-31</td><td>24</td><td>4</td><td>3</td><td>48</td></tr><tr><td>12347.0</td><td>2011-10-31</td><td>12</td><td>14</td><td>6</td><td>48</td></tr><tr><td>12347.0</td><td>2011-10-31</td><td>8</td><td>34</td><td>8</td><td>48</td></tr><tr><td>12347.0</td><td>2011-10-31</td><td>8</td><td>34</td><td>8</td><td>48</td></tr><tr><td>12347.0</td><td>2011-10-31</td><td>6</td><td>42</td><td>9</td><td>48</td></tr><tr><td>12347.0</td><td>2011-10-31</td><td>12</td><td>14</td><td>6</td><td>48</td></tr><tr><td>12347.0</td><td>2011-10-31</td><td>8</td><td>34</td><td>8</td><td>48</td></tr><tr><td>12347.0</td><td>2011-10-31</td><td>24</td><td>4</td><td>3</td><td>48</td></tr><tr><td>12347.0</td><td>2011-10-31</td><td>12</td><td>14</td><td>6</td><td>48</td></tr><tr><td>12347.0</td><td>2011-10-31</td><td>6</td><td>42</td><td>9</td><td>48</td></tr><tr><td>12347.0</td><td>2011-10-31</td><td>20</td><td>11</td><td>4</td><td>48</td></tr><tr><td>12347.0</td><td>2011-10-31</td><td>12</td><td>14</td><td>6</td><td>48</td></tr><tr><td>12347.0</td><td>2011-10-31</td><td>12</td><td>14</td><td>6</td><td>48</td></tr><tr><td>12347.0</td><td>2011-10-31</td><td>4</td><td>46</td><td>10</td><td>48</td></tr><tr><td>12347.0</td><td>2011-10-31</td><td>6</td><td>42</td><td>9</td><td>48</td></tr><tr><td>12347.0</td><td>2011-10-31</td><td>12</td><td>14</td><td>6</td><td>48</td></tr><tr><td>12347.0</td><td>2011-10-31</td><td>12</td><td>14</td><td>6</td><td>48</td></tr><tr><td>12347.0</td><td>2011-10-31</td><td>2</td><td>47</td><td>11</td><td>48</td></tr><tr><td>12347.0</td><td>2011-10-31</td><td>12</td><td>14</td><td>6</td><td>48</td></tr><tr><td>12347.0</td><td>2011-10-31</td><td>12</td><td>14</td><td>6</td><td>48</td></tr><tr><td>12347.0</td><td>2011-10-31</td><td>36</td><td>2</td><td>2</td><td>48</td></tr><tr><td>12347.0</td><td>2011-10-31</td><td>48</td><td>1</td><td>1</td><td>48</td></tr><tr><td>12347.0</td><td>2011-10-31</td><td>18</td><td>13</td><td>5</td><td>48</td></tr><tr><td>12347.0</td><td>2011-10-31</td><td>12</td><td>14</td><td>6</td><td>48</td></tr><tr><td>12347.0</td><td>2010-12-07</td><td>6</td><td>17</td><td>5</td><td>36</td></tr><tr><td>12347.0</td><td>2011-10-31</td><td>12</td><td>14</td><td>6</td><td>48</td></tr><tr><td>12347.0</td><td>2011-10-31</td><td>12</td><td>14</td><td>6</td><td>48</td></tr><tr><td>12347.0</td><td>2011-10-31</td><td>12</td><td>14</td><td>6</td><td>48</td></tr><tr><td>12347.0</td><td>2011-10-31</td><td>12</td><td>14</td><td>6</td><td>48</td></tr><tr><td>12347.0</td><td>2011-10-31</td><td>12</td><td>14</td><td>6</td><td>48</td></tr><tr><td>12347.0</td><td>2010-12-07</td><td>12</td><td>4</td><td>4</td><td>36</td></tr><tr><td>12347.0</td><td>2010-12-07</td><td>6</td><td>17</td><td>5</td><td>36</td></tr><tr><td>12347.0</td><td>2010-12-07</td><td>6</td><td>17</td><td>5</td><td>36</td></tr><tr><td>12347.0</td><td>2010-12-07</td><td>6</td><td>17</td><td>5</td><td>36</td></tr><tr><td>12347.0</td><td>2010-12-07</td><td>12</td><td>4</td><td>4</td><td>36</td></tr><tr><td>12347.0</td><td>2010-12-07</td><td>4</td><td>24</td><td>6</td><td>36</td></tr><tr><td>12347.0</td><td>2010-12-07</td><td>12</td><td>4</td><td>4</td><td>36</td></tr><tr><td>12347.0</td><td>2010-12-07</td><td>12</td><td>4</td><td>4</td><td>36</td></tr><tr><td>12348.0</td><td>2010-12-16</td><td>72</td><td>7</td><td>3</td><td>144</td></tr><tr><td>12348.0</td><td>2010-12-16</td><td>48</td><td>11</td><td>4</td><td>144</td></tr><tr><td>12348.0</td><td>2011-01-25</td><td>144</td><td>1</td><td>1</td><td>144</td></tr><tr><td>12348.0</td><td>2011-01-25</td><td>1</td><td>6</td><td>3</td><td>144</td></tr><tr><td>12348.0</td><td>2011-01-25</td><td>24</td><td>5</td><td>2</td><td>144</td></tr><tr><td>12348.0</td><td>2011-01-25</td><td>144</td><td>1</td><td>1</td><td>144</td></tr><tr><td>12348.0</td><td>2011-01-25</td><td>144</td><td>1</td><td>1</td><td>144</td></tr><tr><td>12348.0</td><td>2011-01-25</td><td>144</td><td>1</td><td>1</td><td>144</td></tr><tr><td>12348.0</td><td>2010-12-16</td><td>24</td><td>13</td><td>5</td><td>144</td></tr><tr><td>12348.0</td><td>2010-12-16</td><td>24</td><td>13</td><td>5</td><td>144</td></tr><tr><td>12348.0</td><td>2010-12-16</td><td>144</td><td>1</td><td>1</td><td>144</td></tr><tr><td>12348.0</td><td>2010-12-16</td><td>144</td><td>1</td><td>1</td><td>144</td></tr><tr><td>12348.0</td><td>2010-12-16</td><td>120</td><td>3</td><td>2</td><td>144</td></tr><tr><td>12348.0</td><td>2010-12-16</td><td>72</td><td>7</td><td>3</td><td>144</td></tr><tr><td>12348.0</td><td>2010-12-16</td><td>6</td><td>17</td><td>6</td><td>144</td></tr><tr><td>12348.0</td><td>2010-12-16</td><td>120</td><td>3</td><td>2</td><td>144</td></tr><tr><td>12348.0</td><td>2010-12-16</td><td>120</td><td>3</td><td>2</td><td>144</td></tr><tr><td>12348.0</td><td>2010-12-16</td><td>72</td><td>7</td><td>3</td><td>144</td></tr><tr><td>12348.0</td><td>2010-12-16</td><td>48</td><td>11</td><td>4</td><td>144</td></tr><tr><td>12348.0</td><td>2010-12-16</td><td>120</td><td>3</td><td>2</td><td>144</td></tr><tr><td>12348.0</td><td>2010-12-16</td><td>24</td><td>13</td><td>5</td><td>144</td></tr><tr><td>12348.0</td><td>2010-12-16</td><td>24</td><td>13</td><td>5</td><td>144</td></tr><tr><td>12348.0</td><td>2010-12-16</td><td>72</td><td>7</td><td>3</td><td>144</td></tr><tr><td>12348.0</td><td>2011-04-05</td><td>20</td><td>4</td><td>4</td><td>96</td></tr><tr><td>12348.0</td><td>2011-09-25</td><td>1</td><td>3</td><td>3</td><td>120</td></tr><tr><td>12348.0</td><td>2011-09-25</td><td>96</td><td>2</td><td>2</td><td>120</td></tr><tr><td>12348.0</td><td>2011-09-25</td><td>120</td><td>1</td><td>1</td><td>120</td></tr><tr><td>12348.0</td><td>2011-04-05</td><td>1</td><td>5</td><td>5</td><td>96</td></tr><tr><td>12348.0</td><td>2011-04-05</td><td>80</td><td>2</td><td>2</td><td>96</td></tr><tr><td>12348.0</td><td>2011-04-05</td><td>72</td><td>3</td><td>3</td><td>96</td></tr><tr><td>12348.0</td><td>2011-04-05</td><td>96</td><td>1</td><td>1</td><td>96</td></tr><tr><td>12349.0</td><td>2011-11-21</td><td>6</td><td>35</td><td>8</td><td>36</td></tr><tr><td>12349.0</td><td>2011-11-21</td><td>12</td><td>7</td><td>5</td><td>36</td></tr><tr><td>12349.0</td><td>2011-11-21</td><td>2</td><td>64</td><td>11</td><td>36</td></tr><tr><td>12349.0</td><td>2011-11-21</td><td>12</td><td>7</td><td>5</td><td>36</td></tr><tr><td>12349.0</td><td>2011-11-21</td><td>2</td><td>64</td><td>11</td><td>36</td></tr><tr><td>12349.0</td><td>2011-11-21</td><td>1</td><td>70</td><td>12</td><td>36</td></tr><tr><td>12349.0</td><td>2011-11-21</td><td>1</td><td>70</td><td>12</td><td>36</td></tr><tr><td>12349.0</td><td>2011-11-21</td><td>6</td><td>35</td><td>8</td><td>36</td></tr><tr><td>12349.0</td><td>2011-11-21</td><td>1</td><td>70</td><td>12</td><td>36</td></tr><tr><td>12349.0</td><td>2011-11-21</td><td>6</td><td>35</td><td>8</td><td>36</td></tr><tr><td>12349.0</td><td>2011-11-21</td><td>36</td><td>1</td><td>1</td><td>36</td></tr><tr><td>12349.0</td><td>2011-11-21</td><td>12</td><td>7</td><td>5</td><td>36</td></tr><tr><td>12349.0</td><td>2011-11-21</td><td>6</td><td>35</td><td>8</td><td>36</td></tr><tr><td>12349.0</td><td>2011-11-21</td><td>6</td><td>35</td><td>8</td><td>36</td></tr><tr><td>12349.0</td><td>2011-11-21</td><td>4</td><td>52</td><td>9</td><td>36</td></tr><tr><td>12349.0</td><td>2011-11-21</td><td>10</td><td>28</td><td>6</td><td>36</td></tr><tr><td>12349.0</td><td>2011-11-21</td><td>12</td><td>7</td><td>5</td><td>36</td></tr><tr><td>12349.0</td><td>2011-11-21</td><td>8</td><td>29</td><td>7</td><td>36</td></tr><tr><td>12349.0</td><td>2011-11-21</td><td>12</td><td>7</td><td>5</td><td>36</td></tr><tr><td>12349.0</td><td>2011-11-21</td><td>2</td><td>64</td><td>11</td><td>36</td></tr><tr><td>12349.0</td><td>2011-11-21</td><td>36</td><td>1</td><td>1</td><td>36</td></tr><tr><td>12349.0</td><td>2011-11-21</td><td>6</td><td>35</td><td>8</td><td>36</td></tr><tr><td>12349.0</td><td>2011-11-21</td><td>6</td><td>35</td><td>8</td><td>36</td></tr><tr><td>12349.0</td><td>2011-11-21</td><td>3</td><td>57</td><td>10</td><td>36</td></tr><tr><td>12349.0</td><td>2011-11-21</td><td>2</td><td>64</td><td>11</td><td>36</td></tr><tr><td>12349.0</td><td>2011-11-21</td><td>8</td><td>29</td><td>7</td><td>36</td></tr><tr><td>12349.0</td><td>2011-11-21</td><td>12</td><td>7</td><td>5</td><td>36</td></tr><tr><td>12349.0</td><td>2011-11-21</td><td>8</td><td>29</td><td>7</td><td>36</td></tr><tr><td>12349.0</td><td>2011-11-21</td><td>8</td><td>29</td><td>7</td><td>36</td></tr><tr><td>12349.0</td><td>2011-11-21</td><td>12</td><td>7</td><td>5</td><td>36</td></tr><tr><td>12349.0</td><td>2011-11-21</td><td>6</td><td>35</td><td>8</td><td>36</td></tr><tr><td>12349.0</td><td>2011-11-21</td><td>2</td><td>64</td><td>11</td><td>36</td></tr><tr><td>12349.0</td><td>2011-11-21</td><td>1</td><td>70</td><td>12</td><td>36</td></tr><tr><td>12349.0</td><td>2011-11-21</td><td>2</td><td>64</td><td>11</td><td>36</td></tr><tr><td>12349.0</td><td>2011-11-21</td><td>6</td><td>35</td><td>8</td><td>36</td></tr><tr><td>12349.0</td><td>2011-11-21</td><td>25</td><td>3</td><td>2</td><td>36</td></tr><tr><td>12349.0</td><td>2011-11-21</td><td>6</td><td>35</td><td>8</td><td>36</td></tr><tr><td>12349.0</td><td>2011-11-21</td><td>12</td><td>7</td><td>5</td><td>36</td></tr><tr><td>12349.0</td><td>2011-11-21</td><td>6</td><td>35</td><td>8</td><td>36</td></tr><tr><td>12349.0</td><td>2011-11-21</td><td>12</td><td>7</td><td>5</td><td>36</td></tr><tr><td>12349.0</td><td>2011-11-21</td><td>12</td><td>7</td><td>5</td><td>36</td></tr><tr><td>12349.0</td><td>2011-11-21</td><td>12</td><td>7</td><td>5</td><td>36</td></tr><tr><td>12349.0</td><td>2011-11-21</td><td>25</td><td>3</td><td>2</td><td>36</td></tr><tr><td>12349.0</td><td>2011-11-21</td><td>12</td><td>7</td><td>5</td><td>36</td></tr><tr><td>12349.0</td><td>2011-11-21</td><td>24</td><td>5</td><td>3</td><td>36</td></tr><tr><td>12349.0</td><td>2011-11-21</td><td>6</td><td>35</td><td>8</td><td>36</td></tr><tr><td>12349.0</td><td>2011-11-21</td><td>6</td><td>35</td><td>8</td><td>36</td></tr><tr><td>12349.0</td><td>2011-11-21</td><td>6</td><td>35</td><td>8</td><td>36</td></tr><tr><td>12349.0</td><td>2011-11-21</td><td>12</td><td>7</td><td>5</td><td>36</td></tr><tr><td>12349.0</td><td>2011-11-21</td><td>12</td><td>7</td><td>5</td><td>36</td></tr><tr><td>12349.0</td><td>2011-11-21</td><td>6</td><td>35</td><td>8</td><td>36</td></tr><tr><td>12349.0</td><td>2011-11-21</td><td>16</td><td>6</td><td>4</td><td>36</td></tr><tr><td>12349.0</td><td>2011-11-21</td><td>4</td><td>52</td><td>9</td><td>36</td></tr><tr><td>12349.0</td><td>2011-11-21</td><td>12</td><td>7</td><td>5</td><td>36</td></tr><tr><td>12349.0</td><td>2011-11-21</td><td>4</td><td>52</td><td>9</td><td>36</td></tr><tr><td>12349.0</td><td>2011-11-21</td><td>12</td><td>7</td><td>5</td><td>36</td></tr><tr><td>12349.0</td><td>2011-11-21</td><td>6</td><td>35</td><td>8</td><td>36</td></tr><tr><td>12349.0</td><td>2011-11-21</td><td>6</td><td>35</td><td>8</td><td>36</td></tr><tr><td>12349.0</td><td>2011-11-21</td><td>12</td><td>7</td><td>5</td><td>36</td></tr><tr><td>12349.0</td><td>2011-11-21</td><td>4</td><td>52</td><td>9</td><td>36</td></tr><tr><td>12349.0</td><td>2011-11-21</td><td>8</td><td>29</td><td>7</td><td>36</td></tr><tr><td>12349.0</td><td>2011-11-21</td><td>12</td><td>7</td><td>5</td><td>36</td></tr><tr><td>12349.0</td><td>2011-11-21</td><td>4</td><td>52</td><td>9</td><td>36</td></tr><tr><td>12349.0</td><td>2011-11-21</td><td>3</td><td>57</td><td>10</td><td>36</td></tr><tr><td>12349.0</td><td>2011-11-21</td><td>3</td><td>57</td><td>10</td><td>36</td></tr><tr><td>12349.0</td><td>2011-11-21</td><td>12</td><td>7</td><td>5</td><td>36</td></tr><tr><td>12349.0</td><td>2011-11-21</td><td>12</td><td>7</td><td>5</td><td>36</td></tr><tr><td>12349.0</td><td>2011-11-21</td><td>3</td><td>57</td><td>10</td><td>36</td></tr><tr><td>12349.0</td><td>2011-11-21</td><td>3</td><td>57</td><td>10</td><td>36</td></tr><tr><td>12349.0</td><td>2011-11-21</td><td>8</td><td>29</td><td>7</td><td>36</td></tr><tr><td>12349.0</td><td>2011-11-21</td><td>3</td><td>57</td><td>10</td><td>36</td></tr><tr><td>12349.0</td><td>2011-11-21</td><td>3</td><td>57</td><td>10</td><td>36</td></tr><tr><td>12349.0</td><td>2011-11-21</td><td>12</td><td>7</td><td>5</td><td>36</td></tr><tr><td>12350.0</td><td>2011-02-02</td><td>12</td><td>2</td><td>2</td><td>24</td></tr><tr><td>12350.0</td><td>2011-02-02</td><td>12</td><td>2</td><td>2</td><td>24</td></tr><tr><td>12350.0</td><td>2011-02-02</td><td>12</td><td>2</td><td>2</td><td>24</td></tr><tr><td>12350.0</td><td>2011-02-02</td><td>12</td><td>2</td><td>2</td><td>24</td></tr><tr><td>12350.0</td><td>2011-02-02</td><td>12</td><td>2</td><td>2</td><td>24</td></tr><tr><td>12350.0</td><td>2011-02-02</td><td>1</td><td>17</td><td>5</td><td>24</td></tr><tr><td>12350.0</td><td>2011-02-02</td><td>6</td><td>16</td><td>4</td><td>24</td></tr><tr><td>12350.0</td><td>2011-02-02</td><td>12</td><td>2</td><td>2</td><td>24</td></tr><tr><td>12350.0</td><td>2011-02-02</td><td>24</td><td>1</td><td>1</td><td>24</td></tr><tr><td>12350.0</td><td>2011-02-02</td><td>12</td><td>2</td><td>2</td><td>24</td></tr><tr><td>12350.0</td><td>2011-02-02</td><td>12</td><td>2</td><td>2</td><td>24</td></tr><tr><td>12350.0</td><td>2011-02-02</td><td>12</td><td>2</td><td>2</td><td>24</td></tr><tr><td>12350.0</td><td>2011-02-02</td><td>12</td><td>2</td><td>2</td><td>24</td></tr><tr><td>12350.0</td><td>2011-02-02</td><td>12</td><td>2</td><td>2</td><td>24</td></tr><tr><td>12350.0</td><td>2011-02-02</td><td>12</td><td>2</td><td>2</td><td>24</td></tr><tr><td>12350.0</td><td>2011-02-02</td><td>12</td><td>2</td><td>2</td><td>24</td></tr><tr><td>12350.0</td><td>2011-02-02</td><td>10</td><td>15</td><td>3</td><td>24</td></tr><tr><td>12352.0</td><td>2011-11-03</td><td>6</td><td>8</td><td>3</td><td>16</td></tr><tr><td>12352.0</td><td>2011-11-03</td><td>16</td><td>1</td><td>1</td><td>16</td></tr><tr><td>12352.0</td><td>2011-09-28</td><td>4</td><td>2</td><td>2</td><td>12</td></tr><tr><td>12352.0</td><td>2011-03-01</td><td>1</td><td>5</td><td>5</td><td>12</td></tr><tr><td>12352.0</td><td>2011-09-28</td><td>4</td><td>2</td><td>2</td><td>12</td></tr><tr><td>12352.0</td><td>2011-02-16</td><td>3</td><td>10</td><td>4</td><td>12</td></tr><tr><td>12352.0</td><td>2011-02-16</td><td>12</td><td>1</td><td>1</td><td>12</td></tr><tr><td>12352.0</td><td>2011-02-16</td><td>4</td><td>8</td><td>3</td><td>12</td></tr><tr><td>12352.0</td><td>2011-02-16</td><td>12</td><td>1</td><td>1</td><td>12</td></tr><tr><td>12352.0</td><td>2011-03-01</td><td>-1</td><td>9</td><td>6</td><td>12</td></tr><tr><td>12352.0</td><td>2011-02-16</td><td>6</td><td>6</td><td>2</td><td>12</td></tr><tr><td>12352.0</td><td>2011-02-16</td><td>3</td><td>10</td><td>4</td><td>12</td></tr><tr><td>12352.0</td><td>2011-11-03</td><td>12</td><td>4</td><td>2</td><td>16</td></tr><tr><td>12352.0</td><td>2011-03-22</td><td>-12</td><td>12</td><td>7</td><td>12</td></tr><tr><td>12352.0</td><td>2011-03-22</td><td>1</td><td>8</td><td>4</td><td>12</td></tr><tr><td>12352.0</td><td>2011-03-22</td><td>-6</td><td>10</td><td>6</td><td>12</td></tr><tr><td>12352.0</td><td>2011-03-22</td><td>6</td><td>5</td><td>2</td><td>12</td></tr><tr><td>12352.0</td><td>2011-09-20</td><td>2</td><td>15</td><td>6</td><td>12</td></tr><tr><td>12352.0</td><td>2011-03-22</td><td>6</td><td>5</td><td>2</td><td>12</td></tr><tr><td>12352.0</td><td>2011-03-22</td><td>-12</td><td>12</td><td>7</td><td>12</td></tr><tr><td>12352.0</td><td>2011-03-22</td><td>-12</td><td>12</td><td>7</td><td>12</td></tr><tr><td>12352.0</td><td>2011-03-22</td><td>3</td><td>7</td><td>3</td><td>12</td></tr><tr><td>12352.0</td><td>2011-11-03</td><td>6</td><td>8</td><td>3</td><td>16</td></tr><tr><td>12352.0</td><td>2011-11-03</td><td>12</td><td>4</td><td>2</td><td>16</td></tr><tr><td>12352.0</td><td>2011-11-03</td><td>12</td><td>4</td><td>2</td><td>16</td></tr><tr><td>12352.0</td><td>2011-09-20</td><td>8</td><td>6</td><td>3</td><td>12</td></tr><tr><td>12352.0</td><td>2011-03-17</td><td>12</td><td>1</td><td>1</td><td>12</td></tr><tr><td>12352.0</td><td>2011-02-16</td><td>4</td><td>8</td><td>3</td><td>12</td></tr><tr><td>12352.0</td><td>2011-03-01</td><td>4</td><td>3</td><td>3</td><td>12</td></tr><tr><td>12352.0</td><td>2011-03-01</td><td>6</td><td>2</td><td>2</td><td>12</td></tr><tr><td>12352.0</td><td>2011-02-16</td><td>12</td><td>1</td><td>1</td><td>12</td></tr><tr><td>12352.0</td><td>2011-03-01</td><td>1</td><td>5</td><td>5</td><td>12</td></tr><tr><td>12352.0</td><td>2011-02-16</td><td>12</td><td>1</td><td>1</td><td>12</td></tr><tr><td>12352.0</td><td>2011-03-01</td><td>-1</td><td>9</td><td>6</td><td>12</td></tr><tr><td>12352.0</td><td>2011-03-01</td><td>3</td><td>4</td><td>4</td><td>12</td></tr><tr><td>12352.0</td><td>2011-03-01</td><td>12</td><td>1</td><td>1</td><td>12</td></tr><tr><td>12352.0</td><td>2011-02-16</td><td>3</td><td>10</td><td>4</td><td>12</td></tr><tr><td>12352.0</td><td>2011-02-16</td><td>3</td><td>10</td><td>4</td><td>12</td></tr><tr><td>12352.0</td><td>2011-03-01</td><td>1</td><td>5</td><td>5</td><td>12</td></tr><tr><td>12352.0</td><td>2011-03-01</td><td>1</td><td>5</td><td>5</td><td>12</td></tr><tr><td>12352.0</td><td>2011-02-16</td><td>12</td><td>1</td><td>1</td><td>12</td></tr><tr><td>12352.0</td><td>2011-03-01</td><td>-1</td><td>9</td><td>6</td><td>12</td></tr><tr><td>12352.0</td><td>2011-02-16</td><td>3</td><td>10</td><td>4</td><td>12</td></tr><tr><td>12352.0</td><td>2011-02-16</td><td>6</td><td>6</td><td>2</td><td>12</td></tr><tr><td>12352.0</td><td>2011-03-22</td><td>12</td><td>1</td><td>1</td><td>12</td></tr><tr><td>12352.0</td><td>2011-09-28</td><td>3</td><td>8</td><td>3</td><td>12</td></tr><tr><td>12352.0</td><td>2011-11-03</td><td>2</td><td>12</td><td>5</td><td>16</td></tr><tr><td>12352.0</td><td>2011-09-28</td><td>1</td><td>14</td><td>5</td><td>12</td></tr><tr><td>12352.0</td><td>2011-09-28</td><td>2</td><td>11</td><td>4</td><td>12</td></tr><tr><td>12352.0</td><td>2011-03-22</td><td>12</td><td>1</td><td>1</td><td>12</td></tr><tr><td>12352.0</td><td>2011-09-28</td><td>4</td><td>2</td><td>2</td><td>12</td></tr><tr><td>12352.0</td><td>2011-03-22</td><td>12</td><td>1</td><td>1</td><td>12</td></tr><tr><td>12352.0</td><td>2011-03-22</td><td>-3</td><td>9</td><td>5</td><td>12</td></tr><tr><td>12352.0</td><td>2011-09-28</td><td>4</td><td>2</td><td>2</td><td>12</td></tr><tr><td>12352.0</td><td>2011-09-28</td><td>3</td><td>8</td><td>3</td><td>12</td></tr><tr><td>12352.0</td><td>2011-03-22</td><td>-6</td><td>10</td><td>6</td><td>12</td></tr><tr><td>12352.0</td><td>2011-09-28</td><td>4</td><td>2</td><td>2</td><td>12</td></tr><tr><td>12352.0</td><td>2011-09-28</td><td>3</td><td>8</td><td>3</td><td>12</td></tr><tr><td>12352.0</td><td>2011-09-28</td><td>2</td><td>11</td><td>4</td><td>12</td></tr><tr><td>12352.0</td><td>2011-11-03</td><td>5</td><td>11</td><td>4</td><td>16</td></tr><tr><td>12352.0</td><td>2011-09-20</td><td>2</td><td>15</td><td>6</td><td>12</td></tr><tr><td>12352.0</td><td>2011-09-20</td><td>4</td><td>7</td><td>4</td><td>12</td></tr><tr><td>12352.0</td><td>2011-09-20</td><td>12</td><td>1</td><td>1</td><td>12</td></tr><tr><td>12352.0</td><td>2011-03-22</td><td>12</td><td>1</td><td>1</td><td>12</td></tr><tr><td>12352.0</td><td>2011-09-20</td><td>2</td><td>15</td><td>6</td><td>12</td></tr><tr><td>12352.0</td><td>2011-09-28</td><td>2</td><td>11</td><td>4</td><td>12</td></tr><tr><td>12352.0</td><td>2011-03-22</td><td>-12</td><td>12</td><td>7</td><td>12</td></tr><tr><td>12352.0</td><td>2011-09-20</td><td>4</td><td>7</td><td>4</td><td>12</td></tr><tr><td>12352.0</td><td>2011-09-28</td><td>4</td><td>2</td><td>2</td><td>12</td></tr><tr><td>12352.0</td><td>2011-09-20</td><td>12</td><td>1</td><td>1</td><td>12</td></tr><tr><td>12352.0</td><td>2011-09-20</td><td>10</td><td>5</td><td>2</td><td>12</td></tr><tr><td>12352.0</td><td>2011-09-28</td><td>12</td><td>1</td><td>1</td><td>12</td></tr><tr><td>12352.0</td><td>2011-11-03</td><td>16</td><td>1</td><td>1</td><td>16</td></tr><tr><td>12352.0</td><td>2011-09-20</td><td>12</td><td>1</td><td>1</td><td>12</td></tr><tr><td>12352.0</td><td>2011-09-20</td><td>12</td><td>1</td><td>1</td><td>12</td></tr><tr><td>12352.0</td><td>2011-09-20</td><td>4</td><td>7</td><td>4</td><td>12</td></tr><tr><td>12352.0</td><td>2011-09-20</td><td>4</td><td>7</td><td>4</td><td>12</td></tr><tr><td>12352.0</td><td>2011-09-20</td><td>3</td><td>12</td><td>5</td><td>12</td></tr><tr><td>12352.0</td><td>2011-11-03</td><td>16</td><td>1</td><td>1</td><td>16</td></tr><tr><td>12352.0</td><td>2011-11-03</td><td>6</td><td>8</td><td>3</td><td>16</td></tr><tr><td>12352.0</td><td>2011-11-03</td><td>2</td><td>12</td><td>5</td><td>16</td></tr><tr><td>12352.0</td><td>2011-11-03</td><td>2</td><td>12</td><td>5</td><td>16</td></tr><tr><td>12352.0</td><td>2011-11-03</td><td>2</td><td>12</td><td>5</td><td>16</td></tr><tr><td>12352.0</td><td>2011-11-03</td><td>12</td><td>4</td><td>2</td><td>16</td></tr><tr><td>12352.0</td><td>2011-09-20</td><td>4</td><td>7</td><td>4</td><td>12</td></tr><tr><td>12352.0</td><td>2011-09-20</td><td>3</td><td>12</td><td>5</td><td>12</td></tr><tr><td>12352.0</td><td>2011-09-20</td><td>3</td><td>12</td><td>5</td><td>12</td></tr><tr><td>12352.0</td><td>2011-09-20</td><td>2</td><td>15</td><td>6</td><td>12</td></tr><tr><td>12352.0</td><td>2011-03-17</td><td>12</td><td>1</td><td>1</td><td>12</td></tr><tr><td>12352.0</td><td>2011-03-17</td><td>6</td><td>5</td><td>2</td><td>12</td></tr><tr><td>12352.0</td><td>2011-03-17</td><td>6</td><td>5</td><td>2</td><td>12</td></tr><tr><td>12352.0</td><td>2011-03-17</td><td>12</td><td>1</td><td>1</td><td>12</td></tr><tr><td>12352.0</td><td>2011-03-17</td><td>12</td><td>1</td><td>1</td><td>12</td></tr><tr><td>12352.0</td><td>2011-03-17</td><td>3</td><td>7</td><td>3</td><td>12</td></tr><tr><td>12352.0</td><td>2011-02-16</td><td>3</td><td>10</td><td>4</td><td>12</td></tr><tr><td>12353.0</td><td>2011-05-19</td><td>2</td><td>4</td><td>4</td><td>8</td></tr><tr><td>12353.0</td><td>2011-05-19</td><td>8</td><td>1</td><td>1</td><td>8</td></tr><tr><td>12353.0</td><td>2011-05-19</td><td>4</td><td>3</td><td>3</td><td>8</td></tr><tr><td>12353.0</td><td>2011-05-19</td><td>6</td><td>2</td><td>2</td><td>8</td></tr><tr><td>12354.0</td><td>2011-04-21</td><td>2</td><td>45</td><td>10</td><td>32</td></tr><tr><td>12354.0</td><td>2011-04-21</td><td>8</td><td>23</td><td>5</td><td>32</td></tr><tr><td>12354.0</td><td>2011-04-21</td><td>1</td><td>54</td><td>11</td><td>32</td></tr><tr><td>12354.0</td><td>2011-04-21</td><td>1</td><td>54</td><td>11</td><td>32</td></tr><tr><td>12354.0</td><td>2011-04-21</td><td>12</td><td>10</td><td>3</td><td>32</td></tr><tr><td>12354.0</td><td>2011-04-21</td><td>4</td><td>35</td><td>8</td><td>32</td></tr><tr><td>12354.0</td><td>2011-04-21</td><td>2</td><td>45</td><td>10</td><td>32</td></tr><tr><td>12354.0</td><td>2011-04-21</td><td>12</td><td>10</td><td>3</td><td>32</td></tr><tr><td>12354.0</td><td>2011-04-21</td><td>2</td><td>45</td><td>10</td><td>32</td></tr><tr><td>12354.0</td><td>2011-04-21</td><td>8</td><td>23</td><td>5</td><td>32</td></tr><tr><td>12354.0</td><td>2011-04-21</td><td>24</td><td>5</td><td>2</td><td>32</td></tr><tr><td>12354.0</td><td>2011-04-21</td><td>2</td><td>45</td><td>10</td><td>32</td></tr><tr><td>12354.0</td><td>2011-04-21</td><td>8</td><td>23</td><td>5</td><td>32</td></tr><tr><td>12354.0</td><td>2011-04-21</td><td>1</td><td>54</td><td>11</td><td>32</td></tr><tr><td>12354.0</td><td>2011-04-21</td><td>2</td><td>45</td><td>10</td><td>32</td></tr><tr><td>12354.0</td><td>2011-04-21</td><td>24</td><td>5</td><td>2</td><td>32</td></tr><tr><td>12354.0</td><td>2011-04-21</td><td>12</td><td>10</td><td>3</td><td>32</td></tr><tr><td>12354.0</td><td>2011-04-21</td><td>6</td><td>27</td><td>6</td><td>32</td></tr><tr><td>12354.0</td><td>2011-04-21</td><td>6</td><td>27</td><td>6</td><td>32</td></tr><tr><td>12354.0</td><td>2011-04-21</td><td>3</td><td>41</td><td>9</td><td>32</td></tr><tr><td>12354.0</td><td>2011-04-21</td><td>3</td><td>41</td><td>9</td><td>32</td></tr><tr><td>12354.0</td><td>2011-04-21</td><td>24</td><td>5</td><td>2</td><td>32</td></tr><tr><td>12354.0</td><td>2011-04-21</td><td>6</td><td>27</td><td>6</td><td>32</td></tr><tr><td>12354.0</td><td>2011-04-21</td><td>4</td><td>35</td><td>8</td><td>32</td></tr><tr><td>12354.0</td><td>2011-04-21</td><td>32</td><td>1</td><td>1</td><td>32</td></tr><tr><td>12354.0</td><td>2011-04-21</td><td>10</td><td>17</td><td>4</td><td>32</td></tr><tr><td>12354.0</td><td>2011-04-21</td><td>5</td><td>34</td><td>7</td><td>32</td></tr><tr><td>12354.0</td><td>2011-04-21</td><td>4</td><td>35</td><td>8</td><td>32</td></tr><tr><td>12354.0</td><td>2011-04-21</td><td>10</td><td>17</td><td>4</td><td>32</td></tr><tr><td>12354.0</td><td>2011-04-21</td><td>24</td><td>5</td><td>2</td><td>32</td></tr><tr><td>12354.0</td><td>2011-04-21</td><td>12</td><td>10</td><td>3</td><td>32</td></tr><tr><td>12354.0</td><td>2011-04-21</td><td>2</td><td>45</td><td>10</td><td>32</td></tr><tr><td>12354.0</td><td>2011-04-21</td><td>10</td><td>17</td><td>4</td><td>32</td></tr><tr><td>12354.0</td><td>2011-04-21</td><td>8</td><td>23</td><td>5</td><td>32</td></tr><tr><td>12354.0</td><td>2011-04-21</td><td>2</td><td>45</td><td>10</td><td>32</td></tr><tr><td>12354.0</td><td>2011-04-21</td><td>12</td><td>10</td><td>3</td><td>32</td></tr><tr><td>12354.0</td><td>2011-04-21</td><td>2</td><td>45</td><td>10</td><td>32</td></tr><tr><td>12354.0</td><td>2011-04-21</td><td>2</td><td>45</td><td>10</td><td>32</td></tr><tr><td>12354.0</td><td>2011-04-21</td><td>1</td><td>54</td><td>11</td><td>32</td></tr><tr><td>12354.0</td><td>2011-04-21</td><td>6</td><td>27</td><td>6</td><td>32</td></tr><tr><td>12354.0</td><td>2011-04-21</td><td>1</td><td>54</td><td>11</td><td>32</td></tr><tr><td>12354.0</td><td>2011-04-21</td><td>6</td><td>27</td><td>6</td><td>32</td></tr><tr><td>12354.0</td><td>2011-04-21</td><td>6</td><td>27</td><td>6</td><td>32</td></tr><tr><td>12354.0</td><td>2011-04-21</td><td>32</td><td>1</td><td>1</td><td>32</td></tr><tr><td>12354.0</td><td>2011-04-21</td><td>10</td><td>17</td><td>4</td><td>32</td></tr><tr><td>12354.0</td><td>2011-04-21</td><td>12</td><td>10</td><td>3</td><td>32</td></tr><tr><td>12354.0</td><td>2011-04-21</td><td>10</td><td>17</td><td>4</td><td>32</td></tr><tr><td>12354.0</td><td>2011-04-21</td><td>4</td><td>35</td><td>8</td><td>32</td></tr><tr><td>12354.0</td><td>2011-04-21</td><td>3</td><td>41</td><td>9</td><td>32</td></tr><tr><td>12354.0</td><td>2011-04-21</td><td>24</td><td>5</td><td>2</td><td>32</td></tr><tr><td>12354.0</td><td>2011-04-21</td><td>3</td><td>41</td><td>9</td><td>32</td></tr><tr><td>12354.0</td><td>2011-04-21</td><td>10</td><td>17</td><td>4</td><td>32</td></tr><tr><td>12354.0</td><td>2011-04-21</td><td>4</td><td>35</td><td>8</td><td>32</td></tr><tr><td>12354.0</td><td>2011-04-21</td><td>12</td><td>10</td><td>3</td><td>32</td></tr><tr><td>12354.0</td><td>2011-04-21</td><td>32</td><td>1</td><td>1</td><td>32</td></tr><tr><td>12354.0</td><td>2011-04-21</td><td>32</td><td>1</td><td>1</td><td>32</td></tr><tr><td>12354.0</td><td>2011-04-21</td><td>4</td><td>35</td><td>8</td><td>32</td></tr><tr><td>12354.0</td><td>2011-04-21</td><td>6</td><td>27</td><td>6</td><td>32</td></tr><tr><td>12355.0</td><td>2011-05-09</td><td>6</td><td>6</td><td>6</td><td>96</td></tr><tr><td>12355.0</td><td>2011-05-09</td><td>6</td><td>6</td><td>6</td><td>96</td></tr><tr><td>12355.0</td><td>2011-05-09</td><td>24</td><td>3</td><td>3</td><td>96</td></tr><tr><td>12355.0</td><td>2011-05-09</td><td>2</td><td>12</td><td>7</td><td>96</td></tr><tr><td>12355.0</td><td>2011-05-09</td><td>6</td><td>6</td><td>6</td><td>96</td></tr><tr><td>12355.0</td><td>2011-05-09</td><td>12</td><td>4</td><td>4</td><td>96</td></tr><tr><td>12355.0</td><td>2011-05-09</td><td>60</td><td>2</td><td>2</td><td>96</td></tr><tr><td>12355.0</td><td>2011-05-09</td><td>8</td><td>5</td><td>5</td><td>96</td></tr><tr><td>12355.0</td><td>2011-05-09</td><td>6</td><td>6</td><td>6</td><td>96</td></tr><tr><td>12355.0</td><td>2011-05-09</td><td>2</td><td>12</td><td>7</td><td>96</td></tr><tr><td>12355.0</td><td>2011-05-09</td><td>6</td><td>6</td><td>6</td><td>96</td></tr><tr><td>12355.0</td><td>2011-05-09</td><td>96</td><td>1</td><td>1</td><td>96</td></tr><tr><td>12355.0</td><td>2011-05-09</td><td>6</td><td>6</td><td>6</td><td>96</td></tr><tr><td>12356.0</td><td>2011-01-18</td><td>12</td><td>30</td><td>11</td><td>120</td></tr><tr><td>12356.0</td><td>2011-01-18</td><td>40</td><td>11</td><td>5</td><td>120</td></tr><tr><td>12356.0</td><td>2011-01-18</td><td>18</td><td>27</td><td>9</td><td>120</td></tr><tr><td>12356.0</td><td>2011-01-18</td><td>32</td><td>13</td><td>7</td><td>120</td></tr><tr><td>12356.0</td><td>2011-01-18</td><td>24</td><td>15</td><td>8</td><td>120</td></tr><tr><td>12356.0</td><td>2011-04-08</td><td>24</td><td>4</td><td>3</td><td>72</td></tr><tr><td>12356.0</td><td>2011-11-17</td><td>3</td><td>1</td><td>1</td><td>3</td></tr><tr><td>12356.0</td><td>2011-04-08</td><td>12</td><td>9</td><td>6</td><td>72</td></tr><tr><td>12356.0</td><td>2011-01-18</td><td>24</td><td>15</td><td>8</td><td>120</td></tr><tr><td>12356.0</td><td>2011-01-18</td><td>24</td><td>15</td><td>8</td><td>120</td></tr><tr><td>12356.0</td><td>2011-01-18</td><td>48</td><td>5</td><td>4</td><td>120</td></tr><tr><td>12356.0</td><td>2011-04-08</td><td>24</td><td>4</td><td>3</td><td>72</td></tr><tr><td>12356.0</td><td>2011-01-18</td><td>24</td><td>15</td><td>8</td><td>120</td></tr><tr><td>12356.0</td><td>2011-01-18</td><td>72</td><td>3</td><td>2</td><td>120</td></tr><tr><td>12356.0</td><td>2011-04-08</td><td>48</td><td>2</td><td>2</td><td>72</td></tr><tr><td>12356.0</td><td>2011-01-18</td><td>48</td><td>5</td><td>4</td><td>120</td></tr><tr><td>12356.0</td><td>2011-01-18</td><td>12</td><td>30</td><td>11</td><td>120</td></tr><tr><td>12356.0</td><td>2011-04-08</td><td>4</td><td>16</td><td>10</td><td>72</td></tr><tr><td>12356.0</td><td>2011-01-18</td><td>24</td><td>15</td><td>8</td><td>120</td></tr><tr><td>12356.0</td><td>2011-01-18</td><td>48</td><td>5</td><td>4</td><td>120</td></tr><tr><td>12356.0</td><td>2011-04-08</td><td>12</td><td>9</td><td>6</td><td>72</td></tr><tr><td>12356.0</td><td>2011-01-18</td><td>12</td><td>30</td><td>11</td><td>120</td></tr><tr><td>12356.0</td><td>2011-01-18</td><td>12</td><td>30</td><td>11</td><td>120</td></tr><tr><td>12356.0</td><td>2011-01-18</td><td>120</td><td>1</td><td>1</td><td>120</td></tr><tr><td>12356.0</td><td>2011-01-18</td><td>120</td><td>1</td><td>1</td><td>120</td></tr><tr><td>12356.0</td><td>2011-01-18</td><td>60</td><td>4</td><td>3</td><td>120</td></tr><tr><td>12356.0</td><td>2011-01-18</td><td>32</td><td>13</td><td>7</td><td>120</td></tr><tr><td>12356.0</td><td>2011-04-08</td><td>8</td><td>14</td><td>8</td><td>72</td></tr><tr><td>12356.0</td><td>2011-04-08</td><td>20</td><td>7</td><td>4</td><td>72</td></tr><tr><td>12356.0</td><td>2011-01-18</td><td>48</td><td>5</td><td>4</td><td>120</td></tr><tr><td>12356.0</td><td>2011-01-18</td><td>12</td><td>30</td><td>11</td><td>120</td></tr><tr><td>12356.0</td><td>2011-11-17</td><td>2</td><td>2</td><td>2</td><td>3</td></tr><tr><td>12356.0</td><td>2011-04-08</td><td>12</td><td>9</td><td>6</td><td>72</td></tr><tr><td>12356.0</td><td>2011-04-08</td><td>6</td><td>15</td><td>9</td><td>72</td></tr><tr><td>12356.0</td><td>2011-01-18</td><td>24</td><td>15</td><td>8</td><td>120</td></tr><tr><td>12356.0</td><td>2011-01-18</td><td>36</td><td>12</td><td>6</td><td>120</td></tr><tr><td>12356.0</td><td>2011-04-08</td><td>48</td><td>2</td><td>2</td><td>72</td></tr><tr><td>12356.0</td><td>2011-04-08</td><td>4</td><td>16</td><td>10</td><td>72</td></tr><tr><td>12356.0</td><td>2011-04-08</td><td>10</td><td>13</td><td>7</td><td>72</td></tr><tr><td>12356.0</td><td>2011-04-08</td><td>4</td><td>16</td><td>10</td><td>72</td></tr><tr><td>12356.0</td><td>2011-01-18</td><td>16</td><td>29</td><td>10</td><td>120</td></tr><tr><td>12356.0</td><td>2011-04-08</td><td>12</td><td>9</td><td>6</td><td>72</td></tr><tr><td>12356.0</td><td>2011-04-08</td><td>72</td><td>1</td><td>1</td><td>72</td></tr><tr><td>12356.0</td><td>2011-04-08</td><td>3</td><td>21</td><td>11</td><td>72</td></tr><tr><td>12356.0</td><td>2011-01-18</td><td>24</td><td>15</td><td>8</td><td>120</td></tr><tr><td>12356.0</td><td>2011-01-18</td><td>12</td><td>30</td><td>11</td><td>120</td></tr><tr><td>12356.0</td><td>2011-01-18</td><td>48</td><td>5</td><td>4</td><td>120</td></tr><tr><td>12356.0</td><td>2011-01-18</td><td>24</td><td>15</td><td>8</td><td>120</td></tr><tr><td>12356.0</td><td>2011-04-08</td><td>15</td><td>8</td><td>5</td><td>72</td></tr><tr><td>12356.0</td><td>2011-01-18</td><td>4</td><td>36</td><td>12</td><td>120</td></tr><tr><td>12356.0</td><td>2011-04-08</td><td>4</td><td>16</td><td>10</td><td>72</td></tr><tr><td>12356.0</td><td>2011-01-18</td><td>24</td><td>15</td><td>8</td><td>120</td></tr><tr><td>12356.0</td><td>2011-01-18</td><td>24</td><td>15</td><td>8</td><td>120</td></tr><tr><td>12356.0</td><td>2011-04-08</td><td>4</td><td>16</td><td>10</td><td>72</td></tr><tr><td>12356.0</td><td>2011-01-18</td><td>48</td><td>5</td><td>4</td><td>120</td></tr><tr><td>12356.0</td><td>2011-04-08</td><td>24</td><td>4</td><td>3</td><td>72</td></tr><tr><td>12356.0</td><td>2011-01-18</td><td>24</td><td>15</td><td>8</td><td>120</td></tr><tr><td>12356.0</td><td>2011-01-18</td><td>24</td><td>15</td><td>8</td><td>120</td></tr><tr><td>12356.0</td><td>2011-01-18</td><td>18</td><td>27</td><td>9</td><td>120</td></tr><tr><td>12357.0</td><td>2011-11-06</td><td>12</td><td>67</td><td>9</td><td>96</td></tr><tr><td>12357.0</td><td>2011-11-06</td><td>24</td><td>21</td><td>6</td><td>96</td></tr><tr><td>12357.0</td><td>2011-11-06</td><td>6</td><td>117</td><td>12</td><td>96</td></tr><tr><td>12357.0</td><td>2011-11-06</td><td>12</td><td>67</td><td>9</td><td>96</td></tr><tr><td>12357.0</td><td>2011-11-06</td><td>6</td><td>117</td><td>12</td><td>96</td></tr><tr><td>12357.0</td><td>2011-11-06</td><td>24</td><td>21</td><td>6</td><td>96</td></tr><tr><td>12357.0</td><td>2011-11-06</td><td>12</td><td>67</td><td>9</td><td>96</td></tr><tr><td>12357.0</td><td>2011-11-06</td><td>72</td><td>3</td><td>2</td><td>96</td></tr><tr><td>12357.0</td><td>2011-11-06</td><td>12</td><td>67</td><td>9</td><td>96</td></tr><tr><td>12357.0</td><td>2011-11-06</td><td>24</td><td>21</td><td>6</td><td>96</td></tr><tr><td>12357.0</td><td>2011-11-06</td><td>12</td><td>67</td><td>9</td><td>96</td></tr><tr><td>12357.0</td><td>2011-11-06</td><td>12</td><td>67</td><td>9</td><td>96</td></tr><tr><td>12357.0</td><td>2011-11-06</td><td>24</td><td>21</td><td>6</td><td>96</td></tr><tr><td>12357.0</td><td>2011-11-06</td><td>8</td><td>110</td><td>11</td><td>96</td></tr><tr><td>12357.0</td><td>2011-11-06</td><td>6</td><td>117</td><td>12</td><td>96</td></tr><tr><td>12357.0</td><td>2011-11-06</td><td>36</td><td>13</td><td>4</td><td>96</td></tr><tr><td>12357.0</td><td>2011-11-06</td><td>6</td><td>117</td><td>12</td><td>96</td></tr><tr><td>12357.0</td><td>2011-11-06</td><td>36</td><td>13</td><td>4</td><td>96</td></tr><tr><td>12357.0</td><td>2011-11-06</td><td>12</td><td>67</td><td>9</td><td>96</td></tr><tr><td>12357.0</td><td>2011-11-06</td><td>4</td><td>127</td><td>13</td><td>96</td></tr><tr><td>12357.0</td><td>2011-11-06</td><td>16</td><td>61</td><td>8</td><td>96</td></tr><tr><td>12357.0</td><td>2011-11-06</td><td>72</td><td>3</td><td>2</td><td>96</td></tr><tr><td>12357.0</td><td>2011-11-06</td><td>24</td><td>21</td><td>6</td><td>96</td></tr><tr><td>12357.0</td><td>2011-11-06</td><td>30</td><td>18</td><td>5</td><td>96</td></tr><tr><td>12357.0</td><td>2011-11-06</td><td>24</td><td>21</td><td>6</td><td>96</td></tr><tr><td>12357.0</td><td>2011-11-06</td><td>6</td><td>117</td><td>12</td><td>96</td></tr><tr><td>12357.0</td><td>2011-11-06</td><td>12</td><td>67</td><td>9</td><td>96</td></tr><tr><td>12357.0</td><td>2011-11-06</td><td>30</td><td>18</td><td>5</td><td>96</td></tr><tr><td>12357.0</td><td>2011-11-06</td><td>48</td><td>6</td><td>3</td><td>96</td></tr><tr><td>12357.0</td><td>2011-11-06</td><td>12</td><td>67</td><td>9</td><td>96</td></tr><tr><td>12357.0</td><td>2011-11-06</td><td>24</td><td>21</td><td>6</td><td>96</td></tr><tr><td>12357.0</td><td>2011-11-06</td><td>24</td><td>21</td><td>6</td><td>96</td></tr><tr><td>12357.0</td><td>2011-11-06</td><td>6</td><td>117</td><td>12</td><td>96</td></tr><tr><td>12357.0</td><td>2011-11-06</td><td>24</td><td>21</td><td>6</td><td>96</td></tr><tr><td>12357.0</td><td>2011-11-06</td><td>24</td><td>21</td><td>6</td><td>96</td></tr><tr><td>12357.0</td><td>2011-11-06</td><td>24</td><td>21</td><td>6</td><td>96</td></tr><tr><td>12357.0</td><td>2011-11-06</td><td>24</td><td>21</td><td>6</td><td>96</td></tr><tr><td>12357.0</td><td>2011-11-06</td><td>12</td><td>67</td><td>9</td><td>96</td></tr><tr><td>12357.0</td><td>2011-11-06</td><td>8</td><td>110</td><td>11</td><td>96</td></tr><tr><td>12357.0</td><td>2011-11-06</td><td>6</td><td>117</td><td>12</td><td>96</td></tr><tr><td>12357.0</td><td>2011-11-06</td><td>24</td><td>21</td><td>6</td><td>96</td></tr><tr><td>12357.0</td><td>2011-11-06</td><td>12</td><td>67</td><td>9</td><td>96</td></tr><tr><td>12357.0</td><td>2011-11-06</td><td>8</td><td>110</td><td>11</td><td>96</td></tr><tr><td>12357.0</td><td>2011-11-06</td><td>24</td><td>21</td><td>6</td><td>96</td></tr><tr><td>12357.0</td><td>2011-11-06</td><td>24</td><td>21</td><td>6</td><td>96</td></tr><tr><td>12357.0</td><td>2011-11-06</td><td>24</td><td>21</td><td>6</td><td>96</td></tr><tr><td>12357.0</td><td>2011-11-06</td><td>9</td><td>108</td><td>10</td><td>96</td></tr><tr><td>12357.0</td><td>2011-11-06</td><td>36</td><td>13</td><td>4</td><td>96</td></tr><tr><td>12357.0</td><td>2011-11-06</td><td>4</td><td>127</td><td>13</td><td>96</td></tr><tr><td>12357.0</td><td>2011-11-06</td><td>12</td><td>67</td><td>9</td><td>96</td></tr><tr><td>12357.0</td><td>2011-11-06</td><td>6</td><td>117</td><td>12</td><td>96</td></tr><tr><td>12357.0</td><td>2011-11-06</td><td>48</td><td>6</td><td>3</td><td>96</td></tr><tr><td>12357.0</td><td>2011-11-06</td><td>8</td><td>110</td><td>11</td><td>96</td></tr><tr><td>12357.0</td><td>2011-11-06</td><td>24</td><td>21</td><td>6</td><td>96</td></tr><tr><td>12357.0</td><td>2011-11-06</td><td>24</td><td>21</td><td>6</td><td>96</td></tr><tr><td>12357.0</td><td>2011-11-06</td><td>12</td><td>67</td><td>9</td><td>96</td></tr><tr><td>12357.0</td><td>2011-11-06</td><td>3</td><td>130</td><td>14</td><td>96</td></tr><tr><td>12357.0</td><td>2011-11-06</td><td>96</td><td>1</td><td>1</td><td>96</td></tr><tr><td>12357.0</td><td>2011-11-06</td><td>24</td><td>21</td><td>6</td><td>96</td></tr><tr><td>12357.0</td><td>2011-11-06</td><td>24</td><td>21</td><td>6</td><td>96</td></tr><tr><td>12357.0</td><td>2011-11-06</td><td>12</td><td>67</td><td>9</td><td>96</td></tr><tr><td>12357.0</td><td>2011-11-06</td><td>48</td><td>6</td><td>3</td><td>96</td></tr><tr><td>12357.0</td><td>2011-11-06</td><td>24</td><td>21</td><td>6</td><td>96</td></tr><tr><td>12357.0</td><td>2011-11-06</td><td>12</td><td>67</td><td>9</td><td>96</td></tr><tr><td>12357.0</td><td>2011-11-06</td><td>24</td><td>21</td><td>6</td><td>96</td></tr><tr><td>12357.0</td><td>2011-11-06</td><td>24</td><td>21</td><td>6</td><td>96</td></tr><tr><td>12357.0</td><td>2011-11-06</td><td>12</td><td>67</td><td>9</td><td>96</td></tr><tr><td>12357.0</td><td>2011-11-06</td><td>12</td><td>67</td><td>9</td><td>96</td></tr><tr><td>12357.0</td><td>2011-11-06</td><td>6</td><td>117</td><td>12</td><td>96</td></tr><tr><td>12357.0</td><td>2011-11-06</td><td>12</td><td>67</td><td>9</td><td>96</td></tr><tr><td>12357.0</td><td>2011-11-06</td><td>24</td><td>21</td><td>6</td><td>96</td></tr><tr><td>12357.0</td><td>2011-11-06</td><td>24</td><td>21</td><td>6</td><td>96</td></tr><tr><td>12357.0</td><td>2011-11-06</td><td>12</td><td>67</td><td>9</td><td>96</td></tr><tr><td>12357.0</td><td>2011-11-06</td><td>12</td><td>67</td><td>9</td><td>96</td></tr><tr><td>12357.0</td><td>2011-11-06</td><td>20</td><td>60</td><td>7</td><td>96</td></tr><tr><td>12357.0</td><td>2011-11-06</td><td>72</td><td>3</td><td>2</td><td>96</td></tr><tr><td>12357.0</td><td>2011-11-06</td><td>12</td><td>67</td><td>9</td><td>96</td></tr><tr><td>12357.0</td><td>2011-11-06</td><td>48</td><td>6</td><td>3</td><td>96</td></tr><tr><td>12357.0</td><td>2011-11-06</td><td>6</td><td>117</td><td>12</td><td>96</td></tr><tr><td>12357.0</td><td>2011-11-06</td><td>48</td><td>6</td><td>3</td><td>96</td></tr><tr><td>12357.0</td><td>2011-11-06</td><td>48</td><td>6</td><td>3</td><td>96</td></tr><tr><td>12357.0</td><td>2011-11-06</td><td>12</td><td>67</td><td>9</td><td>96</td></tr><tr><td>12357.0</td><td>2011-11-06</td><td>12</td><td>67</td><td>9</td><td>96</td></tr><tr><td>12357.0</td><td>2011-11-06</td><td>24</td><td>21</td><td>6</td><td>96</td></tr><tr><td>12357.0</td><td>2011-11-06</td><td>16</td><td>61</td><td>8</td><td>96</td></tr><tr><td>12357.0</td><td>2011-11-06</td><td>36</td><td>13</td><td>4</td><td>96</td></tr><tr><td>12357.0</td><td>2011-11-06</td><td>8</td><td>110</td><td>11</td><td>96</td></tr><tr><td>12357.0</td><td>2011-11-06</td><td>24</td><td>21</td><td>6</td><td>96</td></tr><tr><td>12357.0</td><td>2011-11-06</td><td>12</td><td>67</td><td>9</td><td>96</td></tr><tr><td>12357.0</td><td>2011-11-06</td><td>16</td><td>61</td><td>8</td><td>96</td></tr><tr><td>12357.0</td><td>2011-11-06</td><td>12</td><td>67</td><td>9</td><td>96</td></tr><tr><td>12357.0</td><td>2011-11-06</td><td>24</td><td>21</td><td>6</td><td>96</td></tr><tr><td>12357.0</td><td>2011-11-06</td><td>24</td><td>21</td><td>6</td><td>96</td></tr><tr><td>12357.0</td><td>2011-11-06</td><td>12</td><td>67</td><td>9</td><td>96</td></tr><tr><td>12357.0</td><td>2011-11-06</td><td>12</td><td>67</td><td>9</td><td>96</td></tr><tr><td>12357.0</td><td>2011-11-06</td><td>9</td><td>108</td><td>10</td><td>96</td></tr><tr><td>12357.0</td><td>2011-11-06</td><td>24</td><td>21</td><td>6</td><td>96</td></tr><tr><td>12357.0</td><td>2011-11-06</td><td>12</td><td>67</td><td>9</td><td>96</td></tr><tr><td>12357.0</td><td>2011-11-06</td><td>24</td><td>21</td><td>6</td><td>96</td></tr><tr><td>12357.0</td><td>2011-11-06</td><td>16</td><td>61</td><td>8</td><td>96</td></tr><tr><td>12357.0</td><td>2011-11-06</td><td>4</td><td>127</td><td>13</td><td>96</td></tr><tr><td>12357.0</td><td>2011-11-06</td><td>96</td><td>1</td><td>1</td><td>96</td></tr><tr><td>12357.0</td><td>2011-11-06</td><td>12</td><td>67</td><td>9</td><td>96</td></tr><tr><td>12357.0</td><td>2011-11-06</td><td>16</td><td>61</td><td>8</td><td>96</td></tr><tr><td>12357.0</td><td>2011-11-06</td><td>12</td><td>67</td><td>9</td><td>96</td></tr><tr><td>12357.0</td><td>2011-11-06</td><td>16</td><td>61</td><td>8</td><td>96</td></tr><tr><td>12357.0</td><td>2011-11-06</td><td>12</td><td>67</td><td>9</td><td>96</td></tr><tr><td>12357.0</td><td>2011-11-06</td><td>1</td><td>131</td><td>15</td><td>96</td></tr><tr><td>12357.0</td><td>2011-11-06</td><td>8</td><td>110</td><td>11</td><td>96</td></tr><tr><td>12357.0</td><td>2011-11-06</td><td>24</td><td>21</td><td>6</td><td>96</td></tr><tr><td>12357.0</td><td>2011-11-06</td><td>12</td><td>67</td><td>9</td><td>96</td></tr><tr><td>12357.0</td><td>2011-11-06</td><td>12</td><td>67</td><td>9</td><td>96</td></tr><tr><td>12357.0</td><td>2011-11-06</td><td>48</td><td>6</td><td>3</td><td>96</td></tr><tr><td>12357.0</td><td>2011-11-06</td><td>36</td><td>13</td><td>4</td><td>96</td></tr><tr><td>12357.0</td><td>2011-11-06</td><td>24</td><td>21</td><td>6</td><td>96</td></tr><tr><td>12357.0</td><td>2011-11-06</td><td>12</td><td>67</td><td>9</td><td>96</td></tr><tr><td>12357.0</td><td>2011-11-06</td><td>12</td><td>67</td><td>9</td><td>96</td></tr><tr><td>12357.0</td><td>2011-11-06</td><td>24</td><td>21</td><td>6</td><td>96</td></tr><tr><td>12357.0</td><td>2011-11-06</td><td>12</td><td>67</td><td>9</td><td>96</td></tr><tr><td>12357.0</td><td>2011-11-06</td><td>24</td><td>21</td><td>6</td><td>96</td></tr><tr><td>12357.0</td><td>2011-11-06</td><td>24</td><td>21</td><td>6</td><td>96</td></tr><tr><td>12357.0</td><td>2011-11-06</td><td>30</td><td>18</td><td>5</td><td>96</td></tr><tr><td>12357.0</td><td>2011-11-06</td><td>12</td><td>67</td><td>9</td><td>96</td></tr><tr><td>12357.0</td><td>2011-11-06</td><td>24</td><td>21</td><td>6</td><td>96</td></tr><tr><td>12357.0</td><td>2011-11-06</td><td>8</td><td>110</td><td>11</td><td>96</td></tr><tr><td>12357.0</td><td>2011-11-06</td><td>24</td><td>21</td><td>6</td><td>96</td></tr><tr><td>12357.0</td><td>2011-11-06</td><td>24</td><td>21</td><td>6</td><td>96</td></tr><tr><td>12357.0</td><td>2011-11-06</td><td>12</td><td>67</td><td>9</td><td>96</td></tr><tr><td>12357.0</td><td>2011-11-06</td><td>12</td><td>67</td><td>9</td><td>96</td></tr><tr><td>12357.0</td><td>2011-11-06</td><td>12</td><td>67</td><td>9</td><td>96</td></tr><tr><td>12357.0</td><td>2011-11-06</td><td>12</td><td>67</td><td>9</td><td>96</td></tr><tr><td>12358.0</td><td>2011-07-12</td><td>2</td><td>10</td><td>4</td><td>12</td></tr><tr><td>12358.0</td><td>2011-12-08</td><td>36</td><td>1</td><td>1</td><td>36</td></tr><tr><td>12358.0</td><td>2011-07-12</td><td>4</td><td>9</td><td>3</td><td>12</td></tr><tr><td>12358.0</td><td>2011-12-08</td><td>24</td><td>2</td><td>2</td><td>36</td></tr><tr><td>12358.0</td><td>2011-12-08</td><td>24</td><td>2</td><td>2</td><td>36</td></tr><tr><td>12358.0</td><td>2011-07-12</td><td>6</td><td>8</td><td>2</td><td>12</td></tr><tr><td>12358.0</td><td>2011-07-12</td><td>12</td><td>1</td><td>1</td><td>12</td></tr><tr><td>12358.0</td><td>2011-07-12</td><td>12</td><td>1</td><td>1</td><td>12</td></tr><tr><td>12358.0</td><td>2011-07-12</td><td>2</td><td>10</td><td>4</td><td>12</td></tr><tr><td>12358.0</td><td>2011-07-12</td><td>12</td><td>1</td><td>1</td><td>12</td></tr><tr><td>12358.0</td><td>2011-12-08</td><td>12</td><td>6</td><td>3</td><td>36</td></tr><tr><td>12358.0</td><td>2011-12-08</td><td>24</td><td>2</td><td>2</td><td>36</td></tr><tr><td>12358.0</td><td>2011-12-08</td><td>24</td><td>2</td><td>2</td><td>36</td></tr><tr><td>12358.0</td><td>2011-07-12</td><td>12</td><td>1</td><td>1</td><td>12</td></tr><tr><td>12358.0</td><td>2011-07-12</td><td>12</td><td>1</td><td>1</td><td>12</td></tr><tr><td>12358.0</td><td>2011-07-12</td><td>12</td><td>1</td><td>1</td><td>12</td></tr><tr><td>12358.0</td><td>2011-07-12</td><td>2</td><td>10</td><td>4</td><td>12</td></tr><tr><td>12358.0</td><td>2011-07-12</td><td>12</td><td>1</td><td>1</td><td>12</td></tr><tr><td>12358.0</td><td>2011-12-08</td><td>4</td><td>7</td><td>4</td><td>36</td></tr><tr><td>12359.0</td><td>2011-02-07</td><td>1</td><td>75</td><td>10</td><td>25</td></tr><tr><td>12359.0</td><td>2011-10-13</td><td>4</td><td>50</td><td>7</td><td>24</td></tr><tr><td>12359.0</td><td>2011-02-07</td><td>3</td><td>42</td><td>8</td><td>25</td></tr><tr><td>12359.0</td><td>2011-06-03</td><td>6</td><td>24</td><td>5</td><td>24</td></tr><tr><td>12359.0</td><td>2011-06-03</td><td>6</td><td>24</td><td>5</td><td>24</td></tr><tr><td>12359.0</td><td>2011-06-03</td><td>2</td><td>38</td><td>8</td><td>24</td></tr><tr><td>12359.0</td><td>2011-02-07</td><td>3</td><td>42</td><td>8</td><td>25</td></tr><tr><td>12359.0</td><td>2011-10-13</td><td>4</td><td>50</td><td>7</td><td>24</td></tr><tr><td>12359.0</td><td>2011-06-03</td><td>12</td><td>3</td><td>2</td><td>24</td></tr><tr><td>12359.0</td><td>2011-10-13</td><td>16</td><td>2</td><td>2</td><td>24</td></tr><tr><td>12359.0</td><td>2011-06-03</td><td>6</td><td>24</td><td>5</td><td>24</td></tr><tr><td>12359.0</td><td>2011-06-03</td><td>6</td><td>24</td><td>5</td><td>24</td></tr><tr><td>12359.0</td><td>2011-10-13</td><td>24</td><td>1</td><td>1</td><td>24</td></tr><tr><td>12359.0</td><td>2011-02-07</td><td>25</td><td>1</td><td>1</td><td>25</td></tr><tr><td>12359.0</td><td>2011-06-03</td><td>4</td><td>31</td><td>6</td><td>24</td></tr><tr><td>12359.0</td><td>2011-06-03</td><td>10</td><td>12</td><td>3</td><td>24</td></tr><tr><td>12359.0</td><td>2011-12-02</td><td>-1</td><td>1</td><td>1</td><td>-1</td></tr><tr><td>12359.0</td><td>2011-02-07</td><td>2</td><td>52</td><td>9</td><td>25</td></tr><tr><td>12359.0</td><td>2011-06-03</td><td>2</td><td>38</td><td>8</td><td>24</td></tr><tr><td>12359.0</td><td>2011-06-03</td><td>2</td><td>38</td><td>8</td><td>24</td></tr><tr><td>12359.0</td><td>2011-10-13</td><td>12</td><td>6</td><td>3</td><td>24</td></tr><tr><td>12359.0</td><td>2011-10-13</td><td>4</td><td>50</td><td>7</td><td>24</td></tr><tr><td>12359.0</td><td>2011-10-13</td><td>4</td><td>50</td><td>7</td><td>24</td></tr><tr><td>12359.0</td><td>2011-10-13</td><td>3</td><td>78</td><td>8</td><td>24</td></tr><tr><td>12359.0</td><td>2011-10-13</td><td>3</td><td>78</td><td>8</td><td>24</td></tr><tr><td>12359.0</td><td>2011-02-07</td><td>2</td><td>52</td><td>9</td><td>25</td></tr><tr><td>12359.0</td><td>2011-10-13</td><td>2</td><td>89</td><td>9</td><td>24</td></tr><tr><td>12359.0</td><td>2011-06-03</td><td>12</td><td>3</td><td>2</td><td>24</td></tr><tr><td>12359.0</td><td>2011-06-03</td><td>2</td><td>38</td><td>8</td><td>24</td></tr><tr><td>12359.0</td><td>2011-10-13</td><td>12</td><td>6</td><td>3</td><td>24</td></tr><tr><td>12359.0</td><td>2011-06-03</td><td>10</td><td>12</td><td>3</td><td>24</td></tr><tr><td>12359.0</td><td>2011-10-13</td><td>4</td><td>50</td><td>7</td><td>24</td></tr><tr><td>12359.0</td><td>2011-06-03</td><td>10</td><td>12</td><td>3</td><td>24</td></tr><tr><td>12359.0</td><td>2011-02-07</td><td>4</td><td>33</td><td>7</td><td>25</td></tr><tr><td>12359.0</td><td>2011-10-13</td><td>12</td><td>6</td><td>3</td><td>24</td></tr><tr><td>12359.0</td><td>2011-06-03</td><td>4</td><td>31</td><td>6</td><td>24</td></tr><tr><td>12359.0</td><td>2011-02-07</td><td>10</td><td>18</td><td>4</td><td>25</td></tr><tr><td>12359.0</td><td>2011-02-07</td><td>3</td><td>42</td><td>8</td><td>25</td></tr><tr><td>12359.0</td><td>2011-06-03</td><td>10</td><td>12</td><td>3</td><td>24</td></tr><tr><td>12359.0</td><td>2011-06-03</td><td>4</td><td>31</td><td>6</td><td>24</td></tr><tr><td>12359.0</td><td>2011-06-03</td><td>4</td><td>31</td><td>6</td><td>24</td></tr><tr><td>12359.0</td><td>2011-06-03</td><td>8</td><td>20</td><td>4</td><td>24</td></tr><tr><td>12359.0</td><td>2011-06-03</td><td>12</td><td>3</td><td>2</td><td>24</td></tr><tr><td>12359.0</td><td>2011-06-03</td><td>24</td><td>1</td><td>1</td><td>24</td></tr><tr><td>12359.0</td><td>2011-06-03</td><td>2</td><td>38</td><td>8</td><td>24</td></tr><tr><td>12359.0</td><td>2011-06-03</td><td>8</td><td>20</td><td>4</td><td>24</td></tr><tr><td>12359.0</td><td>2011-06-03</td><td>2</td><td>38</td><td>8</td><td>24</td></tr><tr><td>12359.0</td><td>2011-06-03</td><td>12</td><td>3</td><td>2</td><td>24</td></tr><tr><td>12359.0</td><td>2011-06-03</td><td>12</td><td>3</td><td>2</td><td>24</td></tr><tr><td>12359.0</td><td>2011-02-07</td><td>2</td><td>52</td><td>9</td><td>25</td></tr><tr><td>12359.0</td><td>2011-02-07</td><td>3</td><td>42</td><td>8</td><td>25</td></tr><tr><td>12359.0</td><td>2011-02-07</td><td>4</td><td>33</td><td>7</td><td>25</td></tr><tr><td>12359.0</td><td>2011-10-13</td><td>6</td><td>31</td><td>6</td><td>24</td></tr><tr><td>12359.0</td><td>2011-10-13</td><td>12</td><td>6</td><td>3</td><td>24</td></tr><tr><td>12359.0</td><td>2011-10-13</td><td>4</td><td>50</td><td>7</td><td>24</td></tr><tr><td>12359.0</td><td>2011-10-13</td><td>6</td><td>31</td><td>6</td><td>24</td></tr><tr><td>12359.0</td><td>2011-10-13</td><td>6</td><td>31</td><td>6</td><td>24</td></tr><tr><td>12359.0</td><td>2011-10-13</td><td>12</td><td>6</td><td>3</td><td>24</td></tr><tr><td>12359.0</td><td>2011-10-13</td><td>6</td><td>31</td><td>6</td><td>24</td></tr><tr><td>12359.0</td><td>2011-06-03</td><td>10</td><td>12</td><td>3</td><td>24</td></tr><tr><td>12359.0</td><td>2011-10-13</td><td>12</td><td>6</td><td>3</td><td>24</td></tr><tr><td>12359.0</td><td>2011-10-13</td><td>3</td><td>78</td><td>8</td><td>24</td></tr><tr><td>12359.0</td><td>2011-10-13</td><td>2</td><td>89</td><td>9</td><td>24</td></tr><tr><td>12359.0</td><td>2011-10-13</td><td>3</td><td>78</td><td>8</td><td>24</td></tr><tr><td>12359.0</td><td>2011-02-07</td><td>4</td><td>33</td><td>7</td><td>25</td></tr><tr><td>12359.0</td><td>2011-10-13</td><td>16</td><td>2</td><td>2</td><td>24</td></tr><tr><td>12359.0</td><td>2011-02-07</td><td>12</td><td>4</td><td>3</td><td>25</td></tr><tr><td>12359.0</td><td>2011-10-13</td><td>12</td><td>6</td><td>3</td><td>24</td></tr><tr><td>12359.0</td><td>2011-10-13</td><td>6</td><td>31</td><td>6</td><td>24</td></tr><tr><td>12359.0</td><td>2011-01-12</td><td>8</td><td>6</td><td>3</td><td>20</td></tr><tr><td>12359.0</td><td>2011-01-12</td><td>8</td><td>6</td><td>3</td><td>20</td></tr><tr><td>12359.0</td><td>2011-02-07</td><td>12</td><td>4</td><td>3</td><td>25</td></tr><tr><td>12359.0</td><td>2011-06-03</td><td>4</td><td>31</td><td>6</td><td>24</td></tr><tr><td>12359.0</td><td>2011-10-13</td><td>2</td><td>89</td><td>9</td><td>24</td></tr><tr><td>12359.0</td><td>2011-02-07</td><td>12</td><td>4</td><td>3</td><td>25</td></tr><tr><td>12359.0</td><td>2011-10-13</td><td>12</td><td>6</td><td>3</td><td>24</td></tr><tr><td>12359.0</td><td>2011-01-12</td><td>3</td><td>13</td><td>5</td><td>20</td></tr><tr><td>12359.0</td><td>2011-02-07</td><td>12</td><td>4</td><td>3</td><td>25</td></tr><tr><td>12359.0</td><td>2011-02-07</td><td>12</td><td>4</td><td>3</td><td>25</td></tr><tr><td>12359.0</td><td>2011-02-07</td><td>24</td><td>3</td><td>2</td><td>25</td></tr><tr><td>12359.0</td><td>2011-10-13</td><td>2</td><td>89</td><td>9</td><td>24</td></tr><tr><td>12359.0</td><td>2011-02-07</td><td>2</td><td>52</td><td>9</td><td>25</td></tr><tr><td>12359.0</td><td>2011-02-07</td><td>2</td><td>52</td><td>9</td><td>25</td></tr><tr><td>12359.0</td><td>2011-06-03</td><td>12</td><td>3</td><td>2</td><td>24</td></tr><tr><td>12359.0</td><td>2011-02-07</td><td>1</td><td>75</td><td>10</td><td>25</td></tr><tr><td>12359.0</td><td>2011-06-03</td><td>10</td><td>12</td><td>3</td><td>24</td></tr><tr><td>12359.0</td><td>2011-10-13</td><td>4</td><td>50</td><td>7</td><td>24</td></tr><tr><td>12359.0</td><td>2011-10-13</td><td>8</td><td>29</td><td>5</td><td>24</td></tr><tr><td>12359.0</td><td>2011-10-13</td><td>4</td><td>50</td><td>7</td><td>24</td></tr><tr><td>12359.0</td><td>2011-10-13</td><td>4</td><td>50</td><td>7</td><td>24</td></tr><tr><td>12359.0</td><td>2011-02-07</td><td>3</td><td>42</td><td>8</td><td>25</td></tr><tr><td>12359.0</td><td>2011-10-13</td><td>6</td><td>31</td><td>6</td><td>24</td></tr><tr><td>12359.0</td><td>2011-02-07</td><td>6</td><td>22</td><td>5</td><td>25</td></tr><tr><td>12359.0</td><td>2011-02-07</td><td>6</td><td>22</td><td>5</td><td>25</td></tr><tr><td>12359.0</td><td>2011-06-03</td><td>4</td><td>31</td><td>6</td><td>24</td></tr><tr><td>12359.0</td><td>2011-06-03</td><td>24</td><td>1</td><td>1</td><td>24</td></tr><tr><td>12359.0</td><td>2011-02-07</td><td>1</td><td>75</td><td>10</td><td>25</td></tr><tr><td>12359.0</td><td>2011-02-07</td><td>3</td><td>42</td><td>8</td><td>25</td></tr><tr><td>12359.0</td><td>2011-06-03</td><td>8</td><td>20</td><td>4</td><td>24</td></tr><tr><td>12359.0</td><td>2011-06-03</td><td>2</td><td>38</td><td>8</td><td>24</td></tr><tr><td>12359.0</td><td>2011-02-07</td><td>12</td><td>4</td><td>3</td><td>25</td></tr><tr><td>12359.0</td><td>2011-02-07</td><td>12</td><td>4</td><td>3</td><td>25</td></tr><tr><td>12359.0</td><td>2011-06-03</td><td>2</td><td>38</td><td>8</td><td>24</td></tr><tr><td>12359.0</td><td>2011-06-03</td><td>12</td><td>3</td><td>2</td><td>24</td></tr><tr><td>12359.0</td><td>2011-01-12</td><td>1</td><td>15</td><td>6</td><td>20</td></tr><tr><td>12359.0</td><td>2011-06-03</td><td>10</td><td>12</td><td>3</td><td>24</td></tr><tr><td>12359.0</td><td>2011-06-03</td><td>6</td><td>24</td><td>5</td><td>24</td></tr><tr><td>12359.0</td><td>2011-02-07</td><td>4</td><td>33</td><td>7</td><td>25</td></tr><tr><td>12359.0</td><td>2011-06-03</td><td>10</td><td>12</td><td>3</td><td>24</td></tr><tr><td>12359.0</td><td>2011-10-13</td><td>4</td><td>50</td><td>7</td><td>24</td></tr><tr><td>12359.0</td><td>2011-10-13</td><td>3</td><td>78</td><td>8</td><td>24</td></tr><tr><td>12359.0</td><td>2011-02-07</td><td>12</td><td>4</td><td>3</td><td>25</td></tr><tr><td>12359.0</td><td>2011-10-13</td><td>16</td><td>2</td><td>2</td><td>24</td></tr><tr><td>12359.0</td><td>2011-10-13</td><td>4</td><td>50</td><td>7</td><td>24</td></tr><tr><td>12359.0</td><td>2011-10-13</td><td>12</td><td>6</td><td>3</td><td>24</td></tr><tr><td>12359.0</td><td>2011-10-13</td><td>4</td><td>50</td><td>7</td><td>24</td></tr><tr><td>12359.0</td><td>2011-02-07</td><td>2</td><td>52</td><td>9</td><td>25</td></tr><tr><td>12359.0</td><td>2011-10-13</td><td>6</td><td>31</td><td>6</td><td>24</td></tr><tr><td>12359.0</td><td>2011-02-07</td><td>2</td><td>52</td><td>9</td><td>25</td></tr><tr><td>12359.0</td><td>2011-10-13</td><td>4</td><td>50</td><td>7</td><td>24</td></tr><tr><td>12359.0</td><td>2011-10-13</td><td>12</td><td>6</td><td>3</td><td>24</td></tr><tr><td>12359.0</td><td>2011-10-13</td><td>4</td><td>50</td><td>7</td><td>24</td></tr><tr><td>12359.0</td><td>2011-10-13</td><td>6</td><td>31</td><td>6</td><td>24</td></tr><tr><td>12359.0</td><td>2011-10-13</td><td>6</td><td>31</td><td>6</td><td>24</td></tr><tr><td>12359.0</td><td>2011-10-13</td><td>3</td><td>78</td><td>8</td><td>24</td></tr><tr><td>12359.0</td><td>2011-02-07</td><td>2</td><td>52</td><td>9</td><td>25</td></tr><tr><td>12359.0</td><td>2011-02-07</td><td>2</td><td>52</td><td>9</td><td>25</td></tr><tr><td>12359.0</td><td>2011-10-13</td><td>6</td><td>31</td><td>6</td><td>24</td></tr><tr><td>12359.0</td><td>2011-02-07</td><td>12</td><td>4</td><td>3</td><td>25</td></tr><tr><td>12359.0</td><td>2011-02-07</td><td>10</td><td>18</td><td>4</td><td>25</td></tr><tr><td>12359.0</td><td>2011-10-13</td><td>2</td><td>89</td><td>9</td><td>24</td></tr><tr><td>12359.0</td><td>2011-01-12</td><td>1</td><td>15</td><td>6</td><td>20</td></tr><tr><td>12359.0</td><td>2011-10-13</td><td>3</td><td>78</td><td>8</td><td>24</td></tr><tr><td>12359.0</td><td>2011-10-13</td><td>3</td><td>78</td><td>8</td><td>24</td></tr><tr><td>12359.0</td><td>2011-02-07</td><td>2</td><td>52</td><td>9</td><td>25</td></tr><tr><td>12359.0</td><td>2011-01-12</td><td>12</td><td>4</td><td>2</td><td>20</td></tr><tr><td>12359.0</td><td>2011-10-13</td><td>3</td><td>78</td><td>8</td><td>24</td></tr><tr><td>12359.0</td><td>2011-01-12</td><td>8</td><td>6</td><td>3</td><td>20</td></tr><tr><td>12359.0</td><td>2011-01-12</td><td>20</td><td>1</td><td>1</td><td>20</td></tr><tr><td>12359.0</td><td>2011-10-13</td><td>6</td><td>31</td><td>6</td><td>24</td></tr><tr><td>12359.0</td><td>2011-10-13</td><td>2</td><td>89</td><td>9</td><td>24</td></tr><tr><td>12359.0</td><td>2011-10-13</td><td>6</td><td>31</td><td>6</td><td>24</td></tr><tr><td>12359.0</td><td>2011-01-12</td><td>20</td><td>1</td><td>1</td><td>20</td></tr><tr><td>12359.0</td><td>2011-10-13</td><td>2</td><td>89</td><td>9</td><td>24</td></tr><tr><td>12359.0</td><td>2011-02-07</td><td>1</td><td>75</td><td>10</td><td>25</td></tr><tr><td>12359.0</td><td>2011-02-07</td><td>6</td><td>22</td><td>5</td><td>25</td></tr><tr><td>12359.0</td><td>2011-01-12</td><td>6</td><td>11</td><td>4</td><td>20</td></tr><tr><td>12359.0</td><td>2011-01-12</td><td>20</td><td>1</td><td>1</td><td>20</td></tr><tr><td>12359.0</td><td>2011-10-13</td><td>10</td><td>22</td><td>4</td><td>24</td></tr><tr><td>12359.0</td><td>2011-10-13</td><td>2</td><td>89</td><td>9</td><td>24</td></tr><tr><td>12359.0</td><td>2011-10-13</td><td>6</td><td>31</td><td>6</td><td>24</td></tr><tr><td>12359.0</td><td>2011-01-12</td><td>8</td><td>6</td><td>3</td><td>20</td></tr><tr><td>12359.0</td><td>2011-10-13</td><td>2</td><td>89</td><td>9</td><td>24</td></tr><tr><td>12359.0</td><td>2011-02-07</td><td>2</td><td>52</td><td>9</td><td>25</td></tr><tr><td>12359.0</td><td>2011-10-13</td><td>4</td><td>50</td><td>7</td><td>24</td></tr><tr><td>12359.0</td><td>2011-06-03</td><td>6</td><td>24</td><td>5</td><td>24</td></tr><tr><td>12359.0</td><td>2011-10-13</td><td>4</td><td>50</td><td>7</td><td>24</td></tr><tr><td>12359.0</td><td>2011-10-13</td><td>10</td><td>22</td><td>4</td><td>24</td></tr><tr><td>12359.0</td><td>2011-10-13</td><td>1</td><td>104</td><td>10</td><td>24</td></tr><tr><td>12359.0</td><td>2011-10-13</td><td>4</td><td>50</td><td>7</td><td>24</td></tr><tr><td>12359.0</td><td>2011-10-13</td><td>2</td><td>89</td><td>9</td><td>24</td></tr><tr><td>12359.0</td><td>2011-02-07</td><td>12</td><td>4</td><td>3</td><td>25</td></tr><tr><td>12359.0</td><td>2011-10-13</td><td>1</td><td>104</td><td>10</td><td>24</td></tr><tr><td>12359.0</td><td>2011-02-07</td><td>4</td><td>33</td><td>7</td><td>25</td></tr><tr><td>12359.0</td><td>2011-10-13</td><td>10</td><td>22</td><td>4</td><td>24</td></tr><tr><td>12359.0</td><td>2011-10-13</td><td>12</td><td>6</td><td>3</td><td>24</td></tr><tr><td>12359.0</td><td>2011-10-13</td><td>16</td><td>2</td><td>2</td><td>24</td></tr><tr><td>12359.0</td><td>2011-10-13</td><td>10</td><td>22</td><td>4</td><td>24</td></tr><tr><td>12359.0</td><td>2011-10-13</td><td>12</td><td>6</td><td>3</td><td>24</td></tr><tr><td>12359.0</td><td>2011-10-13</td><td>4</td><td>50</td><td>7</td><td>24</td></tr><tr><td>12359.0</td><td>2011-10-13</td><td>12</td><td>6</td><td>3</td><td>24</td></tr><tr><td>12359.0</td><td>2011-10-13</td><td>8</td><td>29</td><td>5</td><td>24</td></tr><tr><td>12359.0</td><td>2011-10-13</td><td>4</td><td>50</td><td>7</td><td>24</td></tr><tr><td>12359.0</td><td>2011-10-13</td><td>6</td><td>31</td><td>6</td><td>24</td></tr><tr><td>12359.0</td><td>2011-02-07</td><td>12</td><td>4</td><td>3</td><td>25</td></tr><tr><td>12359.0</td><td>2011-10-13</td><td>2</td><td>89</td><td>9</td><td>24</td></tr><tr><td>12359.0</td><td>2011-02-07</td><td>3</td><td>42</td><td>8</td><td>25</td></tr><tr><td>12359.0</td><td>2011-12-02</td><td>-2</td><td>3</td><td>2</td><td>-1</td></tr><tr><td>12359.0</td><td>2011-06-03</td><td>2</td><td>38</td><td>8</td><td>24</td></tr><tr><td>12359.0</td><td>2011-12-02</td><td>-2</td><td>3</td><td>2</td><td>-1</td></tr><tr><td>12359.0</td><td>2011-06-03</td><td>12</td><td>3</td><td>2</td><td>24</td></tr><tr><td>12359.0</td><td>2011-02-07</td><td>5</td><td>32</td><td>6</td><td>25</td></tr><tr><td>12359.0</td><td>2011-06-03</td><td>12</td><td>3</td><td>2</td><td>24</td></tr><tr><td>12359.0</td><td>2011-02-07</td><td>3</td><td>42</td><td>8</td><td>25</td></tr><tr><td>12359.0</td><td>2011-02-07</td><td>6</td><td>22</td><td>5</td><td>25</td></tr><tr><td>12359.0</td><td>2011-02-07</td><td>6</td><td>22</td><td>5</td><td>25</td></tr><tr><td>12359.0</td><td>2011-02-07</td><td>2</td><td>52</td><td>9</td><td>25</td></tr><tr><td>12359.0</td><td>2011-06-03</td><td>8</td><td>20</td><td>4</td><td>24</td></tr><tr><td>12359.0</td><td>2011-02-07</td><td>4</td><td>33</td><td>7</td><td>25</td></tr><tr><td>12359.0</td><td>2011-02-07</td><td>12</td><td>4</td><td>3</td><td>25</td></tr><tr><td>12359.0</td><td>2011-04-13</td><td>-2</td><td>1</td><td>1</td><td>-2</td></tr><tr><td>12359.0</td><td>2011-02-07</td><td>2</td><td>52</td><td>9</td><td>25</td></tr><tr><td>12359.0</td><td>2011-06-03</td><td>1</td><td>47</td><td>9</td><td>24</td></tr><tr><td>12359.0</td><td>2011-02-07</td><td>12</td><td>4</td><td>3</td><td>25</td></tr><tr><td>12359.0</td><td>2011-01-12</td><td>8</td><td>6</td><td>3</td><td>20</td></tr><tr><td>12359.0</td><td>2011-02-07</td><td>2</td><td>52</td><td>9</td><td>25</td></tr><tr><td>12359.0</td><td>2011-10-13</td><td>6</td><td>31</td><td>6</td><td>24</td></tr><tr><td>12359.0</td><td>2011-10-13</td><td>4</td><td>50</td><td>7</td><td>24</td></tr><tr><td>12359.0</td><td>2011-02-07</td><td>6</td><td>22</td><td>5</td><td>25</td></tr><tr><td>12359.0</td><td>2011-10-13</td><td>12</td><td>6</td><td>3</td><td>24</td></tr><tr><td>12359.0</td><td>2011-10-13</td><td>4</td><td>50</td><td>7</td><td>24</td></tr><tr><td>12359.0</td><td>2011-10-13</td><td>4</td><td>50</td><td>7</td><td>24</td></tr><tr><td>12359.0</td><td>2011-10-13</td><td>4</td><td>50</td><td>7</td><td>24</td></tr><tr><td>12359.0</td><td>2011-10-13</td><td>4</td><td>50</td><td>7</td><td>24</td></tr><tr><td>12359.0</td><td>2011-10-13</td><td>3</td><td>78</td><td>8</td><td>24</td></tr><tr><td>12359.0</td><td>2011-10-13</td><td>6</td><td>31</td><td>6</td><td>24</td></tr><tr><td>12359.0</td><td>2011-02-07</td><td>6</td><td>22</td><td>5</td><td>25</td></tr><tr><td>12359.0</td><td>2011-10-13</td><td>12</td><td>6</td><td>3</td><td>24</td></tr><tr><td>12359.0</td><td>2011-10-13</td><td>6</td><td>31</td><td>6</td><td>24</td></tr><tr><td>12359.0</td><td>2011-02-07</td><td>4</td><td>33</td><td>7</td><td>25</td></tr><tr><td>12359.0</td><td>2011-10-13</td><td>3</td><td>78</td><td>8</td><td>24</td></tr><tr><td>12359.0</td><td>2011-02-07</td><td>6</td><td>22</td><td>5</td><td>25</td></tr><tr><td>12359.0</td><td>2011-02-07</td><td>2</td><td>52</td><td>9</td><td>25</td></tr><tr><td>12359.0</td><td>2011-02-07</td><td>2</td><td>52</td><td>9</td><td>25</td></tr><tr><td>12359.0</td><td>2011-02-07</td><td>2</td><td>52</td><td>9</td><td>25</td></tr><tr><td>12359.0</td><td>2011-10-13</td><td>12</td><td>6</td><td>3</td><td>24</td></tr><tr><td>12359.0</td><td>2011-10-13</td><td>2</td><td>89</td><td>9</td><td>24</td></tr><tr><td>12359.0</td><td>2011-10-13</td><td>6</td><td>31</td><td>6</td><td>24</td></tr><tr><td>12359.0</td><td>2011-01-12</td><td>12</td><td>4</td><td>2</td><td>20</td></tr><tr><td>12359.0</td><td>2011-02-07</td><td>6</td><td>22</td><td>5</td><td>25</td></tr><tr><td>12359.0</td><td>2011-02-07</td><td>2</td><td>52</td><td>9</td><td>25</td></tr><tr><td>12359.0</td><td>2011-10-13</td><td>6</td><td>31</td><td>6</td><td>24</td></tr><tr><td>12359.0</td><td>2011-10-13</td><td>2</td><td>89</td><td>9</td><td>24</td></tr><tr><td>12359.0</td><td>2011-01-12</td><td>3</td><td>13</td><td>5</td><td>20</td></tr><tr><td>12359.0</td><td>2011-02-07</td><td>2</td><td>52</td><td>9</td><td>25</td></tr><tr><td>12359.0</td><td>2011-02-07</td><td>4</td><td>33</td><td>7</td><td>25</td></tr><tr><td>12359.0</td><td>2011-10-13</td><td>2</td><td>89</td><td>9</td><td>24</td></tr><tr><td>12359.0</td><td>2011-02-07</td><td>1</td><td>75</td><td>10</td><td>25</td></tr><tr><td>12359.0</td><td>2011-10-13</td><td>4</td><td>50</td><td>7</td><td>24</td></tr><tr><td>12359.0</td><td>2011-02-07</td><td>1</td><td>75</td><td>10</td><td>25</td></tr><tr><td>12359.0</td><td>2011-02-07</td><td>6</td><td>22</td><td>5</td><td>25</td></tr><tr><td>12359.0</td><td>2011-10-13</td><td>4</td><td>50</td><td>7</td><td>24</td></tr><tr><td>12359.0</td><td>2011-02-07</td><td>2</td><td>52</td><td>9</td><td>25</td></tr><tr><td>12359.0</td><td>2011-02-07</td><td>10</td><td>18</td><td>4</td><td>25</td></tr><tr><td>12359.0</td><td>2011-10-13</td><td>4</td><td>50</td><td>7</td><td>24</td></tr><tr><td>12359.0</td><td>2011-10-13</td><td>10</td><td>22</td><td>4</td><td>24</td></tr><tr><td>12359.0</td><td>2011-02-07</td><td>25</td><td>1</td><td>1</td><td>25</td></tr><tr><td>12359.0</td><td>2011-02-07</td><td>4</td><td>33</td><td>7</td><td>25</td></tr><tr><td>12359.0</td><td>2011-12-02</td><td>-1</td><td>1</td><td>1</td><td>-1</td></tr><tr><td>12359.0</td><td>2011-02-07</td><td>3</td><td>42</td><td>8</td><td>25</td></tr><tr><td>12359.0</td><td>2011-06-03</td><td>3</td><td>37</td><td>7</td><td>24</td></tr><tr><td>12359.0</td><td>2011-04-13</td><td>-2</td><td>1</td><td>1</td><td>-2</td></tr><tr><td>12359.0</td><td>2011-06-03</td><td>6</td><td>24</td><td>5</td><td>24</td></tr><tr><td>12359.0</td><td>2011-02-07</td><td>2</td><td>52</td><td>9</td><td>25</td></tr><tr><td>12359.0</td><td>2011-02-07</td><td>12</td><td>4</td><td>3</td><td>25</td></tr><tr><td>12359.0</td><td>2011-02-07</td><td>10</td><td>18</td><td>4</td><td>25</td></tr><tr><td>12359.0</td><td>2011-02-07</td><td>3</td><td>42</td><td>8</td><td>25</td></tr><tr><td>12359.0</td><td>2011-10-13</td><td>4</td><td>50</td><td>7</td><td>24</td></tr><tr><td>12359.0</td><td>2011-02-07</td><td>2</td><td>52</td><td>9</td><td>25</td></tr><tr><td>12359.0</td><td>2011-02-07</td><td>2</td><td>52</td><td>9</td><td>25</td></tr><tr><td>12359.0</td><td>2011-10-13</td><td>10</td><td>22</td><td>4</td><td>24</td></tr><tr><td>12359.0</td><td>2011-10-13</td><td>2</td><td>89</td><td>9</td><td>24</td></tr><tr><td>12359.0</td><td>2011-01-12</td><td>6</td><td>11</td><td>4</td><td>20</td></tr><tr><td>12359.0</td><td>2011-10-13</td><td>10</td><td>22</td><td>4</td><td>24</td></tr><tr><td>12360.0</td><td>2011-10-18</td><td>12</td><td>7</td><td>3</td><td>24</td></tr><tr><td>12360.0</td><td>2011-10-18</td><td>12</td><td>7</td><td>3</td><td>24</td></tr><tr><td>12360.0</td><td>2011-05-23</td><td>12</td><td>3</td><td>3</td><td>36</td></tr><tr><td>12360.0</td><td>2011-08-19</td><td>12</td><td>1</td><td>1</td><td>12</td></tr><tr><td>12360.0</td><td>2011-05-23</td><td>6</td><td>29</td><td>6</td><td>36</td></tr><tr><td>12360.0</td><td>2011-05-23</td><td>4</td><td>41</td><td>7</td><td>36</td></tr><tr><td>12360.0</td><td>2011-10-18</td><td>12</td><td>7</td><td>3</td><td>24</td></tr><tr><td>12360.0</td><td>2011-08-19</td><td>4</td><td>29</td><td>5</td><td>12</td></tr><tr><td>12360.0</td><td>2011-10-18</td><td>4</td><td>44</td><td>6</td><td>24</td></tr><tr><td>12360.0</td><td>2011-10-18</td><td>24</td><td>1</td><td>1</td><td>24</td></tr><tr><td>12360.0</td><td>2011-10-18</td><td>6</td><td>32</td><td>5</td><td>24</td></tr><tr><td>12360.0</td><td>2011-05-23</td><td>12</td><td>3</td><td>3</td><td>36</td></tr><tr><td>12360.0</td><td>2011-05-23</td><td>6</td><td>29</td><td>6</td><td>36</td></tr><tr><td>12360.0</td><td>2011-10-18</td><td>8</td><td>23</td><td>4</td><td>24</td></tr><tr><td>12360.0</td><td>2011-05-23</td><td>6</td><td>29</td><td>6</td><td>36</td></tr><tr><td>12360.0</td><td>2011-10-18</td><td>3</td><td>49</td><td>7</td><td>24</td></tr><tr><td>12360.0</td><td>2011-10-18</td><td>4</td><td>44</td><td>6</td><td>24</td></tr><tr><td>12360.0</td><td>2011-10-18</td><td>4</td><td>44</td><td>6</td><td>24</td></tr><tr><td>12360.0</td><td>2011-10-18</td><td>4</td><td>44</td><td>6</td><td>24</td></tr><tr><td>12360.0</td><td>2011-05-23</td><td>12</td><td>3</td><td>3</td><td>36</td></tr><tr><td>12360.0</td><td>2011-05-23</td><td>12</td><td>3</td><td>3</td><td>36</td></tr><tr><td>12360.0</td><td>2011-10-18</td><td>6</td><td>32</td><td>5</td><td>24</td></tr><tr><td>12360.0</td><td>2011-05-23</td><td>24</td><td>2</td><td>2</td><td>36</td></tr><tr><td>12360.0</td><td>2011-10-18</td><td>8</td><td>23</td><td>4</td><td>24</td></tr><tr><td>12360.0</td><td>2011-08-19</td><td>10</td><td>6</td><td>2</td><td>12</td></tr><tr><td>12360.0</td><td>2011-10-18</td><td>6</td><td>32</td><td>5</td><td>24</td></tr><tr><td>12360.0</td><td>2011-05-23</td><td>4</td><td>41</td><td>7</td><td>36</td></tr><tr><td>12360.0</td><td>2011-10-18</td><td>6</td><td>32</td><td>5</td><td>24</td></tr><tr><td>12360.0</td><td>2011-05-23</td><td>4</td><td>41</td><td>7</td><td>36</td></tr><tr><td>12360.0</td><td>2011-05-23</td><td>8</td><td>22</td><td>5</td><td>36</td></tr><tr><td>12360.0</td><td>2011-10-18</td><td>4</td><td>44</td><td>6</td><td>24</td></tr><tr><td>12360.0</td><td>2011-10-18</td><td>6</td><td>32</td><td>5</td><td>24</td></tr><tr><td>12360.0</td><td>2011-05-23</td><td>6</td><td>29</td><td>6</td><td>36</td></tr><tr><td>12360.0</td><td>2011-05-23</td><td>10</td><td>21</td><td>4</td><td>36</td></tr><tr><td>12360.0</td><td>2011-05-23</td><td>12</td><td>3</td><td>3</td><td>36</td></tr><tr><td>12360.0</td><td>2011-10-18</td><td>6</td><td>32</td><td>5</td><td>24</td></tr><tr><td>12360.0</td><td>2011-05-23</td><td>12</td><td>3</td><td>3</td><td>36</td></tr><tr><td>12360.0</td><td>2011-05-23</td><td>6</td><td>29</td><td>6</td><td>36</td></tr><tr><td>12360.0</td><td>2011-05-23</td><td>6</td><td>29</td><td>6</td><td>36</td></tr><tr><td>12360.0</td><td>2011-05-23</td><td>12</td><td>3</td><td>3</td><td>36</td></tr><tr><td>12360.0</td><td>2011-10-18</td><td>8</td><td>23</td><td>4</td><td>24</td></tr><tr><td>12360.0</td><td>2011-10-18</td><td>6</td><td>32</td><td>5</td><td>24</td></tr><tr><td>12360.0</td><td>2011-10-18</td><td>8</td><td>23</td><td>4</td><td>24</td></tr><tr><td>12360.0</td><td>2011-05-23</td><td>6</td><td>29</td><td>6</td><td>36</td></tr><tr><td>12360.0</td><td>2011-10-18</td><td>6</td><td>32</td><td>5</td><td>24</td></tr><tr><td>12360.0</td><td>2011-10-18</td><td>6</td><td>32</td><td>5</td><td>24</td></tr><tr><td>12360.0</td><td>2011-05-23</td><td>4</td><td>41</td><td>7</td><td>36</td></tr><tr><td>12360.0</td><td>2011-08-19</td><td>8</td><td>10</td><td>3</td><td>12</td></tr><tr><td>12360.0</td><td>2011-10-18</td><td>6</td><td>32</td><td>5</td><td>24</td></tr><tr><td>12360.0</td><td>2011-08-19</td><td>2</td><td>30</td><td>6</td><td>12</td></tr><tr><td>12360.0</td><td>2011-10-18</td><td>8</td><td>23</td><td>4</td><td>24</td></tr><tr><td>12360.0</td><td>2011-05-23</td><td>12</td><td>3</td><td>3</td><td>36</td></tr><tr><td>12360.0</td><td>2011-05-23</td><td>6</td><td>29</td><td>6</td><td>36</td></tr><tr><td>12360.0</td><td>2011-10-18</td><td>8</td><td>23</td><td>4</td><td>24</td></tr><tr><td>12360.0</td><td>2011-10-18</td><td>8</td><td>23</td><td>4</td><td>24</td></tr><tr><td>12360.0</td><td>2011-10-18</td><td>6</td><td>32</td><td>5</td><td>24</td></tr><tr><td>12360.0</td><td>2011-05-23</td><td>6</td><td>29</td><td>6</td><td>36</td></tr><tr><td>12360.0</td><td>2011-10-18</td><td>6</td><td>32</td><td>5</td><td>24</td></tr><tr><td>12360.0</td><td>2011-08-19</td><td>8</td><td>10</td><td>3</td><td>12</td></tr><tr><td>12360.0</td><td>2011-10-18</td><td>12</td><td>7</td><td>3</td><td>24</td></tr><tr><td>12360.0</td><td>2011-08-19</td><td>6</td><td>20</td><td>4</td><td>12</td></tr><tr><td>12360.0</td><td>2011-10-18</td><td>8</td><td>23</td><td>4</td><td>24</td></tr></tbody></table>Showing the first 1000 rows.</div>"
      ]
     },
     "metadata": {
      "application/vnd.databricks.v1+output": {
       "addedWidgets": {},
       "aggData": [],
       "aggError": "",
       "aggOverflow": false,
       "aggSchema": [],
       "aggSeriesLimitReached": false,
       "aggType": "",
       "arguments": {},
       "columnCustomDisplayInfos": {},
       "data": [
        [
         12346,
         "2011-01-18",
         74215,
         1,
         1,
         74215
        ],
        [
         12346,
         "2011-01-18",
         -74215,
         2,
         2,
         74215
        ],
        [
         12347,
         "2011-04-07",
         6,
         15,
         6,
         240
        ],
        [
         12347,
         "2011-08-02",
         10,
         11,
         5,
         36
        ],
        [
         12347,
         "2011-08-02",
         4,
         16,
         8,
         36
        ],
        [
         12347,
         "2011-08-02",
         24,
         2,
         2,
         36
        ],
        [
         12347,
         "2011-08-02",
         8,
         13,
         6,
         36
        ],
        [
         12347,
         "2011-10-31",
         8,
         34,
         8,
         48
        ],
        [
         12347,
         "2011-10-31",
         12,
         14,
         6,
         48
        ],
        [
         12347,
         "2011-10-31",
         24,
         4,
         3,
         48
        ],
        [
         12347,
         "2010-12-07",
         4,
         24,
         6,
         36
        ],
        [
         12347,
         "2010-12-07",
         6,
         17,
         5,
         36
        ],
        [
         12347,
         "2010-12-07",
         12,
         4,
         4,
         36
        ],
        [
         12347,
         "2011-01-26",
         6,
         17,
         4,
         24
        ],
        [
         12347,
         "2011-04-07",
         12,
         5,
         4,
         240
        ],
        [
         12347,
         "2010-12-07",
         12,
         4,
         4,
         36
        ],
        [
         12347,
         "2011-08-02",
         4,
         16,
         8,
         36
        ],
        [
         12347,
         "2010-12-07",
         36,
         1,
         1,
         36
        ],
        [
         12347,
         "2010-12-07",
         12,
         4,
         4,
         36
        ],
        [
         12347,
         "2010-12-07",
         4,
         24,
         6,
         36
        ],
        [
         12347,
         "2010-12-07",
         4,
         24,
         6,
         36
        ],
        [
         12347,
         "2010-12-07",
         3,
         31,
         7,
         36
        ],
        [
         12347,
         "2010-12-07",
         12,
         4,
         4,
         36
        ],
        [
         12347,
         "2010-12-07",
         4,
         24,
         6,
         36
        ],
        [
         12347,
         "2011-01-26",
         12,
         7,
         2,
         24
        ],
        [
         12347,
         "2010-12-07",
         4,
         24,
         6,
         36
        ],
        [
         12347,
         "2010-12-07",
         12,
         4,
         4,
         36
        ],
        [
         12347,
         "2011-01-26",
         24,
         1,
         1,
         24
        ],
        [
         12347,
         "2011-01-26",
         10,
         13,
         3,
         24
        ],
        [
         12347,
         "2011-08-02",
         12,
         8,
         4,
         36
        ],
        [
         12347,
         "2011-04-07",
         12,
         5,
         4,
         240
        ],
        [
         12347,
         "2011-04-07",
         4,
         19,
         7,
         240
        ],
        [
         12347,
         "2011-01-26",
         6,
         17,
         4,
         24
        ],
        [
         12347,
         "2011-01-26",
         4,
         21,
         5,
         24
        ],
        [
         12347,
         "2011-01-26",
         24,
         1,
         1,
         24
        ],
        [
         12347,
         "2011-01-26",
         12,
         7,
         2,
         24
        ],
        [
         12347,
         "2011-01-26",
         6,
         17,
         4,
         24
        ],
        [
         12347,
         "2011-01-26",
         12,
         7,
         2,
         24
        ],
        [
         12347,
         "2011-04-07",
         24,
         3,
         3,
         240
        ],
        [
         12347,
         "2011-04-07",
         6,
         15,
         6,
         240
        ],
        [
         12347,
         "2011-04-07",
         4,
         19,
         7,
         240
        ],
        [
         12347,
         "2011-08-02",
         4,
         16,
         8,
         36
        ],
        [
         12347,
         "2011-01-26",
         6,
         17,
         4,
         24
        ],
        [
         12347,
         "2011-04-07",
         36,
         2,
         2,
         240
        ],
        [
         12347,
         "2011-01-26",
         24,
         1,
         1,
         24
        ],
        [
         12347,
         "2011-04-07",
         6,
         15,
         6,
         240
        ],
        [
         12347,
         "2011-01-26",
         24,
         1,
         1,
         24
        ],
        [
         12347,
         "2011-01-26",
         4,
         21,
         5,
         24
        ],
        [
         12347,
         "2011-08-02",
         36,
         1,
         1,
         36
        ],
        [
         12347,
         "2011-08-02",
         24,
         2,
         2,
         36
        ],
        [
         12347,
         "2011-01-26",
         12,
         7,
         2,
         24
        ],
        [
         12347,
         "2011-08-02",
         4,
         16,
         8,
         36
        ],
        [
         12347,
         "2011-01-26",
         4,
         21,
         5,
         24
        ],
        [
         12347,
         "2011-04-07",
         12,
         5,
         4,
         240
        ],
        [
         12347,
         "2011-01-26",
         4,
         21,
         5,
         24
        ],
        [
         12347,
         "2011-01-26",
         4,
         21,
         5,
         24
        ],
        [
         12347,
         "2011-08-02",
         4,
         16,
         8,
         36
        ],
        [
         12347,
         "2011-08-02",
         12,
         8,
         4,
         36
        ],
        [
         12347,
         "2011-01-26",
         12,
         7,
         2,
         24
        ],
        [
         12347,
         "2011-08-02",
         12,
         8,
         4,
         36
        ],
        [
         12347,
         "2011-04-07",
         4,
         19,
         7,
         240
        ],
        [
         12347,
         "2011-01-26",
         24,
         1,
         1,
         24
        ],
        [
         12347,
         "2011-01-26",
         4,
         21,
         5,
         24
        ],
        [
         12347,
         "2011-08-02",
         6,
         15,
         7,
         36
        ],
        [
         12347,
         "2011-08-02",
         4,
         16,
         8,
         36
        ],
        [
         12347,
         "2011-08-02",
         24,
         2,
         2,
         36
        ],
        [
         12347,
         "2011-01-26",
         4,
         21,
         5,
         24
        ],
        [
         12347,
         "2011-01-26",
         4,
         21,
         5,
         24
        ],
        [
         12347,
         "2011-08-02",
         24,
         2,
         2,
         36
        ],
        [
         12347,
         "2011-01-26",
         10,
         13,
         3,
         24
        ],
        [
         12347,
         "2011-08-02",
         3,
         22,
         9,
         36
        ],
        [
         12347,
         "2011-08-02",
         16,
         7,
         3,
         36
        ],
        [
         12347,
         "2011-01-26",
         3,
         29,
         6,
         24
        ],
        [
         12347,
         "2011-04-07",
         4,
         19,
         7,
         240
        ],
        [
         12347,
         "2011-01-26",
         10,
         13,
         3,
         24
        ],
        [
         12347,
         "2011-08-02",
         24,
         2,
         2,
         36
        ],
        [
         12347,
         "2011-08-02",
         10,
         11,
         5,
         36
        ],
        [
         12347,
         "2010-12-07",
         6,
         17,
         5,
         36
        ],
        [
         12347,
         "2011-01-26",
         12,
         7,
         2,
         24
        ],
        [
         12347,
         "2011-01-26",
         24,
         1,
         1,
         24
        ],
        [
         12347,
         "2011-01-26",
         10,
         13,
         3,
         24
        ],
        [
         12347,
         "2011-04-07",
         12,
         5,
         4,
         240
        ],
        [
         12347,
         "2011-08-02",
         8,
         13,
         6,
         36
        ],
        [
         12347,
         "2011-04-07",
         4,
         19,
         7,
         240
        ],
        [
         12347,
         "2011-04-07",
         8,
         13,
         5,
         240
        ],
        [
         12347,
         "2011-04-07",
         3,
         24,
         8,
         240
        ],
        [
         12347,
         "2011-04-07",
         12,
         5,
         4,
         240
        ],
        [
         12347,
         "2011-04-07",
         12,
         5,
         4,
         240
        ],
        [
         12347,
         "2011-04-07",
         24,
         3,
         3,
         240
        ],
        [
         12347,
         "2011-04-07",
         240,
         1,
         1,
         240
        ],
        [
         12347,
         "2011-04-07",
         12,
         5,
         4,
         240
        ],
        [
         12347,
         "2011-04-07",
         8,
         13,
         5,
         240
        ],
        [
         12347,
         "2011-04-07",
         6,
         15,
         6,
         240
        ],
        [
         12347,
         "2011-04-07",
         12,
         5,
         4,
         240
        ],
        [
         12347,
         "2010-12-07",
         12,
         4,
         4,
         36
        ],
        [
         12347,
         "2010-12-07",
         12,
         4,
         4,
         36
        ],
        [
         12347,
         "2010-12-07",
         12,
         4,
         4,
         36
        ],
        [
         12347,
         "2011-12-07",
         10,
         10,
         5,
         24
        ],
        [
         12347,
         "2011-12-07",
         12,
         8,
         4,
         24
        ],
        [
         12347,
         "2010-12-07",
         6,
         17,
         5,
         36
        ],
        [
         12347,
         "2011-12-07",
         12,
         8,
         4,
         24
        ],
        [
         12347,
         "2010-12-07",
         4,
         24,
         6,
         36
        ],
        [
         12347,
         "2011-12-07",
         24,
         1,
         1,
         24
        ],
        [
         12347,
         "2011-12-07",
         24,
         1,
         1,
         24
        ],
        [
         12347,
         "2011-12-07",
         20,
         5,
         2,
         24
        ],
        [
         12347,
         "2011-12-07",
         24,
         1,
         1,
         24
        ],
        [
         12347,
         "2011-12-07",
         20,
         5,
         2,
         24
        ],
        [
         12347,
         "2011-12-07",
         6,
         11,
         6,
         24
        ],
        [
         12347,
         "2011-12-07",
         16,
         7,
         3,
         24
        ],
        [
         12347,
         "2011-10-31",
         8,
         34,
         8,
         48
        ],
        [
         12347,
         "2011-12-07",
         24,
         1,
         1,
         24
        ],
        [
         12347,
         "2011-06-09",
         4,
         13,
         6,
         36
        ],
        [
         12347,
         "2011-06-09",
         4,
         13,
         6,
         36
        ],
        [
         12347,
         "2011-06-09",
         4,
         13,
         6,
         36
        ],
        [
         12347,
         "2011-10-31",
         8,
         34,
         8,
         48
        ],
        [
         12347,
         "2010-12-07",
         30,
         2,
         2,
         36
        ],
        [
         12347,
         "2011-06-09",
         4,
         13,
         6,
         36
        ],
        [
         12347,
         "2011-06-09",
         12,
         4,
         4,
         36
        ],
        [
         12347,
         "2011-06-09",
         24,
         2,
         2,
         36
        ],
        [
         12347,
         "2011-10-31",
         10,
         32,
         7,
         48
        ],
        [
         12347,
         "2011-06-09",
         2,
         18,
         7,
         36
        ],
        [
         12347,
         "2011-06-09",
         12,
         4,
         4,
         36
        ],
        [
         12347,
         "2011-06-09",
         12,
         4,
         4,
         36
        ],
        [
         12347,
         "2011-10-31",
         12,
         14,
         6,
         48
        ],
        [
         12347,
         "2011-10-31",
         24,
         4,
         3,
         48
        ],
        [
         12347,
         "2011-10-31",
         10,
         32,
         7,
         48
        ],
        [
         12347,
         "2011-06-09",
         12,
         4,
         4,
         36
        ],
        [
         12347,
         "2011-10-31",
         24,
         4,
         3,
         48
        ],
        [
         12347,
         "2011-10-31",
         36,
         2,
         2,
         48
        ],
        [
         12347,
         "2011-06-09",
         8,
         10,
         5,
         36
        ],
        [
         12347,
         "2011-06-09",
         36,
         1,
         1,
         36
        ],
        [
         12347,
         "2011-06-09",
         8,
         10,
         5,
         36
        ],
        [
         12347,
         "2011-10-31",
         12,
         14,
         6,
         48
        ],
        [
         12347,
         "2011-06-09",
         8,
         10,
         5,
         36
        ],
        [
         12347,
         "2011-06-09",
         18,
         3,
         3,
         36
        ],
        [
         12347,
         "2011-06-09",
         12,
         4,
         4,
         36
        ],
        [
         12347,
         "2011-10-31",
         24,
         4,
         3,
         48
        ],
        [
         12347,
         "2011-10-31",
         8,
         34,
         8,
         48
        ],
        [
         12347,
         "2010-12-07",
         12,
         4,
         4,
         36
        ],
        [
         12347,
         "2011-10-31",
         20,
         11,
         4,
         48
        ],
        [
         12347,
         "2010-12-07",
         24,
         3,
         3,
         36
        ],
        [
         12347,
         "2011-10-31",
         24,
         4,
         3,
         48
        ],
        [
         12347,
         "2011-06-09",
         4,
         13,
         6,
         36
        ],
        [
         12347,
         "2011-06-09",
         12,
         4,
         4,
         36
        ],
        [
         12347,
         "2011-10-31",
         8,
         34,
         8,
         48
        ],
        [
         12347,
         "2011-10-31",
         6,
         42,
         9,
         48
        ],
        [
         12347,
         "2011-10-31",
         24,
         4,
         3,
         48
        ],
        [
         12347,
         "2011-10-31",
         12,
         14,
         6,
         48
        ],
        [
         12347,
         "2011-10-31",
         8,
         34,
         8,
         48
        ],
        [
         12347,
         "2011-10-31",
         8,
         34,
         8,
         48
        ],
        [
         12347,
         "2011-10-31",
         6,
         42,
         9,
         48
        ],
        [
         12347,
         "2011-10-31",
         12,
         14,
         6,
         48
        ],
        [
         12347,
         "2011-10-31",
         8,
         34,
         8,
         48
        ],
        [
         12347,
         "2011-10-31",
         24,
         4,
         3,
         48
        ],
        [
         12347,
         "2011-10-31",
         12,
         14,
         6,
         48
        ],
        [
         12347,
         "2011-10-31",
         6,
         42,
         9,
         48
        ],
        [
         12347,
         "2011-10-31",
         20,
         11,
         4,
         48
        ],
        [
         12347,
         "2011-10-31",
         12,
         14,
         6,
         48
        ],
        [
         12347,
         "2011-10-31",
         12,
         14,
         6,
         48
        ],
        [
         12347,
         "2011-10-31",
         4,
         46,
         10,
         48
        ],
        [
         12347,
         "2011-10-31",
         6,
         42,
         9,
         48
        ],
        [
         12347,
         "2011-10-31",
         12,
         14,
         6,
         48
        ],
        [
         12347,
         "2011-10-31",
         12,
         14,
         6,
         48
        ],
        [
         12347,
         "2011-10-31",
         2,
         47,
         11,
         48
        ],
        [
         12347,
         "2011-10-31",
         12,
         14,
         6,
         48
        ],
        [
         12347,
         "2011-10-31",
         12,
         14,
         6,
         48
        ],
        [
         12347,
         "2011-10-31",
         36,
         2,
         2,
         48
        ],
        [
         12347,
         "2011-10-31",
         48,
         1,
         1,
         48
        ],
        [
         12347,
         "2011-10-31",
         18,
         13,
         5,
         48
        ],
        [
         12347,
         "2011-10-31",
         12,
         14,
         6,
         48
        ],
        [
         12347,
         "2010-12-07",
         6,
         17,
         5,
         36
        ],
        [
         12347,
         "2011-10-31",
         12,
         14,
         6,
         48
        ],
        [
         12347,
         "2011-10-31",
         12,
         14,
         6,
         48
        ],
        [
         12347,
         "2011-10-31",
         12,
         14,
         6,
         48
        ],
        [
         12347,
         "2011-10-31",
         12,
         14,
         6,
         48
        ],
        [
         12347,
         "2011-10-31",
         12,
         14,
         6,
         48
        ],
        [
         12347,
         "2010-12-07",
         12,
         4,
         4,
         36
        ],
        [
         12347,
         "2010-12-07",
         6,
         17,
         5,
         36
        ],
        [
         12347,
         "2010-12-07",
         6,
         17,
         5,
         36
        ],
        [
         12347,
         "2010-12-07",
         6,
         17,
         5,
         36
        ],
        [
         12347,
         "2010-12-07",
         12,
         4,
         4,
         36
        ],
        [
         12347,
         "2010-12-07",
         4,
         24,
         6,
         36
        ],
        [
         12347,
         "2010-12-07",
         12,
         4,
         4,
         36
        ],
        [
         12347,
         "2010-12-07",
         12,
         4,
         4,
         36
        ],
        [
         12348,
         "2010-12-16",
         72,
         7,
         3,
         144
        ],
        [
         12348,
         "2010-12-16",
         48,
         11,
         4,
         144
        ],
        [
         12348,
         "2011-01-25",
         144,
         1,
         1,
         144
        ],
        [
         12348,
         "2011-01-25",
         1,
         6,
         3,
         144
        ],
        [
         12348,
         "2011-01-25",
         24,
         5,
         2,
         144
        ],
        [
         12348,
         "2011-01-25",
         144,
         1,
         1,
         144
        ],
        [
         12348,
         "2011-01-25",
         144,
         1,
         1,
         144
        ],
        [
         12348,
         "2011-01-25",
         144,
         1,
         1,
         144
        ],
        [
         12348,
         "2010-12-16",
         24,
         13,
         5,
         144
        ],
        [
         12348,
         "2010-12-16",
         24,
         13,
         5,
         144
        ],
        [
         12348,
         "2010-12-16",
         144,
         1,
         1,
         144
        ],
        [
         12348,
         "2010-12-16",
         144,
         1,
         1,
         144
        ],
        [
         12348,
         "2010-12-16",
         120,
         3,
         2,
         144
        ],
        [
         12348,
         "2010-12-16",
         72,
         7,
         3,
         144
        ],
        [
         12348,
         "2010-12-16",
         6,
         17,
         6,
         144
        ],
        [
         12348,
         "2010-12-16",
         120,
         3,
         2,
         144
        ],
        [
         12348,
         "2010-12-16",
         120,
         3,
         2,
         144
        ],
        [
         12348,
         "2010-12-16",
         72,
         7,
         3,
         144
        ],
        [
         12348,
         "2010-12-16",
         48,
         11,
         4,
         144
        ],
        [
         12348,
         "2010-12-16",
         120,
         3,
         2,
         144
        ],
        [
         12348,
         "2010-12-16",
         24,
         13,
         5,
         144
        ],
        [
         12348,
         "2010-12-16",
         24,
         13,
         5,
         144
        ],
        [
         12348,
         "2010-12-16",
         72,
         7,
         3,
         144
        ],
        [
         12348,
         "2011-04-05",
         20,
         4,
         4,
         96
        ],
        [
         12348,
         "2011-09-25",
         1,
         3,
         3,
         120
        ],
        [
         12348,
         "2011-09-25",
         96,
         2,
         2,
         120
        ],
        [
         12348,
         "2011-09-25",
         120,
         1,
         1,
         120
        ],
        [
         12348,
         "2011-04-05",
         1,
         5,
         5,
         96
        ],
        [
         12348,
         "2011-04-05",
         80,
         2,
         2,
         96
        ],
        [
         12348,
         "2011-04-05",
         72,
         3,
         3,
         96
        ],
        [
         12348,
         "2011-04-05",
         96,
         1,
         1,
         96
        ],
        [
         12349,
         "2011-11-21",
         6,
         35,
         8,
         36
        ],
        [
         12349,
         "2011-11-21",
         12,
         7,
         5,
         36
        ],
        [
         12349,
         "2011-11-21",
         2,
         64,
         11,
         36
        ],
        [
         12349,
         "2011-11-21",
         12,
         7,
         5,
         36
        ],
        [
         12349,
         "2011-11-21",
         2,
         64,
         11,
         36
        ],
        [
         12349,
         "2011-11-21",
         1,
         70,
         12,
         36
        ],
        [
         12349,
         "2011-11-21",
         1,
         70,
         12,
         36
        ],
        [
         12349,
         "2011-11-21",
         6,
         35,
         8,
         36
        ],
        [
         12349,
         "2011-11-21",
         1,
         70,
         12,
         36
        ],
        [
         12349,
         "2011-11-21",
         6,
         35,
         8,
         36
        ],
        [
         12349,
         "2011-11-21",
         36,
         1,
         1,
         36
        ],
        [
         12349,
         "2011-11-21",
         12,
         7,
         5,
         36
        ],
        [
         12349,
         "2011-11-21",
         6,
         35,
         8,
         36
        ],
        [
         12349,
         "2011-11-21",
         6,
         35,
         8,
         36
        ],
        [
         12349,
         "2011-11-21",
         4,
         52,
         9,
         36
        ],
        [
         12349,
         "2011-11-21",
         10,
         28,
         6,
         36
        ],
        [
         12349,
         "2011-11-21",
         12,
         7,
         5,
         36
        ],
        [
         12349,
         "2011-11-21",
         8,
         29,
         7,
         36
        ],
        [
         12349,
         "2011-11-21",
         12,
         7,
         5,
         36
        ],
        [
         12349,
         "2011-11-21",
         2,
         64,
         11,
         36
        ],
        [
         12349,
         "2011-11-21",
         36,
         1,
         1,
         36
        ],
        [
         12349,
         "2011-11-21",
         6,
         35,
         8,
         36
        ],
        [
         12349,
         "2011-11-21",
         6,
         35,
         8,
         36
        ],
        [
         12349,
         "2011-11-21",
         3,
         57,
         10,
         36
        ],
        [
         12349,
         "2011-11-21",
         2,
         64,
         11,
         36
        ],
        [
         12349,
         "2011-11-21",
         8,
         29,
         7,
         36
        ],
        [
         12349,
         "2011-11-21",
         12,
         7,
         5,
         36
        ],
        [
         12349,
         "2011-11-21",
         8,
         29,
         7,
         36
        ],
        [
         12349,
         "2011-11-21",
         8,
         29,
         7,
         36
        ],
        [
         12349,
         "2011-11-21",
         12,
         7,
         5,
         36
        ],
        [
         12349,
         "2011-11-21",
         6,
         35,
         8,
         36
        ],
        [
         12349,
         "2011-11-21",
         2,
         64,
         11,
         36
        ],
        [
         12349,
         "2011-11-21",
         1,
         70,
         12,
         36
        ],
        [
         12349,
         "2011-11-21",
         2,
         64,
         11,
         36
        ],
        [
         12349,
         "2011-11-21",
         6,
         35,
         8,
         36
        ],
        [
         12349,
         "2011-11-21",
         25,
         3,
         2,
         36
        ],
        [
         12349,
         "2011-11-21",
         6,
         35,
         8,
         36
        ],
        [
         12349,
         "2011-11-21",
         12,
         7,
         5,
         36
        ],
        [
         12349,
         "2011-11-21",
         6,
         35,
         8,
         36
        ],
        [
         12349,
         "2011-11-21",
         12,
         7,
         5,
         36
        ],
        [
         12349,
         "2011-11-21",
         12,
         7,
         5,
         36
        ],
        [
         12349,
         "2011-11-21",
         12,
         7,
         5,
         36
        ],
        [
         12349,
         "2011-11-21",
         25,
         3,
         2,
         36
        ],
        [
         12349,
         "2011-11-21",
         12,
         7,
         5,
         36
        ],
        [
         12349,
         "2011-11-21",
         24,
         5,
         3,
         36
        ],
        [
         12349,
         "2011-11-21",
         6,
         35,
         8,
         36
        ],
        [
         12349,
         "2011-11-21",
         6,
         35,
         8,
         36
        ],
        [
         12349,
         "2011-11-21",
         6,
         35,
         8,
         36
        ],
        [
         12349,
         "2011-11-21",
         12,
         7,
         5,
         36
        ],
        [
         12349,
         "2011-11-21",
         12,
         7,
         5,
         36
        ],
        [
         12349,
         "2011-11-21",
         6,
         35,
         8,
         36
        ],
        [
         12349,
         "2011-11-21",
         16,
         6,
         4,
         36
        ],
        [
         12349,
         "2011-11-21",
         4,
         52,
         9,
         36
        ],
        [
         12349,
         "2011-11-21",
         12,
         7,
         5,
         36
        ],
        [
         12349,
         "2011-11-21",
         4,
         52,
         9,
         36
        ],
        [
         12349,
         "2011-11-21",
         12,
         7,
         5,
         36
        ],
        [
         12349,
         "2011-11-21",
         6,
         35,
         8,
         36
        ],
        [
         12349,
         "2011-11-21",
         6,
         35,
         8,
         36
        ],
        [
         12349,
         "2011-11-21",
         12,
         7,
         5,
         36
        ],
        [
         12349,
         "2011-11-21",
         4,
         52,
         9,
         36
        ],
        [
         12349,
         "2011-11-21",
         8,
         29,
         7,
         36
        ],
        [
         12349,
         "2011-11-21",
         12,
         7,
         5,
         36
        ],
        [
         12349,
         "2011-11-21",
         4,
         52,
         9,
         36
        ],
        [
         12349,
         "2011-11-21",
         3,
         57,
         10,
         36
        ],
        [
         12349,
         "2011-11-21",
         3,
         57,
         10,
         36
        ],
        [
         12349,
         "2011-11-21",
         12,
         7,
         5,
         36
        ],
        [
         12349,
         "2011-11-21",
         12,
         7,
         5,
         36
        ],
        [
         12349,
         "2011-11-21",
         3,
         57,
         10,
         36
        ],
        [
         12349,
         "2011-11-21",
         3,
         57,
         10,
         36
        ],
        [
         12349,
         "2011-11-21",
         8,
         29,
         7,
         36
        ],
        [
         12349,
         "2011-11-21",
         3,
         57,
         10,
         36
        ],
        [
         12349,
         "2011-11-21",
         3,
         57,
         10,
         36
        ],
        [
         12349,
         "2011-11-21",
         12,
         7,
         5,
         36
        ],
        [
         12350,
         "2011-02-02",
         12,
         2,
         2,
         24
        ],
        [
         12350,
         "2011-02-02",
         12,
         2,
         2,
         24
        ],
        [
         12350,
         "2011-02-02",
         12,
         2,
         2,
         24
        ],
        [
         12350,
         "2011-02-02",
         12,
         2,
         2,
         24
        ],
        [
         12350,
         "2011-02-02",
         12,
         2,
         2,
         24
        ],
        [
         12350,
         "2011-02-02",
         1,
         17,
         5,
         24
        ],
        [
         12350,
         "2011-02-02",
         6,
         16,
         4,
         24
        ],
        [
         12350,
         "2011-02-02",
         12,
         2,
         2,
         24
        ],
        [
         12350,
         "2011-02-02",
         24,
         1,
         1,
         24
        ],
        [
         12350,
         "2011-02-02",
         12,
         2,
         2,
         24
        ],
        [
         12350,
         "2011-02-02",
         12,
         2,
         2,
         24
        ],
        [
         12350,
         "2011-02-02",
         12,
         2,
         2,
         24
        ],
        [
         12350,
         "2011-02-02",
         12,
         2,
         2,
         24
        ],
        [
         12350,
         "2011-02-02",
         12,
         2,
         2,
         24
        ],
        [
         12350,
         "2011-02-02",
         12,
         2,
         2,
         24
        ],
        [
         12350,
         "2011-02-02",
         12,
         2,
         2,
         24
        ],
        [
         12350,
         "2011-02-02",
         10,
         15,
         3,
         24
        ],
        [
         12352,
         "2011-11-03",
         6,
         8,
         3,
         16
        ],
        [
         12352,
         "2011-11-03",
         16,
         1,
         1,
         16
        ],
        [
         12352,
         "2011-09-28",
         4,
         2,
         2,
         12
        ],
        [
         12352,
         "2011-03-01",
         1,
         5,
         5,
         12
        ],
        [
         12352,
         "2011-09-28",
         4,
         2,
         2,
         12
        ],
        [
         12352,
         "2011-02-16",
         3,
         10,
         4,
         12
        ],
        [
         12352,
         "2011-02-16",
         12,
         1,
         1,
         12
        ],
        [
         12352,
         "2011-02-16",
         4,
         8,
         3,
         12
        ],
        [
         12352,
         "2011-02-16",
         12,
         1,
         1,
         12
        ],
        [
         12352,
         "2011-03-01",
         -1,
         9,
         6,
         12
        ],
        [
         12352,
         "2011-02-16",
         6,
         6,
         2,
         12
        ],
        [
         12352,
         "2011-02-16",
         3,
         10,
         4,
         12
        ],
        [
         12352,
         "2011-11-03",
         12,
         4,
         2,
         16
        ],
        [
         12352,
         "2011-03-22",
         -12,
         12,
         7,
         12
        ],
        [
         12352,
         "2011-03-22",
         1,
         8,
         4,
         12
        ],
        [
         12352,
         "2011-03-22",
         -6,
         10,
         6,
         12
        ],
        [
         12352,
         "2011-03-22",
         6,
         5,
         2,
         12
        ],
        [
         12352,
         "2011-09-20",
         2,
         15,
         6,
         12
        ],
        [
         12352,
         "2011-03-22",
         6,
         5,
         2,
         12
        ],
        [
         12352,
         "2011-03-22",
         -12,
         12,
         7,
         12
        ],
        [
         12352,
         "2011-03-22",
         -12,
         12,
         7,
         12
        ],
        [
         12352,
         "2011-03-22",
         3,
         7,
         3,
         12
        ],
        [
         12352,
         "2011-11-03",
         6,
         8,
         3,
         16
        ],
        [
         12352,
         "2011-11-03",
         12,
         4,
         2,
         16
        ],
        [
         12352,
         "2011-11-03",
         12,
         4,
         2,
         16
        ],
        [
         12352,
         "2011-09-20",
         8,
         6,
         3,
         12
        ],
        [
         12352,
         "2011-03-17",
         12,
         1,
         1,
         12
        ],
        [
         12352,
         "2011-02-16",
         4,
         8,
         3,
         12
        ],
        [
         12352,
         "2011-03-01",
         4,
         3,
         3,
         12
        ],
        [
         12352,
         "2011-03-01",
         6,
         2,
         2,
         12
        ],
        [
         12352,
         "2011-02-16",
         12,
         1,
         1,
         12
        ],
        [
         12352,
         "2011-03-01",
         1,
         5,
         5,
         12
        ],
        [
         12352,
         "2011-02-16",
         12,
         1,
         1,
         12
        ],
        [
         12352,
         "2011-03-01",
         -1,
         9,
         6,
         12
        ],
        [
         12352,
         "2011-03-01",
         3,
         4,
         4,
         12
        ],
        [
         12352,
         "2011-03-01",
         12,
         1,
         1,
         12
        ],
        [
         12352,
         "2011-02-16",
         3,
         10,
         4,
         12
        ],
        [
         12352,
         "2011-02-16",
         3,
         10,
         4,
         12
        ],
        [
         12352,
         "2011-03-01",
         1,
         5,
         5,
         12
        ],
        [
         12352,
         "2011-03-01",
         1,
         5,
         5,
         12
        ],
        [
         12352,
         "2011-02-16",
         12,
         1,
         1,
         12
        ],
        [
         12352,
         "2011-03-01",
         -1,
         9,
         6,
         12
        ],
        [
         12352,
         "2011-02-16",
         3,
         10,
         4,
         12
        ],
        [
         12352,
         "2011-02-16",
         6,
         6,
         2,
         12
        ],
        [
         12352,
         "2011-03-22",
         12,
         1,
         1,
         12
        ],
        [
         12352,
         "2011-09-28",
         3,
         8,
         3,
         12
        ],
        [
         12352,
         "2011-11-03",
         2,
         12,
         5,
         16
        ],
        [
         12352,
         "2011-09-28",
         1,
         14,
         5,
         12
        ],
        [
         12352,
         "2011-09-28",
         2,
         11,
         4,
         12
        ],
        [
         12352,
         "2011-03-22",
         12,
         1,
         1,
         12
        ],
        [
         12352,
         "2011-09-28",
         4,
         2,
         2,
         12
        ],
        [
         12352,
         "2011-03-22",
         12,
         1,
         1,
         12
        ],
        [
         12352,
         "2011-03-22",
         -3,
         9,
         5,
         12
        ],
        [
         12352,
         "2011-09-28",
         4,
         2,
         2,
         12
        ],
        [
         12352,
         "2011-09-28",
         3,
         8,
         3,
         12
        ],
        [
         12352,
         "2011-03-22",
         -6,
         10,
         6,
         12
        ],
        [
         12352,
         "2011-09-28",
         4,
         2,
         2,
         12
        ],
        [
         12352,
         "2011-09-28",
         3,
         8,
         3,
         12
        ],
        [
         12352,
         "2011-09-28",
         2,
         11,
         4,
         12
        ],
        [
         12352,
         "2011-11-03",
         5,
         11,
         4,
         16
        ],
        [
         12352,
         "2011-09-20",
         2,
         15,
         6,
         12
        ],
        [
         12352,
         "2011-09-20",
         4,
         7,
         4,
         12
        ],
        [
         12352,
         "2011-09-20",
         12,
         1,
         1,
         12
        ],
        [
         12352,
         "2011-03-22",
         12,
         1,
         1,
         12
        ],
        [
         12352,
         "2011-09-20",
         2,
         15,
         6,
         12
        ],
        [
         12352,
         "2011-09-28",
         2,
         11,
         4,
         12
        ],
        [
         12352,
         "2011-03-22",
         -12,
         12,
         7,
         12
        ],
        [
         12352,
         "2011-09-20",
         4,
         7,
         4,
         12
        ],
        [
         12352,
         "2011-09-28",
         4,
         2,
         2,
         12
        ],
        [
         12352,
         "2011-09-20",
         12,
         1,
         1,
         12
        ],
        [
         12352,
         "2011-09-20",
         10,
         5,
         2,
         12
        ],
        [
         12352,
         "2011-09-28",
         12,
         1,
         1,
         12
        ],
        [
         12352,
         "2011-11-03",
         16,
         1,
         1,
         16
        ],
        [
         12352,
         "2011-09-20",
         12,
         1,
         1,
         12
        ],
        [
         12352,
         "2011-09-20",
         12,
         1,
         1,
         12
        ],
        [
         12352,
         "2011-09-20",
         4,
         7,
         4,
         12
        ],
        [
         12352,
         "2011-09-20",
         4,
         7,
         4,
         12
        ],
        [
         12352,
         "2011-09-20",
         3,
         12,
         5,
         12
        ],
        [
         12352,
         "2011-11-03",
         16,
         1,
         1,
         16
        ],
        [
         12352,
         "2011-11-03",
         6,
         8,
         3,
         16
        ],
        [
         12352,
         "2011-11-03",
         2,
         12,
         5,
         16
        ],
        [
         12352,
         "2011-11-03",
         2,
         12,
         5,
         16
        ],
        [
         12352,
         "2011-11-03",
         2,
         12,
         5,
         16
        ],
        [
         12352,
         "2011-11-03",
         12,
         4,
         2,
         16
        ],
        [
         12352,
         "2011-09-20",
         4,
         7,
         4,
         12
        ],
        [
         12352,
         "2011-09-20",
         3,
         12,
         5,
         12
        ],
        [
         12352,
         "2011-09-20",
         3,
         12,
         5,
         12
        ],
        [
         12352,
         "2011-09-20",
         2,
         15,
         6,
         12
        ],
        [
         12352,
         "2011-03-17",
         12,
         1,
         1,
         12
        ],
        [
         12352,
         "2011-03-17",
         6,
         5,
         2,
         12
        ],
        [
         12352,
         "2011-03-17",
         6,
         5,
         2,
         12
        ],
        [
         12352,
         "2011-03-17",
         12,
         1,
         1,
         12
        ],
        [
         12352,
         "2011-03-17",
         12,
         1,
         1,
         12
        ],
        [
         12352,
         "2011-03-17",
         3,
         7,
         3,
         12
        ],
        [
         12352,
         "2011-02-16",
         3,
         10,
         4,
         12
        ],
        [
         12353,
         "2011-05-19",
         2,
         4,
         4,
         8
        ],
        [
         12353,
         "2011-05-19",
         8,
         1,
         1,
         8
        ],
        [
         12353,
         "2011-05-19",
         4,
         3,
         3,
         8
        ],
        [
         12353,
         "2011-05-19",
         6,
         2,
         2,
         8
        ],
        [
         12354,
         "2011-04-21",
         2,
         45,
         10,
         32
        ],
        [
         12354,
         "2011-04-21",
         8,
         23,
         5,
         32
        ],
        [
         12354,
         "2011-04-21",
         1,
         54,
         11,
         32
        ],
        [
         12354,
         "2011-04-21",
         1,
         54,
         11,
         32
        ],
        [
         12354,
         "2011-04-21",
         12,
         10,
         3,
         32
        ],
        [
         12354,
         "2011-04-21",
         4,
         35,
         8,
         32
        ],
        [
         12354,
         "2011-04-21",
         2,
         45,
         10,
         32
        ],
        [
         12354,
         "2011-04-21",
         12,
         10,
         3,
         32
        ],
        [
         12354,
         "2011-04-21",
         2,
         45,
         10,
         32
        ],
        [
         12354,
         "2011-04-21",
         8,
         23,
         5,
         32
        ],
        [
         12354,
         "2011-04-21",
         24,
         5,
         2,
         32
        ],
        [
         12354,
         "2011-04-21",
         2,
         45,
         10,
         32
        ],
        [
         12354,
         "2011-04-21",
         8,
         23,
         5,
         32
        ],
        [
         12354,
         "2011-04-21",
         1,
         54,
         11,
         32
        ],
        [
         12354,
         "2011-04-21",
         2,
         45,
         10,
         32
        ],
        [
         12354,
         "2011-04-21",
         24,
         5,
         2,
         32
        ],
        [
         12354,
         "2011-04-21",
         12,
         10,
         3,
         32
        ],
        [
         12354,
         "2011-04-21",
         6,
         27,
         6,
         32
        ],
        [
         12354,
         "2011-04-21",
         6,
         27,
         6,
         32
        ],
        [
         12354,
         "2011-04-21",
         3,
         41,
         9,
         32
        ],
        [
         12354,
         "2011-04-21",
         3,
         41,
         9,
         32
        ],
        [
         12354,
         "2011-04-21",
         24,
         5,
         2,
         32
        ],
        [
         12354,
         "2011-04-21",
         6,
         27,
         6,
         32
        ],
        [
         12354,
         "2011-04-21",
         4,
         35,
         8,
         32
        ],
        [
         12354,
         "2011-04-21",
         32,
         1,
         1,
         32
        ],
        [
         12354,
         "2011-04-21",
         10,
         17,
         4,
         32
        ],
        [
         12354,
         "2011-04-21",
         5,
         34,
         7,
         32
        ],
        [
         12354,
         "2011-04-21",
         4,
         35,
         8,
         32
        ],
        [
         12354,
         "2011-04-21",
         10,
         17,
         4,
         32
        ],
        [
         12354,
         "2011-04-21",
         24,
         5,
         2,
         32
        ],
        [
         12354,
         "2011-04-21",
         12,
         10,
         3,
         32
        ],
        [
         12354,
         "2011-04-21",
         2,
         45,
         10,
         32
        ],
        [
         12354,
         "2011-04-21",
         10,
         17,
         4,
         32
        ],
        [
         12354,
         "2011-04-21",
         8,
         23,
         5,
         32
        ],
        [
         12354,
         "2011-04-21",
         2,
         45,
         10,
         32
        ],
        [
         12354,
         "2011-04-21",
         12,
         10,
         3,
         32
        ],
        [
         12354,
         "2011-04-21",
         2,
         45,
         10,
         32
        ],
        [
         12354,
         "2011-04-21",
         2,
         45,
         10,
         32
        ],
        [
         12354,
         "2011-04-21",
         1,
         54,
         11,
         32
        ],
        [
         12354,
         "2011-04-21",
         6,
         27,
         6,
         32
        ],
        [
         12354,
         "2011-04-21",
         1,
         54,
         11,
         32
        ],
        [
         12354,
         "2011-04-21",
         6,
         27,
         6,
         32
        ],
        [
         12354,
         "2011-04-21",
         6,
         27,
         6,
         32
        ],
        [
         12354,
         "2011-04-21",
         32,
         1,
         1,
         32
        ],
        [
         12354,
         "2011-04-21",
         10,
         17,
         4,
         32
        ],
        [
         12354,
         "2011-04-21",
         12,
         10,
         3,
         32
        ],
        [
         12354,
         "2011-04-21",
         10,
         17,
         4,
         32
        ],
        [
         12354,
         "2011-04-21",
         4,
         35,
         8,
         32
        ],
        [
         12354,
         "2011-04-21",
         3,
         41,
         9,
         32
        ],
        [
         12354,
         "2011-04-21",
         24,
         5,
         2,
         32
        ],
        [
         12354,
         "2011-04-21",
         3,
         41,
         9,
         32
        ],
        [
         12354,
         "2011-04-21",
         10,
         17,
         4,
         32
        ],
        [
         12354,
         "2011-04-21",
         4,
         35,
         8,
         32
        ],
        [
         12354,
         "2011-04-21",
         12,
         10,
         3,
         32
        ],
        [
         12354,
         "2011-04-21",
         32,
         1,
         1,
         32
        ],
        [
         12354,
         "2011-04-21",
         32,
         1,
         1,
         32
        ],
        [
         12354,
         "2011-04-21",
         4,
         35,
         8,
         32
        ],
        [
         12354,
         "2011-04-21",
         6,
         27,
         6,
         32
        ],
        [
         12355,
         "2011-05-09",
         6,
         6,
         6,
         96
        ],
        [
         12355,
         "2011-05-09",
         6,
         6,
         6,
         96
        ],
        [
         12355,
         "2011-05-09",
         24,
         3,
         3,
         96
        ],
        [
         12355,
         "2011-05-09",
         2,
         12,
         7,
         96
        ],
        [
         12355,
         "2011-05-09",
         6,
         6,
         6,
         96
        ],
        [
         12355,
         "2011-05-09",
         12,
         4,
         4,
         96
        ],
        [
         12355,
         "2011-05-09",
         60,
         2,
         2,
         96
        ],
        [
         12355,
         "2011-05-09",
         8,
         5,
         5,
         96
        ],
        [
         12355,
         "2011-05-09",
         6,
         6,
         6,
         96
        ],
        [
         12355,
         "2011-05-09",
         2,
         12,
         7,
         96
        ],
        [
         12355,
         "2011-05-09",
         6,
         6,
         6,
         96
        ],
        [
         12355,
         "2011-05-09",
         96,
         1,
         1,
         96
        ],
        [
         12355,
         "2011-05-09",
         6,
         6,
         6,
         96
        ],
        [
         12356,
         "2011-01-18",
         12,
         30,
         11,
         120
        ],
        [
         12356,
         "2011-01-18",
         40,
         11,
         5,
         120
        ],
        [
         12356,
         "2011-01-18",
         18,
         27,
         9,
         120
        ],
        [
         12356,
         "2011-01-18",
         32,
         13,
         7,
         120
        ],
        [
         12356,
         "2011-01-18",
         24,
         15,
         8,
         120
        ],
        [
         12356,
         "2011-04-08",
         24,
         4,
         3,
         72
        ],
        [
         12356,
         "2011-11-17",
         3,
         1,
         1,
         3
        ],
        [
         12356,
         "2011-04-08",
         12,
         9,
         6,
         72
        ],
        [
         12356,
         "2011-01-18",
         24,
         15,
         8,
         120
        ],
        [
         12356,
         "2011-01-18",
         24,
         15,
         8,
         120
        ],
        [
         12356,
         "2011-01-18",
         48,
         5,
         4,
         120
        ],
        [
         12356,
         "2011-04-08",
         24,
         4,
         3,
         72
        ],
        [
         12356,
         "2011-01-18",
         24,
         15,
         8,
         120
        ],
        [
         12356,
         "2011-01-18",
         72,
         3,
         2,
         120
        ],
        [
         12356,
         "2011-04-08",
         48,
         2,
         2,
         72
        ],
        [
         12356,
         "2011-01-18",
         48,
         5,
         4,
         120
        ],
        [
         12356,
         "2011-01-18",
         12,
         30,
         11,
         120
        ],
        [
         12356,
         "2011-04-08",
         4,
         16,
         10,
         72
        ],
        [
         12356,
         "2011-01-18",
         24,
         15,
         8,
         120
        ],
        [
         12356,
         "2011-01-18",
         48,
         5,
         4,
         120
        ],
        [
         12356,
         "2011-04-08",
         12,
         9,
         6,
         72
        ],
        [
         12356,
         "2011-01-18",
         12,
         30,
         11,
         120
        ],
        [
         12356,
         "2011-01-18",
         12,
         30,
         11,
         120
        ],
        [
         12356,
         "2011-01-18",
         120,
         1,
         1,
         120
        ],
        [
         12356,
         "2011-01-18",
         120,
         1,
         1,
         120
        ],
        [
         12356,
         "2011-01-18",
         60,
         4,
         3,
         120
        ],
        [
         12356,
         "2011-01-18",
         32,
         13,
         7,
         120
        ],
        [
         12356,
         "2011-04-08",
         8,
         14,
         8,
         72
        ],
        [
         12356,
         "2011-04-08",
         20,
         7,
         4,
         72
        ],
        [
         12356,
         "2011-01-18",
         48,
         5,
         4,
         120
        ],
        [
         12356,
         "2011-01-18",
         12,
         30,
         11,
         120
        ],
        [
         12356,
         "2011-11-17",
         2,
         2,
         2,
         3
        ],
        [
         12356,
         "2011-04-08",
         12,
         9,
         6,
         72
        ],
        [
         12356,
         "2011-04-08",
         6,
         15,
         9,
         72
        ],
        [
         12356,
         "2011-01-18",
         24,
         15,
         8,
         120
        ],
        [
         12356,
         "2011-01-18",
         36,
         12,
         6,
         120
        ],
        [
         12356,
         "2011-04-08",
         48,
         2,
         2,
         72
        ],
        [
         12356,
         "2011-04-08",
         4,
         16,
         10,
         72
        ],
        [
         12356,
         "2011-04-08",
         10,
         13,
         7,
         72
        ],
        [
         12356,
         "2011-04-08",
         4,
         16,
         10,
         72
        ],
        [
         12356,
         "2011-01-18",
         16,
         29,
         10,
         120
        ],
        [
         12356,
         "2011-04-08",
         12,
         9,
         6,
         72
        ],
        [
         12356,
         "2011-04-08",
         72,
         1,
         1,
         72
        ],
        [
         12356,
         "2011-04-08",
         3,
         21,
         11,
         72
        ],
        [
         12356,
         "2011-01-18",
         24,
         15,
         8,
         120
        ],
        [
         12356,
         "2011-01-18",
         12,
         30,
         11,
         120
        ],
        [
         12356,
         "2011-01-18",
         48,
         5,
         4,
         120
        ],
        [
         12356,
         "2011-01-18",
         24,
         15,
         8,
         120
        ],
        [
         12356,
         "2011-04-08",
         15,
         8,
         5,
         72
        ],
        [
         12356,
         "2011-01-18",
         4,
         36,
         12,
         120
        ],
        [
         12356,
         "2011-04-08",
         4,
         16,
         10,
         72
        ],
        [
         12356,
         "2011-01-18",
         24,
         15,
         8,
         120
        ],
        [
         12356,
         "2011-01-18",
         24,
         15,
         8,
         120
        ],
        [
         12356,
         "2011-04-08",
         4,
         16,
         10,
         72
        ],
        [
         12356,
         "2011-01-18",
         48,
         5,
         4,
         120
        ],
        [
         12356,
         "2011-04-08",
         24,
         4,
         3,
         72
        ],
        [
         12356,
         "2011-01-18",
         24,
         15,
         8,
         120
        ],
        [
         12356,
         "2011-01-18",
         24,
         15,
         8,
         120
        ],
        [
         12356,
         "2011-01-18",
         18,
         27,
         9,
         120
        ],
        [
         12357,
         "2011-11-06",
         12,
         67,
         9,
         96
        ],
        [
         12357,
         "2011-11-06",
         24,
         21,
         6,
         96
        ],
        [
         12357,
         "2011-11-06",
         6,
         117,
         12,
         96
        ],
        [
         12357,
         "2011-11-06",
         12,
         67,
         9,
         96
        ],
        [
         12357,
         "2011-11-06",
         6,
         117,
         12,
         96
        ],
        [
         12357,
         "2011-11-06",
         24,
         21,
         6,
         96
        ],
        [
         12357,
         "2011-11-06",
         12,
         67,
         9,
         96
        ],
        [
         12357,
         "2011-11-06",
         72,
         3,
         2,
         96
        ],
        [
         12357,
         "2011-11-06",
         12,
         67,
         9,
         96
        ],
        [
         12357,
         "2011-11-06",
         24,
         21,
         6,
         96
        ],
        [
         12357,
         "2011-11-06",
         12,
         67,
         9,
         96
        ],
        [
         12357,
         "2011-11-06",
         12,
         67,
         9,
         96
        ],
        [
         12357,
         "2011-11-06",
         24,
         21,
         6,
         96
        ],
        [
         12357,
         "2011-11-06",
         8,
         110,
         11,
         96
        ],
        [
         12357,
         "2011-11-06",
         6,
         117,
         12,
         96
        ],
        [
         12357,
         "2011-11-06",
         36,
         13,
         4,
         96
        ],
        [
         12357,
         "2011-11-06",
         6,
         117,
         12,
         96
        ],
        [
         12357,
         "2011-11-06",
         36,
         13,
         4,
         96
        ],
        [
         12357,
         "2011-11-06",
         12,
         67,
         9,
         96
        ],
        [
         12357,
         "2011-11-06",
         4,
         127,
         13,
         96
        ],
        [
         12357,
         "2011-11-06",
         16,
         61,
         8,
         96
        ],
        [
         12357,
         "2011-11-06",
         72,
         3,
         2,
         96
        ],
        [
         12357,
         "2011-11-06",
         24,
         21,
         6,
         96
        ],
        [
         12357,
         "2011-11-06",
         30,
         18,
         5,
         96
        ],
        [
         12357,
         "2011-11-06",
         24,
         21,
         6,
         96
        ],
        [
         12357,
         "2011-11-06",
         6,
         117,
         12,
         96
        ],
        [
         12357,
         "2011-11-06",
         12,
         67,
         9,
         96
        ],
        [
         12357,
         "2011-11-06",
         30,
         18,
         5,
         96
        ],
        [
         12357,
         "2011-11-06",
         48,
         6,
         3,
         96
        ],
        [
         12357,
         "2011-11-06",
         12,
         67,
         9,
         96
        ],
        [
         12357,
         "2011-11-06",
         24,
         21,
         6,
         96
        ],
        [
         12357,
         "2011-11-06",
         24,
         21,
         6,
         96
        ],
        [
         12357,
         "2011-11-06",
         6,
         117,
         12,
         96
        ],
        [
         12357,
         "2011-11-06",
         24,
         21,
         6,
         96
        ],
        [
         12357,
         "2011-11-06",
         24,
         21,
         6,
         96
        ],
        [
         12357,
         "2011-11-06",
         24,
         21,
         6,
         96
        ],
        [
         12357,
         "2011-11-06",
         24,
         21,
         6,
         96
        ],
        [
         12357,
         "2011-11-06",
         12,
         67,
         9,
         96
        ],
        [
         12357,
         "2011-11-06",
         8,
         110,
         11,
         96
        ],
        [
         12357,
         "2011-11-06",
         6,
         117,
         12,
         96
        ],
        [
         12357,
         "2011-11-06",
         24,
         21,
         6,
         96
        ],
        [
         12357,
         "2011-11-06",
         12,
         67,
         9,
         96
        ],
        [
         12357,
         "2011-11-06",
         8,
         110,
         11,
         96
        ],
        [
         12357,
         "2011-11-06",
         24,
         21,
         6,
         96
        ],
        [
         12357,
         "2011-11-06",
         24,
         21,
         6,
         96
        ],
        [
         12357,
         "2011-11-06",
         24,
         21,
         6,
         96
        ],
        [
         12357,
         "2011-11-06",
         9,
         108,
         10,
         96
        ],
        [
         12357,
         "2011-11-06",
         36,
         13,
         4,
         96
        ],
        [
         12357,
         "2011-11-06",
         4,
         127,
         13,
         96
        ],
        [
         12357,
         "2011-11-06",
         12,
         67,
         9,
         96
        ],
        [
         12357,
         "2011-11-06",
         6,
         117,
         12,
         96
        ],
        [
         12357,
         "2011-11-06",
         48,
         6,
         3,
         96
        ],
        [
         12357,
         "2011-11-06",
         8,
         110,
         11,
         96
        ],
        [
         12357,
         "2011-11-06",
         24,
         21,
         6,
         96
        ],
        [
         12357,
         "2011-11-06",
         24,
         21,
         6,
         96
        ],
        [
         12357,
         "2011-11-06",
         12,
         67,
         9,
         96
        ],
        [
         12357,
         "2011-11-06",
         3,
         130,
         14,
         96
        ],
        [
         12357,
         "2011-11-06",
         96,
         1,
         1,
         96
        ],
        [
         12357,
         "2011-11-06",
         24,
         21,
         6,
         96
        ],
        [
         12357,
         "2011-11-06",
         24,
         21,
         6,
         96
        ],
        [
         12357,
         "2011-11-06",
         12,
         67,
         9,
         96
        ],
        [
         12357,
         "2011-11-06",
         48,
         6,
         3,
         96
        ],
        [
         12357,
         "2011-11-06",
         24,
         21,
         6,
         96
        ],
        [
         12357,
         "2011-11-06",
         12,
         67,
         9,
         96
        ],
        [
         12357,
         "2011-11-06",
         24,
         21,
         6,
         96
        ],
        [
         12357,
         "2011-11-06",
         24,
         21,
         6,
         96
        ],
        [
         12357,
         "2011-11-06",
         12,
         67,
         9,
         96
        ],
        [
         12357,
         "2011-11-06",
         12,
         67,
         9,
         96
        ],
        [
         12357,
         "2011-11-06",
         6,
         117,
         12,
         96
        ],
        [
         12357,
         "2011-11-06",
         12,
         67,
         9,
         96
        ],
        [
         12357,
         "2011-11-06",
         24,
         21,
         6,
         96
        ],
        [
         12357,
         "2011-11-06",
         24,
         21,
         6,
         96
        ],
        [
         12357,
         "2011-11-06",
         12,
         67,
         9,
         96
        ],
        [
         12357,
         "2011-11-06",
         12,
         67,
         9,
         96
        ],
        [
         12357,
         "2011-11-06",
         20,
         60,
         7,
         96
        ],
        [
         12357,
         "2011-11-06",
         72,
         3,
         2,
         96
        ],
        [
         12357,
         "2011-11-06",
         12,
         67,
         9,
         96
        ],
        [
         12357,
         "2011-11-06",
         48,
         6,
         3,
         96
        ],
        [
         12357,
         "2011-11-06",
         6,
         117,
         12,
         96
        ],
        [
         12357,
         "2011-11-06",
         48,
         6,
         3,
         96
        ],
        [
         12357,
         "2011-11-06",
         48,
         6,
         3,
         96
        ],
        [
         12357,
         "2011-11-06",
         12,
         67,
         9,
         96
        ],
        [
         12357,
         "2011-11-06",
         12,
         67,
         9,
         96
        ],
        [
         12357,
         "2011-11-06",
         24,
         21,
         6,
         96
        ],
        [
         12357,
         "2011-11-06",
         16,
         61,
         8,
         96
        ],
        [
         12357,
         "2011-11-06",
         36,
         13,
         4,
         96
        ],
        [
         12357,
         "2011-11-06",
         8,
         110,
         11,
         96
        ],
        [
         12357,
         "2011-11-06",
         24,
         21,
         6,
         96
        ],
        [
         12357,
         "2011-11-06",
         12,
         67,
         9,
         96
        ],
        [
         12357,
         "2011-11-06",
         16,
         61,
         8,
         96
        ],
        [
         12357,
         "2011-11-06",
         12,
         67,
         9,
         96
        ],
        [
         12357,
         "2011-11-06",
         24,
         21,
         6,
         96
        ],
        [
         12357,
         "2011-11-06",
         24,
         21,
         6,
         96
        ],
        [
         12357,
         "2011-11-06",
         12,
         67,
         9,
         96
        ],
        [
         12357,
         "2011-11-06",
         12,
         67,
         9,
         96
        ],
        [
         12357,
         "2011-11-06",
         9,
         108,
         10,
         96
        ],
        [
         12357,
         "2011-11-06",
         24,
         21,
         6,
         96
        ],
        [
         12357,
         "2011-11-06",
         12,
         67,
         9,
         96
        ],
        [
         12357,
         "2011-11-06",
         24,
         21,
         6,
         96
        ],
        [
         12357,
         "2011-11-06",
         16,
         61,
         8,
         96
        ],
        [
         12357,
         "2011-11-06",
         4,
         127,
         13,
         96
        ],
        [
         12357,
         "2011-11-06",
         96,
         1,
         1,
         96
        ],
        [
         12357,
         "2011-11-06",
         12,
         67,
         9,
         96
        ],
        [
         12357,
         "2011-11-06",
         16,
         61,
         8,
         96
        ],
        [
         12357,
         "2011-11-06",
         12,
         67,
         9,
         96
        ],
        [
         12357,
         "2011-11-06",
         16,
         61,
         8,
         96
        ],
        [
         12357,
         "2011-11-06",
         12,
         67,
         9,
         96
        ],
        [
         12357,
         "2011-11-06",
         1,
         131,
         15,
         96
        ],
        [
         12357,
         "2011-11-06",
         8,
         110,
         11,
         96
        ],
        [
         12357,
         "2011-11-06",
         24,
         21,
         6,
         96
        ],
        [
         12357,
         "2011-11-06",
         12,
         67,
         9,
         96
        ],
        [
         12357,
         "2011-11-06",
         12,
         67,
         9,
         96
        ],
        [
         12357,
         "2011-11-06",
         48,
         6,
         3,
         96
        ],
        [
         12357,
         "2011-11-06",
         36,
         13,
         4,
         96
        ],
        [
         12357,
         "2011-11-06",
         24,
         21,
         6,
         96
        ],
        [
         12357,
         "2011-11-06",
         12,
         67,
         9,
         96
        ],
        [
         12357,
         "2011-11-06",
         12,
         67,
         9,
         96
        ],
        [
         12357,
         "2011-11-06",
         24,
         21,
         6,
         96
        ],
        [
         12357,
         "2011-11-06",
         12,
         67,
         9,
         96
        ],
        [
         12357,
         "2011-11-06",
         24,
         21,
         6,
         96
        ],
        [
         12357,
         "2011-11-06",
         24,
         21,
         6,
         96
        ],
        [
         12357,
         "2011-11-06",
         30,
         18,
         5,
         96
        ],
        [
         12357,
         "2011-11-06",
         12,
         67,
         9,
         96
        ],
        [
         12357,
         "2011-11-06",
         24,
         21,
         6,
         96
        ],
        [
         12357,
         "2011-11-06",
         8,
         110,
         11,
         96
        ],
        [
         12357,
         "2011-11-06",
         24,
         21,
         6,
         96
        ],
        [
         12357,
         "2011-11-06",
         24,
         21,
         6,
         96
        ],
        [
         12357,
         "2011-11-06",
         12,
         67,
         9,
         96
        ],
        [
         12357,
         "2011-11-06",
         12,
         67,
         9,
         96
        ],
        [
         12357,
         "2011-11-06",
         12,
         67,
         9,
         96
        ],
        [
         12357,
         "2011-11-06",
         12,
         67,
         9,
         96
        ],
        [
         12358,
         "2011-07-12",
         2,
         10,
         4,
         12
        ],
        [
         12358,
         "2011-12-08",
         36,
         1,
         1,
         36
        ],
        [
         12358,
         "2011-07-12",
         4,
         9,
         3,
         12
        ],
        [
         12358,
         "2011-12-08",
         24,
         2,
         2,
         36
        ],
        [
         12358,
         "2011-12-08",
         24,
         2,
         2,
         36
        ],
        [
         12358,
         "2011-07-12",
         6,
         8,
         2,
         12
        ],
        [
         12358,
         "2011-07-12",
         12,
         1,
         1,
         12
        ],
        [
         12358,
         "2011-07-12",
         12,
         1,
         1,
         12
        ],
        [
         12358,
         "2011-07-12",
         2,
         10,
         4,
         12
        ],
        [
         12358,
         "2011-07-12",
         12,
         1,
         1,
         12
        ],
        [
         12358,
         "2011-12-08",
         12,
         6,
         3,
         36
        ],
        [
         12358,
         "2011-12-08",
         24,
         2,
         2,
         36
        ],
        [
         12358,
         "2011-12-08",
         24,
         2,
         2,
         36
        ],
        [
         12358,
         "2011-07-12",
         12,
         1,
         1,
         12
        ],
        [
         12358,
         "2011-07-12",
         12,
         1,
         1,
         12
        ],
        [
         12358,
         "2011-07-12",
         12,
         1,
         1,
         12
        ],
        [
         12358,
         "2011-07-12",
         2,
         10,
         4,
         12
        ],
        [
         12358,
         "2011-07-12",
         12,
         1,
         1,
         12
        ],
        [
         12358,
         "2011-12-08",
         4,
         7,
         4,
         36
        ],
        [
         12359,
         "2011-02-07",
         1,
         75,
         10,
         25
        ],
        [
         12359,
         "2011-10-13",
         4,
         50,
         7,
         24
        ],
        [
         12359,
         "2011-02-07",
         3,
         42,
         8,
         25
        ],
        [
         12359,
         "2011-06-03",
         6,
         24,
         5,
         24
        ],
        [
         12359,
         "2011-06-03",
         6,
         24,
         5,
         24
        ],
        [
         12359,
         "2011-06-03",
         2,
         38,
         8,
         24
        ],
        [
         12359,
         "2011-02-07",
         3,
         42,
         8,
         25
        ],
        [
         12359,
         "2011-10-13",
         4,
         50,
         7,
         24
        ],
        [
         12359,
         "2011-06-03",
         12,
         3,
         2,
         24
        ],
        [
         12359,
         "2011-10-13",
         16,
         2,
         2,
         24
        ],
        [
         12359,
         "2011-06-03",
         6,
         24,
         5,
         24
        ],
        [
         12359,
         "2011-06-03",
         6,
         24,
         5,
         24
        ],
        [
         12359,
         "2011-10-13",
         24,
         1,
         1,
         24
        ],
        [
         12359,
         "2011-02-07",
         25,
         1,
         1,
         25
        ],
        [
         12359,
         "2011-06-03",
         4,
         31,
         6,
         24
        ],
        [
         12359,
         "2011-06-03",
         10,
         12,
         3,
         24
        ],
        [
         12359,
         "2011-12-02",
         -1,
         1,
         1,
         -1
        ],
        [
         12359,
         "2011-02-07",
         2,
         52,
         9,
         25
        ],
        [
         12359,
         "2011-06-03",
         2,
         38,
         8,
         24
        ],
        [
         12359,
         "2011-06-03",
         2,
         38,
         8,
         24
        ],
        [
         12359,
         "2011-10-13",
         12,
         6,
         3,
         24
        ],
        [
         12359,
         "2011-10-13",
         4,
         50,
         7,
         24
        ],
        [
         12359,
         "2011-10-13",
         4,
         50,
         7,
         24
        ],
        [
         12359,
         "2011-10-13",
         3,
         78,
         8,
         24
        ],
        [
         12359,
         "2011-10-13",
         3,
         78,
         8,
         24
        ],
        [
         12359,
         "2011-02-07",
         2,
         52,
         9,
         25
        ],
        [
         12359,
         "2011-10-13",
         2,
         89,
         9,
         24
        ],
        [
         12359,
         "2011-06-03",
         12,
         3,
         2,
         24
        ],
        [
         12359,
         "2011-06-03",
         2,
         38,
         8,
         24
        ],
        [
         12359,
         "2011-10-13",
         12,
         6,
         3,
         24
        ],
        [
         12359,
         "2011-06-03",
         10,
         12,
         3,
         24
        ],
        [
         12359,
         "2011-10-13",
         4,
         50,
         7,
         24
        ],
        [
         12359,
         "2011-06-03",
         10,
         12,
         3,
         24
        ],
        [
         12359,
         "2011-02-07",
         4,
         33,
         7,
         25
        ],
        [
         12359,
         "2011-10-13",
         12,
         6,
         3,
         24
        ],
        [
         12359,
         "2011-06-03",
         4,
         31,
         6,
         24
        ],
        [
         12359,
         "2011-02-07",
         10,
         18,
         4,
         25
        ],
        [
         12359,
         "2011-02-07",
         3,
         42,
         8,
         25
        ],
        [
         12359,
         "2011-06-03",
         10,
         12,
         3,
         24
        ],
        [
         12359,
         "2011-06-03",
         4,
         31,
         6,
         24
        ],
        [
         12359,
         "2011-06-03",
         4,
         31,
         6,
         24
        ],
        [
         12359,
         "2011-06-03",
         8,
         20,
         4,
         24
        ],
        [
         12359,
         "2011-06-03",
         12,
         3,
         2,
         24
        ],
        [
         12359,
         "2011-06-03",
         24,
         1,
         1,
         24
        ],
        [
         12359,
         "2011-06-03",
         2,
         38,
         8,
         24
        ],
        [
         12359,
         "2011-06-03",
         8,
         20,
         4,
         24
        ],
        [
         12359,
         "2011-06-03",
         2,
         38,
         8,
         24
        ],
        [
         12359,
         "2011-06-03",
         12,
         3,
         2,
         24
        ],
        [
         12359,
         "2011-06-03",
         12,
         3,
         2,
         24
        ],
        [
         12359,
         "2011-02-07",
         2,
         52,
         9,
         25
        ],
        [
         12359,
         "2011-02-07",
         3,
         42,
         8,
         25
        ],
        [
         12359,
         "2011-02-07",
         4,
         33,
         7,
         25
        ],
        [
         12359,
         "2011-10-13",
         6,
         31,
         6,
         24
        ],
        [
         12359,
         "2011-10-13",
         12,
         6,
         3,
         24
        ],
        [
         12359,
         "2011-10-13",
         4,
         50,
         7,
         24
        ],
        [
         12359,
         "2011-10-13",
         6,
         31,
         6,
         24
        ],
        [
         12359,
         "2011-10-13",
         6,
         31,
         6,
         24
        ],
        [
         12359,
         "2011-10-13",
         12,
         6,
         3,
         24
        ],
        [
         12359,
         "2011-10-13",
         6,
         31,
         6,
         24
        ],
        [
         12359,
         "2011-06-03",
         10,
         12,
         3,
         24
        ],
        [
         12359,
         "2011-10-13",
         12,
         6,
         3,
         24
        ],
        [
         12359,
         "2011-10-13",
         3,
         78,
         8,
         24
        ],
        [
         12359,
         "2011-10-13",
         2,
         89,
         9,
         24
        ],
        [
         12359,
         "2011-10-13",
         3,
         78,
         8,
         24
        ],
        [
         12359,
         "2011-02-07",
         4,
         33,
         7,
         25
        ],
        [
         12359,
         "2011-10-13",
         16,
         2,
         2,
         24
        ],
        [
         12359,
         "2011-02-07",
         12,
         4,
         3,
         25
        ],
        [
         12359,
         "2011-10-13",
         12,
         6,
         3,
         24
        ],
        [
         12359,
         "2011-10-13",
         6,
         31,
         6,
         24
        ],
        [
         12359,
         "2011-01-12",
         8,
         6,
         3,
         20
        ],
        [
         12359,
         "2011-01-12",
         8,
         6,
         3,
         20
        ],
        [
         12359,
         "2011-02-07",
         12,
         4,
         3,
         25
        ],
        [
         12359,
         "2011-06-03",
         4,
         31,
         6,
         24
        ],
        [
         12359,
         "2011-10-13",
         2,
         89,
         9,
         24
        ],
        [
         12359,
         "2011-02-07",
         12,
         4,
         3,
         25
        ],
        [
         12359,
         "2011-10-13",
         12,
         6,
         3,
         24
        ],
        [
         12359,
         "2011-01-12",
         3,
         13,
         5,
         20
        ],
        [
         12359,
         "2011-02-07",
         12,
         4,
         3,
         25
        ],
        [
         12359,
         "2011-02-07",
         12,
         4,
         3,
         25
        ],
        [
         12359,
         "2011-02-07",
         24,
         3,
         2,
         25
        ],
        [
         12359,
         "2011-10-13",
         2,
         89,
         9,
         24
        ],
        [
         12359,
         "2011-02-07",
         2,
         52,
         9,
         25
        ],
        [
         12359,
         "2011-02-07",
         2,
         52,
         9,
         25
        ],
        [
         12359,
         "2011-06-03",
         12,
         3,
         2,
         24
        ],
        [
         12359,
         "2011-02-07",
         1,
         75,
         10,
         25
        ],
        [
         12359,
         "2011-06-03",
         10,
         12,
         3,
         24
        ],
        [
         12359,
         "2011-10-13",
         4,
         50,
         7,
         24
        ],
        [
         12359,
         "2011-10-13",
         8,
         29,
         5,
         24
        ],
        [
         12359,
         "2011-10-13",
         4,
         50,
         7,
         24
        ],
        [
         12359,
         "2011-10-13",
         4,
         50,
         7,
         24
        ],
        [
         12359,
         "2011-02-07",
         3,
         42,
         8,
         25
        ],
        [
         12359,
         "2011-10-13",
         6,
         31,
         6,
         24
        ],
        [
         12359,
         "2011-02-07",
         6,
         22,
         5,
         25
        ],
        [
         12359,
         "2011-02-07",
         6,
         22,
         5,
         25
        ],
        [
         12359,
         "2011-06-03",
         4,
         31,
         6,
         24
        ],
        [
         12359,
         "2011-06-03",
         24,
         1,
         1,
         24
        ],
        [
         12359,
         "2011-02-07",
         1,
         75,
         10,
         25
        ],
        [
         12359,
         "2011-02-07",
         3,
         42,
         8,
         25
        ],
        [
         12359,
         "2011-06-03",
         8,
         20,
         4,
         24
        ],
        [
         12359,
         "2011-06-03",
         2,
         38,
         8,
         24
        ],
        [
         12359,
         "2011-02-07",
         12,
         4,
         3,
         25
        ],
        [
         12359,
         "2011-02-07",
         12,
         4,
         3,
         25
        ],
        [
         12359,
         "2011-06-03",
         2,
         38,
         8,
         24
        ],
        [
         12359,
         "2011-06-03",
         12,
         3,
         2,
         24
        ],
        [
         12359,
         "2011-01-12",
         1,
         15,
         6,
         20
        ],
        [
         12359,
         "2011-06-03",
         10,
         12,
         3,
         24
        ],
        [
         12359,
         "2011-06-03",
         6,
         24,
         5,
         24
        ],
        [
         12359,
         "2011-02-07",
         4,
         33,
         7,
         25
        ],
        [
         12359,
         "2011-06-03",
         10,
         12,
         3,
         24
        ],
        [
         12359,
         "2011-10-13",
         4,
         50,
         7,
         24
        ],
        [
         12359,
         "2011-10-13",
         3,
         78,
         8,
         24
        ],
        [
         12359,
         "2011-02-07",
         12,
         4,
         3,
         25
        ],
        [
         12359,
         "2011-10-13",
         16,
         2,
         2,
         24
        ],
        [
         12359,
         "2011-10-13",
         4,
         50,
         7,
         24
        ],
        [
         12359,
         "2011-10-13",
         12,
         6,
         3,
         24
        ],
        [
         12359,
         "2011-10-13",
         4,
         50,
         7,
         24
        ],
        [
         12359,
         "2011-02-07",
         2,
         52,
         9,
         25
        ],
        [
         12359,
         "2011-10-13",
         6,
         31,
         6,
         24
        ],
        [
         12359,
         "2011-02-07",
         2,
         52,
         9,
         25
        ],
        [
         12359,
         "2011-10-13",
         4,
         50,
         7,
         24
        ],
        [
         12359,
         "2011-10-13",
         12,
         6,
         3,
         24
        ],
        [
         12359,
         "2011-10-13",
         4,
         50,
         7,
         24
        ],
        [
         12359,
         "2011-10-13",
         6,
         31,
         6,
         24
        ],
        [
         12359,
         "2011-10-13",
         6,
         31,
         6,
         24
        ],
        [
         12359,
         "2011-10-13",
         3,
         78,
         8,
         24
        ],
        [
         12359,
         "2011-02-07",
         2,
         52,
         9,
         25
        ],
        [
         12359,
         "2011-02-07",
         2,
         52,
         9,
         25
        ],
        [
         12359,
         "2011-10-13",
         6,
         31,
         6,
         24
        ],
        [
         12359,
         "2011-02-07",
         12,
         4,
         3,
         25
        ],
        [
         12359,
         "2011-02-07",
         10,
         18,
         4,
         25
        ],
        [
         12359,
         "2011-10-13",
         2,
         89,
         9,
         24
        ],
        [
         12359,
         "2011-01-12",
         1,
         15,
         6,
         20
        ],
        [
         12359,
         "2011-10-13",
         3,
         78,
         8,
         24
        ],
        [
         12359,
         "2011-10-13",
         3,
         78,
         8,
         24
        ],
        [
         12359,
         "2011-02-07",
         2,
         52,
         9,
         25
        ],
        [
         12359,
         "2011-01-12",
         12,
         4,
         2,
         20
        ],
        [
         12359,
         "2011-10-13",
         3,
         78,
         8,
         24
        ],
        [
         12359,
         "2011-01-12",
         8,
         6,
         3,
         20
        ],
        [
         12359,
         "2011-01-12",
         20,
         1,
         1,
         20
        ],
        [
         12359,
         "2011-10-13",
         6,
         31,
         6,
         24
        ],
        [
         12359,
         "2011-10-13",
         2,
         89,
         9,
         24
        ],
        [
         12359,
         "2011-10-13",
         6,
         31,
         6,
         24
        ],
        [
         12359,
         "2011-01-12",
         20,
         1,
         1,
         20
        ],
        [
         12359,
         "2011-10-13",
         2,
         89,
         9,
         24
        ],
        [
         12359,
         "2011-02-07",
         1,
         75,
         10,
         25
        ],
        [
         12359,
         "2011-02-07",
         6,
         22,
         5,
         25
        ],
        [
         12359,
         "2011-01-12",
         6,
         11,
         4,
         20
        ],
        [
         12359,
         "2011-01-12",
         20,
         1,
         1,
         20
        ],
        [
         12359,
         "2011-10-13",
         10,
         22,
         4,
         24
        ],
        [
         12359,
         "2011-10-13",
         2,
         89,
         9,
         24
        ],
        [
         12359,
         "2011-10-13",
         6,
         31,
         6,
         24
        ],
        [
         12359,
         "2011-01-12",
         8,
         6,
         3,
         20
        ],
        [
         12359,
         "2011-10-13",
         2,
         89,
         9,
         24
        ],
        [
         12359,
         "2011-02-07",
         2,
         52,
         9,
         25
        ],
        [
         12359,
         "2011-10-13",
         4,
         50,
         7,
         24
        ],
        [
         12359,
         "2011-06-03",
         6,
         24,
         5,
         24
        ],
        [
         12359,
         "2011-10-13",
         4,
         50,
         7,
         24
        ],
        [
         12359,
         "2011-10-13",
         10,
         22,
         4,
         24
        ],
        [
         12359,
         "2011-10-13",
         1,
         104,
         10,
         24
        ],
        [
         12359,
         "2011-10-13",
         4,
         50,
         7,
         24
        ],
        [
         12359,
         "2011-10-13",
         2,
         89,
         9,
         24
        ],
        [
         12359,
         "2011-02-07",
         12,
         4,
         3,
         25
        ],
        [
         12359,
         "2011-10-13",
         1,
         104,
         10,
         24
        ],
        [
         12359,
         "2011-02-07",
         4,
         33,
         7,
         25
        ],
        [
         12359,
         "2011-10-13",
         10,
         22,
         4,
         24
        ],
        [
         12359,
         "2011-10-13",
         12,
         6,
         3,
         24
        ],
        [
         12359,
         "2011-10-13",
         16,
         2,
         2,
         24
        ],
        [
         12359,
         "2011-10-13",
         10,
         22,
         4,
         24
        ],
        [
         12359,
         "2011-10-13",
         12,
         6,
         3,
         24
        ],
        [
         12359,
         "2011-10-13",
         4,
         50,
         7,
         24
        ],
        [
         12359,
         "2011-10-13",
         12,
         6,
         3,
         24
        ],
        [
         12359,
         "2011-10-13",
         8,
         29,
         5,
         24
        ],
        [
         12359,
         "2011-10-13",
         4,
         50,
         7,
         24
        ],
        [
         12359,
         "2011-10-13",
         6,
         31,
         6,
         24
        ],
        [
         12359,
         "2011-02-07",
         12,
         4,
         3,
         25
        ],
        [
         12359,
         "2011-10-13",
         2,
         89,
         9,
         24
        ],
        [
         12359,
         "2011-02-07",
         3,
         42,
         8,
         25
        ],
        [
         12359,
         "2011-12-02",
         -2,
         3,
         2,
         -1
        ],
        [
         12359,
         "2011-06-03",
         2,
         38,
         8,
         24
        ],
        [
         12359,
         "2011-12-02",
         -2,
         3,
         2,
         -1
        ],
        [
         12359,
         "2011-06-03",
         12,
         3,
         2,
         24
        ],
        [
         12359,
         "2011-02-07",
         5,
         32,
         6,
         25
        ],
        [
         12359,
         "2011-06-03",
         12,
         3,
         2,
         24
        ],
        [
         12359,
         "2011-02-07",
         3,
         42,
         8,
         25
        ],
        [
         12359,
         "2011-02-07",
         6,
         22,
         5,
         25
        ],
        [
         12359,
         "2011-02-07",
         6,
         22,
         5,
         25
        ],
        [
         12359,
         "2011-02-07",
         2,
         52,
         9,
         25
        ],
        [
         12359,
         "2011-06-03",
         8,
         20,
         4,
         24
        ],
        [
         12359,
         "2011-02-07",
         4,
         33,
         7,
         25
        ],
        [
         12359,
         "2011-02-07",
         12,
         4,
         3,
         25
        ],
        [
         12359,
         "2011-04-13",
         -2,
         1,
         1,
         -2
        ],
        [
         12359,
         "2011-02-07",
         2,
         52,
         9,
         25
        ],
        [
         12359,
         "2011-06-03",
         1,
         47,
         9,
         24
        ],
        [
         12359,
         "2011-02-07",
         12,
         4,
         3,
         25
        ],
        [
         12359,
         "2011-01-12",
         8,
         6,
         3,
         20
        ],
        [
         12359,
         "2011-02-07",
         2,
         52,
         9,
         25
        ],
        [
         12359,
         "2011-10-13",
         6,
         31,
         6,
         24
        ],
        [
         12359,
         "2011-10-13",
         4,
         50,
         7,
         24
        ],
        [
         12359,
         "2011-02-07",
         6,
         22,
         5,
         25
        ],
        [
         12359,
         "2011-10-13",
         12,
         6,
         3,
         24
        ],
        [
         12359,
         "2011-10-13",
         4,
         50,
         7,
         24
        ],
        [
         12359,
         "2011-10-13",
         4,
         50,
         7,
         24
        ],
        [
         12359,
         "2011-10-13",
         4,
         50,
         7,
         24
        ],
        [
         12359,
         "2011-10-13",
         4,
         50,
         7,
         24
        ],
        [
         12359,
         "2011-10-13",
         3,
         78,
         8,
         24
        ],
        [
         12359,
         "2011-10-13",
         6,
         31,
         6,
         24
        ],
        [
         12359,
         "2011-02-07",
         6,
         22,
         5,
         25
        ],
        [
         12359,
         "2011-10-13",
         12,
         6,
         3,
         24
        ],
        [
         12359,
         "2011-10-13",
         6,
         31,
         6,
         24
        ],
        [
         12359,
         "2011-02-07",
         4,
         33,
         7,
         25
        ],
        [
         12359,
         "2011-10-13",
         3,
         78,
         8,
         24
        ],
        [
         12359,
         "2011-02-07",
         6,
         22,
         5,
         25
        ],
        [
         12359,
         "2011-02-07",
         2,
         52,
         9,
         25
        ],
        [
         12359,
         "2011-02-07",
         2,
         52,
         9,
         25
        ],
        [
         12359,
         "2011-02-07",
         2,
         52,
         9,
         25
        ],
        [
         12359,
         "2011-10-13",
         12,
         6,
         3,
         24
        ],
        [
         12359,
         "2011-10-13",
         2,
         89,
         9,
         24
        ],
        [
         12359,
         "2011-10-13",
         6,
         31,
         6,
         24
        ],
        [
         12359,
         "2011-01-12",
         12,
         4,
         2,
         20
        ],
        [
         12359,
         "2011-02-07",
         6,
         22,
         5,
         25
        ],
        [
         12359,
         "2011-02-07",
         2,
         52,
         9,
         25
        ],
        [
         12359,
         "2011-10-13",
         6,
         31,
         6,
         24
        ],
        [
         12359,
         "2011-10-13",
         2,
         89,
         9,
         24
        ],
        [
         12359,
         "2011-01-12",
         3,
         13,
         5,
         20
        ],
        [
         12359,
         "2011-02-07",
         2,
         52,
         9,
         25
        ],
        [
         12359,
         "2011-02-07",
         4,
         33,
         7,
         25
        ],
        [
         12359,
         "2011-10-13",
         2,
         89,
         9,
         24
        ],
        [
         12359,
         "2011-02-07",
         1,
         75,
         10,
         25
        ],
        [
         12359,
         "2011-10-13",
         4,
         50,
         7,
         24
        ],
        [
         12359,
         "2011-02-07",
         1,
         75,
         10,
         25
        ],
        [
         12359,
         "2011-02-07",
         6,
         22,
         5,
         25
        ],
        [
         12359,
         "2011-10-13",
         4,
         50,
         7,
         24
        ],
        [
         12359,
         "2011-02-07",
         2,
         52,
         9,
         25
        ],
        [
         12359,
         "2011-02-07",
         10,
         18,
         4,
         25
        ],
        [
         12359,
         "2011-10-13",
         4,
         50,
         7,
         24
        ],
        [
         12359,
         "2011-10-13",
         10,
         22,
         4,
         24
        ],
        [
         12359,
         "2011-02-07",
         25,
         1,
         1,
         25
        ],
        [
         12359,
         "2011-02-07",
         4,
         33,
         7,
         25
        ],
        [
         12359,
         "2011-12-02",
         -1,
         1,
         1,
         -1
        ],
        [
         12359,
         "2011-02-07",
         3,
         42,
         8,
         25
        ],
        [
         12359,
         "2011-06-03",
         3,
         37,
         7,
         24
        ],
        [
         12359,
         "2011-04-13",
         -2,
         1,
         1,
         -2
        ],
        [
         12359,
         "2011-06-03",
         6,
         24,
         5,
         24
        ],
        [
         12359,
         "2011-02-07",
         2,
         52,
         9,
         25
        ],
        [
         12359,
         "2011-02-07",
         12,
         4,
         3,
         25
        ],
        [
         12359,
         "2011-02-07",
         10,
         18,
         4,
         25
        ],
        [
         12359,
         "2011-02-07",
         3,
         42,
         8,
         25
        ],
        [
         12359,
         "2011-10-13",
         4,
         50,
         7,
         24
        ],
        [
         12359,
         "2011-02-07",
         2,
         52,
         9,
         25
        ],
        [
         12359,
         "2011-02-07",
         2,
         52,
         9,
         25
        ],
        [
         12359,
         "2011-10-13",
         10,
         22,
         4,
         24
        ],
        [
         12359,
         "2011-10-13",
         2,
         89,
         9,
         24
        ],
        [
         12359,
         "2011-01-12",
         6,
         11,
         4,
         20
        ],
        [
         12359,
         "2011-10-13",
         10,
         22,
         4,
         24
        ],
        [
         12360,
         "2011-10-18",
         12,
         7,
         3,
         24
        ],
        [
         12360,
         "2011-10-18",
         12,
         7,
         3,
         24
        ],
        [
         12360,
         "2011-05-23",
         12,
         3,
         3,
         36
        ],
        [
         12360,
         "2011-08-19",
         12,
         1,
         1,
         12
        ],
        [
         12360,
         "2011-05-23",
         6,
         29,
         6,
         36
        ],
        [
         12360,
         "2011-05-23",
         4,
         41,
         7,
         36
        ],
        [
         12360,
         "2011-10-18",
         12,
         7,
         3,
         24
        ],
        [
         12360,
         "2011-08-19",
         4,
         29,
         5,
         12
        ],
        [
         12360,
         "2011-10-18",
         4,
         44,
         6,
         24
        ],
        [
         12360,
         "2011-10-18",
         24,
         1,
         1,
         24
        ],
        [
         12360,
         "2011-10-18",
         6,
         32,
         5,
         24
        ],
        [
         12360,
         "2011-05-23",
         12,
         3,
         3,
         36
        ],
        [
         12360,
         "2011-05-23",
         6,
         29,
         6,
         36
        ],
        [
         12360,
         "2011-10-18",
         8,
         23,
         4,
         24
        ],
        [
         12360,
         "2011-05-23",
         6,
         29,
         6,
         36
        ],
        [
         12360,
         "2011-10-18",
         3,
         49,
         7,
         24
        ],
        [
         12360,
         "2011-10-18",
         4,
         44,
         6,
         24
        ],
        [
         12360,
         "2011-10-18",
         4,
         44,
         6,
         24
        ],
        [
         12360,
         "2011-10-18",
         4,
         44,
         6,
         24
        ],
        [
         12360,
         "2011-05-23",
         12,
         3,
         3,
         36
        ],
        [
         12360,
         "2011-05-23",
         12,
         3,
         3,
         36
        ],
        [
         12360,
         "2011-10-18",
         6,
         32,
         5,
         24
        ],
        [
         12360,
         "2011-05-23",
         24,
         2,
         2,
         36
        ],
        [
         12360,
         "2011-10-18",
         8,
         23,
         4,
         24
        ],
        [
         12360,
         "2011-08-19",
         10,
         6,
         2,
         12
        ],
        [
         12360,
         "2011-10-18",
         6,
         32,
         5,
         24
        ],
        [
         12360,
         "2011-05-23",
         4,
         41,
         7,
         36
        ],
        [
         12360,
         "2011-10-18",
         6,
         32,
         5,
         24
        ],
        [
         12360,
         "2011-05-23",
         4,
         41,
         7,
         36
        ],
        [
         12360,
         "2011-05-23",
         8,
         22,
         5,
         36
        ],
        [
         12360,
         "2011-10-18",
         4,
         44,
         6,
         24
        ],
        [
         12360,
         "2011-10-18",
         6,
         32,
         5,
         24
        ],
        [
         12360,
         "2011-05-23",
         6,
         29,
         6,
         36
        ],
        [
         12360,
         "2011-05-23",
         10,
         21,
         4,
         36
        ],
        [
         12360,
         "2011-05-23",
         12,
         3,
         3,
         36
        ],
        [
         12360,
         "2011-10-18",
         6,
         32,
         5,
         24
        ],
        [
         12360,
         "2011-05-23",
         12,
         3,
         3,
         36
        ],
        [
         12360,
         "2011-05-23",
         6,
         29,
         6,
         36
        ],
        [
         12360,
         "2011-05-23",
         6,
         29,
         6,
         36
        ],
        [
         12360,
         "2011-05-23",
         12,
         3,
         3,
         36
        ],
        [
         12360,
         "2011-10-18",
         8,
         23,
         4,
         24
        ],
        [
         12360,
         "2011-10-18",
         6,
         32,
         5,
         24
        ],
        [
         12360,
         "2011-10-18",
         8,
         23,
         4,
         24
        ],
        [
         12360,
         "2011-05-23",
         6,
         29,
         6,
         36
        ],
        [
         12360,
         "2011-10-18",
         6,
         32,
         5,
         24
        ],
        [
         12360,
         "2011-10-18",
         6,
         32,
         5,
         24
        ],
        [
         12360,
         "2011-05-23",
         4,
         41,
         7,
         36
        ],
        [
         12360,
         "2011-08-19",
         8,
         10,
         3,
         12
        ],
        [
         12360,
         "2011-10-18",
         6,
         32,
         5,
         24
        ],
        [
         12360,
         "2011-08-19",
         2,
         30,
         6,
         12
        ],
        [
         12360,
         "2011-10-18",
         8,
         23,
         4,
         24
        ],
        [
         12360,
         "2011-05-23",
         12,
         3,
         3,
         36
        ],
        [
         12360,
         "2011-05-23",
         6,
         29,
         6,
         36
        ],
        [
         12360,
         "2011-10-18",
         8,
         23,
         4,
         24
        ],
        [
         12360,
         "2011-10-18",
         8,
         23,
         4,
         24
        ],
        [
         12360,
         "2011-10-18",
         6,
         32,
         5,
         24
        ],
        [
         12360,
         "2011-05-23",
         6,
         29,
         6,
         36
        ],
        [
         12360,
         "2011-10-18",
         6,
         32,
         5,
         24
        ],
        [
         12360,
         "2011-08-19",
         8,
         10,
         3,
         12
        ],
        [
         12360,
         "2011-10-18",
         12,
         7,
         3,
         24
        ],
        [
         12360,
         "2011-08-19",
         6,
         20,
         4,
         12
        ],
        [
         12360,
         "2011-10-18",
         8,
         23,
         4,
         24
        ]
       ],
       "datasetInfos": [],
       "dbfsResultPath": null,
       "isJsonSchema": true,
       "metadata": {},
       "overflow": true,
       "plotOptions": {
        "customPlotOptions": {},
        "displayType": "table",
        "pivotAggregation": null,
        "pivotColumns": null,
        "xColumns": null,
        "yColumns": null
       },
       "removedWidgets": [],
       "schema": [
        {
         "metadata": "{}",
         "name": "CustomerId",
         "type": "\"double\""
        },
        {
         "metadata": "{}",
         "name": "date",
         "type": "\"date\""
        },
        {
         "metadata": "{}",
         "name": "Quantity",
         "type": "\"integer\""
        },
        {
         "metadata": "{}",
         "name": "rank",
         "type": "\"integer\""
        },
        {
         "metadata": "{}",
         "name": "dRank",
         "type": "\"integer\""
        },
        {
         "metadata": "{}",
         "name": "maxPurchase",
         "type": "\"integer\""
        }
       ],
       "type": "table"
      }
     },
     "output_type": "display_data"
    }
   ],
   "source": [
    "%sql\n",
    "SELECT CustomerId, date, Quantity,\n",
    "rank(Quantity) OVER (PARTITION BY CustomerId, date\n",
    "ORDER BY Quantity DESC NULLS LAST\n",
    "ROWS BETWEEN\n",
    "UNBOUNDED PRECEDING AND\n",
    "CURRENT ROW) as rank,\n",
    "dense_rank(Quantity) OVER (PARTITION BY CustomerId, date\n",
    "ORDER BY Quantity DESC NULLS LAST\n",
    "ROWS BETWEEN\n",
    "UNBOUNDED PRECEDING AND\n",
    "CURRENT ROW) as dRank,\n",
    "max(Quantity) OVER (PARTITION BY CustomerId, date\n",
    "ORDER BY Quantity DESC NULLS LAST\n",
    "ROWS BETWEEN\n",
    "UNBOUNDED PRECEDING AND\n",
    "CURRENT ROW) as maxPurchase\n",
    "FROM dfWithDate WHERE CustomerId IS NOT NULL ORDER BY CustomerId"
   ]
  },
  {
   "cell_type": "markdown",
   "metadata": {
    "application/vnd.databricks.v1+cell": {
     "inputWidgets": {},
     "nuid": "e82032b5-e08a-46fa-b49d-7388507283fc",
     "showTitle": false,
     "title": ""
    }
   },
   "source": [
    "###### Grouping Sets\n",
    "* an aggregation across multiple groups.\n",
    "* These are a low-level tool for combining sets of aggregations together.\n",
    "* \n",
    "\n",
    "total quantity of all stock codes and customers."
   ]
  },
  {
   "cell_type": "code",
   "execution_count": 0,
   "metadata": {
    "application/vnd.databricks.v1+cell": {
     "inputWidgets": {},
     "nuid": "b19b3a5c-f676-4113-9fec-8b839f6243e4",
     "showTitle": false,
     "title": ""
    }
   },
   "outputs": [
    {
     "data": {
      "text/html": [
       "<style scoped>\n",
       "  .ansiout {\n",
       "    display: block;\n",
       "    unicode-bidi: embed;\n",
       "    white-space: pre-wrap;\n",
       "    word-wrap: break-word;\n",
       "    word-break: break-all;\n",
       "    font-family: \"Source Code Pro\", \"Menlo\", monospace;;\n",
       "    font-size: 13px;\n",
       "    color: #555;\n",
       "    margin-left: 4px;\n",
       "    line-height: 19px;\n",
       "  }\n",
       "</style>\n",
       "<div class=\"ansiout\"></div>"
      ]
     },
     "metadata": {
      "application/vnd.databricks.v1+output": {
       "addedWidgets": {},
       "arguments": {},
       "data": "<div class=\"ansiout\"></div>",
       "datasetInfos": [
        {
         "name": "dfNoNull",
         "schema": {
          "fields": [
           {
            "metadata": {},
            "name": "InvoiceNo",
            "nullable": true,
            "type": "string"
           },
           {
            "metadata": {},
            "name": "StockCode",
            "nullable": true,
            "type": "string"
           },
           {
            "metadata": {},
            "name": "Description",
            "nullable": true,
            "type": "string"
           },
           {
            "metadata": {},
            "name": "Quantity",
            "nullable": true,
            "type": "integer"
           },
           {
            "metadata": {},
            "name": "InvoiceDate",
            "nullable": true,
            "type": "timestamp"
           },
           {
            "metadata": {},
            "name": "UnitPrice",
            "nullable": true,
            "type": "double"
           },
           {
            "metadata": {},
            "name": "CustomerID",
            "nullable": true,
            "type": "double"
           },
           {
            "metadata": {},
            "name": "Country",
            "nullable": true,
            "type": "string"
           },
           {
            "metadata": {},
            "name": "date",
            "nullable": true,
            "type": "date"
           }
          ],
          "type": "struct"
         },
         "tableIdentifier": null,
         "typeStr": "pyspark.sql.dataframe.DataFrame"
        }
       ],
       "metadata": {},
       "removedWidgets": [],
       "type": "html"
      }
     },
     "output_type": "display_data"
    }
   ],
   "source": [
    "dfNoNull = dfWithDate.drop()\n",
    "dfNoNull.createOrReplaceTempView(\"dfNoNull\")"
   ]
  },
  {
   "cell_type": "code",
   "execution_count": 0,
   "metadata": {
    "application/vnd.databricks.v1+cell": {
     "inputWidgets": {},
     "nuid": "fa310e62-d3f2-4f99-8fa4-679c745b0ead",
     "showTitle": false,
     "title": ""
    }
   },
   "outputs": [
    {
     "data": {
      "text/html": [
       "<style scoped>\n",
       "  .table-result-container {\n",
       "    max-height: 300px;\n",
       "    overflow: auto;\n",
       "  }\n",
       "  table, th, td {\n",
       "    border: 1px solid black;\n",
       "    border-collapse: collapse;\n",
       "  }\n",
       "  th, td {\n",
       "    padding: 5px;\n",
       "  }\n",
       "  th {\n",
       "    text-align: left;\n",
       "  }\n",
       "</style><div class='table-result-container'><table class='table-result'><thead style='background-color: white'><tr><th>CustomerId</th><th>stockCode</th><th>sum(Quantity)</th></tr></thead><tbody><tr><td>18287.0</td><td>85173</td><td>48</td></tr><tr><td>18287.0</td><td>85040A</td><td>48</td></tr><tr><td>18287.0</td><td>85039B</td><td>120</td></tr><tr><td>18287.0</td><td>85039A</td><td>96</td></tr><tr><td>18287.0</td><td>84920</td><td>4</td></tr></tbody></table></div>"
      ]
     },
     "metadata": {
      "application/vnd.databricks.v1+output": {
       "addedWidgets": {},
       "aggData": [],
       "aggError": "",
       "aggOverflow": false,
       "aggSchema": [],
       "aggSeriesLimitReached": false,
       "aggType": "",
       "arguments": {},
       "columnCustomDisplayInfos": {},
       "data": [
        [
         18287,
         "85173",
         48
        ],
        [
         18287,
         "85040A",
         48
        ],
        [
         18287,
         "85039B",
         120
        ],
        [
         18287,
         "85039A",
         96
        ],
        [
         18287,
         "84920",
         4
        ]
       ],
       "datasetInfos": [],
       "dbfsResultPath": null,
       "isJsonSchema": true,
       "metadata": {},
       "overflow": false,
       "plotOptions": {
        "customPlotOptions": {},
        "displayType": "table",
        "pivotAggregation": null,
        "pivotColumns": null,
        "xColumns": null,
        "yColumns": null
       },
       "removedWidgets": [],
       "schema": [
        {
         "metadata": "{}",
         "name": "CustomerId",
         "type": "\"double\""
        },
        {
         "metadata": "{}",
         "name": "stockCode",
         "type": "\"string\""
        },
        {
         "metadata": "{}",
         "name": "sum(Quantity)",
         "type": "\"long\""
        }
       ],
       "type": "table"
      }
     },
     "output_type": "display_data"
    }
   ],
   "source": [
    "%sql\n",
    "SELECT CustomerId, stockCode, sum(Quantity) FROM dfNoNull\n",
    "GROUP BY customerId, stockCode\n",
    "ORDER BY CustomerId DESC, stockCode DESC\n",
    "LIMIT 5"
   ]
  },
  {
   "cell_type": "code",
   "execution_count": 0,
   "metadata": {
    "application/vnd.databricks.v1+cell": {
     "inputWidgets": {},
     "nuid": "6a8074f7-b0b6-49b3-b76f-f94e2b16c611",
     "showTitle": false,
     "title": ""
    }
   },
   "outputs": [
    {
     "data": {
      "text/html": [
       "<style scoped>\n",
       "  .table-result-container {\n",
       "    max-height: 300px;\n",
       "    overflow: auto;\n",
       "  }\n",
       "  table, th, td {\n",
       "    border: 1px solid black;\n",
       "    border-collapse: collapse;\n",
       "  }\n",
       "  th, td {\n",
       "    padding: 5px;\n",
       "  }\n",
       "  th {\n",
       "    text-align: left;\n",
       "  }\n",
       "</style><div class='table-result-container'><table class='table-result'><thead style='background-color: white'><tr><th>customerId</th><th>stockCode</th><th>sum(Quantity)</th></tr></thead><tbody><tr><td>18287.0</td><td>85173</td><td>48</td></tr><tr><td>18287.0</td><td>85040A</td><td>48</td></tr><tr><td>18287.0</td><td>85039B</td><td>120</td></tr><tr><td>18287.0</td><td>85039A</td><td>96</td></tr><tr><td>18287.0</td><td>84920</td><td>4</td></tr></tbody></table></div>"
      ]
     },
     "metadata": {
      "application/vnd.databricks.v1+output": {
       "addedWidgets": {},
       "aggData": [],
       "aggError": "",
       "aggOverflow": false,
       "aggSchema": [],
       "aggSeriesLimitReached": false,
       "aggType": "",
       "arguments": {},
       "columnCustomDisplayInfos": {},
       "data": [
        [
         18287,
         "85173",
         48
        ],
        [
         18287,
         "85040A",
         48
        ],
        [
         18287,
         "85039B",
         120
        ],
        [
         18287,
         "85039A",
         96
        ],
        [
         18287,
         "84920",
         4
        ]
       ],
       "datasetInfos": [],
       "dbfsResultPath": null,
       "isJsonSchema": true,
       "metadata": {},
       "overflow": false,
       "plotOptions": {
        "customPlotOptions": {},
        "displayType": "table",
        "pivotAggregation": null,
        "pivotColumns": null,
        "xColumns": null,
        "yColumns": null
       },
       "removedWidgets": [],
       "schema": [
        {
         "metadata": "{}",
         "name": "customerId",
         "type": "\"double\""
        },
        {
         "metadata": "{}",
         "name": "stockCode",
         "type": "\"string\""
        },
        {
         "metadata": "{}",
         "name": "sum(Quantity)",
         "type": "\"long\""
        }
       ],
       "type": "table"
      }
     },
     "output_type": "display_data"
    }
   ],
   "source": [
    "%sql\n",
    "SELECT CustomerId, stockCode, sum(Quantity) FROM dfNoNull\n",
    "GROUP BY GROUPING SETS((customerId, stockCode))\n",
    "ORDER BY CustomerId DESC, stockCode DESC\n",
    "LIMIT 5"
   ]
  },
  {
   "cell_type": "markdown",
   "metadata": {
    "application/vnd.databricks.v1+cell": {
     "inputWidgets": {},
     "nuid": "db94e55b-1f5f-4a8e-bb5c-310f144cd326",
     "showTitle": false,
     "title": ""
    }
   },
   "source": [
    "But if we want to include the total number of items, regardless of customer or stockcode ? with conventiopnal group-by statement this impossible. But, its simple with grouping sets."
   ]
  },
  {
   "cell_type": "code",
   "execution_count": 0,
   "metadata": {
    "application/vnd.databricks.v1+cell": {
     "inputWidgets": {},
     "nuid": "21d38517-aa20-44f9-9415-42cb5d2285b7",
     "showTitle": false,
     "title": ""
    }
   },
   "outputs": [
    {
     "data": {
      "text/html": [
       "<style scoped>\n",
       "  .table-result-container {\n",
       "    max-height: 300px;\n",
       "    overflow: auto;\n",
       "  }\n",
       "  table, th, td {\n",
       "    border: 1px solid black;\n",
       "    border-collapse: collapse;\n",
       "  }\n",
       "  th, td {\n",
       "    padding: 5px;\n",
       "  }\n",
       "  th {\n",
       "    text-align: left;\n",
       "  }\n",
       "</style><div class='table-result-container'><table class='table-result'><thead style='background-color: white'><tr><th>customerId</th><th>stockCode</th><th>sum(Quantity)</th></tr></thead><tbody><tr><td>18287.0</td><td>85173</td><td>48</td></tr><tr><td>18287.0</td><td>85040A</td><td>48</td></tr><tr><td>18287.0</td><td>85039B</td><td>120</td></tr><tr><td>18287.0</td><td>85039A</td><td>96</td></tr><tr><td>18287.0</td><td>84920</td><td>4</td></tr></tbody></table></div>"
      ]
     },
     "metadata": {
      "application/vnd.databricks.v1+output": {
       "addedWidgets": {},
       "aggData": [],
       "aggError": "",
       "aggOverflow": false,
       "aggSchema": [],
       "aggSeriesLimitReached": false,
       "aggType": "",
       "arguments": {},
       "columnCustomDisplayInfos": {},
       "data": [
        [
         18287,
         "85173",
         48
        ],
        [
         18287,
         "85040A",
         48
        ],
        [
         18287,
         "85039B",
         120
        ],
        [
         18287,
         "85039A",
         96
        ],
        [
         18287,
         "84920",
         4
        ]
       ],
       "datasetInfos": [],
       "dbfsResultPath": null,
       "isJsonSchema": true,
       "metadata": {},
       "overflow": false,
       "plotOptions": {
        "customPlotOptions": {},
        "displayType": "table",
        "pivotAggregation": null,
        "pivotColumns": null,
        "xColumns": null,
        "yColumns": null
       },
       "removedWidgets": [],
       "schema": [
        {
         "metadata": "{}",
         "name": "customerId",
         "type": "\"double\""
        },
        {
         "metadata": "{}",
         "name": "stockCode",
         "type": "\"string\""
        },
        {
         "metadata": "{}",
         "name": "sum(Quantity)",
         "type": "\"long\""
        }
       ],
       "type": "table"
      }
     },
     "output_type": "display_data"
    }
   ],
   "source": [
    "%sql\n",
    "SELECT CustomerId, stockCode, sum(Quantity) FROM dfNoNull\n",
    "GROUP BY GROUPING SETS((customerId, stockCode),())\n",
    "ORDER BY CustomerId DESC, stockCode DESC\n",
    "LIMIT 5"
   ]
  },
  {
   "cell_type": "markdown",
   "metadata": {
    "application/vnd.databricks.v1+cell": {
     "inputWidgets": {},
     "nuid": "9de527dc-a3e4-4d2e-8174-13f2d9baab0e",
     "showTitle": false,
     "title": ""
    }
   },
   "source": [
    "The **GROUPING SETS** operator is only available in SQL. To perform the same in DataFrames, we use the rollup and cube operators - which will allow us to get the same results."
   ]
  },
  {
   "cell_type": "markdown",
   "metadata": {
    "application/vnd.databricks.v1+cell": {
     "inputWidgets": {},
     "nuid": "1ffef43a-6099-4b5d-a784-ab18606f75a6",
     "showTitle": false,
     "title": ""
    }
   },
   "source": [
    "Grouping sets depend on **null values** for aggregation levels. If you do not filter-out null values, you will get incorrect results. \n",
    "This applies to cubes, rollups, and grouping sets."
   ]
  },
  {
   "cell_type": "code",
   "execution_count": 0,
   "metadata": {
    "application/vnd.databricks.v1+cell": {
     "inputWidgets": {},
     "nuid": "af07afc3-031a-4a8d-83ca-4103619860f9",
     "showTitle": false,
     "title": ""
    }
   },
   "outputs": [
    {
     "data": {
      "text/html": [
       "<style scoped>\n",
       "  .table-result-container {\n",
       "    max-height: 300px;\n",
       "    overflow: auto;\n",
       "  }\n",
       "  table, th, td {\n",
       "    border: 1px solid black;\n",
       "    border-collapse: collapse;\n",
       "  }\n",
       "  th, td {\n",
       "    padding: 5px;\n",
       "  }\n",
       "  th {\n",
       "    text-align: left;\n",
       "  }\n",
       "</style><div class='table-result-container'><table class='table-result'><thead style='background-color: white'><tr><th>customerId</th><th>stockCode</th><th>sum(Quantity)</th></tr></thead><tbody><tr><td>null</td><td>null</td><td>5176450</td></tr></tbody></table></div>"
      ]
     },
     "metadata": {
      "application/vnd.databricks.v1+output": {
       "addedWidgets": {},
       "aggData": [],
       "aggError": "",
       "aggOverflow": false,
       "aggSchema": [],
       "aggSeriesLimitReached": false,
       "aggType": "",
       "arguments": {},
       "columnCustomDisplayInfos": {},
       "data": [
        [
         null,
         null,
         5176450
        ]
       ],
       "datasetInfos": [],
       "dbfsResultPath": null,
       "isJsonSchema": true,
       "metadata": {},
       "overflow": false,
       "plotOptions": {
        "customPlotOptions": {},
        "displayType": "table",
        "pivotAggregation": null,
        "pivotColumns": null,
        "xColumns": null,
        "yColumns": null
       },
       "removedWidgets": [],
       "schema": [
        {
         "metadata": "{}",
         "name": "customerId",
         "type": "\"double\""
        },
        {
         "metadata": "{}",
         "name": "stockCode",
         "type": "\"string\""
        },
        {
         "metadata": "{}",
         "name": "sum(Quantity)",
         "type": "\"long\""
        }
       ],
       "type": "table"
      }
     },
     "output_type": "display_data"
    }
   ],
   "source": [
    "%sql\n",
    "SELECT CustomerId, stockCode, sum(Quantity) FROM dfNoNull\n",
    "GROUP BY customerId, stockCode GROUPING SETS(())\n",
    "ORDER BY CustomerId DESC, stockCode DESC"
   ]
  },
  {
   "cell_type": "markdown",
   "metadata": {
    "application/vnd.databricks.v1+cell": {
     "inputWidgets": {},
     "nuid": "2271efc4-6497-4be4-a184-59755c57463c",
     "showTitle": false,
     "title": ""
    }
   },
   "source": [
    "The GROUPING SETS operator is only available in SQL. To perform the same in DataFrames, we need to  use the **rollup** and **cube** operators—which allow us to get the same results.\n",
    "\n",
    "**ROLLUP:** \n",
    "* is used to do aggregate Opereation on multiple levels in a heirarchy.  \n",
    "* is a multidimensional aggregation that performs a variety of group-by style calculations"
   ]
  },
  {
   "cell_type": "code",
   "execution_count": 0,
   "metadata": {
    "application/vnd.databricks.v1+cell": {
     "inputWidgets": {},
     "nuid": "f0e7645c-f583-4bfb-958f-cc8fca2415d8",
     "showTitle": false,
     "title": ""
    }
   },
   "outputs": [
    {
     "data": {
      "text/html": [
       "<style scoped>\n",
       "  .ansiout {\n",
       "    display: block;\n",
       "    unicode-bidi: embed;\n",
       "    white-space: pre-wrap;\n",
       "    word-wrap: break-word;\n",
       "    word-break: break-all;\n",
       "    font-family: \"Source Code Pro\", \"Menlo\", monospace;;\n",
       "    font-size: 13px;\n",
       "    color: #555;\n",
       "    margin-left: 4px;\n",
       "    line-height: 19px;\n",
       "  }\n",
       "</style>\n",
       "<div class=\"ansiout\">Out[38]: 2022</div>"
      ]
     },
     "metadata": {
      "application/vnd.databricks.v1+output": {
       "addedWidgets": {},
       "arguments": {},
       "data": "<div class=\"ansiout\">Out[38]: 2022</div>",
       "datasetInfos": [
        {
         "name": "rolledUpDF",
         "schema": {
          "fields": [
           {
            "metadata": {},
            "name": "Date",
            "nullable": true,
            "type": "date"
           },
           {
            "metadata": {},
            "name": "Country",
            "nullable": true,
            "type": "string"
           },
           {
            "metadata": {},
            "name": "total_quantity",
            "nullable": true,
            "type": "long"
           }
          ],
          "type": "struct"
         },
         "tableIdentifier": null,
         "typeStr": "pyspark.sql.dataframe.DataFrame"
        }
       ],
       "metadata": {},
       "removedWidgets": [],
       "type": "html"
      }
     },
     "output_type": "display_data"
    }
   ],
   "source": [
    "rolledUpDF = dfNoNull.rollup(\"Date\",\"Country\")\\\n",
    "                     .agg(sum(\"Quantity\"))\\\n",
    "                     .selectExpr(\"Date\",\"Country\", \"`sum(Quantity)` as total_quantity\")\\\n",
    "                     .orderBy(\"Date\")\n",
    "rolledUpDF.count()"
   ]
  },
  {
   "cell_type": "code",
   "execution_count": 0,
   "metadata": {
    "application/vnd.databricks.v1+cell": {
     "inputWidgets": {},
     "nuid": "92058b9e-1bf9-4ad1-820a-11e3f404a5d5",
     "showTitle": false,
     "title": ""
    }
   },
   "outputs": [
    {
     "data": {
      "text/html": [
       "<style scoped>\n",
       "  .ansiout {\n",
       "    display: block;\n",
       "    unicode-bidi: embed;\n",
       "    white-space: pre-wrap;\n",
       "    word-wrap: break-word;\n",
       "    word-break: break-all;\n",
       "    font-family: \"Source Code Pro\", \"Menlo\", monospace;;\n",
       "    font-size: 13px;\n",
       "    color: #555;\n",
       "    margin-left: 4px;\n",
       "    line-height: 19px;\n",
       "  }\n",
       "</style>\n",
       "<div class=\"ansiout\">+----------+--------------+--------------+\n",
       "      Date|       Country|total_quantity|\n",
       "+----------+--------------+--------------+\n",
       "      null|          null|       5176450|\n",
       "2010-12-01|          EIRE|           243|\n",
       "2010-12-01|        France|           449|\n",
       "2010-12-01|United Kingdom|         23949|\n",
       "2010-12-01|     Australia|           107|\n",
       "2010-12-01|        Norway|          1852|\n",
       "2010-12-01|          null|         26814|\n",
       "2010-12-01|       Germany|           117|\n",
       "2010-12-01|   Netherlands|            97|\n",
       "2010-12-02|          null|         21023|\n",
       "+----------+--------------+--------------+\n",
       "only showing top 10 rows\n",
       "\n",
       "</div>"
      ]
     },
     "metadata": {
      "application/vnd.databricks.v1+output": {
       "addedWidgets": {},
       "arguments": {},
       "data": "<div class=\"ansiout\">+----------+--------------+--------------+\n|      Date|       Country|total_quantity|\n+----------+--------------+--------------+\n|      null|          null|       5176450|\n|2010-12-01|          EIRE|           243|\n|2010-12-01|        France|           449|\n|2010-12-01|United Kingdom|         23949|\n|2010-12-01|     Australia|           107|\n|2010-12-01|        Norway|          1852|\n|2010-12-01|          null|         26814|\n|2010-12-01|       Germany|           117|\n|2010-12-01|   Netherlands|            97|\n|2010-12-02|          null|         21023|\n+----------+--------------+--------------+\nonly showing top 10 rows\n\n</div>",
       "datasetInfos": [],
       "metadata": {},
       "removedWidgets": [],
       "type": "html"
      }
     },
     "output_type": "display_data"
    }
   ],
   "source": [
    "rolledUpDF.show(10)"
   ]
  },
  {
   "cell_type": "code",
   "execution_count": 0,
   "metadata": {
    "application/vnd.databricks.v1+cell": {
     "inputWidgets": {},
     "nuid": "17df7ce0-3116-460e-8d53-e902fb042bb4",
     "showTitle": false,
     "title": ""
    }
   },
   "outputs": [
    {
     "data": {
      "text/html": [
       "<style scoped>\n",
       "  .ansiout {\n",
       "    display: block;\n",
       "    unicode-bidi: embed;\n",
       "    white-space: pre-wrap;\n",
       "    word-wrap: break-word;\n",
       "    word-break: break-all;\n",
       "    font-family: \"Source Code Pro\", \"Menlo\", monospace;;\n",
       "    font-size: 13px;\n",
       "    color: #555;\n",
       "    margin-left: 4px;\n",
       "    line-height: 19px;\n",
       "  }\n",
       "</style>\n",
       "<div class=\"ansiout\">+----+-------+--------------+\n",
       "Date|Country|total_quantity|\n",
       "+----+-------+--------------+\n",
       "null|   null|       5176450|\n",
       "+----+-------+--------------+\n",
       "\n",
       "</div>"
      ]
     },
     "metadata": {
      "application/vnd.databricks.v1+output": {
       "addedWidgets": {},
       "arguments": {},
       "data": "<div class=\"ansiout\">+----+-------+--------------+\n|Date|Country|total_quantity|\n+----+-------+--------------+\n|null|   null|       5176450|\n+----+-------+--------------+\n\n</div>",
       "datasetInfos": [],
       "metadata": {},
       "removedWidgets": [],
       "type": "html"
      }
     },
     "output_type": "display_data"
    }
   ],
   "source": [
    "rolledUpDF.where(\"Country IS NULL\" and \"Date IS NULL\").show()\n",
    "#rolledUpDF.where().show()"
   ]
  },
  {
   "cell_type": "markdown",
   "metadata": {
    "application/vnd.databricks.v1+cell": {
     "inputWidgets": {},
     "nuid": "f24c9827-7816-4490-bbb7-5c3dd3875f37",
     "showTitle": false,
     "title": ""
    }
   },
   "source": [
    "**CUBE:**\n",
    "* Produces the result set by generating all combinations of columns specified in GroupBy CUBE()\n",
    "* Rather than treating elements hierarchically, a cube does the same thing across all dimensions. This means that it won’t just go by date over the entire time period, but also the country.\n",
    "* To createa a table that has below combinations\n",
    "  * The total across all dates and countries\n",
    "  * The total for each date across all countries\n",
    "  * The total for each country on each date\n",
    "  * The total for each country across all dates"
   ]
  },
  {
   "cell_type": "code",
   "execution_count": 0,
   "metadata": {
    "application/vnd.databricks.v1+cell": {
     "inputWidgets": {},
     "nuid": "8fd3618d-5f8a-4712-a059-ec4726225029",
     "showTitle": false,
     "title": ""
    }
   },
   "outputs": [
    {
     "data": {
      "text/html": [
       "<style scoped>\n",
       "  .ansiout {\n",
       "    display: block;\n",
       "    unicode-bidi: embed;\n",
       "    white-space: pre-wrap;\n",
       "    word-wrap: break-word;\n",
       "    word-break: break-all;\n",
       "    font-family: \"Source Code Pro\", \"Menlo\", monospace;;\n",
       "    font-size: 13px;\n",
       "    color: #555;\n",
       "    margin-left: 4px;\n",
       "    line-height: 19px;\n",
       "  }\n",
       "</style>\n",
       "<div class=\"ansiout\">Out[44]: 2060</div>"
      ]
     },
     "metadata": {
      "application/vnd.databricks.v1+output": {
       "addedWidgets": {},
       "arguments": {},
       "data": "<div class=\"ansiout\">Out[44]: 2060</div>",
       "datasetInfos": [
        {
         "name": "cubeDF",
         "schema": {
          "fields": [
           {
            "metadata": {},
            "name": "Date",
            "nullable": true,
            "type": "date"
           },
           {
            "metadata": {},
            "name": "Country",
            "nullable": true,
            "type": "string"
           },
           {
            "metadata": {},
            "name": "sum(Quantity)",
            "nullable": true,
            "type": "long"
           }
          ],
          "type": "struct"
         },
         "tableIdentifier": null,
         "typeStr": "pyspark.sql.dataframe.DataFrame"
        }
       ],
       "metadata": {},
       "removedWidgets": [],
       "type": "html"
      }
     },
     "output_type": "display_data"
    }
   ],
   "source": [
    "cubeDF = dfNoNull.cube(\"Date\",\"Country\")\\\n",
    "        .agg(sum(\"Quantity\"))\\\n",
    "        .select(\"Date\",\"Country\",\"sum(Quantity)\")\\\n",
    "        .orderBy(\"Date\")\n",
    "cubeDF.count()"
   ]
  },
  {
   "cell_type": "markdown",
   "metadata": {
    "application/vnd.databricks.v1+cell": {
     "inputWidgets": {},
     "nuid": "d00c2467-335f-414e-b98d-e6e9f87ed00d",
     "showTitle": false,
     "title": ""
    }
   },
   "source": [
    "** Difference Between CUBE and ROLLUP**\n",
    "* CUBE generates a result that shows aggregation for all combinations of values in the selected columns.\n",
    "* ROLLUP generates a result that shows aggregation for hierarchy of values in the selected columns.\n",
    "\n",
    "ROLLUP(\"Date\",\"Country\") gives combinations of\n",
    "  * \"Date\",\"Country\"\n",
    "  * \"Date\"\n",
    "  * ()\n",
    "It gave a count of 2022\n",
    "\n",
    "cube(\"Date\",\"Country\") gives combination of\n",
    "  * \"Date\",\"Country\"\n",
    "  * \"Date\"\n",
    "  * \"Country\"\n",
    "  * ()\n",
    "It gave a count of 2060"
   ]
  },
  {
   "cell_type": "markdown",
   "metadata": {
    "application/vnd.databricks.v1+cell": {
     "inputWidgets": {},
     "nuid": "e1d09aba-db42-4984-b75b-811e543bbc43",
     "showTitle": false,
     "title": ""
    }
   },
   "source": [
    "**GROUPING METADATA:**\n",
    "Sometimes when using cubes and rollups, you want to be able to query the aggregation levels so that you can easily filter them down accordingly.\n",
    "We can do this by using the grouping_id, which gives us a column specifying the level of aggregation that we have in our result set."
   ]
  },
  {
   "cell_type": "code",
   "execution_count": 0,
   "metadata": {
    "application/vnd.databricks.v1+cell": {
     "inputWidgets": {},
     "nuid": "daddb4f0-9a3a-4193-bfc0-cb8947f3319c",
     "showTitle": false,
     "title": ""
    }
   },
   "outputs": [
    {
     "data": {
      "text/html": [
       "<style scoped>\n",
       "  .ansiout {\n",
       "    display: block;\n",
       "    unicode-bidi: embed;\n",
       "    white-space: pre-wrap;\n",
       "    word-wrap: break-word;\n",
       "    word-break: break-all;\n",
       "    font-family: \"Source Code Pro\", \"Menlo\", monospace;;\n",
       "    font-size: 13px;\n",
       "    color: #555;\n",
       "    margin-left: 4px;\n",
       "    line-height: 19px;\n",
       "  }\n",
       "</style>\n",
       "<div class=\"ansiout\">+----------+---------+-------------+-------------+\n",
       "customerId|stockCode|grouping_id()|sum(Quantity)|\n",
       "+----------+---------+-------------+-------------+\n",
       "      null|     null|            3|      5176450|\n",
       "      null|    21754|            2|         2760|\n",
       "      null|    21164|            2|         1762|\n",
       "      null|    21531|            2|         1507|\n",
       "      null|   72800B|            2|          144|\n",
       "      null|    21507|            2|         3308|\n",
       "      null|    22277|            2|          417|\n",
       "      null|    84950|            2|         3621|\n",
       "      null|    22763|            2|          202|\n",
       "      null|    23614|            2|           26|\n",
       "      null|    20685|            2|         4027|\n",
       "      null|   90013B|            2|           36|\n",
       "      null|    20704|            2|          212|\n",
       "      null|    21331|            2|           12|\n",
       "      null|    21291|            2|          943|\n",
       "      null|   85135B|            2|           55|\n",
       "      null|   90197B|            2|           35|\n",
       "      null|    72131|            2|          137|\n",
       "      null|   90178A|            2|            8|\n",
       "      null|   85018D|            2|           12|\n",
       "+----------+---------+-------------+-------------+\n",
       "only showing top 20 rows\n",
       "\n",
       "</div>"
      ]
     },
     "metadata": {
      "application/vnd.databricks.v1+output": {
       "addedWidgets": {},
       "arguments": {},
       "data": "<div class=\"ansiout\">+----------+---------+-------------+-------------+\n|customerId|stockCode|grouping_id()|sum(Quantity)|\n+----------+---------+-------------+-------------+\n|      null|     null|            3|      5176450|\n|      null|    21754|            2|         2760|\n|      null|    21164|            2|         1762|\n|      null|    21531|            2|         1507|\n|      null|   72800B|            2|          144|\n|      null|    21507|            2|         3308|\n|      null|    22277|            2|          417|\n|      null|    84950|            2|         3621|\n|      null|    22763|            2|          202|\n|      null|    23614|            2|           26|\n|      null|    20685|            2|         4027|\n|      null|   90013B|            2|           36|\n|      null|    20704|            2|          212|\n|      null|    21331|            2|           12|\n|      null|    21291|            2|          943|\n|      null|   85135B|            2|           55|\n|      null|   90197B|            2|           35|\n|      null|    72131|            2|          137|\n|      null|   90178A|            2|            8|\n|      null|   85018D|            2|           12|\n+----------+---------+-------------+-------------+\nonly showing top 20 rows\n\n</div>",
       "datasetInfos": [],
       "metadata": {},
       "removedWidgets": [],
       "type": "html"
      }
     },
     "output_type": "display_data"
    }
   ],
   "source": [
    "from pyspark.sql.functions import grouping_id,desc\n",
    "\n",
    "dfNoNull.cube(\"customerId\", \"stockCode\")\\\n",
    "        .agg(grouping_id(), sum(\"Quantity\"))\\\n",
    "        .orderBy(desc(\"grouping_id()\"))\\\n",
    "        .show()"
   ]
  },
  {
   "cell_type": "markdown",
   "metadata": {
    "application/vnd.databricks.v1+cell": {
     "inputWidgets": {},
     "nuid": "6e27e9ec-47f2-42fc-8975-d2da17701a8a",
     "showTitle": false,
     "title": ""
    }
   },
   "source": [
    "**PIVOT:**\n",
    "* Used to turn unique values from one column, into multiple columns in the output.\n",
    "* With a pivot, we can aggregate according to some function for each of those given countries and display them in an easy-to-query way."
   ]
  },
  {
   "cell_type": "code",
   "execution_count": 0,
   "metadata": {
    "application/vnd.databricks.v1+cell": {
     "inputWidgets": {},
     "nuid": "d9e84612-7e19-4b95-af13-49c6d12ca4da",
     "showTitle": false,
     "title": ""
    }
   },
   "outputs": [
    {
     "data": {
      "text/html": [
       "<style scoped>\n",
       "  .ansiout {\n",
       "    display: block;\n",
       "    unicode-bidi: embed;\n",
       "    white-space: pre-wrap;\n",
       "    word-wrap: break-word;\n",
       "    word-break: break-all;\n",
       "    font-family: \"Source Code Pro\", \"Menlo\", monospace;;\n",
       "    font-size: 13px;\n",
       "    color: #555;\n",
       "    margin-left: 4px;\n",
       "    line-height: 19px;\n",
       "  }\n",
       "</style>\n",
       "<div class=\"ansiout\">+----------+---------------------------------------+------------------------+-------------------------+-------------------------------------+----------------------+-----------------------+-------------------------------------+----------------------+-----------------------+-------------------------------------+----------------------+-----------------------+------------------------------------+---------------------+----------------------+------------------------------------+---------------------+----------------------+---------------------------------------------+------------------------------+-------------------------------+------------------------------------+---------------------+----------------------+--------------------------------------------+-----------------------------+------------------------------+-------------------------------------+----------------------+-----------------------+----------------------------------+-------------------+--------------------+------------------------------------------------+---------------------------------+----------------------------------+-------------------------------------+----------------------+-----------------------+------------------------------------+---------------------+----------------------+-------------------------------------+----------------------+-----------------------+------------------------------------+---------------------+----------------------+---------------------------------------+------------------------+-------------------------+-------------------------------------+----------------------+-----------------------+------------------------------------+---------------------+----------------------+-----------------------------------+--------------------+---------------------+-----------------------------------+--------------------+---------------------+-------------------------------------+----------------------+-----------------------+---------------------------------------+------------------------+-------------------------+-----------------------------------+--------------------+---------------------+-----------------------------------------+--------------------------+---------------------------+------------------------------------+---------------------+----------------------+------------------------------------+---------------------+----------------------+--------------------------------------+-----------------------+------------------------+---------------------------------+------------------+-------------------+------------------------------------------+---------------------------+----------------------------+---------------------------------------+------------------------+-------------------------+-----------------------------------+--------------------+---------------------+------------------------------------+---------------------+----------------------+-----------------------------------------+--------------------------+---------------------------+---------------------------------+------------------+-------------------+--------------------------------------------------+-----------------------------------+------------------------------------+--------------------------------------------+-----------------------------+------------------------------+-----------------------------------------+--------------------------+---------------------------+\n",
       "      date|Australia_sum(CAST(Quantity AS BIGINT))|Australia_sum(UnitPrice)|Australia_sum(CustomerID)|Austria_sum(CAST(Quantity AS BIGINT))|Austria_sum(UnitPrice)|Austria_sum(CustomerID)|Bahrain_sum(CAST(Quantity AS BIGINT))|Bahrain_sum(UnitPrice)|Bahrain_sum(CustomerID)|Belgium_sum(CAST(Quantity AS BIGINT))|Belgium_sum(UnitPrice)|Belgium_sum(CustomerID)|Brazil_sum(CAST(Quantity AS BIGINT))|Brazil_sum(UnitPrice)|Brazil_sum(CustomerID)|Canada_sum(CAST(Quantity AS BIGINT))|Canada_sum(UnitPrice)|Canada_sum(CustomerID)|Channel Islands_sum(CAST(Quantity AS BIGINT))|Channel Islands_sum(UnitPrice)|Channel Islands_sum(CustomerID)|Cyprus_sum(CAST(Quantity AS BIGINT))|Cyprus_sum(UnitPrice)|Cyprus_sum(CustomerID)|Czech Republic_sum(CAST(Quantity AS BIGINT))|Czech Republic_sum(UnitPrice)|Czech Republic_sum(CustomerID)|Denmark_sum(CAST(Quantity AS BIGINT))|Denmark_sum(UnitPrice)|Denmark_sum(CustomerID)|EIRE_sum(CAST(Quantity AS BIGINT))|EIRE_sum(UnitPrice)|EIRE_sum(CustomerID)|European Community_sum(CAST(Quantity AS BIGINT))|European Community_sum(UnitPrice)|European Community_sum(CustomerID)|Finland_sum(CAST(Quantity AS BIGINT))|Finland_sum(UnitPrice)|Finland_sum(CustomerID)|France_sum(CAST(Quantity AS BIGINT))|France_sum(UnitPrice)|France_sum(CustomerID)|Germany_sum(CAST(Quantity AS BIGINT))|Germany_sum(UnitPrice)|Germany_sum(CustomerID)|Greece_sum(CAST(Quantity AS BIGINT))|Greece_sum(UnitPrice)|Greece_sum(CustomerID)|Hong Kong_sum(CAST(Quantity AS BIGINT))|Hong Kong_sum(UnitPrice)|Hong Kong_sum(CustomerID)|Iceland_sum(CAST(Quantity AS BIGINT))|Iceland_sum(UnitPrice)|Iceland_sum(CustomerID)|Israel_sum(CAST(Quantity AS BIGINT))|Israel_sum(UnitPrice)|Israel_sum(CustomerID)|Italy_sum(CAST(Quantity AS BIGINT))|Italy_sum(UnitPrice)|Italy_sum(CustomerID)|Japan_sum(CAST(Quantity AS BIGINT))|Japan_sum(UnitPrice)|Japan_sum(CustomerID)|Lebanon_sum(CAST(Quantity AS BIGINT))|Lebanon_sum(UnitPrice)|Lebanon_sum(CustomerID)|Lithuania_sum(CAST(Quantity AS BIGINT))|Lithuania_sum(UnitPrice)|Lithuania_sum(CustomerID)|Malta_sum(CAST(Quantity AS BIGINT))|Malta_sum(UnitPrice)|Malta_sum(CustomerID)|Netherlands_sum(CAST(Quantity AS BIGINT))|Netherlands_sum(UnitPrice)|Netherlands_sum(CustomerID)|Norway_sum(CAST(Quantity AS BIGINT))|Norway_sum(UnitPrice)|Norway_sum(CustomerID)|Poland_sum(CAST(Quantity AS BIGINT))|Poland_sum(UnitPrice)|Poland_sum(CustomerID)|Portugal_sum(CAST(Quantity AS BIGINT))|Portugal_sum(UnitPrice)|Portugal_sum(CustomerID)|RSA_sum(CAST(Quantity AS BIGINT))|RSA_sum(UnitPrice)|RSA_sum(CustomerID)|Saudi Arabia_sum(CAST(Quantity AS BIGINT))|Saudi Arabia_sum(UnitPrice)|Saudi Arabia_sum(CustomerID)|Singapore_sum(CAST(Quantity AS BIGINT))|Singapore_sum(UnitPrice)|Singapore_sum(CustomerID)|Spain_sum(CAST(Quantity AS BIGINT))|Spain_sum(UnitPrice)|Spain_sum(CustomerID)|Sweden_sum(CAST(Quantity AS BIGINT))|Sweden_sum(UnitPrice)|Sweden_sum(CustomerID)|Switzerland_sum(CAST(Quantity AS BIGINT))|Switzerland_sum(UnitPrice)|Switzerland_sum(CustomerID)|USA_sum(CAST(Quantity AS BIGINT))|USA_sum(UnitPrice)|USA_sum(CustomerID)|United Arab Emirates_sum(CAST(Quantity AS BIGINT))|United Arab Emirates_sum(UnitPrice)|United Arab Emirates_sum(CustomerID)|United Kingdom_sum(CAST(Quantity AS BIGINT))|United Kingdom_sum(UnitPrice)|United Kingdom_sum(CustomerID)|Unspecified_sum(CAST(Quantity AS BIGINT))|Unspecified_sum(UnitPrice)|Unspecified_sum(CustomerID)|\n",
       "+----------+---------------------------------------+------------------------+-------------------------+-------------------------------------+----------------------+-----------------------+-------------------------------------+----------------------+-----------------------+-------------------------------------+----------------------+-----------------------+------------------------------------+---------------------+----------------------+------------------------------------+---------------------+----------------------+---------------------------------------------+------------------------------+-------------------------------+------------------------------------+---------------------+----------------------+--------------------------------------------+-----------------------------+------------------------------+-------------------------------------+----------------------+-----------------------+----------------------------------+-------------------+--------------------+------------------------------------------------+---------------------------------+----------------------------------+-------------------------------------+----------------------+-----------------------+------------------------------------+---------------------+----------------------+-------------------------------------+----------------------+-----------------------+------------------------------------+---------------------+----------------------+---------------------------------------+------------------------+-------------------------+-------------------------------------+----------------------+-----------------------+------------------------------------+---------------------+----------------------+-----------------------------------+--------------------+---------------------+-----------------------------------+--------------------+---------------------+-------------------------------------+----------------------+-----------------------+---------------------------------------+------------------------+-------------------------+-----------------------------------+--------------------+---------------------+-----------------------------------------+--------------------------+---------------------------+------------------------------------+---------------------+----------------------+------------------------------------+---------------------+----------------------+--------------------------------------+-----------------------+------------------------+---------------------------------+------------------+-------------------+------------------------------------------+---------------------------+----------------------------+---------------------------------------+------------------------+-------------------------+-----------------------------------+--------------------+---------------------+------------------------------------+---------------------+----------------------+-----------------------------------------+--------------------------+---------------------------+---------------------------------+------------------+-------------------+--------------------------------------------------+-----------------------------------+------------------------------------+--------------------------------------------+-----------------------------+------------------------------+-----------------------------------------+--------------------------+---------------------------+\n",
       "2011-10-07|                                   null|                    null|                     null|                                 null|                  null|                   null|                                 null|                  null|                   null|                                 null|                  null|                   null|                                null|                 null|                  null|                                null|                 null|                  null|                                         null|                          null|                           null|                                 345|   136.51000000000002|              360180.0|                                         325|                        49.38|                      127810.0|                                  637|                 27.69|                74364.0|                               448| 225.09999999999997|            760461.0|                                            null|                             null|                              null|                                 null|                  null|                   null|                                 527|    88.43999999999998|              483504.0|                                 2053|    327.79999999999995|              1150698.0|                                null|                 null|                  null|                                   null|                    null|                     null|                                 null|                  null|                   null|                                null|                 null|                  null|                               null|                null|                 null|                               null|                null|                 null|                                 null|                  null|                   null|                                   null|                    null|                     null|                               null|                null|                 null|                                      212|                     25.35|                   140558.0|                                null|                 null|                  null|                                null|                 null|                  null|                                  null|                   null|                    null|                             null|              null|               null|                                      null|                       null|                        null|                                   null|                    null|                     null|                                227|  123.08000000000001|             275880.0|                                null|                 null|                  null|                                     null|                      null|                       null|                             null|              null|               null|                                              null|                               null|                                null|                                       25657|           12425.409999999976|                   2.7566889E7|                                     null|                      null|                       null|\n",
       "2011-05-06|                                   null|                    null|                     null|                                   42|                 58.95|                74484.0|                                 null|                  null|                   null|                                  182|                 63.32|               260274.0|                                null|                 null|                  null|                                null|                 null|                  null|                                         null|                          null|                           null|                                null|                 null|                  null|                                        null|                         null|                          null|                                 null|                  null|                   null|                              1694|              75.37|            283120.0|                                            null|                             null|                              null|                                 null|                  null|                   null|                                null|                 null|                  null|                                  222|    12.639999999999999|               126857.0|                                null|                 null|                  null|                                   null|                    null|                     null|                                 null|                  null|                   null|                                null|                 null|                  null|                               null|                null|                 null|                               null|                null|                 null|                                 null|                  null|                   null|                                   null|                    null|                     null|                               null|                null|                 null|                                     null|                      null|                       null|                                null|                 null|                  null|                                null|                 null|                  null|                                  null|                   null|                    null|                             null|              null|               null|                                      null|                       null|                        null|                                   null|                    null|                     null|                                 88|               113.1|             187530.0|                                null|                 null|                  null|                                     null|                      null|                       null|                             null|              null|               null|                                              null|                               null|                                null|                                       17404|            6952.629999999985|                   1.8722445E7|                                     null|                      null|                       null|\n",
       "2011-01-30|                                   null|                    null|                     null|                                 null|                  null|                   null|                                 null|                  null|                   null|                                 null|                  null|                   null|                                null|                 null|                  null|                                null|                 null|                  null|                                         null|                          null|                           null|                                null|                 null|                  null|                                        null|                         null|                          null|                                 null|                  null|                   null|                              null|               null|                null|                                            null|                             null|                              null|                                 null|                  null|                   null|                                null|                 null|                  null|                                 null|                  null|                   null|                                null|                 null|                  null|                                   null|                    null|                     null|                                 null|                  null|                   null|                                null|                 null|                  null|                               null|                null|                 null|                               null|                null|                 null|                                 null|                  null|                   null|                                   null|                    null|                     null|                               null|                null|                 null|                                     null|                      null|                       null|                                null|                 null|                  null|                                null|                 null|                  null|                                  null|                   null|                    null|                             null|              null|               null|                                      null|                       null|                        null|                                   null|                    null|                     null|                               null|                null|                 null|                                null|                 null|                  null|                                     null|                      null|                       null|                             null|              null|               null|                                              null|                               null|                                null|                                        3367|            2321.720000000002|                   1.1334037E7|                                     null|                      null|                       null|\n",
       "+----------+---------------------------------------+------------------------+-------------------------+-------------------------------------+----------------------+-----------------------+-------------------------------------+----------------------+-----------------------+-------------------------------------+----------------------+-----------------------+------------------------------------+---------------------+----------------------+------------------------------------+---------------------+----------------------+---------------------------------------------+------------------------------+-------------------------------+------------------------------------+---------------------+----------------------+--------------------------------------------+-----------------------------+------------------------------+-------------------------------------+----------------------+-----------------------+----------------------------------+-------------------+--------------------+------------------------------------------------+---------------------------------+----------------------------------+-------------------------------------+----------------------+-----------------------+------------------------------------+---------------------+----------------------+-------------------------------------+----------------------+-----------------------+------------------------------------+---------------------+----------------------+---------------------------------------+------------------------+-------------------------+-------------------------------------+----------------------+-----------------------+------------------------------------+---------------------+----------------------+-----------------------------------+--------------------+---------------------+-----------------------------------+--------------------+---------------------+-------------------------------------+----------------------+-----------------------+---------------------------------------+------------------------+-------------------------+-----------------------------------+--------------------+---------------------+-----------------------------------------+--------------------------+---------------------------+------------------------------------+---------------------+----------------------+------------------------------------+---------------------+----------------------+--------------------------------------+-----------------------+------------------------+---------------------------------+------------------+-------------------+------------------------------------------+---------------------------+----------------------------+---------------------------------------+------------------------+-------------------------+-----------------------------------+--------------------+---------------------+------------------------------------+---------------------+----------------------+-----------------------------------------+--------------------------+---------------------------+---------------------------------+------------------+-------------------+--------------------------------------------------+-----------------------------------+------------------------------------+--------------------------------------------+-----------------------------+------------------------------+-----------------------------------------+--------------------------+---------------------------+\n",
       "only showing top 3 rows\n",
       "\n",
       "</div>"
      ]
     },
     "metadata": {
      "application/vnd.databricks.v1+output": {
       "addedWidgets": {},
       "arguments": {},
       "data": "<div class=\"ansiout\">+----------+---------------------------------------+------------------------+-------------------------+-------------------------------------+----------------------+-----------------------+-------------------------------------+----------------------+-----------------------+-------------------------------------+----------------------+-----------------------+------------------------------------+---------------------+----------------------+------------------------------------+---------------------+----------------------+---------------------------------------------+------------------------------+-------------------------------+------------------------------------+---------------------+----------------------+--------------------------------------------+-----------------------------+------------------------------+-------------------------------------+----------------------+-----------------------+----------------------------------+-------------------+--------------------+------------------------------------------------+---------------------------------+----------------------------------+-------------------------------------+----------------------+-----------------------+------------------------------------+---------------------+----------------------+-------------------------------------+----------------------+-----------------------+------------------------------------+---------------------+----------------------+---------------------------------------+------------------------+-------------------------+-------------------------------------+----------------------+-----------------------+------------------------------------+---------------------+----------------------+-----------------------------------+--------------------+---------------------+-----------------------------------+--------------------+---------------------+-------------------------------------+----------------------+-----------------------+---------------------------------------+------------------------+-------------------------+-----------------------------------+--------------------+---------------------+-----------------------------------------+--------------------------+---------------------------+------------------------------------+---------------------+----------------------+------------------------------------+---------------------+----------------------+--------------------------------------+-----------------------+------------------------+---------------------------------+------------------+-------------------+------------------------------------------+---------------------------+----------------------------+---------------------------------------+------------------------+-------------------------+-----------------------------------+--------------------+---------------------+------------------------------------+---------------------+----------------------+-----------------------------------------+--------------------------+---------------------------+---------------------------------+------------------+-------------------+--------------------------------------------------+-----------------------------------+------------------------------------+--------------------------------------------+-----------------------------+------------------------------+-----------------------------------------+--------------------------+---------------------------+\n|      date|Australia_sum(CAST(Quantity AS BIGINT))|Australia_sum(UnitPrice)|Australia_sum(CustomerID)|Austria_sum(CAST(Quantity AS BIGINT))|Austria_sum(UnitPrice)|Austria_sum(CustomerID)|Bahrain_sum(CAST(Quantity AS BIGINT))|Bahrain_sum(UnitPrice)|Bahrain_sum(CustomerID)|Belgium_sum(CAST(Quantity AS BIGINT))|Belgium_sum(UnitPrice)|Belgium_sum(CustomerID)|Brazil_sum(CAST(Quantity AS BIGINT))|Brazil_sum(UnitPrice)|Brazil_sum(CustomerID)|Canada_sum(CAST(Quantity AS BIGINT))|Canada_sum(UnitPrice)|Canada_sum(CustomerID)|Channel Islands_sum(CAST(Quantity AS BIGINT))|Channel Islands_sum(UnitPrice)|Channel Islands_sum(CustomerID)|Cyprus_sum(CAST(Quantity AS BIGINT))|Cyprus_sum(UnitPrice)|Cyprus_sum(CustomerID)|Czech Republic_sum(CAST(Quantity AS BIGINT))|Czech Republic_sum(UnitPrice)|Czech Republic_sum(CustomerID)|Denmark_sum(CAST(Quantity AS BIGINT))|Denmark_sum(UnitPrice)|Denmark_sum(CustomerID)|EIRE_sum(CAST(Quantity AS BIGINT))|EIRE_sum(UnitPrice)|EIRE_sum(CustomerID)|European Community_sum(CAST(Quantity AS BIGINT))|European Community_sum(UnitPrice)|European Community_sum(CustomerID)|Finland_sum(CAST(Quantity AS BIGINT))|Finland_sum(UnitPrice)|Finland_sum(CustomerID)|France_sum(CAST(Quantity AS BIGINT))|France_sum(UnitPrice)|France_sum(CustomerID)|Germany_sum(CAST(Quantity AS BIGINT))|Germany_sum(UnitPrice)|Germany_sum(CustomerID)|Greece_sum(CAST(Quantity AS BIGINT))|Greece_sum(UnitPrice)|Greece_sum(CustomerID)|Hong Kong_sum(CAST(Quantity AS BIGINT))|Hong Kong_sum(UnitPrice)|Hong Kong_sum(CustomerID)|Iceland_sum(CAST(Quantity AS BIGINT))|Iceland_sum(UnitPrice)|Iceland_sum(CustomerID)|Israel_sum(CAST(Quantity AS BIGINT))|Israel_sum(UnitPrice)|Israel_sum(CustomerID)|Italy_sum(CAST(Quantity AS BIGINT))|Italy_sum(UnitPrice)|Italy_sum(CustomerID)|Japan_sum(CAST(Quantity AS BIGINT))|Japan_sum(UnitPrice)|Japan_sum(CustomerID)|Lebanon_sum(CAST(Quantity AS BIGINT))|Lebanon_sum(UnitPrice)|Lebanon_sum(CustomerID)|Lithuania_sum(CAST(Quantity AS BIGINT))|Lithuania_sum(UnitPrice)|Lithuania_sum(CustomerID)|Malta_sum(CAST(Quantity AS BIGINT))|Malta_sum(UnitPrice)|Malta_sum(CustomerID)|Netherlands_sum(CAST(Quantity AS BIGINT))|Netherlands_sum(UnitPrice)|Netherlands_sum(CustomerID)|Norway_sum(CAST(Quantity AS BIGINT))|Norway_sum(UnitPrice)|Norway_sum(CustomerID)|Poland_sum(CAST(Quantity AS BIGINT))|Poland_sum(UnitPrice)|Poland_sum(CustomerID)|Portugal_sum(CAST(Quantity AS BIGINT))|Portugal_sum(UnitPrice)|Portugal_sum(CustomerID)|RSA_sum(CAST(Quantity AS BIGINT))|RSA_sum(UnitPrice)|RSA_sum(CustomerID)|Saudi Arabia_sum(CAST(Quantity AS BIGINT))|Saudi Arabia_sum(UnitPrice)|Saudi Arabia_sum(CustomerID)|Singapore_sum(CAST(Quantity AS BIGINT))|Singapore_sum(UnitPrice)|Singapore_sum(CustomerID)|Spain_sum(CAST(Quantity AS BIGINT))|Spain_sum(UnitPrice)|Spain_sum(CustomerID)|Sweden_sum(CAST(Quantity AS BIGINT))|Sweden_sum(UnitPrice)|Sweden_sum(CustomerID)|Switzerland_sum(CAST(Quantity AS BIGINT))|Switzerland_sum(UnitPrice)|Switzerland_sum(CustomerID)|USA_sum(CAST(Quantity AS BIGINT))|USA_sum(UnitPrice)|USA_sum(CustomerID)|United Arab Emirates_sum(CAST(Quantity AS BIGINT))|United Arab Emirates_sum(UnitPrice)|United Arab Emirates_sum(CustomerID)|United Kingdom_sum(CAST(Quantity AS BIGINT))|United Kingdom_sum(UnitPrice)|United Kingdom_sum(CustomerID)|Unspecified_sum(CAST(Quantity AS BIGINT))|Unspecified_sum(UnitPrice)|Unspecified_sum(CustomerID)|\n+----------+---------------------------------------+------------------------+-------------------------+-------------------------------------+----------------------+-----------------------+-------------------------------------+----------------------+-----------------------+-------------------------------------+----------------------+-----------------------+------------------------------------+---------------------+----------------------+------------------------------------+---------------------+----------------------+---------------------------------------------+------------------------------+-------------------------------+------------------------------------+---------------------+----------------------+--------------------------------------------+-----------------------------+------------------------------+-------------------------------------+----------------------+-----------------------+----------------------------------+-------------------+--------------------+------------------------------------------------+---------------------------------+----------------------------------+-------------------------------------+----------------------+-----------------------+------------------------------------+---------------------+----------------------+-------------------------------------+----------------------+-----------------------+------------------------------------+---------------------+----------------------+---------------------------------------+------------------------+-------------------------+-------------------------------------+----------------------+-----------------------+------------------------------------+---------------------+----------------------+-----------------------------------+--------------------+---------------------+-----------------------------------+--------------------+---------------------+-------------------------------------+----------------------+-----------------------+---------------------------------------+------------------------+-------------------------+-----------------------------------+--------------------+---------------------+-----------------------------------------+--------------------------+---------------------------+------------------------------------+---------------------+----------------------+------------------------------------+---------------------+----------------------+--------------------------------------+-----------------------+------------------------+---------------------------------+------------------+-------------------+------------------------------------------+---------------------------+----------------------------+---------------------------------------+------------------------+-------------------------+-----------------------------------+--------------------+---------------------+------------------------------------+---------------------+----------------------+-----------------------------------------+--------------------------+---------------------------+---------------------------------+------------------+-------------------+--------------------------------------------------+-----------------------------------+------------------------------------+--------------------------------------------+-----------------------------+------------------------------+-----------------------------------------+--------------------------+---------------------------+\n|2011-10-07|                                   null|                    null|                     null|                                 null|                  null|                   null|                                 null|                  null|                   null|                                 null|                  null|                   null|                                null|                 null|                  null|                                null|                 null|                  null|                                         null|                          null|                           null|                                 345|   136.51000000000002|              360180.0|                                         325|                        49.38|                      127810.0|                                  637|                 27.69|                74364.0|                               448| 225.09999999999997|            760461.0|                                            null|                             null|                              null|                                 null|                  null|                   null|                                 527|    88.43999999999998|              483504.0|                                 2053|    327.79999999999995|              1150698.0|                                null|                 null|                  null|                                   null|                    null|                     null|                                 null|                  null|                   null|                                null|                 null|                  null|                               null|                null|                 null|                               null|                null|                 null|                                 null|                  null|                   null|                                   null|                    null|                     null|                               null|                null|                 null|                                      212|                     25.35|                   140558.0|                                null|                 null|                  null|                                null|                 null|                  null|                                  null|                   null|                    null|                             null|              null|               null|                                      null|                       null|                        null|                                   null|                    null|                     null|                                227|  123.08000000000001|             275880.0|                                null|                 null|                  null|                                     null|                      null|                       null|                             null|              null|               null|                                              null|                               null|                                null|                                       25657|           12425.409999999976|                   2.7566889E7|                                     null|                      null|                       null|\n|2011-05-06|                                   null|                    null|                     null|                                   42|                 58.95|                74484.0|                                 null|                  null|                   null|                                  182|                 63.32|               260274.0|                                null|                 null|                  null|                                null|                 null|                  null|                                         null|                          null|                           null|                                null|                 null|                  null|                                        null|                         null|                          null|                                 null|                  null|                   null|                              1694|              75.37|            283120.0|                                            null|                             null|                              null|                                 null|                  null|                   null|                                null|                 null|                  null|                                  222|    12.639999999999999|               126857.0|                                null|                 null|                  null|                                   null|                    null|                     null|                                 null|                  null|                   null|                                null|                 null|                  null|                               null|                null|                 null|                               null|                null|                 null|                                 null|                  null|                   null|                                   null|                    null|                     null|                               null|                null|                 null|                                     null|                      null|                       null|                                null|                 null|                  null|                                null|                 null|                  null|                                  null|                   null|                    null|                             null|              null|               null|                                      null|                       null|                        null|                                   null|                    null|                     null|                                 88|               113.1|             187530.0|                                null|                 null|                  null|                                     null|                      null|                       null|                             null|              null|               null|                                              null|                               null|                                null|                                       17404|            6952.629999999985|                   1.8722445E7|                                     null|                      null|                       null|\n|2011-01-30|                                   null|                    null|                     null|                                 null|                  null|                   null|                                 null|                  null|                   null|                                 null|                  null|                   null|                                null|                 null|                  null|                                null|                 null|                  null|                                         null|                          null|                           null|                                null|                 null|                  null|                                        null|                         null|                          null|                                 null|                  null|                   null|                              null|               null|                null|                                            null|                             null|                              null|                                 null|                  null|                   null|                                null|                 null|                  null|                                 null|                  null|                   null|                                null|                 null|                  null|                                   null|                    null|                     null|                                 null|                  null|                   null|                                null|                 null|                  null|                               null|                null|                 null|                               null|                null|                 null|                                 null|                  null|                   null|                                   null|                    null|                     null|                               null|                null|                 null|                                     null|                      null|                       null|                                null|                 null|                  null|                                null|                 null|                  null|                                  null|                   null|                    null|                             null|              null|               null|                                      null|                       null|                        null|                                   null|                    null|                     null|                               null|                null|                 null|                                null|                 null|                  null|                                     null|                      null|                       null|                             null|              null|               null|                                              null|                               null|                                null|                                        3367|            2321.720000000002|                   1.1334037E7|                                     null|                      null|                       null|\n+----------+---------------------------------------+------------------------+-------------------------+-------------------------------------+----------------------+-----------------------+-------------------------------------+----------------------+-----------------------+-------------------------------------+----------------------+-----------------------+------------------------------------+---------------------+----------------------+------------------------------------+---------------------+----------------------+---------------------------------------------+------------------------------+-------------------------------+------------------------------------+---------------------+----------------------+--------------------------------------------+-----------------------------+------------------------------+-------------------------------------+----------------------+-----------------------+----------------------------------+-------------------+--------------------+------------------------------------------------+---------------------------------+----------------------------------+-------------------------------------+----------------------+-----------------------+------------------------------------+---------------------+----------------------+-------------------------------------+----------------------+-----------------------+------------------------------------+---------------------+----------------------+---------------------------------------+------------------------+-------------------------+-------------------------------------+----------------------+-----------------------+------------------------------------+---------------------+----------------------+-----------------------------------+--------------------+---------------------+-----------------------------------+--------------------+---------------------+-------------------------------------+----------------------+-----------------------+---------------------------------------+------------------------+-------------------------+-----------------------------------+--------------------+---------------------+-----------------------------------------+--------------------------+---------------------------+------------------------------------+---------------------+----------------------+------------------------------------+---------------------+----------------------+--------------------------------------+-----------------------+------------------------+---------------------------------+------------------+-------------------+------------------------------------------+---------------------------+----------------------------+---------------------------------------+------------------------+-------------------------+-----------------------------------+--------------------+---------------------+------------------------------------+---------------------+----------------------+-----------------------------------------+--------------------------+---------------------------+---------------------------------+------------------+-------------------+--------------------------------------------------+-----------------------------------+------------------------------------+--------------------------------------------+-----------------------------+------------------------------+-----------------------------------------+--------------------------+---------------------------+\nonly showing top 3 rows\n\n</div>",
       "datasetInfos": [
        {
         "name": "pivoted",
         "schema": {
          "fields": [
           {
            "metadata": {},
            "name": "date",
            "nullable": true,
            "type": "date"
           },
           {
            "metadata": {},
            "name": "Australia_sum(CAST(Quantity AS BIGINT))",
            "nullable": true,
            "type": "long"
           },
           {
            "metadata": {},
            "name": "Australia_sum(UnitPrice)",
            "nullable": true,
            "type": "double"
           },
           {
            "metadata": {},
            "name": "Australia_sum(CustomerID)",
            "nullable": true,
            "type": "double"
           },
           {
            "metadata": {},
            "name": "Austria_sum(CAST(Quantity AS BIGINT))",
            "nullable": true,
            "type": "long"
           },
           {
            "metadata": {},
            "name": "Austria_sum(UnitPrice)",
            "nullable": true,
            "type": "double"
           },
           {
            "metadata": {},
            "name": "Austria_sum(CustomerID)",
            "nullable": true,
            "type": "double"
           },
           {
            "metadata": {},
            "name": "Bahrain_sum(CAST(Quantity AS BIGINT))",
            "nullable": true,
            "type": "long"
           },
           {
            "metadata": {},
            "name": "Bahrain_sum(UnitPrice)",
            "nullable": true,
            "type": "double"
           },
           {
            "metadata": {},
            "name": "Bahrain_sum(CustomerID)",
            "nullable": true,
            "type": "double"
           },
           {
            "metadata": {},
            "name": "Belgium_sum(CAST(Quantity AS BIGINT))",
            "nullable": true,
            "type": "long"
           },
           {
            "metadata": {},
            "name": "Belgium_sum(UnitPrice)",
            "nullable": true,
            "type": "double"
           },
           {
            "metadata": {},
            "name": "Belgium_sum(CustomerID)",
            "nullable": true,
            "type": "double"
           },
           {
            "metadata": {},
            "name": "Brazil_sum(CAST(Quantity AS BIGINT))",
            "nullable": true,
            "type": "long"
           },
           {
            "metadata": {},
            "name": "Brazil_sum(UnitPrice)",
            "nullable": true,
            "type": "double"
           },
           {
            "metadata": {},
            "name": "Brazil_sum(CustomerID)",
            "nullable": true,
            "type": "double"
           },
           {
            "metadata": {},
            "name": "Canada_sum(CAST(Quantity AS BIGINT))",
            "nullable": true,
            "type": "long"
           },
           {
            "metadata": {},
            "name": "Canada_sum(UnitPrice)",
            "nullable": true,
            "type": "double"
           },
           {
            "metadata": {},
            "name": "Canada_sum(CustomerID)",
            "nullable": true,
            "type": "double"
           },
           {
            "metadata": {},
            "name": "Channel Islands_sum(CAST(Quantity AS BIGINT))",
            "nullable": true,
            "type": "long"
           },
           {
            "metadata": {},
            "name": "Channel Islands_sum(UnitPrice)",
            "nullable": true,
            "type": "double"
           },
           {
            "metadata": {},
            "name": "Channel Islands_sum(CustomerID)",
            "nullable": true,
            "type": "double"
           },
           {
            "metadata": {},
            "name": "Cyprus_sum(CAST(Quantity AS BIGINT))",
            "nullable": true,
            "type": "long"
           },
           {
            "metadata": {},
            "name": "Cyprus_sum(UnitPrice)",
            "nullable": true,
            "type": "double"
           },
           {
            "metadata": {},
            "name": "Cyprus_sum(CustomerID)",
            "nullable": true,
            "type": "double"
           },
           {
            "metadata": {},
            "name": "Czech Republic_sum(CAST(Quantity AS BIGINT))",
            "nullable": true,
            "type": "long"
           },
           {
            "metadata": {},
            "name": "Czech Republic_sum(UnitPrice)",
            "nullable": true,
            "type": "double"
           },
           {
            "metadata": {},
            "name": "Czech Republic_sum(CustomerID)",
            "nullable": true,
            "type": "double"
           },
           {
            "metadata": {},
            "name": "Denmark_sum(CAST(Quantity AS BIGINT))",
            "nullable": true,
            "type": "long"
           },
           {
            "metadata": {},
            "name": "Denmark_sum(UnitPrice)",
            "nullable": true,
            "type": "double"
           },
           {
            "metadata": {},
            "name": "Denmark_sum(CustomerID)",
            "nullable": true,
            "type": "double"
           },
           {
            "metadata": {},
            "name": "EIRE_sum(CAST(Quantity AS BIGINT))",
            "nullable": true,
            "type": "long"
           },
           {
            "metadata": {},
            "name": "EIRE_sum(UnitPrice)",
            "nullable": true,
            "type": "double"
           },
           {
            "metadata": {},
            "name": "EIRE_sum(CustomerID)",
            "nullable": true,
            "type": "double"
           },
           {
            "metadata": {},
            "name": "European Community_sum(CAST(Quantity AS BIGINT))",
            "nullable": true,
            "type": "long"
           },
           {
            "metadata": {},
            "name": "European Community_sum(UnitPrice)",
            "nullable": true,
            "type": "double"
           },
           {
            "metadata": {},
            "name": "European Community_sum(CustomerID)",
            "nullable": true,
            "type": "double"
           },
           {
            "metadata": {},
            "name": "Finland_sum(CAST(Quantity AS BIGINT))",
            "nullable": true,
            "type": "long"
           },
           {
            "metadata": {},
            "name": "Finland_sum(UnitPrice)",
            "nullable": true,
            "type": "double"
           },
           {
            "metadata": {},
            "name": "Finland_sum(CustomerID)",
            "nullable": true,
            "type": "double"
           },
           {
            "metadata": {},
            "name": "France_sum(CAST(Quantity AS BIGINT))",
            "nullable": true,
            "type": "long"
           },
           {
            "metadata": {},
            "name": "France_sum(UnitPrice)",
            "nullable": true,
            "type": "double"
           },
           {
            "metadata": {},
            "name": "France_sum(CustomerID)",
            "nullable": true,
            "type": "double"
           },
           {
            "metadata": {},
            "name": "Germany_sum(CAST(Quantity AS BIGINT))",
            "nullable": true,
            "type": "long"
           },
           {
            "metadata": {},
            "name": "Germany_sum(UnitPrice)",
            "nullable": true,
            "type": "double"
           },
           {
            "metadata": {},
            "name": "Germany_sum(CustomerID)",
            "nullable": true,
            "type": "double"
           },
           {
            "metadata": {},
            "name": "Greece_sum(CAST(Quantity AS BIGINT))",
            "nullable": true,
            "type": "long"
           },
           {
            "metadata": {},
            "name": "Greece_sum(UnitPrice)",
            "nullable": true,
            "type": "double"
           },
           {
            "metadata": {},
            "name": "Greece_sum(CustomerID)",
            "nullable": true,
            "type": "double"
           },
           {
            "metadata": {},
            "name": "Hong Kong_sum(CAST(Quantity AS BIGINT))",
            "nullable": true,
            "type": "long"
           },
           {
            "metadata": {},
            "name": "Hong Kong_sum(UnitPrice)",
            "nullable": true,
            "type": "double"
           },
           {
            "metadata": {},
            "name": "Hong Kong_sum(CustomerID)",
            "nullable": true,
            "type": "double"
           },
           {
            "metadata": {},
            "name": "Iceland_sum(CAST(Quantity AS BIGINT))",
            "nullable": true,
            "type": "long"
           },
           {
            "metadata": {},
            "name": "Iceland_sum(UnitPrice)",
            "nullable": true,
            "type": "double"
           },
           {
            "metadata": {},
            "name": "Iceland_sum(CustomerID)",
            "nullable": true,
            "type": "double"
           },
           {
            "metadata": {},
            "name": "Israel_sum(CAST(Quantity AS BIGINT))",
            "nullable": true,
            "type": "long"
           },
           {
            "metadata": {},
            "name": "Israel_sum(UnitPrice)",
            "nullable": true,
            "type": "double"
           },
           {
            "metadata": {},
            "name": "Israel_sum(CustomerID)",
            "nullable": true,
            "type": "double"
           },
           {
            "metadata": {},
            "name": "Italy_sum(CAST(Quantity AS BIGINT))",
            "nullable": true,
            "type": "long"
           },
           {
            "metadata": {},
            "name": "Italy_sum(UnitPrice)",
            "nullable": true,
            "type": "double"
           },
           {
            "metadata": {},
            "name": "Italy_sum(CustomerID)",
            "nullable": true,
            "type": "double"
           },
           {
            "metadata": {},
            "name": "Japan_sum(CAST(Quantity AS BIGINT))",
            "nullable": true,
            "type": "long"
           },
           {
            "metadata": {},
            "name": "Japan_sum(UnitPrice)",
            "nullable": true,
            "type": "double"
           },
           {
            "metadata": {},
            "name": "Japan_sum(CustomerID)",
            "nullable": true,
            "type": "double"
           },
           {
            "metadata": {},
            "name": "Lebanon_sum(CAST(Quantity AS BIGINT))",
            "nullable": true,
            "type": "long"
           },
           {
            "metadata": {},
            "name": "Lebanon_sum(UnitPrice)",
            "nullable": true,
            "type": "double"
           },
           {
            "metadata": {},
            "name": "Lebanon_sum(CustomerID)",
            "nullable": true,
            "type": "double"
           },
           {
            "metadata": {},
            "name": "Lithuania_sum(CAST(Quantity AS BIGINT))",
            "nullable": true,
            "type": "long"
           },
           {
            "metadata": {},
            "name": "Lithuania_sum(UnitPrice)",
            "nullable": true,
            "type": "double"
           },
           {
            "metadata": {},
            "name": "Lithuania_sum(CustomerID)",
            "nullable": true,
            "type": "double"
           },
           {
            "metadata": {},
            "name": "Malta_sum(CAST(Quantity AS BIGINT))",
            "nullable": true,
            "type": "long"
           },
           {
            "metadata": {},
            "name": "Malta_sum(UnitPrice)",
            "nullable": true,
            "type": "double"
           },
           {
            "metadata": {},
            "name": "Malta_sum(CustomerID)",
            "nullable": true,
            "type": "double"
           },
           {
            "metadata": {},
            "name": "Netherlands_sum(CAST(Quantity AS BIGINT))",
            "nullable": true,
            "type": "long"
           },
           {
            "metadata": {},
            "name": "Netherlands_sum(UnitPrice)",
            "nullable": true,
            "type": "double"
           },
           {
            "metadata": {},
            "name": "Netherlands_sum(CustomerID)",
            "nullable": true,
            "type": "double"
           },
           {
            "metadata": {},
            "name": "Norway_sum(CAST(Quantity AS BIGINT))",
            "nullable": true,
            "type": "long"
           },
           {
            "metadata": {},
            "name": "Norway_sum(UnitPrice)",
            "nullable": true,
            "type": "double"
           },
           {
            "metadata": {},
            "name": "Norway_sum(CustomerID)",
            "nullable": true,
            "type": "double"
           },
           {
            "metadata": {},
            "name": "Poland_sum(CAST(Quantity AS BIGINT))",
            "nullable": true,
            "type": "long"
           },
           {
            "metadata": {},
            "name": "Poland_sum(UnitPrice)",
            "nullable": true,
            "type": "double"
           },
           {
            "metadata": {},
            "name": "Poland_sum(CustomerID)",
            "nullable": true,
            "type": "double"
           },
           {
            "metadata": {},
            "name": "Portugal_sum(CAST(Quantity AS BIGINT))",
            "nullable": true,
            "type": "long"
           },
           {
            "metadata": {},
            "name": "Portugal_sum(UnitPrice)",
            "nullable": true,
            "type": "double"
           },
           {
            "metadata": {},
            "name": "Portugal_sum(CustomerID)",
            "nullable": true,
            "type": "double"
           },
           {
            "metadata": {},
            "name": "RSA_sum(CAST(Quantity AS BIGINT))",
            "nullable": true,
            "type": "long"
           },
           {
            "metadata": {},
            "name": "RSA_sum(UnitPrice)",
            "nullable": true,
            "type": "double"
           },
           {
            "metadata": {},
            "name": "RSA_sum(CustomerID)",
            "nullable": true,
            "type": "double"
           },
           {
            "metadata": {},
            "name": "Saudi Arabia_sum(CAST(Quantity AS BIGINT))",
            "nullable": true,
            "type": "long"
           },
           {
            "metadata": {},
            "name": "Saudi Arabia_sum(UnitPrice)",
            "nullable": true,
            "type": "double"
           },
           {
            "metadata": {},
            "name": "Saudi Arabia_sum(CustomerID)",
            "nullable": true,
            "type": "double"
           },
           {
            "metadata": {},
            "name": "Singapore_sum(CAST(Quantity AS BIGINT))",
            "nullable": true,
            "type": "long"
           },
           {
            "metadata": {},
            "name": "Singapore_sum(UnitPrice)",
            "nullable": true,
            "type": "double"
           },
           {
            "metadata": {},
            "name": "Singapore_sum(CustomerID)",
            "nullable": true,
            "type": "double"
           },
           {
            "metadata": {},
            "name": "Spain_sum(CAST(Quantity AS BIGINT))",
            "nullable": true,
            "type": "long"
           },
           {
            "metadata": {},
            "name": "Spain_sum(UnitPrice)",
            "nullable": true,
            "type": "double"
           },
           {
            "metadata": {},
            "name": "Spain_sum(CustomerID)",
            "nullable": true,
            "type": "double"
           },
           {
            "metadata": {},
            "name": "Sweden_sum(CAST(Quantity AS BIGINT))",
            "nullable": true,
            "type": "long"
           },
           {
            "metadata": {},
            "name": "Sweden_sum(UnitPrice)",
            "nullable": true,
            "type": "double"
           },
           {
            "metadata": {},
            "name": "Sweden_sum(CustomerID)",
            "nullable": true,
            "type": "double"
           },
           {
            "metadata": {},
            "name": "Switzerland_sum(CAST(Quantity AS BIGINT))",
            "nullable": true,
            "type": "long"
           },
           {
            "metadata": {},
            "name": "Switzerland_sum(UnitPrice)",
            "nullable": true,
            "type": "double"
           },
           {
            "metadata": {},
            "name": "Switzerland_sum(CustomerID)",
            "nullable": true,
            "type": "double"
           },
           {
            "metadata": {},
            "name": "USA_sum(CAST(Quantity AS BIGINT))",
            "nullable": true,
            "type": "long"
           },
           {
            "metadata": {},
            "name": "USA_sum(UnitPrice)",
            "nullable": true,
            "type": "double"
           },
           {
            "metadata": {},
            "name": "USA_sum(CustomerID)",
            "nullable": true,
            "type": "double"
           },
           {
            "metadata": {},
            "name": "United Arab Emirates_sum(CAST(Quantity AS BIGINT))",
            "nullable": true,
            "type": "long"
           },
           {
            "metadata": {},
            "name": "United Arab Emirates_sum(UnitPrice)",
            "nullable": true,
            "type": "double"
           },
           {
            "metadata": {},
            "name": "United Arab Emirates_sum(CustomerID)",
            "nullable": true,
            "type": "double"
           },
           {
            "metadata": {},
            "name": "United Kingdom_sum(CAST(Quantity AS BIGINT))",
            "nullable": true,
            "type": "long"
           },
           {
            "metadata": {},
            "name": "United Kingdom_sum(UnitPrice)",
            "nullable": true,
            "type": "double"
           },
           {
            "metadata": {},
            "name": "United Kingdom_sum(CustomerID)",
            "nullable": true,
            "type": "double"
           },
           {
            "metadata": {},
            "name": "Unspecified_sum(CAST(Quantity AS BIGINT))",
            "nullable": true,
            "type": "long"
           },
           {
            "metadata": {},
            "name": "Unspecified_sum(UnitPrice)",
            "nullable": true,
            "type": "double"
           },
           {
            "metadata": {},
            "name": "Unspecified_sum(CustomerID)",
            "nullable": true,
            "type": "double"
           }
          ],
          "type": "struct"
         },
         "tableIdentifier": null,
         "typeStr": "pyspark.sql.dataframe.DataFrame"
        }
       ],
       "metadata": {},
       "removedWidgets": [],
       "type": "html"
      }
     },
     "output_type": "display_data"
    }
   ],
   "source": [
    "pivoted = dfWithDate.groupBy(\"date\").pivot(\"Country\").sum()\n",
    "pivoted.show(3)"
   ]
  },
  {
   "cell_type": "markdown",
   "metadata": {
    "application/vnd.databricks.v1+cell": {
     "inputWidgets": {},
     "nuid": "8787b6b0-0d84-4c5f-bb86-15b5aeb78963",
     "showTitle": false,
     "title": ""
    }
   },
   "source": [
    "This DataFrame will now have a column for every combination of country, numeric variable, and a column specifying the date. \n",
    "\n",
    "For example, for USA we have columns:USA_sum(Quantity), USA_sum(UnitPrice), USA_sum(CustomerID).\n",
    "\n",
    "This represents one for each numeric column in our dataset (because we just performed an aggregation over all of them)."
   ]
  },
  {
   "cell_type": "code",
   "execution_count": 0,
   "metadata": {
    "application/vnd.databricks.v1+cell": {
     "inputWidgets": {},
     "nuid": "1a0e47f7-9dff-4aee-818b-43d3ea75e58a",
     "showTitle": false,
     "title": ""
    }
   },
   "outputs": [
    {
     "data": {
      "text/html": [
       "<style scoped>\n",
       "  .ansiout {\n",
       "    display: block;\n",
       "    unicode-bidi: embed;\n",
       "    white-space: pre-wrap;\n",
       "    word-wrap: break-word;\n",
       "    word-break: break-all;\n",
       "    font-family: \"Source Code Pro\", \"Menlo\", monospace;;\n",
       "    font-size: 13px;\n",
       "    color: #555;\n",
       "    margin-left: 4px;\n",
       "    line-height: 19px;\n",
       "  }\n",
       "</style>\n",
       "<div class=\"ansiout\">+----------+-------------------+---------------------------------+\n",
       "      date|USA_sum(CustomerID)|USA_sum(CAST(Quantity AS BIGINT))|\n",
       "+----------+-------------------+---------------------------------+\n",
       "2011-12-06|               null|                             null|\n",
       "2011-12-09|               null|                             null|\n",
       "2011-12-08|           138138.0|                             -196|\n",
       "2011-12-07|               null|                             null|\n",
       "+----------+-------------------+---------------------------------+\n",
       "\n",
       "</div>"
      ]
     },
     "metadata": {
      "application/vnd.databricks.v1+output": {
       "addedWidgets": {},
       "arguments": {},
       "data": "<div class=\"ansiout\">+----------+-------------------+---------------------------------+\n|      date|USA_sum(CustomerID)|USA_sum(CAST(Quantity AS BIGINT))|\n+----------+-------------------+---------------------------------+\n|2011-12-06|               null|                             null|\n|2011-12-09|               null|                             null|\n|2011-12-08|           138138.0|                             -196|\n|2011-12-07|               null|                             null|\n+----------+-------------------+---------------------------------+\n\n</div>",
       "datasetInfos": [],
       "metadata": {},
       "removedWidgets": [],
       "type": "html"
      }
     },
     "output_type": "display_data"
    }
   ],
   "source": [
    "pivoted.where(\"date > '2011-12-05'\").select(\"date\",\"`USA_sum(CustomerID)`\",\"`USA_sum(CAST(Quantity AS BIGINT))`\").show()"
   ]
  },
  {
   "cell_type": "markdown",
   "metadata": {
    "application/vnd.databricks.v1+cell": {
     "inputWidgets": {},
     "nuid": "36f8434e-90ab-4cca-825e-1f40ca4e91bb",
     "showTitle": false,
     "title": ""
    }
   },
   "source": [
    "###### User-Defined Aggregation Functions(UDAF):\n",
    "\n",
    "* UDAFs to compute custom calculations over groups of input data (as opposed to single rows).\n",
    "* they are a way for users to define their own aggregation functions based on custom formulae or business rules.\n",
    "* UDAFs are currently available only in Scala or Java. But these can be called in Python.\n",
    "* To create a UDAF, you must inherit from the **UserDefinedAggregateFunction** base class and implement the following methods:\n",
    "   * **inputSchema** represents input arguments as a StructType\n",
    "   * **bufferSchema** represents intermediate UDAF results as a StructType\n",
    "   * **dataType** represents the return DataType\n",
    "   * **deterministic** is a Boolean value that specifies whether this UDAF will return the same result for a given input\n",
    "   * **initialize** allows you to initialize values of an aggregation buffer\n",
    "   * **update** describes how you should update the internal buffer based on a given row\n",
    "   * **merge** describes how two aggregation buffers should be merged\n",
    "   * **evaluate** will generate the final result of the aggregation\n",
    "   \n",
    " The following example implements a BoolAnd, which will inform us whether all the rows (for a given column) are true; if they’re not, it will return false."
   ]
  },
  {
   "cell_type": "code",
   "execution_count": 0,
   "metadata": {
    "application/vnd.databricks.v1+cell": {
     "inputWidgets": {},
     "nuid": "4167763d-db6a-429f-9477-7cf33b65f1cd",
     "showTitle": false,
     "title": ""
    }
   },
   "outputs": [
    {
     "data": {
      "text/html": [
       "<style scoped>\n",
       "  .ansiout {\n",
       "    display: block;\n",
       "    unicode-bidi: embed;\n",
       "    white-space: pre-wrap;\n",
       "    word-wrap: break-word;\n",
       "    word-break: break-all;\n",
       "    font-family: \"Source Code Pro\", \"Menlo\", monospace;;\n",
       "    font-size: 13px;\n",
       "    color: #555;\n",
       "    margin-left: 4px;\n",
       "    line-height: 19px;\n",
       "  }\n",
       "</style>\n",
       "<div class=\"ansiout\">import org.apache.spark.sql.expressions.MutableAggregationBuffer\n",
       "import org.apache.spark.sql.expressions.UserDefinedAggregateFunction\n",
       "import org.apache.spark.sql.Row\n",
       "import org.apache.spark.sql.types._\n",
       "defined class BoolAnd\n",
       "</div>"
      ]
     },
     "metadata": {
      "application/vnd.databricks.v1+output": {
       "addedWidgets": {},
       "arguments": {},
       "data": "<div class=\"ansiout\">import org.apache.spark.sql.expressions.MutableAggregationBuffer\nimport org.apache.spark.sql.expressions.UserDefinedAggregateFunction\nimport org.apache.spark.sql.Row\nimport org.apache.spark.sql.types._\ndefined class BoolAnd\n</div>",
       "datasetInfos": [],
       "metadata": {},
       "removedWidgets": [],
       "type": "html"
      }
     },
     "output_type": "display_data"
    }
   ],
   "source": [
    "%scala\n",
    "import org.apache.spark.sql.expressions.MutableAggregationBuffer\n",
    "import org.apache.spark.sql.expressions.UserDefinedAggregateFunction\n",
    "import org.apache.spark.sql.Row\n",
    "import org.apache.spark.sql.types._\n",
    "\n",
    "class BoolAnd extends UserDefinedAggregateFunction {\n",
    "  def inputSchema: org.apache.spark.sql.types.StructType = StructType(StructField(\"value\", BooleanType) :: Nil)\n",
    "  \n",
    "  def bufferSchema: StructType = StructType(StructField(\"result\", BooleanType) :: Nil)\n",
    "  \n",
    "  def dataType: DataType = BooleanType\n",
    "  \n",
    "  def deterministic: Boolean = true\n",
    "  \n",
    "  def initialize(buffer: MutableAggregationBuffer): Unit = {\n",
    "    buffer(0) = true\n",
    "  }\n",
    "  \n",
    "  def update(buffer: MutableAggregationBuffer, input: Row):Unit = {\n",
    "    buffer(0) = buffer.getAs[Boolean](0) && input.getAs[Boolean](0)\n",
    "  }\n",
    "  \n",
    "  def merge(buffer1: MutableAggregationBuffer, buffer2: Row): Unit = {\n",
    "    buffer1(0) = buffer1.getAs[Boolean](0) && buffer2.getAs[Boolean](0)\n",
    "    }\n",
    "  \n",
    "  def evaluate(buffer: Row): Any = {\n",
    "    buffer(0)\n",
    "    }\n",
    "\n",
    "}"
   ]
  },
  {
   "cell_type": "code",
   "execution_count": 0,
   "metadata": {
    "application/vnd.databricks.v1+cell": {
     "inputWidgets": {},
     "nuid": "8506c9b3-e5ec-4cd9-a045-c8d4ffd46e9f",
     "showTitle": false,
     "title": ""
    }
   },
   "outputs": [
    {
     "data": {
      "text/html": [
       "<style scoped>\n",
       "  .ansiout {\n",
       "    display: block;\n",
       "    unicode-bidi: embed;\n",
       "    white-space: pre-wrap;\n",
       "    word-wrap: break-word;\n",
       "    word-break: break-all;\n",
       "    font-family: \"Source Code Pro\", \"Menlo\", monospace;;\n",
       "    font-size: 13px;\n",
       "    color: #555;\n",
       "    margin-left: 4px;\n",
       "    line-height: 19px;\n",
       "  }\n",
       "</style>\n",
       "<div class=\"ansiout\">+----------+----------+\n",
       "booland(t)|booland(f)|\n",
       "+----------+----------+\n",
       "      true|     false|\n",
       "+----------+----------+\n",
       "\n",
       "ba: BoolAnd = BoolAnd@72cd864\n",
       "import org.apache.spark.sql.functions._\n",
       "</div>"
      ]
     },
     "metadata": {
      "application/vnd.databricks.v1+output": {
       "addedWidgets": {},
       "arguments": {},
       "data": "<div class=\"ansiout\">+----------+----------+\n|booland(t)|booland(f)|\n+----------+----------+\n|      true|     false|\n+----------+----------+\n\nba: BoolAnd = BoolAnd@72cd864\nimport org.apache.spark.sql.functions._\n</div>",
       "datasetInfos": [],
       "metadata": {},
       "removedWidgets": [],
       "type": "html"
      }
     },
     "output_type": "display_data"
    }
   ],
   "source": [
    "%scala\n",
    "val ba = new BoolAnd\n",
    "spark.udf.register(\"booland\", ba)\n",
    "import org.apache.spark.sql.functions._\n",
    "spark.range(1)\n",
    ".selectExpr(\"explode(array(TRUE, TRUE, TRUE)) as t\")\n",
    ".selectExpr(\"explode(array(TRUE, FALSE, TRUE)) as f\", \"t\")\n",
    ".select(ba(col(\"t\")), expr(\"booland(f)\"))\n",
    ".show()"
   ]
  },
  {
   "cell_type": "markdown",
   "metadata": {
    "application/vnd.databricks.v1+cell": {
     "inputWidgets": {},
     "nuid": "c7d61a4e-0ee8-404c-a6f4-ee8c9d3c10e2",
     "showTitle": false,
     "title": ""
    }
   },
   "source": [
    "###### Conclusion:\n",
    "We have learnt about simple grouping-to window functions as well as rollups and cubes. Next chapterdiscusses how to perform joins to combine different data sources together."
   ]
  }
 ],
 "metadata": {
  "application/vnd.databricks.v1+notebook": {
   "dashboards": [],
   "language": "python",
   "notebookMetadata": {
    "pythonIndentUnit": 2
   },
   "notebookName": "Chap 07 - Aggregations",
   "notebookOrigID": 3965567339510461,
   "widgets": {}
  },
  "kernelspec": {
   "display_name": "Python 3 (ipykernel)",
   "language": "python",
   "name": "python3"
  },
  "language_info": {
   "codemirror_mode": {
    "name": "ipython",
    "version": 3
   },
   "file_extension": ".py",
   "mimetype": "text/x-python",
   "name": "python",
   "nbconvert_exporter": "python",
   "pygments_lexer": "ipython3",
   "version": "3.10.8"
  }
 },
 "nbformat": 4,
 "nbformat_minor": 1
}
