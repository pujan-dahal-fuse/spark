{
 "cells": [
  {
   "cell_type": "markdown",
   "metadata": {
    "application/vnd.databricks.v1+cell": {
     "inputWidgets": {},
     "nuid": "88c5094c-f5b7-471c-ab61-a8cbab24e7da",
     "showTitle": false,
     "title": ""
    }
   },
   "source": [
    "## DATABRICKS\n",
    "\n",
    "Databricks is a zero-management cloud platform that provides:\n",
    "\n",
    "* Fully managed Spark clusters\n",
    "* An interactive workspace for exploration and visualization\n",
    "* A production pipeline scheduler\n",
    "* A platform for powering your favorite Spark-based applications"
   ]
  },
  {
   "cell_type": "markdown",
   "metadata": {
    "application/vnd.databricks.v1+cell": {
     "inputWidgets": {},
     "nuid": "5a0c4667-e354-43ca-ae55-840e42e64bb8",
     "showTitle": false,
     "title": ""
    }
   },
   "source": [
    "## Databricks File System\n",
    "**Databricks File System(DBFS)** is a layer over Azure's blob storage\n",
    "* Files in DBFS persist to the blob store, so data is not lost even after clusters are terminated\n",
    "\n",
    "**Databricks Utilities - dbutils** \n",
    "* Access the DBFS through the Databricks utilities class (and other file IO routines)\n",
    "* An instansce of DBUtils is already declared as dbutils\n",
    "\n",
    "* **Note:** \n",
    "    * Please go through the \"**The-Databricks-Environment.dbc**\" and \"**Databricks-Setup.pdf**\" before proceeding further.\n",
    "    * This dbc file is created only with **Python** code"
   ]
  },
  {
   "cell_type": "markdown",
   "metadata": {
    "application/vnd.databricks.v1+cell": {
     "inputWidgets": {},
     "nuid": "a1c894e0-080c-4f8a-9f9c-aaa8a17c74c4",
     "showTitle": false,
     "title": ""
    }
   },
   "source": [
    "## APACHE SPARK ![Spark Logo Tiny](https://files.training.databricks.com/images/105/logo_spark_tiny.png)\n",
    "SPARK is a unified processing engine that helps in managing and coordinating the execution of tasks on data across a cluster of computers. \n",
    "\n",
    "![Spark Engines](https://files.training.databricks.com/images/wiki-book/book_intro/spark_4engines.png)\n",
    "<br/>\n",
    "<br/>\n",
    "* At its core is the Spark Engine.\n",
    "* The DataFrames API provides an abstraction above RDDs while simultaneously improving performance 5-20x over traditional RDDs with its Catalyst Optimizer.\n",
    "* Spark ML provides high quality and finely tuned machine learning algorithms for processing big data.\n",
    "* The Graph processing API gives us an easily approachable API for modeling pairwise relationships between people, objects, or nodes in a network.\n",
    "* The Streaming APIs give us End-to-End Fault Tolerance, with Exactly-Once semantics, and the possibility for sub-millisecond latency.\n",
    "\n",
    "**RDDs**\n",
    "* The primary data abstraction of Spark engine is the RDD: Resilient Distributed Dataset\n",
    "  * Resilient, i.e., fault-tolerant with the help of RDD lineage graph and so able to recompute missing or damaged partitions due to node failures.\n",
    "  * Distributed with data residing on multiple nodes in a cluster.\n",
    "  * Dataset is a collection of partitioned data with primitive values or values of values, e.g., tuples or other objects.\n",
    "* The original paper that gave birth to the concept of RDD is <a href=\"https://cs.stanford.edu/~matei/papers/2012/nsdi_spark.pdf\" target=\"_blank\">Resilient Distributed Datasets: A Fault-Tolerant Abstraction for In-Memory Cluster Computing</a> by Matei Zaharia et al.\n",
    "* Today, with Spark 2.x, we treat RDDs as the assembly language of the Spark ecosystem.\n",
    "* DataFrames, Datasets & SQL provide the higher level abstraction over RDDs.\n",
    "\n",
    "\n",
    "**SPARK** is a distributed programming model where the user specifies\n",
    "* **Transformations**, which build-up a directed acyclic- graph of instructions\n",
    "* **Actions**, which begin the process of executing that graph of instructions, as a single job, by breaking it down into stages and tasks to execute across the cluster"
   ]
  },
  {
   "cell_type": "markdown",
   "metadata": {
    "application/vnd.databricks.v1+cell": {
     "inputWidgets": {},
     "nuid": "03bd06b2-27f8-435b-bf81-cb43df2d1943",
     "showTitle": false,
     "title": ""
    }
   },
   "source": [
    "-sandbox\n",
    "\n",
    "##![Spark Logo Tiny](https://files.training.databricks.com/images/105/logo_spark_tiny.png) The Cluster: Drivers, Executors, Slots & Tasks\n",
    "![Spark Physical Cluster, slots](https://files.training.databricks.com/images/105/spark_cluster_slots.png)\n",
    "\n",
    "* The **Driver** is the JVM in which our application runs.\n",
    "* The secret to Spark's awesome performance is parallelism.\n",
    "  * Scaling vertically is limited to a finite amount of RAM, Threads and CPU speeds.\n",
    "  * Scaling horizontally means we can simply add new \"nodes\" to the cluster almost endlessly.\n",
    "* We parallelize at two levels:\n",
    "  * The first level of parallelization is the **Executor** - a Java virtual machine running on a node, typically, one instance per node.\n",
    "  * The second level of parallelization is the **Slot** - the number of which is determined by the number of cores and CPUs of each node.\n",
    "* Each **Executor** has a number of **Slots** to which parallelized **Tasks** can be assigned to it by the **Driver**."
   ]
  },
  {
   "cell_type": "markdown",
   "metadata": {
    "application/vnd.databricks.v1+cell": {
     "inputWidgets": {},
     "nuid": "96b7ddcc-f408-44d9-a964-4ad7a56a1d9b",
     "showTitle": false,
     "title": ""
    }
   },
   "source": [
    "##![Spark Logo Tiny](https://files.training.databricks.com/images/105/logo_spark_tiny.png) Task,Jobs & Stages\n",
    "* **Task** : A task is a series of operations that works on the same parition and operations in a task pipelined together.\n",
    "* **Stage** : A group of tasks that operate on the same sequence of RDD is a stage.\n",
    "* **Job** : A job is made up of all the stages in aquery that is a series of transformations completed by an action.\n",
    "\n",
    "* Each parallelized action is referred to as a **Job**.\n",
    "* The results of each **Job** (parallelized/distributed action) is returned to the **Driver**.\n",
    "* Depending on the work required, multiple **Jobs** will be required.\n",
    "* Each **Job** is broken down into **Stages**."
   ]
  },
  {
   "cell_type": "markdown",
   "metadata": {
    "application/vnd.databricks.v1+cell": {
     "inputWidgets": {},
     "nuid": "e136834a-0579-4894-a8b8-ee292427011c",
     "showTitle": false,
     "title": ""
    }
   },
   "source": [
    "![Spark Physical Cluster, tasks](https://files.training.databricks.com/images/105/spark_cluster_tasks.png)\n",
    "<br/>\n",
    "<br/>\n",
    "* The JVM is naturally multithreaded, but a single JVM, such as our **Driver**, has a finite upper limit.\n",
    "* By creating **Tasks**, the **Driver** can assign units of work to **Slots** for parallel execution.\n",
    "* Additionally, the **Driver** must also decide how to partition the data so that it can be distributed for parallel processing (not shown here).\n",
    "* Consequently, the **Driver** is assigning a **Partition** of data to each task - in this way each **Task** knows which piece of data it is to process.\n",
    "* Once started, each **Task** will fetch from the original data source the **Partition** of data assigned to it."
   ]
  },
  {
   "cell_type": "code",
   "execution_count": 0,
   "metadata": {
    "application/vnd.databricks.v1+cell": {
     "inputWidgets": {},
     "nuid": "596eca12-d0c0-492b-a767-8d2a77a8933e",
     "showTitle": false,
     "title": ""
    }
   },
   "outputs": [
    {
     "data": {
      "text/html": [
       "<div class = \"ansiout\">\n",
       "This module provides various utilities for users to interact with the rest of Databricks.\n",
       "  <h3></h3><b>credentials: DatabricksCredentialUtils</b> -> Utilities for interacting with credentials within notebooks<br /><b>fs: DbfsUtils</b> -> Manipulates the Databricks filesystem (DBFS) from the console<br /><b>library: LibraryUtils</b> -> Utilities for session isolated libraries<br /><b>meta: MetaUtils</b> -> Methods to hook into the compiler (EXPERIMENTAL)<br /><b>notebook: NotebookUtils</b> -> Utilities for the control flow of a notebook (EXPERIMENTAL)<br /><b>preview: Preview</b> -> Utilities under preview category<br /><b>secrets: SecretUtils</b> -> Provides utilities for leveraging secrets within notebooks<br /><b>widgets: WidgetsUtils</b> -> Methods to create and get bound value of input widgets inside notebooks<br /><br /></div>"
      ]
     },
     "metadata": {
      "application/vnd.databricks.v1+output": {
       "addedWidgets": {},
       "arguments": {},
       "data": "<div class = \"ansiout\">\nThis module provides various utilities for users to interact with the rest of Databricks.\n  <h3></h3><b>credentials: DatabricksCredentialUtils</b> -> Utilities for interacting with credentials within notebooks<br /><b>fs: DbfsUtils</b> -> Manipulates the Databricks filesystem (DBFS) from the console<br /><b>library: LibraryUtils</b> -> Utilities for session isolated libraries<br /><b>meta: MetaUtils</b> -> Methods to hook into the compiler (EXPERIMENTAL)<br /><b>notebook: NotebookUtils</b> -> Utilities for the control flow of a notebook (EXPERIMENTAL)<br /><b>preview: Preview</b> -> Utilities under preview category<br /><b>secrets: SecretUtils</b> -> Provides utilities for leveraging secrets within notebooks<br /><b>widgets: WidgetsUtils</b> -> Methods to create and get bound value of input widgets inside notebooks<br /><br /></div>",
       "datasetInfos": [],
       "metadata": {},
       "removedWidgets": [],
       "textData": "<div class=\"ansiout\"></div>",
       "type": "htmlSandbox"
      }
     },
     "output_type": "display_data"
    }
   ],
   "source": [
    "dbutils.help()"
   ]
  },
  {
   "cell_type": "code",
   "execution_count": 1,
   "metadata": {
    "application/vnd.databricks.v1+cell": {
     "inputWidgets": {},
     "nuid": "11c7aa34-e5ce-4dd5-b668-86c75a389505",
     "showTitle": false,
     "title": ""
    }
   },
   "outputs": [
    {
     "name": "stdout",
     "output_type": "stream",
     "text": [
      "22/10/19 11:07:23 WARN Utils: Your hostname, tars resolves to a loopback address: 127.0.1.1; using 192.168.1.66 instead (on interface wlan0)\n",
      "22/10/19 11:07:23 WARN Utils: Set SPARK_LOCAL_IP if you need to bind to another address\n"
     ]
    },
    {
     "name": "stderr",
     "output_type": "stream",
     "text": [
      "Setting default log level to \"WARN\".\n",
      "To adjust logging level use sc.setLogLevel(newLevel). For SparkR, use setLogLevel(newLevel).\n"
     ]
    },
    {
     "name": "stdout",
     "output_type": "stream",
     "text": [
      "22/10/19 11:07:23 WARN NativeCodeLoader: Unable to load native-hadoop library for your platform... using builtin-java classes where applicable\n"
     ]
    }
   ],
   "source": [
    "from pyspark.sql import SparkSession\n",
    "spark = SparkSession.builder.master('local').appName(\"spark\").getOrCreate()"
   ]
  },
  {
   "cell_type": "code",
   "execution_count": 11,
   "metadata": {
    "application/vnd.databricks.v1+cell": {
     "inputWidgets": {},
     "nuid": "e271ef95-ac1d-425b-ae5a-4b4c89b9593c",
     "showTitle": false,
     "title": ""
    }
   },
   "outputs": [],
   "source": [
    "myrange = spark.range(1000).toDF(\"number\")"
   ]
  },
  {
   "cell_type": "code",
   "execution_count": 12,
   "metadata": {
    "application/vnd.databricks.v1+cell": {
     "inputWidgets": {},
     "nuid": "3530b4cc-6cca-40a3-bb77-8c03d3d1ce02",
     "showTitle": false,
     "title": ""
    }
   },
   "outputs": [
    {
     "name": "stdout",
     "output_type": "stream",
     "text": [
      "root\n",
      " |-- number: long (nullable = false)\n",
      "\n"
     ]
    }
   ],
   "source": [
    "myrange.printSchema()"
   ]
  },
  {
   "cell_type": "code",
   "execution_count": 0,
   "metadata": {
    "application/vnd.databricks.v1+cell": {
     "inputWidgets": {},
     "nuid": "d53f39b1-9f9a-4959-99d4-ed48eefa789f",
     "showTitle": false,
     "title": ""
    }
   },
   "outputs": [
    {
     "data": {
      "text/html": [
       "<style scoped>\n",
       "  .ansiout {\n",
       "    display: block;\n",
       "    unicode-bidi: embed;\n",
       "    white-space: pre-wrap;\n",
       "    word-wrap: break-word;\n",
       "    word-break: break-all;\n",
       "    font-family: \"Source Code Pro\", \"Menlo\", monospace;;\n",
       "    font-size: 13px;\n",
       "    color: #555;\n",
       "    margin-left: 4px;\n",
       "    line-height: 19px;\n",
       "  }\n",
       "</style>\n",
       "<div class=\"ansiout\"></div>"
      ]
     },
     "metadata": {
      "application/vnd.databricks.v1+output": {
       "addedWidgets": {},
       "arguments": {},
       "data": "<div class=\"ansiout\"></div>",
       "datasetInfos": [
        {
         "name": "divisBy2",
         "schema": {
          "fields": [
           {
            "metadata": {},
            "name": "number",
            "nullable": false,
            "type": "long"
           }
          ],
          "type": "struct"
         },
         "tableIdentifier": null,
         "typeStr": "pyspark.sql.dataframe.DataFrame"
        }
       ],
       "metadata": {},
       "removedWidgets": [],
       "type": "html"
      }
     },
     "output_type": "display_data"
    }
   ],
   "source": [
    "divisBy2 = myrange.where(\"number % 2 = 0\")"
   ]
  },
  {
   "cell_type": "code",
   "execution_count": 0,
   "metadata": {
    "application/vnd.databricks.v1+cell": {
     "inputWidgets": {},
     "nuid": "ead02105-c699-4d42-a7ed-9ea43291fc56",
     "showTitle": false,
     "title": ""
    }
   },
   "outputs": [
    {
     "data": {
      "text/html": [
       "<style scoped>\n",
       "  .ansiout {\n",
       "    display: block;\n",
       "    unicode-bidi: embed;\n",
       "    white-space: pre-wrap;\n",
       "    word-wrap: break-word;\n",
       "    word-break: break-all;\n",
       "    font-family: \"Source Code Pro\", \"Menlo\", monospace;;\n",
       "    font-size: 13px;\n",
       "    color: #555;\n",
       "    margin-left: 4px;\n",
       "    line-height: 19px;\n",
       "  }\n",
       "</style>\n",
       "<div class=\"ansiout\">Out[6]: 500</div>"
      ]
     },
     "metadata": {
      "application/vnd.databricks.v1+output": {
       "addedWidgets": {},
       "arguments": {},
       "data": "<div class=\"ansiout\">Out[6]: 500</div>",
       "datasetInfos": [],
       "metadata": {},
       "removedWidgets": [],
       "type": "html"
      }
     },
     "output_type": "display_data"
    }
   ],
   "source": [
    "divisBy2.count()"
   ]
  },
  {
   "cell_type": "markdown",
   "metadata": {
    "application/vnd.databricks.v1+cell": {
     "inputWidgets": {},
     "nuid": "817e67b0-d493-4c90-ae56-35b51dc366d5",
     "showTitle": false,
     "title": ""
    }
   },
   "source": [
    "* This dbc file is created based on my understanding from ADB training and SPARK definitive guide from Databricks\n",
    "* All the data that will be used as part of this can be downloaded from \"https://github.com/databricks/Spark-The-Definitive-Guide\""
   ]
  },
  {
   "cell_type": "code",
   "execution_count": 0,
   "metadata": {
    "application/vnd.databricks.v1+cell": {
     "inputWidgets": {},
     "nuid": "db8ef6e1-ee49-4fd5-a46a-15563dcccf32",
     "showTitle": false,
     "title": ""
    }
   },
   "outputs": [
    {
     "data": {
      "text/html": [
       "<style scoped>\n",
       "  .table-result-container {\n",
       "    max-height: 300px;\n",
       "    overflow: auto;\n",
       "  }\n",
       "  table, th, td {\n",
       "    border: 1px solid black;\n",
       "    border-collapse: collapse;\n",
       "  }\n",
       "  th, td {\n",
       "    padding: 5px;\n",
       "  }\n",
       "  th {\n",
       "    text-align: left;\n",
       "  }\n",
       "</style><div class='table-result-container'><table class='table-result'><thead style='background-color: white'><tr><th>path</th><th>name</th><th>size</th></tr></thead><tbody><tr><td>dbfs:/FileStore/tables/FileStore/tables/2015_summary-ebaee.csv</td><td>2015_summary-ebaee.csv</td><td>7080</td></tr></tbody></table></div>"
      ]
     },
     "metadata": {
      "application/vnd.databricks.v1+output": {
       "addedWidgets": {},
       "aggData": [],
       "aggError": "",
       "aggOverflow": false,
       "aggSchema": [],
       "aggSeriesLimitReached": false,
       "aggType": "",
       "arguments": {},
       "columnCustomDisplayInfos": {},
       "data": [
        [
         "dbfs:/FileStore/tables/FileStore/tables/2015_summary-ebaee.csv",
         "2015_summary-ebaee.csv",
         7080
        ]
       ],
       "datasetInfos": [],
       "dbfsResultPath": null,
       "isJsonSchema": true,
       "metadata": {},
       "overflow": false,
       "plotOptions": {
        "customPlotOptions": {},
        "displayType": "table",
        "pivotAggregation": null,
        "pivotColumns": null,
        "xColumns": null,
        "yColumns": null
       },
       "removedWidgets": [],
       "schema": [
        {
         "metadata": "{}",
         "name": "path",
         "type": "\"string\""
        },
        {
         "metadata": "{}",
         "name": "name",
         "type": "\"string\""
        },
        {
         "metadata": "{}",
         "name": "size",
         "type": "\"long\""
        }
       ],
       "type": "table"
      }
     },
     "output_type": "display_data"
    }
   ],
   "source": [
    "%fs ls /FileStore/tables/FileStore/tables"
   ]
  },
  {
   "cell_type": "code",
   "execution_count": 0,
   "metadata": {
    "application/vnd.databricks.v1+cell": {
     "inputWidgets": {},
     "nuid": "4a2f114c-1836-49a5-9196-1571850f9a65",
     "showTitle": false,
     "title": ""
    }
   },
   "outputs": [
    {
     "data": {
      "text/html": [
       "<style scoped>\n",
       "  .ansiout {\n",
       "    display: block;\n",
       "    unicode-bidi: embed;\n",
       "    white-space: pre-wrap;\n",
       "    word-wrap: break-word;\n",
       "    word-break: break-all;\n",
       "    font-family: \"Source Code Pro\", \"Menlo\", monospace;;\n",
       "    font-size: 13px;\n",
       "    color: #555;\n",
       "    margin-left: 4px;\n",
       "    line-height: 19px;\n",
       "  }\n",
       "</style>\n",
       "<div class=\"ansiout\">DEST_COUNTRY_NAME,ORIGIN_COUNTRY_NAME,count\n",
       "United States,Romania,15\n",
       "United States,Croatia,1\n",
       "United States,Ireland,344\n",
       "Egypt,United States,15\n",
       "United States,India,62\n",
       "United States,Singapore,1\n",
       "United States,Grenada,62\n",
       "Costa Rica,United States,588\n",
       "Senegal,United States,40\n",
       "Moldova,United States,1\n",
       "United States,Sint Maarten,325\n",
       "United States,Marshall Islands,39\n",
       "Guyana,United States,64\n",
       "Malta,United States,1\n",
       "Anguilla,United States,41\n",
       "Bolivia,United States,30\n",
       "United States,Paraguay,6\n",
       "Algeria,United States,4\n",
       "Turks and Caicos Islands,United States,230\n",
       "United States,Gibraltar,1\n",
       "Saint Vincent and the Grenadines,United States,1\n",
       "Italy,United States,382\n",
       "United States,Federated States of Micronesia,69\n",
       "United States,Russia,161\n",
       "Pakistan,United States,12\n",
       "United States,Netherlands,660\n",
       "Iceland,United States,181\n",
       "Marshall Islands,United States,42\n",
       "Luxembourg,United States,155\n",
       "Honduras,United States,362\n",
       "The Bahamas,United States,955\n",
       "United States,Senegal,42\n",
       "El Salvador,United States,561\n",
       "Samoa,United States,25\n",
       "United States,Angola,13\n",
       "Switzerland,United States,294\n",
       "United States,Anguilla,38\n",
       "Sint Maarten,United States,325\n",
       "Hong Kong,United States,332\n",
       "Trinidad and Tobago,United States,211\n",
       "Latvia,United States,19\n",
       "United States,Ecuador,300\n",
       "Suriname,United States,1\n",
       "Mexico,United States,7140\n",
       "United States,Cyprus,1\n",
       "Ecuador,United States,268\n",
       "United States,Portugal,134\n",
       "United States,Costa Rica,608\n",
       "United States,Guatemala,318\n",
       "United States,Suriname,34\n",
       "Colombia,United States,873\n",
       "United States,Cape Verde,14\n",
       "United States,Jamaica,712\n",
       "Norway,United States,121\n",
       "United States,Malaysia,3\n",
       "United States,Morocco,19\n",
       "Thailand,United States,3\n",
       "United States,Samoa,25\n",
       "Venezuela,United States,290\n",
       "United States,Palau,31\n",
       "United States,Venezuela,246\n",
       "Panama,United States,510\n",
       "Antigua and Barbuda,United States,126\n",
       "United States,Chile,185\n",
       "Morocco,United States,15\n",
       "United States,Finland,28\n",
       "Azerbaijan,United States,21\n",
       "United States,Greece,23\n",
       "United States,The Bahamas,986\n",
       "New Zealand,United States,111\n",
       "Liberia,United States,2\n",
       "United States,Hong Kong,414\n",
       "Hungary,United States,2\n",
       "United States,China,920\n",
       "United States,Vietnam,2\n",
       "Burkina Faso,United States,1\n",
       "Sweden,United States,118\n",
       "United States,Kuwait,28\n",
       "United States,Dominican Republic,1420\n",
       "United States,Egypt,12\n",
       "Israel,United States,134\n",
       "United States,United States,370002\n",
       "Ethiopia,United States,13\n",
       "United States,Luxembourg,134\n",
       "United States,Poland,33\n",
       "Martinique,United States,44\n",
       "United States,Saint Barthelemy,41\n",
       "Saint Barthelemy,United States,39\n",
       "Barbados,United States,154\n",
       "United States,Turkey,129\n",
       "Djibouti,United States,1\n",
       "United States,Azerbaijan,21\n",
       "United States,Estonia,1\n",
       "Germany,United States,1468\n",
       "United States,South Korea,827\n",
       "United States,El Salvador,508\n",
       "Ireland,United States,335\n",
       "United States,Hungary,3\n",
       "Zambia,United States,1\n",
       "Malaysia,United States,2\n",
       "United States,Ethiopia,12\n",
       "United States,Panama,465\n",
       "United States,Aruba,342\n",
       "United States,Thailand,4\n",
       "United States,Turks and Caicos Islands,236\n",
       "Croatia,United States,2\n",
       "United States,Pakistan,12\n",
       "Cyprus,United States,1\n",
       "United States,Honduras,407\n",
       "Fiji,United States,24\n",
       "Qatar,United States,108\n",
       "Saint Kitts and Nevis,United States,139\n",
       "Kuwait,United States,32\n",
       "Taiwan,United States,266\n",
       "Haiti,United States,226\n",
       "Canada,United States,8399\n",
       "Federated States of Micronesia,United States,69\n",
       "United States,Liberia,2\n",
       "Jamaica,United States,666\n",
       "United States,Malta,2\n",
       "Dominican Republic,United States,1353\n",
       "Japan,United States,1548\n",
       "United States,Lithuania,1\n",
       "Finland,United States,26\n",
       "United States,Guadeloupe,59\n",
       "United States,Ukraine,13\n",
       "United States,France,952\n",
       "United States,Norway,115\n",
       "Aruba,United States,346\n",
       "French Guiana,United States,5\n",
       "United States,Kiribati,35\n",
       "India,United States,61\n",
       "British Virgin Islands,United States,107\n",
       "Brazil,United States,853\n",
       "United States,Germany,1336\n",
       "United States,New Zealand,74\n",
       "French Polynesia,United States,43\n",
       "United Arab Emirates,United States,320\n",
       "Singapore,United States,3\n",
       "United States,Mexico,7187\n",
       "United States,Sweden,119\n",
       "Netherlands,United States,776\n",
       "United States,Martinique,43\n",
       "United States,United Arab Emirates,313\n",
       "United States,Bulgaria,1\n",
       "Denmark,United States,153\n",
       "China,United States,772\n",
       "United States,Nicaragua,201\n",
       "United States,Philippines,126\n",
       "United States,Georgia,1\n",
       "United States,Belgium,228\n",
       "Cayman Islands,United States,314\n",
       "Argentina,United States,180\n",
       "Peru,United States,279\n",
       "South Africa,United States,36\n",
       "United States,Iceland,202\n",
       "United States,Argentina,141\n",
       "Spain,United States,420\n",
       "Bermuda,United States,183\n",
       "United States,Nigeria,50\n",
       "United States,Austria,63\n",
       "United States,&quot;Bonaire, Sint Eustatius, and Saba&quot;,59\n",
       "Kiribati,United States,26\n",
       "Saudi Arabia,United States,83\n",
       "Czech Republic,United States,13\n",
       "United States,Israel,127\n",
       "Belgium,United States,259\n",
       "United States,Saint Lucia,136\n",
       "United States,Bahrain,1\n",
       "United States,British Virgin Islands,80\n",
       "Curacao,United States,90\n",
       "Georgia,United States,2\n",
       "United States,Denmark,152\n",
       "United States,Guyana,63\n",
       "Philippines,United States,134\n",
       "Grenada,United States,53\n",
       "Cape Verde,United States,20\n",
       "Cote d'Ivoire,United States,1\n",
       "Ukraine,United States,14\n",
       "United States,Papua New Guinea,1\n",
       "Russia,United States,176\n",
       "United States,Saudi Arabia,70\n",
       "Guatemala,United States,397\n",
       "Saint Lucia,United States,123\n",
       "Paraguay,United States,60\n",
       "United States,Curacao,83\n",
       "Kosovo,United States,1\n",
       "United States,Taiwan,235\n",
       "Tunisia,United States,3\n",
       "United States,South Africa,40\n",
       "Niger,United States,2\n",
       "Turkey,United States,138\n",
       "United Kingdom,United States,2025\n",
       "Romania,United States,14\n",
       "United States,Greenland,4\n",
       "Papua New Guinea,United States,3\n",
       "United States,Spain,442\n",
       "Iraq,United States,1\n",
       "United States,Italy,438\n",
       "Cuba,United States,466\n",
       "United States,Switzerland,305\n",
       "Dominica,United States,20\n",
       "United States,Japan,1496\n",
       "Portugal,United States,127\n",
       "United States,Brazil,619\n",
       "Bahrain,United States,19\n",
       "United States,Peru,337\n",
       "Indonesia,United States,1\n",
       "United States,Belize,193\n",
       "United States,United Kingdom,1970\n",
       "Belize,United States,188\n",
       "United States,Ghana,20\n",
       "United States,Indonesia,2\n",
       "United States,Fiji,25\n",
       "United States,Canada,8483\n",
       "United States,Antigua and Barbuda,117\n",
       "United States,French Polynesia,40\n",
       "Nicaragua,United States,179\n",
       "United States,Latvia,15\n",
       "United States,Dominica,27\n",
       "United States,Czech Republic,12\n",
       "United States,Australia,258\n",
       "United States,Cook Islands,13\n",
       "Austria,United States,62\n",
       "Jordan,United States,44\n",
       "Palau,United States,30\n",
       "South Korea,United States,1048\n",
       "Angola,United States,15\n",
       "Ghana,United States,18\n",
       "New Caledonia,United States,1\n",
       "Guadeloupe,United States,56\n",
       "France,United States,935\n",
       "Poland,United States,32\n",
       "Nigeria,United States,59\n",
       "United States,Uruguay,13\n",
       "Greenland,United States,2\n",
       "United States,Bermuda,193\n",
       "Chile,United States,174\n",
       "United States,Cuba,478\n",
       "United States,Montenegro,1\n",
       "United States,Colombia,867\n",
       "United States,Barbados,130\n",
       "United States,Qatar,109\n",
       "Australia,United States,329\n",
       "United States,Cayman Islands,310\n",
       "United States,Jordan,44\n",
       "United States,Namibia,1\n",
       "United States,Trinidad and Tobago,217\n",
       "United States,Bolivia,13\n",
       "Cook Islands,United States,13\n",
       "Bulgaria,United States,3\n",
       "United States,Saint Kitts and Nevis,145\n",
       "Uruguay,United States,43\n",
       "United States,Haiti,225\n",
       "&quot;Bonaire, Sint Eustatius, and Saba&quot;,United States,58\n",
       "Greece,United States,30\n",
       "\n",
       "</div>"
      ]
     },
     "metadata": {
      "application/vnd.databricks.v1+output": {
       "addedWidgets": {},
       "arguments": {},
       "data": "<div class=\"ansiout\">DEST_COUNTRY_NAME,ORIGIN_COUNTRY_NAME,count\nUnited States,Romania,15\nUnited States,Croatia,1\nUnited States,Ireland,344\nEgypt,United States,15\nUnited States,India,62\nUnited States,Singapore,1\nUnited States,Grenada,62\nCosta Rica,United States,588\nSenegal,United States,40\nMoldova,United States,1\nUnited States,Sint Maarten,325\nUnited States,Marshall Islands,39\nGuyana,United States,64\nMalta,United States,1\nAnguilla,United States,41\nBolivia,United States,30\nUnited States,Paraguay,6\nAlgeria,United States,4\nTurks and Caicos Islands,United States,230\nUnited States,Gibraltar,1\nSaint Vincent and the Grenadines,United States,1\nItaly,United States,382\nUnited States,Federated States of Micronesia,69\nUnited States,Russia,161\nPakistan,United States,12\nUnited States,Netherlands,660\nIceland,United States,181\nMarshall Islands,United States,42\nLuxembourg,United States,155\nHonduras,United States,362\nThe Bahamas,United States,955\nUnited States,Senegal,42\nEl Salvador,United States,561\nSamoa,United States,25\nUnited States,Angola,13\nSwitzerland,United States,294\nUnited States,Anguilla,38\nSint Maarten,United States,325\nHong Kong,United States,332\nTrinidad and Tobago,United States,211\nLatvia,United States,19\nUnited States,Ecuador,300\nSuriname,United States,1\nMexico,United States,7140\nUnited States,Cyprus,1\nEcuador,United States,268\nUnited States,Portugal,134\nUnited States,Costa Rica,608\nUnited States,Guatemala,318\nUnited States,Suriname,34\nColombia,United States,873\nUnited States,Cape Verde,14\nUnited States,Jamaica,712\nNorway,United States,121\nUnited States,Malaysia,3\nUnited States,Morocco,19\nThailand,United States,3\nUnited States,Samoa,25\nVenezuela,United States,290\nUnited States,Palau,31\nUnited States,Venezuela,246\nPanama,United States,510\nAntigua and Barbuda,United States,126\nUnited States,Chile,185\nMorocco,United States,15\nUnited States,Finland,28\nAzerbaijan,United States,21\nUnited States,Greece,23\nUnited States,The Bahamas,986\nNew Zealand,United States,111\nLiberia,United States,2\nUnited States,Hong Kong,414\nHungary,United States,2\nUnited States,China,920\nUnited States,Vietnam,2\nBurkina Faso,United States,1\nSweden,United States,118\nUnited States,Kuwait,28\nUnited States,Dominican Republic,1420\nUnited States,Egypt,12\nIsrael,United States,134\nUnited States,United States,370002\nEthiopia,United States,13\nUnited States,Luxembourg,134\nUnited States,Poland,33\nMartinique,United States,44\nUnited States,Saint Barthelemy,41\nSaint Barthelemy,United States,39\nBarbados,United States,154\nUnited States,Turkey,129\nDjibouti,United States,1\nUnited States,Azerbaijan,21\nUnited States,Estonia,1\nGermany,United States,1468\nUnited States,South Korea,827\nUnited States,El Salvador,508\nIreland,United States,335\nUnited States,Hungary,3\nZambia,United States,1\nMalaysia,United States,2\nUnited States,Ethiopia,12\nUnited States,Panama,465\nUnited States,Aruba,342\nUnited States,Thailand,4\nUnited States,Turks and Caicos Islands,236\nCroatia,United States,2\nUnited States,Pakistan,12\nCyprus,United States,1\nUnited States,Honduras,407\nFiji,United States,24\nQatar,United States,108\nSaint Kitts and Nevis,United States,139\nKuwait,United States,32\nTaiwan,United States,266\nHaiti,United States,226\nCanada,United States,8399\nFederated States of Micronesia,United States,69\nUnited States,Liberia,2\nJamaica,United States,666\nUnited States,Malta,2\nDominican Republic,United States,1353\nJapan,United States,1548\nUnited States,Lithuania,1\nFinland,United States,26\nUnited States,Guadeloupe,59\nUnited States,Ukraine,13\nUnited States,France,952\nUnited States,Norway,115\nAruba,United States,346\nFrench Guiana,United States,5\nUnited States,Kiribati,35\nIndia,United States,61\nBritish Virgin Islands,United States,107\nBrazil,United States,853\nUnited States,Germany,1336\nUnited States,New Zealand,74\nFrench Polynesia,United States,43\nUnited Arab Emirates,United States,320\nSingapore,United States,3\nUnited States,Mexico,7187\nUnited States,Sweden,119\nNetherlands,United States,776\nUnited States,Martinique,43\nUnited States,United Arab Emirates,313\nUnited States,Bulgaria,1\nDenmark,United States,153\nChina,United States,772\nUnited States,Nicaragua,201\nUnited States,Philippines,126\nUnited States,Georgia,1\nUnited States,Belgium,228\nCayman Islands,United States,314\nArgentina,United States,180\nPeru,United States,279\nSouth Africa,United States,36\nUnited States,Iceland,202\nUnited States,Argentina,141\nSpain,United States,420\nBermuda,United States,183\nUnited States,Nigeria,50\nUnited States,Austria,63\nUnited States,&quot;Bonaire, Sint Eustatius, and Saba&quot;,59\nKiribati,United States,26\nSaudi Arabia,United States,83\nCzech Republic,United States,13\nUnited States,Israel,127\nBelgium,United States,259\nUnited States,Saint Lucia,136\nUnited States,Bahrain,1\nUnited States,British Virgin Islands,80\nCuracao,United States,90\nGeorgia,United States,2\nUnited States,Denmark,152\nUnited States,Guyana,63\nPhilippines,United States,134\nGrenada,United States,53\nCape Verde,United States,20\nCote d'Ivoire,United States,1\nUkraine,United States,14\nUnited States,Papua New Guinea,1\nRussia,United States,176\nUnited States,Saudi Arabia,70\nGuatemala,United States,397\nSaint Lucia,United States,123\nParaguay,United States,60\nUnited States,Curacao,83\nKosovo,United States,1\nUnited States,Taiwan,235\nTunisia,United States,3\nUnited States,South Africa,40\nNiger,United States,2\nTurkey,United States,138\nUnited Kingdom,United States,2025\nRomania,United States,14\nUnited States,Greenland,4\nPapua New Guinea,United States,3\nUnited States,Spain,442\nIraq,United States,1\nUnited States,Italy,438\nCuba,United States,466\nUnited States,Switzerland,305\nDominica,United States,20\nUnited States,Japan,1496\nPortugal,United States,127\nUnited States,Brazil,619\nBahrain,United States,19\nUnited States,Peru,337\nIndonesia,United States,1\nUnited States,Belize,193\nUnited States,United Kingdom,1970\nBelize,United States,188\nUnited States,Ghana,20\nUnited States,Indonesia,2\nUnited States,Fiji,25\nUnited States,Canada,8483\nUnited States,Antigua and Barbuda,117\nUnited States,French Polynesia,40\nNicaragua,United States,179\nUnited States,Latvia,15\nUnited States,Dominica,27\nUnited States,Czech Republic,12\nUnited States,Australia,258\nUnited States,Cook Islands,13\nAustria,United States,62\nJordan,United States,44\nPalau,United States,30\nSouth Korea,United States,1048\nAngola,United States,15\nGhana,United States,18\nNew Caledonia,United States,1\nGuadeloupe,United States,56\nFrance,United States,935\nPoland,United States,32\nNigeria,United States,59\nUnited States,Uruguay,13\nGreenland,United States,2\nUnited States,Bermuda,193\nChile,United States,174\nUnited States,Cuba,478\nUnited States,Montenegro,1\nUnited States,Colombia,867\nUnited States,Barbados,130\nUnited States,Qatar,109\nAustralia,United States,329\nUnited States,Cayman Islands,310\nUnited States,Jordan,44\nUnited States,Namibia,1\nUnited States,Trinidad and Tobago,217\nUnited States,Bolivia,13\nCook Islands,United States,13\nBulgaria,United States,3\nUnited States,Saint Kitts and Nevis,145\nUruguay,United States,43\nUnited States,Haiti,225\n&quot;Bonaire, Sint Eustatius, and Saba&quot;,United States,58\nGreece,United States,30\n\n</div>",
       "datasetInfos": [],
       "metadata": {},
       "removedWidgets": [],
       "type": "html"
      }
     },
     "output_type": "display_data"
    }
   ],
   "source": [
    "%fs head /FileStore/tables/FileStore/tables/2015_summary-ebaee.csv"
   ]
  },
  {
   "cell_type": "code",
   "execution_count": 0,
   "metadata": {
    "application/vnd.databricks.v1+cell": {
     "inputWidgets": {},
     "nuid": "0e13040b-7d8c-4490-8da8-9cb333da1f2b",
     "showTitle": false,
     "title": ""
    }
   },
   "outputs": [],
   "source": [
    "import pandas as pd\n",
    "my_df = pd.read_csv('https://raw.githubusercontent.com/databricks/Spark-The-Definitive-Guide/master/data/flight-data/csv/2015-summary.csv')\n",
    "flightData2015 = spark.createDataFrame(my_df)"
   ]
  },
  {
   "cell_type": "code",
   "execution_count": 0,
   "metadata": {
    "application/vnd.databricks.v1+cell": {
     "inputWidgets": {},
     "nuid": "c70b56d3-5f2c-420d-a910-a0359ffc4f8a",
     "showTitle": false,
     "title": ""
    }
   },
   "outputs": [
    {
     "data": {
      "text/plain": [
       "Out[3]: [Row(DEST_COUNTRY_NAME='United States', ORIGIN_COUNTRY_NAME='Romania', count=15),\n",
       " Row(DEST_COUNTRY_NAME='United States', ORIGIN_COUNTRY_NAME='Croatia', count=1),\n",
       " Row(DEST_COUNTRY_NAME='United States', ORIGIN_COUNTRY_NAME='Ireland', count=344)]"
      ]
     },
     "metadata": {
      "application/vnd.databricks.v1+output": {
       "addedWidgets": {},
       "arguments": {},
       "data": "Out[3]: [Row(DEST_COUNTRY_NAME='United States', ORIGIN_COUNTRY_NAME='Romania', count=15),\n Row(DEST_COUNTRY_NAME='United States', ORIGIN_COUNTRY_NAME='Croatia', count=1),\n Row(DEST_COUNTRY_NAME='United States', ORIGIN_COUNTRY_NAME='Ireland', count=344)]",
       "datasetInfos": [],
       "metadata": {},
       "removedWidgets": [],
       "type": "ansi"
      }
     },
     "output_type": "display_data"
    }
   ],
   "source": [
    "flightData2015.take(3)"
   ]
  },
  {
   "cell_type": "code",
   "execution_count": 0,
   "metadata": {
    "application/vnd.databricks.v1+cell": {
     "inputWidgets": {},
     "nuid": "6901c59a-ee1d-45c1-b3e1-fc8e073edfc8",
     "showTitle": false,
     "title": ""
    }
   },
   "outputs": [
    {
     "data": {
      "text/plain": [
       "+-----------------+-------------------+-----+\n",
       "|DEST_COUNTRY_NAME|ORIGIN_COUNTRY_NAME|count|\n",
       "+-----------------+-------------------+-----+\n",
       "|    United States|            Romania|   15|\n",
       "|    United States|            Croatia|    1|\n",
       "|    United States|            Ireland|  344|\n",
       "+-----------------+-------------------+-----+\n",
       "only showing top 3 rows\n",
       "\n"
      ]
     },
     "metadata": {
      "application/vnd.databricks.v1+output": {
       "addedWidgets": {},
       "arguments": {},
       "data": "+-----------------+-------------------+-----+\n|DEST_COUNTRY_NAME|ORIGIN_COUNTRY_NAME|count|\n+-----------------+-------------------+-----+\n|    United States|            Romania|   15|\n|    United States|            Croatia|    1|\n|    United States|            Ireland|  344|\n+-----------------+-------------------+-----+\nonly showing top 3 rows\n\n",
       "datasetInfos": [],
       "metadata": {},
       "removedWidgets": [],
       "type": "ansi"
      }
     },
     "output_type": "display_data"
    }
   ],
   "source": [
    "flightData2015.show(3)"
   ]
  },
  {
   "cell_type": "code",
   "execution_count": 0,
   "metadata": {
    "application/vnd.databricks.v1+cell": {
     "inputWidgets": {},
     "nuid": "967ba174-d000-46fa-bd7f-554e692ec2fd",
     "showTitle": false,
     "title": ""
    }
   },
   "outputs": [
    {
     "data": {
      "text/plain": [
       "root\n",
       " |-- DEST_COUNTRY_NAME: string (nullable = true)\n",
       " |-- ORIGIN_COUNTRY_NAME: string (nullable = true)\n",
       " |-- count: long (nullable = true)\n",
       "\n"
      ]
     },
     "metadata": {
      "application/vnd.databricks.v1+output": {
       "addedWidgets": {},
       "arguments": {},
       "data": "root\n |-- DEST_COUNTRY_NAME: string (nullable = true)\n |-- ORIGIN_COUNTRY_NAME: string (nullable = true)\n |-- count: long (nullable = true)\n\n",
       "datasetInfos": [],
       "metadata": {},
       "removedWidgets": [],
       "type": "ansi"
      }
     },
     "output_type": "display_data"
    }
   ],
   "source": [
    "flightData2015.printSchema()"
   ]
  },
  {
   "cell_type": "code",
   "execution_count": 0,
   "metadata": {
    "application/vnd.databricks.v1+cell": {
     "inputWidgets": {},
     "nuid": "7a6e39ea-61ec-4cb4-879b-42785cf9068f",
     "showTitle": false,
     "title": ""
    }
   },
   "outputs": [
    {
     "data": {
      "text/plain": [
       "== Physical Plan ==\n",
       "AdaptiveSparkPlan isFinalPlan=false\n",
       "+- Sort [count#30L ASC NULLS FIRST], true, 0\n",
       "   +- Exchange rangepartitioning(count#30L ASC NULLS FIRST, 200), ENSURE_REQUIREMENTS, [id=#65]\n",
       "      +- Scan ExistingRDD arrow[DEST_COUNTRY_NAME#28,ORIGIN_COUNTRY_NAME#29,count#30L]\n",
       "\n",
       "\n"
      ]
     },
     "metadata": {
      "application/vnd.databricks.v1+output": {
       "addedWidgets": {},
       "arguments": {},
       "data": "== Physical Plan ==\nAdaptiveSparkPlan isFinalPlan=false\n+- Sort [count#30L ASC NULLS FIRST], true, 0\n   +- Exchange rangepartitioning(count#30L ASC NULLS FIRST, 200), ENSURE_REQUIREMENTS, [id=#65]\n      +- Scan ExistingRDD arrow[DEST_COUNTRY_NAME#28,ORIGIN_COUNTRY_NAME#29,count#30L]\n\n\n",
       "datasetInfos": [],
       "metadata": {},
       "removedWidgets": [],
       "type": "ansi"
      }
     },
     "output_type": "display_data"
    }
   ],
   "source": [
    "flightData2015.sort('count').explain()"
   ]
  },
  {
   "cell_type": "code",
   "execution_count": 0,
   "metadata": {
    "application/vnd.databricks.v1+cell": {
     "inputWidgets": {},
     "nuid": "aa43bf5a-5ae3-420c-b045-d491bf2c62ae",
     "showTitle": false,
     "title": ""
    }
   },
   "outputs": [
    {
     "data": {
      "text/plain": [
       "Out[7]: '200'"
      ]
     },
     "metadata": {
      "application/vnd.databricks.v1+output": {
       "addedWidgets": {},
       "arguments": {},
       "data": "Out[7]: '200'",
       "datasetInfos": [],
       "metadata": {},
       "removedWidgets": [],
       "type": "ansi"
      }
     },
     "output_type": "display_data"
    }
   ],
   "source": [
    "spark.conf.get('spark.sql.shuffle.partitions')"
   ]
  },
  {
   "cell_type": "code",
   "execution_count": 0,
   "metadata": {
    "application/vnd.databricks.v1+cell": {
     "inputWidgets": {},
     "nuid": "f0114ee9-9d47-4b45-8336-a6d2b2a1cdb0",
     "showTitle": false,
     "title": ""
    }
   },
   "outputs": [],
   "source": [
    "spark.conf.set('spark.sql.shuffle.partitions',\"5\")"
   ]
  },
  {
   "cell_type": "code",
   "execution_count": 0,
   "metadata": {
    "application/vnd.databricks.v1+cell": {
     "inputWidgets": {},
     "nuid": "5c1e1d51-a989-4dec-bdd3-4de373add45e",
     "showTitle": false,
     "title": ""
    }
   },
   "outputs": [
    {
     "data": {
      "text/plain": [
       "+--------------------+-------------------+-----+\n",
       "|   DEST_COUNTRY_NAME|ORIGIN_COUNTRY_NAME|count|\n",
       "+--------------------+-------------------+-----+\n",
       "|              Cyprus|      United States|    1|\n",
       "|       United States|         Montenegro|    1|\n",
       "|       United States|          Lithuania|    1|\n",
       "|       United States|             Cyprus|    1|\n",
       "|       United States|            Namibia|    1|\n",
       "|       United States|          Singapore|    1|\n",
       "|       New Caledonia|      United States|    1|\n",
       "|       United States|           Bulgaria|    1|\n",
       "|            Djibouti|      United States|    1|\n",
       "|            Suriname|      United States|    1|\n",
       "|Saint Vincent and...|      United States|    1|\n",
       "|                Iraq|      United States|    1|\n",
       "|               Malta|      United States|    1|\n",
       "|        Burkina Faso|      United States|    1|\n",
       "|             Moldova|      United States|    1|\n",
       "|           Indonesia|      United States|    1|\n",
       "|       United States|            Croatia|    1|\n",
       "|       United States|            Estonia|    1|\n",
       "|       United States|          Gibraltar|    1|\n",
       "|       United States|            Georgia|    1|\n",
       "+--------------------+-------------------+-----+\n",
       "only showing top 20 rows\n",
       "\n"
      ]
     },
     "metadata": {
      "application/vnd.databricks.v1+output": {
       "addedWidgets": {},
       "arguments": {},
       "data": "+--------------------+-------------------+-----+\n|   DEST_COUNTRY_NAME|ORIGIN_COUNTRY_NAME|count|\n+--------------------+-------------------+-----+\n|              Cyprus|      United States|    1|\n|       United States|         Montenegro|    1|\n|       United States|          Lithuania|    1|\n|       United States|             Cyprus|    1|\n|       United States|            Namibia|    1|\n|       United States|          Singapore|    1|\n|       New Caledonia|      United States|    1|\n|       United States|           Bulgaria|    1|\n|            Djibouti|      United States|    1|\n|            Suriname|      United States|    1|\n|Saint Vincent and...|      United States|    1|\n|                Iraq|      United States|    1|\n|               Malta|      United States|    1|\n|        Burkina Faso|      United States|    1|\n|             Moldova|      United States|    1|\n|           Indonesia|      United States|    1|\n|       United States|            Croatia|    1|\n|       United States|            Estonia|    1|\n|       United States|          Gibraltar|    1|\n|       United States|            Georgia|    1|\n+--------------------+-------------------+-----+\nonly showing top 20 rows\n\n",
       "datasetInfos": [],
       "metadata": {},
       "removedWidgets": [],
       "type": "ansi"
      }
     },
     "output_type": "display_data"
    }
   ],
   "source": [
    "flightData2015.sort('count').show()"
   ]
  },
  {
   "cell_type": "code",
   "execution_count": 0,
   "metadata": {
    "application/vnd.databricks.v1+cell": {
     "inputWidgets": {},
     "nuid": "0c2bf5cb-71c2-4687-b0f1-6b532f364046",
     "showTitle": false,
     "title": ""
    }
   },
   "outputs": [
    {
     "data": {
      "text/plain": [
       "Out[10]: [Row(DEST_COUNTRY_NAME='Iraq', ORIGIN_COUNTRY_NAME='United States', count=1),\n",
       " Row(DEST_COUNTRY_NAME='Indonesia', ORIGIN_COUNTRY_NAME='United States', count=1)]"
      ]
     },
     "metadata": {
      "application/vnd.databricks.v1+output": {
       "addedWidgets": {},
       "arguments": {},
       "data": "Out[10]: [Row(DEST_COUNTRY_NAME='Iraq', ORIGIN_COUNTRY_NAME='United States', count=1),\n Row(DEST_COUNTRY_NAME='Indonesia', ORIGIN_COUNTRY_NAME='United States', count=1)]",
       "datasetInfos": [],
       "metadata": {},
       "removedWidgets": [],
       "type": "ansi"
      }
     },
     "output_type": "display_data"
    }
   ],
   "source": [
    "flightData2015.sort('count').take(2)"
   ]
  },
  {
   "cell_type": "markdown",
   "metadata": {
    "application/vnd.databricks.v1+cell": {
     "inputWidgets": {},
     "nuid": "5a74300e-0c46-4847-bb42-fa1fa971f97c",
     "showTitle": false,
     "title": ""
    }
   },
   "source": [
    "Any dataFrame can be made into a table or view with a simple method called **createOrReplaceTempView**"
   ]
  },
  {
   "cell_type": "code",
   "execution_count": 0,
   "metadata": {
    "application/vnd.databricks.v1+cell": {
     "inputWidgets": {},
     "nuid": "c610cd75-6c5a-4b4b-b152-b93684ca880a",
     "showTitle": false,
     "title": ""
    }
   },
   "outputs": [],
   "source": [
    "flightData2015.createOrReplaceTempView(\"flight_data_2015\")"
   ]
  },
  {
   "cell_type": "markdown",
   "metadata": {
    "application/vnd.databricks.v1+cell": {
     "inputWidgets": {},
     "nuid": "785e46f0-2e6a-4f25-ab9e-42863d1580c5",
     "showTitle": false,
     "title": ""
    }
   },
   "source": [
    "To execute a SQL query, we’ll use the **spark.sql** function (remember spark is our SparkSession variable?) that conveniently, returns a new DataFrame"
   ]
  },
  {
   "cell_type": "code",
   "execution_count": 0,
   "metadata": {
    "application/vnd.databricks.v1+cell": {
     "inputWidgets": {},
     "nuid": "8e6fe920-4b1e-4e15-a6bf-13c3eb9f5c9f",
     "showTitle": false,
     "title": ""
    }
   },
   "outputs": [],
   "source": [
    "sqlWay = spark.sql(\"SELECT DEST_COUNTRY_NAME, count(1) FROM flight_data_2015 GROUP BY DEST_COUNTRY_NAME\")"
   ]
  },
  {
   "cell_type": "code",
   "execution_count": 0,
   "metadata": {
    "application/vnd.databricks.v1+cell": {
     "inputWidgets": {},
     "nuid": "48365b40-55a8-4d8f-b883-29462bbeef98",
     "showTitle": false,
     "title": ""
    }
   },
   "outputs": [],
   "source": [
    "dataFrameWay = flightData2015\\\n",
    "              .groupBy(\"DEST_COUNTRY_NAME\")\\\n",
    "              .count()"
   ]
  },
  {
   "cell_type": "markdown",
   "metadata": {
    "application/vnd.databricks.v1+cell": {
     "inputWidgets": {},
     "nuid": "5002aa19-73ac-4fb8-8b10-46e6f7ae2cf4",
     "showTitle": false,
     "title": ""
    }
   },
   "source": [
    "We can see that these plans compile to the exact same underlying plan!"
   ]
  },
  {
   "cell_type": "code",
   "execution_count": 0,
   "metadata": {
    "application/vnd.databricks.v1+cell": {
     "inputWidgets": {},
     "nuid": "c2697628-5399-4e0b-bb52-4073f23439f2",
     "showTitle": false,
     "title": ""
    }
   },
   "outputs": [
    {
     "data": {
      "text/plain": [
       "== Physical Plan ==\n",
       "AdaptiveSparkPlan isFinalPlan=false\n",
       "+- HashAggregate(keys=[DEST_COUNTRY_NAME#28], functions=[finalmerge_count(merge count#75L) AS count(1)#63L])\n",
       "   +- Exchange hashpartitioning(DEST_COUNTRY_NAME#28, 5), ENSURE_REQUIREMENTS, [id=#140]\n",
       "      +- HashAggregate(keys=[DEST_COUNTRY_NAME#28], functions=[partial_count(1) AS count#75L])\n",
       "         +- Project [DEST_COUNTRY_NAME#28]\n",
       "            +- Scan ExistingRDD arrow[DEST_COUNTRY_NAME#28,ORIGIN_COUNTRY_NAME#29,count#30L]\n",
       "\n",
       "\n",
       "== Physical Plan ==\n",
       "AdaptiveSparkPlan isFinalPlan=false\n",
       "+- HashAggregate(keys=[DEST_COUNTRY_NAME#28], functions=[finalmerge_count(merge count#81L) AS count(1)#70L])\n",
       "   +- Exchange hashpartitioning(DEST_COUNTRY_NAME#28, 5), ENSURE_REQUIREMENTS, [id=#191]\n",
       "      +- HashAggregate(keys=[DEST_COUNTRY_NAME#28], functions=[partial_count(1) AS count#81L])\n",
       "         +- Project [DEST_COUNTRY_NAME#28]\n",
       "            +- Scan ExistingRDD arrow[DEST_COUNTRY_NAME#28,ORIGIN_COUNTRY_NAME#29,count#30L]\n",
       "\n",
       "\n"
      ]
     },
     "metadata": {
      "application/vnd.databricks.v1+output": {
       "addedWidgets": {},
       "arguments": {},
       "data": "== Physical Plan ==\nAdaptiveSparkPlan isFinalPlan=false\n+- HashAggregate(keys=[DEST_COUNTRY_NAME#28], functions=[finalmerge_count(merge count#75L) AS count(1)#63L])\n   +- Exchange hashpartitioning(DEST_COUNTRY_NAME#28, 5), ENSURE_REQUIREMENTS, [id=#140]\n      +- HashAggregate(keys=[DEST_COUNTRY_NAME#28], functions=[partial_count(1) AS count#75L])\n         +- Project [DEST_COUNTRY_NAME#28]\n            +- Scan ExistingRDD arrow[DEST_COUNTRY_NAME#28,ORIGIN_COUNTRY_NAME#29,count#30L]\n\n\n== Physical Plan ==\nAdaptiveSparkPlan isFinalPlan=false\n+- HashAggregate(keys=[DEST_COUNTRY_NAME#28], functions=[finalmerge_count(merge count#81L) AS count(1)#70L])\n   +- Exchange hashpartitioning(DEST_COUNTRY_NAME#28, 5), ENSURE_REQUIREMENTS, [id=#191]\n      +- HashAggregate(keys=[DEST_COUNTRY_NAME#28], functions=[partial_count(1) AS count#81L])\n         +- Project [DEST_COUNTRY_NAME#28]\n            +- Scan ExistingRDD arrow[DEST_COUNTRY_NAME#28,ORIGIN_COUNTRY_NAME#29,count#30L]\n\n\n",
       "datasetInfos": [],
       "metadata": {},
       "removedWidgets": [],
       "type": "ansi"
      }
     },
     "output_type": "display_data"
    }
   ],
   "source": [
    "sqlWay.explain()\n",
    "dataFrameWay.explain()"
   ]
  },
  {
   "cell_type": "markdown",
   "metadata": {
    "application/vnd.databricks.v1+cell": {
     "inputWidgets": {},
     "nuid": "b6bf1389-2466-4dc9-adb2-85b7d4c0b290",
     "showTitle": false,
     "title": ""
    }
   },
   "source": [
    "use the **max function** to find out what the maximum number of flights to and from any given location"
   ]
  },
  {
   "cell_type": "code",
   "execution_count": 0,
   "metadata": {
    "application/vnd.databricks.v1+cell": {
     "inputWidgets": {},
     "nuid": "4ab2b6ab-4740-41cd-926c-d595d151212d",
     "showTitle": false,
     "title": ""
    }
   },
   "outputs": [
    {
     "data": {
      "text/plain": [
       "Out[15]: [Row(max(count)=370002)]"
      ]
     },
     "metadata": {
      "application/vnd.databricks.v1+output": {
       "addedWidgets": {},
       "arguments": {},
       "data": "Out[15]: [Row(max(count)=370002)]",
       "datasetInfos": [],
       "metadata": {},
       "removedWidgets": [],
       "type": "ansi"
      }
     },
     "output_type": "display_data"
    }
   ],
   "source": [
    "spark.sql(\"SELECT max(count) from flight_data_2015\").take(1)"
   ]
  },
  {
   "cell_type": "code",
   "execution_count": 0,
   "metadata": {
    "application/vnd.databricks.v1+cell": {
     "inputWidgets": {},
     "nuid": "1377d110-b9d8-4971-9f02-552cb74fd610",
     "showTitle": false,
     "title": ""
    }
   },
   "outputs": [
    {
     "data": {
      "text/plain": [
       "Out[16]: [Row(max(count)=370002)]"
      ]
     },
     "metadata": {
      "application/vnd.databricks.v1+output": {
       "addedWidgets": {},
       "arguments": {},
       "data": "Out[16]: [Row(max(count)=370002)]",
       "datasetInfos": [],
       "metadata": {},
       "removedWidgets": [],
       "type": "ansi"
      }
     },
     "output_type": "display_data"
    }
   ],
   "source": [
    "from pyspark.sql.functions import max\n",
    "\n",
    "flightData2015.select(max(\"count\")).take(1)"
   ]
  },
  {
   "cell_type": "code",
   "execution_count": 0,
   "metadata": {
    "application/vnd.databricks.v1+cell": {
     "inputWidgets": {},
     "nuid": "d0851d9b-1cea-496d-885c-59d9982c0aeb",
     "showTitle": false,
     "title": ""
    }
   },
   "outputs": [
    {
     "data": {
      "text/html": [
       "<style scoped>\n",
       "  .table-result-container {\n",
       "    max-height: 300px;\n",
       "    overflow: auto;\n",
       "  }\n",
       "  table, th, td {\n",
       "    border: 1px solid black;\n",
       "    border-collapse: collapse;\n",
       "  }\n",
       "  th, td {\n",
       "    padding: 5px;\n",
       "  }\n",
       "  th {\n",
       "    text-align: left;\n",
       "  }\n",
       "</style><div class='table-result-container'><table class='table-result'><thead style='background-color: white'><tr><th>DEST_COUNTRY_NAME</th><th>ORIGIN_COUNTRY_NAME</th><th>count</th></tr></thead><tbody><tr><td>United States</td><td>Romania</td><td>15</td></tr><tr><td>United States</td><td>Croatia</td><td>1</td></tr><tr><td>United States</td><td>Ireland</td><td>344</td></tr><tr><td>Egypt</td><td>United States</td><td>15</td></tr><tr><td>United States</td><td>India</td><td>62</td></tr><tr><td>United States</td><td>Singapore</td><td>1</td></tr><tr><td>United States</td><td>Grenada</td><td>62</td></tr><tr><td>Costa Rica</td><td>United States</td><td>588</td></tr><tr><td>Senegal</td><td>United States</td><td>40</td></tr><tr><td>Moldova</td><td>United States</td><td>1</td></tr><tr><td>United States</td><td>Sint Maarten</td><td>325</td></tr><tr><td>United States</td><td>Marshall Islands</td><td>39</td></tr><tr><td>Guyana</td><td>United States</td><td>64</td></tr><tr><td>Malta</td><td>United States</td><td>1</td></tr><tr><td>Anguilla</td><td>United States</td><td>41</td></tr><tr><td>Bolivia</td><td>United States</td><td>30</td></tr><tr><td>United States</td><td>Paraguay</td><td>6</td></tr><tr><td>Algeria</td><td>United States</td><td>4</td></tr><tr><td>Turks and Caicos Islands</td><td>United States</td><td>230</td></tr><tr><td>United States</td><td>Gibraltar</td><td>1</td></tr><tr><td>Saint Vincent and the Grenadines</td><td>United States</td><td>1</td></tr><tr><td>Italy</td><td>United States</td><td>382</td></tr><tr><td>United States</td><td>Federated States of Micronesia</td><td>69</td></tr><tr><td>United States</td><td>Russia</td><td>161</td></tr><tr><td>Pakistan</td><td>United States</td><td>12</td></tr><tr><td>United States</td><td>Netherlands</td><td>660</td></tr><tr><td>Iceland</td><td>United States</td><td>181</td></tr><tr><td>Marshall Islands</td><td>United States</td><td>42</td></tr><tr><td>Luxembourg</td><td>United States</td><td>155</td></tr><tr><td>Honduras</td><td>United States</td><td>362</td></tr><tr><td>The Bahamas</td><td>United States</td><td>955</td></tr><tr><td>United States</td><td>Senegal</td><td>42</td></tr><tr><td>El Salvador</td><td>United States</td><td>561</td></tr><tr><td>Samoa</td><td>United States</td><td>25</td></tr><tr><td>United States</td><td>Angola</td><td>13</td></tr><tr><td>Switzerland</td><td>United States</td><td>294</td></tr><tr><td>United States</td><td>Anguilla</td><td>38</td></tr><tr><td>Sint Maarten</td><td>United States</td><td>325</td></tr><tr><td>Hong Kong</td><td>United States</td><td>332</td></tr><tr><td>Trinidad and Tobago</td><td>United States</td><td>211</td></tr><tr><td>Latvia</td><td>United States</td><td>19</td></tr><tr><td>United States</td><td>Ecuador</td><td>300</td></tr><tr><td>Suriname</td><td>United States</td><td>1</td></tr><tr><td>Mexico</td><td>United States</td><td>7140</td></tr><tr><td>United States</td><td>Cyprus</td><td>1</td></tr><tr><td>Ecuador</td><td>United States</td><td>268</td></tr><tr><td>United States</td><td>Portugal</td><td>134</td></tr><tr><td>United States</td><td>Costa Rica</td><td>608</td></tr><tr><td>United States</td><td>Guatemala</td><td>318</td></tr><tr><td>United States</td><td>Suriname</td><td>34</td></tr><tr><td>Colombia</td><td>United States</td><td>873</td></tr><tr><td>United States</td><td>Cape Verde</td><td>14</td></tr><tr><td>United States</td><td>Jamaica</td><td>712</td></tr><tr><td>Norway</td><td>United States</td><td>121</td></tr><tr><td>United States</td><td>Malaysia</td><td>3</td></tr><tr><td>United States</td><td>Morocco</td><td>19</td></tr><tr><td>Thailand</td><td>United States</td><td>3</td></tr><tr><td>United States</td><td>Samoa</td><td>25</td></tr><tr><td>Venezuela</td><td>United States</td><td>290</td></tr><tr><td>United States</td><td>Palau</td><td>31</td></tr><tr><td>United States</td><td>Venezuela</td><td>246</td></tr><tr><td>Panama</td><td>United States</td><td>510</td></tr><tr><td>Antigua and Barbuda</td><td>United States</td><td>126</td></tr><tr><td>United States</td><td>Chile</td><td>185</td></tr><tr><td>Morocco</td><td>United States</td><td>15</td></tr><tr><td>United States</td><td>Finland</td><td>28</td></tr><tr><td>Azerbaijan</td><td>United States</td><td>21</td></tr><tr><td>United States</td><td>Greece</td><td>23</td></tr><tr><td>United States</td><td>The Bahamas</td><td>986</td></tr><tr><td>New Zealand</td><td>United States</td><td>111</td></tr><tr><td>Liberia</td><td>United States</td><td>2</td></tr><tr><td>United States</td><td>Hong Kong</td><td>414</td></tr><tr><td>Hungary</td><td>United States</td><td>2</td></tr><tr><td>United States</td><td>China</td><td>920</td></tr><tr><td>United States</td><td>Vietnam</td><td>2</td></tr><tr><td>Burkina Faso</td><td>United States</td><td>1</td></tr><tr><td>Sweden</td><td>United States</td><td>118</td></tr><tr><td>United States</td><td>Kuwait</td><td>28</td></tr><tr><td>United States</td><td>Dominican Republic</td><td>1420</td></tr><tr><td>United States</td><td>Egypt</td><td>12</td></tr><tr><td>Israel</td><td>United States</td><td>134</td></tr><tr><td>United States</td><td>United States</td><td>370002</td></tr><tr><td>Ethiopia</td><td>United States</td><td>13</td></tr><tr><td>United States</td><td>Luxembourg</td><td>134</td></tr><tr><td>United States</td><td>Poland</td><td>33</td></tr><tr><td>Martinique</td><td>United States</td><td>44</td></tr><tr><td>United States</td><td>Saint Barthelemy</td><td>41</td></tr><tr><td>Saint Barthelemy</td><td>United States</td><td>39</td></tr><tr><td>Barbados</td><td>United States</td><td>154</td></tr><tr><td>United States</td><td>Turkey</td><td>129</td></tr><tr><td>Djibouti</td><td>United States</td><td>1</td></tr><tr><td>United States</td><td>Azerbaijan</td><td>21</td></tr><tr><td>United States</td><td>Estonia</td><td>1</td></tr><tr><td>Germany</td><td>United States</td><td>1468</td></tr><tr><td>United States</td><td>South Korea</td><td>827</td></tr><tr><td>United States</td><td>El Salvador</td><td>508</td></tr><tr><td>Ireland</td><td>United States</td><td>335</td></tr><tr><td>United States</td><td>Hungary</td><td>3</td></tr><tr><td>Zambia</td><td>United States</td><td>1</td></tr><tr><td>Malaysia</td><td>United States</td><td>2</td></tr><tr><td>United States</td><td>Ethiopia</td><td>12</td></tr><tr><td>United States</td><td>Panama</td><td>465</td></tr><tr><td>United States</td><td>Aruba</td><td>342</td></tr><tr><td>United States</td><td>Thailand</td><td>4</td></tr><tr><td>United States</td><td>Turks and Caicos Islands</td><td>236</td></tr><tr><td>Croatia</td><td>United States</td><td>2</td></tr><tr><td>United States</td><td>Pakistan</td><td>12</td></tr><tr><td>Cyprus</td><td>United States</td><td>1</td></tr><tr><td>United States</td><td>Honduras</td><td>407</td></tr><tr><td>Fiji</td><td>United States</td><td>24</td></tr><tr><td>Qatar</td><td>United States</td><td>108</td></tr><tr><td>Saint Kitts and Nevis</td><td>United States</td><td>139</td></tr><tr><td>Kuwait</td><td>United States</td><td>32</td></tr><tr><td>Taiwan</td><td>United States</td><td>266</td></tr><tr><td>Haiti</td><td>United States</td><td>226</td></tr><tr><td>Canada</td><td>United States</td><td>8399</td></tr><tr><td>Federated States of Micronesia</td><td>United States</td><td>69</td></tr><tr><td>United States</td><td>Liberia</td><td>2</td></tr><tr><td>Jamaica</td><td>United States</td><td>666</td></tr><tr><td>United States</td><td>Malta</td><td>2</td></tr><tr><td>Dominican Republic</td><td>United States</td><td>1353</td></tr><tr><td>Japan</td><td>United States</td><td>1548</td></tr><tr><td>United States</td><td>Lithuania</td><td>1</td></tr><tr><td>Finland</td><td>United States</td><td>26</td></tr><tr><td>United States</td><td>Guadeloupe</td><td>59</td></tr><tr><td>United States</td><td>Ukraine</td><td>13</td></tr><tr><td>United States</td><td>France</td><td>952</td></tr><tr><td>United States</td><td>Norway</td><td>115</td></tr><tr><td>Aruba</td><td>United States</td><td>346</td></tr><tr><td>French Guiana</td><td>United States</td><td>5</td></tr><tr><td>United States</td><td>Kiribati</td><td>35</td></tr><tr><td>India</td><td>United States</td><td>61</td></tr><tr><td>British Virgin Islands</td><td>United States</td><td>107</td></tr><tr><td>Brazil</td><td>United States</td><td>853</td></tr><tr><td>United States</td><td>Germany</td><td>1336</td></tr><tr><td>United States</td><td>New Zealand</td><td>74</td></tr><tr><td>French Polynesia</td><td>United States</td><td>43</td></tr><tr><td>United Arab Emirates</td><td>United States</td><td>320</td></tr><tr><td>Singapore</td><td>United States</td><td>3</td></tr><tr><td>United States</td><td>Mexico</td><td>7187</td></tr><tr><td>United States</td><td>Sweden</td><td>119</td></tr><tr><td>Netherlands</td><td>United States</td><td>776</td></tr><tr><td>United States</td><td>Martinique</td><td>43</td></tr><tr><td>United States</td><td>United Arab Emirates</td><td>313</td></tr><tr><td>United States</td><td>Bulgaria</td><td>1</td></tr><tr><td>Denmark</td><td>United States</td><td>153</td></tr><tr><td>China</td><td>United States</td><td>772</td></tr><tr><td>United States</td><td>Nicaragua</td><td>201</td></tr><tr><td>United States</td><td>Philippines</td><td>126</td></tr><tr><td>United States</td><td>Georgia</td><td>1</td></tr><tr><td>United States</td><td>Belgium</td><td>228</td></tr><tr><td>Cayman Islands</td><td>United States</td><td>314</td></tr><tr><td>Argentina</td><td>United States</td><td>180</td></tr><tr><td>Peru</td><td>United States</td><td>279</td></tr><tr><td>South Africa</td><td>United States</td><td>36</td></tr><tr><td>United States</td><td>Iceland</td><td>202</td></tr><tr><td>United States</td><td>Argentina</td><td>141</td></tr><tr><td>Spain</td><td>United States</td><td>420</td></tr><tr><td>Bermuda</td><td>United States</td><td>183</td></tr><tr><td>United States</td><td>Nigeria</td><td>50</td></tr><tr><td>United States</td><td>Austria</td><td>63</td></tr><tr><td>United States</td><td>Bonaire, Sint Eustatius, and Saba</td><td>59</td></tr><tr><td>Kiribati</td><td>United States</td><td>26</td></tr><tr><td>Saudi Arabia</td><td>United States</td><td>83</td></tr><tr><td>Czech Republic</td><td>United States</td><td>13</td></tr><tr><td>United States</td><td>Israel</td><td>127</td></tr><tr><td>Belgium</td><td>United States</td><td>259</td></tr><tr><td>United States</td><td>Saint Lucia</td><td>136</td></tr><tr><td>United States</td><td>Bahrain</td><td>1</td></tr><tr><td>United States</td><td>British Virgin Islands</td><td>80</td></tr><tr><td>Curacao</td><td>United States</td><td>90</td></tr><tr><td>Georgia</td><td>United States</td><td>2</td></tr><tr><td>United States</td><td>Denmark</td><td>152</td></tr><tr><td>United States</td><td>Guyana</td><td>63</td></tr><tr><td>Philippines</td><td>United States</td><td>134</td></tr><tr><td>Grenada</td><td>United States</td><td>53</td></tr><tr><td>Cape Verde</td><td>United States</td><td>20</td></tr><tr><td>Cote d'Ivoire</td><td>United States</td><td>1</td></tr><tr><td>Ukraine</td><td>United States</td><td>14</td></tr><tr><td>United States</td><td>Papua New Guinea</td><td>1</td></tr><tr><td>Russia</td><td>United States</td><td>176</td></tr><tr><td>United States</td><td>Saudi Arabia</td><td>70</td></tr><tr><td>Guatemala</td><td>United States</td><td>397</td></tr><tr><td>Saint Lucia</td><td>United States</td><td>123</td></tr><tr><td>Paraguay</td><td>United States</td><td>60</td></tr><tr><td>United States</td><td>Curacao</td><td>83</td></tr><tr><td>Kosovo</td><td>United States</td><td>1</td></tr><tr><td>United States</td><td>Taiwan</td><td>235</td></tr><tr><td>Tunisia</td><td>United States</td><td>3</td></tr><tr><td>United States</td><td>South Africa</td><td>40</td></tr><tr><td>Niger</td><td>United States</td><td>2</td></tr><tr><td>Turkey</td><td>United States</td><td>138</td></tr><tr><td>United Kingdom</td><td>United States</td><td>2025</td></tr><tr><td>Romania</td><td>United States</td><td>14</td></tr><tr><td>United States</td><td>Greenland</td><td>4</td></tr><tr><td>Papua New Guinea</td><td>United States</td><td>3</td></tr><tr><td>United States</td><td>Spain</td><td>442</td></tr><tr><td>Iraq</td><td>United States</td><td>1</td></tr><tr><td>United States</td><td>Italy</td><td>438</td></tr><tr><td>Cuba</td><td>United States</td><td>466</td></tr><tr><td>United States</td><td>Switzerland</td><td>305</td></tr><tr><td>Dominica</td><td>United States</td><td>20</td></tr><tr><td>United States</td><td>Japan</td><td>1496</td></tr><tr><td>Portugal</td><td>United States</td><td>127</td></tr><tr><td>United States</td><td>Brazil</td><td>619</td></tr><tr><td>Bahrain</td><td>United States</td><td>19</td></tr><tr><td>United States</td><td>Peru</td><td>337</td></tr><tr><td>Indonesia</td><td>United States</td><td>1</td></tr><tr><td>United States</td><td>Belize</td><td>193</td></tr><tr><td>United States</td><td>United Kingdom</td><td>1970</td></tr><tr><td>Belize</td><td>United States</td><td>188</td></tr><tr><td>United States</td><td>Ghana</td><td>20</td></tr><tr><td>United States</td><td>Indonesia</td><td>2</td></tr><tr><td>United States</td><td>Fiji</td><td>25</td></tr><tr><td>United States</td><td>Canada</td><td>8483</td></tr><tr><td>United States</td><td>Antigua and Barbuda</td><td>117</td></tr><tr><td>United States</td><td>French Polynesia</td><td>40</td></tr><tr><td>Nicaragua</td><td>United States</td><td>179</td></tr><tr><td>United States</td><td>Latvia</td><td>15</td></tr><tr><td>United States</td><td>Dominica</td><td>27</td></tr><tr><td>United States</td><td>Czech Republic</td><td>12</td></tr><tr><td>United States</td><td>Australia</td><td>258</td></tr><tr><td>United States</td><td>Cook Islands</td><td>13</td></tr><tr><td>Austria</td><td>United States</td><td>62</td></tr><tr><td>Jordan</td><td>United States</td><td>44</td></tr><tr><td>Palau</td><td>United States</td><td>30</td></tr><tr><td>South Korea</td><td>United States</td><td>1048</td></tr><tr><td>Angola</td><td>United States</td><td>15</td></tr><tr><td>Ghana</td><td>United States</td><td>18</td></tr><tr><td>New Caledonia</td><td>United States</td><td>1</td></tr><tr><td>Guadeloupe</td><td>United States</td><td>56</td></tr><tr><td>France</td><td>United States</td><td>935</td></tr><tr><td>Poland</td><td>United States</td><td>32</td></tr><tr><td>Nigeria</td><td>United States</td><td>59</td></tr><tr><td>United States</td><td>Uruguay</td><td>13</td></tr><tr><td>Greenland</td><td>United States</td><td>2</td></tr><tr><td>United States</td><td>Bermuda</td><td>193</td></tr><tr><td>Chile</td><td>United States</td><td>174</td></tr><tr><td>United States</td><td>Cuba</td><td>478</td></tr><tr><td>United States</td><td>Montenegro</td><td>1</td></tr><tr><td>United States</td><td>Colombia</td><td>867</td></tr><tr><td>United States</td><td>Barbados</td><td>130</td></tr><tr><td>United States</td><td>Qatar</td><td>109</td></tr><tr><td>Australia</td><td>United States</td><td>329</td></tr><tr><td>United States</td><td>Cayman Islands</td><td>310</td></tr><tr><td>United States</td><td>Jordan</td><td>44</td></tr><tr><td>United States</td><td>Namibia</td><td>1</td></tr><tr><td>United States</td><td>Trinidad and Tobago</td><td>217</td></tr><tr><td>United States</td><td>Bolivia</td><td>13</td></tr><tr><td>Cook Islands</td><td>United States</td><td>13</td></tr><tr><td>Bulgaria</td><td>United States</td><td>3</td></tr><tr><td>United States</td><td>Saint Kitts and Nevis</td><td>145</td></tr><tr><td>Uruguay</td><td>United States</td><td>43</td></tr><tr><td>United States</td><td>Haiti</td><td>225</td></tr><tr><td>Bonaire, Sint Eustatius, and Saba</td><td>United States</td><td>58</td></tr><tr><td>Greece</td><td>United States</td><td>30</td></tr></tbody></table></div>"
      ]
     },
     "metadata": {
      "application/vnd.databricks.v1+output": {
       "addedWidgets": {},
       "aggData": [],
       "aggError": "",
       "aggOverflow": false,
       "aggSchema": [],
       "aggSeriesLimitReached": false,
       "aggType": "",
       "arguments": {},
       "columnCustomDisplayInfos": {},
       "data": [
        [
         "United States",
         "Romania",
         15
        ],
        [
         "United States",
         "Croatia",
         1
        ],
        [
         "United States",
         "Ireland",
         344
        ],
        [
         "Egypt",
         "United States",
         15
        ],
        [
         "United States",
         "India",
         62
        ],
        [
         "United States",
         "Singapore",
         1
        ],
        [
         "United States",
         "Grenada",
         62
        ],
        [
         "Costa Rica",
         "United States",
         588
        ],
        [
         "Senegal",
         "United States",
         40
        ],
        [
         "Moldova",
         "United States",
         1
        ],
        [
         "United States",
         "Sint Maarten",
         325
        ],
        [
         "United States",
         "Marshall Islands",
         39
        ],
        [
         "Guyana",
         "United States",
         64
        ],
        [
         "Malta",
         "United States",
         1
        ],
        [
         "Anguilla",
         "United States",
         41
        ],
        [
         "Bolivia",
         "United States",
         30
        ],
        [
         "United States",
         "Paraguay",
         6
        ],
        [
         "Algeria",
         "United States",
         4
        ],
        [
         "Turks and Caicos Islands",
         "United States",
         230
        ],
        [
         "United States",
         "Gibraltar",
         1
        ],
        [
         "Saint Vincent and the Grenadines",
         "United States",
         1
        ],
        [
         "Italy",
         "United States",
         382
        ],
        [
         "United States",
         "Federated States of Micronesia",
         69
        ],
        [
         "United States",
         "Russia",
         161
        ],
        [
         "Pakistan",
         "United States",
         12
        ],
        [
         "United States",
         "Netherlands",
         660
        ],
        [
         "Iceland",
         "United States",
         181
        ],
        [
         "Marshall Islands",
         "United States",
         42
        ],
        [
         "Luxembourg",
         "United States",
         155
        ],
        [
         "Honduras",
         "United States",
         362
        ],
        [
         "The Bahamas",
         "United States",
         955
        ],
        [
         "United States",
         "Senegal",
         42
        ],
        [
         "El Salvador",
         "United States",
         561
        ],
        [
         "Samoa",
         "United States",
         25
        ],
        [
         "United States",
         "Angola",
         13
        ],
        [
         "Switzerland",
         "United States",
         294
        ],
        [
         "United States",
         "Anguilla",
         38
        ],
        [
         "Sint Maarten",
         "United States",
         325
        ],
        [
         "Hong Kong",
         "United States",
         332
        ],
        [
         "Trinidad and Tobago",
         "United States",
         211
        ],
        [
         "Latvia",
         "United States",
         19
        ],
        [
         "United States",
         "Ecuador",
         300
        ],
        [
         "Suriname",
         "United States",
         1
        ],
        [
         "Mexico",
         "United States",
         7140
        ],
        [
         "United States",
         "Cyprus",
         1
        ],
        [
         "Ecuador",
         "United States",
         268
        ],
        [
         "United States",
         "Portugal",
         134
        ],
        [
         "United States",
         "Costa Rica",
         608
        ],
        [
         "United States",
         "Guatemala",
         318
        ],
        [
         "United States",
         "Suriname",
         34
        ],
        [
         "Colombia",
         "United States",
         873
        ],
        [
         "United States",
         "Cape Verde",
         14
        ],
        [
         "United States",
         "Jamaica",
         712
        ],
        [
         "Norway",
         "United States",
         121
        ],
        [
         "United States",
         "Malaysia",
         3
        ],
        [
         "United States",
         "Morocco",
         19
        ],
        [
         "Thailand",
         "United States",
         3
        ],
        [
         "United States",
         "Samoa",
         25
        ],
        [
         "Venezuela",
         "United States",
         290
        ],
        [
         "United States",
         "Palau",
         31
        ],
        [
         "United States",
         "Venezuela",
         246
        ],
        [
         "Panama",
         "United States",
         510
        ],
        [
         "Antigua and Barbuda",
         "United States",
         126
        ],
        [
         "United States",
         "Chile",
         185
        ],
        [
         "Morocco",
         "United States",
         15
        ],
        [
         "United States",
         "Finland",
         28
        ],
        [
         "Azerbaijan",
         "United States",
         21
        ],
        [
         "United States",
         "Greece",
         23
        ],
        [
         "United States",
         "The Bahamas",
         986
        ],
        [
         "New Zealand",
         "United States",
         111
        ],
        [
         "Liberia",
         "United States",
         2
        ],
        [
         "United States",
         "Hong Kong",
         414
        ],
        [
         "Hungary",
         "United States",
         2
        ],
        [
         "United States",
         "China",
         920
        ],
        [
         "United States",
         "Vietnam",
         2
        ],
        [
         "Burkina Faso",
         "United States",
         1
        ],
        [
         "Sweden",
         "United States",
         118
        ],
        [
         "United States",
         "Kuwait",
         28
        ],
        [
         "United States",
         "Dominican Republic",
         1420
        ],
        [
         "United States",
         "Egypt",
         12
        ],
        [
         "Israel",
         "United States",
         134
        ],
        [
         "United States",
         "United States",
         370002
        ],
        [
         "Ethiopia",
         "United States",
         13
        ],
        [
         "United States",
         "Luxembourg",
         134
        ],
        [
         "United States",
         "Poland",
         33
        ],
        [
         "Martinique",
         "United States",
         44
        ],
        [
         "United States",
         "Saint Barthelemy",
         41
        ],
        [
         "Saint Barthelemy",
         "United States",
         39
        ],
        [
         "Barbados",
         "United States",
         154
        ],
        [
         "United States",
         "Turkey",
         129
        ],
        [
         "Djibouti",
         "United States",
         1
        ],
        [
         "United States",
         "Azerbaijan",
         21
        ],
        [
         "United States",
         "Estonia",
         1
        ],
        [
         "Germany",
         "United States",
         1468
        ],
        [
         "United States",
         "South Korea",
         827
        ],
        [
         "United States",
         "El Salvador",
         508
        ],
        [
         "Ireland",
         "United States",
         335
        ],
        [
         "United States",
         "Hungary",
         3
        ],
        [
         "Zambia",
         "United States",
         1
        ],
        [
         "Malaysia",
         "United States",
         2
        ],
        [
         "United States",
         "Ethiopia",
         12
        ],
        [
         "United States",
         "Panama",
         465
        ],
        [
         "United States",
         "Aruba",
         342
        ],
        [
         "United States",
         "Thailand",
         4
        ],
        [
         "United States",
         "Turks and Caicos Islands",
         236
        ],
        [
         "Croatia",
         "United States",
         2
        ],
        [
         "United States",
         "Pakistan",
         12
        ],
        [
         "Cyprus",
         "United States",
         1
        ],
        [
         "United States",
         "Honduras",
         407
        ],
        [
         "Fiji",
         "United States",
         24
        ],
        [
         "Qatar",
         "United States",
         108
        ],
        [
         "Saint Kitts and Nevis",
         "United States",
         139
        ],
        [
         "Kuwait",
         "United States",
         32
        ],
        [
         "Taiwan",
         "United States",
         266
        ],
        [
         "Haiti",
         "United States",
         226
        ],
        [
         "Canada",
         "United States",
         8399
        ],
        [
         "Federated States of Micronesia",
         "United States",
         69
        ],
        [
         "United States",
         "Liberia",
         2
        ],
        [
         "Jamaica",
         "United States",
         666
        ],
        [
         "United States",
         "Malta",
         2
        ],
        [
         "Dominican Republic",
         "United States",
         1353
        ],
        [
         "Japan",
         "United States",
         1548
        ],
        [
         "United States",
         "Lithuania",
         1
        ],
        [
         "Finland",
         "United States",
         26
        ],
        [
         "United States",
         "Guadeloupe",
         59
        ],
        [
         "United States",
         "Ukraine",
         13
        ],
        [
         "United States",
         "France",
         952
        ],
        [
         "United States",
         "Norway",
         115
        ],
        [
         "Aruba",
         "United States",
         346
        ],
        [
         "French Guiana",
         "United States",
         5
        ],
        [
         "United States",
         "Kiribati",
         35
        ],
        [
         "India",
         "United States",
         61
        ],
        [
         "British Virgin Islands",
         "United States",
         107
        ],
        [
         "Brazil",
         "United States",
         853
        ],
        [
         "United States",
         "Germany",
         1336
        ],
        [
         "United States",
         "New Zealand",
         74
        ],
        [
         "French Polynesia",
         "United States",
         43
        ],
        [
         "United Arab Emirates",
         "United States",
         320
        ],
        [
         "Singapore",
         "United States",
         3
        ],
        [
         "United States",
         "Mexico",
         7187
        ],
        [
         "United States",
         "Sweden",
         119
        ],
        [
         "Netherlands",
         "United States",
         776
        ],
        [
         "United States",
         "Martinique",
         43
        ],
        [
         "United States",
         "United Arab Emirates",
         313
        ],
        [
         "United States",
         "Bulgaria",
         1
        ],
        [
         "Denmark",
         "United States",
         153
        ],
        [
         "China",
         "United States",
         772
        ],
        [
         "United States",
         "Nicaragua",
         201
        ],
        [
         "United States",
         "Philippines",
         126
        ],
        [
         "United States",
         "Georgia",
         1
        ],
        [
         "United States",
         "Belgium",
         228
        ],
        [
         "Cayman Islands",
         "United States",
         314
        ],
        [
         "Argentina",
         "United States",
         180
        ],
        [
         "Peru",
         "United States",
         279
        ],
        [
         "South Africa",
         "United States",
         36
        ],
        [
         "United States",
         "Iceland",
         202
        ],
        [
         "United States",
         "Argentina",
         141
        ],
        [
         "Spain",
         "United States",
         420
        ],
        [
         "Bermuda",
         "United States",
         183
        ],
        [
         "United States",
         "Nigeria",
         50
        ],
        [
         "United States",
         "Austria",
         63
        ],
        [
         "United States",
         "Bonaire, Sint Eustatius, and Saba",
         59
        ],
        [
         "Kiribati",
         "United States",
         26
        ],
        [
         "Saudi Arabia",
         "United States",
         83
        ],
        [
         "Czech Republic",
         "United States",
         13
        ],
        [
         "United States",
         "Israel",
         127
        ],
        [
         "Belgium",
         "United States",
         259
        ],
        [
         "United States",
         "Saint Lucia",
         136
        ],
        [
         "United States",
         "Bahrain",
         1
        ],
        [
         "United States",
         "British Virgin Islands",
         80
        ],
        [
         "Curacao",
         "United States",
         90
        ],
        [
         "Georgia",
         "United States",
         2
        ],
        [
         "United States",
         "Denmark",
         152
        ],
        [
         "United States",
         "Guyana",
         63
        ],
        [
         "Philippines",
         "United States",
         134
        ],
        [
         "Grenada",
         "United States",
         53
        ],
        [
         "Cape Verde",
         "United States",
         20
        ],
        [
         "Cote d'Ivoire",
         "United States",
         1
        ],
        [
         "Ukraine",
         "United States",
         14
        ],
        [
         "United States",
         "Papua New Guinea",
         1
        ],
        [
         "Russia",
         "United States",
         176
        ],
        [
         "United States",
         "Saudi Arabia",
         70
        ],
        [
         "Guatemala",
         "United States",
         397
        ],
        [
         "Saint Lucia",
         "United States",
         123
        ],
        [
         "Paraguay",
         "United States",
         60
        ],
        [
         "United States",
         "Curacao",
         83
        ],
        [
         "Kosovo",
         "United States",
         1
        ],
        [
         "United States",
         "Taiwan",
         235
        ],
        [
         "Tunisia",
         "United States",
         3
        ],
        [
         "United States",
         "South Africa",
         40
        ],
        [
         "Niger",
         "United States",
         2
        ],
        [
         "Turkey",
         "United States",
         138
        ],
        [
         "United Kingdom",
         "United States",
         2025
        ],
        [
         "Romania",
         "United States",
         14
        ],
        [
         "United States",
         "Greenland",
         4
        ],
        [
         "Papua New Guinea",
         "United States",
         3
        ],
        [
         "United States",
         "Spain",
         442
        ],
        [
         "Iraq",
         "United States",
         1
        ],
        [
         "United States",
         "Italy",
         438
        ],
        [
         "Cuba",
         "United States",
         466
        ],
        [
         "United States",
         "Switzerland",
         305
        ],
        [
         "Dominica",
         "United States",
         20
        ],
        [
         "United States",
         "Japan",
         1496
        ],
        [
         "Portugal",
         "United States",
         127
        ],
        [
         "United States",
         "Brazil",
         619
        ],
        [
         "Bahrain",
         "United States",
         19
        ],
        [
         "United States",
         "Peru",
         337
        ],
        [
         "Indonesia",
         "United States",
         1
        ],
        [
         "United States",
         "Belize",
         193
        ],
        [
         "United States",
         "United Kingdom",
         1970
        ],
        [
         "Belize",
         "United States",
         188
        ],
        [
         "United States",
         "Ghana",
         20
        ],
        [
         "United States",
         "Indonesia",
         2
        ],
        [
         "United States",
         "Fiji",
         25
        ],
        [
         "United States",
         "Canada",
         8483
        ],
        [
         "United States",
         "Antigua and Barbuda",
         117
        ],
        [
         "United States",
         "French Polynesia",
         40
        ],
        [
         "Nicaragua",
         "United States",
         179
        ],
        [
         "United States",
         "Latvia",
         15
        ],
        [
         "United States",
         "Dominica",
         27
        ],
        [
         "United States",
         "Czech Republic",
         12
        ],
        [
         "United States",
         "Australia",
         258
        ],
        [
         "United States",
         "Cook Islands",
         13
        ],
        [
         "Austria",
         "United States",
         62
        ],
        [
         "Jordan",
         "United States",
         44
        ],
        [
         "Palau",
         "United States",
         30
        ],
        [
         "South Korea",
         "United States",
         1048
        ],
        [
         "Angola",
         "United States",
         15
        ],
        [
         "Ghana",
         "United States",
         18
        ],
        [
         "New Caledonia",
         "United States",
         1
        ],
        [
         "Guadeloupe",
         "United States",
         56
        ],
        [
         "France",
         "United States",
         935
        ],
        [
         "Poland",
         "United States",
         32
        ],
        [
         "Nigeria",
         "United States",
         59
        ],
        [
         "United States",
         "Uruguay",
         13
        ],
        [
         "Greenland",
         "United States",
         2
        ],
        [
         "United States",
         "Bermuda",
         193
        ],
        [
         "Chile",
         "United States",
         174
        ],
        [
         "United States",
         "Cuba",
         478
        ],
        [
         "United States",
         "Montenegro",
         1
        ],
        [
         "United States",
         "Colombia",
         867
        ],
        [
         "United States",
         "Barbados",
         130
        ],
        [
         "United States",
         "Qatar",
         109
        ],
        [
         "Australia",
         "United States",
         329
        ],
        [
         "United States",
         "Cayman Islands",
         310
        ],
        [
         "United States",
         "Jordan",
         44
        ],
        [
         "United States",
         "Namibia",
         1
        ],
        [
         "United States",
         "Trinidad and Tobago",
         217
        ],
        [
         "United States",
         "Bolivia",
         13
        ],
        [
         "Cook Islands",
         "United States",
         13
        ],
        [
         "Bulgaria",
         "United States",
         3
        ],
        [
         "United States",
         "Saint Kitts and Nevis",
         145
        ],
        [
         "Uruguay",
         "United States",
         43
        ],
        [
         "United States",
         "Haiti",
         225
        ],
        [
         "Bonaire, Sint Eustatius, and Saba",
         "United States",
         58
        ],
        [
         "Greece",
         "United States",
         30
        ]
       ],
       "datasetInfos": [],
       "dbfsResultPath": null,
       "isJsonSchema": true,
       "metadata": {},
       "overflow": false,
       "plotOptions": {
        "customPlotOptions": {},
        "displayType": "table",
        "pivotAggregation": null,
        "pivotColumns": null,
        "xColumns": null,
        "yColumns": null
       },
       "removedWidgets": [],
       "schema": [
        {
         "metadata": "{}",
         "name": "DEST_COUNTRY_NAME",
         "type": "\"string\""
        },
        {
         "metadata": "{}",
         "name": "ORIGIN_COUNTRY_NAME",
         "type": "\"string\""
        },
        {
         "metadata": "{}",
         "name": "count",
         "type": "\"long\""
        }
       ],
       "type": "table"
      }
     },
     "output_type": "display_data"
    }
   ],
   "source": [
    "display(flightData2015)"
   ]
  },
  {
   "cell_type": "code",
   "execution_count": 0,
   "metadata": {
    "application/vnd.databricks.v1+cell": {
     "inputWidgets": {},
     "nuid": "a07fb827-65ab-4ebc-9197-79a183a62411",
     "showTitle": false,
     "title": ""
    }
   },
   "outputs": [],
   "source": [
    "import pyspark.sql.functions as F"
   ]
  },
  {
   "cell_type": "code",
   "execution_count": 0,
   "metadata": {
    "application/vnd.databricks.v1+cell": {
     "inputWidgets": {},
     "nuid": "4449c051-528b-4a85-ae08-d9ea75fce6e6",
     "showTitle": false,
     "title": ""
    }
   },
   "outputs": [
    {
     "data": {
      "text/plain": [
       "+-----------------+------+\n",
       "|DEST_COUNTRY_NAME|   sum|\n",
       "+-----------------+------+\n",
       "|    United States|411352|\n",
       "|           Canada|  8399|\n",
       "|           Mexico|  7140|\n",
       "|   United Kingdom|  2025|\n",
       "|            Japan|  1548|\n",
       "+-----------------+------+\n",
       "\n"
      ]
     },
     "metadata": {
      "application/vnd.databricks.v1+output": {
       "addedWidgets": {},
       "arguments": {},
       "data": "+-----------------+------+\n|DEST_COUNTRY_NAME|   sum|\n+-----------------+------+\n|    United States|411352|\n|           Canada|  8399|\n|           Mexico|  7140|\n|   United Kingdom|  2025|\n|            Japan|  1548|\n+-----------------+------+\n\n",
       "datasetInfos": [],
       "metadata": {},
       "removedWidgets": [],
       "type": "ansi"
      }
     },
     "output_type": "display_data"
    }
   ],
   "source": [
    "flightData2015.groupBy('DEST_COUNTRY_NAME').agg(F.sum('count').alias('sum')).orderBy(F.col('sum').desc()).limit(5).show()"
   ]
  },
  {
   "cell_type": "code",
   "execution_count": 0,
   "metadata": {
    "application/vnd.databricks.v1+cell": {
     "inputWidgets": {},
     "nuid": "291fd603-ca63-4068-9132-a2a4072bd6b9",
     "showTitle": false,
     "title": ""
    }
   },
   "outputs": [
    {
     "data": {
      "text/plain": [
       "== Physical Plan ==\n",
       "AdaptiveSparkPlan isFinalPlan=false\n",
       "+- TakeOrderedAndProject(limit=5, orderBy=[sum#139L DESC NULLS LAST], output=[DEST_COUNTRY_NAME#28,sum#139L])\n",
       "   +- HashAggregate(keys=[DEST_COUNTRY_NAME#28], functions=[finalmerge_sum(merge sum#143L) AS sum(count#30L)#138L])\n",
       "      +- Exchange hashpartitioning(DEST_COUNTRY_NAME#28, 5), ENSURE_REQUIREMENTS, [id=#466]\n",
       "         +- HashAggregate(keys=[DEST_COUNTRY_NAME#28], functions=[partial_sum(count#30L) AS sum#143L])\n",
       "            +- Project [DEST_COUNTRY_NAME#28, count#30L]\n",
       "               +- Scan ExistingRDD arrow[DEST_COUNTRY_NAME#28,ORIGIN_COUNTRY_NAME#29,count#30L]\n",
       "\n",
       "\n"
      ]
     },
     "metadata": {
      "application/vnd.databricks.v1+output": {
       "addedWidgets": {},
       "arguments": {},
       "data": "== Physical Plan ==\nAdaptiveSparkPlan isFinalPlan=false\n+- TakeOrderedAndProject(limit=5, orderBy=[sum#139L DESC NULLS LAST], output=[DEST_COUNTRY_NAME#28,sum#139L])\n   +- HashAggregate(keys=[DEST_COUNTRY_NAME#28], functions=[finalmerge_sum(merge sum#143L) AS sum(count#30L)#138L])\n      +- Exchange hashpartitioning(DEST_COUNTRY_NAME#28, 5), ENSURE_REQUIREMENTS, [id=#466]\n         +- HashAggregate(keys=[DEST_COUNTRY_NAME#28], functions=[partial_sum(count#30L) AS sum#143L])\n            +- Project [DEST_COUNTRY_NAME#28, count#30L]\n               +- Scan ExistingRDD arrow[DEST_COUNTRY_NAME#28,ORIGIN_COUNTRY_NAME#29,count#30L]\n\n\n",
       "datasetInfos": [],
       "metadata": {},
       "removedWidgets": [],
       "type": "ansi"
      }
     },
     "output_type": "display_data"
    }
   ],
   "source": [
    "flightData2015.groupBy('DEST_COUNTRY_NAME').agg(F.sum('count').alias('sum')).orderBy(F.col('sum').desc()).limit(5).explain()"
   ]
  },
  {
   "cell_type": "markdown",
   "metadata": {
    "application/vnd.databricks.v1+cell": {
     "inputWidgets": {},
     "nuid": "5039d51a-cb8f-4b0f-bd5b-d9f3867bb889",
     "showTitle": false,
     "title": ""
    }
   },
   "source": [
    "To get top five destination countries using SPARK SQL"
   ]
  },
  {
   "cell_type": "code",
   "execution_count": 0,
   "metadata": {
    "application/vnd.databricks.v1+cell": {
     "inputWidgets": {},
     "nuid": "1fef2e54-a805-4057-9024-7e4b8881953e",
     "showTitle": false,
     "title": ""
    }
   },
   "outputs": [
    {
     "data": {
      "text/plain": [
       "Out[21]: [Row(DEST_COUNTRY_NAME='United States', destination_total=411352),\n",
       " Row(DEST_COUNTRY_NAME='Canada', destination_total=8399),\n",
       " Row(DEST_COUNTRY_NAME='Mexico', destination_total=7140),\n",
       " Row(DEST_COUNTRY_NAME='United Kingdom', destination_total=2025),\n",
       " Row(DEST_COUNTRY_NAME='Japan', destination_total=1548)]"
      ]
     },
     "metadata": {
      "application/vnd.databricks.v1+output": {
       "addedWidgets": {},
       "arguments": {},
       "data": "Out[21]: [Row(DEST_COUNTRY_NAME='United States', destination_total=411352),\n Row(DEST_COUNTRY_NAME='Canada', destination_total=8399),\n Row(DEST_COUNTRY_NAME='Mexico', destination_total=7140),\n Row(DEST_COUNTRY_NAME='United Kingdom', destination_total=2025),\n Row(DEST_COUNTRY_NAME='Japan', destination_total=1548)]",
       "datasetInfos": [],
       "metadata": {},
       "removedWidgets": [],
       "type": "ansi"
      }
     },
     "output_type": "display_data"
    }
   ],
   "source": [
    "maxSql = spark.sql(\"select DEST_COUNTRY_NAME, sum(count) as destination_total \\\n",
    "           from flight_data_2015\\\n",
    "           GROUP By DEST_COUNTRY_NAME\\\n",
    "           ORDER By sum(count) DESC\\\n",
    "           LIMIT 5\")\n",
    "maxSql.collect()"
   ]
  },
  {
   "cell_type": "markdown",
   "metadata": {
    "application/vnd.databricks.v1+cell": {
     "inputWidgets": {},
     "nuid": "98360298-e6fa-44cc-bbf7-234996ac508c",
     "showTitle": false,
     "title": ""
    }
   },
   "source": [
    "Writing the same using DataFrames"
   ]
  },
  {
   "cell_type": "code",
   "execution_count": 0,
   "metadata": {
    "application/vnd.databricks.v1+cell": {
     "inputWidgets": {},
     "nuid": "a3a8c1b0-9fb1-4673-995a-260ae8a2a1fc",
     "showTitle": false,
     "title": ""
    }
   },
   "outputs": [
    {
     "data": {
      "text/plain": [
       "Out[23]: [Row(DEST_COUNTRY_NAME='United States', destination_total=411352),\n",
       " Row(DEST_COUNTRY_NAME='Canada', destination_total=8399),\n",
       " Row(DEST_COUNTRY_NAME='Mexico', destination_total=7140),\n",
       " Row(DEST_COUNTRY_NAME='United Kingdom', destination_total=2025),\n",
       " Row(DEST_COUNTRY_NAME='Japan', destination_total=1548)]"
      ]
     },
     "metadata": {
      "application/vnd.databricks.v1+output": {
       "addedWidgets": {},
       "arguments": {},
       "data": "Out[23]: [Row(DEST_COUNTRY_NAME='United States', destination_total=411352),\n Row(DEST_COUNTRY_NAME='Canada', destination_total=8399),\n Row(DEST_COUNTRY_NAME='Mexico', destination_total=7140),\n Row(DEST_COUNTRY_NAME='United Kingdom', destination_total=2025),\n Row(DEST_COUNTRY_NAME='Japan', destination_total=1548)]",
       "datasetInfos": [],
       "metadata": {},
       "removedWidgets": [],
       "type": "ansi"
      }
     },
     "output_type": "display_data"
    }
   ],
   "source": [
    "from pyspark.sql.functions import desc\n",
    "\n",
    "dataFrameMax = flightData2015\\\n",
    "              .groupBy('DEST_COUNTRY_NAME')\\\n",
    "              .sum('count')\\\n",
    "              .withColumnRenamed(\"sum(count)\",\"destination_total\")\\\n",
    "              .sort(desc(\"destination_total\"))\\\n",
    "              .limit(5)\n",
    "\n",
    "dataFrameMax.collect()"
   ]
  },
  {
   "cell_type": "code",
   "execution_count": 0,
   "metadata": {
    "application/vnd.databricks.v1+cell": {
     "inputWidgets": {},
     "nuid": "7ab083b5-9785-4057-8532-3a40928b6e1c",
     "showTitle": false,
     "title": ""
    }
   },
   "outputs": [
    {
     "data": {
      "text/plain": [
       "== Physical Plan ==\n",
       "AdaptiveSparkPlan isFinalPlan=true\n",
       "+- == Final Plan ==\n",
       "   TakeOrderedAndProject(limit=5, orderBy=[destination_total#151L DESC NULLS LAST], output=[DEST_COUNTRY_NAME#28,destination_total#151L])\n",
       "   +- *(2) HashAggregate(keys=[DEST_COUNTRY_NAME#28], functions=[finalmerge_sum(merge sum#157L) AS sum(count#30L)#152L])\n",
       "      +- AQEShuffleRead coalesced\n",
       "         +- ShuffleQueryStage 0, Statistics(sizeInBytes=4.9 KiB, rowCount=139, isRuntime=true)\n",
       "            +- Exchange hashpartitioning(DEST_COUNTRY_NAME#28, 5), ENSURE_REQUIREMENTS, [id=#565]\n",
       "               +- *(1) HashAggregate(keys=[DEST_COUNTRY_NAME#28], functions=[partial_sum(count#30L) AS sum#157L])\n",
       "                  +- *(1) Project [DEST_COUNTRY_NAME#28, count#30L]\n",
       "                     +- *(1) Scan ExistingRDD arrow[DEST_COUNTRY_NAME#28,ORIGIN_COUNTRY_NAME#29,count#30L]\n",
       "+- == Initial Plan ==\n",
       "   TakeOrderedAndProject(limit=5, orderBy=[destination_total#151L DESC NULLS LAST], output=[DEST_COUNTRY_NAME#28,destination_total#151L])\n",
       "   +- HashAggregate(keys=[DEST_COUNTRY_NAME#28], functions=[finalmerge_sum(merge sum#157L) AS sum(count#30L)#152L])\n",
       "      +- Exchange hashpartitioning(DEST_COUNTRY_NAME#28, 5), ENSURE_REQUIREMENTS, [id=#524]\n",
       "         +- HashAggregate(keys=[DEST_COUNTRY_NAME#28], functions=[partial_sum(count#30L) AS sum#157L])\n",
       "            +- Project [DEST_COUNTRY_NAME#28, count#30L]\n",
       "               +- Scan ExistingRDD arrow[DEST_COUNTRY_NAME#28,ORIGIN_COUNTRY_NAME#29,count#30L]\n",
       "\n",
       "\n",
       "== Physical Plan ==\n",
       "AdaptiveSparkPlan isFinalPlan=true\n",
       "+- == Final Plan ==\n",
       "   TakeOrderedAndProject(limit=5, orderBy=[destination_total#173L DESC NULLS LAST], output=[DEST_COUNTRY_NAME#28,destination_total#173L])\n",
       "   +- *(2) HashAggregate(keys=[DEST_COUNTRY_NAME#28], functions=[finalmerge_sum(merge sum#177L) AS sum(count#30L)#169L])\n",
       "      +- AQEShuffleRead coalesced\n",
       "         +- ShuffleQueryStage 0, Statistics(sizeInBytes=4.9 KiB, rowCount=139, isRuntime=true)\n",
       "            +- Exchange hashpartitioning(DEST_COUNTRY_NAME#28, 5), ENSURE_REQUIREMENTS, [id=#644]\n",
       "               +- *(1) HashAggregate(keys=[DEST_COUNTRY_NAME#28], functions=[partial_sum(count#30L) AS sum#177L])\n",
       "                  +- *(1) Project [DEST_COUNTRY_NAME#28, count#30L]\n",
       "                     +- *(1) Scan ExistingRDD arrow[DEST_COUNTRY_NAME#28,ORIGIN_COUNTRY_NAME#29,count#30L]\n",
       "+- == Initial Plan ==\n",
       "   TakeOrderedAndProject(limit=5, orderBy=[destination_total#173L DESC NULLS LAST], output=[DEST_COUNTRY_NAME#28,destination_total#173L])\n",
       "   +- HashAggregate(keys=[DEST_COUNTRY_NAME#28], functions=[finalmerge_sum(merge sum#177L) AS sum(count#30L)#169L])\n",
       "      +- Exchange hashpartitioning(DEST_COUNTRY_NAME#28, 5), ENSURE_REQUIREMENTS, [id=#603]\n",
       "         +- HashAggregate(keys=[DEST_COUNTRY_NAME#28], functions=[partial_sum(count#30L) AS sum#177L])\n",
       "            +- Project [DEST_COUNTRY_NAME#28, count#30L]\n",
       "               +- Scan ExistingRDD arrow[DEST_COUNTRY_NAME#28,ORIGIN_COUNTRY_NAME#29,count#30L]\n",
       "\n",
       "\n"
      ]
     },
     "metadata": {
      "application/vnd.databricks.v1+output": {
       "addedWidgets": {},
       "arguments": {},
       "data": "== Physical Plan ==\nAdaptiveSparkPlan isFinalPlan=true\n+- == Final Plan ==\n   TakeOrderedAndProject(limit=5, orderBy=[destination_total#151L DESC NULLS LAST], output=[DEST_COUNTRY_NAME#28,destination_total#151L])\n   +- *(2) HashAggregate(keys=[DEST_COUNTRY_NAME#28], functions=[finalmerge_sum(merge sum#157L) AS sum(count#30L)#152L])\n      +- AQEShuffleRead coalesced\n         +- ShuffleQueryStage 0, Statistics(sizeInBytes=4.9 KiB, rowCount=139, isRuntime=true)\n            +- Exchange hashpartitioning(DEST_COUNTRY_NAME#28, 5), ENSURE_REQUIREMENTS, [id=#565]\n               +- *(1) HashAggregate(keys=[DEST_COUNTRY_NAME#28], functions=[partial_sum(count#30L) AS sum#157L])\n                  +- *(1) Project [DEST_COUNTRY_NAME#28, count#30L]\n                     +- *(1) Scan ExistingRDD arrow[DEST_COUNTRY_NAME#28,ORIGIN_COUNTRY_NAME#29,count#30L]\n+- == Initial Plan ==\n   TakeOrderedAndProject(limit=5, orderBy=[destination_total#151L DESC NULLS LAST], output=[DEST_COUNTRY_NAME#28,destination_total#151L])\n   +- HashAggregate(keys=[DEST_COUNTRY_NAME#28], functions=[finalmerge_sum(merge sum#157L) AS sum(count#30L)#152L])\n      +- Exchange hashpartitioning(DEST_COUNTRY_NAME#28, 5), ENSURE_REQUIREMENTS, [id=#524]\n         +- HashAggregate(keys=[DEST_COUNTRY_NAME#28], functions=[partial_sum(count#30L) AS sum#157L])\n            +- Project [DEST_COUNTRY_NAME#28, count#30L]\n               +- Scan ExistingRDD arrow[DEST_COUNTRY_NAME#28,ORIGIN_COUNTRY_NAME#29,count#30L]\n\n\n== Physical Plan ==\nAdaptiveSparkPlan isFinalPlan=true\n+- == Final Plan ==\n   TakeOrderedAndProject(limit=5, orderBy=[destination_total#173L DESC NULLS LAST], output=[DEST_COUNTRY_NAME#28,destination_total#173L])\n   +- *(2) HashAggregate(keys=[DEST_COUNTRY_NAME#28], functions=[finalmerge_sum(merge sum#177L) AS sum(count#30L)#169L])\n      +- AQEShuffleRead coalesced\n         +- ShuffleQueryStage 0, Statistics(sizeInBytes=4.9 KiB, rowCount=139, isRuntime=true)\n            +- Exchange hashpartitioning(DEST_COUNTRY_NAME#28, 5), ENSURE_REQUIREMENTS, [id=#644]\n               +- *(1) HashAggregate(keys=[DEST_COUNTRY_NAME#28], functions=[partial_sum(count#30L) AS sum#177L])\n                  +- *(1) Project [DEST_COUNTRY_NAME#28, count#30L]\n                     +- *(1) Scan ExistingRDD arrow[DEST_COUNTRY_NAME#28,ORIGIN_COUNTRY_NAME#29,count#30L]\n+- == Initial Plan ==\n   TakeOrderedAndProject(limit=5, orderBy=[destination_total#173L DESC NULLS LAST], output=[DEST_COUNTRY_NAME#28,destination_total#173L])\n   +- HashAggregate(keys=[DEST_COUNTRY_NAME#28], functions=[finalmerge_sum(merge sum#177L) AS sum(count#30L)#169L])\n      +- Exchange hashpartitioning(DEST_COUNTRY_NAME#28, 5), ENSURE_REQUIREMENTS, [id=#603]\n         +- HashAggregate(keys=[DEST_COUNTRY_NAME#28], functions=[partial_sum(count#30L) AS sum#177L])\n            +- Project [DEST_COUNTRY_NAME#28, count#30L]\n               +- Scan ExistingRDD arrow[DEST_COUNTRY_NAME#28,ORIGIN_COUNTRY_NAME#29,count#30L]\n\n\n",
       "datasetInfos": [],
       "metadata": {},
       "removedWidgets": [],
       "type": "ansi"
      }
     },
     "output_type": "display_data"
    }
   ],
   "source": [
    "maxSql.explain()\n",
    "dataFrameMax.explain()"
   ]
  },
  {
   "cell_type": "markdown",
   "metadata": {
    "application/vnd.databricks.v1+cell": {
     "inputWidgets": {},
     "nuid": "47566480-577d-4f3d-a8a4-6e900bf6452f",
     "showTitle": false,
     "title": ""
    }
   },
   "source": [
    "## DATASET\n",
    "\n",
    "** DataFrames** are\n",
    "a distributed collection of objects of type Row but Spark also allows JVM users to create their own objects (via case classes or java beans) and manipulate them using function programming concepts.\n",
    "\n",
    "Amazing thing about Datasets is that we can use them only when we need or want to.ability to manipulate arbitrary case classes with arbitrary functions makes expressing business logic simple.\n",
    "\n",
    "\n",
    "I’ll define my own object and manipulate it via arbitrary map and filter functions. Once we’ve\n",
    "performed our manipulations, Spark can automatically turn it back into a DataFrame and we can manipulate it\n",
    "further using the hundreds of functions that Spark includes. This makes it easy to drop down to lower level, type\n",
    "secure coding when necessary, and move higher up to SQL for more rapid analysis"
   ]
  },
  {
   "cell_type": "code",
   "execution_count": 0,
   "metadata": {
    "application/vnd.databricks.v1+cell": {
     "inputWidgets": {},
     "nuid": "c92f7045-97b0-417f-a1be-27b719f636dd",
     "showTitle": false,
     "title": ""
    }
   },
   "outputs": [
    {
     "data": {
      "text/html": [
       "<style scoped>\n",
       "  .ansiout {\n",
       "    display: block;\n",
       "    unicode-bidi: embed;\n",
       "    white-space: pre-wrap;\n",
       "    word-wrap: break-word;\n",
       "    word-break: break-all;\n",
       "    font-family: \"Source Code Pro\", \"Menlo\", monospace;;\n",
       "    font-size: 13px;\n",
       "    color: #555;\n",
       "    margin-left: 4px;\n",
       "    line-height: 19px;\n",
       "  }\n",
       "</style>\n",
       "<div class=\"ansiout\">defined class ValueAndDouble\n",
       "res3: Long = 667\n",
       "</div>"
      ]
     },
     "metadata": {
      "application/vnd.databricks.v1+output": {
       "addedWidgets": {},
       "arguments": {},
       "data": "<div class=\"ansiout\">defined class ValueAndDouble\nres3: Long = 667\n</div>",
       "datasetInfos": [],
       "metadata": {},
       "removedWidgets": [],
       "type": "html"
      }
     },
     "output_type": "display_data"
    }
   ],
   "source": [
    "%scala\n",
    "\n",
    "case class ValueAndDouble(value:Long, valueDoubled:Long)\n",
    "\n",
    "spark.range(2000)\n",
    "      .map(value => ValueAndDouble(value, value*2))\n",
    "      .filter(vAndD => vAndD.valueDoubled % 2 == 0)\n",
    "      .where(\"value%3 =0\")\n",
    "      .count()"
   ]
  },
  {
   "cell_type": "markdown",
   "metadata": {
    "application/vnd.databricks.v1+cell": {
     "inputWidgets": {},
     "nuid": "ff4329f2-3092-4a7e-9623-cb217e84d6db",
     "showTitle": false,
     "title": ""
    }
   },
   "source": [
    "## Caching Data for Faster Access\n",
    "\n",
    "Sometimes we are going to access a dataFrame multiple times in the same data flow and we want to avoid performing expensive joins over and over again. To avoid that we can use **CACHE()** function and to cache the data in memory"
   ]
  },
  {
   "cell_type": "code",
   "execution_count": 0,
   "metadata": {
    "application/vnd.databricks.v1+cell": {
     "inputWidgets": {},
     "nuid": "46bb514b-4af4-49e6-b6bc-f21a295a4d17",
     "showTitle": false,
     "title": ""
    }
   },
   "outputs": [
    {
     "data": {
      "text/html": [
       "<style scoped>\n",
       "  .ansiout {\n",
       "    display: block;\n",
       "    unicode-bidi: embed;\n",
       "    white-space: pre-wrap;\n",
       "    word-wrap: break-word;\n",
       "    word-break: break-all;\n",
       "    font-family: \"Source Code Pro\", \"Menlo\", monospace;;\n",
       "    font-size: 13px;\n",
       "    color: #555;\n",
       "    margin-left: 4px;\n",
       "    line-height: 19px;\n",
       "  }\n",
       "</style>\n",
       "<div class=\"ansiout\"></div>"
      ]
     },
     "metadata": {
      "application/vnd.databricks.v1+output": {
       "addedWidgets": {},
       "arguments": {},
       "data": "<div class=\"ansiout\"></div>",
       "datasetInfos": [
        {
         "name": "DF1",
         "schema": {
          "fields": [
           {
            "metadata": {},
            "name": "DEST_COUNTRY_NAME",
            "nullable": true,
            "type": "string"
           },
           {
            "metadata": {},
            "name": "ORIGIN_COUNTRY_NAME",
            "nullable": true,
            "type": "string"
           },
           {
            "metadata": {},
            "name": "count",
            "nullable": true,
            "type": "integer"
           }
          ],
          "type": "struct"
         },
         "tableIdentifier": null,
         "typeStr": "pyspark.sql.dataframe.DataFrame"
        }
       ],
       "metadata": {},
       "removedWidgets": [],
       "type": "html"
      }
     },
     "output_type": "display_data"
    }
   ],
   "source": [
    "DF1 = spark.read.format(\"csv\")\\\n",
    "      .option(\"inferschema\",\"true\")\\\n",
    "      .option(\"header\",\"true\")\\\n",
    "      .load(\"/FileStore/tables/FileStore/tables/2015_summary-ebaee.csv\")\n"
   ]
  },
  {
   "cell_type": "code",
   "execution_count": 0,
   "metadata": {
    "application/vnd.databricks.v1+cell": {
     "inputWidgets": {},
     "nuid": "9304cfa3-6159-4b59-b2aa-6fcc1be687a0",
     "showTitle": false,
     "title": ""
    }
   },
   "outputs": [
    {
     "data": {
      "text/html": [
       "<style scoped>\n",
       "  .ansiout {\n",
       "    display: block;\n",
       "    unicode-bidi: embed;\n",
       "    white-space: pre-wrap;\n",
       "    word-wrap: break-word;\n",
       "    word-break: break-all;\n",
       "    font-family: \"Source Code Pro\", \"Menlo\", monospace;;\n",
       "    font-size: 13px;\n",
       "    color: #555;\n",
       "    margin-left: 4px;\n",
       "    line-height: 19px;\n",
       "  }\n",
       "</style>\n",
       "<div class=\"ansiout\"></div>"
      ]
     },
     "metadata": {
      "application/vnd.databricks.v1+output": {
       "addedWidgets": {},
       "arguments": {},
       "data": "<div class=\"ansiout\"></div>",
       "datasetInfos": [],
       "metadata": {},
       "removedWidgets": [],
       "type": "html"
      }
     },
     "output_type": "display_data"
    }
   ],
   "source": [
    "DF2 = DF1.groupBy(\"DEST_COUNTRY_NAME\").count().collect()\n",
    "DF3 = DF1.groupBy(\"ORIGIN_COUNTRY_NAME\").count().collect()\n",
    "DF4 = DF1.groupBy(\"count\").count().collect()"
   ]
  },
  {
   "cell_type": "markdown",
   "metadata": {
    "application/vnd.databricks.v1+cell": {
     "inputWidgets": {},
     "nuid": "5b6d21ec-c39a-4aa3-ae18-76510f4cd62e",
     "showTitle": false,
     "title": ""
    }
   },
   "source": [
    "The time taken to process these commands is to 3.07 seconds"
   ]
  },
  {
   "cell_type": "markdown",
   "metadata": {
    "application/vnd.databricks.v1+cell": {
     "inputWidgets": {},
     "nuid": "0093eb97-2fdb-48a8-8866-1e04aa44a9fa",
     "showTitle": false,
     "title": ""
    }
   },
   "source": [
    "Now using cache to estimate the time taken"
   ]
  },
  {
   "cell_type": "code",
   "execution_count": 0,
   "metadata": {
    "application/vnd.databricks.v1+cell": {
     "inputWidgets": {},
     "nuid": "e94b945d-f075-45d0-b85e-98e4cce500ab",
     "showTitle": false,
     "title": ""
    }
   },
   "outputs": [
    {
     "data": {
      "text/html": [
       "<style scoped>\n",
       "  .ansiout {\n",
       "    display: block;\n",
       "    unicode-bidi: embed;\n",
       "    white-space: pre-wrap;\n",
       "    word-wrap: break-word;\n",
       "    word-break: break-all;\n",
       "    font-family: \"Source Code Pro\", \"Menlo\", monospace;;\n",
       "    font-size: 13px;\n",
       "    color: #555;\n",
       "    margin-left: 4px;\n",
       "    line-height: 19px;\n",
       "  }\n",
       "</style>\n",
       "<div class=\"ansiout\"><span class=\"ansired\">Out[</span><span class=\"ansired\">24</span><span class=\"ansired\">]: </span>256</div>"
      ]
     },
     "metadata": {
      "application/vnd.databricks.v1+output": {
       "addedWidgets": {},
       "arguments": {},
       "data": "<div class=\"ansiout\"><span class=\"ansired\">Out[</span><span class=\"ansired\">24</span><span class=\"ansired\">]: </span>256</div>",
       "datasetInfos": [],
       "metadata": {},
       "removedWidgets": [],
       "type": "html"
      }
     },
     "output_type": "display_data"
    }
   ],
   "source": [
    "DF1.cache()\n",
    "DF1.count()"
   ]
  },
  {
   "cell_type": "code",
   "execution_count": 0,
   "metadata": {
    "application/vnd.databricks.v1+cell": {
     "inputWidgets": {},
     "nuid": "11fd8bdb-9b3f-4682-811f-38d00e73538b",
     "showTitle": false,
     "title": ""
    }
   },
   "outputs": [
    {
     "data": {
      "text/html": [
       "<style scoped>\n",
       "  .ansiout {\n",
       "    display: block;\n",
       "    unicode-bidi: embed;\n",
       "    white-space: pre-wrap;\n",
       "    word-wrap: break-word;\n",
       "    word-break: break-all;\n",
       "    font-family: \"Source Code Pro\", \"Menlo\", monospace;;\n",
       "    font-size: 13px;\n",
       "    color: #555;\n",
       "    margin-left: 4px;\n",
       "    line-height: 19px;\n",
       "  }\n",
       "</style>\n",
       "<div class=\"ansiout\"></div>"
      ]
     },
     "metadata": {
      "application/vnd.databricks.v1+output": {
       "addedWidgets": {},
       "arguments": {},
       "data": "<div class=\"ansiout\"></div>",
       "datasetInfos": [],
       "metadata": {},
       "removedWidgets": [],
       "type": "html"
      }
     },
     "output_type": "display_data"
    }
   ],
   "source": [
    "DF2 = DF1.groupBy(\"DEST_COUNTRY_NAME\").count().collect()\n",
    "DF3 = DF1.groupBy(\"ORIGIN_COUNTRY_NAME\").count().collect()\n",
    "DF4 = DF1.groupBy(\"count\").count().collect()"
   ]
  },
  {
   "cell_type": "markdown",
   "metadata": {
    "application/vnd.databricks.v1+cell": {
     "inputWidgets": {},
     "nuid": "a9a4cc2b-c93f-455d-abb9-55ceade78b7f",
     "showTitle": false,
     "title": ""
    }
   },
   "source": [
    "This may not seem that wild but picture a large data set or one that requires a lot of computation in order to create. The savings can be immense."
   ]
  },
  {
   "cell_type": "markdown",
   "metadata": {
    "application/vnd.databricks.v1+cell": {
     "inputWidgets": {},
     "nuid": "75f8cbb4-b9bd-4239-a0e2-c34a35367d98",
     "showTitle": false,
     "title": ""
    }
   },
   "source": [
    "## Structured Streaming\n",
    "\n",
    "The best thing about Structured Streaming is that it allows you to rapidly and quickly get value out of streaming systems with simple switches, it also makes it easy to reason about because you can write your batch job as a way to prototype it and then you can convert it to streaming job.\n",
    "\n",
    "\n",
    "The way all of this works is by incrementally processing that data.\n",
    "\n",
    "\n",
    "* Note: Upload the **retail_data** found in \"https://github.com/databricks/Spark-The-Definitive-Guide\""
   ]
  },
  {
   "cell_type": "code",
   "execution_count": 0,
   "metadata": {
    "application/vnd.databricks.v1+cell": {
     "inputWidgets": {},
     "nuid": "cb4c0397-09fa-407f-9751-c51864dc7715",
     "showTitle": false,
     "title": ""
    }
   },
   "outputs": [
    {
     "data": {
      "text/html": [
       "<style scoped>\n",
       "  .table-result-container {\n",
       "    max-height: 300px;\n",
       "    overflow: auto;\n",
       "  }\n",
       "  table, th, td {\n",
       "    border: 1px solid black;\n",
       "    border-collapse: collapse;\n",
       "  }\n",
       "  th, td {\n",
       "    padding: 5px;\n",
       "  }\n",
       "  th {\n",
       "    text-align: left;\n",
       "  }\n",
       "</style><div class='table-result-container'><table class='table-result'><thead style='background-color: white'><tr><th>path</th><th>name</th><th>size</th></tr></thead><tbody><tr><td>dbfs:/FileStore/tables/retail-data/by-day/2010_12_01-ec65d.csv</td><td>2010_12_01-ec65d.csv</td><td>275001</td></tr><tr><td>dbfs:/FileStore/tables/retail-data/by-day/2010_12_02-cddbc.csv</td><td>2010_12_02-cddbc.csv</td><td>191826</td></tr><tr><td>dbfs:/FileStore/tables/retail-data/by-day/2010_12_03-b5f23.csv</td><td>2010_12_03-b5f23.csv</td><td>190700</td></tr><tr><td>dbfs:/FileStore/tables/retail-data/by-day/2010_12_05-e147f.csv</td><td>2010_12_05-e147f.csv</td><td>246056</td></tr><tr><td>dbfs:/FileStore/tables/retail-data/by-day/2010_12_06-f177a.csv</td><td>2010_12_06-f177a.csv</td><td>339039</td></tr><tr><td>dbfs:/FileStore/tables/retail-data/by-day/2010_12_07-139ea.csv</td><td>2010_12_07-139ea.csv</td><td>255832</td></tr><tr><td>dbfs:/FileStore/tables/retail-data/by-day/2010_12_08-073ef.csv</td><td>2010_12_08-073ef.csv</td><td>235974</td></tr><tr><td>dbfs:/FileStore/tables/retail-data/by-day/2010_12_09-e1f01.csv</td><td>2010_12_09-e1f01.csv</td><td>252904</td></tr><tr><td>dbfs:/FileStore/tables/retail-data/by-day/2010_12_10-ff80e.csv</td><td>2010_12_10-ff80e.csv</td><td>241468</td></tr><tr><td>dbfs:/FileStore/tables/retail-data/by-day/2010_12_12-fe693.csv</td><td>2010_12_12-fe693.csv</td><td>132120</td></tr><tr><td>dbfs:/FileStore/tables/retail-data/by-day/2010_12_13-2cc43.csv</td><td>2010_12_13-2cc43.csv</td><td>202021</td></tr><tr><td>dbfs:/FileStore/tables/retail-data/by-day/2010_12_14-08793.csv</td><td>2010_12_14-08793.csv</td><td>186685</td></tr><tr><td>dbfs:/FileStore/tables/retail-data/by-day/2010_12_15-81005.csv</td><td>2010_12_15-81005.csv</td><td>122496</td></tr><tr><td>dbfs:/FileStore/tables/retail-data/by-day/2010_12_16-b820a.csv</td><td>2010_12_16-b820a.csv</td><td>163452</td></tr><tr><td>dbfs:/FileStore/tables/retail-data/by-day/2010_12_17-34712.csv</td><td>2010_12_17-34712.csv</td><td>264944</td></tr><tr><td>dbfs:/FileStore/tables/retail-data/by-day/2010_12_19-3bbaf.csv</td><td>2010_12_19-3bbaf.csv</td><td>47264</td></tr><tr><td>dbfs:/FileStore/tables/retail-data/by-day/2010_12_20-ca1e2.csv</td><td>2010_12_20-ca1e2.csv</td><td>153561</td></tr><tr><td>dbfs:/FileStore/tables/retail-data/by-day/2010_12_21-8425c.csv</td><td>2010_12_21-8425c.csv</td><td>134904</td></tr><tr><td>dbfs:/FileStore/tables/retail-data/by-day/2010_12_22-0cae5.csv</td><td>2010_12_22-0cae5.csv</td><td>25836</td></tr><tr><td>dbfs:/FileStore/tables/retail-data/by-day/2010_12_23-f1601.csv</td><td>2010_12_23-f1601.csv</td><td>83192</td></tr><tr><td>dbfs:/FileStore/tables/retail-data/by-day/2011_01_04-c7428.csv</td><td>2011_01_04-c7428.csv</td><td>104656</td></tr><tr><td>dbfs:/FileStore/tables/retail-data/by-day/2011_01_05-34a5e.csv</td><td>2011_01_05-34a5e.csv</td><td>153733</td></tr><tr><td>dbfs:/FileStore/tables/retail-data/by-day/2011_01_06-5e136.csv</td><td>2011_01_06-5e136.csv</td><td>162100</td></tr><tr><td>dbfs:/FileStore/tables/retail-data/by-day/2011_01_07-b0835.csv</td><td>2011_01_07-b0835.csv</td><td>155938</td></tr><tr><td>dbfs:/FileStore/tables/retail-data/by-day/2011_01_09-daa69.csv</td><td>2011_01_09-daa69.csv</td><td>101317</td></tr><tr><td>dbfs:/FileStore/tables/retail-data/by-day/2011_01_10-45f72.csv</td><td>2011_01_10-45f72.csv</td><td>170418</td></tr><tr><td>dbfs:/FileStore/tables/retail-data/by-day/2011_01_11-5f149.csv</td><td>2011_01_11-5f149.csv</td><td>127847</td></tr><tr><td>dbfs:/FileStore/tables/retail-data/by-day/2011_01_12-660f3.csv</td><td>2011_01_12-660f3.csv</td><td>158187</td></tr><tr><td>dbfs:/FileStore/tables/retail-data/by-day/2011_01_13-93be1.csv</td><td>2011_01_13-93be1.csv</td><td>126109</td></tr><tr><td>dbfs:/FileStore/tables/retail-data/by-day/2011_01_14-c12f8.csv</td><td>2011_01_14-c12f8.csv</td><td>131086</td></tr><tr><td>dbfs:/FileStore/tables/retail-data/by-day/2011_01_16-3a54a.csv</td><td>2011_01_16-3a54a.csv</td><td>58906</td></tr><tr><td>dbfs:/FileStore/tables/retail-data/by-day/2011_01_17-784e4.csv</td><td>2011_01_17-784e4.csv</td><td>221821</td></tr><tr><td>dbfs:/FileStore/tables/retail-data/by-day/2011_01_18-bca74.csv</td><td>2011_01_18-bca74.csv</td><td>124711</td></tr><tr><td>dbfs:/FileStore/tables/retail-data/by-day/2011_01_19-66ef1.csv</td><td>2011_01_19-66ef1.csv</td><td>124865</td></tr><tr><td>dbfs:/FileStore/tables/retail-data/by-day/2011_01_20-c6579.csv</td><td>2011_01_20-c6579.csv</td><td>130157</td></tr><tr><td>dbfs:/FileStore/tables/retail-data/by-day/2011_01_21-10d0c.csv</td><td>2011_01_21-10d0c.csv</td><td>139157</td></tr><tr><td>dbfs:/FileStore/tables/retail-data/by-day/2011_01_23-1227d.csv</td><td>2011_01_23-1227d.csv</td><td>80012</td></tr><tr><td>dbfs:/FileStore/tables/retail-data/by-day/2011_01_24-2b82e.csv</td><td>2011_01_24-2b82e.csv</td><td>128813</td></tr><tr><td>dbfs:/FileStore/tables/retail-data/by-day/2011_01_25-249ee.csv</td><td>2011_01_25-249ee.csv</td><td>146739</td></tr><tr><td>dbfs:/FileStore/tables/retail-data/by-day/2011_01_26-71a80.csv</td><td>2011_01_26-71a80.csv</td><td>113985</td></tr><tr><td>dbfs:/FileStore/tables/retail-data/by-day/2011_01_27-b3a69.csv</td><td>2011_01_27-b3a69.csv</td><td>140033</td></tr><tr><td>dbfs:/FileStore/tables/retail-data/by-day/2011_01_28-4a482.csv</td><td>2011_01_28-4a482.csv</td><td>87450</td></tr><tr><td>dbfs:/FileStore/tables/retail-data/by-day/2011_01_30-775f1.csv</td><td>2011_01_30-775f1.csv</td><td>66171</td></tr><tr><td>dbfs:/FileStore/tables/retail-data/by-day/2011_01_31-59c93.csv</td><td>2011_01_31-59c93.csv</td><td>132774</td></tr><tr><td>dbfs:/FileStore/tables/retail-data/by-day/2011_02_01-6b02e.csv</td><td>2011_02_01-6b02e.csv</td><td>139954</td></tr><tr><td>dbfs:/FileStore/tables/retail-data/by-day/2011_02_02-b986f.csv</td><td>2011_02_02-b986f.csv</td><td>124794</td></tr><tr><td>dbfs:/FileStore/tables/retail-data/by-day/2011_02_03-c0445.csv</td><td>2011_02_03-c0445.csv</td><td>87779</td></tr><tr><td>dbfs:/FileStore/tables/retail-data/by-day/2011_02_04-0cd75.csv</td><td>2011_02_04-0cd75.csv</td><td>107014</td></tr><tr><td>dbfs:/FileStore/tables/retail-data/by-day/2011_02_06-f9c15.csv</td><td>2011_02_06-f9c15.csv</td><td>25516</td></tr><tr><td>dbfs:/FileStore/tables/retail-data/by-day/2011_02_07-d746f.csv</td><td>2011_02_07-d746f.csv</td><td>111980</td></tr><tr><td>dbfs:/FileStore/tables/retail-data/by-day/2011_02_08-202ea.csv</td><td>2011_02_08-202ea.csv</td><td>107136</td></tr><tr><td>dbfs:/FileStore/tables/retail-data/by-day/2011_02_09-1e824.csv</td><td>2011_02_09-1e824.csv</td><td>75999</td></tr><tr><td>dbfs:/FileStore/tables/retail-data/by-day/2011_02_10-b956f.csv</td><td>2011_02_10-b956f.csv</td><td>70942</td></tr><tr><td>dbfs:/FileStore/tables/retail-data/by-day/2011_02_11-89a40.csv</td><td>2011_02_11-89a40.csv</td><td>83807</td></tr><tr><td>dbfs:/FileStore/tables/retail-data/by-day/2011_02_13-035ac.csv</td><td>2011_02_13-035ac.csv</td><td>57098</td></tr><tr><td>dbfs:/FileStore/tables/retail-data/by-day/2011_02_14-3897d.csv</td><td>2011_02_14-3897d.csv</td><td>97341</td></tr><tr><td>dbfs:/FileStore/tables/retail-data/by-day/2011_02_15-565f3.csv</td><td>2011_02_15-565f3.csv</td><td>117745</td></tr><tr><td>dbfs:/FileStore/tables/retail-data/by-day/2011_02_16-6c962.csv</td><td>2011_02_16-6c962.csv</td><td>106100</td></tr><tr><td>dbfs:/FileStore/tables/retail-data/by-day/2011_02_17-c9bf1.csv</td><td>2011_02_17-c9bf1.csv</td><td>150882</td></tr><tr><td>dbfs:/FileStore/tables/retail-data/by-day/2011_02_18-d777c.csv</td><td>2011_02_18-d777c.csv</td><td>75633</td></tr><tr><td>dbfs:/FileStore/tables/retail-data/by-day/2011_02_20-fd032.csv</td><td>2011_02_20-fd032.csv</td><td>78068</td></tr><tr><td>dbfs:/FileStore/tables/retail-data/by-day/2011_02_21-5d171.csv</td><td>2011_02_21-5d171.csv</td><td>124088</td></tr><tr><td>dbfs:/FileStore/tables/retail-data/by-day/2011_02_22-4c014.csv</td><td>2011_02_22-4c014.csv</td><td>142089</td></tr><tr><td>dbfs:/FileStore/tables/retail-data/by-day/2011_02_23-36907.csv</td><td>2011_02_23-36907.csv</td><td>138337</td></tr><tr><td>dbfs:/FileStore/tables/retail-data/by-day/2011_02_24-a0aab.csv</td><td>2011_02_24-a0aab.csv</td><td>116769</td></tr><tr><td>dbfs:/FileStore/tables/retail-data/by-day/2011_02_25-1762c.csv</td><td>2011_02_25-1762c.csv</td><td>87507</td></tr><tr><td>dbfs:/FileStore/tables/retail-data/by-day/2011_02_27-785da.csv</td><td>2011_02_27-785da.csv</td><td>74111</td></tr><tr><td>dbfs:/FileStore/tables/retail-data/by-day/2011_02_28-c7383.csv</td><td>2011_02_28-c7383.csv</td><td>151947</td></tr><tr><td>dbfs:/FileStore/tables/retail-data/by-day/2011_03_01-26dee.csv</td><td>2011_03_01-26dee.csv</td><td>119793</td></tr><tr><td>dbfs:/FileStore/tables/retail-data/by-day/2011_03_02-44516.csv</td><td>2011_03_02-44516.csv</td><td>85302</td></tr><tr><td>dbfs:/FileStore/tables/retail-data/by-day/2011_03_03-f2be2.csv</td><td>2011_03_03-f2be2.csv</td><td>122010</td></tr><tr><td>dbfs:/FileStore/tables/retail-data/by-day/2011_03_04-b1acd.csv</td><td>2011_03_04-b1acd.csv</td><td>97942</td></tr><tr><td>dbfs:/FileStore/tables/retail-data/by-day/2011_03_06-5f221.csv</td><td>2011_03_06-5f221.csv</td><td>76977</td></tr><tr><td>dbfs:/FileStore/tables/retail-data/by-day/2011_03_07-4648c.csv</td><td>2011_03_07-4648c.csv</td><td>172784</td></tr><tr><td>dbfs:/FileStore/tables/retail-data/by-day/2011_03_08-dd61d.csv</td><td>2011_03_08-dd61d.csv</td><td>141880</td></tr><tr><td>dbfs:/FileStore/tables/retail-data/by-day/2011_03_09-5cfc4.csv</td><td>2011_03_09-5cfc4.csv</td><td>113715</td></tr><tr><td>dbfs:/FileStore/tables/retail-data/by-day/2011_03_10-c3d1e.csv</td><td>2011_03_10-c3d1e.csv</td><td>100881</td></tr><tr><td>dbfs:/FileStore/tables/retail-data/by-day/2011_03_11-afddb.csv</td><td>2011_03_11-afddb.csv</td><td>84393</td></tr><tr><td>dbfs:/FileStore/tables/retail-data/by-day/2011_03_13-a4f20.csv</td><td>2011_03_13-a4f20.csv</td><td>48917</td></tr><tr><td>dbfs:/FileStore/tables/retail-data/by-day/2011_03_14-0b540.csv</td><td>2011_03_14-0b540.csv</td><td>99595</td></tr><tr><td>dbfs:/FileStore/tables/retail-data/by-day/2011_03_15-4ba52.csv</td><td>2011_03_15-4ba52.csv</td><td>112853</td></tr><tr><td>dbfs:/FileStore/tables/retail-data/by-day/2011_03_16-96d27.csv</td><td>2011_03_16-96d27.csv</td><td>78923</td></tr><tr><td>dbfs:/FileStore/tables/retail-data/by-day/2011_03_17-2c609.csv</td><td>2011_03_17-2c609.csv</td><td>180245</td></tr><tr><td>dbfs:/FileStore/tables/retail-data/by-day/2011_03_18-1455a.csv</td><td>2011_03_18-1455a.csv</td><td>122082</td></tr><tr><td>dbfs:/FileStore/tables/retail-data/by-day/2011_03_20-9f237.csv</td><td>2011_03_20-9f237.csv</td><td>130096</td></tr><tr><td>dbfs:/FileStore/tables/retail-data/by-day/2011_03_21-f7fda.csv</td><td>2011_03_21-f7fda.csv</td><td>96588</td></tr><tr><td>dbfs:/FileStore/tables/retail-data/by-day/2011_03_22-0d533.csv</td><td>2011_03_22-0d533.csv</td><td>206516</td></tr><tr><td>dbfs:/FileStore/tables/retail-data/by-day/2011_03_23-5e568.csv</td><td>2011_03_23-5e568.csv</td><td>116861</td></tr><tr><td>dbfs:/FileStore/tables/retail-data/by-day/2011_03_24-f7cee.csv</td><td>2011_03_24-f7cee.csv</td><td>141988</td></tr><tr><td>dbfs:/FileStore/tables/retail-data/by-day/2011_03_25-37ad6.csv</td><td>2011_03_25-37ad6.csv</td><td>122156</td></tr><tr><td>dbfs:/FileStore/tables/retail-data/by-day/2011_03_27-88efa.csv</td><td>2011_03_27-88efa.csv</td><td>67786</td></tr><tr><td>dbfs:/FileStore/tables/retail-data/by-day/2011_03_28-1d77f.csv</td><td>2011_03_28-1d77f.csv</td><td>147212</td></tr><tr><td>dbfs:/FileStore/tables/retail-data/by-day/2011_03_29-814bc.csv</td><td>2011_03_29-814bc.csv</td><td>173104</td></tr><tr><td>dbfs:/FileStore/tables/retail-data/by-day/2011_03_30-d1c99.csv</td><td>2011_03_30-d1c99.csv</td><td>141435</td></tr><tr><td>dbfs:/FileStore/tables/retail-data/by-day/2011_03_31-bcec5.csv</td><td>2011_03_31-bcec5.csv</td><td>152420</td></tr><tr><td>dbfs:/FileStore/tables/retail-data/by-day/2011_04_01-437a8.csv</td><td>2011_04_01-437a8.csv</td><td>112493</td></tr><tr><td>dbfs:/FileStore/tables/retail-data/by-day/2011_04_03-e6047.csv</td><td>2011_04_03-e6047.csv</td><td>66518</td></tr><tr><td>dbfs:/FileStore/tables/retail-data/by-day/2011_04_04-af361.csv</td><td>2011_04_04-af361.csv</td><td>150711</td></tr><tr><td>dbfs:/FileStore/tables/retail-data/by-day/2011_04_05-e957b.csv</td><td>2011_04_05-e957b.csv</td><td>107560</td></tr><tr><td>dbfs:/FileStore/tables/retail-data/by-day/2011_04_06-96516.csv</td><td>2011_04_06-96516.csv</td><td>98068</td></tr><tr><td>dbfs:/FileStore/tables/retail-data/by-day/2011_04_07-7537d.csv</td><td>2011_04_07-7537d.csv</td><td>136252</td></tr><tr><td>dbfs:/FileStore/tables/retail-data/by-day/2011_04_08-a7b99.csv</td><td>2011_04_08-a7b99.csv</td><td>125969</td></tr><tr><td>dbfs:/FileStore/tables/retail-data/by-day/2011_04_10-81641.csv</td><td>2011_04_10-81641.csv</td><td>85637</td></tr><tr><td>dbfs:/FileStore/tables/retail-data/by-day/2011_04_11-0b203.csv</td><td>2011_04_11-0b203.csv</td><td>112516</td></tr><tr><td>dbfs:/FileStore/tables/retail-data/by-day/2011_04_12-484e4.csv</td><td>2011_04_12-484e4.csv</td><td>104116</td></tr><tr><td>dbfs:/FileStore/tables/retail-data/by-day/2011_04_13-a690e.csv</td><td>2011_04_13-a690e.csv</td><td>95007</td></tr><tr><td>dbfs:/FileStore/tables/retail-data/by-day/2011_04_14-db036.csv</td><td>2011_04_14-db036.csv</td><td>144236</td></tr><tr><td>dbfs:/FileStore/tables/retail-data/by-day/2011_04_15-fcda2.csv</td><td>2011_04_15-fcda2.csv</td><td>128980</td></tr><tr><td>dbfs:/FileStore/tables/retail-data/by-day/2011_04_17-e46de.csv</td><td>2011_04_17-e46de.csv</td><td>87658</td></tr><tr><td>dbfs:/FileStore/tables/retail-data/by-day/2011_04_18-4c380.csv</td><td>2011_04_18-4c380.csv</td><td>280118</td></tr><tr><td>dbfs:/FileStore/tables/retail-data/by-day/2011_04_19-7bb43.csv</td><td>2011_04_19-7bb43.csv</td><td>165965</td></tr><tr><td>dbfs:/FileStore/tables/retail-data/by-day/2011_04_20-65903.csv</td><td>2011_04_20-65903.csv</td><td>91865</td></tr><tr><td>dbfs:/FileStore/tables/retail-data/by-day/2011_04_21-d657d.csv</td><td>2011_04_21-d657d.csv</td><td>170023</td></tr><tr><td>dbfs:/FileStore/tables/retail-data/by-day/2011_04_26-c66cd.csv</td><td>2011_04_26-c66cd.csv</td><td>167480</td></tr><tr><td>dbfs:/FileStore/tables/retail-data/by-day/2011_04_27-c8b79.csv</td><td>2011_04_27-c8b79.csv</td><td>116613</td></tr><tr><td>dbfs:/FileStore/tables/retail-data/by-day/2011_04_28-793d7.csv</td><td>2011_04_28-793d7.csv</td><td>106481</td></tr><tr><td>dbfs:/FileStore/tables/retail-data/by-day/2011_05_01-b21d2.csv</td><td>2011_05_01-b21d2.csv</td><td>40884</td></tr><tr><td>dbfs:/FileStore/tables/retail-data/by-day/2011_05_03-cb2fa.csv</td><td>2011_05_03-cb2fa.csv</td><td>126563</td></tr><tr><td>dbfs:/FileStore/tables/retail-data/by-day/2011_05_04-d5855.csv</td><td>2011_05_04-d5855.csv</td><td>105162</td></tr><tr><td>dbfs:/FileStore/tables/retail-data/by-day/2011_05_05-7f747.csv</td><td>2011_05_05-7f747.csv</td><td>162318</td></tr><tr><td>dbfs:/FileStore/tables/retail-data/by-day/2011_05_06-46292.csv</td><td>2011_05_06-46292.csv</td><td>180297</td></tr><tr><td>dbfs:/FileStore/tables/retail-data/by-day/2011_05_08-a7964.csv</td><td>2011_05_08-a7964.csv</td><td>136006</td></tr><tr><td>dbfs:/FileStore/tables/retail-data/by-day/2011_05_09-7f544.csv</td><td>2011_05_09-7f544.csv</td><td>154043</td></tr><tr><td>dbfs:/FileStore/tables/retail-data/by-day/2011_05_10-24159.csv</td><td>2011_05_10-24159.csv</td><td>224383</td></tr><tr><td>dbfs:/FileStore/tables/retail-data/by-day/2011_05_11-ca6d3.csv</td><td>2011_05_11-ca6d3.csv</td><td>151121</td></tr><tr><td>dbfs:/FileStore/tables/retail-data/by-day/2011_05_12-c6056.csv</td><td>2011_05_12-c6056.csv</td><td>175096</td></tr><tr><td>dbfs:/FileStore/tables/retail-data/by-day/2011_05_13-e0944.csv</td><td>2011_05_13-e0944.csv</td><td>125524</td></tr><tr><td>dbfs:/FileStore/tables/retail-data/by-day/2011_05_15-26a91.csv</td><td>2011_05_15-26a91.csv</td><td>73038</td></tr><tr><td>dbfs:/FileStore/tables/retail-data/by-day/2011_05_16-5240f.csv</td><td>2011_05_16-5240f.csv</td><td>140801</td></tr><tr><td>dbfs:/FileStore/tables/retail-data/by-day/2011_05_17-e724f.csv</td><td>2011_05_17-e724f.csv</td><td>168847</td></tr><tr><td>dbfs:/FileStore/tables/retail-data/by-day/2011_05_18-4a53d.csv</td><td>2011_05_18-4a53d.csv</td><td>121774</td></tr><tr><td>dbfs:/FileStore/tables/retail-data/by-day/2011_05_19-1bfb4.csv</td><td>2011_05_19-1bfb4.csv</td><td>172737</td></tr><tr><td>dbfs:/FileStore/tables/retail-data/by-day/2011_05_20-5c34b.csv</td><td>2011_05_20-5c34b.csv</td><td>100198</td></tr><tr><td>dbfs:/FileStore/tables/retail-data/by-day/2011_05_22-2018b.csv</td><td>2011_05_22-2018b.csv</td><td>141114</td></tr><tr><td>dbfs:/FileStore/tables/retail-data/by-day/2011_05_23-3b3fe.csv</td><td>2011_05_23-3b3fe.csv</td><td>144869</td></tr><tr><td>dbfs:/FileStore/tables/retail-data/by-day/2011_05_24-22778.csv</td><td>2011_05_24-22778.csv</td><td>153615</td></tr><tr><td>dbfs:/FileStore/tables/retail-data/by-day/2011_05_25-3585d.csv</td><td>2011_05_25-3585d.csv</td><td>116151</td></tr><tr><td>dbfs:/FileStore/tables/retail-data/by-day/2011_05_26-8211a.csv</td><td>2011_05_26-8211a.csv</td><td>86137</td></tr><tr><td>dbfs:/FileStore/tables/retail-data/by-day/2011_05_27-2e7cc.csv</td><td>2011_05_27-2e7cc.csv</td><td>103064</td></tr><tr><td>dbfs:/FileStore/tables/retail-data/by-day/2011_05_29-b2121.csv</td><td>2011_05_29-b2121.csv</td><td>57243</td></tr><tr><td>dbfs:/FileStore/tables/retail-data/by-day/2011_05_31-70c58.csv</td><td>2011_05_31-70c58.csv</td><td>112113</td></tr><tr><td>dbfs:/FileStore/tables/retail-data/by-day/2011_06_01-66f5e.csv</td><td>2011_06_01-66f5e.csv</td><td>126676</td></tr><tr><td>dbfs:/FileStore/tables/retail-data/by-day/2011_06_02-0d2c5.csv</td><td>2011_06_02-0d2c5.csv</td><td>139233</td></tr><tr><td>dbfs:/FileStore/tables/retail-data/by-day/2011_06_03-240b0.csv</td><td>2011_06_03-240b0.csv</td><td>75454</td></tr><tr><td>dbfs:/FileStore/tables/retail-data/by-day/2011_06_05-f4bb9.csv</td><td>2011_06_05-f4bb9.csv</td><td>140061</td></tr><tr><td>dbfs:/FileStore/tables/retail-data/by-day/2011_06_06-72458.csv</td><td>2011_06_06-72458.csv</td><td>109829</td></tr><tr><td>dbfs:/FileStore/tables/retail-data/by-day/2011_06_07-27ee4.csv</td><td>2011_06_07-27ee4.csv</td><td>171241</td></tr><tr><td>dbfs:/FileStore/tables/retail-data/by-day/2011_06_08-b8722.csv</td><td>2011_06_08-b8722.csv</td><td>203086</td></tr><tr><td>dbfs:/FileStore/tables/retail-data/by-day/2011_06_09-38261.csv</td><td>2011_06_09-38261.csv</td><td>162227</td></tr><tr><td>dbfs:/FileStore/tables/retail-data/by-day/2011_06_10-ddd96.csv</td><td>2011_06_10-ddd96.csv</td><td>93701</td></tr><tr><td>dbfs:/FileStore/tables/retail-data/by-day/2011_06_12-28453.csv</td><td>2011_06_12-28453.csv</td><td>97835</td></tr><tr><td>dbfs:/FileStore/tables/retail-data/by-day/2011_06_13-ea81d.csv</td><td>2011_06_13-ea81d.csv</td><td>129767</td></tr><tr><td>dbfs:/FileStore/tables/retail-data/by-day/2011_06_14-df0b6.csv</td><td>2011_06_14-df0b6.csv</td><td>140214</td></tr><tr><td>dbfs:/FileStore/tables/retail-data/by-day/2011_06_15-bfef5.csv</td><td>2011_06_15-bfef5.csv</td><td>151127</td></tr><tr><td>dbfs:/FileStore/tables/retail-data/by-day/2011_06_16-23bee.csv</td><td>2011_06_16-23bee.csv</td><td>136339</td></tr><tr><td>dbfs:/FileStore/tables/retail-data/by-day/2011_06_17-a16a5.csv</td><td>2011_06_17-a16a5.csv</td><td>85739</td></tr><tr><td>dbfs:/FileStore/tables/retail-data/by-day/2011_06_19-527c3.csv</td><td>2011_06_19-527c3.csv</td><td>105190</td></tr><tr><td>dbfs:/FileStore/tables/retail-data/by-day/2011_06_20-f9090.csv</td><td>2011_06_20-f9090.csv</td><td>175539</td></tr><tr><td>dbfs:/FileStore/tables/retail-data/by-day/2011_06_21-6fc05.csv</td><td>2011_06_21-6fc05.csv</td><td>134322</td></tr><tr><td>dbfs:/FileStore/tables/retail-data/by-day/2011_06_22-c5264.csv</td><td>2011_06_22-c5264.csv</td><td>91369</td></tr><tr><td>dbfs:/FileStore/tables/retail-data/by-day/2011_06_23-6a496.csv</td><td>2011_06_23-6a496.csv</td><td>175463</td></tr><tr><td>dbfs:/FileStore/tables/retail-data/by-day/2011_06_24-62117.csv</td><td>2011_06_24-62117.csv</td><td>91308</td></tr><tr><td>dbfs:/FileStore/tables/retail-data/by-day/2011_06_26-8b55f.csv</td><td>2011_06_26-8b55f.csv</td><td>64579</td></tr><tr><td>dbfs:/FileStore/tables/retail-data/by-day/2011_06_27-d4b5d.csv</td><td>2011_06_27-d4b5d.csv</td><td>104370</td></tr><tr><td>dbfs:/FileStore/tables/retail-data/by-day/2011_06_28-12792.csv</td><td>2011_06_28-12792.csv</td><td>92153</td></tr><tr><td>dbfs:/FileStore/tables/retail-data/by-day/2011_06_29-6e7ef.csv</td><td>2011_06_29-6e7ef.csv</td><td>117488</td></tr><tr><td>dbfs:/FileStore/tables/retail-data/by-day/2011_06_30-2a1f6.csv</td><td>2011_06_30-2a1f6.csv</td><td>143253</td></tr><tr><td>dbfs:/FileStore/tables/retail-data/by-day/2011_07_01-a2976.csv</td><td>2011_07_01-a2976.csv</td><td>90752</td></tr><tr><td>dbfs:/FileStore/tables/retail-data/by-day/2011_07_03-9d560.csv</td><td>2011_07_03-9d560.csv</td><td>54798</td></tr><tr><td>dbfs:/FileStore/tables/retail-data/by-day/2011_07_04-85119.csv</td><td>2011_07_04-85119.csv</td><td>189204</td></tr><tr><td>dbfs:/FileStore/tables/retail-data/by-day/2011_07_05-dd34e.csv</td><td>2011_07_05-dd34e.csv</td><td>189831</td></tr><tr><td>dbfs:/FileStore/tables/retail-data/by-day/2011_07_06-efec8.csv</td><td>2011_07_06-efec8.csv</td><td>159436</td></tr><tr><td>dbfs:/FileStore/tables/retail-data/by-day/2011_07_07-8e453.csv</td><td>2011_07_07-8e453.csv</td><td>171634</td></tr><tr><td>dbfs:/FileStore/tables/retail-data/by-day/2011_07_08-25695.csv</td><td>2011_07_08-25695.csv</td><td>140138</td></tr><tr><td>dbfs:/FileStore/tables/retail-data/by-day/2011_07_10-c0af5.csv</td><td>2011_07_10-c0af5.csv</td><td>74191</td></tr><tr><td>dbfs:/FileStore/tables/retail-data/by-day/2011_07_11-f9f0f.csv</td><td>2011_07_11-f9f0f.csv</td><td>133475</td></tr><tr><td>dbfs:/FileStore/tables/retail-data/by-day/2011_07_12-4c793.csv</td><td>2011_07_12-4c793.csv</td><td>144196</td></tr><tr><td>dbfs:/FileStore/tables/retail-data/by-day/2011_07_13-ad1c4.csv</td><td>2011_07_13-ad1c4.csv</td><td>144027</td></tr><tr><td>dbfs:/FileStore/tables/retail-data/by-day/2011_07_14-63d21.csv</td><td>2011_07_14-63d21.csv</td><td>153670</td></tr><tr><td>dbfs:/FileStore/tables/retail-data/by-day/2011_07_15-426c7.csv</td><td>2011_07_15-426c7.csv</td><td>99926</td></tr><tr><td>dbfs:/FileStore/tables/retail-data/by-day/2011_07_17-82693.csv</td><td>2011_07_17-82693.csv</td><td>112983</td></tr><tr><td>dbfs:/FileStore/tables/retail-data/by-day/2011_07_18-200e9.csv</td><td>2011_07_18-200e9.csv</td><td>194171</td></tr><tr><td>dbfs:/FileStore/tables/retail-data/by-day/2011_07_19-6bf60.csv</td><td>2011_07_19-6bf60.csv</td><td>147143</td></tr><tr><td>dbfs:/FileStore/tables/retail-data/by-day/2011_07_20-4f25f.csv</td><td>2011_07_20-4f25f.csv</td><td>177416</td></tr><tr><td>dbfs:/FileStore/tables/retail-data/by-day/2011_07_21-8a065.csv</td><td>2011_07_21-8a065.csv</td><td>140592</td></tr><tr><td>dbfs:/FileStore/tables/retail-data/by-day/2011_07_22-b465d.csv</td><td>2011_07_22-b465d.csv</td><td>113759</td></tr><tr><td>dbfs:/FileStore/tables/retail-data/by-day/2011_07_24-d4bbc.csv</td><td>2011_07_24-d4bbc.csv</td><td>101031</td></tr><tr><td>dbfs:/FileStore/tables/retail-data/by-day/2011_07_25-2a0ac.csv</td><td>2011_07_25-2a0ac.csv</td><td>170093</td></tr><tr><td>dbfs:/FileStore/tables/retail-data/by-day/2011_07_26-81f70.csv</td><td>2011_07_26-81f70.csv</td><td>112780</td></tr><tr><td>dbfs:/FileStore/tables/retail-data/by-day/2011_07_27-3ca30.csv</td><td>2011_07_27-3ca30.csv</td><td>109514</td></tr><tr><td>dbfs:/FileStore/tables/retail-data/by-day/2011_07_28-c5a9b.csv</td><td>2011_07_28-c5a9b.csv</td><td>138826</td></tr><tr><td>dbfs:/FileStore/tables/retail-data/by-day/2011_07_29-44b6e.csv</td><td>2011_07_29-44b6e.csv</td><td>101094</td></tr><tr><td>dbfs:/FileStore/tables/retail-data/by-day/2011_07_31-fce1d.csv</td><td>2011_07_31-fce1d.csv</td><td>114650</td></tr><tr><td>dbfs:/FileStore/tables/retail-data/by-day/2011_08_01-12360.csv</td><td>2011_08_01-12360.csv</td><td>107491</td></tr><tr><td>dbfs:/FileStore/tables/retail-data/by-day/2011_08_02-0bc19.csv</td><td>2011_08_02-0bc19.csv</td><td>120138</td></tr><tr><td>dbfs:/FileStore/tables/retail-data/by-day/2011_08_03-fa0a4.csv</td><td>2011_08_03-fa0a4.csv</td><td>140576</td></tr><tr><td>dbfs:/FileStore/tables/retail-data/by-day/2011_08_04-dc982.csv</td><td>2011_08_04-dc982.csv</td><td>162548</td></tr><tr><td>dbfs:/FileStore/tables/retail-data/by-day/2011_08_05-77b8f.csv</td><td>2011_08_05-77b8f.csv</td><td>127923</td></tr><tr><td>dbfs:/FileStore/tables/retail-data/by-day/2011_08_07-52195.csv</td><td>2011_08_07-52195.csv</td><td>49245</td></tr><tr><td>dbfs:/FileStore/tables/retail-data/by-day/2011_08_08-359bc.csv</td><td>2011_08_08-359bc.csv</td><td>131650</td></tr><tr><td>dbfs:/FileStore/tables/retail-data/by-day/2011_08_09-f8ca4.csv</td><td>2011_08_09-f8ca4.csv</td><td>100002</td></tr><tr><td>dbfs:/FileStore/tables/retail-data/by-day/2011_08_10-0648b.csv</td><td>2011_08_10-0648b.csv</td><td>120046</td></tr><tr><td>dbfs:/FileStore/tables/retail-data/by-day/2011_08_11-17010.csv</td><td>2011_08_11-17010.csv</td><td>175951</td></tr><tr><td>dbfs:/FileStore/tables/retail-data/by-day/2011_08_12-52777.csv</td><td>2011_08_12-52777.csv</td><td>97516</td></tr><tr><td>dbfs:/FileStore/tables/retail-data/by-day/2011_08_14-50394.csv</td><td>2011_08_14-50394.csv</td><td>50684</td></tr><tr><td>dbfs:/FileStore/tables/retail-data/by-day/2011_08_15-db716.csv</td><td>2011_08_15-db716.csv</td><td>82959</td></tr><tr><td>dbfs:/FileStore/tables/retail-data/by-day/2011_08_16-5a8be.csv</td><td>2011_08_16-5a8be.csv</td><td>92486</td></tr><tr><td>dbfs:/FileStore/tables/retail-data/by-day/2011_08_17-91d13.csv</td><td>2011_08_17-91d13.csv</td><td>148605</td></tr><tr><td>dbfs:/FileStore/tables/retail-data/by-day/2011_08_18-5b91a.csv</td><td>2011_08_18-5b91a.csv</td><td>137689</td></tr><tr><td>dbfs:/FileStore/tables/retail-data/by-day/2011_08_19-aef7e.csv</td><td>2011_08_19-aef7e.csv</td><td>72940</td></tr><tr><td>dbfs:/FileStore/tables/retail-data/by-day/2011_08_21-7722f.csv</td><td>2011_08_21-7722f.csv</td><td>97031</td></tr><tr><td>dbfs:/FileStore/tables/retail-data/by-day/2011_08_22-e27f3.csv</td><td>2011_08_22-e27f3.csv</td><td>114812</td></tr><tr><td>dbfs:/FileStore/tables/retail-data/by-day/2011_08_23-7968f.csv</td><td>2011_08_23-7968f.csv</td><td>130326</td></tr><tr><td>dbfs:/FileStore/tables/retail-data/by-day/2011_08_24-e79a4.csv</td><td>2011_08_24-e79a4.csv</td><td>167436</td></tr><tr><td>dbfs:/FileStore/tables/retail-data/by-day/2011_08_25-de729.csv</td><td>2011_08_25-de729.csv</td><td>118982</td></tr><tr><td>dbfs:/FileStore/tables/retail-data/by-day/2011_08_26-aa942.csv</td><td>2011_08_26-aa942.csv</td><td>82531</td></tr><tr><td>dbfs:/FileStore/tables/retail-data/by-day/2011_08_28-137d0.csv</td><td>2011_08_28-137d0.csv</td><td>107760</td></tr><tr><td>dbfs:/FileStore/tables/retail-data/by-day/2011_08_30-fb537.csv</td><td>2011_08_30-fb537.csv</td><td>274692</td></tr><tr><td>dbfs:/FileStore/tables/retail-data/by-day/2011_08_31-745f9.csv</td><td>2011_08_31-745f9.csv</td><td>113373</td></tr><tr><td>dbfs:/FileStore/tables/retail-data/by-day/2011_09_01-a9548.csv</td><td>2011_09_01-a9548.csv</td><td>127664</td></tr><tr><td>dbfs:/FileStore/tables/retail-data/by-day/2011_09_02-738ea.csv</td><td>2011_09_02-738ea.csv</td><td>205036</td></tr><tr><td>dbfs:/FileStore/tables/retail-data/by-day/2011_09_04-35ce9.csv</td><td>2011_09_04-35ce9.csv</td><td>120645</td></tr><tr><td>dbfs:/FileStore/tables/retail-data/by-day/2011_09_05-727aa.csv</td><td>2011_09_05-727aa.csv</td><td>141625</td></tr><tr><td>dbfs:/FileStore/tables/retail-data/by-day/2011_09_06-da1c3.csv</td><td>2011_09_06-da1c3.csv</td><td>102669</td></tr><tr><td>dbfs:/FileStore/tables/retail-data/by-day/2011_09_07-cbbcc.csv</td><td>2011_09_07-cbbcc.csv</td><td>181656</td></tr><tr><td>dbfs:/FileStore/tables/retail-data/by-day/2011_09_08-26ab0.csv</td><td>2011_09_08-26ab0.csv</td><td>156826</td></tr><tr><td>dbfs:/FileStore/tables/retail-data/by-day/2011_09_09-07037.csv</td><td>2011_09_09-07037.csv</td><td>142210</td></tr><tr><td>dbfs:/FileStore/tables/retail-data/by-day/2011_09_11-62f42.csv</td><td>2011_09_11-62f42.csv</td><td>185196</td></tr><tr><td>dbfs:/FileStore/tables/retail-data/by-day/2011_09_12-bc58a.csv</td><td>2011_09_12-bc58a.csv</td><td>154124</td></tr><tr><td>dbfs:/FileStore/tables/retail-data/by-day/2011_09_13-b39e8.csv</td><td>2011_09_13-b39e8.csv</td><td>217571</td></tr><tr><td>dbfs:/FileStore/tables/retail-data/by-day/2011_09_14-c9ba4.csv</td><td>2011_09_14-c9ba4.csv</td><td>123164</td></tr><tr><td>dbfs:/FileStore/tables/retail-data/by-day/2011_09_15-dcb0c.csv</td><td>2011_09_15-dcb0c.csv</td><td>195419</td></tr><tr><td>dbfs:/FileStore/tables/retail-data/by-day/2011_09_16-09f8a.csv</td><td>2011_09_16-09f8a.csv</td><td>131715</td></tr><tr><td>dbfs:/FileStore/tables/retail-data/by-day/2011_09_18-1b6e9.csv</td><td>2011_09_18-1b6e9.csv</td><td>116452</td></tr><tr><td>dbfs:/FileStore/tables/retail-data/by-day/2011_09_19-f5d9f.csv</td><td>2011_09_19-f5d9f.csv</td><td>128010</td></tr><tr><td>dbfs:/FileStore/tables/retail-data/by-day/2011_09_20-3560d.csv</td><td>2011_09_20-3560d.csv</td><td>153186</td></tr><tr><td>dbfs:/FileStore/tables/retail-data/by-day/2011_09_21-4f0b7.csv</td><td>2011_09_21-4f0b7.csv</td><td>272947</td></tr><tr><td>dbfs:/FileStore/tables/retail-data/by-day/2011_09_22-2db20.csv</td><td>2011_09_22-2db20.csv</td><td>246699</td></tr><tr><td>dbfs:/FileStore/tables/retail-data/by-day/2011_09_23-883f3.csv</td><td>2011_09_23-883f3.csv</td><td>233544</td></tr><tr><td>dbfs:/FileStore/tables/retail-data/by-day/2011_09_25-d53de.csv</td><td>2011_09_25-d53de.csv</td><td>182072</td></tr><tr><td>dbfs:/FileStore/tables/retail-data/by-day/2011_09_26-70d6a.csv</td><td>2011_09_26-70d6a.csv</td><td>141083</td></tr><tr><td>dbfs:/FileStore/tables/retail-data/by-day/2011_09_27-89c93.csv</td><td>2011_09_27-89c93.csv</td><td>168998</td></tr><tr><td>dbfs:/FileStore/tables/retail-data/by-day/2011_09_28-2c4a1.csv</td><td>2011_09_28-2c4a1.csv</td><td>255103</td></tr><tr><td>dbfs:/FileStore/tables/retail-data/by-day/2011_09_29-698e9.csv</td><td>2011_09_29-698e9.csv</td><td>225953</td></tr><tr><td>dbfs:/FileStore/tables/retail-data/by-day/2011_09_30-5f9b2.csv</td><td>2011_09_30-5f9b2.csv</td><td>168344</td></tr><tr><td>dbfs:/FileStore/tables/retail-data/by-day/2011_10_02-7d10f.csv</td><td>2011_10_02-7d10f.csv</td><td>130864</td></tr><tr><td>dbfs:/FileStore/tables/retail-data/by-day/2011_10_03-7fcf9.csv</td><td>2011_10_03-7fcf9.csv</td><td>205031</td></tr><tr><td>dbfs:/FileStore/tables/retail-data/by-day/2011_10_04-82679.csv</td><td>2011_10_04-82679.csv</td><td>249521</td></tr><tr><td>dbfs:/FileStore/tables/retail-data/by-day/2011_10_05-4d9da.csv</td><td>2011_10_05-4d9da.csv</td><td>219340</td></tr><tr><td>dbfs:/FileStore/tables/retail-data/by-day/2011_10_06-56e91.csv</td><td>2011_10_06-56e91.csv</td><td>285739</td></tr><tr><td>dbfs:/FileStore/tables/retail-data/by-day/2011_10_07-8ea8f.csv</td><td>2011_10_07-8ea8f.csv</td><td>216893</td></tr><tr><td>dbfs:/FileStore/tables/retail-data/by-day/2011_10_09-840f7.csv</td><td>2011_10_09-840f7.csv</td><td>118425</td></tr><tr><td>dbfs:/FileStore/tables/retail-data/by-day/2011_10_10-4d4ee.csv</td><td>2011_10_10-4d4ee.csv</td><td>289700</td></tr><tr><td>dbfs:/FileStore/tables/retail-data/by-day/2011_10_11-5afc6.csv</td><td>2011_10_11-5afc6.csv</td><td>217528</td></tr><tr><td>dbfs:/FileStore/tables/retail-data/by-day/2011_10_12-65def.csv</td><td>2011_10_12-65def.csv</td><td>192765</td></tr><tr><td>dbfs:/FileStore/tables/retail-data/by-day/2011_10_13-bba2a.csv</td><td>2011_10_13-bba2a.csv</td><td>209708</td></tr><tr><td>dbfs:/FileStore/tables/retail-data/by-day/2011_10_14-c8ffa.csv</td><td>2011_10_14-c8ffa.csv</td><td>162184</td></tr><tr><td>dbfs:/FileStore/tables/retail-data/by-day/2011_10_16-209c9.csv</td><td>2011_10_16-209c9.csv</td><td>114470</td></tr><tr><td>dbfs:/FileStore/tables/retail-data/by-day/2011_10_17-7955d.csv</td><td>2011_10_17-7955d.csv</td><td>261910</td></tr><tr><td>dbfs:/FileStore/tables/retail-data/by-day/2011_10_18-8b82c.csv</td><td>2011_10_18-8b82c.csv</td><td>257244</td></tr><tr><td>dbfs:/FileStore/tables/retail-data/by-day/2011_10_19-9cbc5.csv</td><td>2011_10_19-9cbc5.csv</td><td>206689</td></tr><tr><td>dbfs:/FileStore/tables/retail-data/by-day/2011_10_20-07779.csv</td><td>2011_10_20-07779.csv</td><td>212077</td></tr><tr><td>dbfs:/FileStore/tables/retail-data/by-day/2011_10_21-656ab.csv</td><td>2011_10_21-656ab.csv</td><td>127547</td></tr><tr><td>dbfs:/FileStore/tables/retail-data/by-day/2011_10_23-a76ee.csv</td><td>2011_10_23-a76ee.csv</td><td>158316</td></tr><tr><td>dbfs:/FileStore/tables/retail-data/by-day/2011_10_24-69f11.csv</td><td>2011_10_24-69f11.csv</td><td>263839</td></tr><tr><td>dbfs:/FileStore/tables/retail-data/by-day/2011_10_25-a22e9.csv</td><td>2011_10_25-a22e9.csv</td><td>223947</td></tr><tr><td>dbfs:/FileStore/tables/retail-data/by-day/2011_10_26-0358b.csv</td><td>2011_10_26-0358b.csv</td><td>174790</td></tr><tr><td>dbfs:/FileStore/tables/retail-data/by-day/2011_10_27-4ac66.csv</td><td>2011_10_27-4ac66.csv</td><td>228883</td></tr><tr><td>dbfs:/FileStore/tables/retail-data/by-day/2011_10_28-15907.csv</td><td>2011_10_28-15907.csv</td><td>146761</td></tr><tr><td>dbfs:/FileStore/tables/retail-data/by-day/2011_10_30-1341b.csv</td><td>2011_10_30-1341b.csv</td><td>264885</td></tr><tr><td>dbfs:/FileStore/tables/retail-data/by-day/2011_10_31-e9727.csv</td><td>2011_10_31-e9727.csv</td><td>298653</td></tr><tr><td>dbfs:/FileStore/tables/retail-data/by-day/2011_11_01-1ebba.csv</td><td>2011_11_01-1ebba.csv</td><td>161872</td></tr><tr><td>dbfs:/FileStore/tables/retail-data/by-day/2011_11_02-1da98.csv</td><td>2011_11_02-1da98.csv</td><td>233949</td></tr><tr><td>dbfs:/FileStore/tables/retail-data/by-day/2011_11_03-12d2e.csv</td><td>2011_11_03-12d2e.csv</td><td>216844</td></tr><tr><td>dbfs:/FileStore/tables/retail-data/by-day/2011_11_04-cd48c.csv</td><td>2011_11_04-cd48c.csv</td><td>270087</td></tr><tr><td>dbfs:/FileStore/tables/retail-data/by-day/2011_11_06-92061.csv</td><td>2011_11_06-92061.csv</td><td>313153</td></tr><tr><td>dbfs:/FileStore/tables/retail-data/by-day/2011_11_07-c255c.csv</td><td>2011_11_07-c255c.csv</td><td>188148</td></tr><tr><td>dbfs:/FileStore/tables/retail-data/by-day/2011_11_08-ac9b8.csv</td><td>2011_11_08-ac9b8.csv</td><td>359329</td></tr><tr><td>dbfs:/FileStore/tables/retail-data/by-day/2011_11_09-9bf1d.csv</td><td>2011_11_09-9bf1d.csv</td><td>244073</td></tr><tr><td>dbfs:/FileStore/tables/retail-data/by-day/2011_11_10-0c9c8.csv</td><td>2011_11_10-0c9c8.csv</td><td>295607</td></tr><tr><td>dbfs:/FileStore/tables/retail-data/by-day/2011_11_11-d432c.csv</td><td>2011_11_11-d432c.csv</td><td>359019</td></tr><tr><td>dbfs:/FileStore/tables/retail-data/by-day/2011_11_13-f7b75.csv</td><td>2011_11_13-f7b75.csv</td><td>272682</td></tr><tr><td>dbfs:/FileStore/tables/retail-data/by-day/2011_11_14-f2413.csv</td><td>2011_11_14-f2413.csv</td><td>322946</td></tr><tr><td>dbfs:/FileStore/tables/retail-data/by-day/2011_11_15-d46d5.csv</td><td>2011_11_15-d46d5.csv</td><td>304442</td></tr><tr><td>dbfs:/FileStore/tables/retail-data/by-day/2011_11_16-eb341.csv</td><td>2011_11_16-eb341.csv</td><td>371320</td></tr><tr><td>dbfs:/FileStore/tables/retail-data/by-day/2011_11_17-c7d13.csv</td><td>2011_11_17-c7d13.csv</td><td>321770</td></tr><tr><td>dbfs:/FileStore/tables/retail-data/by-day/2011_11_18-11914.csv</td><td>2011_11_18-11914.csv</td><td>258456</td></tr><tr><td>dbfs:/FileStore/tables/retail-data/by-day/2011_11_20-be372.csv</td><td>2011_11_20-be372.csv</td><td>302441</td></tr><tr><td>dbfs:/FileStore/tables/retail-data/by-day/2011_11_21-89279.csv</td><td>2011_11_21-89279.csv</td><td>262095</td></tr><tr><td>dbfs:/FileStore/tables/retail-data/by-day/2011_11_22-c6e53.csv</td><td>2011_11_22-c6e53.csv</td><td>351999</td></tr><tr><td>dbfs:/FileStore/tables/retail-data/by-day/2011_11_23-70dd8.csv</td><td>2011_11_23-70dd8.csv</td><td>327359</td></tr><tr><td>dbfs:/FileStore/tables/retail-data/by-day/2011_11_24-06036.csv</td><td>2011_11_24-06036.csv</td><td>331824</td></tr><tr><td>dbfs:/FileStore/tables/retail-data/by-day/2011_11_25-27e4e.csv</td><td>2011_11_25-27e4e.csv</td><td>273837</td></tr><tr><td>dbfs:/FileStore/tables/retail-data/by-day/2011_11_27-d0a5c.csv</td><td>2011_11_27-d0a5c.csv</td><td>230974</td></tr><tr><td>dbfs:/FileStore/tables/retail-data/by-day/2011_11_28-4409e.csv</td><td>2011_11_28-4409e.csv</td><td>297785</td></tr><tr><td>dbfs:/FileStore/tables/retail-data/by-day/2011_11_29-d4404.csv</td><td>2011_11_29-d4404.csv</td><td>381332</td></tr><tr><td>dbfs:/FileStore/tables/retail-data/by-day/2011_11_30-4ccc4.csv</td><td>2011_11_30-4ccc4.csv</td><td>303485</td></tr><tr><td>dbfs:/FileStore/tables/retail-data/by-day/2011_12_01-9d9c5.csv</td><td>2011_12_01-9d9c5.csv</td><td>259173</td></tr><tr><td>dbfs:/FileStore/tables/retail-data/by-day/2011_12_02-2b98c.csv</td><td>2011_12_02-2b98c.csv</td><td>254858</td></tr><tr><td>dbfs:/FileStore/tables/retail-data/by-day/2011_12_04-f147b.csv</td><td>2011_12_04-f147b.csv</td><td>184959</td></tr><tr><td>dbfs:/FileStore/tables/retail-data/by-day/2011_12_05-f1f01.csv</td><td>2011_12_05-f1f01.csv</td><td>472154</td></tr><tr><td>dbfs:/FileStore/tables/retail-data/by-day/2011_12_06-971c4.csv</td><td>2011_12_06-971c4.csv</td><td>300750</td></tr><tr><td>dbfs:/FileStore/tables/retail-data/by-day/2011_12_07-43658.csv</td><td>2011_12_07-43658.csv</td><td>217714</td></tr><tr><td>dbfs:/FileStore/tables/retail-data/by-day/2011_12_08-21dc0.csv</td><td>2011_12_08-21dc0.csv</td><td>432962</td></tr><tr><td>dbfs:/FileStore/tables/retail-data/by-day/2011_12_09-fdcdc.csv</td><td>2011_12_09-fdcdc.csv</td><td>140637</td></tr></tbody></table></div>"
      ]
     },
     "metadata": {
      "application/vnd.databricks.v1+output": {
       "addedWidgets": {},
       "aggData": [],
       "aggError": "",
       "aggOverflow": false,
       "aggSchema": [],
       "aggSeriesLimitReached": false,
       "aggType": "",
       "arguments": {},
       "columnCustomDisplayInfos": {},
       "data": [
        [
         "dbfs:/FileStore/tables/retail-data/by-day/2010_12_01-ec65d.csv",
         "2010_12_01-ec65d.csv",
         275001
        ],
        [
         "dbfs:/FileStore/tables/retail-data/by-day/2010_12_02-cddbc.csv",
         "2010_12_02-cddbc.csv",
         191826
        ],
        [
         "dbfs:/FileStore/tables/retail-data/by-day/2010_12_03-b5f23.csv",
         "2010_12_03-b5f23.csv",
         190700
        ],
        [
         "dbfs:/FileStore/tables/retail-data/by-day/2010_12_05-e147f.csv",
         "2010_12_05-e147f.csv",
         246056
        ],
        [
         "dbfs:/FileStore/tables/retail-data/by-day/2010_12_06-f177a.csv",
         "2010_12_06-f177a.csv",
         339039
        ],
        [
         "dbfs:/FileStore/tables/retail-data/by-day/2010_12_07-139ea.csv",
         "2010_12_07-139ea.csv",
         255832
        ],
        [
         "dbfs:/FileStore/tables/retail-data/by-day/2010_12_08-073ef.csv",
         "2010_12_08-073ef.csv",
         235974
        ],
        [
         "dbfs:/FileStore/tables/retail-data/by-day/2010_12_09-e1f01.csv",
         "2010_12_09-e1f01.csv",
         252904
        ],
        [
         "dbfs:/FileStore/tables/retail-data/by-day/2010_12_10-ff80e.csv",
         "2010_12_10-ff80e.csv",
         241468
        ],
        [
         "dbfs:/FileStore/tables/retail-data/by-day/2010_12_12-fe693.csv",
         "2010_12_12-fe693.csv",
         132120
        ],
        [
         "dbfs:/FileStore/tables/retail-data/by-day/2010_12_13-2cc43.csv",
         "2010_12_13-2cc43.csv",
         202021
        ],
        [
         "dbfs:/FileStore/tables/retail-data/by-day/2010_12_14-08793.csv",
         "2010_12_14-08793.csv",
         186685
        ],
        [
         "dbfs:/FileStore/tables/retail-data/by-day/2010_12_15-81005.csv",
         "2010_12_15-81005.csv",
         122496
        ],
        [
         "dbfs:/FileStore/tables/retail-data/by-day/2010_12_16-b820a.csv",
         "2010_12_16-b820a.csv",
         163452
        ],
        [
         "dbfs:/FileStore/tables/retail-data/by-day/2010_12_17-34712.csv",
         "2010_12_17-34712.csv",
         264944
        ],
        [
         "dbfs:/FileStore/tables/retail-data/by-day/2010_12_19-3bbaf.csv",
         "2010_12_19-3bbaf.csv",
         47264
        ],
        [
         "dbfs:/FileStore/tables/retail-data/by-day/2010_12_20-ca1e2.csv",
         "2010_12_20-ca1e2.csv",
         153561
        ],
        [
         "dbfs:/FileStore/tables/retail-data/by-day/2010_12_21-8425c.csv",
         "2010_12_21-8425c.csv",
         134904
        ],
        [
         "dbfs:/FileStore/tables/retail-data/by-day/2010_12_22-0cae5.csv",
         "2010_12_22-0cae5.csv",
         25836
        ],
        [
         "dbfs:/FileStore/tables/retail-data/by-day/2010_12_23-f1601.csv",
         "2010_12_23-f1601.csv",
         83192
        ],
        [
         "dbfs:/FileStore/tables/retail-data/by-day/2011_01_04-c7428.csv",
         "2011_01_04-c7428.csv",
         104656
        ],
        [
         "dbfs:/FileStore/tables/retail-data/by-day/2011_01_05-34a5e.csv",
         "2011_01_05-34a5e.csv",
         153733
        ],
        [
         "dbfs:/FileStore/tables/retail-data/by-day/2011_01_06-5e136.csv",
         "2011_01_06-5e136.csv",
         162100
        ],
        [
         "dbfs:/FileStore/tables/retail-data/by-day/2011_01_07-b0835.csv",
         "2011_01_07-b0835.csv",
         155938
        ],
        [
         "dbfs:/FileStore/tables/retail-data/by-day/2011_01_09-daa69.csv",
         "2011_01_09-daa69.csv",
         101317
        ],
        [
         "dbfs:/FileStore/tables/retail-data/by-day/2011_01_10-45f72.csv",
         "2011_01_10-45f72.csv",
         170418
        ],
        [
         "dbfs:/FileStore/tables/retail-data/by-day/2011_01_11-5f149.csv",
         "2011_01_11-5f149.csv",
         127847
        ],
        [
         "dbfs:/FileStore/tables/retail-data/by-day/2011_01_12-660f3.csv",
         "2011_01_12-660f3.csv",
         158187
        ],
        [
         "dbfs:/FileStore/tables/retail-data/by-day/2011_01_13-93be1.csv",
         "2011_01_13-93be1.csv",
         126109
        ],
        [
         "dbfs:/FileStore/tables/retail-data/by-day/2011_01_14-c12f8.csv",
         "2011_01_14-c12f8.csv",
         131086
        ],
        [
         "dbfs:/FileStore/tables/retail-data/by-day/2011_01_16-3a54a.csv",
         "2011_01_16-3a54a.csv",
         58906
        ],
        [
         "dbfs:/FileStore/tables/retail-data/by-day/2011_01_17-784e4.csv",
         "2011_01_17-784e4.csv",
         221821
        ],
        [
         "dbfs:/FileStore/tables/retail-data/by-day/2011_01_18-bca74.csv",
         "2011_01_18-bca74.csv",
         124711
        ],
        [
         "dbfs:/FileStore/tables/retail-data/by-day/2011_01_19-66ef1.csv",
         "2011_01_19-66ef1.csv",
         124865
        ],
        [
         "dbfs:/FileStore/tables/retail-data/by-day/2011_01_20-c6579.csv",
         "2011_01_20-c6579.csv",
         130157
        ],
        [
         "dbfs:/FileStore/tables/retail-data/by-day/2011_01_21-10d0c.csv",
         "2011_01_21-10d0c.csv",
         139157
        ],
        [
         "dbfs:/FileStore/tables/retail-data/by-day/2011_01_23-1227d.csv",
         "2011_01_23-1227d.csv",
         80012
        ],
        [
         "dbfs:/FileStore/tables/retail-data/by-day/2011_01_24-2b82e.csv",
         "2011_01_24-2b82e.csv",
         128813
        ],
        [
         "dbfs:/FileStore/tables/retail-data/by-day/2011_01_25-249ee.csv",
         "2011_01_25-249ee.csv",
         146739
        ],
        [
         "dbfs:/FileStore/tables/retail-data/by-day/2011_01_26-71a80.csv",
         "2011_01_26-71a80.csv",
         113985
        ],
        [
         "dbfs:/FileStore/tables/retail-data/by-day/2011_01_27-b3a69.csv",
         "2011_01_27-b3a69.csv",
         140033
        ],
        [
         "dbfs:/FileStore/tables/retail-data/by-day/2011_01_28-4a482.csv",
         "2011_01_28-4a482.csv",
         87450
        ],
        [
         "dbfs:/FileStore/tables/retail-data/by-day/2011_01_30-775f1.csv",
         "2011_01_30-775f1.csv",
         66171
        ],
        [
         "dbfs:/FileStore/tables/retail-data/by-day/2011_01_31-59c93.csv",
         "2011_01_31-59c93.csv",
         132774
        ],
        [
         "dbfs:/FileStore/tables/retail-data/by-day/2011_02_01-6b02e.csv",
         "2011_02_01-6b02e.csv",
         139954
        ],
        [
         "dbfs:/FileStore/tables/retail-data/by-day/2011_02_02-b986f.csv",
         "2011_02_02-b986f.csv",
         124794
        ],
        [
         "dbfs:/FileStore/tables/retail-data/by-day/2011_02_03-c0445.csv",
         "2011_02_03-c0445.csv",
         87779
        ],
        [
         "dbfs:/FileStore/tables/retail-data/by-day/2011_02_04-0cd75.csv",
         "2011_02_04-0cd75.csv",
         107014
        ],
        [
         "dbfs:/FileStore/tables/retail-data/by-day/2011_02_06-f9c15.csv",
         "2011_02_06-f9c15.csv",
         25516
        ],
        [
         "dbfs:/FileStore/tables/retail-data/by-day/2011_02_07-d746f.csv",
         "2011_02_07-d746f.csv",
         111980
        ],
        [
         "dbfs:/FileStore/tables/retail-data/by-day/2011_02_08-202ea.csv",
         "2011_02_08-202ea.csv",
         107136
        ],
        [
         "dbfs:/FileStore/tables/retail-data/by-day/2011_02_09-1e824.csv",
         "2011_02_09-1e824.csv",
         75999
        ],
        [
         "dbfs:/FileStore/tables/retail-data/by-day/2011_02_10-b956f.csv",
         "2011_02_10-b956f.csv",
         70942
        ],
        [
         "dbfs:/FileStore/tables/retail-data/by-day/2011_02_11-89a40.csv",
         "2011_02_11-89a40.csv",
         83807
        ],
        [
         "dbfs:/FileStore/tables/retail-data/by-day/2011_02_13-035ac.csv",
         "2011_02_13-035ac.csv",
         57098
        ],
        [
         "dbfs:/FileStore/tables/retail-data/by-day/2011_02_14-3897d.csv",
         "2011_02_14-3897d.csv",
         97341
        ],
        [
         "dbfs:/FileStore/tables/retail-data/by-day/2011_02_15-565f3.csv",
         "2011_02_15-565f3.csv",
         117745
        ],
        [
         "dbfs:/FileStore/tables/retail-data/by-day/2011_02_16-6c962.csv",
         "2011_02_16-6c962.csv",
         106100
        ],
        [
         "dbfs:/FileStore/tables/retail-data/by-day/2011_02_17-c9bf1.csv",
         "2011_02_17-c9bf1.csv",
         150882
        ],
        [
         "dbfs:/FileStore/tables/retail-data/by-day/2011_02_18-d777c.csv",
         "2011_02_18-d777c.csv",
         75633
        ],
        [
         "dbfs:/FileStore/tables/retail-data/by-day/2011_02_20-fd032.csv",
         "2011_02_20-fd032.csv",
         78068
        ],
        [
         "dbfs:/FileStore/tables/retail-data/by-day/2011_02_21-5d171.csv",
         "2011_02_21-5d171.csv",
         124088
        ],
        [
         "dbfs:/FileStore/tables/retail-data/by-day/2011_02_22-4c014.csv",
         "2011_02_22-4c014.csv",
         142089
        ],
        [
         "dbfs:/FileStore/tables/retail-data/by-day/2011_02_23-36907.csv",
         "2011_02_23-36907.csv",
         138337
        ],
        [
         "dbfs:/FileStore/tables/retail-data/by-day/2011_02_24-a0aab.csv",
         "2011_02_24-a0aab.csv",
         116769
        ],
        [
         "dbfs:/FileStore/tables/retail-data/by-day/2011_02_25-1762c.csv",
         "2011_02_25-1762c.csv",
         87507
        ],
        [
         "dbfs:/FileStore/tables/retail-data/by-day/2011_02_27-785da.csv",
         "2011_02_27-785da.csv",
         74111
        ],
        [
         "dbfs:/FileStore/tables/retail-data/by-day/2011_02_28-c7383.csv",
         "2011_02_28-c7383.csv",
         151947
        ],
        [
         "dbfs:/FileStore/tables/retail-data/by-day/2011_03_01-26dee.csv",
         "2011_03_01-26dee.csv",
         119793
        ],
        [
         "dbfs:/FileStore/tables/retail-data/by-day/2011_03_02-44516.csv",
         "2011_03_02-44516.csv",
         85302
        ],
        [
         "dbfs:/FileStore/tables/retail-data/by-day/2011_03_03-f2be2.csv",
         "2011_03_03-f2be2.csv",
         122010
        ],
        [
         "dbfs:/FileStore/tables/retail-data/by-day/2011_03_04-b1acd.csv",
         "2011_03_04-b1acd.csv",
         97942
        ],
        [
         "dbfs:/FileStore/tables/retail-data/by-day/2011_03_06-5f221.csv",
         "2011_03_06-5f221.csv",
         76977
        ],
        [
         "dbfs:/FileStore/tables/retail-data/by-day/2011_03_07-4648c.csv",
         "2011_03_07-4648c.csv",
         172784
        ],
        [
         "dbfs:/FileStore/tables/retail-data/by-day/2011_03_08-dd61d.csv",
         "2011_03_08-dd61d.csv",
         141880
        ],
        [
         "dbfs:/FileStore/tables/retail-data/by-day/2011_03_09-5cfc4.csv",
         "2011_03_09-5cfc4.csv",
         113715
        ],
        [
         "dbfs:/FileStore/tables/retail-data/by-day/2011_03_10-c3d1e.csv",
         "2011_03_10-c3d1e.csv",
         100881
        ],
        [
         "dbfs:/FileStore/tables/retail-data/by-day/2011_03_11-afddb.csv",
         "2011_03_11-afddb.csv",
         84393
        ],
        [
         "dbfs:/FileStore/tables/retail-data/by-day/2011_03_13-a4f20.csv",
         "2011_03_13-a4f20.csv",
         48917
        ],
        [
         "dbfs:/FileStore/tables/retail-data/by-day/2011_03_14-0b540.csv",
         "2011_03_14-0b540.csv",
         99595
        ],
        [
         "dbfs:/FileStore/tables/retail-data/by-day/2011_03_15-4ba52.csv",
         "2011_03_15-4ba52.csv",
         112853
        ],
        [
         "dbfs:/FileStore/tables/retail-data/by-day/2011_03_16-96d27.csv",
         "2011_03_16-96d27.csv",
         78923
        ],
        [
         "dbfs:/FileStore/tables/retail-data/by-day/2011_03_17-2c609.csv",
         "2011_03_17-2c609.csv",
         180245
        ],
        [
         "dbfs:/FileStore/tables/retail-data/by-day/2011_03_18-1455a.csv",
         "2011_03_18-1455a.csv",
         122082
        ],
        [
         "dbfs:/FileStore/tables/retail-data/by-day/2011_03_20-9f237.csv",
         "2011_03_20-9f237.csv",
         130096
        ],
        [
         "dbfs:/FileStore/tables/retail-data/by-day/2011_03_21-f7fda.csv",
         "2011_03_21-f7fda.csv",
         96588
        ],
        [
         "dbfs:/FileStore/tables/retail-data/by-day/2011_03_22-0d533.csv",
         "2011_03_22-0d533.csv",
         206516
        ],
        [
         "dbfs:/FileStore/tables/retail-data/by-day/2011_03_23-5e568.csv",
         "2011_03_23-5e568.csv",
         116861
        ],
        [
         "dbfs:/FileStore/tables/retail-data/by-day/2011_03_24-f7cee.csv",
         "2011_03_24-f7cee.csv",
         141988
        ],
        [
         "dbfs:/FileStore/tables/retail-data/by-day/2011_03_25-37ad6.csv",
         "2011_03_25-37ad6.csv",
         122156
        ],
        [
         "dbfs:/FileStore/tables/retail-data/by-day/2011_03_27-88efa.csv",
         "2011_03_27-88efa.csv",
         67786
        ],
        [
         "dbfs:/FileStore/tables/retail-data/by-day/2011_03_28-1d77f.csv",
         "2011_03_28-1d77f.csv",
         147212
        ],
        [
         "dbfs:/FileStore/tables/retail-data/by-day/2011_03_29-814bc.csv",
         "2011_03_29-814bc.csv",
         173104
        ],
        [
         "dbfs:/FileStore/tables/retail-data/by-day/2011_03_30-d1c99.csv",
         "2011_03_30-d1c99.csv",
         141435
        ],
        [
         "dbfs:/FileStore/tables/retail-data/by-day/2011_03_31-bcec5.csv",
         "2011_03_31-bcec5.csv",
         152420
        ],
        [
         "dbfs:/FileStore/tables/retail-data/by-day/2011_04_01-437a8.csv",
         "2011_04_01-437a8.csv",
         112493
        ],
        [
         "dbfs:/FileStore/tables/retail-data/by-day/2011_04_03-e6047.csv",
         "2011_04_03-e6047.csv",
         66518
        ],
        [
         "dbfs:/FileStore/tables/retail-data/by-day/2011_04_04-af361.csv",
         "2011_04_04-af361.csv",
         150711
        ],
        [
         "dbfs:/FileStore/tables/retail-data/by-day/2011_04_05-e957b.csv",
         "2011_04_05-e957b.csv",
         107560
        ],
        [
         "dbfs:/FileStore/tables/retail-data/by-day/2011_04_06-96516.csv",
         "2011_04_06-96516.csv",
         98068
        ],
        [
         "dbfs:/FileStore/tables/retail-data/by-day/2011_04_07-7537d.csv",
         "2011_04_07-7537d.csv",
         136252
        ],
        [
         "dbfs:/FileStore/tables/retail-data/by-day/2011_04_08-a7b99.csv",
         "2011_04_08-a7b99.csv",
         125969
        ],
        [
         "dbfs:/FileStore/tables/retail-data/by-day/2011_04_10-81641.csv",
         "2011_04_10-81641.csv",
         85637
        ],
        [
         "dbfs:/FileStore/tables/retail-data/by-day/2011_04_11-0b203.csv",
         "2011_04_11-0b203.csv",
         112516
        ],
        [
         "dbfs:/FileStore/tables/retail-data/by-day/2011_04_12-484e4.csv",
         "2011_04_12-484e4.csv",
         104116
        ],
        [
         "dbfs:/FileStore/tables/retail-data/by-day/2011_04_13-a690e.csv",
         "2011_04_13-a690e.csv",
         95007
        ],
        [
         "dbfs:/FileStore/tables/retail-data/by-day/2011_04_14-db036.csv",
         "2011_04_14-db036.csv",
         144236
        ],
        [
         "dbfs:/FileStore/tables/retail-data/by-day/2011_04_15-fcda2.csv",
         "2011_04_15-fcda2.csv",
         128980
        ],
        [
         "dbfs:/FileStore/tables/retail-data/by-day/2011_04_17-e46de.csv",
         "2011_04_17-e46de.csv",
         87658
        ],
        [
         "dbfs:/FileStore/tables/retail-data/by-day/2011_04_18-4c380.csv",
         "2011_04_18-4c380.csv",
         280118
        ],
        [
         "dbfs:/FileStore/tables/retail-data/by-day/2011_04_19-7bb43.csv",
         "2011_04_19-7bb43.csv",
         165965
        ],
        [
         "dbfs:/FileStore/tables/retail-data/by-day/2011_04_20-65903.csv",
         "2011_04_20-65903.csv",
         91865
        ],
        [
         "dbfs:/FileStore/tables/retail-data/by-day/2011_04_21-d657d.csv",
         "2011_04_21-d657d.csv",
         170023
        ],
        [
         "dbfs:/FileStore/tables/retail-data/by-day/2011_04_26-c66cd.csv",
         "2011_04_26-c66cd.csv",
         167480
        ],
        [
         "dbfs:/FileStore/tables/retail-data/by-day/2011_04_27-c8b79.csv",
         "2011_04_27-c8b79.csv",
         116613
        ],
        [
         "dbfs:/FileStore/tables/retail-data/by-day/2011_04_28-793d7.csv",
         "2011_04_28-793d7.csv",
         106481
        ],
        [
         "dbfs:/FileStore/tables/retail-data/by-day/2011_05_01-b21d2.csv",
         "2011_05_01-b21d2.csv",
         40884
        ],
        [
         "dbfs:/FileStore/tables/retail-data/by-day/2011_05_03-cb2fa.csv",
         "2011_05_03-cb2fa.csv",
         126563
        ],
        [
         "dbfs:/FileStore/tables/retail-data/by-day/2011_05_04-d5855.csv",
         "2011_05_04-d5855.csv",
         105162
        ],
        [
         "dbfs:/FileStore/tables/retail-data/by-day/2011_05_05-7f747.csv",
         "2011_05_05-7f747.csv",
         162318
        ],
        [
         "dbfs:/FileStore/tables/retail-data/by-day/2011_05_06-46292.csv",
         "2011_05_06-46292.csv",
         180297
        ],
        [
         "dbfs:/FileStore/tables/retail-data/by-day/2011_05_08-a7964.csv",
         "2011_05_08-a7964.csv",
         136006
        ],
        [
         "dbfs:/FileStore/tables/retail-data/by-day/2011_05_09-7f544.csv",
         "2011_05_09-7f544.csv",
         154043
        ],
        [
         "dbfs:/FileStore/tables/retail-data/by-day/2011_05_10-24159.csv",
         "2011_05_10-24159.csv",
         224383
        ],
        [
         "dbfs:/FileStore/tables/retail-data/by-day/2011_05_11-ca6d3.csv",
         "2011_05_11-ca6d3.csv",
         151121
        ],
        [
         "dbfs:/FileStore/tables/retail-data/by-day/2011_05_12-c6056.csv",
         "2011_05_12-c6056.csv",
         175096
        ],
        [
         "dbfs:/FileStore/tables/retail-data/by-day/2011_05_13-e0944.csv",
         "2011_05_13-e0944.csv",
         125524
        ],
        [
         "dbfs:/FileStore/tables/retail-data/by-day/2011_05_15-26a91.csv",
         "2011_05_15-26a91.csv",
         73038
        ],
        [
         "dbfs:/FileStore/tables/retail-data/by-day/2011_05_16-5240f.csv",
         "2011_05_16-5240f.csv",
         140801
        ],
        [
         "dbfs:/FileStore/tables/retail-data/by-day/2011_05_17-e724f.csv",
         "2011_05_17-e724f.csv",
         168847
        ],
        [
         "dbfs:/FileStore/tables/retail-data/by-day/2011_05_18-4a53d.csv",
         "2011_05_18-4a53d.csv",
         121774
        ],
        [
         "dbfs:/FileStore/tables/retail-data/by-day/2011_05_19-1bfb4.csv",
         "2011_05_19-1bfb4.csv",
         172737
        ],
        [
         "dbfs:/FileStore/tables/retail-data/by-day/2011_05_20-5c34b.csv",
         "2011_05_20-5c34b.csv",
         100198
        ],
        [
         "dbfs:/FileStore/tables/retail-data/by-day/2011_05_22-2018b.csv",
         "2011_05_22-2018b.csv",
         141114
        ],
        [
         "dbfs:/FileStore/tables/retail-data/by-day/2011_05_23-3b3fe.csv",
         "2011_05_23-3b3fe.csv",
         144869
        ],
        [
         "dbfs:/FileStore/tables/retail-data/by-day/2011_05_24-22778.csv",
         "2011_05_24-22778.csv",
         153615
        ],
        [
         "dbfs:/FileStore/tables/retail-data/by-day/2011_05_25-3585d.csv",
         "2011_05_25-3585d.csv",
         116151
        ],
        [
         "dbfs:/FileStore/tables/retail-data/by-day/2011_05_26-8211a.csv",
         "2011_05_26-8211a.csv",
         86137
        ],
        [
         "dbfs:/FileStore/tables/retail-data/by-day/2011_05_27-2e7cc.csv",
         "2011_05_27-2e7cc.csv",
         103064
        ],
        [
         "dbfs:/FileStore/tables/retail-data/by-day/2011_05_29-b2121.csv",
         "2011_05_29-b2121.csv",
         57243
        ],
        [
         "dbfs:/FileStore/tables/retail-data/by-day/2011_05_31-70c58.csv",
         "2011_05_31-70c58.csv",
         112113
        ],
        [
         "dbfs:/FileStore/tables/retail-data/by-day/2011_06_01-66f5e.csv",
         "2011_06_01-66f5e.csv",
         126676
        ],
        [
         "dbfs:/FileStore/tables/retail-data/by-day/2011_06_02-0d2c5.csv",
         "2011_06_02-0d2c5.csv",
         139233
        ],
        [
         "dbfs:/FileStore/tables/retail-data/by-day/2011_06_03-240b0.csv",
         "2011_06_03-240b0.csv",
         75454
        ],
        [
         "dbfs:/FileStore/tables/retail-data/by-day/2011_06_05-f4bb9.csv",
         "2011_06_05-f4bb9.csv",
         140061
        ],
        [
         "dbfs:/FileStore/tables/retail-data/by-day/2011_06_06-72458.csv",
         "2011_06_06-72458.csv",
         109829
        ],
        [
         "dbfs:/FileStore/tables/retail-data/by-day/2011_06_07-27ee4.csv",
         "2011_06_07-27ee4.csv",
         171241
        ],
        [
         "dbfs:/FileStore/tables/retail-data/by-day/2011_06_08-b8722.csv",
         "2011_06_08-b8722.csv",
         203086
        ],
        [
         "dbfs:/FileStore/tables/retail-data/by-day/2011_06_09-38261.csv",
         "2011_06_09-38261.csv",
         162227
        ],
        [
         "dbfs:/FileStore/tables/retail-data/by-day/2011_06_10-ddd96.csv",
         "2011_06_10-ddd96.csv",
         93701
        ],
        [
         "dbfs:/FileStore/tables/retail-data/by-day/2011_06_12-28453.csv",
         "2011_06_12-28453.csv",
         97835
        ],
        [
         "dbfs:/FileStore/tables/retail-data/by-day/2011_06_13-ea81d.csv",
         "2011_06_13-ea81d.csv",
         129767
        ],
        [
         "dbfs:/FileStore/tables/retail-data/by-day/2011_06_14-df0b6.csv",
         "2011_06_14-df0b6.csv",
         140214
        ],
        [
         "dbfs:/FileStore/tables/retail-data/by-day/2011_06_15-bfef5.csv",
         "2011_06_15-bfef5.csv",
         151127
        ],
        [
         "dbfs:/FileStore/tables/retail-data/by-day/2011_06_16-23bee.csv",
         "2011_06_16-23bee.csv",
         136339
        ],
        [
         "dbfs:/FileStore/tables/retail-data/by-day/2011_06_17-a16a5.csv",
         "2011_06_17-a16a5.csv",
         85739
        ],
        [
         "dbfs:/FileStore/tables/retail-data/by-day/2011_06_19-527c3.csv",
         "2011_06_19-527c3.csv",
         105190
        ],
        [
         "dbfs:/FileStore/tables/retail-data/by-day/2011_06_20-f9090.csv",
         "2011_06_20-f9090.csv",
         175539
        ],
        [
         "dbfs:/FileStore/tables/retail-data/by-day/2011_06_21-6fc05.csv",
         "2011_06_21-6fc05.csv",
         134322
        ],
        [
         "dbfs:/FileStore/tables/retail-data/by-day/2011_06_22-c5264.csv",
         "2011_06_22-c5264.csv",
         91369
        ],
        [
         "dbfs:/FileStore/tables/retail-data/by-day/2011_06_23-6a496.csv",
         "2011_06_23-6a496.csv",
         175463
        ],
        [
         "dbfs:/FileStore/tables/retail-data/by-day/2011_06_24-62117.csv",
         "2011_06_24-62117.csv",
         91308
        ],
        [
         "dbfs:/FileStore/tables/retail-data/by-day/2011_06_26-8b55f.csv",
         "2011_06_26-8b55f.csv",
         64579
        ],
        [
         "dbfs:/FileStore/tables/retail-data/by-day/2011_06_27-d4b5d.csv",
         "2011_06_27-d4b5d.csv",
         104370
        ],
        [
         "dbfs:/FileStore/tables/retail-data/by-day/2011_06_28-12792.csv",
         "2011_06_28-12792.csv",
         92153
        ],
        [
         "dbfs:/FileStore/tables/retail-data/by-day/2011_06_29-6e7ef.csv",
         "2011_06_29-6e7ef.csv",
         117488
        ],
        [
         "dbfs:/FileStore/tables/retail-data/by-day/2011_06_30-2a1f6.csv",
         "2011_06_30-2a1f6.csv",
         143253
        ],
        [
         "dbfs:/FileStore/tables/retail-data/by-day/2011_07_01-a2976.csv",
         "2011_07_01-a2976.csv",
         90752
        ],
        [
         "dbfs:/FileStore/tables/retail-data/by-day/2011_07_03-9d560.csv",
         "2011_07_03-9d560.csv",
         54798
        ],
        [
         "dbfs:/FileStore/tables/retail-data/by-day/2011_07_04-85119.csv",
         "2011_07_04-85119.csv",
         189204
        ],
        [
         "dbfs:/FileStore/tables/retail-data/by-day/2011_07_05-dd34e.csv",
         "2011_07_05-dd34e.csv",
         189831
        ],
        [
         "dbfs:/FileStore/tables/retail-data/by-day/2011_07_06-efec8.csv",
         "2011_07_06-efec8.csv",
         159436
        ],
        [
         "dbfs:/FileStore/tables/retail-data/by-day/2011_07_07-8e453.csv",
         "2011_07_07-8e453.csv",
         171634
        ],
        [
         "dbfs:/FileStore/tables/retail-data/by-day/2011_07_08-25695.csv",
         "2011_07_08-25695.csv",
         140138
        ],
        [
         "dbfs:/FileStore/tables/retail-data/by-day/2011_07_10-c0af5.csv",
         "2011_07_10-c0af5.csv",
         74191
        ],
        [
         "dbfs:/FileStore/tables/retail-data/by-day/2011_07_11-f9f0f.csv",
         "2011_07_11-f9f0f.csv",
         133475
        ],
        [
         "dbfs:/FileStore/tables/retail-data/by-day/2011_07_12-4c793.csv",
         "2011_07_12-4c793.csv",
         144196
        ],
        [
         "dbfs:/FileStore/tables/retail-data/by-day/2011_07_13-ad1c4.csv",
         "2011_07_13-ad1c4.csv",
         144027
        ],
        [
         "dbfs:/FileStore/tables/retail-data/by-day/2011_07_14-63d21.csv",
         "2011_07_14-63d21.csv",
         153670
        ],
        [
         "dbfs:/FileStore/tables/retail-data/by-day/2011_07_15-426c7.csv",
         "2011_07_15-426c7.csv",
         99926
        ],
        [
         "dbfs:/FileStore/tables/retail-data/by-day/2011_07_17-82693.csv",
         "2011_07_17-82693.csv",
         112983
        ],
        [
         "dbfs:/FileStore/tables/retail-data/by-day/2011_07_18-200e9.csv",
         "2011_07_18-200e9.csv",
         194171
        ],
        [
         "dbfs:/FileStore/tables/retail-data/by-day/2011_07_19-6bf60.csv",
         "2011_07_19-6bf60.csv",
         147143
        ],
        [
         "dbfs:/FileStore/tables/retail-data/by-day/2011_07_20-4f25f.csv",
         "2011_07_20-4f25f.csv",
         177416
        ],
        [
         "dbfs:/FileStore/tables/retail-data/by-day/2011_07_21-8a065.csv",
         "2011_07_21-8a065.csv",
         140592
        ],
        [
         "dbfs:/FileStore/tables/retail-data/by-day/2011_07_22-b465d.csv",
         "2011_07_22-b465d.csv",
         113759
        ],
        [
         "dbfs:/FileStore/tables/retail-data/by-day/2011_07_24-d4bbc.csv",
         "2011_07_24-d4bbc.csv",
         101031
        ],
        [
         "dbfs:/FileStore/tables/retail-data/by-day/2011_07_25-2a0ac.csv",
         "2011_07_25-2a0ac.csv",
         170093
        ],
        [
         "dbfs:/FileStore/tables/retail-data/by-day/2011_07_26-81f70.csv",
         "2011_07_26-81f70.csv",
         112780
        ],
        [
         "dbfs:/FileStore/tables/retail-data/by-day/2011_07_27-3ca30.csv",
         "2011_07_27-3ca30.csv",
         109514
        ],
        [
         "dbfs:/FileStore/tables/retail-data/by-day/2011_07_28-c5a9b.csv",
         "2011_07_28-c5a9b.csv",
         138826
        ],
        [
         "dbfs:/FileStore/tables/retail-data/by-day/2011_07_29-44b6e.csv",
         "2011_07_29-44b6e.csv",
         101094
        ],
        [
         "dbfs:/FileStore/tables/retail-data/by-day/2011_07_31-fce1d.csv",
         "2011_07_31-fce1d.csv",
         114650
        ],
        [
         "dbfs:/FileStore/tables/retail-data/by-day/2011_08_01-12360.csv",
         "2011_08_01-12360.csv",
         107491
        ],
        [
         "dbfs:/FileStore/tables/retail-data/by-day/2011_08_02-0bc19.csv",
         "2011_08_02-0bc19.csv",
         120138
        ],
        [
         "dbfs:/FileStore/tables/retail-data/by-day/2011_08_03-fa0a4.csv",
         "2011_08_03-fa0a4.csv",
         140576
        ],
        [
         "dbfs:/FileStore/tables/retail-data/by-day/2011_08_04-dc982.csv",
         "2011_08_04-dc982.csv",
         162548
        ],
        [
         "dbfs:/FileStore/tables/retail-data/by-day/2011_08_05-77b8f.csv",
         "2011_08_05-77b8f.csv",
         127923
        ],
        [
         "dbfs:/FileStore/tables/retail-data/by-day/2011_08_07-52195.csv",
         "2011_08_07-52195.csv",
         49245
        ],
        [
         "dbfs:/FileStore/tables/retail-data/by-day/2011_08_08-359bc.csv",
         "2011_08_08-359bc.csv",
         131650
        ],
        [
         "dbfs:/FileStore/tables/retail-data/by-day/2011_08_09-f8ca4.csv",
         "2011_08_09-f8ca4.csv",
         100002
        ],
        [
         "dbfs:/FileStore/tables/retail-data/by-day/2011_08_10-0648b.csv",
         "2011_08_10-0648b.csv",
         120046
        ],
        [
         "dbfs:/FileStore/tables/retail-data/by-day/2011_08_11-17010.csv",
         "2011_08_11-17010.csv",
         175951
        ],
        [
         "dbfs:/FileStore/tables/retail-data/by-day/2011_08_12-52777.csv",
         "2011_08_12-52777.csv",
         97516
        ],
        [
         "dbfs:/FileStore/tables/retail-data/by-day/2011_08_14-50394.csv",
         "2011_08_14-50394.csv",
         50684
        ],
        [
         "dbfs:/FileStore/tables/retail-data/by-day/2011_08_15-db716.csv",
         "2011_08_15-db716.csv",
         82959
        ],
        [
         "dbfs:/FileStore/tables/retail-data/by-day/2011_08_16-5a8be.csv",
         "2011_08_16-5a8be.csv",
         92486
        ],
        [
         "dbfs:/FileStore/tables/retail-data/by-day/2011_08_17-91d13.csv",
         "2011_08_17-91d13.csv",
         148605
        ],
        [
         "dbfs:/FileStore/tables/retail-data/by-day/2011_08_18-5b91a.csv",
         "2011_08_18-5b91a.csv",
         137689
        ],
        [
         "dbfs:/FileStore/tables/retail-data/by-day/2011_08_19-aef7e.csv",
         "2011_08_19-aef7e.csv",
         72940
        ],
        [
         "dbfs:/FileStore/tables/retail-data/by-day/2011_08_21-7722f.csv",
         "2011_08_21-7722f.csv",
         97031
        ],
        [
         "dbfs:/FileStore/tables/retail-data/by-day/2011_08_22-e27f3.csv",
         "2011_08_22-e27f3.csv",
         114812
        ],
        [
         "dbfs:/FileStore/tables/retail-data/by-day/2011_08_23-7968f.csv",
         "2011_08_23-7968f.csv",
         130326
        ],
        [
         "dbfs:/FileStore/tables/retail-data/by-day/2011_08_24-e79a4.csv",
         "2011_08_24-e79a4.csv",
         167436
        ],
        [
         "dbfs:/FileStore/tables/retail-data/by-day/2011_08_25-de729.csv",
         "2011_08_25-de729.csv",
         118982
        ],
        [
         "dbfs:/FileStore/tables/retail-data/by-day/2011_08_26-aa942.csv",
         "2011_08_26-aa942.csv",
         82531
        ],
        [
         "dbfs:/FileStore/tables/retail-data/by-day/2011_08_28-137d0.csv",
         "2011_08_28-137d0.csv",
         107760
        ],
        [
         "dbfs:/FileStore/tables/retail-data/by-day/2011_08_30-fb537.csv",
         "2011_08_30-fb537.csv",
         274692
        ],
        [
         "dbfs:/FileStore/tables/retail-data/by-day/2011_08_31-745f9.csv",
         "2011_08_31-745f9.csv",
         113373
        ],
        [
         "dbfs:/FileStore/tables/retail-data/by-day/2011_09_01-a9548.csv",
         "2011_09_01-a9548.csv",
         127664
        ],
        [
         "dbfs:/FileStore/tables/retail-data/by-day/2011_09_02-738ea.csv",
         "2011_09_02-738ea.csv",
         205036
        ],
        [
         "dbfs:/FileStore/tables/retail-data/by-day/2011_09_04-35ce9.csv",
         "2011_09_04-35ce9.csv",
         120645
        ],
        [
         "dbfs:/FileStore/tables/retail-data/by-day/2011_09_05-727aa.csv",
         "2011_09_05-727aa.csv",
         141625
        ],
        [
         "dbfs:/FileStore/tables/retail-data/by-day/2011_09_06-da1c3.csv",
         "2011_09_06-da1c3.csv",
         102669
        ],
        [
         "dbfs:/FileStore/tables/retail-data/by-day/2011_09_07-cbbcc.csv",
         "2011_09_07-cbbcc.csv",
         181656
        ],
        [
         "dbfs:/FileStore/tables/retail-data/by-day/2011_09_08-26ab0.csv",
         "2011_09_08-26ab0.csv",
         156826
        ],
        [
         "dbfs:/FileStore/tables/retail-data/by-day/2011_09_09-07037.csv",
         "2011_09_09-07037.csv",
         142210
        ],
        [
         "dbfs:/FileStore/tables/retail-data/by-day/2011_09_11-62f42.csv",
         "2011_09_11-62f42.csv",
         185196
        ],
        [
         "dbfs:/FileStore/tables/retail-data/by-day/2011_09_12-bc58a.csv",
         "2011_09_12-bc58a.csv",
         154124
        ],
        [
         "dbfs:/FileStore/tables/retail-data/by-day/2011_09_13-b39e8.csv",
         "2011_09_13-b39e8.csv",
         217571
        ],
        [
         "dbfs:/FileStore/tables/retail-data/by-day/2011_09_14-c9ba4.csv",
         "2011_09_14-c9ba4.csv",
         123164
        ],
        [
         "dbfs:/FileStore/tables/retail-data/by-day/2011_09_15-dcb0c.csv",
         "2011_09_15-dcb0c.csv",
         195419
        ],
        [
         "dbfs:/FileStore/tables/retail-data/by-day/2011_09_16-09f8a.csv",
         "2011_09_16-09f8a.csv",
         131715
        ],
        [
         "dbfs:/FileStore/tables/retail-data/by-day/2011_09_18-1b6e9.csv",
         "2011_09_18-1b6e9.csv",
         116452
        ],
        [
         "dbfs:/FileStore/tables/retail-data/by-day/2011_09_19-f5d9f.csv",
         "2011_09_19-f5d9f.csv",
         128010
        ],
        [
         "dbfs:/FileStore/tables/retail-data/by-day/2011_09_20-3560d.csv",
         "2011_09_20-3560d.csv",
         153186
        ],
        [
         "dbfs:/FileStore/tables/retail-data/by-day/2011_09_21-4f0b7.csv",
         "2011_09_21-4f0b7.csv",
         272947
        ],
        [
         "dbfs:/FileStore/tables/retail-data/by-day/2011_09_22-2db20.csv",
         "2011_09_22-2db20.csv",
         246699
        ],
        [
         "dbfs:/FileStore/tables/retail-data/by-day/2011_09_23-883f3.csv",
         "2011_09_23-883f3.csv",
         233544
        ],
        [
         "dbfs:/FileStore/tables/retail-data/by-day/2011_09_25-d53de.csv",
         "2011_09_25-d53de.csv",
         182072
        ],
        [
         "dbfs:/FileStore/tables/retail-data/by-day/2011_09_26-70d6a.csv",
         "2011_09_26-70d6a.csv",
         141083
        ],
        [
         "dbfs:/FileStore/tables/retail-data/by-day/2011_09_27-89c93.csv",
         "2011_09_27-89c93.csv",
         168998
        ],
        [
         "dbfs:/FileStore/tables/retail-data/by-day/2011_09_28-2c4a1.csv",
         "2011_09_28-2c4a1.csv",
         255103
        ],
        [
         "dbfs:/FileStore/tables/retail-data/by-day/2011_09_29-698e9.csv",
         "2011_09_29-698e9.csv",
         225953
        ],
        [
         "dbfs:/FileStore/tables/retail-data/by-day/2011_09_30-5f9b2.csv",
         "2011_09_30-5f9b2.csv",
         168344
        ],
        [
         "dbfs:/FileStore/tables/retail-data/by-day/2011_10_02-7d10f.csv",
         "2011_10_02-7d10f.csv",
         130864
        ],
        [
         "dbfs:/FileStore/tables/retail-data/by-day/2011_10_03-7fcf9.csv",
         "2011_10_03-7fcf9.csv",
         205031
        ],
        [
         "dbfs:/FileStore/tables/retail-data/by-day/2011_10_04-82679.csv",
         "2011_10_04-82679.csv",
         249521
        ],
        [
         "dbfs:/FileStore/tables/retail-data/by-day/2011_10_05-4d9da.csv",
         "2011_10_05-4d9da.csv",
         219340
        ],
        [
         "dbfs:/FileStore/tables/retail-data/by-day/2011_10_06-56e91.csv",
         "2011_10_06-56e91.csv",
         285739
        ],
        [
         "dbfs:/FileStore/tables/retail-data/by-day/2011_10_07-8ea8f.csv",
         "2011_10_07-8ea8f.csv",
         216893
        ],
        [
         "dbfs:/FileStore/tables/retail-data/by-day/2011_10_09-840f7.csv",
         "2011_10_09-840f7.csv",
         118425
        ],
        [
         "dbfs:/FileStore/tables/retail-data/by-day/2011_10_10-4d4ee.csv",
         "2011_10_10-4d4ee.csv",
         289700
        ],
        [
         "dbfs:/FileStore/tables/retail-data/by-day/2011_10_11-5afc6.csv",
         "2011_10_11-5afc6.csv",
         217528
        ],
        [
         "dbfs:/FileStore/tables/retail-data/by-day/2011_10_12-65def.csv",
         "2011_10_12-65def.csv",
         192765
        ],
        [
         "dbfs:/FileStore/tables/retail-data/by-day/2011_10_13-bba2a.csv",
         "2011_10_13-bba2a.csv",
         209708
        ],
        [
         "dbfs:/FileStore/tables/retail-data/by-day/2011_10_14-c8ffa.csv",
         "2011_10_14-c8ffa.csv",
         162184
        ],
        [
         "dbfs:/FileStore/tables/retail-data/by-day/2011_10_16-209c9.csv",
         "2011_10_16-209c9.csv",
         114470
        ],
        [
         "dbfs:/FileStore/tables/retail-data/by-day/2011_10_17-7955d.csv",
         "2011_10_17-7955d.csv",
         261910
        ],
        [
         "dbfs:/FileStore/tables/retail-data/by-day/2011_10_18-8b82c.csv",
         "2011_10_18-8b82c.csv",
         257244
        ],
        [
         "dbfs:/FileStore/tables/retail-data/by-day/2011_10_19-9cbc5.csv",
         "2011_10_19-9cbc5.csv",
         206689
        ],
        [
         "dbfs:/FileStore/tables/retail-data/by-day/2011_10_20-07779.csv",
         "2011_10_20-07779.csv",
         212077
        ],
        [
         "dbfs:/FileStore/tables/retail-data/by-day/2011_10_21-656ab.csv",
         "2011_10_21-656ab.csv",
         127547
        ],
        [
         "dbfs:/FileStore/tables/retail-data/by-day/2011_10_23-a76ee.csv",
         "2011_10_23-a76ee.csv",
         158316
        ],
        [
         "dbfs:/FileStore/tables/retail-data/by-day/2011_10_24-69f11.csv",
         "2011_10_24-69f11.csv",
         263839
        ],
        [
         "dbfs:/FileStore/tables/retail-data/by-day/2011_10_25-a22e9.csv",
         "2011_10_25-a22e9.csv",
         223947
        ],
        [
         "dbfs:/FileStore/tables/retail-data/by-day/2011_10_26-0358b.csv",
         "2011_10_26-0358b.csv",
         174790
        ],
        [
         "dbfs:/FileStore/tables/retail-data/by-day/2011_10_27-4ac66.csv",
         "2011_10_27-4ac66.csv",
         228883
        ],
        [
         "dbfs:/FileStore/tables/retail-data/by-day/2011_10_28-15907.csv",
         "2011_10_28-15907.csv",
         146761
        ],
        [
         "dbfs:/FileStore/tables/retail-data/by-day/2011_10_30-1341b.csv",
         "2011_10_30-1341b.csv",
         264885
        ],
        [
         "dbfs:/FileStore/tables/retail-data/by-day/2011_10_31-e9727.csv",
         "2011_10_31-e9727.csv",
         298653
        ],
        [
         "dbfs:/FileStore/tables/retail-data/by-day/2011_11_01-1ebba.csv",
         "2011_11_01-1ebba.csv",
         161872
        ],
        [
         "dbfs:/FileStore/tables/retail-data/by-day/2011_11_02-1da98.csv",
         "2011_11_02-1da98.csv",
         233949
        ],
        [
         "dbfs:/FileStore/tables/retail-data/by-day/2011_11_03-12d2e.csv",
         "2011_11_03-12d2e.csv",
         216844
        ],
        [
         "dbfs:/FileStore/tables/retail-data/by-day/2011_11_04-cd48c.csv",
         "2011_11_04-cd48c.csv",
         270087
        ],
        [
         "dbfs:/FileStore/tables/retail-data/by-day/2011_11_06-92061.csv",
         "2011_11_06-92061.csv",
         313153
        ],
        [
         "dbfs:/FileStore/tables/retail-data/by-day/2011_11_07-c255c.csv",
         "2011_11_07-c255c.csv",
         188148
        ],
        [
         "dbfs:/FileStore/tables/retail-data/by-day/2011_11_08-ac9b8.csv",
         "2011_11_08-ac9b8.csv",
         359329
        ],
        [
         "dbfs:/FileStore/tables/retail-data/by-day/2011_11_09-9bf1d.csv",
         "2011_11_09-9bf1d.csv",
         244073
        ],
        [
         "dbfs:/FileStore/tables/retail-data/by-day/2011_11_10-0c9c8.csv",
         "2011_11_10-0c9c8.csv",
         295607
        ],
        [
         "dbfs:/FileStore/tables/retail-data/by-day/2011_11_11-d432c.csv",
         "2011_11_11-d432c.csv",
         359019
        ],
        [
         "dbfs:/FileStore/tables/retail-data/by-day/2011_11_13-f7b75.csv",
         "2011_11_13-f7b75.csv",
         272682
        ],
        [
         "dbfs:/FileStore/tables/retail-data/by-day/2011_11_14-f2413.csv",
         "2011_11_14-f2413.csv",
         322946
        ],
        [
         "dbfs:/FileStore/tables/retail-data/by-day/2011_11_15-d46d5.csv",
         "2011_11_15-d46d5.csv",
         304442
        ],
        [
         "dbfs:/FileStore/tables/retail-data/by-day/2011_11_16-eb341.csv",
         "2011_11_16-eb341.csv",
         371320
        ],
        [
         "dbfs:/FileStore/tables/retail-data/by-day/2011_11_17-c7d13.csv",
         "2011_11_17-c7d13.csv",
         321770
        ],
        [
         "dbfs:/FileStore/tables/retail-data/by-day/2011_11_18-11914.csv",
         "2011_11_18-11914.csv",
         258456
        ],
        [
         "dbfs:/FileStore/tables/retail-data/by-day/2011_11_20-be372.csv",
         "2011_11_20-be372.csv",
         302441
        ],
        [
         "dbfs:/FileStore/tables/retail-data/by-day/2011_11_21-89279.csv",
         "2011_11_21-89279.csv",
         262095
        ],
        [
         "dbfs:/FileStore/tables/retail-data/by-day/2011_11_22-c6e53.csv",
         "2011_11_22-c6e53.csv",
         351999
        ],
        [
         "dbfs:/FileStore/tables/retail-data/by-day/2011_11_23-70dd8.csv",
         "2011_11_23-70dd8.csv",
         327359
        ],
        [
         "dbfs:/FileStore/tables/retail-data/by-day/2011_11_24-06036.csv",
         "2011_11_24-06036.csv",
         331824
        ],
        [
         "dbfs:/FileStore/tables/retail-data/by-day/2011_11_25-27e4e.csv",
         "2011_11_25-27e4e.csv",
         273837
        ],
        [
         "dbfs:/FileStore/tables/retail-data/by-day/2011_11_27-d0a5c.csv",
         "2011_11_27-d0a5c.csv",
         230974
        ],
        [
         "dbfs:/FileStore/tables/retail-data/by-day/2011_11_28-4409e.csv",
         "2011_11_28-4409e.csv",
         297785
        ],
        [
         "dbfs:/FileStore/tables/retail-data/by-day/2011_11_29-d4404.csv",
         "2011_11_29-d4404.csv",
         381332
        ],
        [
         "dbfs:/FileStore/tables/retail-data/by-day/2011_11_30-4ccc4.csv",
         "2011_11_30-4ccc4.csv",
         303485
        ],
        [
         "dbfs:/FileStore/tables/retail-data/by-day/2011_12_01-9d9c5.csv",
         "2011_12_01-9d9c5.csv",
         259173
        ],
        [
         "dbfs:/FileStore/tables/retail-data/by-day/2011_12_02-2b98c.csv",
         "2011_12_02-2b98c.csv",
         254858
        ],
        [
         "dbfs:/FileStore/tables/retail-data/by-day/2011_12_04-f147b.csv",
         "2011_12_04-f147b.csv",
         184959
        ],
        [
         "dbfs:/FileStore/tables/retail-data/by-day/2011_12_05-f1f01.csv",
         "2011_12_05-f1f01.csv",
         472154
        ],
        [
         "dbfs:/FileStore/tables/retail-data/by-day/2011_12_06-971c4.csv",
         "2011_12_06-971c4.csv",
         300750
        ],
        [
         "dbfs:/FileStore/tables/retail-data/by-day/2011_12_07-43658.csv",
         "2011_12_07-43658.csv",
         217714
        ],
        [
         "dbfs:/FileStore/tables/retail-data/by-day/2011_12_08-21dc0.csv",
         "2011_12_08-21dc0.csv",
         432962
        ],
        [
         "dbfs:/FileStore/tables/retail-data/by-day/2011_12_09-fdcdc.csv",
         "2011_12_09-fdcdc.csv",
         140637
        ]
       ],
       "datasetInfos": [],
       "dbfsResultPath": null,
       "isJsonSchema": true,
       "metadata": {},
       "overflow": false,
       "plotOptions": {
        "customPlotOptions": {},
        "displayType": "table",
        "pivotAggregation": null,
        "pivotColumns": null,
        "xColumns": null,
        "yColumns": null
       },
       "removedWidgets": [],
       "schema": [
        {
         "metadata": "{}",
         "name": "path",
         "type": "\"string\""
        },
        {
         "metadata": "{}",
         "name": "name",
         "type": "\"string\""
        },
        {
         "metadata": "{}",
         "name": "size",
         "type": "\"long\""
        }
       ],
       "type": "table"
      }
     },
     "output_type": "display_data"
    }
   ],
   "source": [
    "%fs ls /FileStore/tables/retail-data/by-day/"
   ]
  },
  {
   "cell_type": "code",
   "execution_count": 0,
   "metadata": {
    "application/vnd.databricks.v1+cell": {
     "inputWidgets": {},
     "nuid": "8c380f95-dad3-42e9-a980-586ae0a01663",
     "showTitle": false,
     "title": ""
    }
   },
   "outputs": [
    {
     "data": {
      "text/html": [
       "<style scoped>\n",
       "  .ansiout {\n",
       "    display: block;\n",
       "    unicode-bidi: embed;\n",
       "    white-space: pre-wrap;\n",
       "    word-wrap: break-word;\n",
       "    word-break: break-all;\n",
       "    font-family: \"Source Code Pro\", \"Menlo\", monospace;;\n",
       "    font-size: 13px;\n",
       "    color: #555;\n",
       "    margin-left: 4px;\n",
       "    line-height: 19px;\n",
       "  }\n",
       "</style>\n",
       "<div class=\"ansiout\"></div>"
      ]
     },
     "metadata": {
      "application/vnd.databricks.v1+output": {
       "addedWidgets": {},
       "arguments": {},
       "data": "<div class=\"ansiout\"></div>",
       "datasetInfos": [
        {
         "name": "staticDataFrame",
         "schema": {
          "fields": [
           {
            "metadata": {},
            "name": "InvoiceNo",
            "nullable": true,
            "type": "string"
           },
           {
            "metadata": {},
            "name": "StockCode",
            "nullable": true,
            "type": "string"
           },
           {
            "metadata": {},
            "name": "Description",
            "nullable": true,
            "type": "string"
           },
           {
            "metadata": {},
            "name": "Quantity",
            "nullable": true,
            "type": "integer"
           },
           {
            "metadata": {},
            "name": "InvoiceDate",
            "nullable": true,
            "type": "timestamp"
           },
           {
            "metadata": {},
            "name": "UnitPrice",
            "nullable": true,
            "type": "double"
           },
           {
            "metadata": {},
            "name": "CustomerID",
            "nullable": true,
            "type": "double"
           },
           {
            "metadata": {},
            "name": "Country",
            "nullable": true,
            "type": "string"
           }
          ],
          "type": "struct"
         },
         "tableIdentifier": null,
         "typeStr": "pyspark.sql.dataframe.DataFrame"
        }
       ],
       "metadata": {},
       "removedWidgets": [],
       "type": "html"
      }
     },
     "output_type": "display_data"
    }
   ],
   "source": [
    "staticDataFrame = spark.read.format(\"csv\")\\\n",
    "                  .option(\"header\",\"true\")\\\n",
    "                  .option(\"inferSchema\",\"true\")\\\n",
    "                  .load(\"/FileStore/tables/retail-data/by-day/*.csv\")"
   ]
  },
  {
   "cell_type": "code",
   "execution_count": 0,
   "metadata": {
    "application/vnd.databricks.v1+cell": {
     "inputWidgets": {},
     "nuid": "1f8041a4-e0f0-45f2-a4e2-8ad30620dc2a",
     "showTitle": false,
     "title": ""
    }
   },
   "outputs": [
    {
     "data": {
      "text/html": [
       "<style scoped>\n",
       "  .ansiout {\n",
       "    display: block;\n",
       "    unicode-bidi: embed;\n",
       "    white-space: pre-wrap;\n",
       "    word-wrap: break-word;\n",
       "    word-break: break-all;\n",
       "    font-family: \"Source Code Pro\", \"Menlo\", monospace;;\n",
       "    font-size: 13px;\n",
       "    color: #555;\n",
       "    margin-left: 4px;\n",
       "    line-height: 19px;\n",
       "  }\n",
       "</style>\n",
       "<div class=\"ansiout\"></div>"
      ]
     },
     "metadata": {
      "application/vnd.databricks.v1+output": {
       "addedWidgets": {},
       "arguments": {},
       "data": "<div class=\"ansiout\"></div>",
       "datasetInfos": [],
       "metadata": {},
       "removedWidgets": [],
       "type": "html"
      }
     },
     "output_type": "display_data"
    }
   ],
   "source": [
    "staticDataFrame.createOrReplaceTempView(\"retail_data\")"
   ]
  },
  {
   "cell_type": "code",
   "execution_count": 0,
   "metadata": {
    "application/vnd.databricks.v1+cell": {
     "inputWidgets": {},
     "nuid": "19c03be1-7f56-4035-835e-ac5f7f6a3627",
     "showTitle": false,
     "title": ""
    }
   },
   "outputs": [
    {
     "data": {
      "text/html": [
       "<style scoped>\n",
       "  .ansiout {\n",
       "    display: block;\n",
       "    unicode-bidi: embed;\n",
       "    white-space: pre-wrap;\n",
       "    word-wrap: break-word;\n",
       "    word-break: break-all;\n",
       "    font-family: \"Source Code Pro\", \"Menlo\", monospace;;\n",
       "    font-size: 13px;\n",
       "    color: #555;\n",
       "    margin-left: 4px;\n",
       "    line-height: 19px;\n",
       "  }\n",
       "</style>\n",
       "<div class=\"ansiout\">Out[3]: StructType(List(StructField(InvoiceNo,StringType,true),StructField(StockCode,StringType,true),StructField(Description,StringType,true),StructField(Quantity,IntegerType,true),StructField(InvoiceDate,TimestampType,true),StructField(UnitPrice,DoubleType,true),StructField(CustomerID,DoubleType,true),StructField(Country,StringType,true)))</div>"
      ]
     },
     "metadata": {
      "application/vnd.databricks.v1+output": {
       "addedWidgets": {},
       "arguments": {},
       "data": "<div class=\"ansiout\">Out[3]: StructType(List(StructField(InvoiceNo,StringType,true),StructField(StockCode,StringType,true),StructField(Description,StringType,true),StructField(Quantity,IntegerType,true),StructField(InvoiceDate,TimestampType,true),StructField(UnitPrice,DoubleType,true),StructField(CustomerID,DoubleType,true),StructField(Country,StringType,true)))</div>",
       "datasetInfos": [],
       "metadata": {},
       "removedWidgets": [],
       "type": "html"
      }
     },
     "output_type": "display_data"
    }
   ],
   "source": [
    "staticSchema = staticDataFrame.schema\n",
    "staticSchema"
   ]
  },
  {
   "cell_type": "code",
   "execution_count": 0,
   "metadata": {
    "application/vnd.databricks.v1+cell": {
     "inputWidgets": {},
     "nuid": "1c95e9c8-6e28-4299-bbed-906269233e9d",
     "showTitle": false,
     "title": ""
    }
   },
   "outputs": [
    {
     "data": {
      "text/html": [
       "<style scoped>\n",
       "  .ansiout {\n",
       "    display: block;\n",
       "    unicode-bidi: embed;\n",
       "    white-space: pre-wrap;\n",
       "    word-wrap: break-word;\n",
       "    word-break: break-all;\n",
       "    font-family: \"Source Code Pro\", \"Menlo\", monospace;;\n",
       "    font-size: 13px;\n",
       "    color: #555;\n",
       "    margin-left: 4px;\n",
       "    line-height: 19px;\n",
       "  }\n",
       "</style>\n",
       "<div class=\"ansiout\">+---------+---------+--------------------+--------+-------------------+---------+----------+--------------+\n",
       "InvoiceNo|StockCode|         Description|Quantity|        InvoiceDate|UnitPrice|CustomerID|       Country|\n",
       "+---------+---------+--------------------+--------+-------------------+---------+----------+--------------+\n",
       "   580538|    23084|  RABBIT NIGHT LIGHT|      48|2011-12-05 08:38:00|     1.79|   14075.0|United Kingdom|\n",
       "   580538|    23077| DOUGHNUT LIP GLOSS |      20|2011-12-05 08:38:00|     1.25|   14075.0|United Kingdom|\n",
       "   580538|    22906|12 MESSAGE CARDS ...|      24|2011-12-05 08:38:00|     1.65|   14075.0|United Kingdom|\n",
       "   580538|    21914|BLUE HARMONICA IN...|      24|2011-12-05 08:38:00|     1.25|   14075.0|United Kingdom|\n",
       "   580538|    22467|   GUMBALL COAT RACK|       6|2011-12-05 08:38:00|     2.55|   14075.0|United Kingdom|\n",
       "+---------+---------+--------------------+--------+-------------------+---------+----------+--------------+\n",
       "only showing top 5 rows\n",
       "\n",
       "</div>"
      ]
     },
     "metadata": {
      "application/vnd.databricks.v1+output": {
       "addedWidgets": {},
       "arguments": {},
       "data": "<div class=\"ansiout\">+---------+---------+--------------------+--------+-------------------+---------+----------+--------------+\n|InvoiceNo|StockCode|         Description|Quantity|        InvoiceDate|UnitPrice|CustomerID|       Country|\n+---------+---------+--------------------+--------+-------------------+---------+----------+--------------+\n|   580538|    23084|  RABBIT NIGHT LIGHT|      48|2011-12-05 08:38:00|     1.79|   14075.0|United Kingdom|\n|   580538|    23077| DOUGHNUT LIP GLOSS |      20|2011-12-05 08:38:00|     1.25|   14075.0|United Kingdom|\n|   580538|    22906|12 MESSAGE CARDS ...|      24|2011-12-05 08:38:00|     1.65|   14075.0|United Kingdom|\n|   580538|    21914|BLUE HARMONICA IN...|      24|2011-12-05 08:38:00|     1.25|   14075.0|United Kingdom|\n|   580538|    22467|   GUMBALL COAT RACK|       6|2011-12-05 08:38:00|     2.55|   14075.0|United Kingdom|\n+---------+---------+--------------------+--------+-------------------+---------+----------+--------------+\nonly showing top 5 rows\n\n</div>",
       "datasetInfos": [],
       "metadata": {},
       "removedWidgets": [],
       "type": "html"
      }
     },
     "output_type": "display_data"
    }
   ],
   "source": [
    "staticDataFrame.show(5)"
   ]
  },
  {
   "cell_type": "code",
   "execution_count": 0,
   "metadata": {
    "application/vnd.databricks.v1+cell": {
     "inputWidgets": {},
     "nuid": "cc428500-53af-4370-8eaf-65764d2668c6",
     "showTitle": false,
     "title": ""
    }
   },
   "outputs": [
    {
     "data": {
      "text/html": [
       "<style scoped>\n",
       "  .ansiout {\n",
       "    display: block;\n",
       "    unicode-bidi: embed;\n",
       "    white-space: pre-wrap;\n",
       "    word-wrap: break-word;\n",
       "    word-break: break-all;\n",
       "    font-family: \"Source Code Pro\", \"Menlo\", monospace;;\n",
       "    font-size: 13px;\n",
       "    color: #555;\n",
       "    margin-left: 4px;\n",
       "    line-height: 19px;\n",
       "  }\n",
       "</style>\n",
       "<div class=\"ansiout\"></div>"
      ]
     },
     "metadata": {
      "application/vnd.databricks.v1+output": {
       "addedWidgets": {},
       "arguments": {},
       "data": "<div class=\"ansiout\"></div>",
       "datasetInfos": [],
       "metadata": {},
       "removedWidgets": [],
       "type": "html"
      }
     },
     "output_type": "display_data"
    }
   ],
   "source": [
    "import pyspark.sql.functions as F\n",
    "from pyspark.sql.window import Window"
   ]
  },
  {
   "cell_type": "code",
   "execution_count": 0,
   "metadata": {
    "application/vnd.databricks.v1+cell": {
     "inputWidgets": {},
     "nuid": "0faedd39-b86c-4bf3-9b9b-dc52cfaed1c1",
     "showTitle": false,
     "title": ""
    }
   },
   "outputs": [
    {
     "data": {
      "text/html": [
       "<style scoped>\n",
       "  .ansiout {\n",
       "    display: block;\n",
       "    unicode-bidi: embed;\n",
       "    white-space: pre-wrap;\n",
       "    word-wrap: break-word;\n",
       "    word-break: break-all;\n",
       "    font-family: \"Source Code Pro\", \"Menlo\", monospace;;\n",
       "    font-size: 13px;\n",
       "    color: #555;\n",
       "    margin-left: 4px;\n",
       "    line-height: 19px;\n",
       "  }\n",
       "</style>\n",
       "<div class=\"ansiout\">+----------+--------------------+------------------+\n",
       "CustomerID|              window|               sum|\n",
       "+----------+--------------------+------------------+\n",
       "   17450.0|[2011-09-20 00:00...|          71601.44|\n",
       "      null|[2011-11-14 00:00...|          55316.08|\n",
       "      null|[2011-11-07 00:00...|          42939.17|\n",
       "      null|[2011-03-29 00:00...| 33521.39999999998|\n",
       "      null|[2011-12-08 00:00...|31975.590000000007|\n",
       "+----------+--------------------+------------------+\n",
       "only showing top 5 rows\n",
       "\n",
       "</div>"
      ]
     },
     "metadata": {
      "application/vnd.databricks.v1+output": {
       "addedWidgets": {},
       "arguments": {},
       "data": "<div class=\"ansiout\">+----------+--------------------+------------------+\n|CustomerID|              window|               sum|\n+----------+--------------------+------------------+\n|   17450.0|[2011-09-20 00:00...|          71601.44|\n|      null|[2011-11-14 00:00...|          55316.08|\n|      null|[2011-11-07 00:00...|          42939.17|\n|      null|[2011-03-29 00:00...| 33521.39999999998|\n|      null|[2011-12-08 00:00...|31975.590000000007|\n+----------+--------------------+------------------+\nonly showing top 5 rows\n\n</div>",
       "datasetInfos": [],
       "metadata": {},
       "removedWidgets": [],
       "type": "html"
      }
     },
     "output_type": "display_data"
    }
   ],
   "source": [
    "(staticDataFrame.select(F.col('CustomerID'),(F.col('Quantity')*F.col('UnitPrice')).alias(\"total_cost\"),F.col('InvoiceDate'))\n",
    "                .groupBy(F.col('CustomerID'),F.window(F.col('InvoiceDate'),\"1 day\")).agg(F.sum('total_cost').alias(\"sum\"))\n",
    "                .orderBy(F.col('sum').desc()).show(5))"
   ]
  },
  {
   "cell_type": "markdown",
   "metadata": {
    "application/vnd.databricks.v1+cell": {
     "inputWidgets": {},
     "nuid": "58eac28b-f2c2-4a6f-9395-d1031129b920",
     "showTitle": false,
     "title": ""
    }
   },
   "source": [
    "To find the largest sale hours where given customer makes large purchase"
   ]
  },
  {
   "cell_type": "code",
   "execution_count": 0,
   "metadata": {
    "application/vnd.databricks.v1+cell": {
     "inputWidgets": {},
     "nuid": "dede887e-2bb1-424d-88fd-e41490580e82",
     "showTitle": false,
     "title": ""
    }
   },
   "outputs": [
    {
     "data": {
      "text/html": [
       "<style scoped>\n",
       "  .ansiout {\n",
       "    display: block;\n",
       "    unicode-bidi: embed;\n",
       "    white-space: pre-wrap;\n",
       "    word-wrap: break-word;\n",
       "    word-break: break-all;\n",
       "    font-family: \"Source Code Pro\", \"Menlo\", monospace;;\n",
       "    font-size: 13px;\n",
       "    color: #555;\n",
       "    margin-left: 4px;\n",
       "    line-height: 19px;\n",
       "  }\n",
       "</style>\n",
       "<div class=\"ansiout\"></div>"
      ]
     },
     "metadata": {
      "application/vnd.databricks.v1+output": {
       "addedWidgets": {},
       "arguments": {},
       "data": "<div class=\"ansiout\"></div>",
       "datasetInfos": [],
       "metadata": {},
       "removedWidgets": [],
       "type": "html"
      }
     },
     "output_type": "display_data"
    }
   ],
   "source": [
    "spark.conf.set(\"spark.sql.shuffle.partitions\", \"5\")"
   ]
  },
  {
   "cell_type": "code",
   "execution_count": 0,
   "metadata": {
    "application/vnd.databricks.v1+cell": {
     "inputWidgets": {},
     "nuid": "8edaf861-f4f5-4745-b8a0-2d4a92dc6ddd",
     "showTitle": false,
     "title": ""
    }
   },
   "outputs": [],
   "source": [
    "staticDataFrame.select(F.e)"
   ]
  },
  {
   "cell_type": "code",
   "execution_count": 0,
   "metadata": {
    "application/vnd.databricks.v1+cell": {
     "inputWidgets": {},
     "nuid": "91ace63f-71bb-408c-a6c4-3172df648f49",
     "showTitle": false,
     "title": ""
    }
   },
   "outputs": [
    {
     "data": {
      "text/html": [
       "<style scoped>\n",
       "  .ansiout {\n",
       "    display: block;\n",
       "    unicode-bidi: embed;\n",
       "    white-space: pre-wrap;\n",
       "    word-wrap: break-word;\n",
       "    word-break: break-all;\n",
       "    font-family: \"Source Code Pro\", \"Menlo\", monospace;;\n",
       "    font-size: 13px;\n",
       "    color: #555;\n",
       "    margin-left: 4px;\n",
       "    line-height: 19px;\n",
       "  }\n",
       "</style>\n",
       "<div class=\"ansiout\">+----------+--------------------+------------------+\n",
       "CustomerID|              window|   sum(total_cost)|\n",
       "+----------+--------------------+------------------+\n",
       "   17450.0|[2011-09-20 00:00...|          71601.44|\n",
       "      null|[2011-11-14 00:00...|          55316.08|\n",
       "      null|[2011-11-07 00:00...|          42939.17|\n",
       "      null|[2011-03-29 00:00...| 33521.39999999998|\n",
       "      null|[2011-12-08 00:00...|31975.590000000007|\n",
       "+----------+--------------------+------------------+\n",
       "only showing top 5 rows\n",
       "\n",
       "</div>"
      ]
     },
     "metadata": {
      "application/vnd.databricks.v1+output": {
       "addedWidgets": {},
       "arguments": {},
       "data": "<div class=\"ansiout\">+----------+--------------------+------------------+\n|CustomerID|              window|   sum(total_cost)|\n+----------+--------------------+------------------+\n|   17450.0|[2011-09-20 00:00...|          71601.44|\n|      null|[2011-11-14 00:00...|          55316.08|\n|      null|[2011-11-07 00:00...|          42939.17|\n|      null|[2011-03-29 00:00...| 33521.39999999998|\n|      null|[2011-12-08 00:00...|31975.590000000007|\n+----------+--------------------+------------------+\nonly showing top 5 rows\n\n</div>",
       "datasetInfos": [],
       "metadata": {},
       "removedWidgets": [],
       "type": "html"
      }
     },
     "output_type": "display_data"
    }
   ],
   "source": [
    "from pyspark.sql.functions import window, column, desc, col\n",
    "\n",
    "staticDataFrame\\\n",
    "  .selectExpr(\n",
    "  \"CustomerID\",\n",
    "  \"(UnitPrice * Quantity) as total_cost\",\n",
    "  \"InvoiceDate\")\\\n",
    "  .groupBy(\n",
    "  col(\"CustomerID\"),window(col(\"InvoiceDate\"),\"1 day\"))\\\n",
    "  .sum(\"total_cost\")\\\n",
    "  .orderBy(desc(\"sum(total_cost)\"))\\\n",
    "  .show(5)\n"
   ]
  },
  {
   "cell_type": "code",
   "execution_count": 0,
   "metadata": {
    "application/vnd.databricks.v1+cell": {
     "inputWidgets": {},
     "nuid": "7faacfb5-eca7-4f6e-8873-347c41df348a",
     "showTitle": false,
     "title": ""
    }
   },
   "outputs": [
    {
     "data": {
      "text/html": [
       "<style scoped>\n",
       "  .table-result-container {\n",
       "    max-height: 300px;\n",
       "    overflow: auto;\n",
       "  }\n",
       "  table, th, td {\n",
       "    border: 1px solid black;\n",
       "    border-collapse: collapse;\n",
       "  }\n",
       "  th, td {\n",
       "    padding: 5px;\n",
       "  }\n",
       "  th {\n",
       "    text-align: left;\n",
       "  }\n",
       "</style><div class='table-result-container'><table class='table-result'><thead style='background-color: white'><tr><th>sum(total_cost)</th><th>CustomerId</th><th>Invoice_date</th></tr></thead><tbody><tr><td>71601.44</td><td>17450.0</td><td>2011-09-20</td></tr><tr><td>55316.08</td><td>null</td><td>2011-11-14</td></tr><tr><td>42939.17</td><td>null</td><td>2011-11-07</td></tr><tr><td>33521.39999999998</td><td>null</td><td>2011-03-29</td></tr><tr><td>31975.590000000007</td><td>null</td><td>2011-12-08</td></tr><tr><td>31661.540000000005</td><td>18102.0</td><td>2011-09-15</td></tr><tr><td>31347.479999999938</td><td>null</td><td>2010-12-21</td></tr><tr><td>29693.82</td><td>18102.0</td><td>2011-10-21</td></tr><tr><td>25920.37</td><td>18102.0</td><td>2010-12-07</td></tr><tr><td>25833.559999999994</td><td>14646.0</td><td>2011-10-20</td></tr><tr><td>25399.560000000012</td><td>null</td><td>2010-12-10</td></tr><tr><td>25371.769999999768</td><td>null</td><td>2010-12-17</td></tr><tr><td>24148.069999999992</td><td>null</td><td>2011-11-25</td></tr><tr><td>23744.250000000055</td><td>null</td><td>2011-11-29</td></tr><tr><td>23426.81000000001</td><td>12415.0</td><td>2011-06-15</td></tr><tr><td>23395.099999999904</td><td>null</td><td>2010-12-06</td></tr><tr><td>23032.59999999993</td><td>null</td><td>2011-08-30</td></tr><tr><td>23021.99999999999</td><td>null</td><td>2010-12-03</td></tr><tr><td>22998.4</td><td>15749.0</td><td>2011-01-11</td></tr><tr><td>22429.69</td><td>18102.0</td><td>2011-10-03</td></tr><tr><td>21880.439999999995</td><td>12415.0</td><td>2011-08-18</td></tr><tr><td>19371.949999999924</td><td>null</td><td>2011-11-08</td></tr><tr><td>19150.65999999999</td><td>14646.0</td><td>2011-08-11</td></tr><tr><td>19045.480000000003</td><td>12931.0</td><td>2011-08-04</td></tr><tr><td>18854.780000000002</td><td>17949.0</td><td>2011-06-30</td></tr><tr><td>18630.12999999988</td><td>null</td><td>2011-11-30</td></tr><tr><td>18620.199999999993</td><td>17450.0</td><td>2011-01-11</td></tr><tr><td>18279.479999999996</td><td>14646.0</td><td>2011-02-21</td></tr><tr><td>18247.5</td><td>14646.0</td><td>2011-03-29</td></tr><tr><td>18175.799999999934</td><td>null</td><td>2011-11-11</td></tr><tr><td>18047.62000000003</td><td>null</td><td>2011-08-11</td></tr><tr><td>18047.42</td><td>16684.0</td><td>2011-10-05</td></tr><tr><td>17949.28000000001</td><td>null</td><td>2011-05-10</td></tr><tr><td>17518.40999999992</td><td>null</td><td>2011-11-16</td></tr><tr><td>16803.529999999893</td><td>null</td><td>2011-07-18</td></tr><tr><td>16774.719999999998</td><td>14156.0</td><td>2011-01-14</td></tr><tr><td>16571.320000000036</td><td>null</td><td>2011-12-09</td></tr><tr><td>16558.14</td><td>12415.0</td><td>2011-03-03</td></tr><tr><td>16488.0</td><td>18102.0</td><td>2011-06-09</td></tr><tr><td>16478.460000000006</td><td>14646.0</td><td>2011-05-12</td></tr><tr><td>16471.770000000004</td><td>12415.0</td><td>2011-10-05</td></tr><tr><td>16192.969999999943</td><td>null</td><td>2011-10-31</td></tr><tr><td>16084.900000000001</td><td>17450.0</td><td>2011-08-17</td></tr><tr><td>15929.879999999974</td><td>null</td><td>2010-12-14</td></tr><tr><td>15618.279999999997</td><td>14646.0</td><td>2011-09-19</td></tr><tr><td>15354.279999999955</td><td>null</td><td>2010-12-09</td></tr><tr><td>15045.000000000002</td><td>18102.0</td><td>2011-11-04</td></tr><tr><td>14766.169999999916</td><td>null</td><td>2011-07-05</td></tr><tr><td>14471.92</td><td>18102.0</td><td>2011-06-14</td></tr><tr><td>14028.459999999997</td><td>14646.0</td><td>2011-06-28</td></tr><tr><td>14022.919999999998</td><td>12415.0</td><td>2011-02-15</td></tr><tr><td>13667.65999999993</td><td>null</td><td>2011-07-04</td></tr><tr><td>13544.64</td><td>16029.0</td><td>2011-10-07</td></tr><tr><td>13464.26</td><td>14156.0</td><td>2011-07-31</td></tr><tr><td>13282.0</td><td>18102.0</td><td>2011-07-04</td></tr><tr><td>13216.889999999894</td><td>null</td><td>2011-11-22</td></tr><tr><td>13078.289999999908</td><td>null</td><td>2011-11-15</td></tr><tr><td>13072.19999999996</td><td>null</td><td>2011-06-08</td></tr><tr><td>12950.379999999943</td><td>null</td><td>2011-12-02</td></tr><tr><td>12735.669999999953</td><td>null</td><td>2011-01-17</td></tr><tr><td>12584.299999999988</td><td>null</td><td>2010-12-01</td></tr><tr><td>12498.709999999997</td><td>14646.0</td><td>2011-08-09</td></tr><tr><td>12451.28999999998</td><td>null</td><td>2011-03-22</td></tr><tr><td>12446.109999999957</td><td>null</td><td>2011-09-07</td></tr><tr><td>12399.519999999964</td><td>null</td><td>2011-11-24</td></tr><tr><td>12393.7</td><td>16000.0</td><td>2011-12-07</td></tr><tr><td>12312.61999999994</td><td>null</td><td>2011-04-18</td></tr><tr><td>12293.879999999997</td><td>17450.0</td><td>2011-05-24</td></tr><tr><td>12242.759999999957</td><td>null</td><td>2011-11-18</td></tr><tr><td>12024.969999999987</td><td>null</td><td>2011-09-02</td></tr><tr><td>11924.800000000003</td><td>12415.0</td><td>2011-05-17</td></tr><tr><td>11666.66</td><td>14156.0</td><td>2011-07-19</td></tr><tr><td>11477.420000000002</td><td>14646.0</td><td>2011-12-07</td></tr><tr><td>11343.199999999999</td><td>17450.0</td><td>2011-03-24</td></tr><tr><td>11016.1</td><td>18102.0</td><td>2011-12-08</td></tr><tr><td>10999.52</td><td>18102.0</td><td>2011-06-07</td></tr><tr><td>10992.96</td><td>15838.0</td><td>2011-10-06</td></tr><tr><td>10983.769999999955</td><td>null</td><td>2011-03-07</td></tr><tr><td>10732.35</td><td>17949.0</td><td>2011-07-28</td></tr><tr><td>10584.770000000004</td><td>14088.0</td><td>2011-11-23</td></tr><tr><td>10569.16999999998</td><td>null</td><td>2011-12-06</td></tr><tr><td>10535.48</td><td>18102.0</td><td>2011-02-07</td></tr><tr><td>10389.060000000003</td><td>14646.0</td><td>2011-01-14</td></tr><tr><td>10312.640000000012</td><td>null</td><td>2011-04-15</td></tr><tr><td>10207.52</td><td>18102.0</td><td>2011-09-22</td></tr><tr><td>10109.499999999965</td><td>null</td><td>2011-10-04</td></tr><tr><td>10078.640000000003</td><td>14646.0</td><td>2011-11-23</td></tr><tr><td>10065.0</td><td>15769.0</td><td>2011-03-17</td></tr><tr><td>10057.619999999997</td><td>null</td><td>2011-09-21</td></tr><tr><td>9995.220000000001</td><td>14646.0</td><td>2011-10-27</td></tr><tr><td>9864.260000000004</td><td>12590.0</td><td>2011-05-12</td></tr><tr><td>9823.119999999995</td><td>14646.0</td><td>2011-11-10</td></tr><tr><td>9523.800000000008</td><td>null</td><td>2011-07-08</td></tr><tr><td>9517.69</td><td>null</td><td>2011-06-29</td></tr><tr><td>9463.019999999997</td><td>null</td><td>2011-04-26</td></tr><tr><td>9407.339999999998</td><td>15061.0</td><td>2010-12-02</td></tr><tr><td>9349.72</td><td>12931.0</td><td>2011-08-11</td></tr><tr><td>9270.08</td><td>18102.0</td><td>2011-05-17</td></tr><tr><td>9207.240000000016</td><td>null</td><td>2011-01-10</td></tr><tr><td>9069.82</td><td>17450.0</td><td>2011-11-03</td></tr><tr><td>8980.880000000003</td><td>14646.0</td><td>2011-05-26</td></tr><tr><td>8947.960000000005</td><td>12678.0</td><td>2011-10-28</td></tr><tr><td>8930.780000000008</td><td>null</td><td>2011-08-10</td></tr><tr><td>8895.66</td><td>18102.0</td><td>2011-05-16</td></tr><tr><td>8820.650000000009</td><td>null</td><td>2011-09-23</td></tr><tr><td>8801.510000000004</td><td>14088.0</td><td>2011-07-19</td></tr><tr><td>8697.880000000006</td><td>null</td><td>2011-02-17</td></tr><tr><td>8647.290000000012</td><td>null</td><td>2011-03-31</td></tr><tr><td>8520.919999999998</td><td>14646.0</td><td>2010-12-21</td></tr><tr><td>8386.810000000005</td><td>null</td><td>2011-01-11</td></tr><tr><td>8375.560000000001</td><td>16684.0</td><td>2011-07-24</td></tr><tr><td>8361.599999999999</td><td>16029.0</td><td>2010-12-16</td></tr><tr><td>8360.54000000001</td><td>null</td><td>2011-01-21</td></tr><tr><td>8358.240000000018</td><td>null</td><td>2011-01-18</td></tr><tr><td>8343.859999999999</td><td>14156.0</td><td>2011-09-05</td></tr><tr><td>8314.360000000011</td><td>null</td><td>2011-07-12</td></tr><tr><td>8281.119999999999</td><td>14646.0</td><td>2011-09-13</td></tr><tr><td>8245.130000000025</td><td>null</td><td>2011-06-20</td></tr><tr><td>8173.220000000017</td><td>null</td><td>2011-05-17</td></tr><tr><td>8132.310000000001</td><td>14088.0</td><td>2011-10-16</td></tr><tr><td>8124.250000000004</td><td>null</td><td>2011-11-23</td></tr><tr><td>8101.42000000001</td><td>null</td><td>2011-01-24</td></tr><tr><td>8060.2999999999965</td><td>14646.0</td><td>2011-01-21</td></tr><tr><td>8044.880000000011</td><td>null</td><td>2011-01-14</td></tr><tr><td>8029.760000000011</td><td>null</td><td>2011-10-18</td></tr><tr><td>7952.0</td><td>15769.0</td><td>2011-08-24</td></tr><tr><td>7949.909999999991</td><td>null</td><td>2010-12-13</td></tr><tr><td>7876.000000000018</td><td>null</td><td>2011-03-17</td></tr><tr><td>7835.540000000014</td><td>14096.0</td><td>2011-12-05</td></tr><tr><td>7809.929999999998</td><td>14088.0</td><td>2011-06-02</td></tr><tr><td>7722.040000000002</td><td>14646.0</td><td>2011-01-19</td></tr><tr><td>7647.960000000009</td><td>null</td><td>2011-12-01</td></tr><tr><td>7544.910000000001</td><td>14088.0</td><td>2011-01-21</td></tr><tr><td>7543.530000000006</td><td>null</td><td>2011-02-23</td></tr><tr><td>7527.089999999997</td><td>null</td><td>2011-01-12</td></tr><tr><td>7428.039999999999</td><td>14646.0</td><td>2011-08-26</td></tr><tr><td>7427.32</td><td>17389.0</td><td>2011-11-03</td></tr><tr><td>7386.790000000006</td><td>14096.0</td><td>2011-11-14</td></tr><tr><td>7278.710000000012</td><td>null</td><td>2011-05-27</td></tr><tr><td>7275.68</td><td>16029.0</td><td>2011-08-17</td></tr><tr><td>7271.339999999996</td><td>13081.0</td><td>2011-11-04</td></tr><tr><td>7199.840000000011</td><td>null</td><td>2011-07-25</td></tr><tr><td>7167.169999999999</td><td>null</td><td>2010-12-20</td></tr><tr><td>7153.640000000011</td><td>null</td><td>2011-11-02</td></tr><tr><td>7120.580000000016</td><td>14096.0</td><td>2011-11-28</td></tr><tr><td>7059.540000000001</td><td>17511.0</td><td>2011-11-09</td></tr><tr><td>7048.590000000007</td><td>null</td><td>2011-09-27</td></tr><tr><td>7033.010000000008</td><td>null</td><td>2011-06-14</td></tr><tr><td>7011.379999999997</td><td>12415.0</td><td>2011-01-06</td></tr><tr><td>7001.680000000016</td><td>null</td><td>2011-02-04</td></tr><tr><td>6878.12000000001</td><td>null</td><td>2011-11-04</td></tr><tr><td>6855.280000000012</td><td>null</td><td>2011-09-13</td></tr><tr><td>6781.890000000018</td><td>null</td><td>2011-02-08</td></tr><tr><td>6648.609999999997</td><td>null</td><td>2011-02-28</td></tr><tr><td>6612.599999999998</td><td>18139.0</td><td>2011-11-21</td></tr><tr><td>6591.6</td><td>18102.0</td><td>2011-07-28</td></tr><tr><td>6585.16</td><td>13777.0</td><td>2010-12-01</td></tr><tr><td>6549.119999999999</td><td>16684.0</td><td>2011-02-03</td></tr><tr><td>6506.029999999999</td><td>13694.0</td><td>2011-08-24</td></tr><tr><td>6485.560000000001</td><td>13777.0</td><td>2011-11-15</td></tr><tr><td>6426.519999999999</td><td>16684.0</td><td>2011-05-18</td></tr><tr><td>6412.139999999996</td><td>null</td><td>2010-12-23</td></tr><tr><td>6374.800000000001</td><td>14607.0</td><td>2011-10-24</td></tr><tr><td>6319.000000000006</td><td>null</td><td>2011-05-03</td></tr><tr><td>6237.85000000002</td><td>null</td><td>2011-10-24</td></tr><tr><td>6233.36</td><td>17450.0</td><td>2011-11-28</td></tr><tr><td>6231.270000000012</td><td>null</td><td>2011-07-20</td></tr><tr><td>6207.669999999996</td><td>12357.0</td><td>2011-11-06</td></tr><tr><td>6207.079999999999</td><td>12409.0</td><td>2011-06-10</td></tr><tr><td>6162.02</td><td>14156.0</td><td>2011-03-10</td></tr><tr><td>6141.159999999997</td><td>null</td><td>2010-12-08</td></tr><tr><td>6086.590000000009</td><td>14096.0</td><td>2011-11-23</td></tr><tr><td>6084.950000000003</td><td>null</td><td>2011-12-07</td></tr><tr><td>6062.930000000016</td><td>null</td><td>2011-10-11</td></tr><tr><td>5973.300000000011</td><td>null</td><td>2011-03-15</td></tr><tr><td>5915.28</td><td>15061.0</td><td>2010-12-10</td></tr><tr><td>5900.950000000004</td><td>null</td><td>2011-09-20</td></tr><tr><td>5867.079999999999</td><td>14156.0</td><td>2011-09-30</td></tr><tr><td>5735.24</td><td>12753.0</td><td>2011-02-09</td></tr><tr><td>5727.0</td><td>16333.0</td><td>2011-11-03</td></tr><tr><td>5683.06</td><td>14646.0</td><td>2011-06-19</td></tr><tr><td>5639.519999999999</td><td>14866.0</td><td>2011-09-20</td></tr><tr><td>5590.670000000002</td><td>14298.0</td><td>2011-09-01</td></tr><tr><td>5529.280000000004</td><td>null</td><td>2011-01-06</td></tr><tr><td>5518.679999999999</td><td>17450.0</td><td>2011-05-26</td></tr><tr><td>5513.32</td><td>18102.0</td><td>2011-03-25</td></tr><tr><td>5500.38</td><td>16684.0</td><td>2011-11-03</td></tr><tr><td>5491.090000000005</td><td>null</td><td>2011-07-22</td></tr><tr><td>5490.240000000001</td><td>17450.0</td><td>2011-11-21</td></tr><tr><td>5485.660000000009</td><td>null</td><td>2011-04-19</td></tr><tr><td>5462.140000000003</td><td>null</td><td>2011-11-13</td></tr><tr><td>5453.33000000001</td><td>null</td><td>2011-01-13</td></tr><tr><td>5433.569999999998</td><td>17511.0</td><td>2011-07-20</td></tr><tr><td>5424.0</td><td>17857.0</td><td>2011-04-05</td></tr><tr><td>5422.8</td><td>14646.0</td><td>2011-06-01</td></tr><tr><td>5405.48</td><td>17450.0</td><td>2011-06-16</td></tr><tr><td>5401.979999999999</td><td>16684.0</td><td>2011-12-05</td></tr><tr><td>5355.680000000005</td><td>14298.0</td><td>2011-10-18</td></tr><tr><td>5355.400000000001</td><td>12415.0</td><td>2011-11-15</td></tr><tr><td>5333.520000000004</td><td>null</td><td>2011-11-28</td></tr><tr><td>5296.960000000001</td><td>17404.0</td><td>2011-10-17</td></tr><tr><td>5239.840000000006</td><td>null</td><td>2011-10-19</td></tr><tr><td>5217.83000000001</td><td>null</td><td>2011-11-17</td></tr><tr><td>5204.800000000013</td><td>null</td><td>2011-06-01</td></tr><tr><td>5197.560000000011</td><td>null</td><td>2011-05-24</td></tr><tr><td>5194.360000000001</td><td>16013.0</td><td>2011-10-26</td></tr><tr><td>5162.74</td><td>17511.0</td><td>2011-08-04</td></tr><tr><td>5150.210000000006</td><td>null</td><td>2011-05-06</td></tr><tr><td>5134.88</td><td>17389.0</td><td>2011-12-06</td></tr><tr><td>5078.690000000006</td><td>null</td><td>2011-10-25</td></tr><tr><td>5038.800000000009</td><td>null</td><td>2011-01-07</td></tr><tr><td>4969.319999999999</td><td>14911.0</td><td>2011-07-28</td></tr><tr><td>4969.219999999998</td><td>12428.0</td><td>2011-03-01</td></tr><tr><td>4958.170000000009</td><td>null</td><td>2011-01-25</td></tr><tr><td>4949.24</td><td>17511.0</td><td>2011-12-07</td></tr><tr><td>4913.52</td><td>18102.0</td><td>2011-09-02</td></tr><tr><td>4903.829999999998</td><td>null</td><td>2011-10-17</td></tr><tr><td>4873.810000000005</td><td>12688.0</td><td>2011-08-18</td></tr><tr><td>4867.650000000002</td><td>null</td><td>2011-11-20</td></tr><tr><td>4864.120000000005</td><td>null</td><td>2011-05-13</td></tr><tr><td>4860.640000000001</td><td>12409.0</td><td>2011-09-22</td></tr><tr><td>4839.330000000006</td><td>null</td><td>2011-08-31</td></tr><tr><td>4822.28000000001</td><td>null</td><td>2011-01-31</td></tr><tr><td>4819.08</td><td>16684.0</td><td>2011-03-18</td></tr><tr><td>4816.780000000008</td><td>null</td><td>2011-09-09</td></tr><tr><td>4808.48</td><td>12753.0</td><td>2011-11-17</td></tr><tr><td>4771.800000000008</td><td>null</td><td>2011-02-09</td></tr><tr><td>4721.580000000013</td><td>null</td><td>2011-06-02</td></tr><tr><td>4691.1700000000055</td><td>null</td><td>2011-09-28</td></tr><tr><td>4656.219999999999</td><td>13694.0</td><td>2011-11-14</td></tr><tr><td>4655.849999999997</td><td>13081.0</td><td>2011-05-06</td></tr><tr><td>4649.3400000000065</td><td>null</td><td>2011-05-09</td></tr><tr><td>4640.040000000004</td><td>null</td><td>2011-04-06</td></tr><tr><td>4638.3900000000085</td><td>null</td><td>2011-11-09</td></tr><tr><td>4579.180000000005</td><td>null</td><td>2011-03-11</td></tr><tr><td>4563.64</td><td>17511.0</td><td>2011-05-04</td></tr><tr><td>4552.050000000006</td><td>null</td><td>2011-07-07</td></tr><tr><td>4519.410000000008</td><td>null</td><td>2011-05-31</td></tr><tr><td>4489.34</td><td>17450.0</td><td>2011-11-14</td></tr><tr><td>4488.0</td><td>17949.0</td><td>2011-09-30</td></tr><tr><td>4486.909999999998</td><td>14646.0</td><td>2011-11-02</td></tr><tr><td>4483.58</td><td>14156.0</td><td>2011-06-15</td></tr><tr><td>4460.66</td><td>13098.0</td><td>2011-10-10</td></tr><tr><td>4427.910000000007</td><td>null</td><td>2011-10-12</td></tr><tr><td>4423.370000000003</td><td>17511.0</td><td>2011-09-21</td></tr><tr><td>4407.000000000003</td><td>null</td><td>2011-10-13</td></tr><tr><td>4406.610000000001</td><td>13081.0</td><td>2011-07-19</td></tr><tr><td>4404.3</td><td>17396.0</td><td>2011-07-14</td></tr><tr><td>4400.280000000001</td><td>17404.0</td><td>2011-03-14</td></tr><tr><td>4391.540000000001</td><td>17511.0</td><td>2011-06-15</td></tr><tr><td>4391.16</td><td>14156.0</td><td>2011-11-16</td></tr><tr><td>4390.560000000002</td><td>14298.0</td><td>2011-04-28</td></tr><tr><td>4385.7800000000025</td><td>17511.0</td><td>2011-02-01</td></tr><tr><td>4366.779999999999</td><td>12752.0</td><td>2011-09-19</td></tr><tr><td>4362.5</td><td>14156.0</td><td>2011-02-15</td></tr><tr><td>4354.3099999999995</td><td>null</td><td>2011-06-28</td></tr><tr><td>4338.960000000009</td><td>null</td><td>2011-07-26</td></tr><tr><td>4337.38</td><td>15838.0</td><td>2011-11-14</td></tr><tr><td>4335.710000000009</td><td>14096.0</td><td>2011-10-31</td></tr><tr><td>4327.990000000009</td><td>14096.0</td><td>2011-09-21</td></tr><tr><td>4323.620000000006</td><td>null</td><td>2011-09-30</td></tr><tr><td>4318.859999999999</td><td>17509.0</td><td>2011-10-07</td></tr><tr><td>4314.719999999999</td><td>18251.0</td><td>2011-09-13</td></tr><tr><td>4313.840000000001</td><td>13089.0</td><td>2011-09-01</td></tr><tr><td>4287.790000000007</td><td>null</td><td>2011-01-19</td></tr><tr><td>4279.710000000004</td><td>12536.0</td><td>2011-10-11</td></tr><tr><td>4273.640000000002</td><td>null</td><td>2011-02-11</td></tr><tr><td>4257.0599999999995</td><td>12477.0</td><td>2011-08-31</td></tr><tr><td>4245.470000000001</td><td>null</td><td>2011-12-04</td></tr><tr><td>4236.470000000005</td><td>null</td><td>2011-04-04</td></tr><tr><td>4234.1900000000005</td><td>14156.0</td><td>2011-09-06</td></tr><tr><td>4187.76</td><td>16333.0</td><td>2011-04-01</td></tr><tr><td>4184.590000000009</td><td>null</td><td>2011-11-21</td></tr><tr><td>4146.34</td><td>12557.0</td><td>2011-07-04</td></tr><tr><td>4114.08</td><td>17404.0</td><td>2011-09-13</td></tr><tr><td>4105.94</td><td>15838.0</td><td>2011-08-10</td></tr><tr><td>4100.870000000005</td><td>null</td><td>2011-10-03</td></tr><tr><td>4091.46</td><td>17389.0</td><td>2011-09-26</td></tr><tr><td>4090.28</td><td>17428.0</td><td>2011-09-15</td></tr><tr><td>4070.9700000000075</td><td>null</td><td>2011-02-02</td></tr><tr><td>4049.460000000008</td><td>null</td><td>2011-06-07</td></tr><tr><td>4041.180000000001</td><td>15311.0</td><td>2011-11-11</td></tr><tr><td>4030.6000000000004</td><td>12931.0</td><td>2011-11-09</td></tr><tr><td>4018.3599999999997</td><td>16684.0</td><td>2011-04-13</td></tr><tr><td>4012.6600000000067</td><td>null</td><td>2011-05-19</td></tr><tr><td>4008.6200000000013</td><td>12378.0</td><td>2011-08-02</td></tr><tr><td>4007.5000000000055</td><td>null</td><td>2011-09-08</td></tr><tr><td>3992.76</td><td>15061.0</td><td>2011-09-27</td></tr><tr><td>3989.320000000008</td><td>null</td><td>2011-06-10</td></tr><tr><td>3978.9899999999993</td><td>12435.0</td><td>2011-03-17</td></tr><tr><td>3962.850000000001</td><td>14088.0</td><td>2011-11-02</td></tr><tr><td>3962.06</td><td>17511.0</td><td>2011-03-25</td></tr><tr><td>3953.3500000000004</td><td>13777.0</td><td>2011-10-13</td></tr><tr><td>3949.32</td><td>12744.0</td><td>2011-07-18</td></tr><tr><td>3941.6200000000063</td><td>null</td><td>2011-05-05</td></tr><tr><td>3931.8199999999993</td><td>17511.0</td><td>2011-11-23</td></tr><tr><td>3930.94</td><td>14866.0</td><td>2011-10-11</td></tr><tr><td>3909.1000000000067</td><td>null</td><td>2011-10-14</td></tr><tr><td>3900.6199999999994</td><td>null</td><td>2011-01-04</td></tr><tr><td>3895.86</td><td>15061.0</td><td>2011-12-06</td></tr><tr><td>3893.789999999999</td><td>17340.0</td><td>2011-11-10</td></tr><tr><td>3891.8699999999985</td><td>17850.0</td><td>2010-12-02</td></tr><tr><td>3880.56</td><td>14911.0</td><td>2011-09-01</td></tr><tr><td>3875.88</td><td>17857.0</td><td>2011-08-22</td></tr><tr><td>3869.1800000000007</td><td>14156.0</td><td>2011-05-06</td></tr><tr><td>3861.0</td><td>15195.0</td><td>2011-12-07</td></tr><tr><td>3856.8899999999994</td><td>14911.0</td><td>2011-12-07</td></tr><tr><td>3855.84</td><td>17511.0</td><td>2011-10-05</td></tr><tr><td>3850.9</td><td>12435.0</td><td>2011-09-21</td></tr><tr><td>3844.839999999997</td><td>14769.0</td><td>2011-09-18</td></tr><tr><td>3840.8800000000006</td><td>15125.0</td><td>2011-03-14</td></tr><tr><td>3840.490000000007</td><td>14096.0</td><td>2011-11-10</td></tr><tr><td>3832.29</td><td>14298.0</td><td>2011-07-21</td></tr><tr><td>3826.2400000000002</td><td>14911.0</td><td>2011-10-17</td></tr><tr><td>3824.539999999999</td><td>17511.0</td><td>2011-01-05</td></tr><tr><td>3818.8700000000126</td><td>null</td><td>2011-06-21</td></tr><tr><td>3794.3999999999996</td><td>12755.0</td><td>2010-12-09</td></tr><tr><td>3782.5199999999995</td><td>17389.0</td><td>2011-11-10</td></tr><tr><td>3733.0</td><td>16333.0</td><td>2011-10-04</td></tr><tr><td>3705.48</td><td>13089.0</td><td>2011-12-05</td></tr><tr><td>3702.12</td><td>16029.0</td><td>2010-12-01</td></tr><tr><td>3699.520000000004</td><td>null</td><td>2011-02-14</td></tr><tr><td>3685.3599999999997</td><td>14298.0</td><td>2011-06-02</td></tr><tr><td>3680.4</td><td>12753.0</td><td>2011-07-27</td></tr><tr><td>3678.0300000000007</td><td>13340.0</td><td>2011-03-08</td></tr><tr><td>3651.6</td><td>12798.0</td><td>2011-11-29</td></tr><tr><td>3648.6</td><td>15061.0</td><td>2011-10-21</td></tr><tr><td>3640.0</td><td>17857.0</td><td>2011-10-25</td></tr><tr><td>3633.579999999999</td><td>17404.0</td><td>2011-07-31</td></tr><tr><td>3624.1100000000024</td><td>null</td><td>2011-10-26</td></tr><tr><td>3609.130000000006</td><td>null</td><td>2011-08-08</td></tr><tr><td>3603.5600000000095</td><td>null</td><td>2011-06-27</td></tr><tr><td>3599.4</td><td>16210.0</td><td>2011-12-08</td></tr><tr><td>3599.3799999999997</td><td>12753.0</td><td>2011-04-05</td></tr><tr><td>3590.5900000000006</td><td>12753.0</td><td>2010-12-12</td></tr><tr><td>3583.7500000000014</td><td>null</td><td>2011-07-19</td></tr><tr><td>3568.0299999999997</td><td>14680.0</td><td>2011-07-08</td></tr><tr><td>3566.4500000000003</td><td>14911.0</td><td>2011-10-20</td></tr><tr><td>3554.630000000005</td><td>14096.0</td><td>2011-10-17</td></tr><tr><td>3547.34</td><td>13694.0</td><td>2011-03-04</td></tr><tr><td>3538.750000000001</td><td>null</td><td>2011-03-03</td></tr><tr><td>3528.34</td><td>12454.0</td><td>2011-10-14</td></tr><tr><td>3527.64</td><td>13081.0</td><td>2011-01-06</td></tr><tr><td>3521.3299999999986</td><td>null</td><td>2011-08-23</td></tr><tr><td>3519.4600000000023</td><td>null</td><td>2011-03-25</td></tr><tr><td>3498.75</td><td>14911.0</td><td>2011-09-23</td></tr><tr><td>3478.7200000000057</td><td>null</td><td>2011-06-09</td></tr><tr><td>3462.4700000000043</td><td>null</td><td>2011-04-21</td></tr><tr><td>3453.72</td><td>17450.0</td><td>2011-07-28</td></tr><tr><td>3433.12</td><td>16013.0</td><td>2011-11-21</td></tr><tr><td>3427.06000000001</td><td>null</td><td>2011-07-06</td></tr><tr><td>3424.720000000006</td><td>null</td><td>2011-10-10</td></tr><tr><td>3422.600000000003</td><td>null</td><td>2011-08-04</td></tr><tr><td>3417.12</td><td>12557.0</td><td>2011-01-11</td></tr><tr><td>3404.0</td><td>15769.0</td><td>2011-12-02</td></tr><tr><td>3378.1100000000038</td><td>null</td><td>2011-05-23</td></tr><tr><td>3376.08</td><td>12939.0</td><td>2011-02-14</td></tr><tr><td>3353.9300000000003</td><td>14911.0</td><td>2011-11-13</td></tr><tr><td>3351.32</td><td>14911.0</td><td>2011-06-08</td></tr><tr><td>3337.44</td><td>15061.0</td><td>2011-11-29</td></tr><tr><td>3335.7000000000003</td><td>13798.0</td><td>2010-12-10</td></tr><tr><td>3325.6199999999994</td><td>14646.0</td><td>2011-10-21</td></tr><tr><td>3323.809999999999</td><td>17511.0</td><td>2011-02-22</td></tr><tr><td>3316.6600000000008</td><td>12432.0</td><td>2011-06-20</td></tr><tr><td>3315.970000000003</td><td>null</td><td>2011-02-22</td></tr><tr><td>3310.120000000001</td><td>null</td><td>2011-11-27</td></tr><tr><td>3304.030000000001</td><td>13694.0</td><td>2011-10-28</td></tr><tr><td>3301.380000000001</td><td>13340.0</td><td>2011-07-28</td></tr><tr><td>3279.36</td><td>17450.0</td><td>2011-07-14</td></tr><tr><td>3277.24</td><td>15838.0</td><td>2011-03-10</td></tr><tr><td>3270.980000000003</td><td>null</td><td>2011-10-28</td></tr><tr><td>3257.4</td><td>15769.0</td><td>2011-02-14</td></tr><tr><td>3256.88</td><td>17511.0</td><td>2011-08-17</td></tr><tr><td>3243.129999999999</td><td>12678.0</td><td>2011-03-31</td></tr><tr><td>3240.399999999999</td><td>17511.0</td><td>2010-12-15</td></tr><tr><td>3238.42</td><td>13694.0</td><td>2011-09-15</td></tr><tr><td>3226.129999999997</td><td>16984.0</td><td>2011-08-01</td></tr><tr><td>3223.8800000000056</td><td>14096.0</td><td>2011-09-26</td></tr><tr><td>3221.88</td><td>13694.0</td><td>2011-03-22</td></tr><tr><td>3211.7000000000003</td><td>14646.0</td><td>2011-02-22</td></tr><tr><td>3209.150000000002</td><td>16303.0</td><td>2011-08-16</td></tr><tr><td>3202.9199999999996</td><td>18087.0</td><td>2011-02-22</td></tr><tr><td>3200.28</td><td>17511.0</td><td>2011-09-07</td></tr><tr><td>3187.12</td><td>15838.0</td><td>2011-09-23</td></tr><tr><td>3174.4299999999994</td><td>12731.0</td><td>2011-01-31</td></tr><tr><td>3161.8199999999997</td><td>null</td><td>2011-08-16</td></tr><tr><td>3160.840000000003</td><td>15786.0</td><td>2011-08-17</td></tr><tr><td>3155.95</td><td>15502.0</td><td>2011-10-03</td></tr><tr><td>3131.880000000001</td><td>15159.0</td><td>2011-10-20</td></tr><tr><td>3131.16</td><td>13694.0</td><td>2011-12-06</td></tr><tr><td>3123.910000000007</td><td>null</td><td>2011-01-20</td></tr><tr><td>3120.2199999999993</td><td>14258.0</td><td>2011-01-06</td></tr><tr><td>3120.0</td><td>17450.0</td><td>2011-09-30</td></tr><tr><td>3096.0</td><td>13135.0</td><td>2011-05-27</td></tr><tr><td>3082.9</td><td>17450.0</td><td>2011-04-20</td></tr><tr><td>3069.240000000002</td><td>null</td><td>2011-09-16</td></tr><tr><td>3054.270000000004</td><td>null</td><td>2011-06-30</td></tr><tr><td>3047.280000000004</td><td>14096.0</td><td>2011-10-24</td></tr><tr><td>3027.3099999999995</td><td>13694.0</td><td>2011-06-09</td></tr><tr><td>3018.3400000000006</td><td>17511.0</td><td>2011-03-16</td></tr><tr><td>2996.11</td><td>13093.0</td><td>2010-12-16</td></tr><tr><td>2990.0</td><td>12557.0</td><td>2011-11-23</td></tr><tr><td>2979.6</td><td>17857.0</td><td>2011-12-05</td></tr><tr><td>2979.130000000006</td><td>null</td><td>2011-07-15</td></tr><tr><td>2973.12</td><td>15482.0</td><td>2011-11-14</td></tr><tr><td>2973.0599999999995</td><td>14298.0</td><td>2010-12-14</td></tr><tr><td>2970.7999999999997</td><td>12901.0</td><td>2011-05-23</td></tr><tr><td>2970.0</td><td>15769.0</td><td>2011-01-07</td></tr><tr><td>2968.940000000005</td><td>14096.0</td><td>2011-10-10</td></tr><tr><td>2963.1000000000004</td><td>16013.0</td><td>2011-02-11</td></tr><tr><td>2951.52</td><td>null</td><td>2011-04-20</td></tr><tr><td>2949.7500000000014</td><td>17084.0</td><td>2011-11-04</td></tr><tr><td>2949.12</td><td>12754.0</td><td>2011-04-18</td></tr><tr><td>2945.5</td><td>17389.0</td><td>2011-04-15</td></tr><tr><td>2944.7</td><td>14680.0</td><td>2011-05-10</td></tr><tr><td>2942.8400000000006</td><td>15125.0</td><td>2011-05-16</td></tr><tr><td>2941.7200000000003</td><td>12415.0</td><td>2011-09-01</td></tr><tr><td>2938.76</td><td>17404.0</td><td>2011-01-28</td></tr><tr><td>2919.5099999999998</td><td>12451.0</td><td>2011-01-19</td></tr><tr><td>2910.939999999998</td><td>14911.0</td><td>2011-09-07</td></tr><tr><td>2910.8600000000033</td><td>null</td><td>2011-08-17</td></tr><tr><td>2876.85</td><td>12359.0</td><td>2011-10-13</td></tr><tr><td>2876.0</td><td>15769.0</td><td>2011-06-20</td></tr><tr><td>2874.6300000000087</td><td>null</td><td>2011-11-03</td></tr><tr><td>2854.090000000001</td><td>null</td><td>2011-09-06</td></tr><tr><td>2851.010000000004</td><td>null</td><td>2011-03-08</td></tr><tr><td>2846.0200000000004</td><td>15251.0</td><td>2011-04-12</td></tr><tr><td>2843.2900000000013</td><td>12433.0</td><td>2011-11-30</td></tr><tr><td>2841.12</td><td>12901.0</td><td>2011-03-24</td></tr><tr><td>2839.6</td><td>18102.0</td><td>2011-09-28</td></tr><tr><td>2825.1</td><td>17404.0</td><td>2011-07-06</td></tr><tr><td>2822.74</td><td>14156.0</td><td>2011-06-29</td></tr><tr><td>2809.380000000001</td><td>null</td><td>2011-10-21</td></tr><tr><td>2807.31</td><td>14680.0</td><td>2011-02-18</td></tr><tr><td>2805.28</td><td>14298.0</td><td>2011-05-04</td></tr><tr><td>2801.160000000005</td><td>null</td><td>2011-01-28</td></tr><tr><td>2796.36</td><td>12415.0</td><td>2011-07-13</td></tr><tr><td>2770.599999999999</td><td>15032.0</td><td>2010-12-08</td></tr><tr><td>2764.2900000000013</td><td>15311.0</td><td>2011-05-10</td></tr><tr><td>2756.84</td><td>14911.0</td><td>2011-01-20</td></tr><tr><td>2747.6100000000033</td><td>null</td><td>2011-07-27</td></tr><tr><td>2739.8</td><td>16041.0</td><td>2011-07-21</td></tr><tr><td>2738.100000000004</td><td>null</td><td>2011-06-13</td></tr><tr><td>2723.090000000003</td><td>null</td><td>2011-03-01</td></tr><tr><td>2688.2700000000004</td><td>14680.0</td><td>2011-07-27</td></tr><tr><td>2686.0100000000066</td><td>null</td><td>2011-06-23</td></tr><tr><td>2685.0</td><td>13868.0</td><td>2011-12-02</td></tr><tr><td>2662.1699999999996</td><td>17706.0</td><td>2011-06-30</td></tr><tr><td>2661.24</td><td>14439.0</td><td>2011-01-24</td></tr><tr><td>2652.540000000006</td><td>null</td><td>2011-02-01</td></tr><tr><td>2649.52</td><td>17511.0</td><td>2011-05-17</td></tr><tr><td>2646.2999999999997</td><td>17404.0</td><td>2010-12-17</td></tr><tr><td>2640.0</td><td>17857.0</td><td>2011-11-09</td></tr><tr><td>2639.3800000000015</td><td>17139.0</td><td>2011-02-24</td></tr><tr><td>2638.840000000001</td><td>13324.0</td><td>2011-09-11</td></tr><tr><td>2638.690000000001</td><td>12433.0</td><td>2011-12-09</td></tr><tr><td>2626.3000000000006</td><td>13422.0</td><td>2011-10-06</td></tr><tr><td>2613.36</td><td>15061.0</td><td>2011-05-12</td></tr><tr><td>2609.0</td><td>15769.0</td><td>2011-07-07</td></tr><tr><td>2608.1100000000006</td><td>12433.0</td><td>2011-09-09</td></tr><tr><td>2606.4</td><td>16532.0</td><td>2011-07-27</td></tr><tr><td>2605.88</td><td>15061.0</td><td>2010-12-15</td></tr><tr><td>2597.4</td><td>15769.0</td><td>2011-03-07</td></tr><tr><td>2582.7799999999993</td><td>15382.0</td><td>2011-09-16</td></tr><tr><td>2581.07</td><td>16126.0</td><td>2011-11-10</td></tr><tr><td>2574.930000000002</td><td>null</td><td>2011-04-08</td></tr><tr><td>2574.48</td><td>15769.0</td><td>2011-01-05</td></tr><tr><td>2567.64</td><td>17381.0</td><td>2010-12-06</td></tr><tr><td>2559.23</td><td>13555.0</td><td>2011-09-27</td></tr><tr><td>2557.88</td><td>17404.0</td><td>2011-05-12</td></tr><tr><td>2554.69</td><td>17450.0</td><td>2011-11-29</td></tr><tr><td>2546.9500000000066</td><td>null</td><td>2011-06-15</td></tr><tr><td>2545.6800000000003</td><td>12939.0</td><td>2011-10-06</td></tr><tr><td>2541.1499999999996</td><td>14156.0</td><td>2011-03-01</td></tr><tr><td>2539.5599999999995</td><td>12451.0</td><td>2011-10-05</td></tr><tr><td>2539.4000000000037</td><td>14096.0</td><td>2011-10-03</td></tr><tr><td>2532.0500000000025</td><td>null</td><td>2011-02-07</td></tr><tr><td>2524.9900000000034</td><td>null</td><td>2011-07-11</td></tr><tr><td>2520.28</td><td>15513.0</td><td>2011-10-30</td></tr><tr><td>2517.44</td><td>15311.0</td><td>2011-06-07</td></tr><tr><td>2516.570000000002</td><td>14769.0</td><td>2011-05-22</td></tr><tr><td>2512.8700000000044</td><td>null</td><td>2011-03-23</td></tr><tr><td>2505.84</td><td>14952.0</td><td>2011-09-29</td></tr><tr><td>2503.74</td><td>12731.0</td><td>2011-10-19</td></tr><tr><td>2503.390000000003</td><td>null</td><td>2011-10-06</td></tr><tr><td>2500.0</td><td>15581.0</td><td>2011-08-11</td></tr><tr><td>2496.2200000000003</td><td>13089.0</td><td>2010-12-06</td></tr><tr><td>2489.11</td><td>16705.0</td><td>2011-02-01</td></tr><tr><td>2474.7399999999993</td><td>16210.0</td><td>2010-12-01</td></tr><tr><td>2452.46</td><td>13694.0</td><td>2011-02-22</td></tr><tr><td>2449.79</td><td>14769.0</td><td>2011-03-20</td></tr><tr><td>2431.4700000000034</td><td>null</td><td>2011-01-26</td></tr><tr><td>2430.0800000000004</td><td>17511.0</td><td>2011-12-05</td></tr><tr><td>2429.5399999999995</td><td>13881.0</td><td>2011-09-05</td></tr><tr><td>2423.6000000000013</td><td>17107.0</td><td>2011-05-15</td></tr><tr><td>2423.2700000000004</td><td>15513.0</td><td>2011-09-06</td></tr><tr><td>2420.9500000000003</td><td>15311.0</td><td>2011-03-14</td></tr><tr><td>2420.5500000000025</td><td>null</td><td>2011-05-25</td></tr><tr><td>2404.15</td><td>17340.0</td><td>2010-12-08</td></tr><tr><td>2388.31</td><td>12451.0</td><td>2011-05-05</td></tr><tr><td>2388.2</td><td>14680.0</td><td>2011-08-10</td></tr><tr><td>2385.3800000000015</td><td>12471.0</td><td>2011-10-05</td></tr><tr><td>2377.8999999999996</td><td>12731.0</td><td>2011-09-15</td></tr><tr><td>2377.0</td><td>13694.0</td><td>2011-09-29</td></tr><tr><td>2370.0399999999995</td><td>15676.0</td><td>2011-11-04</td></tr><tr><td>2366.78</td><td>13081.0</td><td>2010-12-03</td></tr><tr><td>2365.7799999999997</td><td>14049.0</td><td>2011-11-23</td></tr><tr><td>2363.159999999998</td><td>14298.0</td><td>2011-04-27</td></tr><tr><td>2360.41</td><td>12471.0</td><td>2010-12-10</td></tr><tr><td>2355.9500000000003</td><td>12477.0</td><td>2011-02-11</td></tr><tr><td>2353.0</td><td>16422.0</td><td>2011-08-03</td></tr><tr><td>2350.4600000000005</td><td>12731.0</td><td>2011-03-31</td></tr><tr><td>2349.240000000002</td><td>null</td><td>2011-04-27</td></tr><tr><td>2346.3399999999997</td><td>14895.0</td><td>2011-02-22</td></tr><tr><td>2340.05</td><td>13081.0</td><td>2011-03-21</td></tr><tr><td>2334.4900000000007</td><td>14911.0</td><td>2011-09-28</td></tr><tr><td>2334.24</td><td>12830.0</td><td>2011-07-28</td></tr><tr><td>2328.8399999999997</td><td>17313.0</td><td>2011-11-08</td></tr><tr><td>2327.0</td><td>16182.0</td><td>2011-08-01</td></tr><tr><td>2327.0</td><td>15769.0</td><td>2011-10-17</td></tr><tr><td>2326.9999999999995</td><td>15769.0</td><td>2011-10-06</td></tr><tr><td>2316.9999999999995</td><td>16180.0</td><td>2011-08-04</td></tr><tr><td>2313.12</td><td>15061.0</td><td>2011-07-22</td></tr><tr><td>2307.39</td><td>13694.0</td><td>2011-05-25</td></tr><tr><td>2298.66</td><td>17107.0</td><td>2011-11-06</td></tr><tr><td>2298.0</td><td>16422.0</td><td>2011-04-04</td></tr><tr><td>2297.86</td><td>null</td><td>2011-03-30</td></tr><tr><td>2295.9700000000003</td><td>13798.0</td><td>2011-01-23</td></tr><tr><td>2284.2</td><td>14646.0</td><td>2011-04-05</td></tr><tr><td>2276.91</td><td>null</td><td>2011-06-16</td></tr><tr><td>2271.6200000000003</td><td>12356.0</td><td>2011-01-18</td></tr><tr><td>2263.7999999999993</td><td>16210.0</td><td>2010-12-06</td></tr><tr><td>2256.0</td><td>16029.0</td><td>2011-02-11</td></tr><tr><td>2251.5099999999998</td><td>13777.0</td><td>2011-12-01</td></tr><tr><td>2250.8999999999996</td><td>13767.0</td><td>2011-09-20</td></tr><tr><td>2248.1000000000004</td><td>16652.0</td><td>2011-10-12</td></tr><tr><td>2243.7000000000003</td><td>15251.0</td><td>2011-09-09</td></tr><tr><td>2242.6900000000005</td><td>15113.0</td><td>2011-10-16</td></tr><tr><td>2238.5099999999993</td><td>12471.0</td><td>2011-12-07</td></tr><tr><td>2232.0</td><td>16532.0</td><td>2011-11-22</td></tr><tr><td>2221.84</td><td>12830.0</td><td>2011-06-21</td></tr><tr><td>2221.02</td><td>12477.0</td><td>2011-04-14</td></tr><tr><td>2218.050000000001</td><td>null</td><td>2011-02-25</td></tr><tr><td>2215.25</td><td>17107.0</td><td>2011-07-07</td></tr><tr><td>2210.0499999999997</td><td>16133.0</td><td>2011-04-21</td></tr><tr><td>2209.74</td><td>12931.0</td><td>2011-11-17</td></tr><tr><td>2204.36</td><td>17706.0</td><td>2011-07-14</td></tr><tr><td>2184.3300000000036</td><td>null</td><td>2011-03-04</td></tr><tr><td>2183.82</td><td>14156.0</td><td>2011-04-04</td></tr><tr><td>2182.71</td><td>17107.0</td><td>2011-09-25</td></tr><tr><td>2180.2999999999997</td><td>13098.0</td><td>2011-09-13</td></tr><tr><td>2176.4500000000016</td><td>12597.0</td><td>2011-10-30</td></tr><tr><td>2169.3899999999994</td><td>12501.0</td><td>2011-01-07</td></tr><tr><td>2169.1299999999997</td><td>null</td><td>2011-04-11</td></tr><tr><td>2165.63</td><td>14911.0</td><td>2011-08-12</td></tr><tr><td>2161.32</td><td>13802.0</td><td>2011-03-30</td></tr><tr><td>2157.640000000001</td><td>16873.0</td><td>2010-12-10</td></tr><tr><td>2157.4999999999995</td><td>13316.0</td><td>2011-07-31</td></tr><tr><td>2156.44</td><td>17511.0</td><td>2011-07-05</td></tr><tr><td>2151.5</td><td>12748.0</td><td>2011-11-15</td></tr><tr><td>2149.5200000000004</td><td>15874.0</td><td>2011-10-07</td></tr><tr><td>2146.7</td><td>14866.0</td><td>2011-11-01</td></tr><tr><td>2135.9700000000007</td><td>14911.0</td><td>2011-11-11</td></tr><tr><td>2133.400000000002</td><td>16938.0</td><td>2011-06-12</td></tr><tr><td>2123.92</td><td>13081.0</td><td>2011-11-28</td></tr><tr><td>2118.739999999999</td><td>12744.0</td><td>2011-04-05</td></tr><tr><td>2118.1200000000003</td><td>15061.0</td><td>2011-11-04</td></tr><tr><td>2114.71</td><td>17416.0</td><td>2011-03-03</td></tr><tr><td>2111.66</td><td>17428.0</td><td>2011-05-11</td></tr><tr><td>2107.92</td><td>16013.0</td><td>2011-08-22</td></tr><tr><td>2105.98</td><td>15838.0</td><td>2011-06-02</td></tr><tr><td>2099.7</td><td>17450.0</td><td>2011-03-09</td></tr><tr><td>2085.349999999999</td><td>17426.0</td><td>2011-06-17</td></tr><tr><td>2083.5099999999998</td><td>14680.0</td><td>2011-03-29</td></tr><tr><td>2077.8</td><td>16013.0</td><td>2011-06-14</td></tr><tr><td>2075.81</td><td>14088.0</td><td>2011-11-29</td></tr><tr><td>2071.370000000001</td><td>null</td><td>2011-07-28</td></tr><tr><td>2068.09</td><td>14031.0</td><td>2011-11-18</td></tr><tr><td>2062.4399999999996</td><td>16684.0</td><td>2010-12-19</td></tr><tr><td>2062.06</td><td>16281.0</td><td>2011-09-28</td></tr><tr><td>2060.0300000000007</td><td>14936.0</td><td>2011-06-17</td></tr><tr><td>2054.92</td><td>13694.0</td><td>2010-12-16</td></tr><tr><td>2054.9</td><td>15856.0</td><td>2011-12-02</td></tr><tr><td>2053.07</td><td>12744.0</td><td>2011-01-25</td></tr><tr><td>2050.08</td><td>14286.0</td><td>2011-04-11</td></tr><tr><td>2047.0499999999997</td><td>14911.0</td><td>2011-11-01</td></tr><tr><td>2044.3700000000003</td><td>17597.0</td><td>2011-05-10</td></tr><tr><td>2042.7609999999997</td><td>13952.0</td><td>2011-04-15</td></tr><tr><td>2039.2399999999996</td><td>17450.0</td><td>2011-10-31</td></tr><tr><td>2037.6899999999996</td><td>12477.0</td><td>2011-11-17</td></tr><tr><td>2034.0</td><td>17396.0</td><td>2011-10-03</td></tr><tr><td>2033.1</td><td>17846.0</td><td>2011-09-15</td></tr><tr><td>2032.3200000000008</td><td>14911.0</td><td>2011-11-22</td></tr><tr><td>2028.84</td><td>17450.0</td><td>2010-12-07</td></tr><tr><td>2027.94</td><td>17317.0</td><td>2011-09-11</td></tr><tr><td>2026.6299999999999</td><td>14049.0</td><td>2011-05-23</td></tr><tr><td>2024.5700000000006</td><td>14156.0</td><td>2011-02-14</td></tr><tr><td>2022.6</td><td>13098.0</td><td>2011-08-04</td></tr><tr><td>2022.16</td><td>15061.0</td><td>2010-12-07</td></tr><tr><td>2020.52</td><td>15341.0</td><td>2011-09-20</td></tr><tr><td>2019.96</td><td>17381.0</td><td>2011-03-07</td></tr><tr><td>2017.92</td><td>16029.0</td><td>2011-08-05</td></tr><tr><td>2016.9400000000005</td><td>null</td><td>2011-06-17</td></tr><tr><td>2016.78</td><td>12438.0</td><td>2011-11-25</td></tr><tr><td>2016.3100000000004</td><td>14175.0</td><td>2011-10-11</td></tr><tr><td>2016.0</td><td>13027.0</td><td>2011-04-20</td></tr><tr><td>2015.3400000000013</td><td>null</td><td>2011-03-20</td></tr><tr><td>2007.4</td><td>15372.0</td><td>2011-07-25</td></tr><tr><td>2006.35</td><td>12748.0</td><td>2011-09-11</td></tr><tr><td>2002.4</td><td>16754.0</td><td>2010-12-02</td></tr><tr><td>2002.3199999999997</td><td>16013.0</td><td>2011-07-12</td></tr><tr><td>2001.5300000000004</td><td>null</td><td>2011-05-12</td></tr><tr><td>2000.3300000000004</td><td>17672.0</td><td>2011-10-20</td></tr><tr><td>2000.0</td><td>14607.0</td><td>2011-11-22</td></tr><tr><td>1995.5600000000004</td><td>16717.0</td><td>2011-11-16</td></tr><tr><td>1992.9900000000007</td><td>13319.0</td><td>2011-11-10</td></tr><tr><td>1991.26</td><td>14298.0</td><td>2011-02-24</td></tr><tr><td>1990.0800000000017</td><td>14298.0</td><td>2011-02-17</td></tr><tr><td>1987.6200000000001</td><td>17381.0</td><td>2011-02-04</td></tr><tr><td>1983.4600000000007</td><td>16253.0</td><td>2011-10-04</td></tr><tr><td>1978.3799999999997</td><td>18172.0</td><td>2011-02-23</td></tr><tr><td>1976.5799999999997</td><td>16705.0</td><td>2011-10-31</td></tr><tr><td>1975.0</td><td>15769.0</td><td>2011-11-09</td></tr><tr><td>1974.0</td><td>14156.0</td><td>2011-10-10</td></tr><tr><td>1971.0</td><td>17949.0</td><td>2011-05-09</td></tr><tr><td>1966.66</td><td>15311.0</td><td>2011-06-21</td></tr><tr><td>1965.7400000000002</td><td>13815.0</td><td>2011-06-20</td></tr><tr><td>1961.05</td><td>13113.0</td><td>2011-05-22</td></tr><tr><td>1948.92</td><td>13694.0</td><td>2011-06-30</td></tr><tr><td>1948.5599999999997</td><td>13098.0</td><td>2011-05-11</td></tr><tr><td>1947.3799999999999</td><td>13098.0</td><td>2011-11-10</td></tr><tr><td>1946.6799999999998</td><td>14646.0</td><td>2011-09-08</td></tr><tr><td>1944.0</td><td>17949.0</td><td>2011-12-08</td></tr><tr><td>1943.1300000000015</td><td>17728.0</td><td>2011-10-05</td></tr><tr><td>1939.52</td><td>12678.0</td><td>2011-06-05</td></tr><tr><td>1939.0300000000004</td><td>14911.0</td><td>2011-05-16</td></tr><tr><td>1938.7500000000005</td><td>17061.0</td><td>2011-04-21</td></tr><tr><td>1936.5899999999995</td><td>12906.0</td><td>2011-09-22</td></tr><tr><td>1935.8999999999994</td><td>14286.0</td><td>2011-11-16</td></tr><tr><td>1933.2000000000003</td><td>12939.0</td><td>2011-01-09</td></tr><tr><td>1932.24</td><td>13209.0</td><td>2011-04-26</td></tr><tr><td>1920.48</td><td>16333.0</td><td>2011-03-04</td></tr><tr><td>1919.1400000000008</td><td>12433.0</td><td>2010-12-01</td></tr><tr><td>1919.0400000000002</td><td>12939.0</td><td>2011-03-11</td></tr><tr><td>1914.26</td><td>16013.0</td><td>2011-08-12</td></tr><tr><td>1914.2400000000002</td><td>18102.0</td><td>2010-12-09</td></tr><tr><td>1912.7999999999997</td><td>13199.0</td><td>2011-10-28</td></tr><tr><td>1912.06</td><td>14258.0</td><td>2011-09-11</td></tr><tr><td>1910.4</td><td>16532.0</td><td>2011-01-05</td></tr><tr><td>1909.6200000000001</td><td>16210.0</td><td>2011-11-25</td></tr><tr><td>1909.36</td><td>12931.0</td><td>2011-10-03</td></tr><tr><td>1900.0199999999998</td><td>16843.0</td><td>2011-06-16</td></tr><tr><td>1899.7300000000007</td><td>14911.0</td><td>2011-07-19</td></tr><tr><td>1899.6100000000001</td><td>17511.0</td><td>2011-10-26</td></tr><tr><td>1899.2800000000002</td><td>13089.0</td><td>2011-07-21</td></tr><tr><td>1897.1599999999999</td><td>13881.0</td><td>2011-10-04</td></tr><tr><td>1897.04</td><td>14005.0</td><td>2011-11-30</td></tr><tr><td>1896.7200000000003</td><td>17450.0</td><td>2011-10-24</td></tr><tr><td>1896.1300000000003</td><td>12749.0</td><td>2011-08-01</td></tr><tr><td>1894.01</td><td>16240.0</td><td>2011-11-15</td></tr><tr><td>1893.0800000000006</td><td>14895.0</td><td>2011-09-09</td></tr><tr><td>1885.1</td><td>16180.0</td><td>2011-07-17</td></tr><tr><td>1883.6000000000001</td><td>16029.0</td><td>2011-06-28</td></tr><tr><td>1881.86</td><td>12613.0</td><td>2011-10-13</td></tr><tr><td>1879.52</td><td>13408.0</td><td>2011-05-16</td></tr><tr><td>1878.8299999999995</td><td>14911.0</td><td>2011-11-28</td></tr><tr><td>1873.6200000000001</td><td>13139.0</td><td>2011-09-28</td></tr><tr><td>1870.9900000000016</td><td>null</td><td>2011-06-03</td></tr><tr><td>1870.1999999999998</td><td>12444.0</td><td>2011-06-21</td></tr><tr><td>1869.36</td><td>17949.0</td><td>2011-09-02</td></tr><tr><td>1867.9800000000002</td><td>12433.0</td><td>2010-12-08</td></tr><tr><td>1866.3000000000002</td><td>16210.0</td><td>2011-02-03</td></tr><tr><td>1866.0200000000004</td><td>16767.0</td><td>2011-01-27</td></tr><tr><td>1862.6999999999998</td><td>16126.0</td><td>2011-08-30</td></tr><tr><td>1862.0</td><td>14887.0</td><td>2011-09-21</td></tr><tr><td>1860.9800000000005</td><td>15159.0</td><td>2010-12-13</td></tr><tr><td>1855.7799999999997</td><td>17581.0</td><td>2011-09-22</td></tr><tr><td>1854.8300000000002</td><td>16873.0</td><td>2011-12-05</td></tr><tr><td>1852.68</td><td>16013.0</td><td>2011-12-02</td></tr><tr><td>1846.2899999999997</td><td>15159.0</td><td>2011-10-03</td></tr><tr><td>1845.1200000000003</td><td>16333.0</td><td>2011-04-13</td></tr><tr><td>1838.9100000000005</td><td>12359.0</td><td>2011-02-07</td></tr><tr><td>1837.9199999999996</td><td>14459.0</td><td>2011-07-07</td></tr><tr><td>1835.5999999999997</td><td>17809.0</td><td>2011-10-14</td></tr><tr><td>1835.0100000000002</td><td>15299.0</td><td>2010-12-02</td></tr><tr><td>1833.6900000000003</td><td>13090.0</td><td>2011-11-08</td></tr><tr><td>1832.6199999999988</td><td>13001.0</td><td>2011-02-16</td></tr><tr><td>1830.02</td><td>14733.0</td><td>2010-12-07</td></tr><tr><td>1829.04</td><td>16152.0</td><td>2011-03-16</td></tr><tr><td>1827.36</td><td>16029.0</td><td>2011-05-17</td></tr><tr><td>1825.74</td><td>17511.0</td><td>2010-12-01</td></tr><tr><td>1825.2500000000005</td><td>14911.0</td><td>2011-03-14</td></tr><tr><td>1824.7900000000006</td><td>16240.0</td><td>2011-09-23</td></tr><tr><td>1821.6</td><td>16013.0</td><td>2011-09-02</td></tr><tr><td>1820.170000000001</td><td>14277.0</td><td>2011-11-24</td></tr><tr><td>1819.5700000000027</td><td>12748.0</td><td>2011-11-23</td></tr><tr><td>1815.28</td><td>17677.0</td><td>2011-05-11</td></tr><tr><td>1810.5100000000004</td><td>13505.0</td><td>2011-09-28</td></tr><tr><td>1809.6</td><td>16210.0</td><td>2011-11-09</td></tr><tr><td>1807.04</td><td>14646.0</td><td>2011-03-30</td></tr><tr><td>1802.2899999999997</td><td>13523.0</td><td>2011-05-24</td></tr><tr><td>1799.5500000000006</td><td>null</td><td>2011-05-11</td></tr><tr><td>1798.3900000000006</td><td>14911.0</td><td>2011-09-20</td></tr><tr><td>1794.1000000000004</td><td>15513.0</td><td>2011-03-11</td></tr><tr><td>1794.0500000000004</td><td>12406.0</td><td>2011-11-17</td></tr><tr><td>1790.0</td><td>16986.0</td><td>2011-11-10</td></tr><tr><td>1784.7099999999998</td><td>14935.0</td><td>2011-02-15</td></tr><tr><td>1780.6200000000001</td><td>18139.0</td><td>2011-11-22</td></tr><tr><td>1780.5900000000001</td><td>16380.0</td><td>2011-10-09</td></tr><tr><td>1780.46</td><td>16013.0</td><td>2011-10-03</td></tr><tr><td>1778.5000000000002</td><td>14258.0</td><td>2011-07-11</td></tr><tr><td>1776.2200000000003</td><td>12921.0</td><td>2011-11-30</td></tr><tr><td>1773.65</td><td>16182.0</td><td>2011-09-28</td></tr><tr><td>1771.3600000000004</td><td>15786.0</td><td>2011-10-24</td></tr><tr><td>1764.7199999999998</td><td>16751.0</td><td>2011-11-09</td></tr><tr><td>1761.26</td><td>17230.0</td><td>2010-12-15</td></tr><tr><td>1761.1800000000005</td><td>15498.0</td><td>2011-01-20</td></tr><tr><td>1761.0</td><td>14936.0</td><td>2011-10-05</td></tr><tr><td>1760.9599999999998</td><td>12424.0</td><td>2011-06-30</td></tr><tr><td>1758.3200000000002</td><td>14944.0</td><td>2011-09-23</td></tr><tr><td>1757.55</td><td>12349.0</td><td>2011-11-21</td></tr><tr><td>1754.97</td><td>16422.0</td><td>2011-06-22</td></tr><tr><td>1752.0600000000002</td><td>17450.0</td><td>2011-07-12</td></tr><tr><td>1750.46</td><td>12476.0</td><td>2011-11-24</td></tr><tr><td>1748.930000000001</td><td>null</td><td>2011-09-12</td></tr><tr><td>1745.6900000000003</td><td>null</td><td>2011-02-18</td></tr><tr><td>1742.8</td><td>15769.0</td><td>2011-05-23</td></tr><tr><td>1735.5299999999997</td><td>13209.0</td><td>2011-11-09</td></tr><tr><td>1734.5800000000002</td><td>12731.0</td><td>2011-07-18</td></tr><tr><td>1733.8500000000001</td><td>16422.0</td><td>2011-05-23</td></tr><tr><td>1730.84</td><td>15159.0</td><td>2011-12-05</td></tr><tr><td>1730.7699999999995</td><td>12757.0</td><td>2011-10-06</td></tr><tr><td>1729.3500000000004</td><td>17677.0</td><td>2011-07-20</td></tr><tr><td>1724.8</td><td>16180.0</td><td>2011-08-31</td></tr><tr><td>1722.9</td><td>16210.0</td><td>2010-12-16</td></tr><tr><td>1722.3200000000013</td><td>null</td><td>2011-08-09</td></tr><tr><td>1722.0199999999993</td><td>13098.0</td><td>2011-04-06</td></tr><tr><td>1718.4</td><td>12798.0</td><td>2011-10-26</td></tr><tr><td>1716.62</td><td>12625.0</td><td>2011-01-24</td></tr><tr><td>1716.3999999999999</td><td>14298.0</td><td>2010-12-20</td></tr><tr><td>1715.8500000000004</td><td>12539.0</td><td>2011-01-10</td></tr><tr><td>1714.9599999999998</td><td>13763.0</td><td>2011-10-07</td></tr><tr><td>1714.2500000000005</td><td>14031.0</td><td>2010-12-02</td></tr><tr><td>1713.1800000000017</td><td>null</td><td>2011-08-05</td></tr><tr><td>1711.0600000000006</td><td>15502.0</td><td>2011-03-09</td></tr><tr><td>1710.3900000000006</td><td>12405.0</td><td>2011-07-14</td></tr><tr><td>1708.68</td><td>14062.0</td><td>2011-08-19</td></tr><tr><td>1708.2400000000002</td><td>15947.0</td><td>2011-09-18</td></tr><tr><td>1706.88</td><td>16902.0</td><td>2011-08-15</td></tr><tr><td>1705.6499999999994</td><td>14911.0</td><td>2010-12-03</td></tr><tr><td>1702.9399999999998</td><td>14306.0</td><td>2011-09-15</td></tr><tr><td>1700.3999999999996</td><td>16253.0</td><td>2011-03-29</td></tr><tr><td>1697.98</td><td>12473.0</td><td>2011-10-17</td></tr><tr><td>1696.7199999999998</td><td>13694.0</td><td>2011-08-18</td></tr><tr><td>1696.3999999999999</td><td>12931.0</td><td>2011-02-15</td></tr><tr><td>1695.2100000000005</td><td>17107.0</td><td>2011-03-06</td></tr><tr><td>1695.12</td><td>14733.0</td><td>2010-12-13</td></tr><tr><td>1695.0</td><td>16013.0</td><td>2010-12-16</td></tr><tr><td>1693.8800000000003</td><td>12764.0</td><td>2011-01-27</td></tr><tr><td>1693.5</td><td>15032.0</td><td>2011-03-28</td></tr><tr><td>1692.9699999999993</td><td>null</td><td>2011-03-09</td></tr><tr><td>1692.0</td><td>16182.0</td><td>2011-05-20</td></tr><tr><td>1689.1200000000001</td><td>17340.0</td><td>2010-12-20</td></tr><tr><td>1688.6500000000008</td><td>15311.0</td><td>2011-04-04</td></tr><tr><td>1688.500000000002</td><td>null</td><td>2011-03-10</td></tr><tr><td>1685.1200000000003</td><td>null</td><td>2011-04-07</td></tr><tr><td>1683.8999999999996</td><td>12455.0</td><td>2011-02-16</td></tr><tr><td>1682.2900000000004</td><td>17581.0</td><td>2011-11-06</td></tr><tr><td>1681.54</td><td>13098.0</td><td>2011-12-08</td></tr><tr><td>1680.8799999999999</td><td>14680.0</td><td>2010-12-03</td></tr><tr><td>1672.4</td><td>14911.0</td><td>2011-08-11</td></tr><tr><td>1672.080000000001</td><td>null</td><td>2011-09-29</td></tr><tr><td>1668.2</td><td>16422.0</td><td>2010-12-05</td></tr><tr><td>1667.8000000000002</td><td>13767.0</td><td>2011-11-10</td></tr><tr><td>1660.44</td><td>13334.0</td><td>2011-02-07</td></tr><tr><td>1658.9</td><td>17133.0</td><td>2011-09-13</td></tr><tr><td>1656.15</td><td>13344.0</td><td>2011-03-07</td></tr><tr><td>1654.3100000000002</td><td>15150.0</td><td>2011-08-22</td></tr><tr><td>1652.8</td><td>15482.0</td><td>2011-11-03</td></tr><tr><td>1652.2700000000002</td><td>14062.0</td><td>2011-01-20</td></tr><tr><td>1650.0999999999992</td><td>12567.0</td><td>2011-06-13</td></tr><tr><td>1649.58</td><td>15061.0</td><td>2011-03-23</td></tr><tr><td>1648.8700000000003</td><td>13881.0</td><td>2011-06-23</td></tr><tr><td>1648.73</td><td>15311.0</td><td>2011-07-26</td></tr><tr><td>1643.2000000000005</td><td>17679.0</td><td>2011-09-15</td></tr><tr><td>1642.5</td><td>17949.0</td><td>2011-04-27</td></tr><tr><td>1642.5</td><td>17949.0</td><td>2011-03-02</td></tr><tr><td>1638.6800000000005</td><td>15980.0</td><td>2011-09-12</td></tr><tr><td>1638.3400000000001</td><td>15782.0</td><td>2011-09-11</td></tr><tr><td>1637.43</td><td>14277.0</td><td>2011-05-11</td></tr><tr><td>1636.52</td><td>15484.0</td><td>2011-09-22</td></tr><tr><td>1635.6599999999999</td><td>12398.0</td><td>2011-10-25</td></tr><tr><td>1632.6299999999999</td><td>13694.0</td><td>2011-10-25</td></tr><tr><td>1631.3000000000009</td><td>12472.0</td><td>2010-12-05</td></tr><tr><td>1623.92</td><td>17857.0</td><td>2011-11-03</td></tr><tr><td>1623.0</td><td>15769.0</td><td>2011-05-26</td></tr><tr><td>1622.88</td><td>14156.0</td><td>2011-10-17</td></tr><tr><td>1622.48</td><td>13316.0</td><td>2011-03-30</td></tr><tr><td>1622.41</td><td>13089.0</td><td>2011-03-31</td></tr><tr><td>1621.25</td><td>12406.0</td><td>2011-06-09</td></tr><tr><td>1615.8</td><td>15622.0</td><td>2011-04-28</td></tr><tr><td>1612.8300000000002</td><td>18079.0</td><td>2011-04-15</td></tr><tr><td>1611.1099999999994</td><td>15513.0</td><td>2011-07-26</td></tr><tr><td>1609.4400000000003</td><td>16553.0</td><td>2010-12-14</td></tr><tr><td>1608.6599999999994</td><td>12578.0</td><td>2011-01-13</td></tr><tr><td>1607.0399999999997</td><td>12798.0</td><td>2011-06-22</td></tr><tr><td>1603.0</td><td>13798.0</td><td>2011-01-05</td></tr><tr><td>1602.4200000000003</td><td>14911.0</td><td>2011-11-17</td></tr><tr><td>1600.5700000000008</td><td>null</td><td>2011-05-18</td></tr><tr><td>1599.6900000000005</td><td>15311.0</td><td>2011-08-18</td></tr><tr><td>1599.55</td><td>16081.0</td><td>2011-09-13</td></tr><tr><td>1598.97</td><td>17677.0</td><td>2011-08-31</td></tr><tr><td>1598.06</td><td>15332.0</td><td>2010-12-05</td></tr><tr><td>1595.4799999999996</td><td>13850.0</td><td>2011-08-02</td></tr><tr><td>1592.6100000000001</td><td>17686.0</td><td>2011-02-10</td></tr><tr><td>1592.1200000000001</td><td>14031.0</td><td>2011-09-26</td></tr><tr><td>1590.82</td><td>12370.0</td><td>2010-12-14</td></tr><tr><td>1590.0500000000006</td><td>13555.0</td><td>2011-05-22</td></tr><tr><td>1588.8400000000004</td><td>15321.0</td><td>2011-09-30</td></tr><tr><td>1588.7499999999998</td><td>14911.0</td><td>2011-10-19</td></tr><tr><td>1588.16</td><td>16652.0</td><td>2011-03-11</td></tr><tr><td>1585.94</td><td>16705.0</td><td>2011-07-18</td></tr><tr><td>1585.9199999999998</td><td>16705.0</td><td>2011-09-02</td></tr><tr><td>1583.2399999999996</td><td>13015.0</td><td>2011-10-17</td></tr><tr><td>1582.1000000000001</td><td>15764.0</td><td>2011-08-24</td></tr><tr><td>1581.85</td><td>16180.0</td><td>2011-06-22</td></tr><tr><td>1579.7600000000002</td><td>16705.0</td><td>2011-05-16</td></tr><tr><td>1579.51</td><td>12607.0</td><td>2011-10-10</td></tr><tr><td>1578.6899999999996</td><td>14156.0</td><td>2011-08-17</td></tr><tr><td>1576.36</td><td>14936.0</td><td>2011-03-09</td></tr><tr><td>1575.7899999999995</td><td>14911.0</td><td>2011-10-11</td></tr><tr><td>1575.3200000000002</td><td>null</td><td>2011-07-14</td></tr><tr><td>1574.52</td><td>17924.0</td><td>2011-10-03</td></tr><tr><td>1573.810000000002</td><td>null</td><td>2011-01-27</td></tr><tr><td>1573.2</td><td>17949.0</td><td>2011-06-03</td></tr><tr><td>1573.1900000000005</td><td>13081.0</td><td>2011-02-24</td></tr><tr><td>1573.1000000000013</td><td>null</td><td>2011-08-01</td></tr><tr><td>1572.7300000000005</td><td>14156.0</td><td>2011-08-05</td></tr><tr><td>1571.32</td><td>15856.0</td><td>2010-12-09</td></tr><tr><td>1570.1900000000005</td><td>12758.0</td><td>2011-03-08</td></tr><tr><td>1568.6199999999992</td><td>17511.0</td><td>2010-12-07</td></tr><tr><td>1568.4</td><td>15903.0</td><td>2011-09-30</td></tr><tr><td>1565.0300000000009</td><td>null</td><td>2011-09-14</td></tr><tr><td>1564.5500000000002</td><td>16180.0</td><td>2011-05-13</td></tr><tr><td>1562.4</td><td>17450.0</td><td>2011-12-01</td></tr><tr><td>1561.0900000000004</td><td>13901.0</td><td>2011-07-04</td></tr><tr><td>1560.3400000000001</td><td>13881.0</td><td>2011-05-10</td></tr><tr><td>1552.6000000000006</td><td>17686.0</td><td>2011-08-11</td></tr><tr><td>1551.2999999999988</td><td>12567.0</td><td>2011-11-17</td></tr><tr><td>1549.79</td><td>null</td><td>2011-07-29</td></tr><tr><td>1547.5800000000002</td><td>14329.0</td><td>2011-01-14</td></tr><tr><td>1547.2</td><td>16333.0</td><td>2011-12-02</td></tr><tr><td>1546.3399999999995</td><td>null</td><td>2011-04-12</td></tr><tr><td>1543.0000000000002</td><td>14156.0</td><td>2011-05-16</td></tr><tr><td>1542.08</td><td>12818.0</td><td>2011-03-23</td></tr><tr><td>1541.9800000000002</td><td>15311.0</td><td>2011-06-02</td></tr><tr><td>1541.1599999999999</td><td>14258.0</td><td>2011-05-24</td></tr><tr><td>1538.4099999999996</td><td>18242.0</td><td>2011-09-28</td></tr><tr><td>1538.31</td><td>14235.0</td><td>2011-07-05</td></tr><tr><td>1536.8500000000001</td><td>15727.0</td><td>2010-12-15</td></tr><tr><td>1536.0</td><td>13027.0</td><td>2011-08-18</td></tr><tr><td>1535.2399999999998</td><td>17139.0</td><td>2011-09-12</td></tr><tr><td>1534.9700000000005</td><td>14298.0</td><td>2011-04-19</td></tr><tr><td>1534.3</td><td>12949.0</td><td>2011-04-01</td></tr><tr><td>1532.7600000000002</td><td>17675.0</td><td>2011-07-20</td></tr><tr><td>1528.3400000000004</td><td>13013.0</td><td>2010-12-03</td></tr><tr><td>1527.9600000000003</td><td>12371.0</td><td>2011-10-11</td></tr><tr><td>1526.92</td><td>12567.0</td><td>2010-12-05</td></tr><tr><td>1524.77</td><td>13365.0</td><td>2011-11-06</td></tr><tr><td>1522.3100000000002</td><td>15531.0</td><td>2011-11-09</td></tr><tr><td>1521.1</td><td>13694.0</td><td>2011-01-28</td></tr><tr><td>1520.11</td><td>13680.0</td><td>2011-01-06</td></tr><tr><td>1519.9899999999989</td><td>13869.0</td><td>2011-08-08</td></tr><tr><td>1519.8</td><td>12901.0</td><td>2011-09-19</td></tr><tr><td>1518.0</td><td>14298.0</td><td>2011-03-29</td></tr><tr><td>1516.68</td><td>12637.0</td><td>2011-01-20</td></tr><tr><td>1515.42</td><td>13089.0</td><td>2011-08-02</td></tr><tr><td>1514.7999999999993</td><td>null</td><td>2011-08-26</td></tr><tr><td>1514.4199999999998</td><td>12748.0</td><td>2011-09-30</td></tr><tr><td>1514.17</td><td>13316.0</td><td>2011-11-02</td></tr><tr><td>1513.9499999999998</td><td>12471.0</td><td>2010-12-17</td></tr><tr><td>1510.3600000000001</td><td>15290.0</td><td>2011-10-28</td></tr><tr><td>1506.94</td><td>13340.0</td><td>2011-10-25</td></tr><tr><td>1505.6399999999996</td><td>13694.0</td><td>2011-08-04</td></tr><tr><td>1499.339999999999</td><td>17850.0</td><td>2010-12-01</td></tr><tr><td>1498.6599999999999</td><td>12433.0</td><td>2011-10-27</td></tr><tr><td>1498.0900000000004</td><td>null</td><td>2011-06-06</td></tr><tr><td>1497.52</td><td>12731.0</td><td>2011-11-16</td></tr><tr><td>1495.370000000001</td><td>null</td><td>2011-08-03</td></tr><tr><td>1495.2</td><td>15797.0</td><td>2011-02-08</td></tr><tr><td>1494.0000000000002</td><td>16684.0</td><td>2011-11-04</td></tr><tr><td>1491.59</td><td>12876.0</td><td>2011-10-13</td></tr><tr><td>1491.4600000000003</td><td>15379.0</td><td>2010-12-16</td></tr><tr><td>1490.88</td><td>16029.0</td><td>2011-03-25</td></tr><tr><td>1489.1800000000007</td><td>13458.0</td><td>2011-01-06</td></tr><tr><td>1488.16</td><td>17381.0</td><td>2011-07-11</td></tr><tr><td>1488.0</td><td>12931.0</td><td>2011-04-14</td></tr><tr><td>1487.6</td><td>17553.0</td><td>2011-08-02</td></tr><tr><td>1485.78</td><td>15640.0</td><td>2010-12-13</td></tr><tr><td>1485.7700000000004</td><td>null</td><td>2011-07-01</td></tr><tr><td>1485.7200000000003</td><td>18092.0</td><td>2010-12-09</td></tr><tr><td>1485.2000000000014</td><td>null</td><td>2011-10-05</td></tr><tr><td>1484.4</td><td>17381.0</td><td>2011-05-06</td></tr><tr><td>1482.4300000000012</td><td>null</td><td>2011-09-22</td></tr><tr><td>1481.0900000000001</td><td>14733.0</td><td>2011-01-11</td></tr><tr><td>1480.7099999999998</td><td>14680.0</td><td>2011-01-06</td></tr><tr><td>1480.1999999999998</td><td>14156.0</td><td>2011-02-23</td></tr><tr><td>1477.5599999999997</td><td>14016.0</td><td>2011-03-15</td></tr><tr><td>1476.2200000000007</td><td>15665.0</td><td>2011-04-10</td></tr><tr><td>1476.1899999999998</td><td>12700.0</td><td>2011-10-05</td></tr><tr><td>1475.44</td><td>12678.0</td><td>2011-08-31</td></tr><tr><td>1472.2200000000003</td><td>15189.0</td><td>2011-08-18</td></tr><tr><td>1472.0</td><td>15299.0</td><td>2011-10-03</td></tr><tr><td>1471.2500000000005</td><td>16652.0</td><td>2011-08-22</td></tr><tr><td>1466.1399999999999</td><td>17511.0</td><td>2011-04-20</td></tr><tr><td>1465.0000000000002</td><td>14292.0</td><td>2011-07-17</td></tr><tr><td>1463.6399999999996</td><td>16609.0</td><td>2011-11-24</td></tr><tr><td>1463.4700000000005</td><td>13722.0</td><td>2011-03-02</td></tr><tr><td>1462.4499999999998</td><td>16258.0</td><td>2011-10-25</td></tr><tr><td>1459.76</td><td>13881.0</td><td>2011-11-22</td></tr><tr><td>1458.44</td><td>null</td><td>2011-09-05</td></tr><tr><td>1454.5800000000006</td><td>null</td><td>2011-10-27</td></tr><tr><td>1452.35</td><td>15065.0</td><td>2011-06-28</td></tr><tr><td>1452.16</td><td>14911.0</td><td>2011-08-26</td></tr><tr><td>1449.8800000000003</td><td>null</td><td>2011-02-16</td></tr><tr><td>1445.79</td><td>18079.0</td><td>2011-10-25</td></tr><tr><td>1444.8</td><td>12668.0</td><td>2011-03-25</td></tr><tr><td>1444.6599999999999</td><td>17511.0</td><td>2011-04-12</td></tr><tr><td>1444.14</td><td>17686.0</td><td>2011-05-23</td></tr><tr><td>1440.9599999999998</td><td>16652.0</td><td>2011-05-11</td></tr><tr><td>1440.9000000000005</td><td>13437.0</td><td>2011-06-02</td></tr><tr><td>1440.0</td><td>13027.0</td><td>2010-12-20</td></tr><tr><td>1439.2300000000002</td><td>13694.0</td><td>2011-04-13</td></tr><tr><td>1437.5000000000002</td><td>15159.0</td><td>2011-11-21</td></tr><tr><td>1437.12</td><td>17133.0</td><td>2011-06-02</td></tr><tr><td>1436.9300000000005</td><td>12762.0</td><td>2011-12-02</td></tr><tr><td>1436.73</td><td>17706.0</td><td>2011-10-10</td></tr><tr><td>1436.4899999999998</td><td>14936.0</td><td>2011-08-23</td></tr><tr><td>1435.1</td><td>16013.0</td><td>2011-01-07</td></tr><tr><td>1434.24</td><td>17949.0</td><td>2011-10-28</td></tr><tr><td>1432.9</td><td>16133.0</td><td>2011-05-03</td></tr><tr><td>1432.0</td><td>14566.0</td><td>2011-08-21</td></tr><tr><td>1431.2800000000002</td><td>13694.0</td><td>2011-01-13</td></tr><tr><td>1430.75</td><td>12653.0</td><td>2011-07-14</td></tr><tr><td>1429.9</td><td>14298.0</td><td>2011-01-07</td></tr><tr><td>1425.96</td><td>17338.0</td><td>2011-11-22</td></tr><tr><td>1421.6699999999998</td><td>15194.0</td><td>2011-11-08</td></tr><tr><td>1420.98</td><td>14062.0</td><td>2011-04-14</td></tr><tr><td>1418.4800000000002</td><td>16549.0</td><td>2011-11-29</td></tr><tr><td>1417.4599999999998</td><td>17581.0</td><td>2011-08-22</td></tr><tr><td>1416.9800000000007</td><td>12748.0</td><td>2010-12-10</td></tr><tr><td>1416.0</td><td>14031.0</td><td>2011-10-03</td></tr><tr><td>1415.9700000000003</td><td>13174.0</td><td>2010-12-05</td></tr><tr><td>1414.99</td><td>16497.0</td><td>2011-10-21</td></tr><tr><td>1414.64</td><td>16843.0</td><td>2011-09-05</td></tr><tr><td>1414.3600000000006</td><td>14911.0</td><td>2011-05-18</td></tr><tr><td>1413.99</td><td>16210.0</td><td>2011-05-03</td></tr><tr><td>1413.7299999999996</td><td>14911.0</td><td>2011-11-15</td></tr><tr><td>1411.6699999999998</td><td>12476.0</td><td>2011-04-19</td></tr><tr><td>1410.26</td><td>15694.0</td><td>2011-10-04</td></tr><tr><td>1409.0</td><td>15971.0</td><td>2011-10-18</td></tr><tr><td>1408.7</td><td>17677.0</td><td>2011-03-30</td></tr><tr><td>1407.8999999999999</td><td>16705.0</td><td>2011-04-12</td></tr><tr><td>1407.86</td><td>14646.0</td><td>2011-03-25</td></tr><tr><td>1407.1900000000005</td><td>14911.0</td><td>2011-04-01</td></tr><tr><td>1405.1999999999998</td><td>15903.0</td><td>2011-11-11</td></tr><tr><td>1397.3199999999997</td><td>16873.0</td><td>2011-10-09</td></tr><tr><td>1396.0</td><td>18102.0</td><td>2011-03-03</td></tr><tr><td>1394.5800000000002</td><td>15159.0</td><td>2011-08-19</td></tr><tr><td>1393.56</td><td>17937.0</td><td>2010-12-12</td></tr><tr><td>1393.4799999999998</td><td>15251.0</td><td>2011-06-14</td></tr><tr><td>1393.06</td><td>17354.0</td><td>2011-10-20</td></tr><tr><td>1392.0</td><td>14646.0</td><td>2011-05-25</td></tr><tr><td>1390.06</td><td>15311.0</td><td>2011-03-01</td></tr><tr><td>1389.0500000000002</td><td>18223.0</td><td>2011-10-31</td></tr><tr><td>1388.92</td><td>14257.0</td><td>2011-08-08</td></tr><tr><td>1385.9999999999998</td><td>17381.0</td><td>2011-09-01</td></tr><tr><td>1385.4000000000003</td><td>null</td><td>2011-04-05</td></tr><tr><td>1385.04</td><td>15640.0</td><td>2011-08-07</td></tr><tr><td>1384.25</td><td>13572.0</td><td>2011-05-18</td></tr><tr><td>1383.68</td><td>16985.0</td><td>2011-11-22</td></tr><tr><td>1382.8799999999999</td><td>16671.0</td><td>2011-06-28</td></tr><tr><td>1381.92</td><td>13488.0</td><td>2010-12-07</td></tr><tr><td>1381.3</td><td>12731.0</td><td>2011-05-11</td></tr><tr><td>1380.4</td><td>13089.0</td><td>2011-02-14</td></tr><tr><td>1380.1099999999997</td><td>12540.0</td><td>2011-05-04</td></tr><tr><td>1378.4800000000007</td><td>14842.0</td><td>2011-06-01</td></tr><tr><td>1377.5499999999993</td><td>12626.0</td><td>2011-10-06</td></tr><tr><td>1376.52</td><td>16029.0</td><td>2011-02-04</td></tr><tr><td>1376.4299999999998</td><td>12472.0</td><td>2011-10-19</td></tr><tr><td>1375.2399999999996</td><td>14952.0</td><td>2011-10-11</td></tr><tr><td>1375.2399999999996</td><td>15416.0</td><td>2011-03-02</td></tr><tr><td>1374.4599999999998</td><td>13093.0</td><td>2011-01-06</td></tr><tr><td>1373.9899999999998</td><td>15061.0</td><td>2011-01-10</td></tr><tr><td>1373.46</td><td>16422.0</td><td>2011-05-18</td></tr><tr><td>1372.1000000000001</td><td>13798.0</td><td>2011-10-07</td></tr><tr><td>1371.6</td><td>14258.0</td><td>2011-11-30</td></tr><tr><td>1368.4</td><td>12967.0</td><td>2010-12-03</td></tr><tr><td>1368.1599999999999</td><td>14298.0</td><td>2011-04-21</td></tr><tr><td>1366.9099999999999</td><td>17082.0</td><td>2011-11-06</td></tr></tbody></table>Showing the first 1000 rows.</div>"
      ]
     },
     "metadata": {
      "application/vnd.databricks.v1+output": {
       "addedWidgets": {},
       "aggData": [],
       "aggError": "",
       "aggOverflow": false,
       "aggSchema": [],
       "aggSeriesLimitReached": false,
       "aggType": "",
       "arguments": {},
       "columnCustomDisplayInfos": {},
       "data": [
        [
         71601.44,
         17450,
         "2011-09-20"
        ],
        [
         55316.08,
         null,
         "2011-11-14"
        ],
        [
         42939.17,
         null,
         "2011-11-07"
        ],
        [
         33521.39999999998,
         null,
         "2011-03-29"
        ],
        [
         31975.590000000007,
         null,
         "2011-12-08"
        ],
        [
         31661.540000000005,
         18102,
         "2011-09-15"
        ],
        [
         31347.479999999938,
         null,
         "2010-12-21"
        ],
        [
         29693.82,
         18102,
         "2011-10-21"
        ],
        [
         25920.37,
         18102,
         "2010-12-07"
        ],
        [
         25833.559999999994,
         14646,
         "2011-10-20"
        ],
        [
         25399.560000000012,
         null,
         "2010-12-10"
        ],
        [
         25371.769999999768,
         null,
         "2010-12-17"
        ],
        [
         24148.069999999992,
         null,
         "2011-11-25"
        ],
        [
         23744.250000000055,
         null,
         "2011-11-29"
        ],
        [
         23426.81000000001,
         12415,
         "2011-06-15"
        ],
        [
         23395.099999999904,
         null,
         "2010-12-06"
        ],
        [
         23032.59999999993,
         null,
         "2011-08-30"
        ],
        [
         23021.99999999999,
         null,
         "2010-12-03"
        ],
        [
         22998.4,
         15749,
         "2011-01-11"
        ],
        [
         22429.69,
         18102,
         "2011-10-03"
        ],
        [
         21880.439999999995,
         12415,
         "2011-08-18"
        ],
        [
         19371.949999999924,
         null,
         "2011-11-08"
        ],
        [
         19150.65999999999,
         14646,
         "2011-08-11"
        ],
        [
         19045.480000000003,
         12931,
         "2011-08-04"
        ],
        [
         18854.780000000002,
         17949,
         "2011-06-30"
        ],
        [
         18630.12999999988,
         null,
         "2011-11-30"
        ],
        [
         18620.199999999993,
         17450,
         "2011-01-11"
        ],
        [
         18279.479999999996,
         14646,
         "2011-02-21"
        ],
        [
         18247.5,
         14646,
         "2011-03-29"
        ],
        [
         18175.799999999934,
         null,
         "2011-11-11"
        ],
        [
         18047.62000000003,
         null,
         "2011-08-11"
        ],
        [
         18047.42,
         16684,
         "2011-10-05"
        ],
        [
         17949.28000000001,
         null,
         "2011-05-10"
        ],
        [
         17518.40999999992,
         null,
         "2011-11-16"
        ],
        [
         16803.529999999893,
         null,
         "2011-07-18"
        ],
        [
         16774.719999999998,
         14156,
         "2011-01-14"
        ],
        [
         16571.320000000036,
         null,
         "2011-12-09"
        ],
        [
         16558.14,
         12415,
         "2011-03-03"
        ],
        [
         16488,
         18102,
         "2011-06-09"
        ],
        [
         16478.460000000006,
         14646,
         "2011-05-12"
        ],
        [
         16471.770000000004,
         12415,
         "2011-10-05"
        ],
        [
         16192.969999999943,
         null,
         "2011-10-31"
        ],
        [
         16084.900000000001,
         17450,
         "2011-08-17"
        ],
        [
         15929.879999999974,
         null,
         "2010-12-14"
        ],
        [
         15618.279999999997,
         14646,
         "2011-09-19"
        ],
        [
         15354.279999999955,
         null,
         "2010-12-09"
        ],
        [
         15045.000000000002,
         18102,
         "2011-11-04"
        ],
        [
         14766.169999999916,
         null,
         "2011-07-05"
        ],
        [
         14471.92,
         18102,
         "2011-06-14"
        ],
        [
         14028.459999999997,
         14646,
         "2011-06-28"
        ],
        [
         14022.919999999998,
         12415,
         "2011-02-15"
        ],
        [
         13667.65999999993,
         null,
         "2011-07-04"
        ],
        [
         13544.64,
         16029,
         "2011-10-07"
        ],
        [
         13464.26,
         14156,
         "2011-07-31"
        ],
        [
         13282,
         18102,
         "2011-07-04"
        ],
        [
         13216.889999999894,
         null,
         "2011-11-22"
        ],
        [
         13078.289999999908,
         null,
         "2011-11-15"
        ],
        [
         13072.19999999996,
         null,
         "2011-06-08"
        ],
        [
         12950.379999999943,
         null,
         "2011-12-02"
        ],
        [
         12735.669999999953,
         null,
         "2011-01-17"
        ],
        [
         12584.299999999988,
         null,
         "2010-12-01"
        ],
        [
         12498.709999999997,
         14646,
         "2011-08-09"
        ],
        [
         12451.28999999998,
         null,
         "2011-03-22"
        ],
        [
         12446.109999999957,
         null,
         "2011-09-07"
        ],
        [
         12399.519999999964,
         null,
         "2011-11-24"
        ],
        [
         12393.7,
         16000,
         "2011-12-07"
        ],
        [
         12312.61999999994,
         null,
         "2011-04-18"
        ],
        [
         12293.879999999997,
         17450,
         "2011-05-24"
        ],
        [
         12242.759999999957,
         null,
         "2011-11-18"
        ],
        [
         12024.969999999987,
         null,
         "2011-09-02"
        ],
        [
         11924.800000000003,
         12415,
         "2011-05-17"
        ],
        [
         11666.66,
         14156,
         "2011-07-19"
        ],
        [
         11477.420000000002,
         14646,
         "2011-12-07"
        ],
        [
         11343.199999999999,
         17450,
         "2011-03-24"
        ],
        [
         11016.1,
         18102,
         "2011-12-08"
        ],
        [
         10999.52,
         18102,
         "2011-06-07"
        ],
        [
         10992.96,
         15838,
         "2011-10-06"
        ],
        [
         10983.769999999955,
         null,
         "2011-03-07"
        ],
        [
         10732.35,
         17949,
         "2011-07-28"
        ],
        [
         10584.770000000004,
         14088,
         "2011-11-23"
        ],
        [
         10569.16999999998,
         null,
         "2011-12-06"
        ],
        [
         10535.48,
         18102,
         "2011-02-07"
        ],
        [
         10389.060000000003,
         14646,
         "2011-01-14"
        ],
        [
         10312.640000000012,
         null,
         "2011-04-15"
        ],
        [
         10207.52,
         18102,
         "2011-09-22"
        ],
        [
         10109.499999999965,
         null,
         "2011-10-04"
        ],
        [
         10078.640000000003,
         14646,
         "2011-11-23"
        ],
        [
         10065,
         15769,
         "2011-03-17"
        ],
        [
         10057.619999999997,
         null,
         "2011-09-21"
        ],
        [
         9995.220000000001,
         14646,
         "2011-10-27"
        ],
        [
         9864.260000000004,
         12590,
         "2011-05-12"
        ],
        [
         9823.119999999995,
         14646,
         "2011-11-10"
        ],
        [
         9523.800000000008,
         null,
         "2011-07-08"
        ],
        [
         9517.69,
         null,
         "2011-06-29"
        ],
        [
         9463.019999999997,
         null,
         "2011-04-26"
        ],
        [
         9407.339999999998,
         15061,
         "2010-12-02"
        ],
        [
         9349.72,
         12931,
         "2011-08-11"
        ],
        [
         9270.08,
         18102,
         "2011-05-17"
        ],
        [
         9207.240000000016,
         null,
         "2011-01-10"
        ],
        [
         9069.82,
         17450,
         "2011-11-03"
        ],
        [
         8980.880000000003,
         14646,
         "2011-05-26"
        ],
        [
         8947.960000000005,
         12678,
         "2011-10-28"
        ],
        [
         8930.780000000008,
         null,
         "2011-08-10"
        ],
        [
         8895.66,
         18102,
         "2011-05-16"
        ],
        [
         8820.650000000009,
         null,
         "2011-09-23"
        ],
        [
         8801.510000000004,
         14088,
         "2011-07-19"
        ],
        [
         8697.880000000006,
         null,
         "2011-02-17"
        ],
        [
         8647.290000000012,
         null,
         "2011-03-31"
        ],
        [
         8520.919999999998,
         14646,
         "2010-12-21"
        ],
        [
         8386.810000000005,
         null,
         "2011-01-11"
        ],
        [
         8375.560000000001,
         16684,
         "2011-07-24"
        ],
        [
         8361.599999999999,
         16029,
         "2010-12-16"
        ],
        [
         8360.54000000001,
         null,
         "2011-01-21"
        ],
        [
         8358.240000000018,
         null,
         "2011-01-18"
        ],
        [
         8343.859999999999,
         14156,
         "2011-09-05"
        ],
        [
         8314.360000000011,
         null,
         "2011-07-12"
        ],
        [
         8281.119999999999,
         14646,
         "2011-09-13"
        ],
        [
         8245.130000000025,
         null,
         "2011-06-20"
        ],
        [
         8173.220000000017,
         null,
         "2011-05-17"
        ],
        [
         8132.310000000001,
         14088,
         "2011-10-16"
        ],
        [
         8124.250000000004,
         null,
         "2011-11-23"
        ],
        [
         8101.42000000001,
         null,
         "2011-01-24"
        ],
        [
         8060.2999999999965,
         14646,
         "2011-01-21"
        ],
        [
         8044.880000000011,
         null,
         "2011-01-14"
        ],
        [
         8029.760000000011,
         null,
         "2011-10-18"
        ],
        [
         7952,
         15769,
         "2011-08-24"
        ],
        [
         7949.909999999991,
         null,
         "2010-12-13"
        ],
        [
         7876.000000000018,
         null,
         "2011-03-17"
        ],
        [
         7835.540000000014,
         14096,
         "2011-12-05"
        ],
        [
         7809.929999999998,
         14088,
         "2011-06-02"
        ],
        [
         7722.040000000002,
         14646,
         "2011-01-19"
        ],
        [
         7647.960000000009,
         null,
         "2011-12-01"
        ],
        [
         7544.910000000001,
         14088,
         "2011-01-21"
        ],
        [
         7543.530000000006,
         null,
         "2011-02-23"
        ],
        [
         7527.089999999997,
         null,
         "2011-01-12"
        ],
        [
         7428.039999999999,
         14646,
         "2011-08-26"
        ],
        [
         7427.32,
         17389,
         "2011-11-03"
        ],
        [
         7386.790000000006,
         14096,
         "2011-11-14"
        ],
        [
         7278.710000000012,
         null,
         "2011-05-27"
        ],
        [
         7275.68,
         16029,
         "2011-08-17"
        ],
        [
         7271.339999999996,
         13081,
         "2011-11-04"
        ],
        [
         7199.840000000011,
         null,
         "2011-07-25"
        ],
        [
         7167.169999999999,
         null,
         "2010-12-20"
        ],
        [
         7153.640000000011,
         null,
         "2011-11-02"
        ],
        [
         7120.580000000016,
         14096,
         "2011-11-28"
        ],
        [
         7059.540000000001,
         17511,
         "2011-11-09"
        ],
        [
         7048.590000000007,
         null,
         "2011-09-27"
        ],
        [
         7033.010000000008,
         null,
         "2011-06-14"
        ],
        [
         7011.379999999997,
         12415,
         "2011-01-06"
        ],
        [
         7001.680000000016,
         null,
         "2011-02-04"
        ],
        [
         6878.12000000001,
         null,
         "2011-11-04"
        ],
        [
         6855.280000000012,
         null,
         "2011-09-13"
        ],
        [
         6781.890000000018,
         null,
         "2011-02-08"
        ],
        [
         6648.609999999997,
         null,
         "2011-02-28"
        ],
        [
         6612.599999999998,
         18139,
         "2011-11-21"
        ],
        [
         6591.6,
         18102,
         "2011-07-28"
        ],
        [
         6585.16,
         13777,
         "2010-12-01"
        ],
        [
         6549.119999999999,
         16684,
         "2011-02-03"
        ],
        [
         6506.029999999999,
         13694,
         "2011-08-24"
        ],
        [
         6485.560000000001,
         13777,
         "2011-11-15"
        ],
        [
         6426.519999999999,
         16684,
         "2011-05-18"
        ],
        [
         6412.139999999996,
         null,
         "2010-12-23"
        ],
        [
         6374.800000000001,
         14607,
         "2011-10-24"
        ],
        [
         6319.000000000006,
         null,
         "2011-05-03"
        ],
        [
         6237.85000000002,
         null,
         "2011-10-24"
        ],
        [
         6233.36,
         17450,
         "2011-11-28"
        ],
        [
         6231.270000000012,
         null,
         "2011-07-20"
        ],
        [
         6207.669999999996,
         12357,
         "2011-11-06"
        ],
        [
         6207.079999999999,
         12409,
         "2011-06-10"
        ],
        [
         6162.02,
         14156,
         "2011-03-10"
        ],
        [
         6141.159999999997,
         null,
         "2010-12-08"
        ],
        [
         6086.590000000009,
         14096,
         "2011-11-23"
        ],
        [
         6084.950000000003,
         null,
         "2011-12-07"
        ],
        [
         6062.930000000016,
         null,
         "2011-10-11"
        ],
        [
         5973.300000000011,
         null,
         "2011-03-15"
        ],
        [
         5915.28,
         15061,
         "2010-12-10"
        ],
        [
         5900.950000000004,
         null,
         "2011-09-20"
        ],
        [
         5867.079999999999,
         14156,
         "2011-09-30"
        ],
        [
         5735.24,
         12753,
         "2011-02-09"
        ],
        [
         5727,
         16333,
         "2011-11-03"
        ],
        [
         5683.06,
         14646,
         "2011-06-19"
        ],
        [
         5639.519999999999,
         14866,
         "2011-09-20"
        ],
        [
         5590.670000000002,
         14298,
         "2011-09-01"
        ],
        [
         5529.280000000004,
         null,
         "2011-01-06"
        ],
        [
         5518.679999999999,
         17450,
         "2011-05-26"
        ],
        [
         5513.32,
         18102,
         "2011-03-25"
        ],
        [
         5500.38,
         16684,
         "2011-11-03"
        ],
        [
         5491.090000000005,
         null,
         "2011-07-22"
        ],
        [
         5490.240000000001,
         17450,
         "2011-11-21"
        ],
        [
         5485.660000000009,
         null,
         "2011-04-19"
        ],
        [
         5462.140000000003,
         null,
         "2011-11-13"
        ],
        [
         5453.33000000001,
         null,
         "2011-01-13"
        ],
        [
         5433.569999999998,
         17511,
         "2011-07-20"
        ],
        [
         5424,
         17857,
         "2011-04-05"
        ],
        [
         5422.8,
         14646,
         "2011-06-01"
        ],
        [
         5405.48,
         17450,
         "2011-06-16"
        ],
        [
         5401.979999999999,
         16684,
         "2011-12-05"
        ],
        [
         5355.680000000005,
         14298,
         "2011-10-18"
        ],
        [
         5355.400000000001,
         12415,
         "2011-11-15"
        ],
        [
         5333.520000000004,
         null,
         "2011-11-28"
        ],
        [
         5296.960000000001,
         17404,
         "2011-10-17"
        ],
        [
         5239.840000000006,
         null,
         "2011-10-19"
        ],
        [
         5217.83000000001,
         null,
         "2011-11-17"
        ],
        [
         5204.800000000013,
         null,
         "2011-06-01"
        ],
        [
         5197.560000000011,
         null,
         "2011-05-24"
        ],
        [
         5194.360000000001,
         16013,
         "2011-10-26"
        ],
        [
         5162.74,
         17511,
         "2011-08-04"
        ],
        [
         5150.210000000006,
         null,
         "2011-05-06"
        ],
        [
         5134.88,
         17389,
         "2011-12-06"
        ],
        [
         5078.690000000006,
         null,
         "2011-10-25"
        ],
        [
         5038.800000000009,
         null,
         "2011-01-07"
        ],
        [
         4969.319999999999,
         14911,
         "2011-07-28"
        ],
        [
         4969.219999999998,
         12428,
         "2011-03-01"
        ],
        [
         4958.170000000009,
         null,
         "2011-01-25"
        ],
        [
         4949.24,
         17511,
         "2011-12-07"
        ],
        [
         4913.52,
         18102,
         "2011-09-02"
        ],
        [
         4903.829999999998,
         null,
         "2011-10-17"
        ],
        [
         4873.810000000005,
         12688,
         "2011-08-18"
        ],
        [
         4867.650000000002,
         null,
         "2011-11-20"
        ],
        [
         4864.120000000005,
         null,
         "2011-05-13"
        ],
        [
         4860.640000000001,
         12409,
         "2011-09-22"
        ],
        [
         4839.330000000006,
         null,
         "2011-08-31"
        ],
        [
         4822.28000000001,
         null,
         "2011-01-31"
        ],
        [
         4819.08,
         16684,
         "2011-03-18"
        ],
        [
         4816.780000000008,
         null,
         "2011-09-09"
        ],
        [
         4808.48,
         12753,
         "2011-11-17"
        ],
        [
         4771.800000000008,
         null,
         "2011-02-09"
        ],
        [
         4721.580000000013,
         null,
         "2011-06-02"
        ],
        [
         4691.1700000000055,
         null,
         "2011-09-28"
        ],
        [
         4656.219999999999,
         13694,
         "2011-11-14"
        ],
        [
         4655.849999999997,
         13081,
         "2011-05-06"
        ],
        [
         4649.3400000000065,
         null,
         "2011-05-09"
        ],
        [
         4640.040000000004,
         null,
         "2011-04-06"
        ],
        [
         4638.3900000000085,
         null,
         "2011-11-09"
        ],
        [
         4579.180000000005,
         null,
         "2011-03-11"
        ],
        [
         4563.64,
         17511,
         "2011-05-04"
        ],
        [
         4552.050000000006,
         null,
         "2011-07-07"
        ],
        [
         4519.410000000008,
         null,
         "2011-05-31"
        ],
        [
         4489.34,
         17450,
         "2011-11-14"
        ],
        [
         4488,
         17949,
         "2011-09-30"
        ],
        [
         4486.909999999998,
         14646,
         "2011-11-02"
        ],
        [
         4483.58,
         14156,
         "2011-06-15"
        ],
        [
         4460.66,
         13098,
         "2011-10-10"
        ],
        [
         4427.910000000007,
         null,
         "2011-10-12"
        ],
        [
         4423.370000000003,
         17511,
         "2011-09-21"
        ],
        [
         4407.000000000003,
         null,
         "2011-10-13"
        ],
        [
         4406.610000000001,
         13081,
         "2011-07-19"
        ],
        [
         4404.3,
         17396,
         "2011-07-14"
        ],
        [
         4400.280000000001,
         17404,
         "2011-03-14"
        ],
        [
         4391.540000000001,
         17511,
         "2011-06-15"
        ],
        [
         4391.16,
         14156,
         "2011-11-16"
        ],
        [
         4390.560000000002,
         14298,
         "2011-04-28"
        ],
        [
         4385.7800000000025,
         17511,
         "2011-02-01"
        ],
        [
         4366.779999999999,
         12752,
         "2011-09-19"
        ],
        [
         4362.5,
         14156,
         "2011-02-15"
        ],
        [
         4354.3099999999995,
         null,
         "2011-06-28"
        ],
        [
         4338.960000000009,
         null,
         "2011-07-26"
        ],
        [
         4337.38,
         15838,
         "2011-11-14"
        ],
        [
         4335.710000000009,
         14096,
         "2011-10-31"
        ],
        [
         4327.990000000009,
         14096,
         "2011-09-21"
        ],
        [
         4323.620000000006,
         null,
         "2011-09-30"
        ],
        [
         4318.859999999999,
         17509,
         "2011-10-07"
        ],
        [
         4314.719999999999,
         18251,
         "2011-09-13"
        ],
        [
         4313.840000000001,
         13089,
         "2011-09-01"
        ],
        [
         4287.790000000007,
         null,
         "2011-01-19"
        ],
        [
         4279.710000000004,
         12536,
         "2011-10-11"
        ],
        [
         4273.640000000002,
         null,
         "2011-02-11"
        ],
        [
         4257.0599999999995,
         12477,
         "2011-08-31"
        ],
        [
         4245.470000000001,
         null,
         "2011-12-04"
        ],
        [
         4236.470000000005,
         null,
         "2011-04-04"
        ],
        [
         4234.1900000000005,
         14156,
         "2011-09-06"
        ],
        [
         4187.76,
         16333,
         "2011-04-01"
        ],
        [
         4184.590000000009,
         null,
         "2011-11-21"
        ],
        [
         4146.34,
         12557,
         "2011-07-04"
        ],
        [
         4114.08,
         17404,
         "2011-09-13"
        ],
        [
         4105.94,
         15838,
         "2011-08-10"
        ],
        [
         4100.870000000005,
         null,
         "2011-10-03"
        ],
        [
         4091.46,
         17389,
         "2011-09-26"
        ],
        [
         4090.28,
         17428,
         "2011-09-15"
        ],
        [
         4070.9700000000075,
         null,
         "2011-02-02"
        ],
        [
         4049.460000000008,
         null,
         "2011-06-07"
        ],
        [
         4041.180000000001,
         15311,
         "2011-11-11"
        ],
        [
         4030.6000000000004,
         12931,
         "2011-11-09"
        ],
        [
         4018.3599999999997,
         16684,
         "2011-04-13"
        ],
        [
         4012.6600000000067,
         null,
         "2011-05-19"
        ],
        [
         4008.6200000000013,
         12378,
         "2011-08-02"
        ],
        [
         4007.5000000000055,
         null,
         "2011-09-08"
        ],
        [
         3992.76,
         15061,
         "2011-09-27"
        ],
        [
         3989.320000000008,
         null,
         "2011-06-10"
        ],
        [
         3978.9899999999993,
         12435,
         "2011-03-17"
        ],
        [
         3962.850000000001,
         14088,
         "2011-11-02"
        ],
        [
         3962.06,
         17511,
         "2011-03-25"
        ],
        [
         3953.3500000000004,
         13777,
         "2011-10-13"
        ],
        [
         3949.32,
         12744,
         "2011-07-18"
        ],
        [
         3941.6200000000063,
         null,
         "2011-05-05"
        ],
        [
         3931.8199999999993,
         17511,
         "2011-11-23"
        ],
        [
         3930.94,
         14866,
         "2011-10-11"
        ],
        [
         3909.1000000000067,
         null,
         "2011-10-14"
        ],
        [
         3900.6199999999994,
         null,
         "2011-01-04"
        ],
        [
         3895.86,
         15061,
         "2011-12-06"
        ],
        [
         3893.789999999999,
         17340,
         "2011-11-10"
        ],
        [
         3891.8699999999985,
         17850,
         "2010-12-02"
        ],
        [
         3880.56,
         14911,
         "2011-09-01"
        ],
        [
         3875.88,
         17857,
         "2011-08-22"
        ],
        [
         3869.1800000000007,
         14156,
         "2011-05-06"
        ],
        [
         3861,
         15195,
         "2011-12-07"
        ],
        [
         3856.8899999999994,
         14911,
         "2011-12-07"
        ],
        [
         3855.84,
         17511,
         "2011-10-05"
        ],
        [
         3850.9,
         12435,
         "2011-09-21"
        ],
        [
         3844.839999999997,
         14769,
         "2011-09-18"
        ],
        [
         3840.8800000000006,
         15125,
         "2011-03-14"
        ],
        [
         3840.490000000007,
         14096,
         "2011-11-10"
        ],
        [
         3832.29,
         14298,
         "2011-07-21"
        ],
        [
         3826.2400000000002,
         14911,
         "2011-10-17"
        ],
        [
         3824.539999999999,
         17511,
         "2011-01-05"
        ],
        [
         3818.8700000000126,
         null,
         "2011-06-21"
        ],
        [
         3794.3999999999996,
         12755,
         "2010-12-09"
        ],
        [
         3782.5199999999995,
         17389,
         "2011-11-10"
        ],
        [
         3733,
         16333,
         "2011-10-04"
        ],
        [
         3705.48,
         13089,
         "2011-12-05"
        ],
        [
         3702.12,
         16029,
         "2010-12-01"
        ],
        [
         3699.520000000004,
         null,
         "2011-02-14"
        ],
        [
         3685.3599999999997,
         14298,
         "2011-06-02"
        ],
        [
         3680.4,
         12753,
         "2011-07-27"
        ],
        [
         3678.0300000000007,
         13340,
         "2011-03-08"
        ],
        [
         3651.6,
         12798,
         "2011-11-29"
        ],
        [
         3648.6,
         15061,
         "2011-10-21"
        ],
        [
         3640,
         17857,
         "2011-10-25"
        ],
        [
         3633.579999999999,
         17404,
         "2011-07-31"
        ],
        [
         3624.1100000000024,
         null,
         "2011-10-26"
        ],
        [
         3609.130000000006,
         null,
         "2011-08-08"
        ],
        [
         3603.5600000000095,
         null,
         "2011-06-27"
        ],
        [
         3599.4,
         16210,
         "2011-12-08"
        ],
        [
         3599.3799999999997,
         12753,
         "2011-04-05"
        ],
        [
         3590.5900000000006,
         12753,
         "2010-12-12"
        ],
        [
         3583.7500000000014,
         null,
         "2011-07-19"
        ],
        [
         3568.0299999999997,
         14680,
         "2011-07-08"
        ],
        [
         3566.4500000000003,
         14911,
         "2011-10-20"
        ],
        [
         3554.630000000005,
         14096,
         "2011-10-17"
        ],
        [
         3547.34,
         13694,
         "2011-03-04"
        ],
        [
         3538.750000000001,
         null,
         "2011-03-03"
        ],
        [
         3528.34,
         12454,
         "2011-10-14"
        ],
        [
         3527.64,
         13081,
         "2011-01-06"
        ],
        [
         3521.3299999999986,
         null,
         "2011-08-23"
        ],
        [
         3519.4600000000023,
         null,
         "2011-03-25"
        ],
        [
         3498.75,
         14911,
         "2011-09-23"
        ],
        [
         3478.7200000000057,
         null,
         "2011-06-09"
        ],
        [
         3462.4700000000043,
         null,
         "2011-04-21"
        ],
        [
         3453.72,
         17450,
         "2011-07-28"
        ],
        [
         3433.12,
         16013,
         "2011-11-21"
        ],
        [
         3427.06000000001,
         null,
         "2011-07-06"
        ],
        [
         3424.720000000006,
         null,
         "2011-10-10"
        ],
        [
         3422.600000000003,
         null,
         "2011-08-04"
        ],
        [
         3417.12,
         12557,
         "2011-01-11"
        ],
        [
         3404,
         15769,
         "2011-12-02"
        ],
        [
         3378.1100000000038,
         null,
         "2011-05-23"
        ],
        [
         3376.08,
         12939,
         "2011-02-14"
        ],
        [
         3353.9300000000003,
         14911,
         "2011-11-13"
        ],
        [
         3351.32,
         14911,
         "2011-06-08"
        ],
        [
         3337.44,
         15061,
         "2011-11-29"
        ],
        [
         3335.7000000000003,
         13798,
         "2010-12-10"
        ],
        [
         3325.6199999999994,
         14646,
         "2011-10-21"
        ],
        [
         3323.809999999999,
         17511,
         "2011-02-22"
        ],
        [
         3316.6600000000008,
         12432,
         "2011-06-20"
        ],
        [
         3315.970000000003,
         null,
         "2011-02-22"
        ],
        [
         3310.120000000001,
         null,
         "2011-11-27"
        ],
        [
         3304.030000000001,
         13694,
         "2011-10-28"
        ],
        [
         3301.380000000001,
         13340,
         "2011-07-28"
        ],
        [
         3279.36,
         17450,
         "2011-07-14"
        ],
        [
         3277.24,
         15838,
         "2011-03-10"
        ],
        [
         3270.980000000003,
         null,
         "2011-10-28"
        ],
        [
         3257.4,
         15769,
         "2011-02-14"
        ],
        [
         3256.88,
         17511,
         "2011-08-17"
        ],
        [
         3243.129999999999,
         12678,
         "2011-03-31"
        ],
        [
         3240.399999999999,
         17511,
         "2010-12-15"
        ],
        [
         3238.42,
         13694,
         "2011-09-15"
        ],
        [
         3226.129999999997,
         16984,
         "2011-08-01"
        ],
        [
         3223.8800000000056,
         14096,
         "2011-09-26"
        ],
        [
         3221.88,
         13694,
         "2011-03-22"
        ],
        [
         3211.7000000000003,
         14646,
         "2011-02-22"
        ],
        [
         3209.150000000002,
         16303,
         "2011-08-16"
        ],
        [
         3202.9199999999996,
         18087,
         "2011-02-22"
        ],
        [
         3200.28,
         17511,
         "2011-09-07"
        ],
        [
         3187.12,
         15838,
         "2011-09-23"
        ],
        [
         3174.4299999999994,
         12731,
         "2011-01-31"
        ],
        [
         3161.8199999999997,
         null,
         "2011-08-16"
        ],
        [
         3160.840000000003,
         15786,
         "2011-08-17"
        ],
        [
         3155.95,
         15502,
         "2011-10-03"
        ],
        [
         3131.880000000001,
         15159,
         "2011-10-20"
        ],
        [
         3131.16,
         13694,
         "2011-12-06"
        ],
        [
         3123.910000000007,
         null,
         "2011-01-20"
        ],
        [
         3120.2199999999993,
         14258,
         "2011-01-06"
        ],
        [
         3120,
         17450,
         "2011-09-30"
        ],
        [
         3096,
         13135,
         "2011-05-27"
        ],
        [
         3082.9,
         17450,
         "2011-04-20"
        ],
        [
         3069.240000000002,
         null,
         "2011-09-16"
        ],
        [
         3054.270000000004,
         null,
         "2011-06-30"
        ],
        [
         3047.280000000004,
         14096,
         "2011-10-24"
        ],
        [
         3027.3099999999995,
         13694,
         "2011-06-09"
        ],
        [
         3018.3400000000006,
         17511,
         "2011-03-16"
        ],
        [
         2996.11,
         13093,
         "2010-12-16"
        ],
        [
         2990,
         12557,
         "2011-11-23"
        ],
        [
         2979.6,
         17857,
         "2011-12-05"
        ],
        [
         2979.130000000006,
         null,
         "2011-07-15"
        ],
        [
         2973.12,
         15482,
         "2011-11-14"
        ],
        [
         2973.0599999999995,
         14298,
         "2010-12-14"
        ],
        [
         2970.7999999999997,
         12901,
         "2011-05-23"
        ],
        [
         2970,
         15769,
         "2011-01-07"
        ],
        [
         2968.940000000005,
         14096,
         "2011-10-10"
        ],
        [
         2963.1000000000004,
         16013,
         "2011-02-11"
        ],
        [
         2951.52,
         null,
         "2011-04-20"
        ],
        [
         2949.7500000000014,
         17084,
         "2011-11-04"
        ],
        [
         2949.12,
         12754,
         "2011-04-18"
        ],
        [
         2945.5,
         17389,
         "2011-04-15"
        ],
        [
         2944.7,
         14680,
         "2011-05-10"
        ],
        [
         2942.8400000000006,
         15125,
         "2011-05-16"
        ],
        [
         2941.7200000000003,
         12415,
         "2011-09-01"
        ],
        [
         2938.76,
         17404,
         "2011-01-28"
        ],
        [
         2919.5099999999998,
         12451,
         "2011-01-19"
        ],
        [
         2910.939999999998,
         14911,
         "2011-09-07"
        ],
        [
         2910.8600000000033,
         null,
         "2011-08-17"
        ],
        [
         2876.85,
         12359,
         "2011-10-13"
        ],
        [
         2876,
         15769,
         "2011-06-20"
        ],
        [
         2874.6300000000087,
         null,
         "2011-11-03"
        ],
        [
         2854.090000000001,
         null,
         "2011-09-06"
        ],
        [
         2851.010000000004,
         null,
         "2011-03-08"
        ],
        [
         2846.0200000000004,
         15251,
         "2011-04-12"
        ],
        [
         2843.2900000000013,
         12433,
         "2011-11-30"
        ],
        [
         2841.12,
         12901,
         "2011-03-24"
        ],
        [
         2839.6,
         18102,
         "2011-09-28"
        ],
        [
         2825.1,
         17404,
         "2011-07-06"
        ],
        [
         2822.74,
         14156,
         "2011-06-29"
        ],
        [
         2809.380000000001,
         null,
         "2011-10-21"
        ],
        [
         2807.31,
         14680,
         "2011-02-18"
        ],
        [
         2805.28,
         14298,
         "2011-05-04"
        ],
        [
         2801.160000000005,
         null,
         "2011-01-28"
        ],
        [
         2796.36,
         12415,
         "2011-07-13"
        ],
        [
         2770.599999999999,
         15032,
         "2010-12-08"
        ],
        [
         2764.2900000000013,
         15311,
         "2011-05-10"
        ],
        [
         2756.84,
         14911,
         "2011-01-20"
        ],
        [
         2747.6100000000033,
         null,
         "2011-07-27"
        ],
        [
         2739.8,
         16041,
         "2011-07-21"
        ],
        [
         2738.100000000004,
         null,
         "2011-06-13"
        ],
        [
         2723.090000000003,
         null,
         "2011-03-01"
        ],
        [
         2688.2700000000004,
         14680,
         "2011-07-27"
        ],
        [
         2686.0100000000066,
         null,
         "2011-06-23"
        ],
        [
         2685,
         13868,
         "2011-12-02"
        ],
        [
         2662.1699999999996,
         17706,
         "2011-06-30"
        ],
        [
         2661.24,
         14439,
         "2011-01-24"
        ],
        [
         2652.540000000006,
         null,
         "2011-02-01"
        ],
        [
         2649.52,
         17511,
         "2011-05-17"
        ],
        [
         2646.2999999999997,
         17404,
         "2010-12-17"
        ],
        [
         2640,
         17857,
         "2011-11-09"
        ],
        [
         2639.3800000000015,
         17139,
         "2011-02-24"
        ],
        [
         2638.840000000001,
         13324,
         "2011-09-11"
        ],
        [
         2638.690000000001,
         12433,
         "2011-12-09"
        ],
        [
         2626.3000000000006,
         13422,
         "2011-10-06"
        ],
        [
         2613.36,
         15061,
         "2011-05-12"
        ],
        [
         2609,
         15769,
         "2011-07-07"
        ],
        [
         2608.1100000000006,
         12433,
         "2011-09-09"
        ],
        [
         2606.4,
         16532,
         "2011-07-27"
        ],
        [
         2605.88,
         15061,
         "2010-12-15"
        ],
        [
         2597.4,
         15769,
         "2011-03-07"
        ],
        [
         2582.7799999999993,
         15382,
         "2011-09-16"
        ],
        [
         2581.07,
         16126,
         "2011-11-10"
        ],
        [
         2574.930000000002,
         null,
         "2011-04-08"
        ],
        [
         2574.48,
         15769,
         "2011-01-05"
        ],
        [
         2567.64,
         17381,
         "2010-12-06"
        ],
        [
         2559.23,
         13555,
         "2011-09-27"
        ],
        [
         2557.88,
         17404,
         "2011-05-12"
        ],
        [
         2554.69,
         17450,
         "2011-11-29"
        ],
        [
         2546.9500000000066,
         null,
         "2011-06-15"
        ],
        [
         2545.6800000000003,
         12939,
         "2011-10-06"
        ],
        [
         2541.1499999999996,
         14156,
         "2011-03-01"
        ],
        [
         2539.5599999999995,
         12451,
         "2011-10-05"
        ],
        [
         2539.4000000000037,
         14096,
         "2011-10-03"
        ],
        [
         2532.0500000000025,
         null,
         "2011-02-07"
        ],
        [
         2524.9900000000034,
         null,
         "2011-07-11"
        ],
        [
         2520.28,
         15513,
         "2011-10-30"
        ],
        [
         2517.44,
         15311,
         "2011-06-07"
        ],
        [
         2516.570000000002,
         14769,
         "2011-05-22"
        ],
        [
         2512.8700000000044,
         null,
         "2011-03-23"
        ],
        [
         2505.84,
         14952,
         "2011-09-29"
        ],
        [
         2503.74,
         12731,
         "2011-10-19"
        ],
        [
         2503.390000000003,
         null,
         "2011-10-06"
        ],
        [
         2500,
         15581,
         "2011-08-11"
        ],
        [
         2496.2200000000003,
         13089,
         "2010-12-06"
        ],
        [
         2489.11,
         16705,
         "2011-02-01"
        ],
        [
         2474.7399999999993,
         16210,
         "2010-12-01"
        ],
        [
         2452.46,
         13694,
         "2011-02-22"
        ],
        [
         2449.79,
         14769,
         "2011-03-20"
        ],
        [
         2431.4700000000034,
         null,
         "2011-01-26"
        ],
        [
         2430.0800000000004,
         17511,
         "2011-12-05"
        ],
        [
         2429.5399999999995,
         13881,
         "2011-09-05"
        ],
        [
         2423.6000000000013,
         17107,
         "2011-05-15"
        ],
        [
         2423.2700000000004,
         15513,
         "2011-09-06"
        ],
        [
         2420.9500000000003,
         15311,
         "2011-03-14"
        ],
        [
         2420.5500000000025,
         null,
         "2011-05-25"
        ],
        [
         2404.15,
         17340,
         "2010-12-08"
        ],
        [
         2388.31,
         12451,
         "2011-05-05"
        ],
        [
         2388.2,
         14680,
         "2011-08-10"
        ],
        [
         2385.3800000000015,
         12471,
         "2011-10-05"
        ],
        [
         2377.8999999999996,
         12731,
         "2011-09-15"
        ],
        [
         2377,
         13694,
         "2011-09-29"
        ],
        [
         2370.0399999999995,
         15676,
         "2011-11-04"
        ],
        [
         2366.78,
         13081,
         "2010-12-03"
        ],
        [
         2365.7799999999997,
         14049,
         "2011-11-23"
        ],
        [
         2363.159999999998,
         14298,
         "2011-04-27"
        ],
        [
         2360.41,
         12471,
         "2010-12-10"
        ],
        [
         2355.9500000000003,
         12477,
         "2011-02-11"
        ],
        [
         2353,
         16422,
         "2011-08-03"
        ],
        [
         2350.4600000000005,
         12731,
         "2011-03-31"
        ],
        [
         2349.240000000002,
         null,
         "2011-04-27"
        ],
        [
         2346.3399999999997,
         14895,
         "2011-02-22"
        ],
        [
         2340.05,
         13081,
         "2011-03-21"
        ],
        [
         2334.4900000000007,
         14911,
         "2011-09-28"
        ],
        [
         2334.24,
         12830,
         "2011-07-28"
        ],
        [
         2328.8399999999997,
         17313,
         "2011-11-08"
        ],
        [
         2327,
         16182,
         "2011-08-01"
        ],
        [
         2327,
         15769,
         "2011-10-17"
        ],
        [
         2326.9999999999995,
         15769,
         "2011-10-06"
        ],
        [
         2316.9999999999995,
         16180,
         "2011-08-04"
        ],
        [
         2313.12,
         15061,
         "2011-07-22"
        ],
        [
         2307.39,
         13694,
         "2011-05-25"
        ],
        [
         2298.66,
         17107,
         "2011-11-06"
        ],
        [
         2298,
         16422,
         "2011-04-04"
        ],
        [
         2297.86,
         null,
         "2011-03-30"
        ],
        [
         2295.9700000000003,
         13798,
         "2011-01-23"
        ],
        [
         2284.2,
         14646,
         "2011-04-05"
        ],
        [
         2276.91,
         null,
         "2011-06-16"
        ],
        [
         2271.6200000000003,
         12356,
         "2011-01-18"
        ],
        [
         2263.7999999999993,
         16210,
         "2010-12-06"
        ],
        [
         2256,
         16029,
         "2011-02-11"
        ],
        [
         2251.5099999999998,
         13777,
         "2011-12-01"
        ],
        [
         2250.8999999999996,
         13767,
         "2011-09-20"
        ],
        [
         2248.1000000000004,
         16652,
         "2011-10-12"
        ],
        [
         2243.7000000000003,
         15251,
         "2011-09-09"
        ],
        [
         2242.6900000000005,
         15113,
         "2011-10-16"
        ],
        [
         2238.5099999999993,
         12471,
         "2011-12-07"
        ],
        [
         2232,
         16532,
         "2011-11-22"
        ],
        [
         2221.84,
         12830,
         "2011-06-21"
        ],
        [
         2221.02,
         12477,
         "2011-04-14"
        ],
        [
         2218.050000000001,
         null,
         "2011-02-25"
        ],
        [
         2215.25,
         17107,
         "2011-07-07"
        ],
        [
         2210.0499999999997,
         16133,
         "2011-04-21"
        ],
        [
         2209.74,
         12931,
         "2011-11-17"
        ],
        [
         2204.36,
         17706,
         "2011-07-14"
        ],
        [
         2184.3300000000036,
         null,
         "2011-03-04"
        ],
        [
         2183.82,
         14156,
         "2011-04-04"
        ],
        [
         2182.71,
         17107,
         "2011-09-25"
        ],
        [
         2180.2999999999997,
         13098,
         "2011-09-13"
        ],
        [
         2176.4500000000016,
         12597,
         "2011-10-30"
        ],
        [
         2169.3899999999994,
         12501,
         "2011-01-07"
        ],
        [
         2169.1299999999997,
         null,
         "2011-04-11"
        ],
        [
         2165.63,
         14911,
         "2011-08-12"
        ],
        [
         2161.32,
         13802,
         "2011-03-30"
        ],
        [
         2157.640000000001,
         16873,
         "2010-12-10"
        ],
        [
         2157.4999999999995,
         13316,
         "2011-07-31"
        ],
        [
         2156.44,
         17511,
         "2011-07-05"
        ],
        [
         2151.5,
         12748,
         "2011-11-15"
        ],
        [
         2149.5200000000004,
         15874,
         "2011-10-07"
        ],
        [
         2146.7,
         14866,
         "2011-11-01"
        ],
        [
         2135.9700000000007,
         14911,
         "2011-11-11"
        ],
        [
         2133.400000000002,
         16938,
         "2011-06-12"
        ],
        [
         2123.92,
         13081,
         "2011-11-28"
        ],
        [
         2118.739999999999,
         12744,
         "2011-04-05"
        ],
        [
         2118.1200000000003,
         15061,
         "2011-11-04"
        ],
        [
         2114.71,
         17416,
         "2011-03-03"
        ],
        [
         2111.66,
         17428,
         "2011-05-11"
        ],
        [
         2107.92,
         16013,
         "2011-08-22"
        ],
        [
         2105.98,
         15838,
         "2011-06-02"
        ],
        [
         2099.7,
         17450,
         "2011-03-09"
        ],
        [
         2085.349999999999,
         17426,
         "2011-06-17"
        ],
        [
         2083.5099999999998,
         14680,
         "2011-03-29"
        ],
        [
         2077.8,
         16013,
         "2011-06-14"
        ],
        [
         2075.81,
         14088,
         "2011-11-29"
        ],
        [
         2071.370000000001,
         null,
         "2011-07-28"
        ],
        [
         2068.09,
         14031,
         "2011-11-18"
        ],
        [
         2062.4399999999996,
         16684,
         "2010-12-19"
        ],
        [
         2062.06,
         16281,
         "2011-09-28"
        ],
        [
         2060.0300000000007,
         14936,
         "2011-06-17"
        ],
        [
         2054.92,
         13694,
         "2010-12-16"
        ],
        [
         2054.9,
         15856,
         "2011-12-02"
        ],
        [
         2053.07,
         12744,
         "2011-01-25"
        ],
        [
         2050.08,
         14286,
         "2011-04-11"
        ],
        [
         2047.0499999999997,
         14911,
         "2011-11-01"
        ],
        [
         2044.3700000000003,
         17597,
         "2011-05-10"
        ],
        [
         2042.7609999999997,
         13952,
         "2011-04-15"
        ],
        [
         2039.2399999999996,
         17450,
         "2011-10-31"
        ],
        [
         2037.6899999999996,
         12477,
         "2011-11-17"
        ],
        [
         2034,
         17396,
         "2011-10-03"
        ],
        [
         2033.1,
         17846,
         "2011-09-15"
        ],
        [
         2032.3200000000008,
         14911,
         "2011-11-22"
        ],
        [
         2028.84,
         17450,
         "2010-12-07"
        ],
        [
         2027.94,
         17317,
         "2011-09-11"
        ],
        [
         2026.6299999999999,
         14049,
         "2011-05-23"
        ],
        [
         2024.5700000000006,
         14156,
         "2011-02-14"
        ],
        [
         2022.6,
         13098,
         "2011-08-04"
        ],
        [
         2022.16,
         15061,
         "2010-12-07"
        ],
        [
         2020.52,
         15341,
         "2011-09-20"
        ],
        [
         2019.96,
         17381,
         "2011-03-07"
        ],
        [
         2017.92,
         16029,
         "2011-08-05"
        ],
        [
         2016.9400000000005,
         null,
         "2011-06-17"
        ],
        [
         2016.78,
         12438,
         "2011-11-25"
        ],
        [
         2016.3100000000004,
         14175,
         "2011-10-11"
        ],
        [
         2016,
         13027,
         "2011-04-20"
        ],
        [
         2015.3400000000013,
         null,
         "2011-03-20"
        ],
        [
         2007.4,
         15372,
         "2011-07-25"
        ],
        [
         2006.35,
         12748,
         "2011-09-11"
        ],
        [
         2002.4,
         16754,
         "2010-12-02"
        ],
        [
         2002.3199999999997,
         16013,
         "2011-07-12"
        ],
        [
         2001.5300000000004,
         null,
         "2011-05-12"
        ],
        [
         2000.3300000000004,
         17672,
         "2011-10-20"
        ],
        [
         2000,
         14607,
         "2011-11-22"
        ],
        [
         1995.5600000000004,
         16717,
         "2011-11-16"
        ],
        [
         1992.9900000000007,
         13319,
         "2011-11-10"
        ],
        [
         1991.26,
         14298,
         "2011-02-24"
        ],
        [
         1990.0800000000017,
         14298,
         "2011-02-17"
        ],
        [
         1987.6200000000001,
         17381,
         "2011-02-04"
        ],
        [
         1983.4600000000007,
         16253,
         "2011-10-04"
        ],
        [
         1978.3799999999997,
         18172,
         "2011-02-23"
        ],
        [
         1976.5799999999997,
         16705,
         "2011-10-31"
        ],
        [
         1975,
         15769,
         "2011-11-09"
        ],
        [
         1974,
         14156,
         "2011-10-10"
        ],
        [
         1971,
         17949,
         "2011-05-09"
        ],
        [
         1966.66,
         15311,
         "2011-06-21"
        ],
        [
         1965.7400000000002,
         13815,
         "2011-06-20"
        ],
        [
         1961.05,
         13113,
         "2011-05-22"
        ],
        [
         1948.92,
         13694,
         "2011-06-30"
        ],
        [
         1948.5599999999997,
         13098,
         "2011-05-11"
        ],
        [
         1947.3799999999999,
         13098,
         "2011-11-10"
        ],
        [
         1946.6799999999998,
         14646,
         "2011-09-08"
        ],
        [
         1944,
         17949,
         "2011-12-08"
        ],
        [
         1943.1300000000015,
         17728,
         "2011-10-05"
        ],
        [
         1939.52,
         12678,
         "2011-06-05"
        ],
        [
         1939.0300000000004,
         14911,
         "2011-05-16"
        ],
        [
         1938.7500000000005,
         17061,
         "2011-04-21"
        ],
        [
         1936.5899999999995,
         12906,
         "2011-09-22"
        ],
        [
         1935.8999999999994,
         14286,
         "2011-11-16"
        ],
        [
         1933.2000000000003,
         12939,
         "2011-01-09"
        ],
        [
         1932.24,
         13209,
         "2011-04-26"
        ],
        [
         1920.48,
         16333,
         "2011-03-04"
        ],
        [
         1919.1400000000008,
         12433,
         "2010-12-01"
        ],
        [
         1919.0400000000002,
         12939,
         "2011-03-11"
        ],
        [
         1914.26,
         16013,
         "2011-08-12"
        ],
        [
         1914.2400000000002,
         18102,
         "2010-12-09"
        ],
        [
         1912.7999999999997,
         13199,
         "2011-10-28"
        ],
        [
         1912.06,
         14258,
         "2011-09-11"
        ],
        [
         1910.4,
         16532,
         "2011-01-05"
        ],
        [
         1909.6200000000001,
         16210,
         "2011-11-25"
        ],
        [
         1909.36,
         12931,
         "2011-10-03"
        ],
        [
         1900.0199999999998,
         16843,
         "2011-06-16"
        ],
        [
         1899.7300000000007,
         14911,
         "2011-07-19"
        ],
        [
         1899.6100000000001,
         17511,
         "2011-10-26"
        ],
        [
         1899.2800000000002,
         13089,
         "2011-07-21"
        ],
        [
         1897.1599999999999,
         13881,
         "2011-10-04"
        ],
        [
         1897.04,
         14005,
         "2011-11-30"
        ],
        [
         1896.7200000000003,
         17450,
         "2011-10-24"
        ],
        [
         1896.1300000000003,
         12749,
         "2011-08-01"
        ],
        [
         1894.01,
         16240,
         "2011-11-15"
        ],
        [
         1893.0800000000006,
         14895,
         "2011-09-09"
        ],
        [
         1885.1,
         16180,
         "2011-07-17"
        ],
        [
         1883.6000000000001,
         16029,
         "2011-06-28"
        ],
        [
         1881.86,
         12613,
         "2011-10-13"
        ],
        [
         1879.52,
         13408,
         "2011-05-16"
        ],
        [
         1878.8299999999995,
         14911,
         "2011-11-28"
        ],
        [
         1873.6200000000001,
         13139,
         "2011-09-28"
        ],
        [
         1870.9900000000016,
         null,
         "2011-06-03"
        ],
        [
         1870.1999999999998,
         12444,
         "2011-06-21"
        ],
        [
         1869.36,
         17949,
         "2011-09-02"
        ],
        [
         1867.9800000000002,
         12433,
         "2010-12-08"
        ],
        [
         1866.3000000000002,
         16210,
         "2011-02-03"
        ],
        [
         1866.0200000000004,
         16767,
         "2011-01-27"
        ],
        [
         1862.6999999999998,
         16126,
         "2011-08-30"
        ],
        [
         1862,
         14887,
         "2011-09-21"
        ],
        [
         1860.9800000000005,
         15159,
         "2010-12-13"
        ],
        [
         1855.7799999999997,
         17581,
         "2011-09-22"
        ],
        [
         1854.8300000000002,
         16873,
         "2011-12-05"
        ],
        [
         1852.68,
         16013,
         "2011-12-02"
        ],
        [
         1846.2899999999997,
         15159,
         "2011-10-03"
        ],
        [
         1845.1200000000003,
         16333,
         "2011-04-13"
        ],
        [
         1838.9100000000005,
         12359,
         "2011-02-07"
        ],
        [
         1837.9199999999996,
         14459,
         "2011-07-07"
        ],
        [
         1835.5999999999997,
         17809,
         "2011-10-14"
        ],
        [
         1835.0100000000002,
         15299,
         "2010-12-02"
        ],
        [
         1833.6900000000003,
         13090,
         "2011-11-08"
        ],
        [
         1832.6199999999988,
         13001,
         "2011-02-16"
        ],
        [
         1830.02,
         14733,
         "2010-12-07"
        ],
        [
         1829.04,
         16152,
         "2011-03-16"
        ],
        [
         1827.36,
         16029,
         "2011-05-17"
        ],
        [
         1825.74,
         17511,
         "2010-12-01"
        ],
        [
         1825.2500000000005,
         14911,
         "2011-03-14"
        ],
        [
         1824.7900000000006,
         16240,
         "2011-09-23"
        ],
        [
         1821.6,
         16013,
         "2011-09-02"
        ],
        [
         1820.170000000001,
         14277,
         "2011-11-24"
        ],
        [
         1819.5700000000027,
         12748,
         "2011-11-23"
        ],
        [
         1815.28,
         17677,
         "2011-05-11"
        ],
        [
         1810.5100000000004,
         13505,
         "2011-09-28"
        ],
        [
         1809.6,
         16210,
         "2011-11-09"
        ],
        [
         1807.04,
         14646,
         "2011-03-30"
        ],
        [
         1802.2899999999997,
         13523,
         "2011-05-24"
        ],
        [
         1799.5500000000006,
         null,
         "2011-05-11"
        ],
        [
         1798.3900000000006,
         14911,
         "2011-09-20"
        ],
        [
         1794.1000000000004,
         15513,
         "2011-03-11"
        ],
        [
         1794.0500000000004,
         12406,
         "2011-11-17"
        ],
        [
         1790,
         16986,
         "2011-11-10"
        ],
        [
         1784.7099999999998,
         14935,
         "2011-02-15"
        ],
        [
         1780.6200000000001,
         18139,
         "2011-11-22"
        ],
        [
         1780.5900000000001,
         16380,
         "2011-10-09"
        ],
        [
         1780.46,
         16013,
         "2011-10-03"
        ],
        [
         1778.5000000000002,
         14258,
         "2011-07-11"
        ],
        [
         1776.2200000000003,
         12921,
         "2011-11-30"
        ],
        [
         1773.65,
         16182,
         "2011-09-28"
        ],
        [
         1771.3600000000004,
         15786,
         "2011-10-24"
        ],
        [
         1764.7199999999998,
         16751,
         "2011-11-09"
        ],
        [
         1761.26,
         17230,
         "2010-12-15"
        ],
        [
         1761.1800000000005,
         15498,
         "2011-01-20"
        ],
        [
         1761,
         14936,
         "2011-10-05"
        ],
        [
         1760.9599999999998,
         12424,
         "2011-06-30"
        ],
        [
         1758.3200000000002,
         14944,
         "2011-09-23"
        ],
        [
         1757.55,
         12349,
         "2011-11-21"
        ],
        [
         1754.97,
         16422,
         "2011-06-22"
        ],
        [
         1752.0600000000002,
         17450,
         "2011-07-12"
        ],
        [
         1750.46,
         12476,
         "2011-11-24"
        ],
        [
         1748.930000000001,
         null,
         "2011-09-12"
        ],
        [
         1745.6900000000003,
         null,
         "2011-02-18"
        ],
        [
         1742.8,
         15769,
         "2011-05-23"
        ],
        [
         1735.5299999999997,
         13209,
         "2011-11-09"
        ],
        [
         1734.5800000000002,
         12731,
         "2011-07-18"
        ],
        [
         1733.8500000000001,
         16422,
         "2011-05-23"
        ],
        [
         1730.84,
         15159,
         "2011-12-05"
        ],
        [
         1730.7699999999995,
         12757,
         "2011-10-06"
        ],
        [
         1729.3500000000004,
         17677,
         "2011-07-20"
        ],
        [
         1724.8,
         16180,
         "2011-08-31"
        ],
        [
         1722.9,
         16210,
         "2010-12-16"
        ],
        [
         1722.3200000000013,
         null,
         "2011-08-09"
        ],
        [
         1722.0199999999993,
         13098,
         "2011-04-06"
        ],
        [
         1718.4,
         12798,
         "2011-10-26"
        ],
        [
         1716.62,
         12625,
         "2011-01-24"
        ],
        [
         1716.3999999999999,
         14298,
         "2010-12-20"
        ],
        [
         1715.8500000000004,
         12539,
         "2011-01-10"
        ],
        [
         1714.9599999999998,
         13763,
         "2011-10-07"
        ],
        [
         1714.2500000000005,
         14031,
         "2010-12-02"
        ],
        [
         1713.1800000000017,
         null,
         "2011-08-05"
        ],
        [
         1711.0600000000006,
         15502,
         "2011-03-09"
        ],
        [
         1710.3900000000006,
         12405,
         "2011-07-14"
        ],
        [
         1708.68,
         14062,
         "2011-08-19"
        ],
        [
         1708.2400000000002,
         15947,
         "2011-09-18"
        ],
        [
         1706.88,
         16902,
         "2011-08-15"
        ],
        [
         1705.6499999999994,
         14911,
         "2010-12-03"
        ],
        [
         1702.9399999999998,
         14306,
         "2011-09-15"
        ],
        [
         1700.3999999999996,
         16253,
         "2011-03-29"
        ],
        [
         1697.98,
         12473,
         "2011-10-17"
        ],
        [
         1696.7199999999998,
         13694,
         "2011-08-18"
        ],
        [
         1696.3999999999999,
         12931,
         "2011-02-15"
        ],
        [
         1695.2100000000005,
         17107,
         "2011-03-06"
        ],
        [
         1695.12,
         14733,
         "2010-12-13"
        ],
        [
         1695,
         16013,
         "2010-12-16"
        ],
        [
         1693.8800000000003,
         12764,
         "2011-01-27"
        ],
        [
         1693.5,
         15032,
         "2011-03-28"
        ],
        [
         1692.9699999999993,
         null,
         "2011-03-09"
        ],
        [
         1692,
         16182,
         "2011-05-20"
        ],
        [
         1689.1200000000001,
         17340,
         "2010-12-20"
        ],
        [
         1688.6500000000008,
         15311,
         "2011-04-04"
        ],
        [
         1688.500000000002,
         null,
         "2011-03-10"
        ],
        [
         1685.1200000000003,
         null,
         "2011-04-07"
        ],
        [
         1683.8999999999996,
         12455,
         "2011-02-16"
        ],
        [
         1682.2900000000004,
         17581,
         "2011-11-06"
        ],
        [
         1681.54,
         13098,
         "2011-12-08"
        ],
        [
         1680.8799999999999,
         14680,
         "2010-12-03"
        ],
        [
         1672.4,
         14911,
         "2011-08-11"
        ],
        [
         1672.080000000001,
         null,
         "2011-09-29"
        ],
        [
         1668.2,
         16422,
         "2010-12-05"
        ],
        [
         1667.8000000000002,
         13767,
         "2011-11-10"
        ],
        [
         1660.44,
         13334,
         "2011-02-07"
        ],
        [
         1658.9,
         17133,
         "2011-09-13"
        ],
        [
         1656.15,
         13344,
         "2011-03-07"
        ],
        [
         1654.3100000000002,
         15150,
         "2011-08-22"
        ],
        [
         1652.8,
         15482,
         "2011-11-03"
        ],
        [
         1652.2700000000002,
         14062,
         "2011-01-20"
        ],
        [
         1650.0999999999992,
         12567,
         "2011-06-13"
        ],
        [
         1649.58,
         15061,
         "2011-03-23"
        ],
        [
         1648.8700000000003,
         13881,
         "2011-06-23"
        ],
        [
         1648.73,
         15311,
         "2011-07-26"
        ],
        [
         1643.2000000000005,
         17679,
         "2011-09-15"
        ],
        [
         1642.5,
         17949,
         "2011-04-27"
        ],
        [
         1642.5,
         17949,
         "2011-03-02"
        ],
        [
         1638.6800000000005,
         15980,
         "2011-09-12"
        ],
        [
         1638.3400000000001,
         15782,
         "2011-09-11"
        ],
        [
         1637.43,
         14277,
         "2011-05-11"
        ],
        [
         1636.52,
         15484,
         "2011-09-22"
        ],
        [
         1635.6599999999999,
         12398,
         "2011-10-25"
        ],
        [
         1632.6299999999999,
         13694,
         "2011-10-25"
        ],
        [
         1631.3000000000009,
         12472,
         "2010-12-05"
        ],
        [
         1623.92,
         17857,
         "2011-11-03"
        ],
        [
         1623,
         15769,
         "2011-05-26"
        ],
        [
         1622.88,
         14156,
         "2011-10-17"
        ],
        [
         1622.48,
         13316,
         "2011-03-30"
        ],
        [
         1622.41,
         13089,
         "2011-03-31"
        ],
        [
         1621.25,
         12406,
         "2011-06-09"
        ],
        [
         1615.8,
         15622,
         "2011-04-28"
        ],
        [
         1612.8300000000002,
         18079,
         "2011-04-15"
        ],
        [
         1611.1099999999994,
         15513,
         "2011-07-26"
        ],
        [
         1609.4400000000003,
         16553,
         "2010-12-14"
        ],
        [
         1608.6599999999994,
         12578,
         "2011-01-13"
        ],
        [
         1607.0399999999997,
         12798,
         "2011-06-22"
        ],
        [
         1603,
         13798,
         "2011-01-05"
        ],
        [
         1602.4200000000003,
         14911,
         "2011-11-17"
        ],
        [
         1600.5700000000008,
         null,
         "2011-05-18"
        ],
        [
         1599.6900000000005,
         15311,
         "2011-08-18"
        ],
        [
         1599.55,
         16081,
         "2011-09-13"
        ],
        [
         1598.97,
         17677,
         "2011-08-31"
        ],
        [
         1598.06,
         15332,
         "2010-12-05"
        ],
        [
         1595.4799999999996,
         13850,
         "2011-08-02"
        ],
        [
         1592.6100000000001,
         17686,
         "2011-02-10"
        ],
        [
         1592.1200000000001,
         14031,
         "2011-09-26"
        ],
        [
         1590.82,
         12370,
         "2010-12-14"
        ],
        [
         1590.0500000000006,
         13555,
         "2011-05-22"
        ],
        [
         1588.8400000000004,
         15321,
         "2011-09-30"
        ],
        [
         1588.7499999999998,
         14911,
         "2011-10-19"
        ],
        [
         1588.16,
         16652,
         "2011-03-11"
        ],
        [
         1585.94,
         16705,
         "2011-07-18"
        ],
        [
         1585.9199999999998,
         16705,
         "2011-09-02"
        ],
        [
         1583.2399999999996,
         13015,
         "2011-10-17"
        ],
        [
         1582.1000000000001,
         15764,
         "2011-08-24"
        ],
        [
         1581.85,
         16180,
         "2011-06-22"
        ],
        [
         1579.7600000000002,
         16705,
         "2011-05-16"
        ],
        [
         1579.51,
         12607,
         "2011-10-10"
        ],
        [
         1578.6899999999996,
         14156,
         "2011-08-17"
        ],
        [
         1576.36,
         14936,
         "2011-03-09"
        ],
        [
         1575.7899999999995,
         14911,
         "2011-10-11"
        ],
        [
         1575.3200000000002,
         null,
         "2011-07-14"
        ],
        [
         1574.52,
         17924,
         "2011-10-03"
        ],
        [
         1573.810000000002,
         null,
         "2011-01-27"
        ],
        [
         1573.2,
         17949,
         "2011-06-03"
        ],
        [
         1573.1900000000005,
         13081,
         "2011-02-24"
        ],
        [
         1573.1000000000013,
         null,
         "2011-08-01"
        ],
        [
         1572.7300000000005,
         14156,
         "2011-08-05"
        ],
        [
         1571.32,
         15856,
         "2010-12-09"
        ],
        [
         1570.1900000000005,
         12758,
         "2011-03-08"
        ],
        [
         1568.6199999999992,
         17511,
         "2010-12-07"
        ],
        [
         1568.4,
         15903,
         "2011-09-30"
        ],
        [
         1565.0300000000009,
         null,
         "2011-09-14"
        ],
        [
         1564.5500000000002,
         16180,
         "2011-05-13"
        ],
        [
         1562.4,
         17450,
         "2011-12-01"
        ],
        [
         1561.0900000000004,
         13901,
         "2011-07-04"
        ],
        [
         1560.3400000000001,
         13881,
         "2011-05-10"
        ],
        [
         1552.6000000000006,
         17686,
         "2011-08-11"
        ],
        [
         1551.2999999999988,
         12567,
         "2011-11-17"
        ],
        [
         1549.79,
         null,
         "2011-07-29"
        ],
        [
         1547.5800000000002,
         14329,
         "2011-01-14"
        ],
        [
         1547.2,
         16333,
         "2011-12-02"
        ],
        [
         1546.3399999999995,
         null,
         "2011-04-12"
        ],
        [
         1543.0000000000002,
         14156,
         "2011-05-16"
        ],
        [
         1542.08,
         12818,
         "2011-03-23"
        ],
        [
         1541.9800000000002,
         15311,
         "2011-06-02"
        ],
        [
         1541.1599999999999,
         14258,
         "2011-05-24"
        ],
        [
         1538.4099999999996,
         18242,
         "2011-09-28"
        ],
        [
         1538.31,
         14235,
         "2011-07-05"
        ],
        [
         1536.8500000000001,
         15727,
         "2010-12-15"
        ],
        [
         1536,
         13027,
         "2011-08-18"
        ],
        [
         1535.2399999999998,
         17139,
         "2011-09-12"
        ],
        [
         1534.9700000000005,
         14298,
         "2011-04-19"
        ],
        [
         1534.3,
         12949,
         "2011-04-01"
        ],
        [
         1532.7600000000002,
         17675,
         "2011-07-20"
        ],
        [
         1528.3400000000004,
         13013,
         "2010-12-03"
        ],
        [
         1527.9600000000003,
         12371,
         "2011-10-11"
        ],
        [
         1526.92,
         12567,
         "2010-12-05"
        ],
        [
         1524.77,
         13365,
         "2011-11-06"
        ],
        [
         1522.3100000000002,
         15531,
         "2011-11-09"
        ],
        [
         1521.1,
         13694,
         "2011-01-28"
        ],
        [
         1520.11,
         13680,
         "2011-01-06"
        ],
        [
         1519.9899999999989,
         13869,
         "2011-08-08"
        ],
        [
         1519.8,
         12901,
         "2011-09-19"
        ],
        [
         1518,
         14298,
         "2011-03-29"
        ],
        [
         1516.68,
         12637,
         "2011-01-20"
        ],
        [
         1515.42,
         13089,
         "2011-08-02"
        ],
        [
         1514.7999999999993,
         null,
         "2011-08-26"
        ],
        [
         1514.4199999999998,
         12748,
         "2011-09-30"
        ],
        [
         1514.17,
         13316,
         "2011-11-02"
        ],
        [
         1513.9499999999998,
         12471,
         "2010-12-17"
        ],
        [
         1510.3600000000001,
         15290,
         "2011-10-28"
        ],
        [
         1506.94,
         13340,
         "2011-10-25"
        ],
        [
         1505.6399999999996,
         13694,
         "2011-08-04"
        ],
        [
         1499.339999999999,
         17850,
         "2010-12-01"
        ],
        [
         1498.6599999999999,
         12433,
         "2011-10-27"
        ],
        [
         1498.0900000000004,
         null,
         "2011-06-06"
        ],
        [
         1497.52,
         12731,
         "2011-11-16"
        ],
        [
         1495.370000000001,
         null,
         "2011-08-03"
        ],
        [
         1495.2,
         15797,
         "2011-02-08"
        ],
        [
         1494.0000000000002,
         16684,
         "2011-11-04"
        ],
        [
         1491.59,
         12876,
         "2011-10-13"
        ],
        [
         1491.4600000000003,
         15379,
         "2010-12-16"
        ],
        [
         1490.88,
         16029,
         "2011-03-25"
        ],
        [
         1489.1800000000007,
         13458,
         "2011-01-06"
        ],
        [
         1488.16,
         17381,
         "2011-07-11"
        ],
        [
         1488,
         12931,
         "2011-04-14"
        ],
        [
         1487.6,
         17553,
         "2011-08-02"
        ],
        [
         1485.78,
         15640,
         "2010-12-13"
        ],
        [
         1485.7700000000004,
         null,
         "2011-07-01"
        ],
        [
         1485.7200000000003,
         18092,
         "2010-12-09"
        ],
        [
         1485.2000000000014,
         null,
         "2011-10-05"
        ],
        [
         1484.4,
         17381,
         "2011-05-06"
        ],
        [
         1482.4300000000012,
         null,
         "2011-09-22"
        ],
        [
         1481.0900000000001,
         14733,
         "2011-01-11"
        ],
        [
         1480.7099999999998,
         14680,
         "2011-01-06"
        ],
        [
         1480.1999999999998,
         14156,
         "2011-02-23"
        ],
        [
         1477.5599999999997,
         14016,
         "2011-03-15"
        ],
        [
         1476.2200000000007,
         15665,
         "2011-04-10"
        ],
        [
         1476.1899999999998,
         12700,
         "2011-10-05"
        ],
        [
         1475.44,
         12678,
         "2011-08-31"
        ],
        [
         1472.2200000000003,
         15189,
         "2011-08-18"
        ],
        [
         1472,
         15299,
         "2011-10-03"
        ],
        [
         1471.2500000000005,
         16652,
         "2011-08-22"
        ],
        [
         1466.1399999999999,
         17511,
         "2011-04-20"
        ],
        [
         1465.0000000000002,
         14292,
         "2011-07-17"
        ],
        [
         1463.6399999999996,
         16609,
         "2011-11-24"
        ],
        [
         1463.4700000000005,
         13722,
         "2011-03-02"
        ],
        [
         1462.4499999999998,
         16258,
         "2011-10-25"
        ],
        [
         1459.76,
         13881,
         "2011-11-22"
        ],
        [
         1458.44,
         null,
         "2011-09-05"
        ],
        [
         1454.5800000000006,
         null,
         "2011-10-27"
        ],
        [
         1452.35,
         15065,
         "2011-06-28"
        ],
        [
         1452.16,
         14911,
         "2011-08-26"
        ],
        [
         1449.8800000000003,
         null,
         "2011-02-16"
        ],
        [
         1445.79,
         18079,
         "2011-10-25"
        ],
        [
         1444.8,
         12668,
         "2011-03-25"
        ],
        [
         1444.6599999999999,
         17511,
         "2011-04-12"
        ],
        [
         1444.14,
         17686,
         "2011-05-23"
        ],
        [
         1440.9599999999998,
         16652,
         "2011-05-11"
        ],
        [
         1440.9000000000005,
         13437,
         "2011-06-02"
        ],
        [
         1440,
         13027,
         "2010-12-20"
        ],
        [
         1439.2300000000002,
         13694,
         "2011-04-13"
        ],
        [
         1437.5000000000002,
         15159,
         "2011-11-21"
        ],
        [
         1437.12,
         17133,
         "2011-06-02"
        ],
        [
         1436.9300000000005,
         12762,
         "2011-12-02"
        ],
        [
         1436.73,
         17706,
         "2011-10-10"
        ],
        [
         1436.4899999999998,
         14936,
         "2011-08-23"
        ],
        [
         1435.1,
         16013,
         "2011-01-07"
        ],
        [
         1434.24,
         17949,
         "2011-10-28"
        ],
        [
         1432.9,
         16133,
         "2011-05-03"
        ],
        [
         1432,
         14566,
         "2011-08-21"
        ],
        [
         1431.2800000000002,
         13694,
         "2011-01-13"
        ],
        [
         1430.75,
         12653,
         "2011-07-14"
        ],
        [
         1429.9,
         14298,
         "2011-01-07"
        ],
        [
         1425.96,
         17338,
         "2011-11-22"
        ],
        [
         1421.6699999999998,
         15194,
         "2011-11-08"
        ],
        [
         1420.98,
         14062,
         "2011-04-14"
        ],
        [
         1418.4800000000002,
         16549,
         "2011-11-29"
        ],
        [
         1417.4599999999998,
         17581,
         "2011-08-22"
        ],
        [
         1416.9800000000007,
         12748,
         "2010-12-10"
        ],
        [
         1416,
         14031,
         "2011-10-03"
        ],
        [
         1415.9700000000003,
         13174,
         "2010-12-05"
        ],
        [
         1414.99,
         16497,
         "2011-10-21"
        ],
        [
         1414.64,
         16843,
         "2011-09-05"
        ],
        [
         1414.3600000000006,
         14911,
         "2011-05-18"
        ],
        [
         1413.99,
         16210,
         "2011-05-03"
        ],
        [
         1413.7299999999996,
         14911,
         "2011-11-15"
        ],
        [
         1411.6699999999998,
         12476,
         "2011-04-19"
        ],
        [
         1410.26,
         15694,
         "2011-10-04"
        ],
        [
         1409,
         15971,
         "2011-10-18"
        ],
        [
         1408.7,
         17677,
         "2011-03-30"
        ],
        [
         1407.8999999999999,
         16705,
         "2011-04-12"
        ],
        [
         1407.86,
         14646,
         "2011-03-25"
        ],
        [
         1407.1900000000005,
         14911,
         "2011-04-01"
        ],
        [
         1405.1999999999998,
         15903,
         "2011-11-11"
        ],
        [
         1397.3199999999997,
         16873,
         "2011-10-09"
        ],
        [
         1396,
         18102,
         "2011-03-03"
        ],
        [
         1394.5800000000002,
         15159,
         "2011-08-19"
        ],
        [
         1393.56,
         17937,
         "2010-12-12"
        ],
        [
         1393.4799999999998,
         15251,
         "2011-06-14"
        ],
        [
         1393.06,
         17354,
         "2011-10-20"
        ],
        [
         1392,
         14646,
         "2011-05-25"
        ],
        [
         1390.06,
         15311,
         "2011-03-01"
        ],
        [
         1389.0500000000002,
         18223,
         "2011-10-31"
        ],
        [
         1388.92,
         14257,
         "2011-08-08"
        ],
        [
         1385.9999999999998,
         17381,
         "2011-09-01"
        ],
        [
         1385.4000000000003,
         null,
         "2011-04-05"
        ],
        [
         1385.04,
         15640,
         "2011-08-07"
        ],
        [
         1384.25,
         13572,
         "2011-05-18"
        ],
        [
         1383.68,
         16985,
         "2011-11-22"
        ],
        [
         1382.8799999999999,
         16671,
         "2011-06-28"
        ],
        [
         1381.92,
         13488,
         "2010-12-07"
        ],
        [
         1381.3,
         12731,
         "2011-05-11"
        ],
        [
         1380.4,
         13089,
         "2011-02-14"
        ],
        [
         1380.1099999999997,
         12540,
         "2011-05-04"
        ],
        [
         1378.4800000000007,
         14842,
         "2011-06-01"
        ],
        [
         1377.5499999999993,
         12626,
         "2011-10-06"
        ],
        [
         1376.52,
         16029,
         "2011-02-04"
        ],
        [
         1376.4299999999998,
         12472,
         "2011-10-19"
        ],
        [
         1375.2399999999996,
         14952,
         "2011-10-11"
        ],
        [
         1375.2399999999996,
         15416,
         "2011-03-02"
        ],
        [
         1374.4599999999998,
         13093,
         "2011-01-06"
        ],
        [
         1373.9899999999998,
         15061,
         "2011-01-10"
        ],
        [
         1373.46,
         16422,
         "2011-05-18"
        ],
        [
         1372.1000000000001,
         13798,
         "2011-10-07"
        ],
        [
         1371.6,
         14258,
         "2011-11-30"
        ],
        [
         1368.4,
         12967,
         "2010-12-03"
        ],
        [
         1368.1599999999999,
         14298,
         "2011-04-21"
        ],
        [
         1366.9099999999999,
         17082,
         "2011-11-06"
        ]
       ],
       "datasetInfos": [],
       "dbfsResultPath": null,
       "isJsonSchema": true,
       "metadata": {},
       "overflow": true,
       "plotOptions": {
        "customPlotOptions": {},
        "displayType": "table",
        "pivotAggregation": null,
        "pivotColumns": null,
        "xColumns": null,
        "yColumns": null
       },
       "removedWidgets": [],
       "schema": [
        {
         "metadata": "{}",
         "name": "sum(total_cost)",
         "type": "\"double\""
        },
        {
         "metadata": "{}",
         "name": "CustomerId",
         "type": "\"double\""
        },
        {
         "metadata": "{}",
         "name": "Invoice_date",
         "type": "\"date\""
        }
       ],
       "type": "table"
      }
     },
     "output_type": "display_data"
    }
   ],
   "source": [
    "%sql\n",
    "\n",
    "SELECT\n",
    "sum(total_cost),\n",
    "CustomerId,\n",
    "to_date(InvoiceDate) AS Invoice_date\n",
    "FROM\n",
    "(SELECT\n",
    "CustomerId,\n",
    "(UnitPrice * Quantity) as total_cost,\n",
    "InvoiceDate\n",
    "FROM\n",
    "retail_data)\n",
    "GROUP BY\n",
    "CustomerId,to_date(InvoiceDate)\n",
    "ORDER By\n",
    "sum(total_cost) DESC"
   ]
  },
  {
   "cell_type": "markdown",
   "metadata": {
    "application/vnd.databricks.v1+cell": {
     "inputWidgets": {},
     "nuid": "ca3d61ac-2d7f-42a9-922d-1f25f6396638",
     "showTitle": false,
     "title": ""
    }
   },
   "source": [
    "That’s the static DataFrame version. To make this as **streaming** use **readstream** instead of **read**\n",
    "\n",
    "We are also using **maxFilesPerTrigger** which simply specifies the number of file we should read in at once. This is to make\n",
    "our demonstration more “streaming” and in a production scenario this would be omitted.\n",
    "\n",
    "The number of partitions that should be created after a shuffle, by default the value is **200** but since there aren’t many executors on my local machine it’s worth reducing this to **five**."
   ]
  },
  {
   "cell_type": "code",
   "execution_count": 0,
   "metadata": {
    "application/vnd.databricks.v1+cell": {
     "inputWidgets": {},
     "nuid": "89e31fd2-3fda-409b-a39d-524618ed55f1",
     "showTitle": false,
     "title": ""
    }
   },
   "outputs": [
    {
     "data": {
      "text/html": [
       "<style scoped>\n",
       "  .ansiout {\n",
       "    display: block;\n",
       "    unicode-bidi: embed;\n",
       "    white-space: pre-wrap;\n",
       "    word-wrap: break-word;\n",
       "    word-break: break-all;\n",
       "    font-family: \"Source Code Pro\", \"Menlo\", monospace;;\n",
       "    font-size: 13px;\n",
       "    color: #555;\n",
       "    margin-left: 4px;\n",
       "    line-height: 19px;\n",
       "  }\n",
       "</style>\n",
       "<div class=\"ansiout\"></div>"
      ]
     },
     "metadata": {
      "application/vnd.databricks.v1+output": {
       "addedWidgets": {},
       "arguments": {},
       "data": "<div class=\"ansiout\"></div>",
       "datasetInfos": [
        {
         "name": "streamingDataFrame",
         "schema": {
          "fields": [
           {
            "metadata": {},
            "name": "InvoiceNo",
            "nullable": true,
            "type": "string"
           },
           {
            "metadata": {},
            "name": "StockCode",
            "nullable": true,
            "type": "string"
           },
           {
            "metadata": {},
            "name": "Description",
            "nullable": true,
            "type": "string"
           },
           {
            "metadata": {},
            "name": "Quantity",
            "nullable": true,
            "type": "integer"
           },
           {
            "metadata": {},
            "name": "InvoiceDate",
            "nullable": true,
            "type": "timestamp"
           },
           {
            "metadata": {},
            "name": "UnitPrice",
            "nullable": true,
            "type": "double"
           },
           {
            "metadata": {},
            "name": "CustomerID",
            "nullable": true,
            "type": "double"
           },
           {
            "metadata": {},
            "name": "Country",
            "nullable": true,
            "type": "string"
           }
          ],
          "type": "struct"
         },
         "tableIdentifier": null,
         "typeStr": "pyspark.sql.dataframe.DataFrame"
        }
       ],
       "metadata": {},
       "removedWidgets": [],
       "type": "html"
      }
     },
     "output_type": "display_data"
    }
   ],
   "source": [
    "spark.conf.set(\"spark.sql.shuffle.partitions\", \"5\")\n",
    "\n",
    "streamingDataFrame = spark.readStream\\\n",
    "                    .schema(staticSchema)\\\n",
    "                    .option(\"maxFilesPerTrigger\",1)\\\n",
    "                    .format(\"csv\")\\\n",
    "                    .option(\"header\",\"true\")\\\n",
    "                    .load(\"/FileStore/tables/retail-data/by-day/*.csv\")"
   ]
  },
  {
   "cell_type": "markdown",
   "metadata": {
    "application/vnd.databricks.v1+cell": {
     "inputWidgets": {},
     "nuid": "c1d0d33c-f016-452f-b3c9-97858342ee63",
     "showTitle": false,
     "title": ""
    }
   },
   "source": [
    "Now we can see the DataFrame is streaming **streamingDataFrame.isStreaming // returns true**\n",
    "\n",
    "This is still a lazy operation, so we need to call streaming action to start the execution flow. So we will run the same query. It is expected Spark will only read in **one file at a time**."
   ]
  },
  {
   "cell_type": "code",
   "execution_count": 0,
   "metadata": {
    "application/vnd.databricks.v1+cell": {
     "inputWidgets": {},
     "nuid": "e94f3982-3150-436a-b985-c66c81cdc665",
     "showTitle": false,
     "title": ""
    }
   },
   "outputs": [
    {
     "data": {
      "text/html": [
       "<style scoped>\n",
       "  .ansiout {\n",
       "    display: block;\n",
       "    unicode-bidi: embed;\n",
       "    white-space: pre-wrap;\n",
       "    word-wrap: break-word;\n",
       "    word-break: break-all;\n",
       "    font-family: \"Source Code Pro\", \"Menlo\", monospace;;\n",
       "    font-size: 13px;\n",
       "    color: #555;\n",
       "    margin-left: 4px;\n",
       "    line-height: 19px;\n",
       "  }\n",
       "</style>\n",
       "<div class=\"ansiout\">Out[38]: True</div>"
      ]
     },
     "metadata": {
      "application/vnd.databricks.v1+output": {
       "addedWidgets": {},
       "arguments": {},
       "data": "<div class=\"ansiout\">Out[38]: True</div>",
       "datasetInfos": [],
       "metadata": {},
       "removedWidgets": [],
       "type": "html"
      }
     },
     "output_type": "display_data"
    }
   ],
   "source": [
    "streamingDataFrame.isStreaming"
   ]
  },
  {
   "cell_type": "code",
   "execution_count": 0,
   "metadata": {
    "application/vnd.databricks.v1+cell": {
     "inputWidgets": {},
     "nuid": "5af548b9-f968-42a7-819e-763b505aebc1",
     "showTitle": false,
     "title": ""
    }
   },
   "outputs": [
    {
     "data": {
      "text/html": [
       "<style scoped>\n",
       "  .ansiout {\n",
       "    display: block;\n",
       "    unicode-bidi: embed;\n",
       "    white-space: pre-wrap;\n",
       "    word-wrap: break-word;\n",
       "    word-break: break-all;\n",
       "    font-family: \"Source Code Pro\", \"Menlo\", monospace;;\n",
       "    font-size: 13px;\n",
       "    color: #555;\n",
       "    margin-left: 4px;\n",
       "    line-height: 19px;\n",
       "  }\n",
       "</style>\n",
       "<div class=\"ansiout\"></div>"
      ]
     },
     "metadata": {
      "application/vnd.databricks.v1+output": {
       "addedWidgets": {},
       "arguments": {},
       "data": "<div class=\"ansiout\"></div>",
       "datasetInfos": [
        {
         "name": "purchaseByCustomerPerHour",
         "schema": {
          "fields": [
           {
            "metadata": {},
            "name": "CustomerId",
            "nullable": true,
            "type": "double"
           },
           {
            "metadata": {},
            "name": "window",
            "nullable": false,
            "type": {
             "fields": [
              {
               "metadata": {},
               "name": "start",
               "nullable": true,
               "type": "timestamp"
              },
              {
               "metadata": {},
               "name": "end",
               "nullable": true,
               "type": "timestamp"
              }
             ],
             "type": "struct"
            }
           },
           {
            "metadata": {},
            "name": "sum(total_cost)",
            "nullable": true,
            "type": "double"
           }
          ],
          "type": "struct"
         },
         "tableIdentifier": null,
         "typeStr": "pyspark.sql.dataframe.DataFrame"
        }
       ],
       "metadata": {},
       "removedWidgets": [],
       "type": "html"
      }
     },
     "output_type": "display_data"
    }
   ],
   "source": [
    "purchaseByCustomerPerHour = streamingDataFrame\\\n",
    "                            .selectExpr(\n",
    "                            \"CustomerId\",\n",
    "                            \"(UnitPrice * Quantity) as total_cost\",\n",
    "                            \"InvoiceDate\")\\\n",
    "                            .groupBy(col(\"CustomerId\"),window(col(\"InvoiceDate\"),\"1 day\"))\\\n",
    "                            .sum(\"total_cost\")"
   ]
  },
  {
   "cell_type": "markdown",
   "metadata": {
    "application/vnd.databricks.v1+cell": {
     "inputWidgets": {},
     "nuid": "e015ca1a-69e3-4035-8a0c-fba55e50a56c",
     "showTitle": false,
     "title": ""
    }
   },
   "source": [
    "Now let’s kick off the stream! We’ll write it out to an in-memory table that we will update after each trigger. In this\n",
    "case, each trigger is based on an individual file (the read option that we set). Spark will mutate the data in the inmemory\n",
    "table such that we will always have the highest value."
   ]
  },
  {
   "cell_type": "code",
   "execution_count": 0,
   "metadata": {
    "application/vnd.databricks.v1+cell": {
     "inputWidgets": {},
     "nuid": "a5a25036-c052-4d11-951d-d455c5098492",
     "showTitle": false,
     "title": ""
    }
   },
   "outputs": [
    {
     "data": {
      "text/html": [
       "<style scoped>\n",
       "  .ansiout {\n",
       "    display: block;\n",
       "    unicode-bidi: embed;\n",
       "    white-space: pre-wrap;\n",
       "    word-wrap: break-word;\n",
       "    word-break: break-all;\n",
       "    font-family: \"Source Code Pro\", \"Menlo\", monospace;;\n",
       "    font-size: 13px;\n",
       "    color: #555;\n",
       "    margin-left: 4px;\n",
       "    line-height: 19px;\n",
       "  }\n",
       "</style>\n",
       "java.net.NoRouteToHostException: No route to host\n",
       "\tat sun.nio.ch.SocketChannelImpl.checkConnect(Native Method)\n",
       "\tat sun.nio.ch.SocketChannelImpl.finishConnect(SocketChannelImpl.java:714)\n",
       "\tat shaded.v9_4.org.eclipse.jetty.io.SelectorManager.doFinishConnect(SelectorManager.java:355)\n",
       "\tat shaded.v9_4.org.eclipse.jetty.io.ManagedSelector.processConnect(ManagedSelector.java:232)\n",
       "\tat shaded.v9_4.org.eclipse.jetty.io.ManagedSelector.access$1400(ManagedSelector.java:62)\n",
       "\tat shaded.v9_4.org.eclipse.jetty.io.ManagedSelector$SelectorProducer.processSelected(ManagedSelector.java:543)\n",
       "\tat shaded.v9_4.org.eclipse.jetty.io.ManagedSelector$SelectorProducer.produce(ManagedSelector.java:401)\n",
       "\tat shaded.v9_4.org.eclipse.jetty.util.thread.strategy.EatWhatYouKill.produceTask(EatWhatYouKill.java:360)\n",
       "\tat shaded.v9_4.org.eclipse.jetty.util.thread.strategy.EatWhatYouKill.doProduce(EatWhatYouKill.java:184)\n",
       "\tat shaded.v9_4.org.eclipse.jetty.util.thread.strategy.EatWhatYouKill.tryProduce(EatWhatYouKill.java:171)\n",
       "\tat shaded.v9_4.org.eclipse.jetty.util.thread.strategy.EatWhatYouKill.run(EatWhatYouKill.java:129)\n",
       "\tat shaded.v9_4.org.eclipse.jetty.util.thread.ReservedThreadExecutor$ReservedThread.run(ReservedThreadExecutor.java:367)\n",
       "\tat shaded.v9_4.org.eclipse.jetty.util.thread.QueuedThreadPool.runJob(QueuedThreadPool.java:782)\n",
       "\tat shaded.v9_4.org.eclipse.jetty.util.thread.QueuedThreadPool$Runner.run(QueuedThreadPool.java:914)\n",
       "\tat java.lang.Thread.run(Thread.java:748)"
      ]
     },
     "metadata": {
      "application/vnd.databricks.v1+output": {
       "arguments": {},
       "data": "java.net.NoRouteToHostException: No route to host\n\tat sun.nio.ch.SocketChannelImpl.checkConnect(Native Method)\n\tat sun.nio.ch.SocketChannelImpl.finishConnect(SocketChannelImpl.java:714)\n\tat shaded.v9_4.org.eclipse.jetty.io.SelectorManager.doFinishConnect(SelectorManager.java:355)\n\tat shaded.v9_4.org.eclipse.jetty.io.ManagedSelector.processConnect(ManagedSelector.java:232)\n\tat shaded.v9_4.org.eclipse.jetty.io.ManagedSelector.access$1400(ManagedSelector.java:62)\n\tat shaded.v9_4.org.eclipse.jetty.io.ManagedSelector$SelectorProducer.processSelected(ManagedSelector.java:543)\n\tat shaded.v9_4.org.eclipse.jetty.io.ManagedSelector$SelectorProducer.produce(ManagedSelector.java:401)\n\tat shaded.v9_4.org.eclipse.jetty.util.thread.strategy.EatWhatYouKill.produceTask(EatWhatYouKill.java:360)\n\tat shaded.v9_4.org.eclipse.jetty.util.thread.strategy.EatWhatYouKill.doProduce(EatWhatYouKill.java:184)\n\tat shaded.v9_4.org.eclipse.jetty.util.thread.strategy.EatWhatYouKill.tryProduce(EatWhatYouKill.java:171)\n\tat shaded.v9_4.org.eclipse.jetty.util.thread.strategy.EatWhatYouKill.run(EatWhatYouKill.java:129)\n\tat shaded.v9_4.org.eclipse.jetty.util.thread.ReservedThreadExecutor$ReservedThread.run(ReservedThreadExecutor.java:367)\n\tat shaded.v9_4.org.eclipse.jetty.util.thread.QueuedThreadPool.runJob(QueuedThreadPool.java:782)\n\tat shaded.v9_4.org.eclipse.jetty.util.thread.QueuedThreadPool$Runner.run(QueuedThreadPool.java:914)\n\tat java.lang.Thread.run(Thread.java:748)\n",
       "errorSummary": "Internal error, sorry. Attach your notebook to a different cluster or restart the current cluster.",
       "errorTraceType": null,
       "metadata": {},
       "type": "ipynbError"
      }
     },
     "output_type": "display_data"
    }
   ],
   "source": [
    "purchaseByCustomerPerHour.writeStream\\\n",
    "                        .format(\"memory\")\\\n",
    "                        .queryName(\"customer_purchases\")\\\n",
    "                        .outputMode(\"complete\")\\\n",
    "                        .start()"
   ]
  },
  {
   "cell_type": "markdown",
   "metadata": {
    "application/vnd.databricks.v1+cell": {
     "inputWidgets": {},
     "nuid": "252cd46a-a5ca-4c91-9a7c-efc6d041ebe7",
     "showTitle": false,
     "title": ""
    }
   },
   "source": [
    "Now we can run queries against this table. Note to take a minute before doing so, this will allow the values to change\n",
    "over time."
   ]
  },
  {
   "cell_type": "code",
   "execution_count": 0,
   "metadata": {
    "application/vnd.databricks.v1+cell": {
     "inputWidgets": {},
     "nuid": "0ea95247-d2a7-4f18-8832-168b4fa8adf4",
     "showTitle": false,
     "title": ""
    }
   },
   "outputs": [
    {
     "data": {
      "text/html": [
       "<style scoped>\n",
       "  .ansiout {\n",
       "    display: block;\n",
       "    unicode-bidi: embed;\n",
       "    white-space: pre-wrap;\n",
       "    word-wrap: break-word;\n",
       "    word-break: break-all;\n",
       "    font-family: \"Source Code Pro\", \"Menlo\", monospace;;\n",
       "    font-size: 13px;\n",
       "    color: #555;\n",
       "    margin-left: 4px;\n",
       "    line-height: 19px;\n",
       "  }\n",
       "</style>\n",
       "<div class=\"ansiout\">Out[41]: [Row(CustomerId=17576.0, window=Row(start=datetime.datetime(2010, 12, 13, 0, 0), end=datetime.datetime(2010, 12, 14, 0, 0)), sum(total_cost)=177.35000000000002),\n",
       " Row(CustomerId=16250.0, window=Row(start=datetime.datetime(2010, 12, 1, 0, 0), end=datetime.datetime(2010, 12, 2, 0, 0)), sum(total_cost)=226.14),\n",
       " Row(CustomerId=14594.0, window=Row(start=datetime.datetime(2010, 12, 1, 0, 0), end=datetime.datetime(2010, 12, 2, 0, 0)), sum(total_cost)=254.99999999999997),\n",
       " Row(CustomerId=15899.0, window=Row(start=datetime.datetime(2010, 12, 6, 0, 0), end=datetime.datetime(2010, 12, 7, 0, 0)), sum(total_cost)=56.25),\n",
       " Row(CustomerId=14850.0, window=Row(start=datetime.datetime(2010, 12, 7, 0, 0), end=datetime.datetime(2010, 12, 8, 0, 0)), sum(total_cost)=-47.6)]</div>"
      ]
     },
     "metadata": {
      "application/vnd.databricks.v1+output": {
       "addedWidgets": {},
       "arguments": {},
       "data": "<div class=\"ansiout\">Out[41]: [Row(CustomerId=17576.0, window=Row(start=datetime.datetime(2010, 12, 13, 0, 0), end=datetime.datetime(2010, 12, 14, 0, 0)), sum(total_cost)=177.35000000000002),\n Row(CustomerId=16250.0, window=Row(start=datetime.datetime(2010, 12, 1, 0, 0), end=datetime.datetime(2010, 12, 2, 0, 0)), sum(total_cost)=226.14),\n Row(CustomerId=14594.0, window=Row(start=datetime.datetime(2010, 12, 1, 0, 0), end=datetime.datetime(2010, 12, 2, 0, 0)), sum(total_cost)=254.99999999999997),\n Row(CustomerId=15899.0, window=Row(start=datetime.datetime(2010, 12, 6, 0, 0), end=datetime.datetime(2010, 12, 7, 0, 0)), sum(total_cost)=56.25),\n Row(CustomerId=14850.0, window=Row(start=datetime.datetime(2010, 12, 7, 0, 0), end=datetime.datetime(2010, 12, 8, 0, 0)), sum(total_cost)=-47.6)]</div>",
       "datasetInfos": [],
       "metadata": {},
       "removedWidgets": [],
       "type": "html"
      }
     },
     "output_type": "display_data"
    }
   ],
   "source": [
    "spark.sql(\"SELECT * FROM customer_purchases\\\n",
    "          ORDER BY 'sum(total_cost)' DESC\")\\\n",
    "          .take(5)"
   ]
  },
  {
   "cell_type": "markdown",
   "metadata": {
    "application/vnd.databricks.v1+cell": {
     "inputWidgets": {},
     "nuid": "b8f55d47-2f7a-4139-898f-19aa364c85f3",
     "showTitle": false,
     "title": ""
    }
   },
   "source": [
    "You’ll notice that as we read in more data - the composition of our table changes! With each file the results may or\n",
    "may not be changing based on the data. Since we’re grouping customers we hope to see an increase in the\n",
    "top customer purchase amounts over time"
   ]
  },
  {
   "cell_type": "markdown",
   "metadata": {
    "application/vnd.databricks.v1+cell": {
     "inputWidgets": {},
     "nuid": "7a44c0fe-e506-4293-8003-04a1fd116fa4",
     "showTitle": false,
     "title": ""
    }
   },
   "source": [
    "## STRUCTURED API OVERVIEW\n",
    "\n",
    "Structured APIs are a way of manipulating all sorts of data, from unstructured log files, to semi-structured CSV files, and highly structured Parquet files. \n",
    "These APIs refer to three core types of distributed collection APIs.\n",
    "\n",
    "* Datasets\n",
    "* DataFrames\n",
    "* SQL Views and Tables"
   ]
  },
  {
   "cell_type": "markdown",
   "metadata": {
    "application/vnd.databricks.v1+cell": {
     "inputWidgets": {},
     "nuid": "ef5a67d7-19be-40c2-9d05-736855bdc539",
     "showTitle": false,
     "title": ""
    }
   },
   "source": [
    "The way we store data on which to perform transformations and actions are DataFrames and Datasets. \n",
    "\n",
    "\n",
    "* To create a new DataFrame or Dataset, we call a **transformation**.\n",
    "* To start computation or convert to native language types, we call an **action**.\n",
    "* DataFrames and Datasets are (distributed) table like collections with well-defined rows and columns. Both are **immutable** and **lazily-evaluated**\n",
    "* Each column must have the same number of rows as all the other columns (although you can use null to specify the lack of a value) and columns have type information that must be consistent for every row in the collection"
   ]
  },
  {
   "cell_type": "markdown",
   "metadata": {
    "application/vnd.databricks.v1+cell": {
     "inputWidgets": {},
     "nuid": "2a891207-b039-4b0a-952c-bb627ee4145e",
     "showTitle": false,
     "title": ""
    }
   },
   "source": [
    "###### Structured SPARK Types\n",
    "* Spark is effectively a programming language of its own. It use **Catalyst Optimizer** to effectively execute the code. \n",
    "* Spark types map directlyto the different language APIs that Spark maintains and there exists a lookup table for each of these in each of Scala,Java, Python, SQL, and R.\n",
    "    * Even if we use Spark’s Structured APIs from Python/R, the majority of our manipulations will operate strictly on Spark types, not   Python types. \n",
    "    For example, the below code does not perform addition in Scala or Python, it actually performs addition purely in Spark."
   ]
  },
  {
   "cell_type": "code",
   "execution_count": 0,
   "metadata": {
    "application/vnd.databricks.v1+cell": {
     "inputWidgets": {},
     "nuid": "a15829e8-6911-4add-9e85-52b29905c8d9",
     "showTitle": false,
     "title": ""
    }
   },
   "outputs": [
    {
     "data": {
      "text/html": [
       "<style scoped>\n",
       "  .ansiout {\n",
       "    display: block;\n",
       "    unicode-bidi: embed;\n",
       "    white-space: pre-wrap;\n",
       "    word-wrap: break-word;\n",
       "    word-break: break-all;\n",
       "    font-family: \"Source Code Pro\", \"Menlo\", monospace;;\n",
       "    font-size: 13px;\n",
       "    color: #555;\n",
       "    margin-left: 4px;\n",
       "    line-height: 19px;\n",
       "  }\n",
       "</style>\n",
       "<div class=\"ansiout\">Out[42]: DataFrame[(number + 10): bigint]</div>"
      ]
     },
     "metadata": {
      "application/vnd.databricks.v1+output": {
       "addedWidgets": {},
       "arguments": {},
       "data": "<div class=\"ansiout\">Out[42]: DataFrame[(number + 10): bigint]</div>",
       "datasetInfos": [
        {
         "name": "df",
         "schema": {
          "fields": [
           {
            "metadata": {},
            "name": "number",
            "nullable": false,
            "type": "long"
           }
          ],
          "type": "struct"
         },
         "tableIdentifier": null,
         "typeStr": "pyspark.sql.dataframe.DataFrame"
        }
       ],
       "metadata": {},
       "removedWidgets": [],
       "type": "html"
      }
     },
     "output_type": "display_data"
    }
   ],
   "source": [
    "df = spark.range(1000).toDF(\"number\")\n",
    "df.select(df[\"number\"]+10)"
   ]
  },
  {
   "cell_type": "code",
   "execution_count": 0,
   "metadata": {
    "application/vnd.databricks.v1+cell": {
     "inputWidgets": {},
     "nuid": "a2f3143e-3a0e-4e7c-b9c2-ae40fb0da1c2",
     "showTitle": false,
     "title": ""
    }
   },
   "outputs": [],
   "source": [
    "from pyspark.sql.types import "
   ]
  },
  {
   "cell_type": "markdown",
   "metadata": {
    "application/vnd.databricks.v1+cell": {
     "inputWidgets": {},
     "nuid": "44d2cbcb-1301-46d0-a895-ea950dad07df",
     "showTitle": false,
     "title": ""
    }
   },
   "source": [
    "This addition operation happens because Spark will convert an expression expressed in an input language to Spark’s\n",
    "internal Catalyst representation of that same type information."
   ]
  },
  {
   "cell_type": "markdown",
   "metadata": {
    "application/vnd.databricks.v1+cell": {
     "inputWidgets": {},
     "nuid": "521d3933-af48-4462-88d8-e078356392f6",
     "showTitle": false,
     "title": ""
    }
   },
   "source": [
    "###### DataFrame Vs DataSet\n",
    "* DataFrames are **untyped** by definition, but they have types internally but Spark maintains them completely and only checks whether those types line up to those specified in the schema at runtime\n",
    "* DataSets check whether or not **types** conform to the specification at compile time. Datasets are only available to JVM based languages (Scala and Java) and we specify types with case classes or Java beans.\n",
    "* To Spark in Scala, DataFrames are simply Datasets of Type Row. \n",
    "\n",
    "**The “Row” type is Spark’s internal representation of its optimized in memory format for computation. This format makes for highly specialized and efficient computation because rather than leveraging JVM types which can cause high garbage collection and object instantiation costs, Spark can operate on its own internal format without incurring any of those costs**."
   ]
  },
  {
   "cell_type": "markdown",
   "metadata": {
    "application/vnd.databricks.v1+cell": {
     "inputWidgets": {},
     "nuid": "d843d4b2-aded-452f-addc-fae65a90e192",
     "showTitle": false,
     "title": ""
    }
   },
   "source": [
    "#### Structured API Execution\n",
    "\n",
    "The execution of a single structured API query from user code to executed code in following steps.\n",
    "1. Write DataFrame/Dataset/SQL Code\n",
    "2. If valid code, Spark converts this to a **Logical Plan**\n",
    "3. Spark transforms this Logical Plan to a **Physical Plan**\n",
    "4. Spark then executes this Physical Plan on the cluster\n",
    "\n",
    "![Catalyst-Optimizer-diagram](https://databricks.com/wp-content/uploads/2018/05/Catalyst-Optimizer-diagram.png)\n",
    "<br/>\n",
    "<br/>\n",
    "\n",
    "\n",
    "written code is submitted to Spark either through the console or via a submitted job.This code then passes through the **Catalyst Optimizer** which decides how the code should be executed and lays out a plan for doing so, before finally the code is run and the result is returned to the user.\n",
    "\n",
    "###### Logical Planning\n",
    "* This logical plan only represents a set of abstract transformations that do not refer to executors or drivers, it’s purely to convert the user’s set of expressions into the most optimized version.\n",
    "* It does this by converting user code into an unresolved logical plan. This unresolved because while your code may be valid, the tables or columns that it refers to may or may not exist. \n",
    "* Spark uses the catalog, a repository of all table and DataFrame information, in order to resolve columns and tables in the analyzer. The analyzer may reject the unresolved logical plan if it the required table or column name does not exist in the catalog. \n",
    "* If it can resolve it, this result is passed through the optimizer, a collection of rules, which attempts to optimize the logical plan by **pushing down predicates or selections**.\n",
    "\n",
    "###### Physical Planning\n",
    "* The physical plan, often called a Spark plan, specifies how the logical plan will execute on the cluster by generating different physical execution strategies and comparing them through a cost model.  \n",
    "  * An example of the cost comparison might be choosing how to perform a given join by looking at the physical attributes of a given table (how big the table is or how big its partitions are.)\n",
    "* Physical planning results in a series of RDDs and transformations.\n",
    "\n",
    "###### Execution\n",
    "* Upon selecting a physical plan, Spark runs all of this code over RDDs, the lower-level programming interface of Spark.\n",
    "* Spark performs further optimizations by, at runtime, generating native Java Bytecode that can remove whole tasks or stages during execution. Finally the result is returned to the user."
   ]
  },
  {
   "cell_type": "markdown",
   "metadata": {
    "application/vnd.databricks.v1+cell": {
     "inputWidgets": {},
     "nuid": "a14c1771-cded-41ef-b083-62489afa2a41",
     "showTitle": false,
     "title": ""
    }
   },
   "source": [
    "# Basic Structure Operations\n",
    "###### Schemas\n",
    "* schema defines the column names and types of a DataFrame. \n",
    "* Users can define schemas manually or users can read a schema from a data source (often called schema on read)\n",
    "\n",
    "###### Partitioning\n",
    "* The partitioning of the DataFrame defines the layout of the DataFrame or Dataset’s physical distribution across the cluster.\n",
    "* The partitioning scheme defines how that is broken up, this can be set to be based on values in a certain column or non-deterministically."
   ]
  },
  {
   "cell_type": "code",
   "execution_count": 2,
   "metadata": {
    "application/vnd.databricks.v1+cell": {
     "inputWidgets": {},
     "nuid": "7e039bab-bec4-4d4b-b9e2-00753a3a7757",
     "showTitle": false,
     "title": ""
    }
   },
   "outputs": [
    {
     "name": "stdout",
     "output_type": "stream",
     "text": [
      "root\n",
      " |-- DEST_COUNTRY_NAME: string (nullable = true)\n",
      " |-- ORIGIN_COUNTRY_NAME: string (nullable = true)\n",
      " |-- count: long (nullable = true)\n",
      "\n"
     ]
    },
    {
     "name": "stderr",
     "output_type": "stream",
     "text": [
      "\r",
      "[Stage 0:>                                                          (0 + 1) / 1]\r",
      "\r",
      "                                                                                \r"
     ]
    }
   ],
   "source": [
    "df = spark.read.format(\"json\")\\\n",
    "      .load(\"data/2015-summary.json\")\n",
    "df.printSchema()"
   ]
  },
  {
   "cell_type": "markdown",
   "metadata": {
    "application/vnd.databricks.v1+cell": {
     "inputWidgets": {},
     "nuid": "f90823a6-fb1f-4a5a-a19a-000696c477a9",
     "showTitle": false,
     "title": ""
    }
   },
   "source": [
    "When using Spark for production ETL, it is often a good idea to define your schemas manually, especially when working with untyped data sources like csv and json because schema inference can vary depending on the type of data that you read in.\n",
    "\n",
    "A schema is a \n",
    "* **StructType** made up of a number of fields\n",
    "* **StructFields**, that have a name, type, and a boolean flag which specifies whether or not that column can contain missing or null values. Schemas can also contain other StructType (Spark’s complex types)."
   ]
  },
  {
   "cell_type": "code",
   "execution_count": 22,
   "metadata": {
    "application/vnd.databricks.v1+cell": {
     "inputWidgets": {},
     "nuid": "a10c8595-fdc8-49ea-a46b-3ea435f744c7",
     "showTitle": false,
     "title": ""
    }
   },
   "outputs": [
    {
     "name": "stdout",
     "output_type": "stream",
     "text": [
      "+-----------------+-------------------+-----+\n",
      "|DEST_COUNTRY_NAME|ORIGIN_COUNTRY_NAME|count|\n",
      "+-----------------+-------------------+-----+\n",
      "|    United States|            Romania|   15|\n",
      "|    United States|            Croatia|    1|\n",
      "|    United States|            Ireland|  344|\n",
      "+-----------------+-------------------+-----+\n",
      "only showing top 3 rows\n",
      "\n"
     ]
    }
   ],
   "source": [
    "from pyspark.sql.types import StructField, StructType, StringType, LongType\n",
    "from pyspark import SparkFiles\n",
    "\n",
    "myManualSchema = StructType([\n",
    "  StructField(\"DEST_COUNTRY_NAME\",StringType(),True),\n",
    "  StructField(\"ORIGIN_COUNTRY_NAME\",StringType(),True),\n",
    "  StructField(\"count\",LongType(),False)\n",
    "])\n",
    "\n",
    "\n",
    "df = spark.read.format(\"json\")\\\n",
    "      .schema(myManualSchema)\\\n",
    "      .load('data/2015-summary.json')\n",
    "\n",
    "df.show(3)"
   ]
  },
  {
   "cell_type": "code",
   "execution_count": 33,
   "metadata": {},
   "outputs": [
    {
     "data": {
      "text/plain": [
       "Row(DEST_COUNTRY_NAME='United States', ORIGIN_COUNTRY_NAME='Romania', count=15)"
      ]
     },
     "execution_count": 33,
     "metadata": {},
     "output_type": "execute_result"
    }
   ],
   "source": [
    "from pyspark.sql.functions import col, column\n",
    "col('someColumnName')\n",
    "column('someColumnName')\n",
    "\n",
    "df.first()"
   ]
  },
  {
   "cell_type": "code",
   "execution_count": 42,
   "metadata": {
    "application/vnd.databricks.v1+cell": {
     "inputWidgets": {},
     "nuid": "2200e281-06f9-4fae-9592-91b512362cf6",
     "showTitle": false,
     "title": ""
    }
   },
   "outputs": [
    {
     "name": "stderr",
     "output_type": "stream",
     "text": [
      "\r",
      "[Stage 4:>                                                          (0 + 1) / 1]\r"
     ]
    },
    {
     "name": "stdout",
     "output_type": "stream",
     "text": [
      "+-----+----+-----+\n",
      "| some| col|names|\n",
      "+-----+----+-----+\n",
      "|Hello|null|    1|\n",
      "+-----+----+-----+\n",
      "\n"
     ]
    },
    {
     "name": "stderr",
     "output_type": "stream",
     "text": [
      "\r",
      "                                                                                \r"
     ]
    }
   ],
   "source": [
    "from pyspark.sql import Row\n",
    "from pyspark.sql.types import StructField, StructType,StringType, LongType\n",
    "\n",
    "myManualSchema = StructType([\n",
    "  StructField(\"some\",StringType(),True),\n",
    "  StructField(\"col\",StringType(),True),\n",
    "  StructField(\"names\",LongType(),False)\n",
    "])\n",
    "\n",
    "myRow = Row(\"Hello\", None, 1)\n",
    "myDf = spark.createDataFrame([myRow], myManualSchema)\n",
    "myDf.show()"
   ]
  },
  {
   "cell_type": "code",
   "execution_count": 43,
   "metadata": {
    "application/vnd.databricks.v1+cell": {
     "inputWidgets": {},
     "nuid": "74b12b8d-0ebd-4936-b7ec-df7e8fc8eed7",
     "showTitle": false,
     "title": ""
    }
   },
   "outputs": [
    {
     "data": {
      "text/plain": [
       "['some', 'col', 'names']"
      ]
     },
     "execution_count": 43,
     "metadata": {},
     "output_type": "execute_result"
    }
   ],
   "source": [
    "myDf.columns"
   ]
  },
  {
   "cell_type": "code",
   "execution_count": 45,
   "metadata": {},
   "outputs": [
    {
     "name": "stdout",
     "output_type": "stream",
     "text": [
      "+--------------------+-------------------+-----+\n",
      "|   DEST_COUNTRY_NAME|ORIGIN_COUNTRY_NAME|count|\n",
      "+--------------------+-------------------+-----+\n",
      "|       United States|            Romania|   15|\n",
      "|       United States|            Croatia|    1|\n",
      "|       United States|            Ireland|  344|\n",
      "|               Egypt|      United States|   15|\n",
      "|       United States|              India|   62|\n",
      "|       United States|          Singapore|    1|\n",
      "|       United States|            Grenada|   62|\n",
      "|          Costa Rica|      United States|  588|\n",
      "|             Senegal|      United States|   40|\n",
      "|             Moldova|      United States|    1|\n",
      "|       United States|       Sint Maarten|  325|\n",
      "|       United States|   Marshall Islands|   39|\n",
      "|              Guyana|      United States|   64|\n",
      "|               Malta|      United States|    1|\n",
      "|            Anguilla|      United States|   41|\n",
      "|             Bolivia|      United States|   30|\n",
      "|       United States|           Paraguay|    6|\n",
      "|             Algeria|      United States|    4|\n",
      "|Turks and Caicos ...|      United States|  230|\n",
      "|       United States|          Gibraltar|    1|\n",
      "+--------------------+-------------------+-----+\n",
      "only showing top 20 rows\n",
      "\n"
     ]
    }
   ],
   "source": [
    "# create dataframe\n",
    "df = spark.read.format('json').load('data/2015-summary.json')\n",
    "df.createOrReplaceTempView('dfTable')\n",
    "df.show()"
   ]
  },
  {
   "cell_type": "markdown",
   "metadata": {
    "application/vnd.databricks.v1+cell": {
     "inputWidgets": {},
     "nuid": "621cba4b-bb85-4576-ab38-9892d0f5acc0",
     "showTitle": false,
     "title": ""
    }
   },
   "source": [
    "USE\n",
    "* **select** method when you’re working with columns or expressions \n",
    "* **selectExpr** method when you’re working with expressions in strings."
   ]
  },
  {
   "cell_type": "code",
   "execution_count": 46,
   "metadata": {
    "application/vnd.databricks.v1+cell": {
     "inputWidgets": {},
     "nuid": "b25e9b52-3316-4ff7-8b6c-015f6c76fe00",
     "showTitle": false,
     "title": ""
    }
   },
   "outputs": [
    {
     "name": "stdout",
     "output_type": "stream",
     "text": [
      "+-----------------+-------------------+\n",
      "|DEST_COUNTRY_NAME|ORIGIN_COUNTRY_NAME|\n",
      "+-----------------+-------------------+\n",
      "|    United States|            Romania|\n",
      "|    United States|            Croatia|\n",
      "+-----------------+-------------------+\n",
      "only showing top 2 rows\n",
      "\n"
     ]
    }
   ],
   "source": [
    "df.select(\"DEST_COUNTRY_NAME\",\"ORIGIN_COUNTRY_NAME\").show(2)"
   ]
  },
  {
   "cell_type": "code",
   "execution_count": 54,
   "metadata": {},
   "outputs": [
    {
     "name": "stdout",
     "output_type": "stream",
     "text": [
      "+-------------+-----------------+-----------------+\n",
      "|       pupupu|DEST_COUNTRY_NAME|DEST_COUNTRY_NAME|\n",
      "+-------------+-----------------+-----------------+\n",
      "|United States|    United States|    United States|\n",
      "|United States|    United States|    United States|\n",
      "+-------------+-----------------+-----------------+\n",
      "only showing top 2 rows\n",
      "\n"
     ]
    }
   ],
   "source": [
    "from pyspark.sql.functions import expr, col, column\n",
    "df.select(expr('DEST_COUNTRY_NAME as destination'), col('DEST_COUNTRY_NAME'), column('DEST_COUNTRY_NAME')).show(2)"
   ]
  },
  {
   "cell_type": "code",
   "execution_count": 55,
   "metadata": {},
   "outputs": [
    {
     "name": "stdout",
     "output_type": "stream",
     "text": [
      "+-------------+-----------------+\n",
      "|newColumnName|DEST_COUNTRY_NAME|\n",
      "+-------------+-----------------+\n",
      "|United States|    United States|\n",
      "|United States|    United States|\n",
      "+-------------+-----------------+\n",
      "only showing top 2 rows\n",
      "\n"
     ]
    }
   ],
   "source": [
    "df.selectExpr('DEST_COUNTRY_NAME as newColumnName', 'DEST_COUNTRY_NAME').show(2)"
   ]
  },
  {
   "cell_type": "code",
   "execution_count": 56,
   "metadata": {
    "application/vnd.databricks.v1+cell": {
     "inputWidgets": {},
     "nuid": "009ea071-c8a1-4b87-9ba1-f96be1a0673b",
     "showTitle": false,
     "title": ""
    }
   },
   "outputs": [
    {
     "name": "stdout",
     "output_type": "stream",
     "text": [
      "+-----------------+-------------------+-----+-------------+\n",
      "|DEST_COUNTRY_NAME|ORIGIN_COUNTRY_NAME|count|withinCountry|\n",
      "+-----------------+-------------------+-----+-------------+\n",
      "|    United States|            Romania|   15|        false|\n",
      "|    United States|            Croatia|    1|        false|\n",
      "+-----------------+-------------------+-----+-------------+\n",
      "only showing top 2 rows\n",
      "\n"
     ]
    }
   ],
   "source": [
    "df.selectExpr(\n",
    "\"*\", # all original columns\n",
    "\"(DEST_COUNTRY_NAME = ORIGIN_COUNTRY_NAME) as withinCountry\" )\\\n",
    ".show(2)"
   ]
  },
  {
   "cell_type": "code",
   "execution_count": 62,
   "metadata": {},
   "outputs": [
    {
     "name": "stdout",
     "output_type": "stream",
     "text": [
      "+-----------+---------------------------------+\n",
      "| avg(count)|count(DISTINCT DEST_COUNTRY_NAME)|\n",
      "+-----------+---------------------------------+\n",
      "|1770.765625|                              132|\n",
      "+-----------+---------------------------------+\n",
      "\n"
     ]
    }
   ],
   "source": [
    "df.selectExpr('avg(count)', 'count(distinct(DEST_COUNTRY_NAME))').show(2)"
   ]
  },
  {
   "cell_type": "code",
   "execution_count": 64,
   "metadata": {},
   "outputs": [
    {
     "name": "stdout",
     "output_type": "stream",
     "text": [
      "+-----------------+-------------------+-----+---+\n",
      "|DEST_COUNTRY_NAME|ORIGIN_COUNTRY_NAME|count|One|\n",
      "+-----------------+-------------------+-----+---+\n",
      "|    United States|            Romania|   15|  1|\n",
      "|    United States|            Croatia|    1|  1|\n",
      "+-----------------+-------------------+-----+---+\n",
      "only showing top 2 rows\n",
      "\n"
     ]
    }
   ],
   "source": [
    "# literals in spark\n",
    "from pyspark.sql.functions import lit\n",
    "\n",
    "df.select(expr('*'), lit(1).alias('One')).show(2)"
   ]
  },
  {
   "cell_type": "markdown",
   "metadata": {
    "application/vnd.databricks.v1+cell": {
     "inputWidgets": {},
     "nuid": "a1cf69fd-4aa1-412f-9c50-385677530540",
     "showTitle": false,
     "title": ""
    }
   },
   "source": [
    "###### DataFrame Transformations\n",
    "create DataFrames on the fly by taking a set of rows and converting them to a DataFrame."
   ]
  },
  {
   "cell_type": "markdown",
   "metadata": {
    "application/vnd.databricks.v1+cell": {
     "inputWidgets": {},
     "nuid": "bf34ca2a-1f5d-4975-99e2-dc4e6ddbdc4c",
     "showTitle": false,
     "title": ""
    }
   },
   "source": [
    "###### Adding Columns\n",
    "* new column can be added to a DataFrame using the **withColumn** method on DataFrame. \n",
    "* withColumn function takes two arguments: \n",
    "  * the column name and \n",
    "  * the expression that will create the value for that given row in the DataFrame"
   ]
  },
  {
   "cell_type": "code",
   "execution_count": 4,
   "metadata": {
    "application/vnd.databricks.v1+cell": {
     "inputWidgets": {},
     "nuid": "991e55b7-adb7-4892-8d03-65093c2b17db",
     "showTitle": false,
     "title": ""
    }
   },
   "outputs": [
    {
     "name": "stdout",
     "output_type": "stream",
     "text": [
      "+-----------------+-------------------+-----+---------+\n",
      "|DEST_COUNTRY_NAME|ORIGIN_COUNTRY_NAME|count|numberOne|\n",
      "+-----------------+-------------------+-----+---------+\n",
      "|    United States|            Romania|   15|        1|\n",
      "|    United States|            Croatia|    1|        1|\n",
      "+-----------------+-------------------+-----+---------+\n",
      "only showing top 2 rows\n",
      "\n"
     ]
    }
   ],
   "source": [
    "from pyspark.sql.functions import lit\n",
    "from pyspark.sql.functions import expr, col, column\n",
    "\n",
    "df.withColumn(\"numberOne\", lit(1)).show(2)"
   ]
  },
  {
   "cell_type": "code",
   "execution_count": 66,
   "metadata": {
    "application/vnd.databricks.v1+cell": {
     "inputWidgets": {},
     "nuid": "8f77dbd0-8590-40a7-a470-35eac3e23940",
     "showTitle": false,
     "title": ""
    }
   },
   "outputs": [
    {
     "name": "stdout",
     "output_type": "stream",
     "text": [
      "+-----------------+-------------------+-----+-------------+\n",
      "|DEST_COUNTRY_NAME|ORIGIN_COUNTRY_NAME|count|withinCountry|\n",
      "+-----------------+-------------------+-----+-------------+\n",
      "|    United States|            Romania|   15|        false|\n",
      "|    United States|            Croatia|    1|        false|\n",
      "+-----------------+-------------------+-----+-------------+\n",
      "only showing top 2 rows\n",
      "\n"
     ]
    }
   ],
   "source": [
    "df.withColumn(\n",
    "  \"withinCountry\",\n",
    "  expr(\"ORIGIN_COUNTRY_NAME == DEST_COUNTRY_NAME\"))\\\n",
    "  .show(2)"
   ]
  },
  {
   "cell_type": "markdown",
   "metadata": {
    "application/vnd.databricks.v1+cell": {
     "inputWidgets": {},
     "nuid": "602a0e8a-4fba-4caa-bbd6-4e28412badc0",
     "showTitle": false,
     "title": ""
    }
   },
   "source": [
    "###### Renaming Columns\n",
    "Using **withCOlumn** name works to rename the column, it’s often much easier (and readable) to use the **withColumnRenamed** method."
   ]
  },
  {
   "cell_type": "code",
   "execution_count": 67,
   "metadata": {
    "application/vnd.databricks.v1+cell": {
     "inputWidgets": {},
     "nuid": "18c729ff-4bfd-467f-90a7-13fb99e64b50",
     "showTitle": false,
     "title": ""
    }
   },
   "outputs": [
    {
     "data": {
      "text/plain": [
       "['dest', 'ORIGIN_COUNTRY_NAME', 'count']"
      ]
     },
     "execution_count": 67,
     "metadata": {},
     "output_type": "execute_result"
    }
   ],
   "source": [
    "df.withColumnRenamed(\"DEST_COUNTRY_NAME\", \"dest\").columns"
   ]
  },
  {
   "cell_type": "markdown",
   "metadata": {
    "application/vnd.databricks.v1+cell": {
     "inputWidgets": {},
     "nuid": "f97abbfd-b654-4e48-9994-8abf0ef87e98",
     "showTitle": false,
     "title": ""
    }
   },
   "source": [
    "###### Reserved Characters and Keywords in Column Names\n",
    "\n",
    "One thing that you may come across is reserved characters like spaces or dashes in column names. Handling these means escaping column names appropriately. In Spark this is done with backtick (‘) characters. \n",
    "\n",
    "Let’s use the withColumn that we just learned about to create a Column with reserved characters."
   ]
  },
  {
   "cell_type": "code",
   "execution_count": 70,
   "metadata": {
    "application/vnd.databricks.v1+cell": {
     "inputWidgets": {},
     "nuid": "0a64b2f8-c2b0-49de-b852-88783d745473",
     "showTitle": false,
     "title": ""
    }
   },
   "outputs": [
    {
     "name": "stdout",
     "output_type": "stream",
     "text": [
      "+---------------------+-------+\n",
      "|This Long Column-Name|new col|\n",
      "+---------------------+-------+\n",
      "|              Romania|Romania|\n",
      "|              Croatia|Croatia|\n",
      "+---------------------+-------+\n",
      "only showing top 2 rows\n",
      "\n"
     ]
    }
   ],
   "source": [
    "dfWithLongColName = df.withColumn(\"This Long Column-Name\",expr(\"ORIGIN_COUNTRY_NAME\"))\n",
    "dfWithLongColName.columns\n",
    "dfWithLongColName.selectExpr(\"`This Long Column-Name`\",\"`This Long Column-Name` as `new col`\").show(2)\n",
    "dfWithLongColName.createOrReplaceTempView(\"dfTableLong\")"
   ]
  },
  {
   "cell_type": "markdown",
   "metadata": {
    "application/vnd.databricks.v1+cell": {
     "inputWidgets": {},
     "nuid": "8ea87ebf-be4e-46c4-abce-c5c0d9f55684",
     "showTitle": false,
     "title": ""
    }
   },
   "source": [
    "###### Removing Columns\n",
    "\n",
    "we can remove columns using **select** method. However there is also a dedicated method called **drop**"
   ]
  },
  {
   "cell_type": "code",
   "execution_count": 74,
   "metadata": {
    "application/vnd.databricks.v1+cell": {
     "inputWidgets": {},
     "nuid": "ababe7fb-82c5-44f4-b1f4-ca496f66a31a",
     "showTitle": false,
     "title": ""
    }
   },
   "outputs": [
    {
     "data": {
      "text/plain": [
       "['count', 'This Long Column-Name']"
      ]
     },
     "execution_count": 74,
     "metadata": {},
     "output_type": "execute_result"
    }
   ],
   "source": [
    "dfWithLongColName.drop(\"ORIGIN_COUNTRY_NAME\", \"DEST_COUNTRY_NAME\").columns"
   ]
  },
  {
   "cell_type": "markdown",
   "metadata": {
    "application/vnd.databricks.v1+cell": {
     "inputWidgets": {},
     "nuid": "a688c4ed-2a08-47da-84f0-4cceafe232df",
     "showTitle": false,
     "title": ""
    }
   },
   "source": [
    "###### Changing a Column’s Type (cast)\n",
    "We can convert columns from one type to another by **casting** the column from one type to another.For instance let’s convert our count column from an integer to a Long type."
   ]
  },
  {
   "cell_type": "code",
   "execution_count": 5,
   "metadata": {
    "application/vnd.databricks.v1+cell": {
     "inputWidgets": {},
     "nuid": "b9da8f16-e13e-4aa8-8d80-beb389953a52",
     "showTitle": false,
     "title": ""
    }
   },
   "outputs": [
    {
     "name": "stdout",
     "output_type": "stream",
     "text": [
      "root\n",
      " |-- DEST_COUNTRY_NAME: string (nullable = true)\n",
      " |-- ORIGIN_COUNTRY_NAME: string (nullable = true)\n",
      " |-- count: long (nullable = true)\n",
      "\n",
      "root\n",
      " |-- DEST_COUNTRY_NAME: string (nullable = true)\n",
      " |-- ORIGIN_COUNTRY_NAME: string (nullable = true)\n",
      " |-- count: integer (nullable = true)\n",
      "\n"
     ]
    }
   ],
   "source": [
    "df.printSchema()\n",
    "df.withColumn(\"count\", col(\"count\").cast(\"int\")).printSchema()"
   ]
  },
  {
   "cell_type": "markdown",
   "metadata": {
    "application/vnd.databricks.v1+cell": {
     "inputWidgets": {},
     "nuid": "f72bd824-c423-4da6-8d6b-9c9e5bd85c1d",
     "showTitle": false,
     "title": ""
    }
   },
   "source": [
    "###### Filtering Rows\n",
    "There are two methods to perform this operation, we can use where or filter and they both will perform the same operation and accept the same argument types when used with DataFrames"
   ]
  },
  {
   "cell_type": "code",
   "execution_count": 19,
   "metadata": {
    "application/vnd.databricks.v1+cell": {
     "inputWidgets": {},
     "nuid": "741b23bc-38ca-4574-a01a-af456e1c26fc",
     "showTitle": false,
     "title": ""
    }
   },
   "outputs": [
    {
     "name": "stdout",
     "output_type": "stream",
     "text": [
      "+-----------------+-------------------+-----+\n",
      "|DEST_COUNTRY_NAME|ORIGIN_COUNTRY_NAME|count|\n",
      "+-----------------+-------------------+-----+\n",
      "|    United States|            Romania|   15|\n",
      "|          Morocco|      United States|   15|\n",
      "|    United States|             Latvia|   15|\n",
      "|           Angola|      United States|   15|\n",
      "+-----------------+-------------------+-----+\n",
      "\n"
     ]
    }
   ],
   "source": [
    "colCondition = df.filter(col(\"count\") < 2).take(2)\n",
    "conditional = df.where(\"count < 2\").take(2)\n",
    "\n",
    "df.where(col('count') == 15).where(col('DEST_COUNTRY_NAME') != 'Egypt').show()"
   ]
  },
  {
   "cell_type": "code",
   "execution_count": 21,
   "metadata": {},
   "outputs": [
    {
     "data": {
      "text/plain": [
       "125"
      ]
     },
     "execution_count": 21,
     "metadata": {},
     "output_type": "execute_result"
    }
   ],
   "source": [
    "df.select('ORIGIN_COUNTRY_NAME').distinct().count()"
   ]
  },
  {
   "cell_type": "code",
   "execution_count": 24,
   "metadata": {},
   "outputs": [
    {
     "name": "stdout",
     "output_type": "stream",
     "text": [
      "fish: Command substitutions not allowed\r\n",
      "help(df.sample())\r\n",
      "    ^\r\n"
     ]
    }
   ],
   "source": [
    "# random samples\n",
    "seed = 5\n",
    "withReplacement = False\n",
    "fraction = 0.5\n",
    "df.sample(withReplacement, fraction, seed).count()"
   ]
  },
  {
   "cell_type": "code",
   "execution_count": 45,
   "metadata": {},
   "outputs": [
    {
     "name": "stdout",
     "output_type": "stream",
     "text": [
      "+---+\n",
      "| id|\n",
      "+---+\n",
      "|  0|\n",
      "|  1|\n",
      "|  1|\n",
      "|  2|\n",
      "|  6|\n",
      "|  9|\n",
      "+---+\n",
      "\n"
     ]
    }
   ],
   "source": [
    "new_df = spark.range(10)\n",
    "new_df.sample(True, 0.5, 6).show()"
   ]
  },
  {
   "cell_type": "code",
   "execution_count": 54,
   "metadata": {},
   "outputs": [
    {
     "data": {
      "text/plain": [
       "185"
      ]
     },
     "execution_count": 54,
     "metadata": {},
     "output_type": "execute_result"
    }
   ],
   "source": [
    "# random splits\n",
    "dataFrames = df.randomSplit([0.25, 0.75], seed)\n",
    "dataFrames[0].count() # 71\n",
    "dataFrames[1].count() # 185"
   ]
  },
  {
   "cell_type": "code",
   "execution_count": 56,
   "metadata": {
    "application/vnd.databricks.v1+cell": {
     "inputWidgets": {},
     "nuid": "754e0895-db9f-40b0-a15c-bf1b1cc9360c",
     "showTitle": false,
     "title": ""
    }
   },
   "outputs": [],
   "source": [
    "# concatenating and appending rows (union)\n",
    "# since dataframes are immutable, we cannot append to DataFrame\n",
    "# rather, we need to union the original DataFrame along with the new DataFrame\n",
    "\n",
    "from pyspark.sql import Row\n",
    "\n",
    "# schema object\n",
    "schema = df.schema\n",
    "\n",
    "# new rows\n",
    "newRows = [Row(\"New Country\", \"Other Country\", 5), Row(\"New Country 2\", \"Other Country 3\", 1)]\n",
    "\n",
    "# parallelized rows\n",
    "parallelizedRows = spark.sparkContext.parallelize(newRows)\n",
    "\n",
    "# new dataframe (schema connected to parallelized rows)\n",
    "newDF = spark.createDataFrame(parallelizedRows, schema)"
   ]
  },
  {
   "cell_type": "code",
   "execution_count": 57,
   "metadata": {
    "application/vnd.databricks.v1+cell": {
     "inputWidgets": {},
     "nuid": "c240a335-4451-44db-b534-875f2e662b5a",
     "showTitle": false,
     "title": ""
    }
   },
   "outputs": [
    {
     "name": "stdout",
     "output_type": "stream",
     "text": [
      "+-----------------+-------------------+-----+\n",
      "|DEST_COUNTRY_NAME|ORIGIN_COUNTRY_NAME|count|\n",
      "+-----------------+-------------------+-----+\n",
      "|    United States|            Croatia|    1|\n",
      "|    United States|          Singapore|    1|\n",
      "|    United States|          Gibraltar|    1|\n",
      "|    United States|             Cyprus|    1|\n",
      "|    United States|            Estonia|    1|\n",
      "|    United States|          Lithuania|    1|\n",
      "|    United States|           Bulgaria|    1|\n",
      "|    United States|            Georgia|    1|\n",
      "|    United States|            Bahrain|    1|\n",
      "|    United States|   Papua New Guinea|    1|\n",
      "|    United States|         Montenegro|    1|\n",
      "|    United States|            Namibia|    1|\n",
      "|    New Country 2|    Other Country 3|    1|\n",
      "+-----------------+-------------------+-----+\n",
      "\n"
     ]
    },
    {
     "name": "stderr",
     "output_type": "stream",
     "text": [
      "\r",
      "[Stage 97:>                                                         (0 + 1) / 1]\r",
      "\r",
      "                                                                                \r"
     ]
    }
   ],
   "source": [
    "df.union(newDF)\\\n",
    "  .where(\"count = 1\")\\\n",
    "  .where(col(\"ORIGIN_COUNTRY_NAME\") != \"United States\")\\\n",
    "  .show()"
   ]
  },
  {
   "cell_type": "code",
   "execution_count": 60,
   "metadata": {},
   "outputs": [
    {
     "name": "stdout",
     "output_type": "stream",
     "text": [
      "+--------------------+-------------------+-----+\n",
      "|   DEST_COUNTRY_NAME|ORIGIN_COUNTRY_NAME|count|\n",
      "+--------------------+-------------------+-----+\n",
      "|               Malta|      United States|    1|\n",
      "|Saint Vincent and...|      United States|    1|\n",
      "|       United States|            Croatia|    1|\n",
      "|       United States|          Gibraltar|    1|\n",
      "|       United States|          Singapore|    1|\n",
      "+--------------------+-------------------+-----+\n",
      "only showing top 5 rows\n",
      "\n",
      "+-----------------+-------------------+-----+\n",
      "|DEST_COUNTRY_NAME|ORIGIN_COUNTRY_NAME|count|\n",
      "+-----------------+-------------------+-----+\n",
      "|     Burkina Faso|      United States|    1|\n",
      "|    Cote d'Ivoire|      United States|    1|\n",
      "|           Cyprus|      United States|    1|\n",
      "|         Djibouti|      United States|    1|\n",
      "|        Indonesia|      United States|    1|\n",
      "+-----------------+-------------------+-----+\n",
      "only showing top 5 rows\n",
      "\n",
      "+-----------------+-------------------+------+\n",
      "|DEST_COUNTRY_NAME|ORIGIN_COUNTRY_NAME| count|\n",
      "+-----------------+-------------------+------+\n",
      "|    United States|      United States|370002|\n",
      "|    United States|             Canada|  8483|\n",
      "|           Canada|      United States|  8399|\n",
      "|    United States|             Mexico|  7187|\n",
      "|           Mexico|      United States|  7140|\n",
      "+-----------------+-------------------+------+\n",
      "only showing top 5 rows\n",
      "\n"
     ]
    }
   ],
   "source": [
    "# sorting rows\n",
    "# sort and orderBy both work the same way\n",
    "df.sort('count').show(5)\n",
    "df.orderBy('count', 'DEST_COUNTRY_NAME').show(5)\n",
    "df.orderBy(col('count').desc(), col('DEST_COUNTRY_NAME')).show(5)"
   ]
  },
  {
   "cell_type": "markdown",
   "metadata": {
    "application/vnd.databricks.v1+cell": {
     "inputWidgets": {},
     "nuid": "59d8f397-410f-4703-ae66-0dd1782acc35",
     "showTitle": false,
     "title": ""
    }
   },
   "source": [
    "###### Limit\n",
    "Often times you may just want the top ten of some DataFrame. For example, you might want to only work with the top\n",
    "50 of some dataset. We do this with the limit method."
   ]
  },
  {
   "cell_type": "code",
   "execution_count": 65,
   "metadata": {
    "application/vnd.databricks.v1+cell": {
     "inputWidgets": {},
     "nuid": "e96bc995-b37e-44d4-9156-98bbfdccb7a1",
     "showTitle": false,
     "title": ""
    }
   },
   "outputs": [
    {
     "name": "stdout",
     "output_type": "stream",
     "text": [
      "+-----------------+-------------------+-----+\n",
      "|DEST_COUNTRY_NAME|ORIGIN_COUNTRY_NAME|count|\n",
      "+-----------------+-------------------+-----+\n",
      "|    United States|            Romania|   15|\n",
      "|    United States|            Croatia|    1|\n",
      "|    United States|            Ireland|  344|\n",
      "|            Egypt|      United States|   15|\n",
      "|    United States|              India|   62|\n",
      "+-----------------+-------------------+-----+\n",
      "\n",
      "+-----------------+-------------------+------+\n",
      "|DEST_COUNTRY_NAME|ORIGIN_COUNTRY_NAME| count|\n",
      "+-----------------+-------------------+------+\n",
      "|    United States|      United States|370002|\n",
      "|    United States|             Canada|  8483|\n",
      "|           Canada|      United States|  8399|\n",
      "|    United States|             Mexico|  7187|\n",
      "|           Mexico|      United States|  7140|\n",
      "|   United Kingdom|      United States|  2025|\n",
      "+-----------------+-------------------+------+\n",
      "\n"
     ]
    }
   ],
   "source": [
    "df.limit(5).show()\n",
    "df.orderBy(expr(\"count\").desc()).limit(6).show()"
   ]
  },
  {
   "cell_type": "markdown",
   "metadata": {
    "application/vnd.databricks.v1+cell": {
     "inputWidgets": {},
     "nuid": "e1761802-8d45-46e3-99b3-635688ff9960",
     "showTitle": false,
     "title": ""
    }
   },
   "source": [
    "##### Repartition and Coalesce\n",
    "\n",
    "Repartition will incur a full shuffle of the data, regardless of whether or not one is necessary. This means that you should typically only repartition when the future number of partitions is greater than your current number of partitions or when you are looking to partition by a set of columns."
   ]
  },
  {
   "cell_type": "code",
   "execution_count": 66,
   "metadata": {
    "application/vnd.databricks.v1+cell": {
     "inputWidgets": {},
     "nuid": "b4b30c17-c2b5-4e9c-baee-78a7c167835e",
     "showTitle": false,
     "title": ""
    }
   },
   "outputs": [
    {
     "data": {
      "text/plain": [
       "1"
      ]
     },
     "execution_count": 66,
     "metadata": {},
     "output_type": "execute_result"
    }
   ],
   "source": [
    "df.rdd.getNumPartitions()"
   ]
  },
  {
   "cell_type": "code",
   "execution_count": 67,
   "metadata": {
    "application/vnd.databricks.v1+cell": {
     "inputWidgets": {},
     "nuid": "3735f79f-d135-4693-a156-e6cc9582c9b8",
     "showTitle": false,
     "title": ""
    }
   },
   "outputs": [
    {
     "data": {
      "text/plain": [
       "DataFrame[DEST_COUNTRY_NAME: string, ORIGIN_COUNTRY_NAME: string, count: bigint]"
      ]
     },
     "execution_count": 67,
     "metadata": {},
     "output_type": "execute_result"
    }
   ],
   "source": [
    "df.repartition(5)"
   ]
  },
  {
   "cell_type": "markdown",
   "metadata": {
    "application/vnd.databricks.v1+cell": {
     "inputWidgets": {},
     "nuid": "aef0c053-6c81-4068-84d3-5026a321c81c",
     "showTitle": false,
     "title": ""
    }
   },
   "source": [
    "If we know we are going to be filtering by a certain column often, it can be worth repartitioning based on that column."
   ]
  },
  {
   "cell_type": "code",
   "execution_count": 69,
   "metadata": {
    "application/vnd.databricks.v1+cell": {
     "inputWidgets": {},
     "nuid": "d224e5a1-6d45-4c04-88b2-731a5b91f28a",
     "showTitle": false,
     "title": ""
    }
   },
   "outputs": [
    {
     "data": {
      "text/plain": [
       "DataFrame[DEST_COUNTRY_NAME: string, ORIGIN_COUNTRY_NAME: string, count: bigint]"
      ]
     },
     "execution_count": 69,
     "metadata": {},
     "output_type": "execute_result"
    }
   ],
   "source": [
    "df.repartition(col(\"DEST_COUNTRY_NAME\"))"
   ]
  },
  {
   "cell_type": "markdown",
   "metadata": {
    "application/vnd.databricks.v1+cell": {
     "inputWidgets": {},
     "nuid": "976378e3-1a54-465a-a9b2-3124a587462f",
     "showTitle": false,
     "title": ""
    }
   },
   "source": [
    "We can optionally specify the number of partitions we would like too."
   ]
  },
  {
   "cell_type": "code",
   "execution_count": 70,
   "metadata": {
    "application/vnd.databricks.v1+cell": {
     "inputWidgets": {},
     "nuid": "13960d75-f1af-4247-b122-3f645867ccc1",
     "showTitle": false,
     "title": ""
    }
   },
   "outputs": [
    {
     "data": {
      "text/plain": [
       "DataFrame[DEST_COUNTRY_NAME: string, ORIGIN_COUNTRY_NAME: string, count: bigint]"
      ]
     },
     "execution_count": 70,
     "metadata": {},
     "output_type": "execute_result"
    }
   ],
   "source": [
    "df.repartition(5, col(\"DEST_COUNTRY_NAME\"))"
   ]
  },
  {
   "cell_type": "markdown",
   "metadata": {
    "application/vnd.databricks.v1+cell": {
     "inputWidgets": {},
     "nuid": "761e9a45-d547-4828-8a4a-bb6f9fda37a0",
     "showTitle": false,
     "title": ""
    }
   },
   "source": [
    "**Coalesce** on the other hand will not incur a full shuffle and will try to combine partitions. This operation will shuffle\n",
    "our data into 5 partitions based on the destination country name, then coalesce them (without a full shuffle)."
   ]
  },
  {
   "cell_type": "code",
   "execution_count": 71,
   "metadata": {
    "application/vnd.databricks.v1+cell": {
     "inputWidgets": {},
     "nuid": "6478d591-1895-4c48-b8ad-f856bef3fed1",
     "showTitle": false,
     "title": ""
    }
   },
   "outputs": [
    {
     "data": {
      "text/plain": [
       "DataFrame[DEST_COUNTRY_NAME: string, ORIGIN_COUNTRY_NAME: string, count: bigint]"
      ]
     },
     "execution_count": 71,
     "metadata": {},
     "output_type": "execute_result"
    }
   ],
   "source": [
    "df.repartition(5, col(\"DEST_COUNTRY_NAME\")).coalesce(2)"
   ]
  },
  {
   "cell_type": "markdown",
   "metadata": {
    "application/vnd.databricks.v1+cell": {
     "inputWidgets": {},
     "nuid": "f81b269b-e7e9-4dc9-917c-5b6e32c85248",
     "showTitle": false,
     "title": ""
    }
   },
   "source": [
    "###### Collecting Rows to the Driver\n",
    "Spark has a Driver that maintains cluster information and runs user code. This means that when we call some method to collect data, this is collected to the Spark Driver.\n",
    "\n",
    "* **collect** gets all data from the entire DataFrame\n",
    "* **take** selects the first N rows\n",
    "* **show** prints out a number of rows nicely."
   ]
  },
  {
   "cell_type": "code",
   "execution_count": 74,
   "metadata": {
    "application/vnd.databricks.v1+cell": {
     "inputWidgets": {},
     "nuid": "449af65f-d665-4a5e-80ef-144404a1de1e",
     "showTitle": false,
     "title": ""
    }
   },
   "outputs": [
    {
     "name": "stdout",
     "output_type": "stream",
     "text": [
      "+-----------------+-------------------+-----+\n",
      "|DEST_COUNTRY_NAME|ORIGIN_COUNTRY_NAME|count|\n",
      "+-----------------+-------------------+-----+\n",
      "|    United States|            Romania|   15|\n",
      "|    United States|            Croatia|    1|\n",
      "|    United States|            Ireland|  344|\n",
      "|            Egypt|      United States|   15|\n",
      "|    United States|              India|   62|\n",
      "|    United States|          Singapore|    1|\n",
      "|    United States|            Grenada|   62|\n",
      "|       Costa Rica|      United States|  588|\n",
      "|          Senegal|      United States|   40|\n",
      "|          Moldova|      United States|    1|\n",
      "+-----------------+-------------------+-----+\n",
      "\n"
     ]
    }
   ],
   "source": [
    "collectDF = df.limit(10)\n",
    "collectDF.take(5) # take works with an Integer count\n",
    "collectDF.show() # this prints it out nicely"
   ]
  },
  {
   "cell_type": "code",
   "execution_count": 75,
   "metadata": {
    "application/vnd.databricks.v1+cell": {
     "inputWidgets": {},
     "nuid": "940b7146-b01a-4aad-b459-a8b807a8ea1d",
     "showTitle": false,
     "title": ""
    }
   },
   "outputs": [
    {
     "name": "stdout",
     "output_type": "stream",
     "text": [
      "+-----------------+-------------------+-----+\n",
      "|DEST_COUNTRY_NAME|ORIGIN_COUNTRY_NAME|count|\n",
      "+-----------------+-------------------+-----+\n",
      "|United States    |Romania            |15   |\n",
      "|United States    |Croatia            |1    |\n",
      "|United States    |Ireland            |344  |\n",
      "|Egypt            |United States      |15   |\n",
      "|United States    |India              |62   |\n",
      "+-----------------+-------------------+-----+\n",
      "only showing top 5 rows\n",
      "\n"
     ]
    },
    {
     "data": {
      "text/plain": [
       "[Row(DEST_COUNTRY_NAME='United States', ORIGIN_COUNTRY_NAME='Romania', count=15),\n",
       " Row(DEST_COUNTRY_NAME='United States', ORIGIN_COUNTRY_NAME='Croatia', count=1),\n",
       " Row(DEST_COUNTRY_NAME='United States', ORIGIN_COUNTRY_NAME='Ireland', count=344),\n",
       " Row(DEST_COUNTRY_NAME='Egypt', ORIGIN_COUNTRY_NAME='United States', count=15),\n",
       " Row(DEST_COUNTRY_NAME='United States', ORIGIN_COUNTRY_NAME='India', count=62),\n",
       " Row(DEST_COUNTRY_NAME='United States', ORIGIN_COUNTRY_NAME='Singapore', count=1),\n",
       " Row(DEST_COUNTRY_NAME='United States', ORIGIN_COUNTRY_NAME='Grenada', count=62),\n",
       " Row(DEST_COUNTRY_NAME='Costa Rica', ORIGIN_COUNTRY_NAME='United States', count=588),\n",
       " Row(DEST_COUNTRY_NAME='Senegal', ORIGIN_COUNTRY_NAME='United States', count=40),\n",
       " Row(DEST_COUNTRY_NAME='Moldova', ORIGIN_COUNTRY_NAME='United States', count=1)]"
      ]
     },
     "execution_count": 75,
     "metadata": {},
     "output_type": "execute_result"
    }
   ],
   "source": [
    "collectDF.show(5, False)\n",
    "collectDF.collect()"
   ]
  },
  {
   "cell_type": "markdown",
   "metadata": {
    "application/vnd.databricks.v1+cell": {
     "inputWidgets": {},
     "nuid": "837454d1-a86e-46e2-b965-d773ea7db53d",
     "showTitle": false,
     "title": ""
    }
   },
   "source": [
    "Please use ** SPARK Definitive Guide** to understand more"
   ]
  }
 ],
 "metadata": {
  "application/vnd.databricks.v1+notebook": {
   "dashboards": [],
   "language": "python",
   "notebookMetadata": {
    "pythonIndentUnit": 2
   },
   "notebookName": "Chap 01 to 05 -SPARK and AzureDB basics",
   "notebookOrigID": 3965567339510831,
   "widgets": {}
  },
  "kernelspec": {
   "display_name": "Python 3 (ipykernel)",
   "language": "python",
   "name": "python3"
  },
  "language_info": {
   "codemirror_mode": {
    "name": "ipython",
    "version": 3
   },
   "file_extension": ".py",
   "mimetype": "text/x-python",
   "name": "python",
   "nbconvert_exporter": "python",
   "pygments_lexer": "ipython3",
   "version": "3.10.8"
  }
 },
 "nbformat": 4,
 "nbformat_minor": 1
}
